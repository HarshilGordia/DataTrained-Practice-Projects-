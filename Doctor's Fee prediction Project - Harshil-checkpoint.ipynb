{
 "cells": [
  {
   "cell_type": "code",
   "execution_count": 1,
   "id": "dda4b148",
   "metadata": {},
   "outputs": [],
   "source": [
    "import pandas as pd\n",
    "import numpy as np\n",
    "import seaborn as sns \n",
    "import matplotlib.pyplot as plt \n",
    "import warnings \n",
    "warnings.filterwarnings('ignore')"
   ]
  },
  {
   "cell_type": "code",
   "execution_count": 2,
   "id": "630baa9f",
   "metadata": {},
   "outputs": [],
   "source": [
    "df_train=pd.read_excel(r\"C:\\Users\\Harshil Goradia\\Downloads\\Doctor_fee_consultation (1)\\Final Participant Data Folder\\Final_Train.xlsx\")\n",
    "df_test=pd.read_excel(r\"C:\\Users\\Harshil Goradia\\Downloads\\Doctor_fee_consultation (1)\\Final Participant Data Folder\\Final_Test.xlsx\")"
   ]
  },
  {
   "cell_type": "code",
   "execution_count": 3,
   "id": "11520e13",
   "metadata": {},
   "outputs": [
    {
     "data": {
      "text/html": [
       "<div>\n",
       "<style scoped>\n",
       "    .dataframe tbody tr th:only-of-type {\n",
       "        vertical-align: middle;\n",
       "    }\n",
       "\n",
       "    .dataframe tbody tr th {\n",
       "        vertical-align: top;\n",
       "    }\n",
       "\n",
       "    .dataframe thead th {\n",
       "        text-align: right;\n",
       "    }\n",
       "</style>\n",
       "<table border=\"1\" class=\"dataframe\">\n",
       "  <thead>\n",
       "    <tr style=\"text-align: right;\">\n",
       "      <th></th>\n",
       "      <th>Qualification</th>\n",
       "      <th>Experience</th>\n",
       "      <th>Rating</th>\n",
       "      <th>Place</th>\n",
       "      <th>Profile</th>\n",
       "      <th>Miscellaneous_Info</th>\n",
       "      <th>Fees</th>\n",
       "    </tr>\n",
       "  </thead>\n",
       "  <tbody>\n",
       "    <tr>\n",
       "      <th>0</th>\n",
       "      <td>BHMS, MD - Homeopathy</td>\n",
       "      <td>24 years experience</td>\n",
       "      <td>100%</td>\n",
       "      <td>Kakkanad, Ernakulam</td>\n",
       "      <td>Homeopath</td>\n",
       "      <td>100% 16 Feedback Kakkanad, Ernakulam</td>\n",
       "      <td>100</td>\n",
       "    </tr>\n",
       "    <tr>\n",
       "      <th>1</th>\n",
       "      <td>BAMS, MD - Ayurveda Medicine</td>\n",
       "      <td>12 years experience</td>\n",
       "      <td>98%</td>\n",
       "      <td>Whitefield, Bangalore</td>\n",
       "      <td>Ayurveda</td>\n",
       "      <td>98% 76 Feedback Whitefield, Bangalore</td>\n",
       "      <td>350</td>\n",
       "    </tr>\n",
       "    <tr>\n",
       "      <th>2</th>\n",
       "      <td>MBBS, MS - Otorhinolaryngology</td>\n",
       "      <td>9 years experience</td>\n",
       "      <td>NaN</td>\n",
       "      <td>Mathikere - BEL, Bangalore</td>\n",
       "      <td>ENT Specialist</td>\n",
       "      <td>NaN</td>\n",
       "      <td>300</td>\n",
       "    </tr>\n",
       "    <tr>\n",
       "      <th>3</th>\n",
       "      <td>BSc - Zoology, BAMS</td>\n",
       "      <td>12 years experience</td>\n",
       "      <td>NaN</td>\n",
       "      <td>Bannerghatta Road, Bangalore</td>\n",
       "      <td>Ayurveda</td>\n",
       "      <td>Bannerghatta Road, Bangalore ₹250 Available on...</td>\n",
       "      <td>250</td>\n",
       "    </tr>\n",
       "    <tr>\n",
       "      <th>4</th>\n",
       "      <td>BAMS</td>\n",
       "      <td>20 years experience</td>\n",
       "      <td>100%</td>\n",
       "      <td>Keelkattalai, Chennai</td>\n",
       "      <td>Ayurveda</td>\n",
       "      <td>100% 4 Feedback Keelkattalai, Chennai</td>\n",
       "      <td>250</td>\n",
       "    </tr>\n",
       "  </tbody>\n",
       "</table>\n",
       "</div>"
      ],
      "text/plain": [
       "                    Qualification           Experience Rating  \\\n",
       "0           BHMS, MD - Homeopathy  24 years experience   100%   \n",
       "1    BAMS, MD - Ayurveda Medicine  12 years experience    98%   \n",
       "2  MBBS, MS - Otorhinolaryngology   9 years experience    NaN   \n",
       "3             BSc - Zoology, BAMS  12 years experience    NaN   \n",
       "4                            BAMS  20 years experience   100%   \n",
       "\n",
       "                          Place         Profile  \\\n",
       "0           Kakkanad, Ernakulam       Homeopath   \n",
       "1         Whitefield, Bangalore        Ayurveda   \n",
       "2    Mathikere - BEL, Bangalore  ENT Specialist   \n",
       "3  Bannerghatta Road, Bangalore        Ayurveda   \n",
       "4         Keelkattalai, Chennai        Ayurveda   \n",
       "\n",
       "                                  Miscellaneous_Info  Fees  \n",
       "0               100% 16 Feedback Kakkanad, Ernakulam   100  \n",
       "1              98% 76 Feedback Whitefield, Bangalore   350  \n",
       "2                                                NaN   300  \n",
       "3  Bannerghatta Road, Bangalore ₹250 Available on...   250  \n",
       "4              100% 4 Feedback Keelkattalai, Chennai   250  "
      ]
     },
     "execution_count": 3,
     "metadata": {},
     "output_type": "execute_result"
    }
   ],
   "source": [
    "df_train.head()"
   ]
  },
  {
   "cell_type": "code",
   "execution_count": 4,
   "id": "4b5448fe",
   "metadata": {},
   "outputs": [
    {
     "data": {
      "text/plain": [
       "array([100, 350, 300, 250, 200, 700, 500, 400, 150, 650, 600,  50, 800,\n",
       "       750, 450,  80,  60, 550, 900, 950, 430, 130, 630, 499, 260,  70,\n",
       "        10, 299, 230, 380,   5, 280,  40,  30, 180, 920, 125, 850,  20,\n",
       "       220], dtype=int64)"
      ]
     },
     "execution_count": 4,
     "metadata": {},
     "output_type": "execute_result"
    }
   ],
   "source": [
    "df_train['Fees'].unique()"
   ]
  },
  {
   "cell_type": "code",
   "execution_count": 5,
   "id": "25939b18",
   "metadata": {},
   "outputs": [
    {
     "data": {
      "text/html": [
       "<div>\n",
       "<style scoped>\n",
       "    .dataframe tbody tr th:only-of-type {\n",
       "        vertical-align: middle;\n",
       "    }\n",
       "\n",
       "    .dataframe tbody tr th {\n",
       "        vertical-align: top;\n",
       "    }\n",
       "\n",
       "    .dataframe thead th {\n",
       "        text-align: right;\n",
       "    }\n",
       "</style>\n",
       "<table border=\"1\" class=\"dataframe\">\n",
       "  <thead>\n",
       "    <tr style=\"text-align: right;\">\n",
       "      <th></th>\n",
       "      <th>Qualification</th>\n",
       "      <th>Experience</th>\n",
       "      <th>Rating</th>\n",
       "      <th>Place</th>\n",
       "      <th>Profile</th>\n",
       "      <th>Miscellaneous_Info</th>\n",
       "    </tr>\n",
       "  </thead>\n",
       "  <tbody>\n",
       "    <tr>\n",
       "      <th>0</th>\n",
       "      <td>MBBS</td>\n",
       "      <td>35 years experience</td>\n",
       "      <td>NaN</td>\n",
       "      <td>Ghatkopar East, Mumbai</td>\n",
       "      <td>General Medicine</td>\n",
       "      <td>NaN</td>\n",
       "    </tr>\n",
       "    <tr>\n",
       "      <th>1</th>\n",
       "      <td>MBBS, Diploma in Otorhinolaryngology (DLO)</td>\n",
       "      <td>31 years experience</td>\n",
       "      <td>NaN</td>\n",
       "      <td>West Marredpally, Hyderabad</td>\n",
       "      <td>ENT Specialist</td>\n",
       "      <td>NaN</td>\n",
       "    </tr>\n",
       "    <tr>\n",
       "      <th>2</th>\n",
       "      <td>MBBS, DDVL</td>\n",
       "      <td>40 years experience</td>\n",
       "      <td>70%</td>\n",
       "      <td>KK Nagar, Chennai</td>\n",
       "      <td>Dermatologists</td>\n",
       "      <td>70% 4 Feedback KK Nagar, Chennai</td>\n",
       "    </tr>\n",
       "    <tr>\n",
       "      <th>3</th>\n",
       "      <td>BAMS</td>\n",
       "      <td>0 years experience</td>\n",
       "      <td>NaN</td>\n",
       "      <td>New Ashok Nagar, Delhi</td>\n",
       "      <td>Ayurveda</td>\n",
       "      <td>NaN</td>\n",
       "    </tr>\n",
       "    <tr>\n",
       "      <th>4</th>\n",
       "      <td>BDS, MDS - Conservative Dentistry &amp; Endodontics</td>\n",
       "      <td>16 years experience</td>\n",
       "      <td>100%</td>\n",
       "      <td>Kanakpura Road, Bangalore</td>\n",
       "      <td>Dentist</td>\n",
       "      <td>General Dentistry Conservative Dentistry Cosme...</td>\n",
       "    </tr>\n",
       "  </tbody>\n",
       "</table>\n",
       "</div>"
      ],
      "text/plain": [
       "                                     Qualification           Experience  \\\n",
       "0                                             MBBS  35 years experience   \n",
       "1       MBBS, Diploma in Otorhinolaryngology (DLO)  31 years experience   \n",
       "2                                       MBBS, DDVL  40 years experience   \n",
       "3                                             BAMS   0 years experience   \n",
       "4  BDS, MDS - Conservative Dentistry & Endodontics  16 years experience   \n",
       "\n",
       "  Rating                        Place           Profile  \\\n",
       "0    NaN       Ghatkopar East, Mumbai  General Medicine   \n",
       "1    NaN  West Marredpally, Hyderabad    ENT Specialist   \n",
       "2    70%            KK Nagar, Chennai    Dermatologists   \n",
       "3    NaN       New Ashok Nagar, Delhi          Ayurveda   \n",
       "4   100%    Kanakpura Road, Bangalore           Dentist   \n",
       "\n",
       "                                  Miscellaneous_Info  \n",
       "0                                                NaN  \n",
       "1                                                NaN  \n",
       "2                   70% 4 Feedback KK Nagar, Chennai  \n",
       "3                                                NaN  \n",
       "4  General Dentistry Conservative Dentistry Cosme...  "
      ]
     },
     "execution_count": 5,
     "metadata": {},
     "output_type": "execute_result"
    }
   ],
   "source": [
    "df_test.head()"
   ]
  },
  {
   "cell_type": "code",
   "execution_count": 6,
   "id": "3a894d25",
   "metadata": {},
   "outputs": [
    {
     "data": {
      "text/html": [
       "<div>\n",
       "<style scoped>\n",
       "    .dataframe tbody tr th:only-of-type {\n",
       "        vertical-align: middle;\n",
       "    }\n",
       "\n",
       "    .dataframe tbody tr th {\n",
       "        vertical-align: top;\n",
       "    }\n",
       "\n",
       "    .dataframe thead th {\n",
       "        text-align: right;\n",
       "    }\n",
       "</style>\n",
       "<table border=\"1\" class=\"dataframe\">\n",
       "  <thead>\n",
       "    <tr style=\"text-align: right;\">\n",
       "      <th></th>\n",
       "      <th>Qualification</th>\n",
       "      <th>Experience</th>\n",
       "      <th>Rating</th>\n",
       "      <th>Place</th>\n",
       "      <th>Profile</th>\n",
       "      <th>Miscellaneous_Info</th>\n",
       "      <th>Fees</th>\n",
       "    </tr>\n",
       "  </thead>\n",
       "  <tbody>\n",
       "    <tr>\n",
       "      <th>5956</th>\n",
       "      <td>MBBS, MS - ENT</td>\n",
       "      <td>19 years experience</td>\n",
       "      <td>98%</td>\n",
       "      <td>Basavanagudi, Bangalore</td>\n",
       "      <td>ENT Specialist</td>\n",
       "      <td>98% 45 Feedback Basavanagudi, Bangalore</td>\n",
       "      <td>300</td>\n",
       "    </tr>\n",
       "    <tr>\n",
       "      <th>5957</th>\n",
       "      <td>MBBS</td>\n",
       "      <td>33 years experience</td>\n",
       "      <td>NaN</td>\n",
       "      <td>Nungambakkam, Chennai</td>\n",
       "      <td>General Medicine</td>\n",
       "      <td>NaN</td>\n",
       "      <td>100</td>\n",
       "    </tr>\n",
       "    <tr>\n",
       "      <th>5958</th>\n",
       "      <td>MBBS</td>\n",
       "      <td>41 years experience</td>\n",
       "      <td>97%</td>\n",
       "      <td>Greater Kailash Part 2, Delhi</td>\n",
       "      <td>General Medicine</td>\n",
       "      <td>97% 11 Feedback Greater Kailash Part 2, Delhi</td>\n",
       "      <td>600</td>\n",
       "    </tr>\n",
       "    <tr>\n",
       "      <th>5959</th>\n",
       "      <td>MBBS, MD - General Medicine</td>\n",
       "      <td>15 years experience</td>\n",
       "      <td>90%</td>\n",
       "      <td>Vileparle West, Mumbai</td>\n",
       "      <td>General Medicine</td>\n",
       "      <td>General Medical Consultation Viral Fever Treat...</td>\n",
       "      <td>100</td>\n",
       "    </tr>\n",
       "    <tr>\n",
       "      <th>5960</th>\n",
       "      <td>BDS, MDS - Orthodontics</td>\n",
       "      <td>17 years experience</td>\n",
       "      <td>100%</td>\n",
       "      <td>Pitampura, Delhi</td>\n",
       "      <td>Dentist</td>\n",
       "      <td>Acrylic Partial Denture Crowns and Bridges Fix...</td>\n",
       "      <td>200</td>\n",
       "    </tr>\n",
       "  </tbody>\n",
       "</table>\n",
       "</div>"
      ],
      "text/plain": [
       "                    Qualification           Experience Rating  \\\n",
       "5956               MBBS, MS - ENT  19 years experience    98%   \n",
       "5957                         MBBS  33 years experience    NaN   \n",
       "5958                         MBBS  41 years experience    97%   \n",
       "5959  MBBS, MD - General Medicine  15 years experience    90%   \n",
       "5960      BDS, MDS - Orthodontics  17 years experience   100%   \n",
       "\n",
       "                              Place           Profile  \\\n",
       "5956        Basavanagudi, Bangalore    ENT Specialist   \n",
       "5957          Nungambakkam, Chennai  General Medicine   \n",
       "5958  Greater Kailash Part 2, Delhi  General Medicine   \n",
       "5959         Vileparle West, Mumbai  General Medicine   \n",
       "5960               Pitampura, Delhi           Dentist   \n",
       "\n",
       "                                     Miscellaneous_Info  Fees  \n",
       "5956            98% 45 Feedback Basavanagudi, Bangalore   300  \n",
       "5957                                                NaN   100  \n",
       "5958      97% 11 Feedback Greater Kailash Part 2, Delhi   600  \n",
       "5959  General Medical Consultation Viral Fever Treat...   100  \n",
       "5960  Acrylic Partial Denture Crowns and Bridges Fix...   200  "
      ]
     },
     "execution_count": 6,
     "metadata": {},
     "output_type": "execute_result"
    }
   ],
   "source": [
    "df_train.tail()"
   ]
  },
  {
   "cell_type": "code",
   "execution_count": 7,
   "id": "6b5f6c36",
   "metadata": {},
   "outputs": [
    {
     "data": {
      "text/plain": [
       "(5961, 7)"
      ]
     },
     "execution_count": 7,
     "metadata": {},
     "output_type": "execute_result"
    }
   ],
   "source": [
    "df_train.shape"
   ]
  },
  {
   "cell_type": "code",
   "execution_count": 8,
   "id": "62086691",
   "metadata": {},
   "outputs": [
    {
     "data": {
      "text/plain": [
       "(1987, 6)"
      ]
     },
     "execution_count": 8,
     "metadata": {},
     "output_type": "execute_result"
    }
   ],
   "source": [
    "df_test.shape"
   ]
  },
  {
   "cell_type": "code",
   "execution_count": 9,
   "id": "0749449a",
   "metadata": {},
   "outputs": [
    {
     "data": {
      "text/plain": [
       "Qualification         object\n",
       "Experience            object\n",
       "Rating                object\n",
       "Place                 object\n",
       "Profile               object\n",
       "Miscellaneous_Info    object\n",
       "Fees                   int64\n",
       "dtype: object"
      ]
     },
     "execution_count": 9,
     "metadata": {},
     "output_type": "execute_result"
    }
   ],
   "source": [
    "df_train.dtypes"
   ]
  },
  {
   "cell_type": "code",
   "execution_count": 10,
   "id": "407352c3",
   "metadata": {},
   "outputs": [
    {
     "data": {
      "text/plain": [
       "Qualification         object\n",
       "Experience            object\n",
       "Rating                object\n",
       "Place                 object\n",
       "Profile               object\n",
       "Miscellaneous_Info    object\n",
       "dtype: object"
      ]
     },
     "execution_count": 10,
     "metadata": {},
     "output_type": "execute_result"
    }
   ],
   "source": [
    "df_test.dtypes"
   ]
  },
  {
   "cell_type": "code",
   "execution_count": 11,
   "id": "d98f3325",
   "metadata": {},
   "outputs": [
    {
     "data": {
      "text/html": [
       "<div>\n",
       "<style scoped>\n",
       "    .dataframe tbody tr th:only-of-type {\n",
       "        vertical-align: middle;\n",
       "    }\n",
       "\n",
       "    .dataframe tbody tr th {\n",
       "        vertical-align: top;\n",
       "    }\n",
       "\n",
       "    .dataframe thead th {\n",
       "        text-align: right;\n",
       "    }\n",
       "</style>\n",
       "<table border=\"1\" class=\"dataframe\">\n",
       "  <thead>\n",
       "    <tr style=\"text-align: right;\">\n",
       "      <th></th>\n",
       "      <th>Qualification</th>\n",
       "      <th>Experience</th>\n",
       "      <th>Rating</th>\n",
       "      <th>Place</th>\n",
       "      <th>Profile</th>\n",
       "      <th>Miscellaneous_Info</th>\n",
       "      <th>Fees</th>\n",
       "    </tr>\n",
       "  </thead>\n",
       "  <tbody>\n",
       "    <tr>\n",
       "      <th>0</th>\n",
       "      <td>False</td>\n",
       "      <td>False</td>\n",
       "      <td>False</td>\n",
       "      <td>False</td>\n",
       "      <td>False</td>\n",
       "      <td>False</td>\n",
       "      <td>False</td>\n",
       "    </tr>\n",
       "    <tr>\n",
       "      <th>1</th>\n",
       "      <td>False</td>\n",
       "      <td>False</td>\n",
       "      <td>False</td>\n",
       "      <td>False</td>\n",
       "      <td>False</td>\n",
       "      <td>False</td>\n",
       "      <td>False</td>\n",
       "    </tr>\n",
       "    <tr>\n",
       "      <th>2</th>\n",
       "      <td>False</td>\n",
       "      <td>False</td>\n",
       "      <td>True</td>\n",
       "      <td>False</td>\n",
       "      <td>False</td>\n",
       "      <td>True</td>\n",
       "      <td>False</td>\n",
       "    </tr>\n",
       "    <tr>\n",
       "      <th>3</th>\n",
       "      <td>False</td>\n",
       "      <td>False</td>\n",
       "      <td>True</td>\n",
       "      <td>False</td>\n",
       "      <td>False</td>\n",
       "      <td>False</td>\n",
       "      <td>False</td>\n",
       "    </tr>\n",
       "    <tr>\n",
       "      <th>4</th>\n",
       "      <td>False</td>\n",
       "      <td>False</td>\n",
       "      <td>False</td>\n",
       "      <td>False</td>\n",
       "      <td>False</td>\n",
       "      <td>False</td>\n",
       "      <td>False</td>\n",
       "    </tr>\n",
       "    <tr>\n",
       "      <th>...</th>\n",
       "      <td>...</td>\n",
       "      <td>...</td>\n",
       "      <td>...</td>\n",
       "      <td>...</td>\n",
       "      <td>...</td>\n",
       "      <td>...</td>\n",
       "      <td>...</td>\n",
       "    </tr>\n",
       "    <tr>\n",
       "      <th>5956</th>\n",
       "      <td>False</td>\n",
       "      <td>False</td>\n",
       "      <td>False</td>\n",
       "      <td>False</td>\n",
       "      <td>False</td>\n",
       "      <td>False</td>\n",
       "      <td>False</td>\n",
       "    </tr>\n",
       "    <tr>\n",
       "      <th>5957</th>\n",
       "      <td>False</td>\n",
       "      <td>False</td>\n",
       "      <td>True</td>\n",
       "      <td>False</td>\n",
       "      <td>False</td>\n",
       "      <td>True</td>\n",
       "      <td>False</td>\n",
       "    </tr>\n",
       "    <tr>\n",
       "      <th>5958</th>\n",
       "      <td>False</td>\n",
       "      <td>False</td>\n",
       "      <td>False</td>\n",
       "      <td>False</td>\n",
       "      <td>False</td>\n",
       "      <td>False</td>\n",
       "      <td>False</td>\n",
       "    </tr>\n",
       "    <tr>\n",
       "      <th>5959</th>\n",
       "      <td>False</td>\n",
       "      <td>False</td>\n",
       "      <td>False</td>\n",
       "      <td>False</td>\n",
       "      <td>False</td>\n",
       "      <td>False</td>\n",
       "      <td>False</td>\n",
       "    </tr>\n",
       "    <tr>\n",
       "      <th>5960</th>\n",
       "      <td>False</td>\n",
       "      <td>False</td>\n",
       "      <td>False</td>\n",
       "      <td>False</td>\n",
       "      <td>False</td>\n",
       "      <td>False</td>\n",
       "      <td>False</td>\n",
       "    </tr>\n",
       "  </tbody>\n",
       "</table>\n",
       "<p>5961 rows × 7 columns</p>\n",
       "</div>"
      ],
      "text/plain": [
       "      Qualification  Experience  Rating  Place  Profile  Miscellaneous_Info  \\\n",
       "0             False       False   False  False    False               False   \n",
       "1             False       False   False  False    False               False   \n",
       "2             False       False    True  False    False                True   \n",
       "3             False       False    True  False    False               False   \n",
       "4             False       False   False  False    False               False   \n",
       "...             ...         ...     ...    ...      ...                 ...   \n",
       "5956          False       False   False  False    False               False   \n",
       "5957          False       False    True  False    False                True   \n",
       "5958          False       False   False  False    False               False   \n",
       "5959          False       False   False  False    False               False   \n",
       "5960          False       False   False  False    False               False   \n",
       "\n",
       "       Fees  \n",
       "0     False  \n",
       "1     False  \n",
       "2     False  \n",
       "3     False  \n",
       "4     False  \n",
       "...     ...  \n",
       "5956  False  \n",
       "5957  False  \n",
       "5958  False  \n",
       "5959  False  \n",
       "5960  False  \n",
       "\n",
       "[5961 rows x 7 columns]"
      ]
     },
     "execution_count": 11,
     "metadata": {},
     "output_type": "execute_result"
    }
   ],
   "source": [
    "df_train.isnull()"
   ]
  },
  {
   "cell_type": "code",
   "execution_count": 12,
   "id": "592ad603",
   "metadata": {},
   "outputs": [
    {
     "data": {
      "text/html": [
       "<div>\n",
       "<style scoped>\n",
       "    .dataframe tbody tr th:only-of-type {\n",
       "        vertical-align: middle;\n",
       "    }\n",
       "\n",
       "    .dataframe tbody tr th {\n",
       "        vertical-align: top;\n",
       "    }\n",
       "\n",
       "    .dataframe thead th {\n",
       "        text-align: right;\n",
       "    }\n",
       "</style>\n",
       "<table border=\"1\" class=\"dataframe\">\n",
       "  <thead>\n",
       "    <tr style=\"text-align: right;\">\n",
       "      <th></th>\n",
       "      <th>Qualification</th>\n",
       "      <th>Experience</th>\n",
       "      <th>Rating</th>\n",
       "      <th>Place</th>\n",
       "      <th>Profile</th>\n",
       "      <th>Miscellaneous_Info</th>\n",
       "    </tr>\n",
       "  </thead>\n",
       "  <tbody>\n",
       "    <tr>\n",
       "      <th>0</th>\n",
       "      <td>False</td>\n",
       "      <td>False</td>\n",
       "      <td>True</td>\n",
       "      <td>False</td>\n",
       "      <td>False</td>\n",
       "      <td>True</td>\n",
       "    </tr>\n",
       "    <tr>\n",
       "      <th>1</th>\n",
       "      <td>False</td>\n",
       "      <td>False</td>\n",
       "      <td>True</td>\n",
       "      <td>False</td>\n",
       "      <td>False</td>\n",
       "      <td>True</td>\n",
       "    </tr>\n",
       "    <tr>\n",
       "      <th>2</th>\n",
       "      <td>False</td>\n",
       "      <td>False</td>\n",
       "      <td>False</td>\n",
       "      <td>False</td>\n",
       "      <td>False</td>\n",
       "      <td>False</td>\n",
       "    </tr>\n",
       "    <tr>\n",
       "      <th>3</th>\n",
       "      <td>False</td>\n",
       "      <td>False</td>\n",
       "      <td>True</td>\n",
       "      <td>False</td>\n",
       "      <td>False</td>\n",
       "      <td>True</td>\n",
       "    </tr>\n",
       "    <tr>\n",
       "      <th>4</th>\n",
       "      <td>False</td>\n",
       "      <td>False</td>\n",
       "      <td>False</td>\n",
       "      <td>False</td>\n",
       "      <td>False</td>\n",
       "      <td>False</td>\n",
       "    </tr>\n",
       "    <tr>\n",
       "      <th>...</th>\n",
       "      <td>...</td>\n",
       "      <td>...</td>\n",
       "      <td>...</td>\n",
       "      <td>...</td>\n",
       "      <td>...</td>\n",
       "      <td>...</td>\n",
       "    </tr>\n",
       "    <tr>\n",
       "      <th>1982</th>\n",
       "      <td>False</td>\n",
       "      <td>False</td>\n",
       "      <td>True</td>\n",
       "      <td>False</td>\n",
       "      <td>False</td>\n",
       "      <td>True</td>\n",
       "    </tr>\n",
       "    <tr>\n",
       "      <th>1983</th>\n",
       "      <td>False</td>\n",
       "      <td>False</td>\n",
       "      <td>True</td>\n",
       "      <td>False</td>\n",
       "      <td>False</td>\n",
       "      <td>True</td>\n",
       "    </tr>\n",
       "    <tr>\n",
       "      <th>1984</th>\n",
       "      <td>False</td>\n",
       "      <td>False</td>\n",
       "      <td>True</td>\n",
       "      <td>False</td>\n",
       "      <td>False</td>\n",
       "      <td>True</td>\n",
       "    </tr>\n",
       "    <tr>\n",
       "      <th>1985</th>\n",
       "      <td>False</td>\n",
       "      <td>False</td>\n",
       "      <td>False</td>\n",
       "      <td>False</td>\n",
       "      <td>False</td>\n",
       "      <td>False</td>\n",
       "    </tr>\n",
       "    <tr>\n",
       "      <th>1986</th>\n",
       "      <td>False</td>\n",
       "      <td>False</td>\n",
       "      <td>True</td>\n",
       "      <td>False</td>\n",
       "      <td>False</td>\n",
       "      <td>False</td>\n",
       "    </tr>\n",
       "  </tbody>\n",
       "</table>\n",
       "<p>1987 rows × 6 columns</p>\n",
       "</div>"
      ],
      "text/plain": [
       "      Qualification  Experience  Rating  Place  Profile  Miscellaneous_Info\n",
       "0             False       False    True  False    False                True\n",
       "1             False       False    True  False    False                True\n",
       "2             False       False   False  False    False               False\n",
       "3             False       False    True  False    False                True\n",
       "4             False       False   False  False    False               False\n",
       "...             ...         ...     ...    ...      ...                 ...\n",
       "1982          False       False    True  False    False                True\n",
       "1983          False       False    True  False    False                True\n",
       "1984          False       False    True  False    False                True\n",
       "1985          False       False   False  False    False               False\n",
       "1986          False       False    True  False    False               False\n",
       "\n",
       "[1987 rows x 6 columns]"
      ]
     },
     "execution_count": 12,
     "metadata": {},
     "output_type": "execute_result"
    }
   ],
   "source": [
    "df_test.isnull()"
   ]
  },
  {
   "cell_type": "code",
   "execution_count": 13,
   "id": "f94d9ac3",
   "metadata": {},
   "outputs": [
    {
     "data": {
      "text/plain": [
       "Qualification            0\n",
       "Experience               0\n",
       "Rating                3302\n",
       "Place                   25\n",
       "Profile                  0\n",
       "Miscellaneous_Info    2620\n",
       "Fees                     0\n",
       "dtype: int64"
      ]
     },
     "execution_count": 13,
     "metadata": {},
     "output_type": "execute_result"
    }
   ],
   "source": [
    "df_train.isnull().sum()"
   ]
  },
  {
   "cell_type": "code",
   "execution_count": 14,
   "id": "0769c498",
   "metadata": {},
   "outputs": [
    {
     "data": {
      "text/plain": [
       "Qualification            0\n",
       "Experience               0\n",
       "Rating                1090\n",
       "Place                    6\n",
       "Profile                  0\n",
       "Miscellaneous_Info     834\n",
       "dtype: int64"
      ]
     },
     "execution_count": 14,
     "metadata": {},
     "output_type": "execute_result"
    }
   ],
   "source": [
    "df_test.isnull().sum()"
   ]
  },
  {
   "cell_type": "code",
   "execution_count": 15,
   "id": "35559c4e",
   "metadata": {},
   "outputs": [
    {
     "data": {
      "text/plain": [
       "<AxesSubplot:>"
      ]
     },
     "execution_count": 15,
     "metadata": {},
     "output_type": "execute_result"
    },
    {
     "data": {
      "image/png": "[encoded data removed]",
      "text/plain": [
       "<Figure size 432x288 with 2 Axes>"
      ]
     },
     "metadata": {
      "needs_background": "light"
     },
     "output_type": "display_data"
    }
   ],
   "source": [
    "sns.heatmap(df_train.isnull())"
   ]
  },
  {
   "cell_type": "markdown",
   "id": "81e5f771",
   "metadata": {},
   "source": [
    "There are few null values"
   ]
  },
  {
   "cell_type": "code",
   "execution_count": 16,
   "id": "5ba4dea6",
   "metadata": {},
   "outputs": [
    {
     "data": {
      "text/plain": [
       "<AxesSubplot:>"
      ]
     },
     "execution_count": 16,
     "metadata": {},
     "output_type": "execute_result"
    },
    {
     "data": {
      "image/png": "[encoded data removed]",
      "text/plain": [
       "<Figure size 432x288 with 2 Axes>"
      ]
     },
     "metadata": {
      "needs_background": "light"
     },
     "output_type": "display_data"
    }
   ],
   "source": [
    "sns.heatmap(df_test.isnull())"
   ]
  },
  {
   "cell_type": "markdown",
   "id": "e6c50ae6",
   "metadata": {},
   "source": [
    "There are few outliers present in here"
   ]
  },
  {
   "cell_type": "code",
   "execution_count": 17,
   "id": "0978bbbf",
   "metadata": {},
   "outputs": [],
   "source": [
    "df_train['Rating'].fillna('-99%',inplace=True)\n",
    "df_train['Rating'] = df_train['Rating'].str.slice(stop=-1).astype(int)"
   ]
  },
  {
   "cell_type": "code",
   "execution_count": 18,
   "id": "71bf801b",
   "metadata": {},
   "outputs": [
    {
     "name": "stdout",
     "output_type": "stream",
     "text": [
      "0-9%  1\n",
      "10-19%  0\n",
      "20-29%  0\n",
      "30-39%  3\n",
      "40-49%  4\n",
      "50-59%  12\n",
      "60-69%  35\n",
      "70-79%  83\n",
      "80-89%  233\n",
      "90-99%  1604\n"
     ]
    }
   ],
   "source": [
    "print(\"0-9% \",len(df_train[(df_train['Rating']>0) & (df_train['Rating']<10)]))\n",
    "print(\"10-19% \",len(df_train[(df_train['Rating']>=10) & (df_train['Rating']<20)]))\n",
    "print(\"20-29% \",len(df_train[(df_train['Rating']>=20) & (df_train['Rating']<30)]))\n",
    "print(\"30-39% \",len(df_train[(df_train['Rating']>=30) & (df_train['Rating']<40)]))\n",
    "print(\"40-49% \",len(df_train[(df_train['Rating']>=40) & (df_train['Rating']<50)]))\n",
    "print(\"50-59% \",len(df_train[(df_train['Rating']>=50) & (df_train['Rating']<60)]))\n",
    "print(\"60-69% \",len(df_train[(df_train['Rating']>=60) & (df_train['Rating']<70)]))\n",
    "print(\"70-79% \",len(df_train[(df_train['Rating']>=70) & (df_train['Rating']<80)]))\n",
    "print(\"80-89% \",len(df_train[(df_train['Rating']>=80) & (df_train['Rating']<90)]))\n",
    "print(\"90-99% \",len(df_train[(df_train['Rating']>=90) & (df_train['Rating']<100)]))\n"
   ]
  },
  {
   "cell_type": "code",
   "execution_count": 19,
   "id": "85c62f27",
   "metadata": {},
   "outputs": [],
   "source": [
    "bins = [-99,0,10,20,30,40,50,60,70,80,90,100]\n",
    "labels = [i for i in range(11)]\n",
    "df_train['Rating'] = pd.cut(df_train['Rating'], bins=bins, labels=labels, include_lowest=True)"
   ]
  },
  {
   "cell_type": "code",
   "execution_count": 20,
   "id": "ef127110",
   "metadata": {},
   "outputs": [
    {
     "data": {
      "text/plain": [
       "0     3302\n",
       "1        1\n",
       "2        0\n",
       "3        0\n",
       "4        4\n",
       "5        3\n",
       "6       19\n",
       "7       32\n",
       "8       98\n",
       "9      280\n",
       "10    2222\n",
       "Name: Rating, dtype: int64"
      ]
     },
     "execution_count": 20,
     "metadata": {},
     "output_type": "execute_result"
    }
   ],
   "source": [
    "df_train['Rating'].value_counts().sort_index()"
   ]
  },
  {
   "cell_type": "code",
   "execution_count": 21,
   "id": "ebf54e17",
   "metadata": {},
   "outputs": [],
   "source": [
    "df_test['Rating'].fillna('-99%',inplace=True)\n",
    "df_test['Rating'] = df_test['Rating'].str.slice(stop=-1).astype(int)"
   ]
  },
  {
   "cell_type": "code",
   "execution_count": 22,
   "id": "979cc41a",
   "metadata": {},
   "outputs": [
    {
     "name": "stdout",
     "output_type": "stream",
     "text": [
      "0-9%  0\n",
      "10-19%  0\n",
      "20-29%  0\n",
      "30-39%  0\n",
      "40-49%  0\n",
      "50-59%  5\n",
      "60-69%  14\n",
      "70-79%  24\n",
      "80-89%  86\n",
      "90-99%  545\n"
     ]
    }
   ],
   "source": [
    "print(\"0-9% \",len(df_test[(df_test['Rating']>0) & (df_test['Rating']<10)]))\n",
    "print(\"10-19% \",len(df_test[(df_test['Rating']>=10) & (df_test['Rating']<20)]))\n",
    "print(\"20-29% \",len(df_test[(df_test['Rating']>=20) & (df_test['Rating']<30)]))\n",
    "print(\"30-39% \",len(df_test[(df_test['Rating']>=30) & (df_test['Rating']<40)]))\n",
    "print(\"40-49% \",len(df_test[(df_test['Rating']>=40) & (df_test['Rating']<50)]))\n",
    "print(\"50-59% \",len(df_test[(df_test['Rating']>=50) & (df_test['Rating']<60)]))\n",
    "print(\"60-69% \",len(df_test[(df_test['Rating']>=60) & (df_test['Rating']<70)]))\n",
    "print(\"70-79% \",len(df_test[(df_test['Rating']>=70) & (df_test['Rating']<80)]))\n",
    "print(\"80-89% \",len(df_test[(df_test['Rating']>=80) & (df_test['Rating']<90)]))\n",
    "print(\"90-99% \",len(df_test[(df_test['Rating']>=90) & (df_test['Rating']<100)]))\n"
   ]
  },
  {
   "cell_type": "code",
   "execution_count": 23,
   "id": "9f0f0545",
   "metadata": {},
   "outputs": [],
   "source": [
    "bins = [-99,0,10,20,30,40,50,60,70,80,90,100]\n",
    "labels = [i for i in range(11)]\n",
    "df_test['Rating'] = pd.cut(df_test['Rating'], bins=bins, labels=labels, include_lowest=True)"
   ]
  },
  {
   "cell_type": "code",
   "execution_count": 24,
   "id": "d97f47d1",
   "metadata": {},
   "outputs": [
    {
     "data": {
      "text/plain": [
       "0     1090\n",
       "1        0\n",
       "2        0\n",
       "3        0\n",
       "4        0\n",
       "5        0\n",
       "6        9\n",
       "7       14\n",
       "8       27\n",
       "9      108\n",
       "10     739\n",
       "Name: Rating, dtype: int64"
      ]
     },
     "execution_count": 24,
     "metadata": {},
     "output_type": "execute_result"
    }
   ],
   "source": [
    "df_test['Rating'].value_counts().sort_index()"
   ]
  },
  {
   "cell_type": "code",
   "execution_count": 25,
   "id": "b8a6153e",
   "metadata": {},
   "outputs": [],
   "source": [
    "df_train['Experience'] = df_train['Experience'].str.split().str[0]\n",
    "df_train['Experience'] = df_train['Experience'].astype(int)"
   ]
  },
  {
   "cell_type": "code",
   "execution_count": 26,
   "id": "71fcf223",
   "metadata": {},
   "outputs": [
    {
     "data": {
      "text/html": [
       "<div>\n",
       "<style scoped>\n",
       "    .dataframe tbody tr th:only-of-type {\n",
       "        vertical-align: middle;\n",
       "    }\n",
       "\n",
       "    .dataframe tbody tr th {\n",
       "        vertical-align: top;\n",
       "    }\n",
       "\n",
       "    .dataframe thead th {\n",
       "        text-align: right;\n",
       "    }\n",
       "</style>\n",
       "<table border=\"1\" class=\"dataframe\">\n",
       "  <thead>\n",
       "    <tr style=\"text-align: right;\">\n",
       "      <th></th>\n",
       "      <th>Qualification</th>\n",
       "      <th>Experience</th>\n",
       "      <th>Rating</th>\n",
       "      <th>Place</th>\n",
       "      <th>Profile</th>\n",
       "      <th>Miscellaneous_Info</th>\n",
       "      <th>Fees</th>\n",
       "    </tr>\n",
       "  </thead>\n",
       "  <tbody>\n",
       "    <tr>\n",
       "      <th>0</th>\n",
       "      <td>BHMS, MD - Homeopathy</td>\n",
       "      <td>24</td>\n",
       "      <td>10</td>\n",
       "      <td>Kakkanad, Ernakulam</td>\n",
       "      <td>Homeopath</td>\n",
       "      <td>100% 16 Feedback Kakkanad, Ernakulam</td>\n",
       "      <td>100</td>\n",
       "    </tr>\n",
       "    <tr>\n",
       "      <th>1</th>\n",
       "      <td>BAMS, MD - Ayurveda Medicine</td>\n",
       "      <td>12</td>\n",
       "      <td>10</td>\n",
       "      <td>Whitefield, Bangalore</td>\n",
       "      <td>Ayurveda</td>\n",
       "      <td>98% 76 Feedback Whitefield, Bangalore</td>\n",
       "      <td>350</td>\n",
       "    </tr>\n",
       "    <tr>\n",
       "      <th>2</th>\n",
       "      <td>MBBS, MS - Otorhinolaryngology</td>\n",
       "      <td>9</td>\n",
       "      <td>0</td>\n",
       "      <td>Mathikere - BEL, Bangalore</td>\n",
       "      <td>ENT Specialist</td>\n",
       "      <td>NaN</td>\n",
       "      <td>300</td>\n",
       "    </tr>\n",
       "    <tr>\n",
       "      <th>3</th>\n",
       "      <td>BSc - Zoology, BAMS</td>\n",
       "      <td>12</td>\n",
       "      <td>0</td>\n",
       "      <td>Bannerghatta Road, Bangalore</td>\n",
       "      <td>Ayurveda</td>\n",
       "      <td>Bannerghatta Road, Bangalore ₹250 Available on...</td>\n",
       "      <td>250</td>\n",
       "    </tr>\n",
       "    <tr>\n",
       "      <th>4</th>\n",
       "      <td>BAMS</td>\n",
       "      <td>20</td>\n",
       "      <td>10</td>\n",
       "      <td>Keelkattalai, Chennai</td>\n",
       "      <td>Ayurveda</td>\n",
       "      <td>100% 4 Feedback Keelkattalai, Chennai</td>\n",
       "      <td>250</td>\n",
       "    </tr>\n",
       "  </tbody>\n",
       "</table>\n",
       "</div>"
      ],
      "text/plain": [
       "                    Qualification  Experience Rating  \\\n",
       "0           BHMS, MD - Homeopathy          24     10   \n",
       "1    BAMS, MD - Ayurveda Medicine          12     10   \n",
       "2  MBBS, MS - Otorhinolaryngology           9      0   \n",
       "3             BSc - Zoology, BAMS          12      0   \n",
       "4                            BAMS          20     10   \n",
       "\n",
       "                          Place         Profile  \\\n",
       "0           Kakkanad, Ernakulam       Homeopath   \n",
       "1         Whitefield, Bangalore        Ayurveda   \n",
       "2    Mathikere - BEL, Bangalore  ENT Specialist   \n",
       "3  Bannerghatta Road, Bangalore        Ayurveda   \n",
       "4         Keelkattalai, Chennai        Ayurveda   \n",
       "\n",
       "                                  Miscellaneous_Info  Fees  \n",
       "0               100% 16 Feedback Kakkanad, Ernakulam   100  \n",
       "1              98% 76 Feedback Whitefield, Bangalore   350  \n",
       "2                                                NaN   300  \n",
       "3  Bannerghatta Road, Bangalore ₹250 Available on...   250  \n",
       "4              100% 4 Feedback Keelkattalai, Chennai   250  "
      ]
     },
     "execution_count": 26,
     "metadata": {},
     "output_type": "execute_result"
    }
   ],
   "source": [
    "df_train.head()"
   ]
  },
  {
   "cell_type": "code",
   "execution_count": 27,
   "id": "e5e3ff32",
   "metadata": {},
   "outputs": [],
   "source": [
    "df_test['Experience'] = df_test['Experience'].str.split().str[0]\n",
    "df_test['Experience'] = df_test['Experience'].astype(int)"
   ]
  },
  {
   "cell_type": "code",
   "execution_count": 28,
   "id": "81e45525",
   "metadata": {},
   "outputs": [
    {
     "data": {
      "text/html": [
       "<div>\n",
       "<style scoped>\n",
       "    .dataframe tbody tr th:only-of-type {\n",
       "        vertical-align: middle;\n",
       "    }\n",
       "\n",
       "    .dataframe tbody tr th {\n",
       "        vertical-align: top;\n",
       "    }\n",
       "\n",
       "    .dataframe thead th {\n",
       "        text-align: right;\n",
       "    }\n",
       "</style>\n",
       "<table border=\"1\" class=\"dataframe\">\n",
       "  <thead>\n",
       "    <tr style=\"text-align: right;\">\n",
       "      <th></th>\n",
       "      <th>Qualification</th>\n",
       "      <th>Experience</th>\n",
       "      <th>Rating</th>\n",
       "      <th>Place</th>\n",
       "      <th>Profile</th>\n",
       "      <th>Miscellaneous_Info</th>\n",
       "    </tr>\n",
       "  </thead>\n",
       "  <tbody>\n",
       "    <tr>\n",
       "      <th>0</th>\n",
       "      <td>MBBS</td>\n",
       "      <td>35</td>\n",
       "      <td>0</td>\n",
       "      <td>Ghatkopar East, Mumbai</td>\n",
       "      <td>General Medicine</td>\n",
       "      <td>NaN</td>\n",
       "    </tr>\n",
       "    <tr>\n",
       "      <th>1</th>\n",
       "      <td>MBBS, Diploma in Otorhinolaryngology (DLO)</td>\n",
       "      <td>31</td>\n",
       "      <td>0</td>\n",
       "      <td>West Marredpally, Hyderabad</td>\n",
       "      <td>ENT Specialist</td>\n",
       "      <td>NaN</td>\n",
       "    </tr>\n",
       "    <tr>\n",
       "      <th>2</th>\n",
       "      <td>MBBS, DDVL</td>\n",
       "      <td>40</td>\n",
       "      <td>7</td>\n",
       "      <td>KK Nagar, Chennai</td>\n",
       "      <td>Dermatologists</td>\n",
       "      <td>70% 4 Feedback KK Nagar, Chennai</td>\n",
       "    </tr>\n",
       "    <tr>\n",
       "      <th>3</th>\n",
       "      <td>BAMS</td>\n",
       "      <td>0</td>\n",
       "      <td>0</td>\n",
       "      <td>New Ashok Nagar, Delhi</td>\n",
       "      <td>Ayurveda</td>\n",
       "      <td>NaN</td>\n",
       "    </tr>\n",
       "    <tr>\n",
       "      <th>4</th>\n",
       "      <td>BDS, MDS - Conservative Dentistry &amp; Endodontics</td>\n",
       "      <td>16</td>\n",
       "      <td>10</td>\n",
       "      <td>Kanakpura Road, Bangalore</td>\n",
       "      <td>Dentist</td>\n",
       "      <td>General Dentistry Conservative Dentistry Cosme...</td>\n",
       "    </tr>\n",
       "  </tbody>\n",
       "</table>\n",
       "</div>"
      ],
      "text/plain": [
       "                                     Qualification  Experience Rating  \\\n",
       "0                                             MBBS          35      0   \n",
       "1       MBBS, Diploma in Otorhinolaryngology (DLO)          31      0   \n",
       "2                                       MBBS, DDVL          40      7   \n",
       "3                                             BAMS           0      0   \n",
       "4  BDS, MDS - Conservative Dentistry & Endodontics          16     10   \n",
       "\n",
       "                         Place           Profile  \\\n",
       "0       Ghatkopar East, Mumbai  General Medicine   \n",
       "1  West Marredpally, Hyderabad    ENT Specialist   \n",
       "2            KK Nagar, Chennai    Dermatologists   \n",
       "3       New Ashok Nagar, Delhi          Ayurveda   \n",
       "4    Kanakpura Road, Bangalore           Dentist   \n",
       "\n",
       "                                  Miscellaneous_Info  \n",
       "0                                                NaN  \n",
       "1                                                NaN  \n",
       "2                   70% 4 Feedback KK Nagar, Chennai  \n",
       "3                                                NaN  \n",
       "4  General Dentistry Conservative Dentistry Cosme...  "
      ]
     },
     "execution_count": 28,
     "metadata": {},
     "output_type": "execute_result"
    }
   ],
   "source": [
    "df_test.head()"
   ]
  },
  {
   "cell_type": "code",
   "execution_count": 29,
   "id": "b4103e24",
   "metadata": {},
   "outputs": [],
   "source": [
    "df_train.Place.fillna('Unknown,Unknown',inplace=True)"
   ]
  },
  {
   "cell_type": "code",
   "execution_count": 30,
   "id": "19113cca",
   "metadata": {},
   "outputs": [],
   "source": [
    "df_train['locality'] = df_train['Place'].str.split(\",\").str[0]\n",
    "df_train['city'] = df_train['Place'].str.split(\",\").str[1]"
   ]
  },
  {
   "cell_type": "code",
   "execution_count": 31,
   "id": "569509a8",
   "metadata": {},
   "outputs": [],
   "source": [
    "df_train.drop('Place',axis=1,inplace=True)"
   ]
  },
  {
   "cell_type": "code",
   "execution_count": 32,
   "id": "37503776",
   "metadata": {},
   "outputs": [
    {
     "data": {
      "text/html": [
       "<div>\n",
       "<style scoped>\n",
       "    .dataframe tbody tr th:only-of-type {\n",
       "        vertical-align: middle;\n",
       "    }\n",
       "\n",
       "    .dataframe tbody tr th {\n",
       "        vertical-align: top;\n",
       "    }\n",
       "\n",
       "    .dataframe thead th {\n",
       "        text-align: right;\n",
       "    }\n",
       "</style>\n",
       "<table border=\"1\" class=\"dataframe\">\n",
       "  <thead>\n",
       "    <tr style=\"text-align: right;\">\n",
       "      <th></th>\n",
       "      <th>Qualification</th>\n",
       "      <th>Experience</th>\n",
       "      <th>Rating</th>\n",
       "      <th>Profile</th>\n",
       "      <th>Miscellaneous_Info</th>\n",
       "      <th>Fees</th>\n",
       "      <th>locality</th>\n",
       "      <th>city</th>\n",
       "    </tr>\n",
       "  </thead>\n",
       "  <tbody>\n",
       "    <tr>\n",
       "      <th>0</th>\n",
       "      <td>BHMS, MD - Homeopathy</td>\n",
       "      <td>24</td>\n",
       "      <td>10</td>\n",
       "      <td>Homeopath</td>\n",
       "      <td>100% 16 Feedback Kakkanad, Ernakulam</td>\n",
       "      <td>100</td>\n",
       "      <td>Kakkanad</td>\n",
       "      <td>Ernakulam</td>\n",
       "    </tr>\n",
       "    <tr>\n",
       "      <th>1</th>\n",
       "      <td>BAMS, MD - Ayurveda Medicine</td>\n",
       "      <td>12</td>\n",
       "      <td>10</td>\n",
       "      <td>Ayurveda</td>\n",
       "      <td>98% 76 Feedback Whitefield, Bangalore</td>\n",
       "      <td>350</td>\n",
       "      <td>Whitefield</td>\n",
       "      <td>Bangalore</td>\n",
       "    </tr>\n",
       "    <tr>\n",
       "      <th>2</th>\n",
       "      <td>MBBS, MS - Otorhinolaryngology</td>\n",
       "      <td>9</td>\n",
       "      <td>0</td>\n",
       "      <td>ENT Specialist</td>\n",
       "      <td>NaN</td>\n",
       "      <td>300</td>\n",
       "      <td>Mathikere - BEL</td>\n",
       "      <td>Bangalore</td>\n",
       "    </tr>\n",
       "    <tr>\n",
       "      <th>3</th>\n",
       "      <td>BSc - Zoology, BAMS</td>\n",
       "      <td>12</td>\n",
       "      <td>0</td>\n",
       "      <td>Ayurveda</td>\n",
       "      <td>Bannerghatta Road, Bangalore ₹250 Available on...</td>\n",
       "      <td>250</td>\n",
       "      <td>Bannerghatta Road</td>\n",
       "      <td>Bangalore</td>\n",
       "    </tr>\n",
       "    <tr>\n",
       "      <th>4</th>\n",
       "      <td>BAMS</td>\n",
       "      <td>20</td>\n",
       "      <td>10</td>\n",
       "      <td>Ayurveda</td>\n",
       "      <td>100% 4 Feedback Keelkattalai, Chennai</td>\n",
       "      <td>250</td>\n",
       "      <td>Keelkattalai</td>\n",
       "      <td>Chennai</td>\n",
       "    </tr>\n",
       "  </tbody>\n",
       "</table>\n",
       "</div>"
      ],
      "text/plain": [
       "                    Qualification  Experience Rating         Profile  \\\n",
       "0           BHMS, MD - Homeopathy          24     10       Homeopath   \n",
       "1    BAMS, MD - Ayurveda Medicine          12     10        Ayurveda   \n",
       "2  MBBS, MS - Otorhinolaryngology           9      0  ENT Specialist   \n",
       "3             BSc - Zoology, BAMS          12      0        Ayurveda   \n",
       "4                            BAMS          20     10        Ayurveda   \n",
       "\n",
       "                                  Miscellaneous_Info  Fees           locality  \\\n",
       "0               100% 16 Feedback Kakkanad, Ernakulam   100           Kakkanad   \n",
       "1              98% 76 Feedback Whitefield, Bangalore   350         Whitefield   \n",
       "2                                                NaN   300    Mathikere - BEL   \n",
       "3  Bannerghatta Road, Bangalore ₹250 Available on...   250  Bannerghatta Road   \n",
       "4              100% 4 Feedback Keelkattalai, Chennai   250       Keelkattalai   \n",
       "\n",
       "         city  \n",
       "0   Ernakulam  \n",
       "1   Bangalore  \n",
       "2   Bangalore  \n",
       "3   Bangalore  \n",
       "4     Chennai  "
      ]
     },
     "execution_count": 32,
     "metadata": {},
     "output_type": "execute_result"
    }
   ],
   "source": [
    "df_train.head()"
   ]
  },
  {
   "cell_type": "code",
   "execution_count": 33,
   "id": "6b56ba47",
   "metadata": {},
   "outputs": [],
   "source": [
    "df_test.Place.fillna('Unknown,Unknown',inplace=True)"
   ]
  },
  {
   "cell_type": "code",
   "execution_count": 34,
   "id": "d9dcbda7",
   "metadata": {},
   "outputs": [],
   "source": [
    "df_test['locality'] = df_test['Place'].str.split(\",\").str[0]\n",
    "df_test['city'] = df_test['Place'].str.split(\",\").str[1]"
   ]
  },
  {
   "cell_type": "code",
   "execution_count": 35,
   "id": "fd7d4963",
   "metadata": {},
   "outputs": [],
   "source": [
    "df_test.drop('Place',axis=1,inplace=True)"
   ]
  },
  {
   "cell_type": "code",
   "execution_count": 36,
   "id": "0a4e309a",
   "metadata": {},
   "outputs": [
    {
     "data": {
      "text/html": [
       "<div>\n",
       "<style scoped>\n",
       "    .dataframe tbody tr th:only-of-type {\n",
       "        vertical-align: middle;\n",
       "    }\n",
       "\n",
       "    .dataframe tbody tr th {\n",
       "        vertical-align: top;\n",
       "    }\n",
       "\n",
       "    .dataframe thead th {\n",
       "        text-align: right;\n",
       "    }\n",
       "</style>\n",
       "<table border=\"1\" class=\"dataframe\">\n",
       "  <thead>\n",
       "    <tr style=\"text-align: right;\">\n",
       "      <th></th>\n",
       "      <th>Qualification</th>\n",
       "      <th>Experience</th>\n",
       "      <th>Rating</th>\n",
       "      <th>Profile</th>\n",
       "      <th>Miscellaneous_Info</th>\n",
       "      <th>locality</th>\n",
       "      <th>city</th>\n",
       "    </tr>\n",
       "  </thead>\n",
       "  <tbody>\n",
       "    <tr>\n",
       "      <th>0</th>\n",
       "      <td>MBBS</td>\n",
       "      <td>35</td>\n",
       "      <td>0</td>\n",
       "      <td>General Medicine</td>\n",
       "      <td>NaN</td>\n",
       "      <td>Ghatkopar East</td>\n",
       "      <td>Mumbai</td>\n",
       "    </tr>\n",
       "    <tr>\n",
       "      <th>1</th>\n",
       "      <td>MBBS, Diploma in Otorhinolaryngology (DLO)</td>\n",
       "      <td>31</td>\n",
       "      <td>0</td>\n",
       "      <td>ENT Specialist</td>\n",
       "      <td>NaN</td>\n",
       "      <td>West Marredpally</td>\n",
       "      <td>Hyderabad</td>\n",
       "    </tr>\n",
       "    <tr>\n",
       "      <th>2</th>\n",
       "      <td>MBBS, DDVL</td>\n",
       "      <td>40</td>\n",
       "      <td>7</td>\n",
       "      <td>Dermatologists</td>\n",
       "      <td>70% 4 Feedback KK Nagar, Chennai</td>\n",
       "      <td>KK Nagar</td>\n",
       "      <td>Chennai</td>\n",
       "    </tr>\n",
       "    <tr>\n",
       "      <th>3</th>\n",
       "      <td>BAMS</td>\n",
       "      <td>0</td>\n",
       "      <td>0</td>\n",
       "      <td>Ayurveda</td>\n",
       "      <td>NaN</td>\n",
       "      <td>New Ashok Nagar</td>\n",
       "      <td>Delhi</td>\n",
       "    </tr>\n",
       "    <tr>\n",
       "      <th>4</th>\n",
       "      <td>BDS, MDS - Conservative Dentistry &amp; Endodontics</td>\n",
       "      <td>16</td>\n",
       "      <td>10</td>\n",
       "      <td>Dentist</td>\n",
       "      <td>General Dentistry Conservative Dentistry Cosme...</td>\n",
       "      <td>Kanakpura Road</td>\n",
       "      <td>Bangalore</td>\n",
       "    </tr>\n",
       "  </tbody>\n",
       "</table>\n",
       "</div>"
      ],
      "text/plain": [
       "                                     Qualification  Experience Rating  \\\n",
       "0                                             MBBS          35      0   \n",
       "1       MBBS, Diploma in Otorhinolaryngology (DLO)          31      0   \n",
       "2                                       MBBS, DDVL          40      7   \n",
       "3                                             BAMS           0      0   \n",
       "4  BDS, MDS - Conservative Dentistry & Endodontics          16     10   \n",
       "\n",
       "            Profile                                 Miscellaneous_Info  \\\n",
       "0  General Medicine                                                NaN   \n",
       "1    ENT Specialist                                                NaN   \n",
       "2    Dermatologists                   70% 4 Feedback KK Nagar, Chennai   \n",
       "3          Ayurveda                                                NaN   \n",
       "4           Dentist  General Dentistry Conservative Dentistry Cosme...   \n",
       "\n",
       "           locality        city  \n",
       "0    Ghatkopar East      Mumbai  \n",
       "1  West Marredpally   Hyderabad  \n",
       "2          KK Nagar     Chennai  \n",
       "3   New Ashok Nagar       Delhi  \n",
       "4    Kanakpura Road   Bangalore  "
      ]
     },
     "execution_count": 36,
     "metadata": {},
     "output_type": "execute_result"
    }
   ],
   "source": [
    "df_test.head()"
   ]
  },
  {
   "cell_type": "code",
   "execution_count": 37,
   "id": "809fcb92",
   "metadata": {},
   "outputs": [],
   "source": [
    "df_train['Qualification_count'] = df_train['Qualification'].apply(lambda x: len(x.split(\",\")))"
   ]
  },
  {
   "cell_type": "code",
   "execution_count": 38,
   "id": "e620bb77",
   "metadata": {},
   "outputs": [
    {
     "data": {
      "text/plain": [
       "2     2628\n",
       "1     1962\n",
       "3      995\n",
       "4      257\n",
       "5       84\n",
       "6       23\n",
       "7        6\n",
       "9        3\n",
       "8        2\n",
       "10       1\n",
       "Name: Qualification_count, dtype: int64"
      ]
     },
     "execution_count": 38,
     "metadata": {},
     "output_type": "execute_result"
    }
   ],
   "source": [
    "df_train['Qualification_count'].value_counts()"
   ]
  },
  {
   "cell_type": "code",
   "execution_count": 39,
   "id": "d77f7c2d",
   "metadata": {},
   "outputs": [
    {
     "data": {
      "text/plain": [
       "array(['BHMS, MD - Homeopathy', 'BAMS, MD - Ayurveda Medicine',\n",
       "       'MBBS, MS - Otorhinolaryngology', ...,\n",
       "       'MD - Dermatology , Venereology & Leprosy, MBBS, Fellowship In Dermatosurgery',\n",
       "       'BDS, certification in smile designing',\n",
       "       'MD - Homeopathy, Post Graduate Diploma in Healthcare Management(PGDHM), DHMS (Diploma in Homeopathic Medicine and Surgery)'],\n",
       "      dtype=object)"
      ]
     },
     "execution_count": 39,
     "metadata": {},
     "output_type": "execute_result"
    }
   ],
   "source": [
    "df_train['Qualification'].unique()"
   ]
  },
  {
   "cell_type": "code",
   "execution_count": 40,
   "id": "13ba9475",
   "metadata": {},
   "outputs": [],
   "source": [
    "df_train[\"Qualification\"]=df_train[\"Qualification\"].str.split(\",\")\n",
    "Qualification ={}\n",
    "for x in df_train[\"Qualification\"].values:\n",
    "    for each in x:\n",
    "        each = each.strip()\n",
    "        if each in Qualification:\n",
    "            Qualification[each]+=1\n",
    "        else:\n",
    "            Qualification[each]=1"
   ]
  },
  {
   "cell_type": "code",
   "execution_count": 41,
   "id": "07c8451f",
   "metadata": {},
   "outputs": [
    {
     "name": "stdout",
     "output_type": "stream",
     "text": [
      "['MBBS', 'BDS', 'BAMS', 'BHMS', 'MD - Dermatology', 'MS - ENT', 'Venereology & Leprosy', 'MD - General Medicine', 'Diploma in Otorhinolaryngology (DLO)', 'MD - Homeopathy']\n"
     ]
    }
   ],
   "source": [
    "most_qual = sorted(Qualification.items(),key=lambda x:x[1],reverse=True)[:10]\n",
    "final_qual = []\n",
    "for qual in most_qual:\n",
    "    final_qual.append(qual[0])\n",
    "    \n",
    "print(final_qual)"
   ]
  },
  {
   "cell_type": "code",
   "execution_count": 42,
   "id": "d1d6e717",
   "metadata": {},
   "outputs": [],
   "source": [
    "for qual in final_qual:\n",
    "    df_train[qual] = 0\n",
    "\n",
    "for x,y in zip(df_train['Qualification'].values, np.array([i for i in range(len(df_train))])):\n",
    "    for c in x:\n",
    "        c = c.strip()\n",
    "        if c in final_qual:\n",
    "            df_train[c][y] = 1"
   ]
  },
  {
   "cell_type": "code",
   "execution_count": 43,
   "id": "2b291cf7",
   "metadata": {},
   "outputs": [],
   "source": [
    "df_train.drop(['Qualification','Qualification_count'],axis=1,inplace=True)"
   ]
  },
  {
   "cell_type": "code",
   "execution_count": 44,
   "id": "6806afdd",
   "metadata": {},
   "outputs": [
    {
     "data": {
      "text/html": [
       "<div>\n",
       "<style scoped>\n",
       "    .dataframe tbody tr th:only-of-type {\n",
       "        vertical-align: middle;\n",
       "    }\n",
       "\n",
       "    .dataframe tbody tr th {\n",
       "        vertical-align: top;\n",
       "    }\n",
       "\n",
       "    .dataframe thead th {\n",
       "        text-align: right;\n",
       "    }\n",
       "</style>\n",
       "<table border=\"1\" class=\"dataframe\">\n",
       "  <thead>\n",
       "    <tr style=\"text-align: right;\">\n",
       "      <th></th>\n",
       "      <th>Experience</th>\n",
       "      <th>Rating</th>\n",
       "      <th>Profile</th>\n",
       "      <th>Miscellaneous_Info</th>\n",
       "      <th>Fees</th>\n",
       "      <th>locality</th>\n",
       "      <th>city</th>\n",
       "      <th>MBBS</th>\n",
       "      <th>BDS</th>\n",
       "      <th>BAMS</th>\n",
       "      <th>BHMS</th>\n",
       "      <th>MD - Dermatology</th>\n",
       "      <th>MS - ENT</th>\n",
       "      <th>Venereology &amp; Leprosy</th>\n",
       "      <th>MD - General Medicine</th>\n",
       "      <th>Diploma in Otorhinolaryngology (DLO)</th>\n",
       "      <th>MD - Homeopathy</th>\n",
       "    </tr>\n",
       "  </thead>\n",
       "  <tbody>\n",
       "    <tr>\n",
       "      <th>0</th>\n",
       "      <td>24</td>\n",
       "      <td>10</td>\n",
       "      <td>Homeopath</td>\n",
       "      <td>100% 16 Feedback Kakkanad, Ernakulam</td>\n",
       "      <td>100</td>\n",
       "      <td>Kakkanad</td>\n",
       "      <td>Ernakulam</td>\n",
       "      <td>0</td>\n",
       "      <td>0</td>\n",
       "      <td>0</td>\n",
       "      <td>1</td>\n",
       "      <td>0</td>\n",
       "      <td>0</td>\n",
       "      <td>0</td>\n",
       "      <td>0</td>\n",
       "      <td>0</td>\n",
       "      <td>1</td>\n",
       "    </tr>\n",
       "    <tr>\n",
       "      <th>1</th>\n",
       "      <td>12</td>\n",
       "      <td>10</td>\n",
       "      <td>Ayurveda</td>\n",
       "      <td>98% 76 Feedback Whitefield, Bangalore</td>\n",
       "      <td>350</td>\n",
       "      <td>Whitefield</td>\n",
       "      <td>Bangalore</td>\n",
       "      <td>0</td>\n",
       "      <td>0</td>\n",
       "      <td>1</td>\n",
       "      <td>0</td>\n",
       "      <td>0</td>\n",
       "      <td>0</td>\n",
       "      <td>0</td>\n",
       "      <td>0</td>\n",
       "      <td>0</td>\n",
       "      <td>0</td>\n",
       "    </tr>\n",
       "    <tr>\n",
       "      <th>2</th>\n",
       "      <td>9</td>\n",
       "      <td>0</td>\n",
       "      <td>ENT Specialist</td>\n",
       "      <td>NaN</td>\n",
       "      <td>300</td>\n",
       "      <td>Mathikere - BEL</td>\n",
       "      <td>Bangalore</td>\n",
       "      <td>1</td>\n",
       "      <td>0</td>\n",
       "      <td>0</td>\n",
       "      <td>0</td>\n",
       "      <td>0</td>\n",
       "      <td>0</td>\n",
       "      <td>0</td>\n",
       "      <td>0</td>\n",
       "      <td>0</td>\n",
       "      <td>0</td>\n",
       "    </tr>\n",
       "    <tr>\n",
       "      <th>3</th>\n",
       "      <td>12</td>\n",
       "      <td>0</td>\n",
       "      <td>Ayurveda</td>\n",
       "      <td>Bannerghatta Road, Bangalore ₹250 Available on...</td>\n",
       "      <td>250</td>\n",
       "      <td>Bannerghatta Road</td>\n",
       "      <td>Bangalore</td>\n",
       "      <td>0</td>\n",
       "      <td>0</td>\n",
       "      <td>1</td>\n",
       "      <td>0</td>\n",
       "      <td>0</td>\n",
       "      <td>0</td>\n",
       "      <td>0</td>\n",
       "      <td>0</td>\n",
       "      <td>0</td>\n",
       "      <td>0</td>\n",
       "    </tr>\n",
       "    <tr>\n",
       "      <th>4</th>\n",
       "      <td>20</td>\n",
       "      <td>10</td>\n",
       "      <td>Ayurveda</td>\n",
       "      <td>100% 4 Feedback Keelkattalai, Chennai</td>\n",
       "      <td>250</td>\n",
       "      <td>Keelkattalai</td>\n",
       "      <td>Chennai</td>\n",
       "      <td>0</td>\n",
       "      <td>0</td>\n",
       "      <td>1</td>\n",
       "      <td>0</td>\n",
       "      <td>0</td>\n",
       "      <td>0</td>\n",
       "      <td>0</td>\n",
       "      <td>0</td>\n",
       "      <td>0</td>\n",
       "      <td>0</td>\n",
       "    </tr>\n",
       "  </tbody>\n",
       "</table>\n",
       "</div>"
      ],
      "text/plain": [
       "   Experience Rating         Profile  \\\n",
       "0          24     10       Homeopath   \n",
       "1          12     10        Ayurveda   \n",
       "2           9      0  ENT Specialist   \n",
       "3          12      0        Ayurveda   \n",
       "4          20     10        Ayurveda   \n",
       "\n",
       "                                  Miscellaneous_Info  Fees           locality  \\\n",
       "0               100% 16 Feedback Kakkanad, Ernakulam   100           Kakkanad   \n",
       "1              98% 76 Feedback Whitefield, Bangalore   350         Whitefield   \n",
       "2                                                NaN   300    Mathikere - BEL   \n",
       "3  Bannerghatta Road, Bangalore ₹250 Available on...   250  Bannerghatta Road   \n",
       "4              100% 4 Feedback Keelkattalai, Chennai   250       Keelkattalai   \n",
       "\n",
       "         city  MBBS  BDS  BAMS  BHMS  MD - Dermatology  MS - ENT  \\\n",
       "0   Ernakulam     0    0     0     1                 0         0   \n",
       "1   Bangalore     0    0     1     0                 0         0   \n",
       "2   Bangalore     1    0     0     0                 0         0   \n",
       "3   Bangalore     0    0     1     0                 0         0   \n",
       "4     Chennai     0    0     1     0                 0         0   \n",
       "\n",
       "   Venereology & Leprosy  MD - General Medicine  \\\n",
       "0                      0                      0   \n",
       "1                      0                      0   \n",
       "2                      0                      0   \n",
       "3                      0                      0   \n",
       "4                      0                      0   \n",
       "\n",
       "   Diploma in Otorhinolaryngology (DLO)  MD - Homeopathy  \n",
       "0                                     0                1  \n",
       "1                                     0                0  \n",
       "2                                     0                0  \n",
       "3                                     0                0  \n",
       "4                                     0                0  "
      ]
     },
     "execution_count": 44,
     "metadata": {},
     "output_type": "execute_result"
    }
   ],
   "source": [
    "df_train.head()"
   ]
  },
  {
   "cell_type": "code",
   "execution_count": 45,
   "id": "1f673968",
   "metadata": {},
   "outputs": [],
   "source": [
    "df_test['Qualification_count'] = df_test['Qualification'].apply(lambda x: len(x.split(\",\")))"
   ]
  },
  {
   "cell_type": "code",
   "execution_count": 46,
   "id": "ed06b421",
   "metadata": {},
   "outputs": [
    {
     "data": {
      "text/plain": [
       "2     889\n",
       "1     609\n",
       "3     366\n",
       "4      87\n",
       "5      28\n",
       "6       5\n",
       "7       1\n",
       "9       1\n",
       "17      1\n",
       "Name: Qualification_count, dtype: int64"
      ]
     },
     "execution_count": 46,
     "metadata": {},
     "output_type": "execute_result"
    }
   ],
   "source": [
    "df_test['Qualification_count'].value_counts()"
   ]
  },
  {
   "cell_type": "code",
   "execution_count": 47,
   "id": "9682bfa6",
   "metadata": {},
   "outputs": [
    {
     "data": {
      "text/plain": [
       "array(['MBBS', 'MBBS, Diploma in Otorhinolaryngology (DLO)', 'MBBS, DDVL',\n",
       "       'BAMS', 'BDS, MDS - Conservative Dentistry & Endodontics',\n",
       "       'BDS, MDS', 'BDS, MDS - Pedodontics',\n",
       "       'MD - Ayurveda Medicine, BAMS, Yoga Teachers Training Course, M. D. IN KAYACHIKISTA',\n",
       "       'BHMS', 'BDS', 'MBBS, FCD - Diabetology', 'MBBS, DDV',\n",
       "       'MBBS, MD - Dermatology', 'MS - ENT',\n",
       "       'MBBS, Diploma in Otorhinolaryngology (DLO), MS - ENT, DNB - ENT, MNAMS (Membership of the National Academy)',\n",
       "       'BHMS, Diploma in Naturopathy & Yogic Science (DNYS), Diploma in Diet and Nutrition, Diploma in Cosmetology',\n",
       "       'MBBS, PG Diploma In Clinical Cosmetology (PGDCC)',\n",
       "       'BDS, MDS - Periodontics', 'BDS, MDS- Oral Pathology',\n",
       "       'MBBS, MD - General Medicine', 'MS - ENT, MBBS',\n",
       "       'MBBS, Diploma in Otorhinolaryngology (DLO), DNB - ENT',\n",
       "       'MBBS, MS - ENT, DNB - Otorhinolaryngology',\n",
       "       'BDS, PhD - Endodontics, MDS - Conservative Dentistry & Endodontics',\n",
       "       'BSc, LCEH', 'BAMS, MD - Ayurveda Medicine',\n",
       "       'MBBS, DGO, MD - Obstetrics & Gynaecology',\n",
       "       'BHMS, MD - Homeopathy', 'BHMS, DM - Oncology',\n",
       "       'MBBS, DNB - Dermatology, Venereology & Leprosy, DVD',\n",
       "       'MBBS, MS - Otorhinolaryngology',\n",
       "       'Fellowship in Aesthetic Medicine, MD - Dermatology',\n",
       "       'BDS, Fellowship in Oral implantlogy',\n",
       "       'MBBS, MD - Dermatology, Fellowship in Aesthetic Medicine',\n",
       "       'MBBS, MS - Ophthalmology',\n",
       "       'MDS - Conservative Dentistry & Endodontics, BDS',\n",
       "       'MBBS, MS - Otorhinolaryngology, Diploma in Otorhinolaryngology (DLO)',\n",
       "       'BAMS, PGCR',\n",
       "       'BHMS, MS - Counselling and Psychotherapy, Certificate Course in Advanced Homoeopathy (C.C.A.H)',\n",
       "       'MBBS, MS - ENT, Diploma in Otorhinolaryngology (DLO)',\n",
       "       'MBBS, FRCS - Otolaryngology, Diploma in Otorhinolaryngology (DLO), Diploma in Acupuncture',\n",
       "       'MBBS, MD - Medicine, DM - Cardiology',\n",
       "       'BDS, Post-Graduate Certificate in Oral Implantology (PGCOI), MDS - Periodontology and Oral Implantology',\n",
       "       'LCEH', 'MBBS, MS - ENT', 'MBBS, MD - Medicine',\n",
       "       'DM - Nephrology, MD - Internal Medicine, MBBS',\n",
       "       'MBBS, DDVL, FRGUHS',\n",
       "       'MBBS, Diploma in Otorhinolaryngology (DLO), FRCS - General Surgery',\n",
       "       'BDS, MDS - Oral & Maxillofacial Surgery, Fellowship in Cleft Lip & Palate, Fellowship in TMJ Surgery',\n",
       "       'MBBS, DNB - Otorhinolaryngology',\n",
       "       'Post Graduate Diploma in Diabetology (PGDD)(Madras Medical College), MBBS',\n",
       "       'Certificate in Dental Implants, MDS - Oral Medicine and Radiology, Certification in Aesthetic Dentistry, Certification in Full Mouth Rehabilitation, BDS',\n",
       "       'BDS, MDS - Orthodontics and Dentofacial Orthopaedics',\n",
       "       'MBBS, MD - Internal Medicine',\n",
       "       'MBBS, MD - General Medicine, DNB - General Medicine, Fellowship in Diabetology, DAA - Diploma in Allergy Asthma and Immunology, Certificate in Pulmonology',\n",
       "       'MD - Tuberculosis & Respiratory Diseases/Medicine, MBBS',\n",
       "       'MBBS, DDV, MD - Dermatology, Fellowship In Cosmetic Dermatology',\n",
       "       'B.Sc, MBBS, FCCP - Pulmonary Medicine',\n",
       "       'MBBS, MS - General Surgery',\n",
       "       'MBBS, MRCOG(UK), Diploma of the Faculty of Family Planning (DFFP), DRCOG, Member of the Royal College of General Practitioners UK (MRCGP), Fellowship in Diabetes (UK)',\n",
       "       'BDS, MDS - Paedodontics And Preventive Dentistry',\n",
       "       'BHMS, MS - Psychology', 'MD - General Medicine',\n",
       "       'BDS, Fellow of Academy of General Education (FAGE)',\n",
       "       'MD - Skin & VD', 'MBBS, MD - Dermatology , Venereology & Leprosy',\n",
       "       'BDS, MDS - Periodontology and Oral Implantology', 'MBBS, DNB',\n",
       "       'MDS - Orthodontics, BDS', 'BHMS, Diploma in Dermatology',\n",
       "       'MBBS, MD - Pulmonary Medicine, MD - Tuberculosis & Respiratory Diseases / Pulmonary Medicine',\n",
       "       'MDS - Prosthodontist And Crown Bridge, BDS',\n",
       "       'MBBS, Diploma in Orthopaedics',\n",
       "       'MBBS, DNB - ENT, Diploma in Otorhinolaryngology (DLO)',\n",
       "       'BDS, MDS - Prosthodontics',\n",
       "       'MD - Dermatology, MBBS, DNB - Dermatology, Venereology & Leprosy, FRGUHS',\n",
       "       'MDS - Oral & Maxillofacial Surgery, BDS',\n",
       "       'MBBS, MD - Dermatology, DDV',\n",
       "       'MBBS, Diploma in Aesthetic Medicine, DDV',\n",
       "       'MBBS, Diploma in Tuberculosis and Chest Diseases (DTCD), DNB -Chest, Post Graduate Diploma in Diabetes',\n",
       "       'BDS, MDS - Orthodontics', 'BDS, Diploma in Laser Dentistry, MDS',\n",
       "       'BDS, MDS - Oral Medicine and Radiology',\n",
       "       'MBBS, Diploma in Anesthesiology, Certificate in Acupuncture',\n",
       "       \"BAMS, Yoga Instructor's Course, Diploma in Nutrition and Health Education\",\n",
       "       'MD - Dermatology, DDV, MBBS',\n",
       "       'MBBS, DNB - Family Medicine, Fellowship in Diabetology',\n",
       "       'MBBS, MS - ENT, MRCS (UK), Diploma in Otorhinolaryngology (DLO)',\n",
       "       'DVD, MBBS', 'DDVL, MBBS', 'MBBS, MD - Obstetrics & Gynaecology',\n",
       "       'MBBS, Diploma in Dermatology',\n",
       "       'BHMS, PGDPC (Post Graduation Diploma In Psychological Counselling)',\n",
       "       'BAMS, PGD Yoga', 'MDS - Prosthodontics, BDS',\n",
       "       'BAMS, MBA - Healthcare Services', 'DNB - ENT, MD - Physician',\n",
       "       'MDS - Paedodontics And Preventive Dentistry, Membership of the Faculty of Dental Surgeons(MFDS)',\n",
       "       'MBBS, PGDHHM, PGDMLS', 'MBBS, DNB - Dermatology & Venereology',\n",
       "       'MBBS, MD - Obstetrics & Gynaecology, MRCOG(UK)',\n",
       "       'DNB - Otorhinolaryngology, MNAMS - General Surgery, MS - Otorhinolaryngology, MBBS',\n",
       "       'BDS, PhD - Orthodontics & Dentofacial Orthopaedics',\n",
       "       'MBBS, MD - Pediatrics', 'MD - Dermatology, MBBS',\n",
       "       'MBBS, MD - Internal Medicine, Post Graduate Diploma in Diabetology (PGDD)',\n",
       "       'BDS, Certificate of Oral Implantology',\n",
       "       'BDS, Doctor of Dental Surgery (DDS)',\n",
       "       'MBBS, Diploma in Dermatology, DDVL, DDV',\n",
       "       'MBBS, MD - Skin & VD, DDVL',\n",
       "       'MDS - Orthodontics and Dentofacial Orthopaedics',\n",
       "       'BHMS, Diploma in Cosmetology',\n",
       "       'MBBS, DDVL, DNB - Dermatology & Venereology, Fellowship In Dermatosurgery',\n",
       "       'BAMS, MBA - Hospital Management', 'MBBS, DDVL, MD - Dermatology',\n",
       "       'MBBS, Diploma in Otorhinolaryngology (DLO), MS - ENT',\n",
       "       'MBBS, MD - Dermatology, Fellowship In Dermatosurgery',\n",
       "       'MD - Dermatology , Venereology & Leprosy, MBBS',\n",
       "       'MDS - Oral & Maxillofacial Surgery',\n",
       "       'MBBS, MD - Dermatology, FRGUHS, Fellowship in Cosmetology',\n",
       "       'MBBS, MS - ENT, FRCS, MRCS (UK), Dip Otolaryngology and Head and neck Surgery',\n",
       "       'MBBS, DNB - General Medicine, MF- Homeopathy, MSc - Psychotherapy And Counselling, Post Graduate Diploma in Diabetology (PGDD)',\n",
       "       'MBBS, DNB - Family Medicine, CCEBDM',\n",
       "       'MBBS, Diploma in Laparoscopy, FRCS - General Surgery (Upper GI)',\n",
       "       'MBBS, DNB - General Medicine, Post Graduate Diploma in Diabetology (PGDD)',\n",
       "       'Doctor of Homeopathic Medicine (HMD)',\n",
       "       'DHMS (Diploma in Homeopathic Medicine and Surgery), Diploma in Clinical Cosmetology, Diploma in Trichology - Cosmetology',\n",
       "       'BHMS, Post Graduate Diploma in Clinical Research (PGDCR)',\n",
       "       'BHMS, Certificate in Child Health (CCH)',\n",
       "       'MDS, Advanced Certificate Course in Dental Implants, BDS',\n",
       "       'BDS, MDS - Prosthodontist And Crown Bridge',\n",
       "       'DNB - General Medicine, MBBS', 'MBBS, MNAMS- Family Medicine',\n",
       "       'MBBS, MD - Internal Medicine, FACP (USA)',\n",
       "       'MBBS, Diploma in Otorhinolaryngology (DLO), MD - Anatomy',\n",
       "       'BDS, FICD',\n",
       "       'FRCP, MRCPS, MBBS, MD - General Medicine, Diploma in Medical Law and Ethics (PGDMLE)',\n",
       "       'MBBS, MD - (Dermatology & STD)', 'MBBS, DVD, MD - Dermatology',\n",
       "       'MBBS, Diploma in Emergency Medicine',\n",
       "       'BDS, MBA, Certification in Aesthetic Dentistry',\n",
       "       'MBBS, Fellow of Academy of General Education (FAGE), MS - ENT, Fellowship in Advanced Endoscopic Sinus Surgery',\n",
       "       'BSc, DHMS (Diploma in Homeopathic Medicine and Surgery)',\n",
       "       'BHMS, Doctor of Homeopathic Medicine (HMD), MBA',\n",
       "       'MDS - Oral & Maxillofacial Surgery, Fellowship Program in Oral Implantology and LASER Dentistry, BDS',\n",
       "       'MBBS, MS - ENT, Fellowship in Head & Neck Surgery',\n",
       "       'BDS, MDS - Prosthodontist & Oral Implantologist',\n",
       "       'MD - Internal Medicine, MBBS, Diplomate from the American Board of Internal Medicine',\n",
       "       'BAMS, MD - Ayurveda Medicine, PhD- Ayurveda',\n",
       "       \"BAMS, PGD ND, Yoga Instructor's Course\",\n",
       "       'BDS, Fellowship Program in Aesthetic Dentistry and Occlusion',\n",
       "       'MBBS, Diploma in Public Health, MD - Community Medicine, Fellowship in Lifestyle Medicine',\n",
       "       'BAMS, MS - Ayurveda',\n",
       "       'Diploma in Otorhinolaryngology (DLO), Ph. D - ENT, MBBS, DNB - ENT',\n",
       "       'MDS - Orthodontics and Dentofacial Orthopaedics, BDS',\n",
       "       'MBBS, Diploma in Otorhinolaryngology (DLO), MS - Otorhinolaryngology',\n",
       "       'BSAM, BAMS, Fellow of Academy of General Education (FAGE)',\n",
       "       'MD - Homeopathy, BHMS', 'MBBS, DNB - Otorhinolaryngology, DLO',\n",
       "       'Get inspired by remarkable stories of people like you',\n",
       "       'MBBS, MD - General Medicine, Diploma in Diabetology',\n",
       "       'MD - Ayurveda Medicine',\n",
       "       'MD - Homeopathy, PG Diploma In Clinical Cosmetology (PGDCC), BHMS',\n",
       "       'DHMS (Diploma in Homeopathic Medicine and Surgery)',\n",
       "       'MD - Dermatology', 'MBBS, DDV, DNB',\n",
       "       'BDS, Post graduate diploma in Hospital Management',\n",
       "       'MBBS, Diploma in Anesthesiology',\n",
       "       'BDS, MDS - Oral & Maxillofacial Surgery, FDSRCS - Fellowship in Dental Surgery',\n",
       "       'MBBS, MD - Internal Medicine, Post Graduate Diploma in Diabetology (PGDD), DNB - General Medicine',\n",
       "       'BHMS, PG - Homeo, Integrated therapy in Cancer, Basic Course in Palliative Care',\n",
       "       'BHMS, Fellowship Course in Homoeopathic Dermatology, Masters in Counselling and Psychotherapy',\n",
       "       'MBBS, MD - Medicine, FCPS - General Surgery', 'BHMS, CSD',\n",
       "       'BHMS, MD (HOM) - Paeditrics, Fellowship Course in Homoeopathic Dermatology',\n",
       "       'M.S. (Ayurved) Stri Roga & Prasuti Tantra, BAMS',\n",
       "       'MBBS, MD - General Medicine, DNB - General Medicine',\n",
       "       'MBBS, MS - Otorhinolaryngology, Fellowship in laryngology',\n",
       "       'BDS, MDS - Prosthodontist And Crown Bridge, Certificate Course in Orthodontics',\n",
       "       'B.Sc, BAMS, MD - Ayurveda Medicine',\n",
       "       'DO, MS - Ophthalmology, MBBS', 'FRCS - General Surgery',\n",
       "       'BDS, MDS- Periodontist & Implantalogist',\n",
       "       'MBBS, MCh - Surgical Gastroenterology/G.I. Surgery',\n",
       "       'BDS, Certificate in Dental Implants',\n",
       "       'MBBS, DNB - General Medicine',\n",
       "       'MDS - Paedodontics And Preventive Dentistry, BDS',\n",
       "       'MBBS, Diploma in Tuberculosis and Chest Diseases (DTCD)',\n",
       "       'BAMS, MS - Ayurvedic General Surgery',\n",
       "       'MBBS, MD - Physician, DNB - General Medicine, Fellowship in Diabetology',\n",
       "       'MBBS, DNB - Internal Medicine',\n",
       "       'MBBS, FICA, MD - General Medicine',\n",
       "       'BDS, MDS - Periodontology and Oral Implantology, Current Concepts in American Dentistry Advances in Implantology and Oral Rehabilitation, Comprehensive Course in Modern Endodontics',\n",
       "       'MBBS, FACC, FCCP - Pulmonary Medicine', 'FWFO, FPFA',\n",
       "       'MBBS, MD - Internal Medicine, DM - Gastroenterology',\n",
       "       'MBBS, MD - General Medicine, DM - Cardiology',\n",
       "       'MBBS, DLO, MS - ENT',\n",
       "       'MS - ENT, Diploma in Otorhinolaryngology (DLO)',\n",
       "       'MBBS, Diploma in Family Medicine (DFM), Fellowship in Diabetology',\n",
       "       'BHMS, Diploma in Medical Cosmetology',\n",
       "       'MBBS, Diploma in Otorhinolaryngology (DLO), DNB - Otorhinolaryngology',\n",
       "       'MBBS, DDVL, Fellowship in Dermatological Laser Surgery, Fellowship In Cosmetic Dermatology',\n",
       "       'MBBS, MD - Family Medicine, Post Graduate Diploma in Diabetology (PGDD)',\n",
       "       'MBBS, MSc',\n",
       "       'Diploma in Otorhinolaryngology (DLO), MS - ENT, MBBS',\n",
       "       'MBBS, Diploma in Family Medicine (DFM)',\n",
       "       'MD - General Medicine, MBBS',\n",
       "       'DNB - ENT, Diploma in Otorhinolaryngology (DLO), MBBS',\n",
       "       'MBBS, MD - Dermatology, MD - Dermatology , Venereology & Leprosy',\n",
       "       'MBBS, Diploma in Child Health (DCH), DNB - Paediatrics',\n",
       "       'BSc, BHMS', 'BAMS, MD- Ayurveda Rasashastra',\n",
       "       'BAMS, PG Dip (Medical Education), Fellow of Academy of General Education (FAGE), MBA (Health Care)',\n",
       "       'MS - Otorhinolaryngology, MBBS',\n",
       "       'BAMS, MD - Alternate Medicine, Fellow of Academy of General Education (FAGE), Diploma in Preventive & Promotive Healthcare',\n",
       "       'BHMS, MD - General Medicine',\n",
       "       'MDS - Oral & Maxillofacial Surgery, Implant Training Course- Nobel Biocare, BDS',\n",
       "       'MBBS, Diploma in Dermatology, MD - Dermatology',\n",
       "       'MBBS, Certificate Course in Evidence Based Diabetes Management (CCEBDM)',\n",
       "       'DDVL', 'BHMS, DNHE', 'BAMS, Diploma in Clinical Nutrition',\n",
       "       'BHMS, MD - Alternate Medicine, Masters in Counselling and Psychotherapy',\n",
       "       'MBBS, MD - Internal Medicine, Post Graduate Diploma in Diabetology (PGDD), Fellowship in Diabetology',\n",
       "       'Diploma in Otorhinolaryngology (DLO), MBBS',\n",
       "       'MBBS, DNB - ENT, MS - ENT, FCPS - Oto-Rhino-Laryngology, Diploma in Otorhinolaryngology (DLO)',\n",
       "       'BDS, MDS - Paedodontics And Preventive Dentistry, Certification for Professional Chemical Peel Workshop',\n",
       "       'BHMS, Diploma in Cosmetology, MD - Dermatology',\n",
       "       'BAMS, M. D. IN KAYACHIKISTA', 'MBBS, MD - Pharmacology',\n",
       "       'MBBS, Fellowship of College of General Practice (FCGP)',\n",
       "       'MDS - Periodontology and Oral Implantology, BDS',\n",
       "       'MD - Homeopathy, PGDPC (Post Graduation Diploma In Psychological Counselling)',\n",
       "       'MBBS, DNB - Family Medicine',\n",
       "       'MBBS, MS - ENT, Diploma in Aesthetic Medicine',\n",
       "       'BDS, Post-Graduate Certificate in Oral Implantology (PGCOI)',\n",
       "       'BDS, MDS - Oral & Maxillofacial Surgery',\n",
       "       'MDS - Prosthodontist And Crown Bridge',\n",
       "       'MD - Homeopathy, BHMS, DNHE',\n",
       "       'MBBS, MD - Dermatology, Fellow of the American Academy of Dermatology (FAAD)',\n",
       "       'BAMS, MBA (HCS)', 'MBBS, DVD',\n",
       "       'MBBS, Diploma in Anesthesiology, Postgraduate Diploma Clinical Cardiology (PGDCC)',\n",
       "       'BHMS, MD - Ayurveda Medicine',\n",
       "       'MBBS, MASTERS IN MEDICAL SCIENCE AND TECHNOLOGY',\n",
       "       'DNB - Dermatology & Venereology, MBBS',\n",
       "       'BDS, MDS-Oral Pathology and Oral Microbiology',\n",
       "       'MBBS, MS - ENT, DNB',\n",
       "       'MBBS, Post Graduate Diploma in Diabetes, Fellowship in Diabetology',\n",
       "       'MD - Homeopathy, DHMS (Diploma in Homeopathic Medicine and Surgery)',\n",
       "       'MBBS, MS - ENT, DNB - ENT',\n",
       "       'MBBS, DDV, Diploma in Health Administration',\n",
       "       'BDS, Advanced Certificate Course in Dental Implants',\n",
       "       'MBBS, Diploma in Otorhinolaryngology (DLO), Fellow of Academy of General Education (FAGE), FRCS - General Surgery',\n",
       "       'BDS, MDS - Periodontics, Fellowship and Diplomate in Implantology from ICOI (USA), DICOI',\n",
       "       'MD - Dermatology , Venereology & Leprosy', 'BHMS, PGDHA',\n",
       "       'MBBS, MD - General Medicine, MRCP - General Medicine',\n",
       "       'BDS, MDS - Periodontics, MSc',\n",
       "       'BDS, Certification in Aesthetic Dentistry',\n",
       "       'MBBS, MD - Homeopathy, MD - General Medicine',\n",
       "       'MDS - Pedodontics, BDS',\n",
       "       'MBBS, MD - Dermatology, DNB - Dermatology & Venereology, F.C.P.S (Dermatology)',\n",
       "       'MD - Homeopathy',\n",
       "       'BDS, MDS - Oral & Maxillofacial Surgery, Training in Surgical Oncology',\n",
       "       'MBBS, MD - General Medicine, FCD - Diabetology',\n",
       "       'MBBS, Post Graduate Course in Diabetology, DipFM',\n",
       "       'Diploma in Child Health (DCH), MBBS',\n",
       "       'MD - General Medicine, DNB, Diploma in Geriatric Medicine',\n",
       "       'BAMS, Certificate Course in Kshar Sutra Surgery',\n",
       "       'MBBS, DORL (ENT), MS - ENT', 'MBBS, MD - Dermatology, DNB',\n",
       "       'MBBS, MD - General Medicine, Diploma in Cardiology',\n",
       "       'MBBS, MD - Oncology',\n",
       "       'BHMS, MD - Homeopathy, MA - Clinical Psychology',\n",
       "       'Diploma in Dermatology, MD - Dermatology',\n",
       "       'MBBS, PG in Diabetology, FCCP',\n",
       "       'MBBS, Diploma in Child Health (DCH), Diploma of The Australian Institute of Dermatology, PG Diploma in Endocrinology',\n",
       "       'MBBS, MD - Medicine, DM - Cardiology, FACC, FESC',\n",
       "       'BSc - Dietitics / Nutrition, MBBS, Diploma in Child Health (DCH)',\n",
       "       'MBBS, Diploma in Tuberculosis and Chest Diseases (DTCD), DNB - General Medicine',\n",
       "       'BHMS, MSc', 'MBBS, MD - General Medicine, CCEDM',\n",
       "       'BDS, MDS, Fellowship in Oral implantlogy',\n",
       "       'MBBS, MD - General Medicine, DM - Cardiology, FIAMS',\n",
       "       'BAMS, Certificate in Food and Nutrition, Diploma in Dietatics & Clinical Nutrition',\n",
       "       'MBBS, DNB - General Medicine, Fellowship in Diabetology(Johns Hopkins University School of Medicine, USA)',\n",
       "       'DDVL, Diploma in Dermatology',\n",
       "       'Diploma in Hospital Administration, BAMS',\n",
       "       'BAMS, MS - Ayurveda, Certificate in Child Health (CCH)',\n",
       "       'MBBS, MD - Internal Medicine, DNB - General Medicine, Post Graduate Diploma in Diabetology (PGDD)',\n",
       "       'MBBS, DDVL, Fellowship in Cosmetology and Dermatosurgery, Fellowship in Aesthetic Medicine',\n",
       "       'MBBS, MS - General Surgery, MS - Paediatrics Surgery',\n",
       "       'MBBS, MD - Dermatology, DVL - Dermatology & Venereology',\n",
       "       'MBBS, Post Graduate Course in Diabetology, FCPS - General Surgery',\n",
       "       'DMS, MD - Homeopathy', 'MDS, BDS', 'MDS - Pedodontics',\n",
       "       'BAMS, BSAM, MS - Counselling & Psychotherapy',\n",
       "       'MBBS, Advanced Certificate Course In Diabetes, PG in Diabetology, Post Graduate Diploma in Diabetology (PGDD)(University of Leicester, UK)',\n",
       "       'B.Sc, MBBS, MD - General Medicine, Master of Clinical Embryology, Diploma of Clinical Hypnotherapy',\n",
       "       'BDS, B.Sc - Zoology (Hons.)',\n",
       "       'MBBS, Fellowship in Diabetology, Diploma in Emergency Medicine',\n",
       "       'MBBS, PGD ND',\n",
       "       'DHMS (Diploma in Homeopathic Medicine and Surgery), MD - Homeopathy',\n",
       "       'MBBS, MD - Skin & VD',\n",
       "       'BHMS, Certificate Course in Advanced Homoeopathy (C.C.A.H), Post Graduate Diploma in Emergency Medical Services',\n",
       "       'BHMS, PG - Homeo',\n",
       "       'MBBS, DDV, FCPS - Dermatology, Venereology & Leprosy',\n",
       "       'B.Sc, BHMS, Certificate in Food and Nutrition, Certificate Course in Advanced Homoeopathy (C.C.A.H)',\n",
       "       'MBBS, MD - General Medicine, DNB - Nephrology',\n",
       "       'MBBS, MD - Dermatology, MNAMS - DERMATOLOGY, Diploma in Dermatology',\n",
       "       'MBBS, MD - Family Medicine',\n",
       "       'BAMS, Post Graduate Diploma in Emergency Services (PGDEMS), MS - Psychology',\n",
       "       'BHMS, CGO', 'MBBS, Post Graduate Diploma in Diabetology (PGDD)',\n",
       "       'MBBS, MD - General Medicine, DDV',\n",
       "       'MBBS, Fellowship in Emergency Medicine, Post Graduate Diploma in Diabetology (PGDD)(Madras Medical College), PG Diploma in Endocrinology',\n",
       "       'BDS, Professional Implantology Training Course (PITC), Advanced Surgical Training In Implants, Certification in Full Mouth Rehabilitation',\n",
       "       'MS - ENT, DNB - ENT',\n",
       "       'MBBS, MS - General Surgery, MCh - Neuro Surgery',\n",
       "       'MS - Otorhinolaryngology, DNB - Otorhinolaryngology, FCPS - Mid. & Gynae, MBBS',\n",
       "       'MBBS, Post Graduate Diploma in Diabetology (PGDD), MD - General Medicine',\n",
       "       'DNB - Family Medicine, MBBS, DHM',\n",
       "       'MBBS, Diploma in Child Health (DCH)',\n",
       "       'MDS - Operative Dentistry, BDS',\n",
       "       'BDS, Post Graduate Diploma In Aesthetic & Restorative Dentistry',\n",
       "       'MBBS, DDV, MD - Skin & VD',\n",
       "       'MBBS, DNB - ENT, DNB - Otorhinolaryngology',\n",
       "       'MBBS, MS - ENT, MCh - Oncology',\n",
       "       'MD - General Medicine, FRCP, FIAMS, MBBS',\n",
       "       'BDS, Diploma in Hospital Administration', 'MBBS, DM - Neurology',\n",
       "       'MS - ENT, DNB - ENT, MBBS',\n",
       "       'MBBS, MS - Otorhinolaryngology, MS - ENT, Fellowship in Rhinology and Endoscopic Skull Base Surgery, Fellowship in Head & Neck Surgery',\n",
       "       'MBBS, DDV, MD - Skin,VD & Leprosy',\n",
       "       'Post Graduate Certificate in Endodontics (PGCE), BDS',\n",
       "       'MBBS, D.D, MD - Dermatology',\n",
       "       'MBBS, MD - Dermatology, PhD - Dermatology & Venereology', 'BSAM',\n",
       "       'MBBS, MD - Dermatology, Fellowship in Dermatological Laser Surgery',\n",
       "       'MBBS, MD - Microbiology',\n",
       "       'BAMS, PG in Clinical Nutrition and Dietetics',\n",
       "       'MD-DVL, MBBS, DNB - Dermatology & Venereology',\n",
       "       'MBBS, MS - General Surgery, Diploma in Otorhinolaryngology (DLO)',\n",
       "       'MBBS, DNB - Obstetrics & Gynecology',\n",
       "       'MBBS, Diploma of the Faculty of Family Planning (DFFP), Diploma in Practical Dermatology, MRCGP',\n",
       "       'MBBS, DDV, Fellow of Academy of General Education (FAGE)',\n",
       "       'MBBS, Diploma in Cosmetology',\n",
       "       'MS - ENT, MBBS, DNB - Otorhinolaryngology', 'MS - Ayurveda, BAMS',\n",
       "       'MBBS, DDVL, Certificate of Completion of Specialist Training- Transplant Surgery (CCST-TS)',\n",
       "       'MBBS, MD - General Medicine, DM - Cardiology, Fellowship In Interventional Cardiology',\n",
       "       'MBBS, DNB - Dermatology & Venereology, Fellow of the American Academy of Dermatology (FAAD), DVD',\n",
       "       'MBBS, Fellowship in Diabetology', 'BAMS, MS - Psychology',\n",
       "       'MBBS, MS - MS.Medicine',\n",
       "       'MBBS, MD - Dermatology, Diploma in Medical Law and Ethics (PGDMLE), Diploma in Medical Cosmetology',\n",
       "       'MBBS, MD - Dermatology , Venereology & Leprosy, FRGUHS',\n",
       "       'MBBS, Diploma in Otorhinolaryngology (DLO), FAMS - Fellowship of the Academy Medicine',\n",
       "       'BDS, MDS - Prosthodontist & Oral Implantologist, Fellowship in Oral implantlogy',\n",
       "       'Diploma in Otorhinolaryngology (DLO), MBBS, DNB',\n",
       "       'BHMS, Post Graduate Diploma in Emergency Services (PGDEMS), PGDPC (Post Graduation Diploma In Psychological Counselling)',\n",
       "       'MBBS, DDV, DDVL', 'MBBS, MS - Orthopaedics',\n",
       "       'BDS, MDS - Endodontics',\n",
       "       'MBBS, Post Graduate Diploma in Maternity and Child Health (PGDMCH)',\n",
       "       'B.Sc, MSc, MBBS', 'BDS, Master of Public Health (MPH)',\n",
       "       'BHMS, Diploma in Nutrition and Health Education', 'MBBS, DGO',\n",
       "       'MBBS, Fellowship in Nephrology', 'MBBS, Diploma in Diabetology',\n",
       "       'BAMS, Post Graduate Diploma in Clinical Research (PGDCR)',\n",
       "       'BDS, Certificate Course in Implantology',\n",
       "       'BDS, Diploma in Health Administration', 'BDS, MBA (Health Care)',\n",
       "       'Diploma in Aesthetic Medicine, Certificate in Aesthetic Medicine, Diploma in Practical Dermatology, MBBS',\n",
       "       'MDS - Paedodontics And Preventive Dentistry, BDS, Certified in Inhalational Sedation',\n",
       "       'BHMS, PG Diploma in Preventive and Promotive Health Care (PGD PPHC), MSc. - Food Service Management & Dietetics, Certificate in Yoga & Meditation',\n",
       "       'MBBS, MD - Physiology, AFIH, Diploma in Diabetes Management Certificate Program',\n",
       "       'MBBS, MD - General Medicine, Post Graduate Diploma in Diabetology (PGDD), Post Graduate Diploma in Diabetology (PGDD)',\n",
       "       'MD - Ayurveda Medicine, BAMS',\n",
       "       'MBBS, DVD, DNB - Dermatology & Venereology',\n",
       "       'BDS, Certificate in Dental Implants, Certificate in Cosmetic Dentistry',\n",
       "       'MBBS, DDVL, DNB - Dermatology & Venereology, MNAMS (Membership of the National Academy)',\n",
       "       'BAMS, Post Graduate Diploma in Psychological Counseling',\n",
       "       'Diploma in Dermatology', 'BDS, MDS - Public Health Dentistry',\n",
       "       'MD - Dermatology , Venereology & Leprosy, DNB - Dermatology & Venereology',\n",
       "       'MBBS, DDVL, Certificate in Cosmetology',\n",
       "       'BHMS, PG - Homeo, Diploma in Diet and Nutrition', 'MBBS, DOMS',\n",
       "       'MS - Otorhinolaryngology, DNB - ENT, MBBS',\n",
       "       'BSc - Zoology, MBBS, Diploma in ENT, MS - ENT',\n",
       "       'MBBS, Diploma in Clinical Dermatology (UK)',\n",
       "       'Diploma in Ayurvedic Medicine (DAM)',\n",
       "       'MBBS, M.Med in Family Medicine, post graduate diploma in health Sciences in diabetology',\n",
       "       'MBBS, MS - ENT, Diploma in ENT',\n",
       "       'MBBS, Post Graduate Diploma in Dermotology (PGDD)',\n",
       "       'BAMS, MD - Alternate Medicine, Post Graduate Diploma in Clinical Research (PGDCR), Certificate in Aesthetic Medicine, Yoga Teachers Training Course, Certified in Ayurveda Approach to Diabetes mellitus, Certified in Ayurveda Beauty care',\n",
       "       'MBBS, DNB, DDVL', 'BAMS, PG Diploma in Panchakarma',\n",
       "       'MBBS, DNB, Master of Hospital Administration',\n",
       "       'BHMS, MD - Medicine',\n",
       "       'MBBS, DNB - Respiratory Diseases, FCCP - Pulmonary Medicine, DAA - Diploma in Allergy Asthma and Immunology, P.G Diploma in Diabetes Management, Fellowship in Clinical Cardiology',\n",
       "       'MBBS, MD - Dermatology, Diploma in Aesthetic Medicine, Diploma in International Academy of Aesthestic Medicine',\n",
       "       'MBBS, MD - Dermatology , Venereology & Leprosy, DNB - Dermatology & Venereology',\n",
       "       'MBBS, MS - General Surgery, DNB, FRCS - General Surgery, MCh - Surgical Gastroenterology/G.I. Surgery',\n",
       "       'BPTh/BPT, Masters Of Physiotheraphy, BAMS',\n",
       "       'MBBS, MD - Dermatology, Diploma in Dermatology',\n",
       "       'MBBS, MRCGP, Diploma in Child Health (DCH), DRCOG, Diploma of the Faculty of Family Planning (DFFP)',\n",
       "       'BDS, MDS - Operative Dentistry',\n",
       "       'MBBS, MD - Dermatology, Fellow of Academy of General Education (FAGE)',\n",
       "       'MBBS, MD - Dermatology, FRGUHS',\n",
       "       'BAMS, Diploma in Hospital Management',\n",
       "       'DDVL, MD - Dermatology , Venereology & Leprosy',\n",
       "       'BDS, Certificate in Orthodontics',\n",
       "       'MD - General Medicine, DNB - General Medicine, MBBS, European Diploma in Intensive Care Medicine (EDIC), Fellowship in Diabetology',\n",
       "       'MBBS, MD - TB & Chest',\n",
       "       'MBBS, DDVL, DNB - Dermatology & Venereology',\n",
       "       'MBBS, FRCS - Otolaryngology', 'BDS, MDS - Oral Medicine',\n",
       "       'MBBS, Diploma in Orthopaedics, MS - Orthopaedics',\n",
       "       'MD - Homeopathy, Diploma in Acupuncture',\n",
       "       'BDS, Fellowship in Aesthetic Medicine', 'MBBS, MD - Physician',\n",
       "       'MBBS, MD - General Medicine, Post Graduate Diploma in Diabetology (PGDD), Fellowship In Critical Care, Fellowship in Rheumatology',\n",
       "       'BDS, Fellowship in Oral implantlogy, Diploma in Laser Dentistry, Fellowship and Diplomate in Implantology from ICOI (USA)',\n",
       "       'MBBS, MD - Skin,VD & Leprosy',\n",
       "       'BAMS, Diploma in Emergency Medicine',\n",
       "       'BDS, PG Diploma in Conservative, Endodontics and Aesthetic Dentistry, Fellowship In Clinical Cosmetology, PG Diploma In Clinical Cosmetology (PGDCC), MBA - Hospital Management, Diploma in Cosmetic Dentistry, Fellow of Academy of General Education (FAGE), Advanced Retreatment Course in RCT, Advanced Endotontic Course On Root Canal, Certified Course in Oral Surgery, MIDA, Certification in Prosthodontics & Periodontology, Certified Advanced Course in Wisdom Tooth Extraction, Certificate in Cosmetic Dentistry, Fellowship in Aesthetic Dentistry (FAD), Post Graduate Certificate in Endodontics (PGCE)',\n",
       "       'FAMS - Fellowship of the Academy Medicine, MBBS, MS - ENT, Diploma in ENT, Specialized Training in Otology, Fellowship in Head & Neck Oncology Surgery, Advanced Endoscopy Training, Cochlear Implant Surgery, Advance Course on Diagnosis of Allergy and Immunotherapy',\n",
       "       'BDS, MDS - Conservative Dentistry & Endodontics, MD - Dental Laser',\n",
       "       'BHMS, MD - Homeopathy, MS - Counselling and Psychotherapy',\n",
       "       'BAMS, Fellowship in Medical Cosmetology',\n",
       "       'MDS - Periodontics, BDS, MDS',\n",
       "       'MBBS, MD - General Medicine, DM - Gastroenterology',\n",
       "       'MBBS, MS - Otorhinolaryngology, DNB',\n",
       "       'Diploma in Dermatology, MD - Skin,VD & Leprosy, MBBS',\n",
       "       'MBBS, MD - Alternate Medicine',\n",
       "       'BHMS, BHMS, Certificate in Child Health (CCH)',\n",
       "       'MBBS, MD - Aerospace Medicine, DIH, Diploma in Hospital Administration, Fellowship of College of General Practice (FCGP)',\n",
       "       'BDS, MDS - Orthodontics and Dentofacial Orthopaedics, Certificate of Oral Implantology',\n",
       "       'BHMS, MD - Alternate Medicine', 'MD - Skin & VD, MBBS',\n",
       "       'BAMS, Fellow of Academy of General Education (FAGE), Post Graduate Diploma In Yoga',\n",
       "       'MBBS, MSc - Clinical Dermatology',\n",
       "       'MBBS, Post Graduate Diploma in Medical Law and Ethics, Msc Clinical Research & Regulatory Affairs, Diploma in Family Medicine (DFM)',\n",
       "       'BDS, PGCAD',\n",
       "       'MBBS, MD - Cardiology, DM - Cardiology, FCCP - Pulmonary Medicine',\n",
       "       'DHMS (Diploma in Homeopathic Medicine and Surgery), Diploma in Trichology - Cosmetology, Diploma in Obesity & Pain management',\n",
       "       'BHMS, Diploma in Diet and Nutrition',\n",
       "       'MBBS, FCPS - Dermatology, Venereology & Leprosy',\n",
       "       'BDS, Certification in Clear Aligners, MDS - Orthodontics',\n",
       "       'MBBS, MD - General Medicine, Fellowship in Diabetes (UK), CCEBDM, CCT - Endocrinology and Diabetes Mellitus',\n",
       "       'MBBS, DNB - Dermatology & Venereology, DDV, DVD',\n",
       "       'MBBS, Fellowship in Diabetology, Certificate Course in Gestational Diabetes Mellitus',\n",
       "       'BHMS, MD - Homeopathy, MBA - Hospital Management',\n",
       "       'MBBS, DNB - Internal Medicine, M.H.Sc-Diabetology',\n",
       "       'DNB - Dermatology, Venereology & Leprosy, MBBS, DDVL',\n",
       "       'DNB - Pediatrics, MBBS',\n",
       "       'M.D. (Ayu.), Panchkarma, Consultant Rheumatologist (Ayu.), DYSc., BAMS',\n",
       "       'MBBS, Diploma in Clinical Dermatology (UK), Diploma In Skin Aesthetics',\n",
       "       'MBBS, MD - Medicine, DM - Nephrology',\n",
       "       'MBBS, MS - General Surgery, MD - Medicine',\n",
       "       'MD - Dermatology , Venereology & Leprosy, DNB, MRCP (UK)',\n",
       "       'MBBS, DDV, DNB, MD - Dermatology',\n",
       "       'MBBS, MS - ENT, Fellowship In Phonosurgery',\n",
       "       'Diploma in ENT, MBBS', 'BHMS, MD - Medicine, PhD - Medicine',\n",
       "       'BHMS, Certificate in Food and Nutrition',\n",
       "       'BAMS, DNHE, Certification In Yoga', 'MBBS, DLO, DNB - ENT',\n",
       "       'MBBS, MD - General Medicine, DM - Medical Oncology',\n",
       "       'MBBS, MD - Dermatology , Venereology & Leprosy, Fellowship In Dermatosurgery, Certificate Course In Cosmetic Dermatology & Lasers',\n",
       "       'MD - Practice Of Medicine, BHMS, Diploma in Trichology - Cosmetology, Certificate in Child Health (CCH), CGO, MBBS',\n",
       "       'MBBS, DPM (Psychiatry)',\n",
       "       'MBBS, Diploma in Otorhinolaryngology (DLO), MS - ENT, FRCS - General Surgery',\n",
       "       'MBBS, MD - Community Medicine',\n",
       "       'MBBS, MD - General Medicine, Post Graduate Diploma in Diabetology (PGDD)(Madras Medical College)',\n",
       "       'MD - Dermatology, DNB - Dermatology & Venereology, MBBS',\n",
       "       'MS - Otorhinolaryngology, DNB - ENT, DHM, MBBS',\n",
       "       'B.Sc, BAMS, MD - Yoga and Rehab', 'MBBS, MD - Skin & VD, MAMS',\n",
       "       'MBBS, PG Diploma In Emergency Trauma Care, ACLS',\n",
       "       'MBBS, DDVL, Fellowship in Pediatric Dermatology',\n",
       "       'MBBS, DNB - Dermatology, Venereology & Leprosy',\n",
       "       'MBBS, DDVL, Fellowship IN FUE Hair Transplant Technique',\n",
       "       'MBBS, Postgraduate Diploma Clinical Cardiology (PGDCC), PG Diploma in Human Rights',\n",
       "       'MBBS, DNB - Paediatrics, Diploma in Child Health (DCH)',\n",
       "       'MBBS, Diploma in Dermatology, Diploma in Medical Cosmetology',\n",
       "       'MBBS, DDVL, AFIH', 'MBBS, MS - Otorhinolaryngology, MS - ENT',\n",
       "       'MD - Panchakarma, BAMS', 'DNB - General Medicine, MD - Physician',\n",
       "       'MBBS, MD - Family Medicine, Post Graduate Diploma in Diabetes, Certification Course In Diabetes',\n",
       "       'MD - Dermatology , Venereology & Leprosy, Fellow of the American Academy of Dermatology (FAAD), MBBS',\n",
       "       'MD - Homeopathy, PGCR',\n",
       "       'BDS, MDS - Endodontics, Certification in Laser Dentistry',\n",
       "       'MBBS, Diploma in Otorhinolaryngology (DLO), DNB - Ophthalmology',\n",
       "       'BAMS, MD - Ayurveda Medicine, Fellowship in Sexual Medicine, Fellowship in Rheumatology',\n",
       "       'MBBS, MD - Dermatology, DNB - Dermatology & Venereology, Fellowship in Cosmetology',\n",
       "       'MDS - Community Dentistry, BDS', 'MBBS, DNB - Nephrology',\n",
       "       'MBBS, MD - General Medicine, Post Graduate Diploma in Diabetology (PGDD)',\n",
       "       'MBBS, MD - General Medicine, Post Graduate Diploma in Diabetology (PGDD), Certificate Course in Evidence Based Diabetes Management (CCEBDM), FRCP',\n",
       "       'BAMS, MD-Ayurvedic Vachaspati',\n",
       "       'BAMS, MD - Ayurveda Medicine, MBA - Hospital Management',\n",
       "       'MBBS, DNB - ENT, Fellowship in Neuro-Otology and Skull Base Surgery (USA)',\n",
       "       'BDS, MDS - Orthodontics and Dentofacial Orthopaedics, Certificate of Oral Implantology, Fellowship in Aesthetic Medicine, Invisalign Training Course',\n",
       "       'MBBS, MS - General Surgery, FRCS - General Surgery, MCh - Urology, DNB - Urology/Genito - Urinary Surgery',\n",
       "       'MBBS, AFIH, Fellowship in Diabetology',\n",
       "       'BDS, MDS - Prosthodontist And Crown Bridge, Fellowship in Oral implantlogy',\n",
       "       'MBBS, DVL, MD - Dermatology , Venereology & Leprosy',\n",
       "       'BHMS, Fellowship in Medical Cosmetology (FMC)',\n",
       "       'MBBS, MD - Dermatology, DNB - Dermatology & Venereology',\n",
       "       'MBBS, DDVL, Fellowship In Dermatosurgery',\n",
       "       \"BAMS, Master of Arts - Yoga, Yoga Instructor's Course\",\n",
       "       'MBBS, MS - Otorhinolaryngology, Fellowship in Head & Neck Oncology Surgery, Fellowship in Skull Base Surgery, Fellowship in Head & Neck Oncology Surgery',\n",
       "       'PhD - Orthodontics & Dentofacial Orthopaedics, BDS', 'FICD',\n",
       "       'MBBS, BDS, FDSRCS - Fellowship in Dental Surgery',\n",
       "       'MDS - Endodontics, BDS',\n",
       "       'MS - ENT, Diploma in Otorhinolaryngology (DLO), Diploma in Opthalmology, MBBS',\n",
       "       'BHMS, M.Phil - Psychology, MSc - Applied Psychology',\n",
       "       'MS - Otorhinolaryngology, Diploma in Otorhinolaryngology (DLO)',\n",
       "       'MBBS, DNB - ENT',\n",
       "       'MBBS, MS - Otrohinolaryngology, DNB - Otorhinolaryngology',\n",
       "       'MD - Internal Medicine, MBBS', 'DNB - ENT, MS - ENT, MBBS',\n",
       "       'BDS, MDS - Prosthodontist And Crown Bridge, FICOI',\n",
       "       'MBBS, MS - Otorhinolaryngology, Diploma in Otorhinolaryngology (DLO), Diploma in Health Administration',\n",
       "       'DEHM, BEMS',\n",
       "       'BDS, MDS - Conservative Dentistry & Endodontics, DNB',\n",
       "       'MBBS, MD - Dermatology , Venereology & Leprosy, DDV',\n",
       "       'BAMS, MSc - Yoga', 'MBBS, DPH & H',\n",
       "       'BHMS, Certificate Course in Advanced Homoeopathy (C.C.A.H)',\n",
       "       'MD - Medicine, MBBS',\n",
       "       'MBBS, DDV, Fellowship in Dermatological Laser Surgery',\n",
       "       'MBBS, DNB - Pediatrics, Fellowship in Paediatric gastroenterology & Hepatology, Fellowship In Transplant Hepatology',\n",
       "       'DNB - Dermatology & Venereology, MNAMS - DERMATOLOGY, F.C.P.S (Dermatology), DDV, MBBS',\n",
       "       'MS - Otorhinolaryngology, DNB - Otorhinolaryngology, MBBS',\n",
       "       'MBBS, MD - General Medicine, DNB', 'DDVL, MBBS, F.A.M',\n",
       "       'BAMS, MD - Internal Medicine, Diploma in Emergency Medicine, Post Graduate Diploma In Yoga',\n",
       "       'MBBS, Post Graduate Diploma in Diabetology (PGDD), PG in Diabetology(Johns Hopkins University School of Medicine, USA)',\n",
       "       'BHMS, Post Graduate Diploma In Yoga',\n",
       "       'MBBS, MD - General Medicine, DNB - Neurology',\n",
       "       'LCEH, MD - Homeopathy',\n",
       "       'MRCGP, Post Graduate Diploma in Diabetology (PGDD)(University of Leicester, UK), MBBS',\n",
       "       'MBBS, MD - Dermatology , Venereology & Leprosy, MRCPS', 'MDS',\n",
       "       'MBBS, Post Graduate Diploma in Diabetology (PGDD), Certificate Course in Evidence Based Diabetes Management (CCEBDM)',\n",
       "       'MBBS, MS - ENT, Diploma in Otorhinolaryngology (DLO), FRCS - General Surgery',\n",
       "       'MBBS, MD - General Medicine, DM - Nephrology',\n",
       "       'MBBS, MD - Dermatology, DVL',\n",
       "       'BHMS, MD - Homeopathy Psychiatry, Post Graduate Diploma in Clinical Research (PGDCR), MS - Psychology',\n",
       "       'BAMS, MS - Counselling and Psychotherapy',\n",
       "       'FPFA, BDS, FPFA, MDS - Conservative Dentistry & Endodontics',\n",
       "       'MBBS, MD - Internal Medicine, DNB - General Medicine',\n",
       "       'DHMS (Diploma in Homeopathic Medicine and Surgery), PhD - Homoeopathy',\n",
       "       'MBBS, Fellow of Academy of General Education (FAGE), BSc - Dietitics / Nutrition',\n",
       "       'MBBS, MS - Otorhinolaryngology, DNB - Otorhinolaryngology',\n",
       "       'MBBS, Post Graduate Diploma in Diabetology (PGDD), MD - Diabetology',\n",
       "       'MBBS, M.D. (Psychiatry)',\n",
       "       'MBBS, MBBS, MD - General Medicine, MD - Community Medicine, MD - Medicine',\n",
       "       'BDS, Certificate in Dental Implants, Certificate in Dental Implants',\n",
       "       'Diploma in Cardiology, MBBS, MD - General Medicine, PG in Diabetology',\n",
       "       'MBBS, MRCGP, Diploma in Diabetes',\n",
       "       'DHMS, DHMS (Diploma in Homeopathic Medicine and Surgery)',\n",
       "       'MBBS, MS - ENT, Specialized Training in Otology',\n",
       "       'MBBS, MD - Dermatology , Venereology & Leprosy, DLO',\n",
       "       'MBBS, MS - General Surgery, MCh - Plastic Surgery',\n",
       "       'MBBS, MD - Dermatology, DDV, DNB', 'MBBS, Diploma in Acupuncture',\n",
       "       'MBBS, Post Graduate Diploma in Diabetology (PGDD), Diploma in Family Medicine (DFM)',\n",
       "       'MRCS (UK), MBBS, MS - Otorhinolaryngology',\n",
       "       'MS - Otorhinolaryngology, DNB - ENT',\n",
       "       'MBBS, Graduate Diploma in Family Medicine, Singapore',\n",
       "       'BDS, Certification in Full Mouth Rehabilitation',\n",
       "       'MRCP (UK), Diploma in Dermatology, MBBS',\n",
       "       'MBBS, DDVL, MD - Skin & VD', 'BDS, Diploma in Laser Dentistry',\n",
       "       'DM - Pulmonary Medicine, MBBS, DM - Critical Care Medicine',\n",
       "       'BHMS, Diploma in Dermatology (Alt)',\n",
       "       'BDS, Certificate in Dental Implantology',\n",
       "       'MBBS, MS - General Surgery, Fellow of Academy of General Education (FAGE), Diploma in Laparoscopy',\n",
       "       'MBBS, MD - Skin,VD & Leprosy, Fellow of the American Academy of Dermatology (FAAD), DNB - Dermatology & Venereology',\n",
       "       'BHMS, PGDPC (Post Graduation Diploma In Psychological Counselling), Post Graduate Diploma in Emergency Services (PGDEMS)',\n",
       "       'BDS, MDS - Oral Pathology & Bacteriology',\n",
       "       'MDS - Orthodontics, BDS, MOrth', 'BAMS, DNHE',\n",
       "       'MBBS, MD - Tuberculosis & Respiratory Diseases / Pulmonary Medicine',\n",
       "       'MBBS, Post Graduate Diploma in Family Medicine (PGDFM)',\n",
       "       'MD - Physician, FDIAB, Post Graduate Diploma in Diabetology (PGDD)',\n",
       "       'MBBS, FCCP, CCEBDM', 'MS - Otorhinolaryngology, MBBS, DNB - ENT',\n",
       "       'MBBS, DM - Cardiology, MD - Medicine',\n",
       "       'MD - General Medicine, MBBS, DM - Cardiology',\n",
       "       'MDS - Prosthodontist And Crown Bridge, Certificate of Oral Implantology, BDS',\n",
       "       'MBBS, MD - Rheumatology',\n",
       "       'MD - Physician, PGDHSc, Diploma in Diabetology, Postgraduate Diploma Clinical Cardiology (PGDCC), Fellowship in Diabetology(Johns Hopkins University School of Medicine, USA)',\n",
       "       'MS - ENT, DNB - ENT, MBBS, MRCS (UK), MNAMS (Membership of the National Academy)',\n",
       "       'BDS, Fellowship in Oral implantlogy, Certificate of Oral Implantology',\n",
       "       'BAMS, D-Pharm',\n",
       "       'MBBS, MD - Medicine, Fellowship in Diabetes Management',\n",
       "       'BAMS, Diploma in Cosmetology, Diploma in Health Administration',\n",
       "       'MS - General Surgery, MBBS',\n",
       "       'BAMS, M.S. (Ayurved) Stri Roga & Prasuti Tantra',\n",
       "       'MBBS, DNB - Neurology, DNB - General Medicine', 'MBBS, DDVL, DDV',\n",
       "       'BHMS, Post Graduate Diploma in Emergency Medical Services, DHMS (Diploma in Homeopathic Medicine and Surgery)',\n",
       "       'Certification in Aesthetic Dentistry, MDS - Orthodontics, BDS',\n",
       "       'DPM (Psychiatry), MBBS', 'MBBS, MD - Dermatology, DDVL',\n",
       "       'BDS, MDS - Orthodontics, Certificate of Oral Implantology',\n",
       "       'MD - Acupuncture, PG Diploma In Clinical Cosmetology (PGDCC), BDS',\n",
       "       'MBBS, PGDHA',\n",
       "       'BDS, MDS - Prosthodontist And Crown Bridge, Certificate of Oral Implantology',\n",
       "       'MBBS, MRCOG(UK)',\n",
       "       'MD - Medicine, Post Graduate Diploma in Diabetology (PGDD), MBBS, FRCP - Internal Medicine',\n",
       "       'MDS - Periodontics', 'MBBS, MS - General Surgery, FAIS, FIAGES',\n",
       "       'MBBS, MD - Dermatology , Venereology & Leprosy, DNB - Dermatology, Venereology & Leprosy',\n",
       "       'BAMS, Doctor of Medicine',\n",
       "       'MBBS, MD / MS - Obstetrics & Gynaecology'], dtype=object)"
      ]
     },
     "execution_count": 47,
     "metadata": {},
     "output_type": "execute_result"
    }
   ],
   "source": [
    "df_test['Qualification'].unique()"
   ]
  },
  {
   "cell_type": "code",
   "execution_count": 48,
   "id": "2db8e2b5",
   "metadata": {},
   "outputs": [],
   "source": [
    "df_test[\"Qualification\"]=df_test[\"Qualification\"].str.split(\",\")\n",
    "Qualification ={}\n",
    "for x in df_test[\"Qualification\"].values:\n",
    "    for each in x:\n",
    "        each = each.strip()\n",
    "        if each in Qualification:\n",
    "            Qualification[each]+=1\n",
    "        else:\n",
    "            Qualification[each]=1"
   ]
  },
  {
   "cell_type": "code",
   "execution_count": 49,
   "id": "79bd3c75",
   "metadata": {},
   "outputs": [
    {
     "name": "stdout",
     "output_type": "stream",
     "text": [
      "['MBBS', 'BDS', 'BHMS', 'BAMS', 'MD - Dermatology', 'MS - ENT', 'MD - General Medicine', 'Venereology & Leprosy', 'Diploma in Otorhinolaryngology (DLO)', 'DDVL']\n"
     ]
    }
   ],
   "source": [
    "most_qual = sorted(Qualification.items(),key=lambda x:x[1],reverse=True)[:10]\n",
    "final_qual = []\n",
    "for qual in most_qual:\n",
    "    final_qual.append(qual[0])\n",
    "    \n",
    "print(final_qual)"
   ]
  },
  {
   "cell_type": "code",
   "execution_count": 50,
   "id": "906b322d",
   "metadata": {},
   "outputs": [],
   "source": [
    "for title in final_qual:\n",
    "    df_test[title] = 0\n",
    "\n",
    "for x,y in zip(df_test['Qualification'].values, np.array([i for i in range(len(df_test))])):\n",
    "    for c in x:\n",
    "        c = c.strip()\n",
    "        if c in final_qual:\n",
    "            df_test[c][y] = 1"
   ]
  },
  {
   "cell_type": "code",
   "execution_count": 51,
   "id": "f3ea302f",
   "metadata": {},
   "outputs": [],
   "source": [
    "df_test.drop('Qualification',axis=1,inplace=True)"
   ]
  },
  {
   "cell_type": "code",
   "execution_count": 52,
   "id": "85176405",
   "metadata": {},
   "outputs": [
    {
     "data": {
      "text/html": [
       "<div>\n",
       "<style scoped>\n",
       "    .dataframe tbody tr th:only-of-type {\n",
       "        vertical-align: middle;\n",
       "    }\n",
       "\n",
       "    .dataframe tbody tr th {\n",
       "        vertical-align: top;\n",
       "    }\n",
       "\n",
       "    .dataframe thead th {\n",
       "        text-align: right;\n",
       "    }\n",
       "</style>\n",
       "<table border=\"1\" class=\"dataframe\">\n",
       "  <thead>\n",
       "    <tr style=\"text-align: right;\">\n",
       "      <th></th>\n",
       "      <th>Experience</th>\n",
       "      <th>Rating</th>\n",
       "      <th>Profile</th>\n",
       "      <th>Miscellaneous_Info</th>\n",
       "      <th>locality</th>\n",
       "      <th>city</th>\n",
       "      <th>Qualification_count</th>\n",
       "      <th>MBBS</th>\n",
       "      <th>BDS</th>\n",
       "      <th>BHMS</th>\n",
       "      <th>BAMS</th>\n",
       "      <th>MD - Dermatology</th>\n",
       "      <th>MS - ENT</th>\n",
       "      <th>MD - General Medicine</th>\n",
       "      <th>Venereology &amp; Leprosy</th>\n",
       "      <th>Diploma in Otorhinolaryngology (DLO)</th>\n",
       "      <th>DDVL</th>\n",
       "    </tr>\n",
       "  </thead>\n",
       "  <tbody>\n",
       "    <tr>\n",
       "      <th>0</th>\n",
       "      <td>35</td>\n",
       "      <td>0</td>\n",
       "      <td>General Medicine</td>\n",
       "      <td>NaN</td>\n",
       "      <td>Ghatkopar East</td>\n",
       "      <td>Mumbai</td>\n",
       "      <td>1</td>\n",
       "      <td>1</td>\n",
       "      <td>0</td>\n",
       "      <td>0</td>\n",
       "      <td>0</td>\n",
       "      <td>0</td>\n",
       "      <td>0</td>\n",
       "      <td>0</td>\n",
       "      <td>0</td>\n",
       "      <td>0</td>\n",
       "      <td>0</td>\n",
       "    </tr>\n",
       "    <tr>\n",
       "      <th>1</th>\n",
       "      <td>31</td>\n",
       "      <td>0</td>\n",
       "      <td>ENT Specialist</td>\n",
       "      <td>NaN</td>\n",
       "      <td>West Marredpally</td>\n",
       "      <td>Hyderabad</td>\n",
       "      <td>2</td>\n",
       "      <td>1</td>\n",
       "      <td>0</td>\n",
       "      <td>0</td>\n",
       "      <td>0</td>\n",
       "      <td>0</td>\n",
       "      <td>0</td>\n",
       "      <td>0</td>\n",
       "      <td>0</td>\n",
       "      <td>1</td>\n",
       "      <td>0</td>\n",
       "    </tr>\n",
       "    <tr>\n",
       "      <th>2</th>\n",
       "      <td>40</td>\n",
       "      <td>7</td>\n",
       "      <td>Dermatologists</td>\n",
       "      <td>70% 4 Feedback KK Nagar, Chennai</td>\n",
       "      <td>KK Nagar</td>\n",
       "      <td>Chennai</td>\n",
       "      <td>2</td>\n",
       "      <td>1</td>\n",
       "      <td>0</td>\n",
       "      <td>0</td>\n",
       "      <td>0</td>\n",
       "      <td>0</td>\n",
       "      <td>0</td>\n",
       "      <td>0</td>\n",
       "      <td>0</td>\n",
       "      <td>0</td>\n",
       "      <td>1</td>\n",
       "    </tr>\n",
       "    <tr>\n",
       "      <th>3</th>\n",
       "      <td>0</td>\n",
       "      <td>0</td>\n",
       "      <td>Ayurveda</td>\n",
       "      <td>NaN</td>\n",
       "      <td>New Ashok Nagar</td>\n",
       "      <td>Delhi</td>\n",
       "      <td>1</td>\n",
       "      <td>0</td>\n",
       "      <td>0</td>\n",
       "      <td>0</td>\n",
       "      <td>1</td>\n",
       "      <td>0</td>\n",
       "      <td>0</td>\n",
       "      <td>0</td>\n",
       "      <td>0</td>\n",
       "      <td>0</td>\n",
       "      <td>0</td>\n",
       "    </tr>\n",
       "    <tr>\n",
       "      <th>4</th>\n",
       "      <td>16</td>\n",
       "      <td>10</td>\n",
       "      <td>Dentist</td>\n",
       "      <td>General Dentistry Conservative Dentistry Cosme...</td>\n",
       "      <td>Kanakpura Road</td>\n",
       "      <td>Bangalore</td>\n",
       "      <td>2</td>\n",
       "      <td>0</td>\n",
       "      <td>1</td>\n",
       "      <td>0</td>\n",
       "      <td>0</td>\n",
       "      <td>0</td>\n",
       "      <td>0</td>\n",
       "      <td>0</td>\n",
       "      <td>0</td>\n",
       "      <td>0</td>\n",
       "      <td>0</td>\n",
       "    </tr>\n",
       "  </tbody>\n",
       "</table>\n",
       "</div>"
      ],
      "text/plain": [
       "   Experience Rating           Profile  \\\n",
       "0          35      0  General Medicine   \n",
       "1          31      0    ENT Specialist   \n",
       "2          40      7    Dermatologists   \n",
       "3           0      0          Ayurveda   \n",
       "4          16     10           Dentist   \n",
       "\n",
       "                                  Miscellaneous_Info          locality  \\\n",
       "0                                                NaN    Ghatkopar East   \n",
       "1                                                NaN  West Marredpally   \n",
       "2                   70% 4 Feedback KK Nagar, Chennai          KK Nagar   \n",
       "3                                                NaN   New Ashok Nagar   \n",
       "4  General Dentistry Conservative Dentistry Cosme...    Kanakpura Road   \n",
       "\n",
       "         city  Qualification_count  MBBS  BDS  BHMS  BAMS  MD - Dermatology  \\\n",
       "0      Mumbai                    1     1    0     0     0                 0   \n",
       "1   Hyderabad                    2     1    0     0     0                 0   \n",
       "2     Chennai                    2     1    0     0     0                 0   \n",
       "3       Delhi                    1     0    0     0     1                 0   \n",
       "4   Bangalore                    2     0    1     0     0                 0   \n",
       "\n",
       "   MS - ENT  MD - General Medicine  Venereology & Leprosy  \\\n",
       "0         0                      0                      0   \n",
       "1         0                      0                      0   \n",
       "2         0                      0                      0   \n",
       "3         0                      0                      0   \n",
       "4         0                      0                      0   \n",
       "\n",
       "   Diploma in Otorhinolaryngology (DLO)  DDVL  \n",
       "0                                     0     0  \n",
       "1                                     1     0  \n",
       "2                                     0     1  \n",
       "3                                     0     0  \n",
       "4                                     0     0  "
      ]
     },
     "execution_count": 52,
     "metadata": {},
     "output_type": "execute_result"
    }
   ],
   "source": [
    "df_test.head()"
   ]
  },
  {
   "cell_type": "code",
   "execution_count": 53,
   "id": "72e8a3be",
   "metadata": {},
   "outputs": [
    {
     "data": {
      "text/plain": [
       "array([' Ernakulam', ' Bangalore', ' Chennai', ' Delhi', ' Hyderabad',\n",
       "       ' Coimbatore', ' Mumbai', ' Thiruvananthapuram', 'Unknown',\n",
       "       ' Sector 5', nan], dtype=object)"
      ]
     },
     "execution_count": 53,
     "metadata": {},
     "output_type": "execute_result"
    }
   ],
   "source": [
    "df_train['city'].unique()"
   ]
  },
  {
   "cell_type": "code",
   "execution_count": 54,
   "id": "348d8e06",
   "metadata": {},
   "outputs": [],
   "source": [
    "import re\n",
    "df_train['city'] = df_train['city'].apply(lambda x: re.sub(' +','',str(x)))"
   ]
  },
  {
   "cell_type": "code",
   "execution_count": 55,
   "id": "f273632c",
   "metadata": {},
   "outputs": [
    {
     "data": {
      "text/plain": [
       "Bangalore             1258\n",
       "Mumbai                1219\n",
       "Delhi                 1184\n",
       "Hyderabad              951\n",
       "Chennai                855\n",
       "Coimbatore             228\n",
       "Ernakulam              153\n",
       "Thiruvananthapuram      86\n",
       "Unknown                 25\n",
       "Sector5                  1\n",
       "nan                      1\n",
       "Name: city, dtype: int64"
      ]
     },
     "execution_count": 55,
     "metadata": {},
     "output_type": "execute_result"
    }
   ],
   "source": [
    "df_train['city'].value_counts()"
   ]
  },
  {
   "cell_type": "code",
   "execution_count": 56,
   "id": "f621300f",
   "metadata": {},
   "outputs": [
    {
     "data": {
      "text/html": [
       "<div>\n",
       "<style scoped>\n",
       "    .dataframe tbody tr th:only-of-type {\n",
       "        vertical-align: middle;\n",
       "    }\n",
       "\n",
       "    .dataframe tbody tr th {\n",
       "        vertical-align: top;\n",
       "    }\n",
       "\n",
       "    .dataframe thead th {\n",
       "        text-align: right;\n",
       "    }\n",
       "</style>\n",
       "<table border=\"1\" class=\"dataframe\">\n",
       "  <thead>\n",
       "    <tr style=\"text-align: right;\">\n",
       "      <th></th>\n",
       "      <th>Experience</th>\n",
       "      <th>Rating</th>\n",
       "      <th>Profile</th>\n",
       "      <th>Miscellaneous_Info</th>\n",
       "      <th>Fees</th>\n",
       "      <th>locality</th>\n",
       "      <th>city</th>\n",
       "      <th>MBBS</th>\n",
       "      <th>BDS</th>\n",
       "      <th>BAMS</th>\n",
       "      <th>BHMS</th>\n",
       "      <th>MD - Dermatology</th>\n",
       "      <th>MS - ENT</th>\n",
       "      <th>Venereology &amp; Leprosy</th>\n",
       "      <th>MD - General Medicine</th>\n",
       "      <th>Diploma in Otorhinolaryngology (DLO)</th>\n",
       "      <th>MD - Homeopathy</th>\n",
       "    </tr>\n",
       "  </thead>\n",
       "  <tbody>\n",
       "    <tr>\n",
       "      <th>2169</th>\n",
       "      <td>11</td>\n",
       "      <td>0</td>\n",
       "      <td>Dentist</td>\n",
       "      <td>NaN</td>\n",
       "      <td>250</td>\n",
       "      <td>Dwarka</td>\n",
       "      <td>Sector5</td>\n",
       "      <td>0</td>\n",
       "      <td>1</td>\n",
       "      <td>0</td>\n",
       "      <td>0</td>\n",
       "      <td>0</td>\n",
       "      <td>0</td>\n",
       "      <td>0</td>\n",
       "      <td>0</td>\n",
       "      <td>0</td>\n",
       "      <td>0</td>\n",
       "    </tr>\n",
       "    <tr>\n",
       "      <th>3980</th>\n",
       "      <td>23</td>\n",
       "      <td>0</td>\n",
       "      <td>Dentist</td>\n",
       "      <td>NaN</td>\n",
       "      <td>250</td>\n",
       "      <td>e</td>\n",
       "      <td>nan</td>\n",
       "      <td>0</td>\n",
       "      <td>1</td>\n",
       "      <td>0</td>\n",
       "      <td>0</td>\n",
       "      <td>0</td>\n",
       "      <td>0</td>\n",
       "      <td>0</td>\n",
       "      <td>0</td>\n",
       "      <td>0</td>\n",
       "      <td>0</td>\n",
       "    </tr>\n",
       "  </tbody>\n",
       "</table>\n",
       "</div>"
      ],
      "text/plain": [
       "      Experience Rating  Profile Miscellaneous_Info  Fees locality     city  \\\n",
       "2169          11      0  Dentist                NaN   250   Dwarka  Sector5   \n",
       "3980          23      0  Dentist                NaN   250        e      nan   \n",
       "\n",
       "      MBBS  BDS  BAMS  BHMS  MD - Dermatology  MS - ENT  \\\n",
       "2169     0    1     0     0                 0         0   \n",
       "3980     0    1     0     0                 0         0   \n",
       "\n",
       "      Venereology & Leprosy  MD - General Medicine  \\\n",
       "2169                      0                      0   \n",
       "3980                      0                      0   \n",
       "\n",
       "      Diploma in Otorhinolaryngology (DLO)  MD - Homeopathy  \n",
       "2169                                     0                0  \n",
       "3980                                     0                0  "
      ]
     },
     "execution_count": 56,
     "metadata": {},
     "output_type": "execute_result"
    }
   ],
   "source": [
    "df_train[(df_train['city'] == \"nan\") | (df_train['city'] == \"Sector5\")]"
   ]
  },
  {
   "cell_type": "code",
   "execution_count": 57,
   "id": "9e0cdf01",
   "metadata": {},
   "outputs": [],
   "source": [
    "df_train['city'] = np.where(df_train['city']==\"Sector5\",\"Delhi\", df_train['city'])"
   ]
  },
  {
   "cell_type": "code",
   "execution_count": 58,
   "id": "43a72cf7",
   "metadata": {},
   "outputs": [],
   "source": [
    "df_train['city'].loc[3980] = \"Unknown\"\n",
    "df_train['locality'].loc[3980] = \"Unknown\""
   ]
  },
  {
   "cell_type": "code",
   "execution_count": 59,
   "id": "ad87431c",
   "metadata": {},
   "outputs": [
    {
     "data": {
      "text/plain": [
       "city\n",
       "Bangalore             153\n",
       "Chennai               124\n",
       "Coimbatore             48\n",
       "Delhi                 200\n",
       "Ernakulam              52\n",
       "Hyderabad             135\n",
       "Mumbai                115\n",
       "Thiruvananthapuram     48\n",
       "Unknown                 1\n",
       "Name: locality, dtype: int64"
      ]
     },
     "execution_count": 59,
     "metadata": {},
     "output_type": "execute_result"
    }
   ],
   "source": [
    "df_train.groupby('city')['locality'].nunique()"
   ]
  },
  {
   "cell_type": "code",
   "execution_count": 60,
   "id": "19ff4c6e",
   "metadata": {},
   "outputs": [
    {
     "data": {
      "image/png": "[encoded data removed]",
      "text/plain": [
       "<Figure size 576x576 with 1 Axes>"
      ]
     },
     "metadata": {
      "needs_background": "light"
     },
     "output_type": "display_data"
    }
   ],
   "source": [
    "plt.figure(figsize=(8,8))\n",
    "sns.barplot(x='Profile',y='Fees',data=df_train)\n",
    "plt.title(\"Doctor Fees X Profile\")\n",
    "plt.show()"
   ]
  },
  {
   "cell_type": "markdown",
   "id": "e74a6faf",
   "metadata": {},
   "source": [
    "Highest fees is charged by ENT Specialist and Dermatologists followed by Homeopath and General Medicine and lowest are Ayurveda and Dentist."
   ]
  },
  {
   "cell_type": "code",
   "execution_count": 61,
   "id": "6791b7b7",
   "metadata": {},
   "outputs": [
    {
     "data": {
      "image/png": "[encoded data removed]",
      "text/plain": [
       "<Figure size 720x576 with 1 Axes>"
      ]
     },
     "metadata": {
      "needs_background": "light"
     },
     "output_type": "display_data"
    }
   ],
   "source": [
    "plt.figure(figsize=(10,8))\n",
    "sns.barplot(x='city',y='Fees',data=df_train)\n",
    "plt.title(\"Doctor Fees rate in different city\")\n",
    "plt.show()"
   ]
  },
  {
   "cell_type": "markdown",
   "id": "7e4160d1",
   "metadata": {},
   "source": [
    "Doctors in delhi charge highest fees followed by doctors in Bangalore,Hyderabad, Mumbai, Chennai, Ernakulam, Thiruvananthpuram and coimbatore.\n"
   ]
  },
  {
   "cell_type": "code",
   "execution_count": 62,
   "id": "e5846d7f",
   "metadata": {},
   "outputs": [],
   "source": [
    "df_train = pd.get_dummies(df_train,columns=['city','Profile'], prefix=['city','Profile'])"
   ]
  },
  {
   "cell_type": "code",
   "execution_count": 63,
   "id": "dadd6c5c",
   "metadata": {},
   "outputs": [],
   "source": [
    "df_train.drop(['Miscellaneous_Info','locality'],axis=1,inplace=True)"
   ]
  },
  {
   "cell_type": "code",
   "execution_count": 64,
   "id": "acee83c8",
   "metadata": {},
   "outputs": [],
   "source": [
    "df_test['city'] = df_test['city'].apply(lambda x: re.sub(' +','',x))"
   ]
  },
  {
   "cell_type": "code",
   "execution_count": 65,
   "id": "3b5dba4f",
   "metadata": {},
   "outputs": [],
   "source": [
    "df_test = pd.get_dummies(df_test, columns=['city','Profile'], prefix=['city','Profile'])"
   ]
  },
  {
   "cell_type": "code",
   "execution_count": 66,
   "id": "8b7c28fc",
   "metadata": {},
   "outputs": [],
   "source": [
    "df_test.drop(['Miscellaneous_Info','locality'], axis=1, inplace=True)"
   ]
  },
  {
   "cell_type": "code",
   "execution_count": 67,
   "id": "2ec5cf51",
   "metadata": {},
   "outputs": [
    {
     "data": {
      "text/html": [
       "<div>\n",
       "<style scoped>\n",
       "    .dataframe tbody tr th:only-of-type {\n",
       "        vertical-align: middle;\n",
       "    }\n",
       "\n",
       "    .dataframe tbody tr th {\n",
       "        vertical-align: top;\n",
       "    }\n",
       "\n",
       "    .dataframe thead th {\n",
       "        text-align: right;\n",
       "    }\n",
       "</style>\n",
       "<table border=\"1\" class=\"dataframe\">\n",
       "  <thead>\n",
       "    <tr style=\"text-align: right;\">\n",
       "      <th></th>\n",
       "      <th>Experience</th>\n",
       "      <th>Rating</th>\n",
       "      <th>Qualification_count</th>\n",
       "      <th>MBBS</th>\n",
       "      <th>BDS</th>\n",
       "      <th>BHMS</th>\n",
       "      <th>BAMS</th>\n",
       "      <th>MD - Dermatology</th>\n",
       "      <th>MS - ENT</th>\n",
       "      <th>MD - General Medicine</th>\n",
       "      <th>...</th>\n",
       "      <th>city_Hyderabad</th>\n",
       "      <th>city_Mumbai</th>\n",
       "      <th>city_Thiruvananthapuram</th>\n",
       "      <th>city_Unknown</th>\n",
       "      <th>Profile_Ayurveda</th>\n",
       "      <th>Profile_Dentist</th>\n",
       "      <th>Profile_Dermatologists</th>\n",
       "      <th>Profile_ENT Specialist</th>\n",
       "      <th>Profile_General Medicine</th>\n",
       "      <th>Profile_Homeopath</th>\n",
       "    </tr>\n",
       "  </thead>\n",
       "  <tbody>\n",
       "    <tr>\n",
       "      <th>0</th>\n",
       "      <td>35</td>\n",
       "      <td>0</td>\n",
       "      <td>1</td>\n",
       "      <td>1</td>\n",
       "      <td>0</td>\n",
       "      <td>0</td>\n",
       "      <td>0</td>\n",
       "      <td>0</td>\n",
       "      <td>0</td>\n",
       "      <td>0</td>\n",
       "      <td>...</td>\n",
       "      <td>0</td>\n",
       "      <td>1</td>\n",
       "      <td>0</td>\n",
       "      <td>0</td>\n",
       "      <td>0</td>\n",
       "      <td>0</td>\n",
       "      <td>0</td>\n",
       "      <td>0</td>\n",
       "      <td>1</td>\n",
       "      <td>0</td>\n",
       "    </tr>\n",
       "    <tr>\n",
       "      <th>1</th>\n",
       "      <td>31</td>\n",
       "      <td>0</td>\n",
       "      <td>2</td>\n",
       "      <td>1</td>\n",
       "      <td>0</td>\n",
       "      <td>0</td>\n",
       "      <td>0</td>\n",
       "      <td>0</td>\n",
       "      <td>0</td>\n",
       "      <td>0</td>\n",
       "      <td>...</td>\n",
       "      <td>1</td>\n",
       "      <td>0</td>\n",
       "      <td>0</td>\n",
       "      <td>0</td>\n",
       "      <td>0</td>\n",
       "      <td>0</td>\n",
       "      <td>0</td>\n",
       "      <td>1</td>\n",
       "      <td>0</td>\n",
       "      <td>0</td>\n",
       "    </tr>\n",
       "    <tr>\n",
       "      <th>2</th>\n",
       "      <td>40</td>\n",
       "      <td>7</td>\n",
       "      <td>2</td>\n",
       "      <td>1</td>\n",
       "      <td>0</td>\n",
       "      <td>0</td>\n",
       "      <td>0</td>\n",
       "      <td>0</td>\n",
       "      <td>0</td>\n",
       "      <td>0</td>\n",
       "      <td>...</td>\n",
       "      <td>0</td>\n",
       "      <td>0</td>\n",
       "      <td>0</td>\n",
       "      <td>0</td>\n",
       "      <td>0</td>\n",
       "      <td>0</td>\n",
       "      <td>1</td>\n",
       "      <td>0</td>\n",
       "      <td>0</td>\n",
       "      <td>0</td>\n",
       "    </tr>\n",
       "    <tr>\n",
       "      <th>3</th>\n",
       "      <td>0</td>\n",
       "      <td>0</td>\n",
       "      <td>1</td>\n",
       "      <td>0</td>\n",
       "      <td>0</td>\n",
       "      <td>0</td>\n",
       "      <td>1</td>\n",
       "      <td>0</td>\n",
       "      <td>0</td>\n",
       "      <td>0</td>\n",
       "      <td>...</td>\n",
       "      <td>0</td>\n",
       "      <td>0</td>\n",
       "      <td>0</td>\n",
       "      <td>0</td>\n",
       "      <td>1</td>\n",
       "      <td>0</td>\n",
       "      <td>0</td>\n",
       "      <td>0</td>\n",
       "      <td>0</td>\n",
       "      <td>0</td>\n",
       "    </tr>\n",
       "    <tr>\n",
       "      <th>4</th>\n",
       "      <td>16</td>\n",
       "      <td>10</td>\n",
       "      <td>2</td>\n",
       "      <td>0</td>\n",
       "      <td>1</td>\n",
       "      <td>0</td>\n",
       "      <td>0</td>\n",
       "      <td>0</td>\n",
       "      <td>0</td>\n",
       "      <td>0</td>\n",
       "      <td>...</td>\n",
       "      <td>0</td>\n",
       "      <td>0</td>\n",
       "      <td>0</td>\n",
       "      <td>0</td>\n",
       "      <td>0</td>\n",
       "      <td>1</td>\n",
       "      <td>0</td>\n",
       "      <td>0</td>\n",
       "      <td>0</td>\n",
       "      <td>0</td>\n",
       "    </tr>\n",
       "  </tbody>\n",
       "</table>\n",
       "<p>5 rows × 28 columns</p>\n",
       "</div>"
      ],
      "text/plain": [
       "   Experience Rating  Qualification_count  MBBS  BDS  BHMS  BAMS  \\\n",
       "0          35      0                    1     1    0     0     0   \n",
       "1          31      0                    2     1    0     0     0   \n",
       "2          40      7                    2     1    0     0     0   \n",
       "3           0      0                    1     0    0     0     1   \n",
       "4          16     10                    2     0    1     0     0   \n",
       "\n",
       "   MD - Dermatology  MS - ENT  MD - General Medicine  ...  city_Hyderabad  \\\n",
       "0                 0         0                      0  ...               0   \n",
       "1                 0         0                      0  ...               1   \n",
       "2                 0         0                      0  ...               0   \n",
       "3                 0         0                      0  ...               0   \n",
       "4                 0         0                      0  ...               0   \n",
       "\n",
       "   city_Mumbai  city_Thiruvananthapuram  city_Unknown  Profile_Ayurveda  \\\n",
       "0            1                        0             0                 0   \n",
       "1            0                        0             0                 0   \n",
       "2            0                        0             0                 0   \n",
       "3            0                        0             0                 1   \n",
       "4            0                        0             0                 0   \n",
       "\n",
       "   Profile_Dentist  Profile_Dermatologists  Profile_ENT Specialist  \\\n",
       "0                0                       0                       0   \n",
       "1                0                       0                       1   \n",
       "2                0                       1                       0   \n",
       "3                0                       0                       0   \n",
       "4                1                       0                       0   \n",
       "\n",
       "   Profile_General Medicine  Profile_Homeopath  \n",
       "0                         1                  0  \n",
       "1                         0                  0  \n",
       "2                         0                  0  \n",
       "3                         0                  0  \n",
       "4                         0                  0  \n",
       "\n",
       "[5 rows x 28 columns]"
      ]
     },
     "execution_count": 67,
     "metadata": {},
     "output_type": "execute_result"
    }
   ],
   "source": [
    "df_test.head()"
   ]
  },
  {
   "cell_type": "code",
   "execution_count": 68,
   "id": "5e1bc82b",
   "metadata": {},
   "outputs": [
    {
     "data": {
      "text/plain": [
       "<AxesSubplot:>"
      ]
     },
     "execution_count": 68,
     "metadata": {},
     "output_type": "execute_result"
    },
    {
     "data": {
      "image/png": "[encoded data removed]",
      "text/plain": [
       "<Figure size 432x288 with 2 Axes>"
      ]
     },
     "metadata": {
      "needs_background": "light"
     },
     "output_type": "display_data"
    }
   ],
   "source": [
    "sns.heatmap(df_train.isnull())"
   ]
  },
  {
   "cell_type": "markdown",
   "id": "524b2710",
   "metadata": {},
   "source": [
    "Now the null values are handled and no null values are present."
   ]
  },
  {
   "cell_type": "code",
   "execution_count": 69,
   "id": "9c92db09",
   "metadata": {},
   "outputs": [
    {
     "data": {
      "text/plain": [
       "<AxesSubplot:>"
      ]
     },
     "execution_count": 69,
     "metadata": {},
     "output_type": "execute_result"
    },
    {
     "data": {
      "image/png": "[encoded data removed]",
      "text/plain": [
       "<Figure size 432x288 with 2 Axes>"
      ]
     },
     "metadata": {
      "needs_background": "light"
     },
     "output_type": "display_data"
    }
   ],
   "source": [
    "sns.heatmap(df_test.isnull())"
   ]
  },
  {
   "cell_type": "markdown",
   "id": "3b94ecb7",
   "metadata": {},
   "source": [
    "Now the null values are handled and no null values are present."
   ]
  },
  {
   "cell_type": "code",
   "execution_count": 70,
   "id": "f0a83e4d",
   "metadata": {},
   "outputs": [
    {
     "data": {
      "image/png": "[encoded data removed]",
      "text/plain": [
       "<Figure size 1152x720 with 2 Axes>"
      ]
     },
     "metadata": {
      "needs_background": "light"
     },
     "output_type": "display_data"
    }
   ],
   "source": [
    "plt.figure(figsize=(16,10))\n",
    "sns.heatmap(df_train.corr(),annot=True)\n",
    "plt.show()"
   ]
  },
  {
   "cell_type": "markdown",
   "id": "be4bc89d",
   "metadata": {},
   "source": [
    "Dentist and BDS are highly correlated and also Ayurveda and BAMS are highly correlated. Also Homeopath and BHMS \n",
    "are highly correlated "
   ]
  },
  {
   "cell_type": "code",
   "execution_count": 71,
   "id": "c90ad312",
   "metadata": {},
   "outputs": [
    {
     "name": "stdout",
     "output_type": "stream",
     "text": [
      "(5961, 28)\n",
      "(1987, 28)\n"
     ]
    }
   ],
   "source": [
    "print(df_train.shape)\n",
    "print(df_test.shape)"
   ]
  },
  {
   "cell_type": "code",
   "execution_count": 72,
   "id": "4a613bab",
   "metadata": {},
   "outputs": [
    {
     "data": {
      "text/plain": [
       "array([[0.60097885, 1.16270603, 1.08926083, ..., 0.3729841 , 0.49496209,\n",
       "        2.46397532],\n",
       "       [0.47604029, 1.16270603, 0.22029544, ..., 0.3729841 , 0.49496209,\n",
       "        0.40584822],\n",
       "       [0.74529508, 0.89296209, 0.04161581, ..., 2.68107941, 0.49496209,\n",
       "        0.40584822],\n",
       "       ...,\n",
       "       [2.12675597, 1.16270603, 1.52985171, ..., 0.3729841 , 2.02035676,\n",
       "        0.40584822],\n",
       "       [0.20678551, 0.95713922, 1.08926083, ..., 0.3729841 , 2.02035676,\n",
       "        0.40584822],\n",
       "       [0.02728232, 1.16270603, 0.56543832, ..., 0.3729841 , 0.49496209,\n",
       "        0.40584822]])"
      ]
     },
     "execution_count": 72,
     "metadata": {},
     "output_type": "execute_result"
    }
   ],
   "source": [
    "from scipy.stats import zscore\n",
    "z=np.abs(zscore(df_train))\n",
    "z"
   ]
  },
  {
   "cell_type": "code",
   "execution_count": 73,
   "id": "2adc7acf",
   "metadata": {},
   "outputs": [
    {
     "name": "stdout",
     "output_type": "stream",
     "text": [
      "(array([   0,    0,    8, ..., 5955, 5956, 5959], dtype=int64), array([12, 17, 10, ..., 12,  8, 10], dtype=int64))\n"
     ]
    }
   ],
   "source": [
    "threshold=3\n",
    "print(np.where(z>3))"
   ]
  },
  {
   "cell_type": "code",
   "execution_count": 74,
   "id": "43c0a573",
   "metadata": {},
   "outputs": [
    {
     "data": {
      "text/plain": [
       "5.650991210173536"
      ]
     },
     "execution_count": 74,
     "metadata": {},
     "output_type": "execute_result"
    }
   ],
   "source": [
    "z[0][12]"
   ]
  },
  {
   "cell_type": "code",
   "execution_count": 75,
   "id": "30d26825",
   "metadata": {},
   "outputs": [],
   "source": [
    "df_train=df_train[(z<3).all(axis=1)]"
   ]
  },
  {
   "cell_type": "code",
   "execution_count": 76,
   "id": "600a6d41",
   "metadata": {},
   "outputs": [
    {
     "data": {
      "text/plain": [
       "array([[1.50699229, 0.90308104, 1.04038921, ..., 0.36624093, 1.8641956 ,\n",
       "        0.40247771],\n",
       "       [1.15500055, 0.90308104, 0.03148079, ..., 2.73044303, 0.5364244 ,\n",
       "        0.40247771],\n",
       "       [1.94698195, 0.53574533, 0.03148079, ..., 0.36624093, 0.5364244 ,\n",
       "        0.40247771],\n",
       "       ...,\n",
       "       [0.78095398, 0.90308104, 0.03148079, ..., 0.36624093, 1.8641956 ,\n",
       "        0.40247771],\n",
       "       [0.51696018, 1.1523852 , 1.04038921, ..., 0.36624093, 0.5364244 ,\n",
       "        0.40247771],\n",
       "       [0.86895191, 0.90308104, 0.97742764, ..., 0.36624093, 0.5364244 ,\n",
       "        0.40247771]])"
      ]
     },
     "execution_count": 76,
     "metadata": {},
     "output_type": "execute_result"
    }
   ],
   "source": [
    "from scipy.stats import zscore\n",
    "z=np.abs(zscore(df_test))\n",
    "z"
   ]
  },
  {
   "cell_type": "code",
   "execution_count": 77,
   "id": "d8a9ec1e",
   "metadata": {},
   "outputs": [
    {
     "name": "stdout",
     "output_type": "stream",
     "text": [
      "(array([   1,    2,    6,   11,   13,   14,   16,   17,   17,   19,   21,\n",
      "         22,   25,   28,   29,   32,   33,   34,   46,   48,   51,   54,\n",
      "         57,   58,   59,   65,   65,   66,   71,   73,   76,   79,   81,\n",
      "         82,   91,   95,   96,   96,   99,  101,  102,  104,  106,  107,\n",
      "        114,  118,  119,  119,  124,  129,  131,  133,  135,  135,  138,\n",
      "        141,  141,  143,  152,  154,  157,  165,  166,  168,  168,  171,\n",
      "        174,  174,  179,  179,  181,  187,  195,  201,  207,  211,  219,\n",
      "        221,  221,  222,  224,  225,  227,  227,  229,  229,  231,  232,\n",
      "        237,  239,  240,  244,  251,  251,  253,  253,  254,  256,  258,\n",
      "        258,  260,  261,  261,  261,  262,  262,  264,  264,  265,  269,\n",
      "        269,  271,  273,  276,  279,  280,  283,  292,  303,  309,  313,\n",
      "        315,  317,  319,  321,  322,  323,  323,  327,  330,  336,  337,\n",
      "        338,  341,  347,  349,  352,  355,  357,  362,  363,  367,  367,\n",
      "        370,  371,  372,  374,  377,  381,  382,  386,  388,  388,  391,\n",
      "        396,  398,  399,  401,  404,  406,  408,  408,  417,  420,  423,\n",
      "        423,  427,  430,  434,  435,  436,  437,  438,  445,  446,  448,\n",
      "        450,  450,  454,  460,  462,  467,  470,  473,  477,  478,  479,\n",
      "        480,  480,  481,  483,  487,  488,  492,  494,  496,  501,  501,\n",
      "        506,  509,  511,  512,  513,  516,  516,  525,  530,  530,  532,\n",
      "        533,  536,  538,  540,  545,  546,  547,  549,  559,  560,  562,\n",
      "        562,  565,  566,  566,  569,  572,  573,  583,  585,  587,  587,\n",
      "        593,  594,  597,  602,  604,  605,  606,  612,  614,  617,  617,\n",
      "        621,  622,  629,  630,  632,  641,  642,  642,  644,  644,  646,\n",
      "        646,  647,  651,  652,  653,  656,  660,  664,  667,  671,  675,\n",
      "        677,  681,  681,  683,  686,  689,  691,  691,  696,  699,  701,\n",
      "        706,  709,  711,  712,  714,  723,  724,  727,  729,  729,  735,\n",
      "        735,  736,  741,  742,  743,  744,  746,  748,  749,  751,  752,\n",
      "        753,  760,  762,  769,  775,  776,  777,  781,  782,  783,  784,\n",
      "        787,  788,  788,  789,  791,  793,  795,  798,  800,  801,  807,\n",
      "        809,  809,  812,  817,  818,  819,  821,  821,  823,  826,  841,\n",
      "        845,  848,  853,  854,  855,  855,  859,  860,  863,  865,  867,\n",
      "        871,  872,  872,  874,  875,  878,  878,  878,  882,  882,  883,\n",
      "        886,  889,  894,  895,  897,  899,  900,  901,  902,  906,  914,\n",
      "        915,  916,  920,  921,  926,  927,  929,  935,  937,  939,  943,\n",
      "        946,  947,  947,  951,  958,  959,  961,  961,  964,  969,  971,\n",
      "        972,  976,  979,  979,  983,  983,  984,  985,  986,  987,  987,\n",
      "        988,  989,  990,  992,  992,  994,  996,  999, 1007, 1013, 1017,\n",
      "       1018, 1023, 1024, 1030, 1032, 1034, 1036, 1038, 1040, 1044, 1046,\n",
      "       1046, 1048, 1049, 1051, 1053, 1053, 1056, 1059, 1061, 1061, 1062,\n",
      "       1066, 1068, 1071, 1073, 1075, 1081, 1081, 1081, 1089, 1092, 1092,\n",
      "       1093, 1094, 1099, 1104, 1105, 1105, 1115, 1118, 1120, 1121, 1125,\n",
      "       1125, 1127, 1130, 1135, 1140, 1143, 1145, 1145, 1146, 1148, 1153,\n",
      "       1158, 1159, 1160, 1160, 1162, 1163, 1164, 1168, 1170, 1171, 1174,\n",
      "       1176, 1179, 1183, 1185, 1186, 1189, 1193, 1193, 1201, 1203, 1205,\n",
      "       1205, 1206, 1209, 1211, 1214, 1215, 1216, 1218, 1219, 1219, 1223,\n",
      "       1224, 1224, 1224, 1224, 1228, 1229, 1230, 1230, 1231, 1232, 1232,\n",
      "       1233, 1238, 1239, 1241, 1242, 1244, 1245, 1246, 1249, 1251, 1251,\n",
      "       1257, 1258, 1258, 1260, 1261, 1264, 1270, 1271, 1273, 1276, 1276,\n",
      "       1279, 1282, 1283, 1283, 1284, 1284, 1287, 1288, 1288, 1297, 1297,\n",
      "       1298, 1300, 1303, 1303, 1311, 1320, 1326, 1333, 1334, 1335, 1335,\n",
      "       1337, 1338, 1338, 1342, 1343, 1344, 1344, 1347, 1347, 1349, 1351,\n",
      "       1356, 1356, 1363, 1363, 1366, 1369, 1369, 1371, 1374, 1376, 1376,\n",
      "       1383, 1384, 1387, 1388, 1388, 1395, 1400, 1400, 1401, 1402, 1404,\n",
      "       1405, 1405, 1406, 1407, 1410, 1418, 1420, 1421, 1422, 1423, 1424,\n",
      "       1425, 1427, 1431, 1432, 1434, 1436, 1436, 1438, 1439, 1440, 1440,\n",
      "       1446, 1448, 1451, 1452, 1452, 1456, 1457, 1458, 1460, 1461, 1463,\n",
      "       1469, 1469, 1475, 1475, 1476, 1476, 1477, 1478, 1479, 1479, 1482,\n",
      "       1487, 1489, 1489, 1491, 1492, 1493, 1494, 1501, 1507, 1508, 1509,\n",
      "       1512, 1517, 1519, 1519, 1522, 1525, 1531, 1535, 1536, 1538, 1539,\n",
      "       1540, 1545, 1553, 1555, 1555, 1559, 1560, 1561, 1566, 1569, 1577,\n",
      "       1579, 1579, 1583, 1583, 1585, 1587, 1589, 1591, 1591, 1592, 1594,\n",
      "       1603, 1607, 1610, 1613, 1616, 1617, 1617, 1619, 1621, 1625, 1627,\n",
      "       1631, 1631, 1638, 1642, 1642, 1644, 1657, 1658, 1670, 1671, 1674,\n",
      "       1677, 1678, 1679, 1679, 1683, 1683, 1688, 1690, 1690, 1695, 1695,\n",
      "       1696, 1697, 1697, 1698, 1702, 1706, 1706, 1707, 1708, 1709, 1709,\n",
      "       1712, 1712, 1714, 1715, 1716, 1718, 1719, 1721, 1724, 1733, 1736,\n",
      "       1737, 1740, 1746, 1753, 1754, 1755, 1758, 1760, 1761, 1761, 1762,\n",
      "       1765, 1770, 1770, 1771, 1772, 1773, 1773, 1774, 1776, 1776, 1778,\n",
      "       1779, 1780, 1784, 1787, 1788, 1791, 1793, 1793, 1798, 1801, 1808,\n",
      "       1825, 1827, 1828, 1837, 1838, 1842, 1845, 1847, 1848, 1848, 1850,\n",
      "       1852, 1858, 1859, 1861, 1863, 1865, 1870, 1870, 1872, 1875, 1881,\n",
      "       1884, 1886, 1889, 1890, 1890, 1893, 1895, 1897, 1897, 1902, 1903,\n",
      "       1906, 1915, 1917, 1918, 1918, 1925, 1928, 1929, 1930, 1931, 1932,\n",
      "       1934, 1941, 1946, 1946, 1946, 1947, 1949, 1953, 1953, 1958, 1958,\n",
      "       1964, 1970, 1971, 1974, 1981, 1981, 1983, 1983, 1986, 1986],\n",
      "      dtype=int64), array([11, 12, 11, 15,  7,  8,  7,  8, 11,  7, 20,  7, 11,  9,  8, 11,  8,\n",
      "       12, 10,  7,  7, 17, 11, 17, 11,  8, 11, 11,  8,  8, 12,  8, 11,  9,\n",
      "        8, 17,  2,  9,  7, 15,  8,  0,  8,  2,  9, 15,  7, 10,  8,  9, 17,\n",
      "       11,  7, 10,  7,  7, 10,  9,  9, 15, 17, 17,  7,  8, 11, 12,  8, 11,\n",
      "        7, 10,  8, 12,  7, 12, 12,  8, 15,  8, 11, 17, 12, 12,  7, 15,  8,\n",
      "       11,  7,  8, 11, 12, 12, 12,  7, 12,  8, 11,  7,  7,  0,  7, 11,  7,\n",
      "       10, 17,  7, 10,  0, 15, 20,  7, 10,  9,  7,  8,  8, 12, 20,  9, 15,\n",
      "        8, 11, 11,  9,  9,  7, 11,  7, 10,  8,  8, 17, 12,  9,  8,  8,  7,\n",
      "        9, 15, 15, 11, 11,  7, 10, 17, 11,  9,  7, 12, 21,  9, 15,  7, 10,\n",
      "       11,  7,  0,  8,  7,  7, 15,  7, 10,  9,  8,  7, 10,  7,  7,  8, 11,\n",
      "        8,  9,  9, 17, 15, 15,  8, 11, 12,  9,  7,  9,  8,  9, 11,  9,  8,\n",
      "        8, 11, 15, 17,  8, 17,  9, 11, 12,  8, 11,  8, 15,  9, 11, 15,  7,\n",
      "       10, 12,  9, 15,  7,  7,  7, 11,  9,  7, 12,  8, 12, 11,  8,  8, 11,\n",
      "       15,  7, 10,  7,  7,  9, 11,  9,  7, 10, 17,  8,  8, 20, 17,  8, 11,\n",
      "        7, 12,  0,  8,  9,  7,  8,  7, 12,  0,  7, 10,  7, 10,  7, 10, 12,\n",
      "       20,  8, 12,  8,  8, 17,  8,  9,  9, 15,  7, 10, 11, 11, 11,  7, 10,\n",
      "        9, 17,  7,  9, 17,  9,  8,  7, 15, 20,  9, 12, 15,  7, 10,  9, 12,\n",
      "        8,  7,  9,  7, 11,  7,  8,  9,  8, 17,  7, 20, 15, 17, 17, 15,  9,\n",
      "       17,  9,  7,  8, 11,  8, 12, 20, 17,  8, 17, 17,  7,  7, 10,  8, 12,\n",
      "        7, 15,  7, 10,  7,  8,  9,  8,  9, 11, 11,  7, 10, 12,  8,  8, 20,\n",
      "       17, 12,  7, 10, 15,  9,  8, 11, 15,  7, 12, 12,  7, 15, 10, 15, 15,\n",
      "        7,  9,  7,  7, 12,  9,  8,  7, 11,  8,  8,  9, 15,  9, 17, 15, 11,\n",
      "        8,  7, 10,  7,  8,  9,  7, 10,  8, 15, 15,  8,  8,  7, 10,  7, 10,\n",
      "        8,  9,  8,  7, 10,  8, 15, 20,  0,  7,  7,  7,  7,  7, 11,  9,  9,\n",
      "        9, 11,  7,  8, 15, 12,  7,  9, 15,  7, 10,  9, 15,  7,  7, 10,  7,\n",
      "        7,  7, 10, 11, 11, 11, 12,  9, 12,  7, 10, 15, 17,  8, 11, 12,  7,\n",
      "        8, 17,  7, 10,  7,  7, 11,  9,  7, 10,  7, 12,  7, 12, 11,  7, 10,\n",
      "        8, 12,  8, 11, 17,  7, 10, 17,  9, 15,  8, 17,  8,  2, 12,  8,  7,\n",
      "        7,  2,  7,  7, 10,  9,  9,  7, 10,  7,  9, 11,  7, 12,  9,  7,  7,\n",
      "       10,  9,  7, 10, 12, 15, 12, 12,  7, 10,  8,  7, 10,  9, 12,  8, 12,\n",
      "        8, 15,  7,  0,  7,  7, 10, 12,  7, 10, 15,  8,  9, 15,  8,  9,  7,\n",
      "       10,  9,  9,  7, 10,  0, 11,  2,  2,  8,  0,  9, 15, 15,  7, 10,  8,\n",
      "        9,  7, 15, 17,  7, 10,  0,  7, 10, 10,  9,  7, 10,  9, 17,  9, 15,\n",
      "        7, 10, 10, 12,  9,  7, 10,  9, 17,  7, 10,  9, 20, 17,  7, 10,  8,\n",
      "        7, 10,  7,  8, 15,  8, 15,  7, 12, 15,  8,  7,  7,  7,  9, 11,  8,\n",
      "       11,  9, 15,  8,  8, 15,  7, 15,  7, 10,  2, 15,  7,  8, 11,  8, 11,\n",
      "       11,  7,  9,  7,  7, 10,  7, 10,  7, 10, 12,  7,  7, 10, 15, 10,  8,\n",
      "       11, 12, 12,  8, 21, 12,  8, 12, 20,  7, 15,  7, 10, 11,  7,  9,  9,\n",
      "        9, 17, 15, 11, 11,  7,  7, 10,  7,  9, 12,  8,  7, 17,  8, 11, 11,\n",
      "       17, 11, 11,  9,  8, 11, 15,  7, 15, 12,  8, 11,  9,  7, 17, 20,  7,\n",
      "       12,  8,  7, 10,  7,  7, 10, 21,  9, 12, 11, 12, 12,  9,  7,  8, 11,\n",
      "        7, 10, 17,  7, 10,  7, 10, 17,  7, 10,  8, 10,  8, 11,  8,  9,  7,\n",
      "       10,  7, 10, 11,  8,  9, 20,  7, 17,  8,  7,  9, 11, 12,  9,  8, 17,\n",
      "        9,  9,  9,  7, 10, 20,  8,  8, 11,  8,  7,  7, 10,  8,  7, 10, 20,\n",
      "        7,  8,  8,  9,  7,  7,  7, 10, 11,  9, 15, 12, 15, 11, 17, 21,  7,\n",
      "       15, 12,  8, 11, 15,  7, 20, 17,  8,  9,  7,  7, 10,  8,  8, 15,  9,\n",
      "        9,  9,  7, 10,  2,  8,  7, 10, 15, 11,  8,  7,  8,  7, 10, 21, 12,\n",
      "        7, 21, 15, 15,  7, 17,  7, 12, 17,  7,  7,  7, 10,  8, 11, 15, 15,\n",
      "        8, 11,  7, 10,  7, 10,  7, 10], dtype=int64))\n"
     ]
    }
   ],
   "source": [
    "threshold=3\n",
    "print(np.where(z>3))"
   ]
  },
  {
   "cell_type": "code",
   "execution_count": 78,
   "id": "f1c01059",
   "metadata": {},
   "outputs": [],
   "source": [
    "df_test=df_test[(z<3).all(axis=1)]"
   ]
  },
  {
   "cell_type": "code",
   "execution_count": 79,
   "id": "1c9cb8d3",
   "metadata": {},
   "outputs": [
    {
     "name": "stdout",
     "output_type": "stream",
     "text": [
      "(4149, 28)\n",
      "(1296, 28)\n"
     ]
    }
   ],
   "source": [
    "print(df_train.shape)\n",
    "print(df_test.shape)"
   ]
  },
  {
   "cell_type": "code",
   "execution_count": 80,
   "id": "99fc44ac",
   "metadata": {},
   "outputs": [
    {
     "data": {
      "text/plain": [
       "Experience                              0.953151\n",
       "Fees                                    0.715233\n",
       "MBBS                                    0.506906\n",
       "BDS                                     1.057624\n",
       "BAMS                                    1.704880\n",
       "BHMS                                    2.061006\n",
       "MD - Dermatology                        3.196807\n",
       "MS - ENT                                0.000000\n",
       "Venereology & Leprosy                   0.000000\n",
       "MD - General Medicine                   0.000000\n",
       "Diploma in Otorhinolaryngology (DLO)    0.000000\n",
       "MD - Homeopathy                         0.000000\n",
       "city_Bangalore                          1.280839\n",
       "city_Chennai                            1.964681\n",
       "city_Coimbatore                         0.000000\n",
       "city_Delhi                              1.409044\n",
       "city_Ernakulam                          0.000000\n",
       "city_Hyderabad                          1.729156\n",
       "city_Mumbai                             1.252062\n",
       "city_Thiruvananthapuram                 0.000000\n",
       "city_Unknown                            0.000000\n",
       "Profile_Ayurveda                        1.655488\n",
       "Profile_Dentist                         1.020370\n",
       "Profile_Dermatologists                  1.788337\n",
       "Profile_ENT Specialist                  4.953012\n",
       "Profile_General Medicine                1.595666\n",
       "Profile_Homeopath                       1.912608\n",
       "dtype: float64"
      ]
     },
     "execution_count": 80,
     "metadata": {},
     "output_type": "execute_result"
    }
   ],
   "source": [
    "df_train.skew()"
   ]
  },
  {
   "cell_type": "code",
   "execution_count": 81,
   "id": "5831bd30",
   "metadata": {},
   "outputs": [
    {
     "data": {
      "text/plain": [
       "Index(['Experience', 'Rating', 'Fees', 'MBBS', 'BDS', 'BAMS', 'BHMS',\n",
       "       'MD - Dermatology', 'MS - ENT', 'Venereology & Leprosy',\n",
       "       'MD - General Medicine', 'Diploma in Otorhinolaryngology (DLO)',\n",
       "       'MD - Homeopathy', 'city_Bangalore', 'city_Chennai', 'city_Coimbatore',\n",
       "       'city_Delhi', 'city_Ernakulam', 'city_Hyderabad', 'city_Mumbai',\n",
       "       'city_Thiruvananthapuram', 'city_Unknown', 'Profile_Ayurveda',\n",
       "       'Profile_Dentist', 'Profile_Dermatologists', 'Profile_ENT Specialist',\n",
       "       'Profile_General Medicine', 'Profile_Homeopath'],\n",
       "      dtype='object')"
      ]
     },
     "execution_count": 81,
     "metadata": {},
     "output_type": "execute_result"
    }
   ],
   "source": [
    "df_train.columns"
   ]
  },
  {
   "cell_type": "code",
   "execution_count": 82,
   "id": "78629fab",
   "metadata": {},
   "outputs": [],
   "source": [
    "from sklearn.preprocessing import PowerTransformer\n",
    "pt = PowerTransformer()\n",
    "df_train=pt.fit_transform(df_train)"
   ]
  },
  {
   "cell_type": "code",
   "execution_count": 83,
   "id": "f404619f",
   "metadata": {},
   "outputs": [],
   "source": [
    "df_train=pd.DataFrame(df_train)"
   ]
  },
  {
   "cell_type": "code",
   "execution_count": 84,
   "id": "f0592f92",
   "metadata": {},
   "outputs": [],
   "source": [
    "df_train.columns=['Experience', 'Rating', 'Fees', 'MBBS', 'BDS', 'BAMS', 'BHMS',\n",
    "       'MD - Dermatology', 'MS - ENT', 'Venereology & Leprosy',\n",
    "       'MD - General Medicine', 'Diploma in Otorhinolaryngology (DLO)',\n",
    "       'MD - Homeopathy', 'city_Bangalore', 'city_Chennai', 'city_Coimbatore',\n",
    "       'city_Delhi', 'city_Ernakulam', 'city_Hyderabad', 'city_Mumbai',\n",
    "       'city_Thiruvananthapuram', 'city_Unknown', 'Profile_Ayurveda',\n",
    "       'Profile_Dentist', 'Profile_Dermatologists', 'Profile_ENT Specialist',\n",
    "       'Profile_General Medicine', 'Profile_Homeopath']"
   ]
  },
  {
   "cell_type": "code",
   "execution_count": 85,
   "id": "e53e067e",
   "metadata": {},
   "outputs": [
    {
     "data": {
      "text/plain": [
       "Index(['Experience', 'Rating', 'Qualification_count', 'MBBS', 'BDS', 'BHMS',\n",
       "       'BAMS', 'MD - Dermatology', 'MS - ENT', 'MD - General Medicine',\n",
       "       'Venereology & Leprosy', 'Diploma in Otorhinolaryngology (DLO)', 'DDVL',\n",
       "       'city_Bangalore', 'city_Chennai', 'city_Coimbatore', 'city_Delhi',\n",
       "       'city_Ernakulam', 'city_Hyderabad', 'city_Mumbai',\n",
       "       'city_Thiruvananthapuram', 'city_Unknown', 'Profile_Ayurveda',\n",
       "       'Profile_Dentist', 'Profile_Dermatologists', 'Profile_ENT Specialist',\n",
       "       'Profile_General Medicine', 'Profile_Homeopath'],\n",
       "      dtype='object')"
      ]
     },
     "execution_count": 85,
     "metadata": {},
     "output_type": "execute_result"
    }
   ],
   "source": [
    "df_test.columns"
   ]
  },
  {
   "cell_type": "code",
   "execution_count": 86,
   "id": "b687453e",
   "metadata": {},
   "outputs": [
    {
     "data": {
      "text/plain": [
       "Experience                              0.910195\n",
       "Qualification_count                     1.100499\n",
       "MBBS                                    0.752647\n",
       "BDS                                     1.019420\n",
       "BHMS                                    1.669693\n",
       "BAMS                                    1.656119\n",
       "MD - Dermatology                        0.000000\n",
       "MS - ENT                                0.000000\n",
       "MD - General Medicine                   0.000000\n",
       "Venereology & Leprosy                   0.000000\n",
       "Diploma in Otorhinolaryngology (DLO)    0.000000\n",
       "DDVL                                    0.000000\n",
       "city_Bangalore                          1.348646\n",
       "city_Chennai                            2.138319\n",
       "city_Coimbatore                         0.000000\n",
       "city_Delhi                              1.234122\n",
       "city_Ernakulam                          0.000000\n",
       "city_Hyderabad                          1.813503\n",
       "city_Mumbai                             1.204367\n",
       "city_Thiruvananthapuram                 0.000000\n",
       "city_Unknown                            0.000000\n",
       "Profile_Ayurveda                        1.616191\n",
       "Profile_Dentist                         0.972072\n",
       "Profile_Dermatologists                  4.018902\n",
       "Profile_ENT Specialist                  4.966809\n",
       "Profile_General Medicine                1.209286\n",
       "Profile_Homeopath                       1.484942\n",
       "dtype: float64"
      ]
     },
     "execution_count": 86,
     "metadata": {},
     "output_type": "execute_result"
    }
   ],
   "source": [
    "df_test.skew()"
   ]
  },
  {
   "cell_type": "code",
   "execution_count": 87,
   "id": "231bd354",
   "metadata": {},
   "outputs": [],
   "source": [
    "pt = PowerTransformer()\n",
    "df_test=pt.fit_transform(df_test)"
   ]
  },
  {
   "cell_type": "code",
   "execution_count": 88,
   "id": "6ad60c55",
   "metadata": {},
   "outputs": [],
   "source": [
    "df_test=pd.DataFrame(df_test)"
   ]
  },
  {
   "cell_type": "code",
   "execution_count": 89,
   "id": "683cda5e",
   "metadata": {},
   "outputs": [],
   "source": [
    "df_test.columns=['Experience', 'Rating', 'Qualification_count', 'MBBS', 'BDS', 'BHMS',\n",
    "       'BAMS', 'MD - Dermatology', 'MS - ENT', 'MD - General Medicine',\n",
    "       'Venereology & Leprosy', 'Diploma in Otorhinolaryngology (DLO)', 'DDVL',\n",
    "       'city_Bangalore', 'city_Chennai', 'city_Coimbatore', 'city_Delhi',\n",
    "       'city_Ernakulam', 'city_Hyderabad', 'city_Mumbai',\n",
    "       'city_Thiruvananthapuram', 'city_Unknown', 'Profile_Ayurveda',\n",
    "       'Profile_Dentist', 'Profile_Dermatologists', 'Profile_ENT Specialist',\n",
    "       'Profile_General Medicine', 'Profile_Homeopath']"
   ]
  },
  {
   "cell_type": "code",
   "execution_count": 90,
   "id": "d2d8a218",
   "metadata": {},
   "outputs": [],
   "source": [
    "x=df_train.drop(columns='Fees',axis=1)\n",
    "y=df_train['Fees']"
   ]
  },
  {
   "cell_type": "code",
   "execution_count": null,
   "id": "70d493b3",
   "metadata": {},
   "outputs": [],
   "source": []
  },
  {
   "cell_type": "code",
   "execution_count": 91,
   "id": "22005e24",
   "metadata": {},
   "outputs": [],
   "source": [
    "from sklearn.preprocessing import StandardScaler\n",
    "s = StandardScaler()\n",
    "X = s.fit_transform(x)"
   ]
  },
  {
   "cell_type": "code",
   "execution_count": 92,
   "id": "15fea6c8",
   "metadata": {},
   "outputs": [],
   "source": [
    "from sklearn.model_selection import train_test_split\n",
    "\n",
    "x_train, x_test, y_train, y_test = train_test_split(X,y,test_size=0.2,random_state=0)"
   ]
  },
  {
   "cell_type": "code",
   "execution_count": 93,
   "id": "62ec807f",
   "metadata": {},
   "outputs": [],
   "source": [
    "from sklearn.linear_model import LinearRegression\n",
    "from sklearn.svm import SVR\n",
    "from sklearn.tree import DecisionTreeRegressor\n",
    "from sklearn.ensemble import RandomForestRegressor\n",
    "from sklearn.neighbors import KNeighborsRegressor\n",
    "from sklearn.model_selection import cross_val_score\n",
    "from sklearn.metrics import mean_squared_error, mean_absolute_error,r2_score"
   ]
  },
  {
   "cell_type": "code",
   "execution_count": 94,
   "id": "4ae370d7",
   "metadata": {},
   "outputs": [
    {
     "name": "stdout",
     "output_type": "stream",
     "text": [
      "Coefficient :  [-1.71464548e-02  1.40557513e-01  5.05700151e-02 -1.28412573e-01\n",
      " -1.23094022e-02 -5.07703028e-02 -3.01758062e-02  5.86312401e+09\n",
      " -7.16514120e+08 -1.18089976e+10  5.16214867e+10 -7.69745174e+10\n",
      " -1.26093670e+12 -1.06825509e+12 -1.64635390e+10 -1.22409092e+12\n",
      " -1.95312500e-03 -1.13275885e+12 -1.26915956e+12  0.00000000e+00\n",
      "  0.00000000e+00  4.65897557e+12  5.38697063e+12  4.50854570e+12\n",
      "  2.26487171e+12  4.72764979e+12  4.37111816e+12]\n",
      "Intercept :  0.00033297943299470754\n",
      "Score :  0.1457511997203813\n"
     ]
    }
   ],
   "source": [
    "lg=LinearRegression()\n",
    "lg.fit(x_train,y_train)\n",
    "predl=lg.predict(x_test)\n",
    "print('Coefficient : ',lg.coef_)\n",
    "print('Intercept : ', lg.intercept_)\n",
    "print('Score : ',lg.score(x_train,y_train))"
   ]
  },
  {
   "cell_type": "code",
   "execution_count": 95,
   "id": "4e3b7fe9",
   "metadata": {},
   "outputs": [
    {
     "name": "stdout",
     "output_type": "stream",
     "text": [
      "R2 Score: 0.06638224667948778\n",
      "error\n",
      "Mean absolute error: 0.8030038979926221\n",
      "Mean squared error: 0.9474937569425345\n",
      "Root Mean Squared Error: 0.9733929098480913\n"
     ]
    }
   ],
   "source": [
    "print('R2 Score:',r2_score(y_test,predl))\n",
    "print('error')\n",
    "print('Mean absolute error:', mean_absolute_error(y_test,predl))\n",
    "print('Mean squared error:', mean_squared_error(y_test,predl))\n",
    "print('Root Mean Squared Error:', np.sqrt(mean_squared_error(y_test,predl)))"
   ]
  },
  {
   "cell_type": "code",
   "execution_count": null,
   "id": "e2277993",
   "metadata": {},
   "outputs": [],
   "source": []
  },
  {
   "cell_type": "code",
   "execution_count": 96,
   "id": "0ede5a59",
   "metadata": {},
   "outputs": [
    {
     "name": "stdout",
     "output_type": "stream",
     "text": [
      "Score :  0.5519731570028574\n"
     ]
    }
   ],
   "source": [
    "rf=RandomForestRegressor()\n",
    "rf.fit(x_train,y_train)\n",
    "print('Score : ', rf.score(x_train,y_train))\n",
    "predrf=rf.predict(x_test)"
   ]
  },
  {
   "cell_type": "code",
   "execution_count": 97,
   "id": "dba641a0",
   "metadata": {},
   "outputs": [
    {
     "name": "stdout",
     "output_type": "stream",
     "text": [
      "R2 Score: -0.024078909980962626\n",
      "error\n",
      "Mean absolute error: 0.800965696878643\n",
      "Mean squared error: 1.0392994031791611\n",
      "Root Mean Squared Error: 1.0194603489980183\n"
     ]
    }
   ],
   "source": [
    "print('R2 Score:',r2_score(y_test,predrf))\n",
    "print('error')\n",
    "print('Mean absolute error:', mean_absolute_error(y_test,predrf))\n",
    "print('Mean squared error:', mean_squared_error(y_test,predrf))\n",
    "print('Root Mean Squared Error:', np.sqrt(mean_squared_error(y_test,predrf)))"
   ]
  },
  {
   "cell_type": "code",
   "execution_count": null,
   "id": "f6f3b96a",
   "metadata": {},
   "outputs": [],
   "source": []
  },
  {
   "cell_type": "code",
   "execution_count": 98,
   "id": "44e37cb3",
   "metadata": {},
   "outputs": [
    {
     "name": "stdout",
     "output_type": "stream",
     "text": [
      "Score :  0.5940262704889319\n"
     ]
    }
   ],
   "source": [
    "dt=DecisionTreeRegressor()\n",
    "dt.fit(x_train,y_train)\n",
    "preddt=dt.predict(x_test)\n",
    "print('Score : ',dt.score(x_train,y_train))"
   ]
  },
  {
   "cell_type": "code",
   "execution_count": 99,
   "id": "47b4165a",
   "metadata": {},
   "outputs": [
    {
     "name": "stdout",
     "output_type": "stream",
     "text": [
      "R2 Score: -0.25503840410491274\n",
      "error\n",
      "Mean absolute error: 0.8595489397011307\n",
      "Mean squared error: 1.2736915599379062\n",
      "Root Mean Squared Error: 1.128579443343669\n"
     ]
    }
   ],
   "source": [
    "print('R2 Score:',r2_score(y_test,preddt))\n",
    "print('error')\n",
    "print('Mean absolute error:', mean_absolute_error(y_test,preddt))\n",
    "print('Mean squared error:', mean_squared_error(y_test,preddt))\n",
    "print('Root Mean Squared Error:', np.sqrt(mean_squared_error(y_test,preddt)))"
   ]
  },
  {
   "cell_type": "code",
   "execution_count": null,
   "id": "be2ad8fe",
   "metadata": {},
   "outputs": [],
   "source": []
  },
  {
   "cell_type": "code",
   "execution_count": 100,
   "id": "13d82e61",
   "metadata": {},
   "outputs": [
    {
     "name": "stdout",
     "output_type": "stream",
     "text": [
      "Score :  0.19815511654248652\n"
     ]
    }
   ],
   "source": [
    "svr=SVR()\n",
    "svr.fit(x_train,y_train)\n",
    "preds=svr.predict(x_test)\n",
    "print('Score : ',svr.score(x_train,y_train))"
   ]
  },
  {
   "cell_type": "code",
   "execution_count": 101,
   "id": "46e19a1b",
   "metadata": {},
   "outputs": [
    {
     "name": "stdout",
     "output_type": "stream",
     "text": [
      "R2 Score: 0.01541679077917324\n",
      "error\n",
      "Mean absolute error: 0.7848043562796987\n",
      "Mean squared error: 0.999216692923059\n",
      "Root Mean Squared Error: 0.9996082697352293\n"
     ]
    }
   ],
   "source": [
    "print('R2 Score:',r2_score(y_test,preds))\n",
    "print('error')\n",
    "print('Mean absolute error:', mean_absolute_error(y_test,preds))\n",
    "print('Mean squared error:', mean_squared_error(y_test,preds))\n",
    "print('Root Mean Squared Error:', np.sqrt(mean_squared_error(y_test,preds)))"
   ]
  },
  {
   "cell_type": "code",
   "execution_count": null,
   "id": "aa93c443",
   "metadata": {},
   "outputs": [],
   "source": []
  },
  {
   "cell_type": "code",
   "execution_count": 102,
   "id": "eda9d2bc",
   "metadata": {},
   "outputs": [
    {
     "name": "stdout",
     "output_type": "stream",
     "text": [
      "Score :  0.338769385678077\n"
     ]
    }
   ],
   "source": [
    "knn=KNeighborsRegressor()\n",
    "knn.fit(x_train,y_train)\n",
    "predk=knn.predict(x_test)\n",
    "print('Score : ',knn.score(x_train,y_train))"
   ]
  },
  {
   "cell_type": "code",
   "execution_count": 103,
   "id": "31fbc2db",
   "metadata": {},
   "outputs": [
    {
     "name": "stdout",
     "output_type": "stream",
     "text": [
      "R2 Score: -0.06287627438255128\n",
      "error\n",
      "Mean absolute error: 0.8189387184518102\n",
      "Mean squared error: 1.0786733979704857\n",
      "Root Mean Squared Error: 1.0385920267219875\n"
     ]
    }
   ],
   "source": [
    "print('R2 Score:',r2_score(y_test,predk))\n",
    "print('error')\n",
    "print('Mean absolute error:', mean_absolute_error(y_test,predk))\n",
    "print('Mean squared error:', mean_squared_error(y_test,predk))\n",
    "print('Root Mean Squared Error:', np.sqrt(mean_squared_error(y_test,predk)))"
   ]
  },
  {
   "cell_type": "code",
   "execution_count": null,
   "id": "e253638a",
   "metadata": {},
   "outputs": [],
   "source": []
  },
  {
   "cell_type": "markdown",
   "id": "84f74712",
   "metadata": {},
   "source": [
    "# Cross Validation"
   ]
  },
  {
   "cell_type": "code",
   "execution_count": 104,
   "id": "ebb863e5",
   "metadata": {},
   "outputs": [
    {
     "data": {
      "text/plain": [
       "(0.9360791232602519, 0.024565505853019826)"
      ]
     },
     "execution_count": 104,
     "metadata": {},
     "output_type": "execute_result"
    }
   ],
   "source": [
    "score=cross_val_score(lg,x,y,cv=10,scoring='neg_mean_squared_error')\n",
    "lg_score_cross=np.sqrt(-score)\n",
    "np.mean(lg_score_cross),np.std(lg_score_cross)"
   ]
  },
  {
   "cell_type": "code",
   "execution_count": 105,
   "id": "1719d70f",
   "metadata": {},
   "outputs": [
    {
     "data": {
      "text/plain": [
       "(1.0078441854009321, 0.03241321114833469)"
      ]
     },
     "execution_count": 105,
     "metadata": {},
     "output_type": "execute_result"
    }
   ],
   "source": [
    "score=cross_val_score(rf,x,y,cv=10,scoring='neg_mean_squared_error')\n",
    "lg_score_cross=np.sqrt(-score)\n",
    "np.mean(lg_score_cross),np.std(lg_score_cross)"
   ]
  },
  {
   "cell_type": "code",
   "execution_count": 106,
   "id": "7b9613d8",
   "metadata": {},
   "outputs": [
    {
     "data": {
      "text/plain": [
       "(1.1311033464515523, 0.04843521581696915)"
      ]
     },
     "execution_count": 106,
     "metadata": {},
     "output_type": "execute_result"
    }
   ],
   "source": [
    "score=cross_val_score(dt,x,y,cv=10,scoring='neg_mean_squared_error')\n",
    "lg_score_cross=np.sqrt(-score)\n",
    "np.mean(lg_score_cross),np.std(lg_score_cross)"
   ]
  },
  {
   "cell_type": "code",
   "execution_count": 107,
   "id": "4fad0423",
   "metadata": {},
   "outputs": [
    {
     "data": {
      "text/plain": [
       "(0.943784794247408, 0.030559330002538188)"
      ]
     },
     "execution_count": 107,
     "metadata": {},
     "output_type": "execute_result"
    }
   ],
   "source": [
    "score=cross_val_score(svr,x,y,cv=10,scoring='neg_mean_squared_error')\n",
    "lg_score_cross=np.sqrt(-score)\n",
    "np.mean(lg_score_cross),np.std(lg_score_cross)"
   ]
  },
  {
   "cell_type": "code",
   "execution_count": 108,
   "id": "ee01190c",
   "metadata": {},
   "outputs": [
    {
     "data": {
      "text/plain": [
       "(0.9901078128596567, 0.03670139099639729)"
      ]
     },
     "execution_count": 108,
     "metadata": {},
     "output_type": "execute_result"
    }
   ],
   "source": [
    "score=cross_val_score(knn,x,y,cv=10,scoring='neg_mean_squared_error')\n",
    "lg_score_cross=np.sqrt(-score)\n",
    "np.mean(lg_score_cross),np.std(lg_score_cross)"
   ]
  },
  {
   "cell_type": "code",
   "execution_count": null,
   "id": "23ca5938",
   "metadata": {},
   "outputs": [],
   "source": []
  },
  {
   "cell_type": "code",
   "execution_count": null,
   "id": "06365459",
   "metadata": {},
   "outputs": [],
   "source": []
  },
  {
   "cell_type": "code",
   "execution_count": null,
   "id": "745c4172",
   "metadata": {},
   "outputs": [],
   "source": []
  },
  {
   "cell_type": "markdown",
   "id": "9bc75249",
   "metadata": {},
   "source": [
    "# Hyperparameter Tuning"
   ]
  },
  {
   "cell_type": "code",
   "execution_count": 109,
   "id": "af500b3a",
   "metadata": {},
   "outputs": [
    {
     "name": "stdout",
     "output_type": "stream",
     "text": [
      "{'bootstrap': True, 'max_depth': 10, 'random_state': 123, 'warm_start': True}\n",
      "0.11727826777814736\n"
     ]
    }
   ],
   "source": [
    "from sklearn.model_selection import GridSearchCV\n",
    "rf_param_grid = {'max_depth': [10,15,20,25,30,35,40], 'bootstrap' : [True,False], 'random_state' : [123], \n",
    "                 'warm_start' : [True,False]}\n",
    "rf_grid = GridSearchCV(estimator=rf, param_grid=rf_param_grid)\n",
    "rf_grid.fit(x_train, y_train)\n",
    "best_parameters =rf_grid.best_params_\n",
    "print(best_parameters)\n",
    "best_result= rf_grid.best_score_\n",
    "print(best_result)"
   ]
  },
  {
   "cell_type": "code",
   "execution_count": 110,
   "id": "bd64a78b",
   "metadata": {},
   "outputs": [
    {
     "name": "stdout",
     "output_type": "stream",
     "text": [
      "R2 Score: 0.08916035472215911\n",
      "\n",
      "\n",
      "error\n",
      "Mean absolute error: 0.7719512874613832\n",
      "Mean squared error: 0.924377106591109\n",
      "Root Mean Squared Error: 0.9614453216855907\n"
     ]
    }
   ],
   "source": [
    "rf=RandomForestRegressor(bootstrap=True,max_depth=10,random_state=123,warm_start=True)\n",
    "rf.fit(x_train,y_train)\n",
    "rf_pred=rf.predict(x_test)\n",
    "print('R2 Score:',r2_score(y_test,rf_pred))\n",
    "print('\\n')\n",
    "\n",
    "print('error')\n",
    "print('Mean absolute error:', mean_absolute_error(y_test,rf_pred))\n",
    "print('Mean squared error:', mean_squared_error(y_test,rf_pred))\n",
    "print('Root Mean Squared Error:', np.sqrt(mean_squared_error(y_test,rf_pred)))"
   ]
  },
  {
   "cell_type": "code",
   "execution_count": null,
   "id": "63afc769",
   "metadata": {},
   "outputs": [],
   "source": []
  },
  {
   "cell_type": "code",
   "execution_count": 111,
   "id": "d303947a",
   "metadata": {},
   "outputs": [
    {
     "name": "stdout",
     "output_type": "stream",
     "text": [
      "{'criterion': 'mae', 'max_features': 'log2', 'splitter': 'best'}\n",
      "-0.28779291797115397\n"
     ]
    }
   ],
   "source": [
    "parameters = {'splitter':['best', 'random'],'max_features':['auto','sqrt','log2'],'criterion':['mse','mae','poisson'] }\n",
    "ddt=GridSearchCV(dt,parameters)\n",
    "ddt.fit(x_train,y_train)\n",
    "best_parameters =ddt.best_params_\n",
    "print(best_parameters)\n",
    "best_result= ddt.best_score_\n",
    "print(best_result)"
   ]
  },
  {
   "cell_type": "code",
   "execution_count": 112,
   "id": "3eeae80f",
   "metadata": {},
   "outputs": [
    {
     "name": "stdout",
     "output_type": "stream",
     "text": [
      "R2 Score: -0.2724983574344677\n",
      "\n",
      "\n",
      "error\n",
      "Mean absolute error: 0.8451435073996866\n",
      "Mean squared error: 1.2914110138765482\n",
      "Root Mean Squared Error: 1.1364026636173237\n"
     ]
    }
   ],
   "source": [
    "dt=DecisionTreeRegressor(criterion='mae',max_features='log2',splitter='random')\n",
    "dt.fit(x_train,y_train)\n",
    "dt_pred=dt.predict(x_test)\n",
    "print('R2 Score:',r2_score(y_test,dt_pred))\n",
    "print('\\n')\n",
    "\n",
    "print('error')\n",
    "print('Mean absolute error:', mean_absolute_error(y_test,dt_pred))\n",
    "print('Mean squared error:', mean_squared_error(y_test,dt_pred))\n",
    "print('Root Mean Squared Error:', np.sqrt(mean_squared_error(y_test,dt_pred)))"
   ]
  },
  {
   "cell_type": "code",
   "execution_count": null,
   "id": "053c0ce0",
   "metadata": {},
   "outputs": [],
   "source": []
  },
  {
   "cell_type": "code",
   "execution_count": 113,
   "id": "68cc9e36",
   "metadata": {},
   "outputs": [
    {
     "name": "stdout",
     "output_type": "stream",
     "text": [
      "{'C': 1, 'gamma': 'auto', 'kernel': 'rbf'}\n",
      "0.13645420769358216\n"
     ]
    }
   ],
   "source": [
    "parameters = {'kernel':['linear','poly','rbf'],'C':[1,10],'gamma':['scale', 'auto'] }\n",
    "svr_grid=GridSearchCV(svr,parameters)\n",
    "svr_grid.fit(x_train,y_train)\n",
    "best_parameters =svr_grid.best_params_\n",
    "print(best_parameters)\n",
    "best_result= svr_grid.best_score_\n",
    "print(best_result)\n"
   ]
  },
  {
   "cell_type": "code",
   "execution_count": 114,
   "id": "74963698",
   "metadata": {},
   "outputs": [
    {
     "name": "stdout",
     "output_type": "stream",
     "text": [
      "R2 Score: 0.025125926106722263\n",
      "\n",
      "\n",
      "error\n",
      "Mean absolute error: 0.7832084591872146\n",
      "Mean squared error: 0.9893632544302235\n",
      "Root Mean Squared Error: 0.9946674089514663\n"
     ]
    }
   ],
   "source": [
    "svr=SVR(C=1,gamma='auto',kernel='rbf')\n",
    "svr.fit(x_train,y_train)\n",
    "svr_pred=svr.predict(x_test)\n",
    "print('R2 Score:',r2_score(y_test,svr_pred))\n",
    "print('\\n')\n",
    "\n",
    "print('error')\n",
    "print('Mean absolute error:', mean_absolute_error(y_test,svr_pred))\n",
    "print('Mean squared error:', mean_squared_error(y_test,svr_pred))\n",
    "print('Root Mean Squared Error:', np.sqrt(mean_squared_error(y_test,svr_pred)))"
   ]
  },
  {
   "cell_type": "code",
   "execution_count": null,
   "id": "c1587d41",
   "metadata": {},
   "outputs": [],
   "source": []
  },
  {
   "cell_type": "code",
   "execution_count": null,
   "id": "3342d6ca",
   "metadata": {},
   "outputs": [],
   "source": []
  },
  {
   "cell_type": "code",
   "execution_count": 115,
   "id": "3332331e",
   "metadata": {},
   "outputs": [
    {
     "data": {
      "text/plain": [
       "DecisionTreeRegressor(criterion='mae', max_features='log2', splitter='random')"
      ]
     },
     "execution_count": 115,
     "metadata": {},
     "output_type": "execute_result"
    }
   ],
   "source": [
    "import joblib\n",
    "joblib.dump(dt,'dtd.obj')\n",
    "\n",
    "dtfile=joblib.load('dtd.obj')\n",
    "dtfile.fit(x_train, y_train)"
   ]
  }
 ],
 "metadata": {
  "kernelspec": {
   "display_name": "Python 3",
   "language": "python",
   "name": "python3"
  },
  "language_info": {
   "codemirror_mode": {
    "name": "ipython",
    "version": 3
   },
   "file_extension": ".py",
   "mimetype": "text/x-python",
   "name": "python",
   "nbconvert_exporter": "python",
   "pygments_lexer": "ipython3",
   "version": "3.8.8"
  }
 },
 "nbformat": 4,
 "nbformat_minor": 5
}
