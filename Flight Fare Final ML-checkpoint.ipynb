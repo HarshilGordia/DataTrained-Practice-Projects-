{
 "cells": [
  {
   "cell_type": "markdown",
   "metadata": {},
   "source": [
    "# Importing Libraries"
   ]
  },
  {
   "cell_type": "code",
   "execution_count": 29,
   "metadata": {},
   "outputs": [],
   "source": [
    "import numpy as np\n",
    "import pandas as pd\n",
    "import matplotlib.pyplot as plt\n",
    "import seaborn as sns\n",
    "import warnings\n",
    "warnings.filterwarnings('ignore')"
   ]
  },
  {
   "cell_type": "markdown",
   "metadata": {},
   "source": [
    "# Importing Train Data"
   ]
  },
  {
   "cell_type": "code",
   "execution_count": 30,
   "metadata": {},
   "outputs": [
    {
     "data": {
      "text/html": [
       "<div>\n",
       "<style scoped>\n",
       "    .dataframe tbody tr th:only-of-type {\n",
       "        vertical-align: middle;\n",
       "    }\n",
       "\n",
       "    .dataframe tbody tr th {\n",
       "        vertical-align: top;\n",
       "    }\n",
       "\n",
       "    .dataframe thead th {\n",
       "        text-align: right;\n",
       "    }\n",
       "</style>\n",
       "<table border=\"1\" class=\"dataframe\">\n",
       "  <thead>\n",
       "    <tr style=\"text-align: right;\">\n",
       "      <th></th>\n",
       "      <th>Unnamed: 0</th>\n",
       "      <th>Airline</th>\n",
       "      <th>Journey_date</th>\n",
       "      <th>From</th>\n",
       "      <th>To</th>\n",
       "      <th>Dtime</th>\n",
       "      <th>Atime</th>\n",
       "      <th>Stops</th>\n",
       "      <th>Price</th>\n",
       "    </tr>\n",
       "  </thead>\n",
       "  <tbody>\n",
       "    <tr>\n",
       "      <th>0</th>\n",
       "      <td>0</td>\n",
       "      <td>NaN</td>\n",
       "      <td>NaN</td>\n",
       "      <td>NaN</td>\n",
       "      <td>NaN</td>\n",
       "      <td>NaN</td>\n",
       "      <td>NaN</td>\n",
       "      <td>NaN</td>\n",
       "      <td>NaN</td>\n",
       "    </tr>\n",
       "    <tr>\n",
       "      <th>1</th>\n",
       "      <td>0</td>\n",
       "      <td>IndiGo</td>\n",
       "      <td>30/10/2021</td>\n",
       "      <td>Raipur</td>\n",
       "      <td>Goa</td>\n",
       "      <td>08:05</td>\n",
       "      <td>14:50</td>\n",
       "      <td>1 stop via New Delhi</td>\n",
       "      <td>₹ 7,704</td>\n",
       "    </tr>\n",
       "    <tr>\n",
       "      <th>2</th>\n",
       "      <td>1</td>\n",
       "      <td>IndiGo</td>\n",
       "      <td>30/10/2021</td>\n",
       "      <td>Raipur</td>\n",
       "      <td>Goa</td>\n",
       "      <td>07:30</td>\n",
       "      <td>15:30</td>\n",
       "      <td>1 stop via Mumbai</td>\n",
       "      <td>₹ 7,704</td>\n",
       "    </tr>\n",
       "    <tr>\n",
       "      <th>3</th>\n",
       "      <td>2</td>\n",
       "      <td>IndiGo</td>\n",
       "      <td>30/10/2021</td>\n",
       "      <td>Raipur</td>\n",
       "      <td>Goa</td>\n",
       "      <td>12:10</td>\n",
       "      <td>21:20</td>\n",
       "      <td>1 stop via New Delhi</td>\n",
       "      <td>₹ 7,704</td>\n",
       "    </tr>\n",
       "    <tr>\n",
       "      <th>4</th>\n",
       "      <td>3</td>\n",
       "      <td>IndiGo</td>\n",
       "      <td>30/10/2021</td>\n",
       "      <td>Raipur</td>\n",
       "      <td>Goa</td>\n",
       "      <td>07:30</td>\n",
       "      <td>12:40</td>\n",
       "      <td>1 stop via Mumbai</td>\n",
       "      <td>₹ 7,914</td>\n",
       "    </tr>\n",
       "  </tbody>\n",
       "</table>\n",
       "</div>"
      ],
      "text/plain": [
       "   Unnamed: 0 Airline Journey_date    From   To  Dtime  Atime  \\\n",
       "0           0     NaN          NaN     NaN  NaN    NaN    NaN   \n",
       "1           0  IndiGo   30/10/2021  Raipur  Goa  08:05  14:50   \n",
       "2           1  IndiGo   30/10/2021  Raipur  Goa  07:30  15:30   \n",
       "3           2  IndiGo   30/10/2021  Raipur  Goa  12:10  21:20   \n",
       "4           3  IndiGo   30/10/2021  Raipur  Goa  07:30  12:40   \n",
       "\n",
       "                  Stops    Price  \n",
       "0                   NaN      NaN  \n",
       "1  1 stop via New Delhi  ₹ 7,704  \n",
       "2     1 stop via Mumbai  ₹ 7,704  \n",
       "3  1 stop via New Delhi  ₹ 7,704  \n",
       "4     1 stop via Mumbai  ₹ 7,914  "
      ]
     },
     "execution_count": 30,
     "metadata": {},
     "output_type": "execute_result"
    }
   ],
   "source": [
    "train_df=pd.read_csv(r\"C:\\UsersHarshil Goradia\\Downloads\\Flight_Price.txt\")\n",
    "train_df.head()"
   ]
  },
  {
   "cell_type": "markdown",
   "metadata": {},
   "source": [
    "Flight ticket prices can be something hard to guess, today we might see a price, check out the price of the same flight tomorrow, it will be a different story. We might have often heard travellers saying that flight ticket prices are so unpredictable. Here you will be provided with prices of flight tickets for various airlines between the months of October and November of 2021 and between various cities."
   ]
  },
  {
   "cell_type": "markdown",
   "metadata": {},
   "source": [
    "# Exploratory Data Analysis"
   ]
  },
  {
   "cell_type": "code",
   "execution_count": 31,
   "metadata": {
    "scrolled": true
   },
   "outputs": [
    {
     "name": "stdout",
     "output_type": "stream",
     "text": [
      "(1522, 9)\n"
     ]
    }
   ],
   "source": [
    "#checking shape of data.\n",
    "print(train_df.shape)"
   ]
  },
  {
   "cell_type": "code",
   "execution_count": 32,
   "metadata": {},
   "outputs": [
    {
     "data": {
      "text/plain": [
       "Unnamed: 0       int64\n",
       "Airline         object\n",
       "Journey_date    object\n",
       "From            object\n",
       "To              object\n",
       "Dtime           object\n",
       "Atime           object\n",
       "Stops           object\n",
       "Price           object\n",
       "dtype: object"
      ]
     },
     "execution_count": 32,
     "metadata": {},
     "output_type": "execute_result"
    }
   ],
   "source": [
    "#checking data types of train data.\n",
    "train_df.dtypes"
   ]
  },
  {
   "cell_type": "code",
   "execution_count": 33,
   "metadata": {},
   "outputs": [
    {
     "name": "stdout",
     "output_type": "stream",
     "text": [
      "<class 'pandas.core.frame.DataFrame'>\n",
      "RangeIndex: 1522 entries, 0 to 1521\n",
      "Data columns (total 9 columns):\n",
      " #   Column        Non-Null Count  Dtype \n",
      "---  ------        --------------  ----- \n",
      " 0   Unnamed: 0    1522 non-null   int64 \n",
      " 1   Airline       1521 non-null   object\n",
      " 2   Journey_date  1521 non-null   object\n",
      " 3   From          1521 non-null   object\n",
      " 4   To            1521 non-null   object\n",
      " 5   Dtime         1521 non-null   object\n",
      " 6   Atime         1521 non-null   object\n",
      " 7   Stops         1521 non-null   object\n",
      " 8   Price         1521 non-null   object\n",
      "dtypes: int64(1), object(8)\n",
      "memory usage: 107.1+ KB\n"
     ]
    }
   ],
   "source": [
    "#Getting train data Information.\n",
    "train_df.info()"
   ]
  },
  {
   "cell_type": "code",
   "execution_count": 34,
   "metadata": {},
   "outputs": [
    {
     "data": {
      "text/plain": [
       "Unnamed: 0      0\n",
       "Airline         1\n",
       "Journey_date    1\n",
       "From            1\n",
       "To              1\n",
       "Dtime           1\n",
       "Atime           1\n",
       "Stops           1\n",
       "Price           1\n",
       "dtype: int64"
      ]
     },
     "execution_count": 34,
     "metadata": {},
     "output_type": "execute_result"
    }
   ],
   "source": [
    "train_df.isnull().sum()"
   ]
  },
  {
   "cell_type": "markdown",
   "metadata": {},
   "source": [
    "Missing values is present in Total_Stops column"
   ]
  },
  {
   "cell_type": "markdown",
   "metadata": {},
   "source": [
    "# Features Engineering"
   ]
  },
  {
   "cell_type": "code",
   "execution_count": 35,
   "metadata": {},
   "outputs": [],
   "source": [
    "#Feature Engineering with Train Data.\n",
    "train_df['Journey_date'] = pd.to_datetime(train_df['Journey_date'])\n",
    "train_df['Month'] = train_df['Journey_date'].dt.month\n",
    "train_df['Day'] = train_df['Journey_date'].dt.day"
   ]
  },
  {
   "cell_type": "code",
   "execution_count": 36,
   "metadata": {},
   "outputs": [],
   "source": [
    "#Feature Engineering with Train Data.\n",
    "train_df['Dep_hour'] = pd.to_datetime(train_df['Dtime']).dt.hour\n",
    "train_df['Dep_minutes'] = pd.to_datetime(train_df['Dtime']).dt.minute"
   ]
  },
  {
   "cell_type": "code",
   "execution_count": 37,
   "metadata": {},
   "outputs": [
    {
     "data": {
      "text/html": [
       "<div>\n",
       "<style scoped>\n",
       "    .dataframe tbody tr th:only-of-type {\n",
       "        vertical-align: middle;\n",
       "    }\n",
       "\n",
       "    .dataframe tbody tr th {\n",
       "        vertical-align: top;\n",
       "    }\n",
       "\n",
       "    .dataframe thead th {\n",
       "        text-align: right;\n",
       "    }\n",
       "</style>\n",
       "<table border=\"1\" class=\"dataframe\">\n",
       "  <thead>\n",
       "    <tr style=\"text-align: right;\">\n",
       "      <th></th>\n",
       "      <th>Unnamed: 0</th>\n",
       "      <th>Airline</th>\n",
       "      <th>Journey_date</th>\n",
       "      <th>From</th>\n",
       "      <th>To</th>\n",
       "      <th>Dtime</th>\n",
       "      <th>Atime</th>\n",
       "      <th>Stops</th>\n",
       "      <th>Price</th>\n",
       "      <th>Month</th>\n",
       "      <th>Day</th>\n",
       "      <th>Dep_hour</th>\n",
       "      <th>Dep_minutes</th>\n",
       "    </tr>\n",
       "  </thead>\n",
       "  <tbody>\n",
       "    <tr>\n",
       "      <th>0</th>\n",
       "      <td>0</td>\n",
       "      <td>NaN</td>\n",
       "      <td>NaT</td>\n",
       "      <td>NaN</td>\n",
       "      <td>NaN</td>\n",
       "      <td>NaN</td>\n",
       "      <td>NaN</td>\n",
       "      <td>NaN</td>\n",
       "      <td>NaN</td>\n",
       "      <td>NaN</td>\n",
       "      <td>NaN</td>\n",
       "      <td>NaN</td>\n",
       "      <td>NaN</td>\n",
       "    </tr>\n",
       "    <tr>\n",
       "      <th>1</th>\n",
       "      <td>0</td>\n",
       "      <td>IndiGo</td>\n",
       "      <td>2021-10-30</td>\n",
       "      <td>Raipur</td>\n",
       "      <td>Goa</td>\n",
       "      <td>08:05</td>\n",
       "      <td>14:50</td>\n",
       "      <td>1 stop via New Delhi</td>\n",
       "      <td>₹ 7,704</td>\n",
       "      <td>10.0</td>\n",
       "      <td>30.0</td>\n",
       "      <td>8.0</td>\n",
       "      <td>5.0</td>\n",
       "    </tr>\n",
       "    <tr>\n",
       "      <th>2</th>\n",
       "      <td>1</td>\n",
       "      <td>IndiGo</td>\n",
       "      <td>2021-10-30</td>\n",
       "      <td>Raipur</td>\n",
       "      <td>Goa</td>\n",
       "      <td>07:30</td>\n",
       "      <td>15:30</td>\n",
       "      <td>1 stop via Mumbai</td>\n",
       "      <td>₹ 7,704</td>\n",
       "      <td>10.0</td>\n",
       "      <td>30.0</td>\n",
       "      <td>7.0</td>\n",
       "      <td>30.0</td>\n",
       "    </tr>\n",
       "    <tr>\n",
       "      <th>3</th>\n",
       "      <td>2</td>\n",
       "      <td>IndiGo</td>\n",
       "      <td>2021-10-30</td>\n",
       "      <td>Raipur</td>\n",
       "      <td>Goa</td>\n",
       "      <td>12:10</td>\n",
       "      <td>21:20</td>\n",
       "      <td>1 stop via New Delhi</td>\n",
       "      <td>₹ 7,704</td>\n",
       "      <td>10.0</td>\n",
       "      <td>30.0</td>\n",
       "      <td>12.0</td>\n",
       "      <td>10.0</td>\n",
       "    </tr>\n",
       "    <tr>\n",
       "      <th>4</th>\n",
       "      <td>3</td>\n",
       "      <td>IndiGo</td>\n",
       "      <td>2021-10-30</td>\n",
       "      <td>Raipur</td>\n",
       "      <td>Goa</td>\n",
       "      <td>07:30</td>\n",
       "      <td>12:40</td>\n",
       "      <td>1 stop via Mumbai</td>\n",
       "      <td>₹ 7,914</td>\n",
       "      <td>10.0</td>\n",
       "      <td>30.0</td>\n",
       "      <td>7.0</td>\n",
       "      <td>30.0</td>\n",
       "    </tr>\n",
       "  </tbody>\n",
       "</table>\n",
       "</div>"
      ],
      "text/plain": [
       "   Unnamed: 0 Airline Journey_date    From   To  Dtime  Atime  \\\n",
       "0           0     NaN          NaT     NaN  NaN    NaN    NaN   \n",
       "1           0  IndiGo   2021-10-30  Raipur  Goa  08:05  14:50   \n",
       "2           1  IndiGo   2021-10-30  Raipur  Goa  07:30  15:30   \n",
       "3           2  IndiGo   2021-10-30  Raipur  Goa  12:10  21:20   \n",
       "4           3  IndiGo   2021-10-30  Raipur  Goa  07:30  12:40   \n",
       "\n",
       "                  Stops    Price  Month   Day  Dep_hour  Dep_minutes  \n",
       "0                   NaN      NaN    NaN   NaN       NaN          NaN  \n",
       "1  1 stop via New Delhi  ₹ 7,704   10.0  30.0       8.0          5.0  \n",
       "2     1 stop via Mumbai  ₹ 7,704   10.0  30.0       7.0         30.0  \n",
       "3  1 stop via New Delhi  ₹ 7,704   10.0  30.0      12.0         10.0  \n",
       "4     1 stop via Mumbai  ₹ 7,914   10.0  30.0       7.0         30.0  "
      ]
     },
     "execution_count": 37,
     "metadata": {},
     "output_type": "execute_result"
    }
   ],
   "source": [
    "train_df.head()"
   ]
  },
  {
   "cell_type": "code",
   "execution_count": 38,
   "metadata": {},
   "outputs": [],
   "source": [
    "train_df.drop(['Journey_date'],axis=1,inplace=True)\n",
    "train_df.drop(['Dtime'],axis=1,inplace=True)"
   ]
  },
  {
   "cell_type": "markdown",
   "metadata": {},
   "source": [
    "After feature engineering we are droping Date_of_Journey and Dep_Time columns because we already extract data from this columns"
   ]
  },
  {
   "cell_type": "code",
   "execution_count": 39,
   "metadata": {},
   "outputs": [],
   "source": [
    "train_df['Arrival_hour'] = pd.to_datetime(train_df['Atime']).dt.hour\n",
    "train_df['Arrival_minutes'] = pd.to_datetime(train_df['Atime']).dt.minute"
   ]
  },
  {
   "cell_type": "code",
   "execution_count": 40,
   "metadata": {},
   "outputs": [
    {
     "data": {
      "text/html": [
       "<div>\n",
       "<style scoped>\n",
       "    .dataframe tbody tr th:only-of-type {\n",
       "        vertical-align: middle;\n",
       "    }\n",
       "\n",
       "    .dataframe tbody tr th {\n",
       "        vertical-align: top;\n",
       "    }\n",
       "\n",
       "    .dataframe thead th {\n",
       "        text-align: right;\n",
       "    }\n",
       "</style>\n",
       "<table border=\"1\" class=\"dataframe\">\n",
       "  <thead>\n",
       "    <tr style=\"text-align: right;\">\n",
       "      <th></th>\n",
       "      <th>Unnamed: 0</th>\n",
       "      <th>Airline</th>\n",
       "      <th>From</th>\n",
       "      <th>To</th>\n",
       "      <th>Atime</th>\n",
       "      <th>Stops</th>\n",
       "      <th>Price</th>\n",
       "      <th>Month</th>\n",
       "      <th>Day</th>\n",
       "      <th>Dep_hour</th>\n",
       "      <th>Dep_minutes</th>\n",
       "      <th>Arrival_hour</th>\n",
       "      <th>Arrival_minutes</th>\n",
       "    </tr>\n",
       "  </thead>\n",
       "  <tbody>\n",
       "    <tr>\n",
       "      <th>0</th>\n",
       "      <td>0</td>\n",
       "      <td>NaN</td>\n",
       "      <td>NaN</td>\n",
       "      <td>NaN</td>\n",
       "      <td>NaN</td>\n",
       "      <td>NaN</td>\n",
       "      <td>NaN</td>\n",
       "      <td>NaN</td>\n",
       "      <td>NaN</td>\n",
       "      <td>NaN</td>\n",
       "      <td>NaN</td>\n",
       "      <td>NaN</td>\n",
       "      <td>NaN</td>\n",
       "    </tr>\n",
       "    <tr>\n",
       "      <th>1</th>\n",
       "      <td>0</td>\n",
       "      <td>IndiGo</td>\n",
       "      <td>Raipur</td>\n",
       "      <td>Goa</td>\n",
       "      <td>14:50</td>\n",
       "      <td>1 stop via New Delhi</td>\n",
       "      <td>₹ 7,704</td>\n",
       "      <td>10.0</td>\n",
       "      <td>30.0</td>\n",
       "      <td>8.0</td>\n",
       "      <td>5.0</td>\n",
       "      <td>14.0</td>\n",
       "      <td>50.0</td>\n",
       "    </tr>\n",
       "    <tr>\n",
       "      <th>2</th>\n",
       "      <td>1</td>\n",
       "      <td>IndiGo</td>\n",
       "      <td>Raipur</td>\n",
       "      <td>Goa</td>\n",
       "      <td>15:30</td>\n",
       "      <td>1 stop via Mumbai</td>\n",
       "      <td>₹ 7,704</td>\n",
       "      <td>10.0</td>\n",
       "      <td>30.0</td>\n",
       "      <td>7.0</td>\n",
       "      <td>30.0</td>\n",
       "      <td>15.0</td>\n",
       "      <td>30.0</td>\n",
       "    </tr>\n",
       "    <tr>\n",
       "      <th>3</th>\n",
       "      <td>2</td>\n",
       "      <td>IndiGo</td>\n",
       "      <td>Raipur</td>\n",
       "      <td>Goa</td>\n",
       "      <td>21:20</td>\n",
       "      <td>1 stop via New Delhi</td>\n",
       "      <td>₹ 7,704</td>\n",
       "      <td>10.0</td>\n",
       "      <td>30.0</td>\n",
       "      <td>12.0</td>\n",
       "      <td>10.0</td>\n",
       "      <td>21.0</td>\n",
       "      <td>20.0</td>\n",
       "    </tr>\n",
       "    <tr>\n",
       "      <th>4</th>\n",
       "      <td>3</td>\n",
       "      <td>IndiGo</td>\n",
       "      <td>Raipur</td>\n",
       "      <td>Goa</td>\n",
       "      <td>12:40</td>\n",
       "      <td>1 stop via Mumbai</td>\n",
       "      <td>₹ 7,914</td>\n",
       "      <td>10.0</td>\n",
       "      <td>30.0</td>\n",
       "      <td>7.0</td>\n",
       "      <td>30.0</td>\n",
       "      <td>12.0</td>\n",
       "      <td>40.0</td>\n",
       "    </tr>\n",
       "  </tbody>\n",
       "</table>\n",
       "</div>"
      ],
      "text/plain": [
       "   Unnamed: 0 Airline    From   To  Atime                 Stops    Price  \\\n",
       "0           0     NaN     NaN  NaN    NaN                   NaN      NaN   \n",
       "1           0  IndiGo  Raipur  Goa  14:50  1 stop via New Delhi  ₹ 7,704   \n",
       "2           1  IndiGo  Raipur  Goa  15:30     1 stop via Mumbai  ₹ 7,704   \n",
       "3           2  IndiGo  Raipur  Goa  21:20  1 stop via New Delhi  ₹ 7,704   \n",
       "4           3  IndiGo  Raipur  Goa  12:40     1 stop via Mumbai  ₹ 7,914   \n",
       "\n",
       "   Month   Day  Dep_hour  Dep_minutes  Arrival_hour  Arrival_minutes  \n",
       "0    NaN   NaN       NaN          NaN           NaN              NaN  \n",
       "1   10.0  30.0       8.0          5.0          14.0             50.0  \n",
       "2   10.0  30.0       7.0         30.0          15.0             30.0  \n",
       "3   10.0  30.0      12.0         10.0          21.0             20.0  \n",
       "4   10.0  30.0       7.0         30.0          12.0             40.0  "
      ]
     },
     "execution_count": 40,
     "metadata": {},
     "output_type": "execute_result"
    }
   ],
   "source": [
    "train_df.head()"
   ]
  },
  {
   "cell_type": "code",
   "execution_count": 41,
   "metadata": {},
   "outputs": [],
   "source": [
    "train_df.drop(['Atime'],axis=1,inplace=True)"
   ]
  },
  {
   "cell_type": "code",
   "execution_count": 42,
   "metadata": {},
   "outputs": [
    {
     "data": {
      "text/html": [
       "<div>\n",
       "<style scoped>\n",
       "    .dataframe tbody tr th:only-of-type {\n",
       "        vertical-align: middle;\n",
       "    }\n",
       "\n",
       "    .dataframe tbody tr th {\n",
       "        vertical-align: top;\n",
       "    }\n",
       "\n",
       "    .dataframe thead th {\n",
       "        text-align: right;\n",
       "    }\n",
       "</style>\n",
       "<table border=\"1\" class=\"dataframe\">\n",
       "  <thead>\n",
       "    <tr style=\"text-align: right;\">\n",
       "      <th></th>\n",
       "      <th>Unnamed: 0</th>\n",
       "      <th>Airline</th>\n",
       "      <th>From</th>\n",
       "      <th>To</th>\n",
       "      <th>Stops</th>\n",
       "      <th>Price</th>\n",
       "      <th>Month</th>\n",
       "      <th>Day</th>\n",
       "      <th>Dep_hour</th>\n",
       "      <th>Dep_minutes</th>\n",
       "      <th>Arrival_hour</th>\n",
       "      <th>Arrival_minutes</th>\n",
       "    </tr>\n",
       "  </thead>\n",
       "  <tbody>\n",
       "    <tr>\n",
       "      <th>0</th>\n",
       "      <td>0</td>\n",
       "      <td>NaN</td>\n",
       "      <td>NaN</td>\n",
       "      <td>NaN</td>\n",
       "      <td>NaN</td>\n",
       "      <td>NaN</td>\n",
       "      <td>NaN</td>\n",
       "      <td>NaN</td>\n",
       "      <td>NaN</td>\n",
       "      <td>NaN</td>\n",
       "      <td>NaN</td>\n",
       "      <td>NaN</td>\n",
       "    </tr>\n",
       "    <tr>\n",
       "      <th>1</th>\n",
       "      <td>0</td>\n",
       "      <td>IndiGo</td>\n",
       "      <td>Raipur</td>\n",
       "      <td>Goa</td>\n",
       "      <td>1 stop via New Delhi</td>\n",
       "      <td>₹ 7,704</td>\n",
       "      <td>10.0</td>\n",
       "      <td>30.0</td>\n",
       "      <td>8.0</td>\n",
       "      <td>5.0</td>\n",
       "      <td>14.0</td>\n",
       "      <td>50.0</td>\n",
       "    </tr>\n",
       "    <tr>\n",
       "      <th>2</th>\n",
       "      <td>1</td>\n",
       "      <td>IndiGo</td>\n",
       "      <td>Raipur</td>\n",
       "      <td>Goa</td>\n",
       "      <td>1 stop via Mumbai</td>\n",
       "      <td>₹ 7,704</td>\n",
       "      <td>10.0</td>\n",
       "      <td>30.0</td>\n",
       "      <td>7.0</td>\n",
       "      <td>30.0</td>\n",
       "      <td>15.0</td>\n",
       "      <td>30.0</td>\n",
       "    </tr>\n",
       "    <tr>\n",
       "      <th>3</th>\n",
       "      <td>2</td>\n",
       "      <td>IndiGo</td>\n",
       "      <td>Raipur</td>\n",
       "      <td>Goa</td>\n",
       "      <td>1 stop via New Delhi</td>\n",
       "      <td>₹ 7,704</td>\n",
       "      <td>10.0</td>\n",
       "      <td>30.0</td>\n",
       "      <td>12.0</td>\n",
       "      <td>10.0</td>\n",
       "      <td>21.0</td>\n",
       "      <td>20.0</td>\n",
       "    </tr>\n",
       "    <tr>\n",
       "      <th>4</th>\n",
       "      <td>3</td>\n",
       "      <td>IndiGo</td>\n",
       "      <td>Raipur</td>\n",
       "      <td>Goa</td>\n",
       "      <td>1 stop via Mumbai</td>\n",
       "      <td>₹ 7,914</td>\n",
       "      <td>10.0</td>\n",
       "      <td>30.0</td>\n",
       "      <td>7.0</td>\n",
       "      <td>30.0</td>\n",
       "      <td>12.0</td>\n",
       "      <td>40.0</td>\n",
       "    </tr>\n",
       "  </tbody>\n",
       "</table>\n",
       "</div>"
      ],
      "text/plain": [
       "   Unnamed: 0 Airline    From   To                 Stops    Price  Month  \\\n",
       "0           0     NaN     NaN  NaN                   NaN      NaN    NaN   \n",
       "1           0  IndiGo  Raipur  Goa  1 stop via New Delhi  ₹ 7,704   10.0   \n",
       "2           1  IndiGo  Raipur  Goa     1 stop via Mumbai  ₹ 7,704   10.0   \n",
       "3           2  IndiGo  Raipur  Goa  1 stop via New Delhi  ₹ 7,704   10.0   \n",
       "4           3  IndiGo  Raipur  Goa     1 stop via Mumbai  ₹ 7,914   10.0   \n",
       "\n",
       "    Day  Dep_hour  Dep_minutes  Arrival_hour  Arrival_minutes  \n",
       "0   NaN       NaN          NaN           NaN              NaN  \n",
       "1  30.0       8.0          5.0          14.0             50.0  \n",
       "2  30.0       7.0         30.0          15.0             30.0  \n",
       "3  30.0      12.0         10.0          21.0             20.0  \n",
       "4  30.0       7.0         30.0          12.0             40.0  "
      ]
     },
     "execution_count": 42,
     "metadata": {},
     "output_type": "execute_result"
    }
   ],
   "source": [
    "train_df.head()"
   ]
  },
  {
   "cell_type": "code",
   "execution_count": 43,
   "metadata": {},
   "outputs": [],
   "source": [
    "train_df.drop(['Unnamed: 0'],axis=1,inplace=True)"
   ]
  },
  {
   "cell_type": "code",
   "execution_count": 44,
   "metadata": {},
   "outputs": [
    {
     "data": {
      "text/html": [
       "<div>\n",
       "<style scoped>\n",
       "    .dataframe tbody tr th:only-of-type {\n",
       "        vertical-align: middle;\n",
       "    }\n",
       "\n",
       "    .dataframe tbody tr th {\n",
       "        vertical-align: top;\n",
       "    }\n",
       "\n",
       "    .dataframe thead th {\n",
       "        text-align: right;\n",
       "    }\n",
       "</style>\n",
       "<table border=\"1\" class=\"dataframe\">\n",
       "  <thead>\n",
       "    <tr style=\"text-align: right;\">\n",
       "      <th></th>\n",
       "      <th>Airline</th>\n",
       "      <th>From</th>\n",
       "      <th>To</th>\n",
       "      <th>Stops</th>\n",
       "      <th>Price</th>\n",
       "      <th>Month</th>\n",
       "      <th>Day</th>\n",
       "      <th>Dep_hour</th>\n",
       "      <th>Dep_minutes</th>\n",
       "      <th>Arrival_hour</th>\n",
       "      <th>Arrival_minutes</th>\n",
       "    </tr>\n",
       "  </thead>\n",
       "  <tbody>\n",
       "    <tr>\n",
       "      <th>0</th>\n",
       "      <td>NaN</td>\n",
       "      <td>NaN</td>\n",
       "      <td>NaN</td>\n",
       "      <td>NaN</td>\n",
       "      <td>NaN</td>\n",
       "      <td>NaN</td>\n",
       "      <td>NaN</td>\n",
       "      <td>NaN</td>\n",
       "      <td>NaN</td>\n",
       "      <td>NaN</td>\n",
       "      <td>NaN</td>\n",
       "    </tr>\n",
       "    <tr>\n",
       "      <th>1</th>\n",
       "      <td>IndiGo</td>\n",
       "      <td>Raipur</td>\n",
       "      <td>Goa</td>\n",
       "      <td>1 stop via New Delhi</td>\n",
       "      <td>₹ 7,704</td>\n",
       "      <td>10.0</td>\n",
       "      <td>30.0</td>\n",
       "      <td>8.0</td>\n",
       "      <td>5.0</td>\n",
       "      <td>14.0</td>\n",
       "      <td>50.0</td>\n",
       "    </tr>\n",
       "    <tr>\n",
       "      <th>2</th>\n",
       "      <td>IndiGo</td>\n",
       "      <td>Raipur</td>\n",
       "      <td>Goa</td>\n",
       "      <td>1 stop via Mumbai</td>\n",
       "      <td>₹ 7,704</td>\n",
       "      <td>10.0</td>\n",
       "      <td>30.0</td>\n",
       "      <td>7.0</td>\n",
       "      <td>30.0</td>\n",
       "      <td>15.0</td>\n",
       "      <td>30.0</td>\n",
       "    </tr>\n",
       "    <tr>\n",
       "      <th>3</th>\n",
       "      <td>IndiGo</td>\n",
       "      <td>Raipur</td>\n",
       "      <td>Goa</td>\n",
       "      <td>1 stop via New Delhi</td>\n",
       "      <td>₹ 7,704</td>\n",
       "      <td>10.0</td>\n",
       "      <td>30.0</td>\n",
       "      <td>12.0</td>\n",
       "      <td>10.0</td>\n",
       "      <td>21.0</td>\n",
       "      <td>20.0</td>\n",
       "    </tr>\n",
       "    <tr>\n",
       "      <th>4</th>\n",
       "      <td>IndiGo</td>\n",
       "      <td>Raipur</td>\n",
       "      <td>Goa</td>\n",
       "      <td>1 stop via Mumbai</td>\n",
       "      <td>₹ 7,914</td>\n",
       "      <td>10.0</td>\n",
       "      <td>30.0</td>\n",
       "      <td>7.0</td>\n",
       "      <td>30.0</td>\n",
       "      <td>12.0</td>\n",
       "      <td>40.0</td>\n",
       "    </tr>\n",
       "  </tbody>\n",
       "</table>\n",
       "</div>"
      ],
      "text/plain": [
       "  Airline    From   To                 Stops    Price  Month   Day  Dep_hour  \\\n",
       "0     NaN     NaN  NaN                   NaN      NaN    NaN   NaN       NaN   \n",
       "1  IndiGo  Raipur  Goa  1 stop via New Delhi  ₹ 7,704   10.0  30.0       8.0   \n",
       "2  IndiGo  Raipur  Goa     1 stop via Mumbai  ₹ 7,704   10.0  30.0       7.0   \n",
       "3  IndiGo  Raipur  Goa  1 stop via New Delhi  ₹ 7,704   10.0  30.0      12.0   \n",
       "4  IndiGo  Raipur  Goa     1 stop via Mumbai  ₹ 7,914   10.0  30.0       7.0   \n",
       "\n",
       "   Dep_minutes  Arrival_hour  Arrival_minutes  \n",
       "0          NaN           NaN              NaN  \n",
       "1          5.0          14.0             50.0  \n",
       "2         30.0          15.0             30.0  \n",
       "3         10.0          21.0             20.0  \n",
       "4         30.0          12.0             40.0  "
      ]
     },
     "execution_count": 44,
     "metadata": {},
     "output_type": "execute_result"
    }
   ],
   "source": [
    "train_df.head()"
   ]
  },
  {
   "cell_type": "code",
   "execution_count": 45,
   "metadata": {},
   "outputs": [],
   "source": [
    "train_df['Stops']=train_df['Stops'].astype(object,errors='raise')"
   ]
  },
  {
   "cell_type": "code",
   "execution_count": 46,
   "metadata": {},
   "outputs": [],
   "source": [
    "train_df['Stops'] = train_df['Stops'].str[0]"
   ]
  },
  {
   "cell_type": "code",
   "execution_count": 47,
   "metadata": {},
   "outputs": [
    {
     "data": {
      "text/html": [
       "<div>\n",
       "<style scoped>\n",
       "    .dataframe tbody tr th:only-of-type {\n",
       "        vertical-align: middle;\n",
       "    }\n",
       "\n",
       "    .dataframe tbody tr th {\n",
       "        vertical-align: top;\n",
       "    }\n",
       "\n",
       "    .dataframe thead th {\n",
       "        text-align: right;\n",
       "    }\n",
       "</style>\n",
       "<table border=\"1\" class=\"dataframe\">\n",
       "  <thead>\n",
       "    <tr style=\"text-align: right;\">\n",
       "      <th></th>\n",
       "      <th>Airline</th>\n",
       "      <th>From</th>\n",
       "      <th>To</th>\n",
       "      <th>Stops</th>\n",
       "      <th>Price</th>\n",
       "      <th>Month</th>\n",
       "      <th>Day</th>\n",
       "      <th>Dep_hour</th>\n",
       "      <th>Dep_minutes</th>\n",
       "      <th>Arrival_hour</th>\n",
       "      <th>Arrival_minutes</th>\n",
       "    </tr>\n",
       "  </thead>\n",
       "  <tbody>\n",
       "    <tr>\n",
       "      <th>0</th>\n",
       "      <td>NaN</td>\n",
       "      <td>NaN</td>\n",
       "      <td>NaN</td>\n",
       "      <td>NaN</td>\n",
       "      <td>NaN</td>\n",
       "      <td>NaN</td>\n",
       "      <td>NaN</td>\n",
       "      <td>NaN</td>\n",
       "      <td>NaN</td>\n",
       "      <td>NaN</td>\n",
       "      <td>NaN</td>\n",
       "    </tr>\n",
       "    <tr>\n",
       "      <th>1</th>\n",
       "      <td>IndiGo</td>\n",
       "      <td>Raipur</td>\n",
       "      <td>Goa</td>\n",
       "      <td>1</td>\n",
       "      <td>₹ 7,704</td>\n",
       "      <td>10.0</td>\n",
       "      <td>30.0</td>\n",
       "      <td>8.0</td>\n",
       "      <td>5.0</td>\n",
       "      <td>14.0</td>\n",
       "      <td>50.0</td>\n",
       "    </tr>\n",
       "    <tr>\n",
       "      <th>2</th>\n",
       "      <td>IndiGo</td>\n",
       "      <td>Raipur</td>\n",
       "      <td>Goa</td>\n",
       "      <td>1</td>\n",
       "      <td>₹ 7,704</td>\n",
       "      <td>10.0</td>\n",
       "      <td>30.0</td>\n",
       "      <td>7.0</td>\n",
       "      <td>30.0</td>\n",
       "      <td>15.0</td>\n",
       "      <td>30.0</td>\n",
       "    </tr>\n",
       "    <tr>\n",
       "      <th>3</th>\n",
       "      <td>IndiGo</td>\n",
       "      <td>Raipur</td>\n",
       "      <td>Goa</td>\n",
       "      <td>1</td>\n",
       "      <td>₹ 7,704</td>\n",
       "      <td>10.0</td>\n",
       "      <td>30.0</td>\n",
       "      <td>12.0</td>\n",
       "      <td>10.0</td>\n",
       "      <td>21.0</td>\n",
       "      <td>20.0</td>\n",
       "    </tr>\n",
       "    <tr>\n",
       "      <th>4</th>\n",
       "      <td>IndiGo</td>\n",
       "      <td>Raipur</td>\n",
       "      <td>Goa</td>\n",
       "      <td>1</td>\n",
       "      <td>₹ 7,914</td>\n",
       "      <td>10.0</td>\n",
       "      <td>30.0</td>\n",
       "      <td>7.0</td>\n",
       "      <td>30.0</td>\n",
       "      <td>12.0</td>\n",
       "      <td>40.0</td>\n",
       "    </tr>\n",
       "  </tbody>\n",
       "</table>\n",
       "</div>"
      ],
      "text/plain": [
       "  Airline    From   To Stops    Price  Month   Day  Dep_hour  Dep_minutes  \\\n",
       "0     NaN     NaN  NaN   NaN      NaN    NaN   NaN       NaN          NaN   \n",
       "1  IndiGo  Raipur  Goa     1  ₹ 7,704   10.0  30.0       8.0          5.0   \n",
       "2  IndiGo  Raipur  Goa     1  ₹ 7,704   10.0  30.0       7.0         30.0   \n",
       "3  IndiGo  Raipur  Goa     1  ₹ 7,704   10.0  30.0      12.0         10.0   \n",
       "4  IndiGo  Raipur  Goa     1  ₹ 7,914   10.0  30.0       7.0         30.0   \n",
       "\n",
       "   Arrival_hour  Arrival_minutes  \n",
       "0           NaN              NaN  \n",
       "1          14.0             50.0  \n",
       "2          15.0             30.0  \n",
       "3          21.0             20.0  \n",
       "4          12.0             40.0  "
      ]
     },
     "execution_count": 47,
     "metadata": {},
     "output_type": "execute_result"
    }
   ],
   "source": [
    "train_df.head()"
   ]
  },
  {
   "cell_type": "code",
   "execution_count": 48,
   "metadata": {},
   "outputs": [
    {
     "data": {
      "text/plain": [
       "array([nan, '1', '2', '4', '3', 'N'], dtype=object)"
      ]
     },
     "execution_count": 48,
     "metadata": {},
     "output_type": "execute_result"
    }
   ],
   "source": [
    "train_df['Stops'].unique()"
   ]
  },
  {
   "cell_type": "code",
   "execution_count": 49,
   "metadata": {},
   "outputs": [],
   "source": [
    "train_df.replace({\"non-stop\": 0}, inplace = True)"
   ]
  },
  {
   "cell_type": "code",
   "execution_count": 50,
   "metadata": {},
   "outputs": [
    {
     "data": {
      "text/html": [
       "<div>\n",
       "<style scoped>\n",
       "    .dataframe tbody tr th:only-of-type {\n",
       "        vertical-align: middle;\n",
       "    }\n",
       "\n",
       "    .dataframe tbody tr th {\n",
       "        vertical-align: top;\n",
       "    }\n",
       "\n",
       "    .dataframe thead th {\n",
       "        text-align: right;\n",
       "    }\n",
       "</style>\n",
       "<table border=\"1\" class=\"dataframe\">\n",
       "  <thead>\n",
       "    <tr style=\"text-align: right;\">\n",
       "      <th></th>\n",
       "      <th>Airline</th>\n",
       "      <th>From</th>\n",
       "      <th>To</th>\n",
       "      <th>Stops</th>\n",
       "      <th>Price</th>\n",
       "      <th>Month</th>\n",
       "      <th>Day</th>\n",
       "      <th>Dep_hour</th>\n",
       "      <th>Dep_minutes</th>\n",
       "      <th>Arrival_hour</th>\n",
       "      <th>Arrival_minutes</th>\n",
       "    </tr>\n",
       "  </thead>\n",
       "  <tbody>\n",
       "    <tr>\n",
       "      <th>0</th>\n",
       "      <td>NaN</td>\n",
       "      <td>NaN</td>\n",
       "      <td>NaN</td>\n",
       "      <td>NaN</td>\n",
       "      <td>NaN</td>\n",
       "      <td>NaN</td>\n",
       "      <td>NaN</td>\n",
       "      <td>NaN</td>\n",
       "      <td>NaN</td>\n",
       "      <td>NaN</td>\n",
       "      <td>NaN</td>\n",
       "    </tr>\n",
       "    <tr>\n",
       "      <th>1</th>\n",
       "      <td>IndiGo</td>\n",
       "      <td>Raipur</td>\n",
       "      <td>Goa</td>\n",
       "      <td>1</td>\n",
       "      <td>₹ 7,704</td>\n",
       "      <td>10.0</td>\n",
       "      <td>30.0</td>\n",
       "      <td>8.0</td>\n",
       "      <td>5.0</td>\n",
       "      <td>14.0</td>\n",
       "      <td>50.0</td>\n",
       "    </tr>\n",
       "    <tr>\n",
       "      <th>2</th>\n",
       "      <td>IndiGo</td>\n",
       "      <td>Raipur</td>\n",
       "      <td>Goa</td>\n",
       "      <td>1</td>\n",
       "      <td>₹ 7,704</td>\n",
       "      <td>10.0</td>\n",
       "      <td>30.0</td>\n",
       "      <td>7.0</td>\n",
       "      <td>30.0</td>\n",
       "      <td>15.0</td>\n",
       "      <td>30.0</td>\n",
       "    </tr>\n",
       "    <tr>\n",
       "      <th>3</th>\n",
       "      <td>IndiGo</td>\n",
       "      <td>Raipur</td>\n",
       "      <td>Goa</td>\n",
       "      <td>1</td>\n",
       "      <td>₹ 7,704</td>\n",
       "      <td>10.0</td>\n",
       "      <td>30.0</td>\n",
       "      <td>12.0</td>\n",
       "      <td>10.0</td>\n",
       "      <td>21.0</td>\n",
       "      <td>20.0</td>\n",
       "    </tr>\n",
       "    <tr>\n",
       "      <th>4</th>\n",
       "      <td>IndiGo</td>\n",
       "      <td>Raipur</td>\n",
       "      <td>Goa</td>\n",
       "      <td>1</td>\n",
       "      <td>₹ 7,914</td>\n",
       "      <td>10.0</td>\n",
       "      <td>30.0</td>\n",
       "      <td>7.0</td>\n",
       "      <td>30.0</td>\n",
       "      <td>12.0</td>\n",
       "      <td>40.0</td>\n",
       "    </tr>\n",
       "  </tbody>\n",
       "</table>\n",
       "</div>"
      ],
      "text/plain": [
       "  Airline    From   To Stops    Price  Month   Day  Dep_hour  Dep_minutes  \\\n",
       "0     NaN     NaN  NaN   NaN      NaN    NaN   NaN       NaN          NaN   \n",
       "1  IndiGo  Raipur  Goa     1  ₹ 7,704   10.0  30.0       8.0          5.0   \n",
       "2  IndiGo  Raipur  Goa     1  ₹ 7,704   10.0  30.0       7.0         30.0   \n",
       "3  IndiGo  Raipur  Goa     1  ₹ 7,704   10.0  30.0      12.0         10.0   \n",
       "4  IndiGo  Raipur  Goa     1  ₹ 7,914   10.0  30.0       7.0         30.0   \n",
       "\n",
       "   Arrival_hour  Arrival_minutes  \n",
       "0           NaN              NaN  \n",
       "1          14.0             50.0  \n",
       "2          15.0             30.0  \n",
       "3          21.0             20.0  \n",
       "4          12.0             40.0  "
      ]
     },
     "execution_count": 50,
     "metadata": {},
     "output_type": "execute_result"
    }
   ],
   "source": [
    "train_df.head()"
   ]
  },
  {
   "cell_type": "code",
   "execution_count": 51,
   "metadata": {},
   "outputs": [
    {
     "data": {
      "text/plain": [
       "Airline             object\n",
       "From                object\n",
       "To                  object\n",
       "Stops               object\n",
       "Price               object\n",
       "Month              float64\n",
       "Day                float64\n",
       "Dep_hour           float64\n",
       "Dep_minutes        float64\n",
       "Arrival_hour       float64\n",
       "Arrival_minutes    float64\n",
       "dtype: object"
      ]
     },
     "execution_count": 51,
     "metadata": {},
     "output_type": "execute_result"
    }
   ],
   "source": [
    "train_df.dtypes"
   ]
  },
  {
   "cell_type": "code",
   "execution_count": 52,
   "metadata": {},
   "outputs": [],
   "source": [
    "train_df['Price']=train_df['Price'].astype(str,errors='raise')"
   ]
  },
  {
   "cell_type": "code",
   "execution_count": 53,
   "metadata": {},
   "outputs": [],
   "source": [
    "train_df['Price']=train_df['Price'].apply(lambda x: x.replace(',','') if x!='-' else '-')"
   ]
  },
  {
   "cell_type": "code",
   "execution_count": 54,
   "metadata": {},
   "outputs": [],
   "source": [
    "train_df['Price'] = train_df['Price'].str[2:]"
   ]
  },
  {
   "cell_type": "code",
   "execution_count": 55,
   "metadata": {},
   "outputs": [
    {
     "data": {
      "text/html": [
       "<div>\n",
       "<style scoped>\n",
       "    .dataframe tbody tr th:only-of-type {\n",
       "        vertical-align: middle;\n",
       "    }\n",
       "\n",
       "    .dataframe tbody tr th {\n",
       "        vertical-align: top;\n",
       "    }\n",
       "\n",
       "    .dataframe thead th {\n",
       "        text-align: right;\n",
       "    }\n",
       "</style>\n",
       "<table border=\"1\" class=\"dataframe\">\n",
       "  <thead>\n",
       "    <tr style=\"text-align: right;\">\n",
       "      <th></th>\n",
       "      <th>Airline</th>\n",
       "      <th>From</th>\n",
       "      <th>To</th>\n",
       "      <th>Stops</th>\n",
       "      <th>Price</th>\n",
       "      <th>Month</th>\n",
       "      <th>Day</th>\n",
       "      <th>Dep_hour</th>\n",
       "      <th>Dep_minutes</th>\n",
       "      <th>Arrival_hour</th>\n",
       "      <th>Arrival_minutes</th>\n",
       "    </tr>\n",
       "  </thead>\n",
       "  <tbody>\n",
       "    <tr>\n",
       "      <th>0</th>\n",
       "      <td>NaN</td>\n",
       "      <td>NaN</td>\n",
       "      <td>NaN</td>\n",
       "      <td>NaN</td>\n",
       "      <td>n</td>\n",
       "      <td>NaN</td>\n",
       "      <td>NaN</td>\n",
       "      <td>NaN</td>\n",
       "      <td>NaN</td>\n",
       "      <td>NaN</td>\n",
       "      <td>NaN</td>\n",
       "    </tr>\n",
       "    <tr>\n",
       "      <th>1</th>\n",
       "      <td>IndiGo</td>\n",
       "      <td>Raipur</td>\n",
       "      <td>Goa</td>\n",
       "      <td>1</td>\n",
       "      <td>7704</td>\n",
       "      <td>10.0</td>\n",
       "      <td>30.0</td>\n",
       "      <td>8.0</td>\n",
       "      <td>5.0</td>\n",
       "      <td>14.0</td>\n",
       "      <td>50.0</td>\n",
       "    </tr>\n",
       "    <tr>\n",
       "      <th>2</th>\n",
       "      <td>IndiGo</td>\n",
       "      <td>Raipur</td>\n",
       "      <td>Goa</td>\n",
       "      <td>1</td>\n",
       "      <td>7704</td>\n",
       "      <td>10.0</td>\n",
       "      <td>30.0</td>\n",
       "      <td>7.0</td>\n",
       "      <td>30.0</td>\n",
       "      <td>15.0</td>\n",
       "      <td>30.0</td>\n",
       "    </tr>\n",
       "    <tr>\n",
       "      <th>3</th>\n",
       "      <td>IndiGo</td>\n",
       "      <td>Raipur</td>\n",
       "      <td>Goa</td>\n",
       "      <td>1</td>\n",
       "      <td>7704</td>\n",
       "      <td>10.0</td>\n",
       "      <td>30.0</td>\n",
       "      <td>12.0</td>\n",
       "      <td>10.0</td>\n",
       "      <td>21.0</td>\n",
       "      <td>20.0</td>\n",
       "    </tr>\n",
       "    <tr>\n",
       "      <th>4</th>\n",
       "      <td>IndiGo</td>\n",
       "      <td>Raipur</td>\n",
       "      <td>Goa</td>\n",
       "      <td>1</td>\n",
       "      <td>7914</td>\n",
       "      <td>10.0</td>\n",
       "      <td>30.0</td>\n",
       "      <td>7.0</td>\n",
       "      <td>30.0</td>\n",
       "      <td>12.0</td>\n",
       "      <td>40.0</td>\n",
       "    </tr>\n",
       "  </tbody>\n",
       "</table>\n",
       "</div>"
      ],
      "text/plain": [
       "  Airline    From   To Stops Price  Month   Day  Dep_hour  Dep_minutes  \\\n",
       "0     NaN     NaN  NaN   NaN     n    NaN   NaN       NaN          NaN   \n",
       "1  IndiGo  Raipur  Goa     1  7704   10.0  30.0       8.0          5.0   \n",
       "2  IndiGo  Raipur  Goa     1  7704   10.0  30.0       7.0         30.0   \n",
       "3  IndiGo  Raipur  Goa     1  7704   10.0  30.0      12.0         10.0   \n",
       "4  IndiGo  Raipur  Goa     1  7914   10.0  30.0       7.0         30.0   \n",
       "\n",
       "   Arrival_hour  Arrival_minutes  \n",
       "0           NaN              NaN  \n",
       "1          14.0             50.0  \n",
       "2          15.0             30.0  \n",
       "3          21.0             20.0  \n",
       "4          12.0             40.0  "
      ]
     },
     "execution_count": 55,
     "metadata": {},
     "output_type": "execute_result"
    }
   ],
   "source": [
    "train_df.head()"
   ]
  },
  {
   "cell_type": "code",
   "execution_count": 56,
   "metadata": {},
   "outputs": [
    {
     "data": {
      "text/plain": [
       "Airline             object\n",
       "From                object\n",
       "To                  object\n",
       "Stops               object\n",
       "Price               object\n",
       "Month              float64\n",
       "Day                float64\n",
       "Dep_hour           float64\n",
       "Dep_minutes        float64\n",
       "Arrival_hour       float64\n",
       "Arrival_minutes    float64\n",
       "dtype: object"
      ]
     },
     "execution_count": 56,
     "metadata": {},
     "output_type": "execute_result"
    }
   ],
   "source": [
    "train_df.dtypes"
   ]
  },
  {
   "cell_type": "code",
   "execution_count": 57,
   "metadata": {},
   "outputs": [
    {
     "data": {
      "text/plain": [
       "Airline            1\n",
       "From               1\n",
       "To                 1\n",
       "Stops              1\n",
       "Price              0\n",
       "Month              1\n",
       "Day                1\n",
       "Dep_hour           1\n",
       "Dep_minutes        1\n",
       "Arrival_hour       1\n",
       "Arrival_minutes    1\n",
       "dtype: int64"
      ]
     },
     "execution_count": 57,
     "metadata": {},
     "output_type": "execute_result"
    }
   ],
   "source": [
    "train_df.isnull().sum()"
   ]
  },
  {
   "cell_type": "markdown",
   "metadata": {},
   "source": [
    "# Removing Null Values"
   ]
  },
  {
   "cell_type": "code",
   "execution_count": 58,
   "metadata": {},
   "outputs": [],
   "source": [
    "from sklearn.impute import SimpleImputer\n",
    "imp=SimpleImputer(strategy=\"most_frequent\")\n",
    "train_df['Airline']=imp.fit_transform(train_df['Airline'].values.reshape(-1,1))\n",
    "train_df['From']=imp.fit_transform(train_df['From'].values.reshape(-1,1))\n",
    "train_df['To']=imp.fit_transform(train_df['To'].values.reshape(-1,1))\n",
    "train_df['Stops']=imp.fit_transform(train_df['Stops'].values.reshape(-1,1))\n",
    "train_df['Month']=imp.fit_transform(train_df['Month'].values.reshape(-1,1))\n",
    "train_df['Day']=imp.fit_transform(train_df['Day'].values.reshape(-1,1))\n",
    "train_df['Dep_hour']=imp.fit_transform(train_df['Dep_hour'].values.reshape(-1,1))\n",
    "train_df['Dep_minutes']=imp.fit_transform(train_df['Dep_minutes'].values.reshape(-1,1))\n",
    "train_df['Arrival_hour']=imp.fit_transform(train_df['Arrival_hour'].values.reshape(-1,1))\n",
    "train_df['Arrival_minutes']=imp.fit_transform(train_df['Arrival_minutes'].values.reshape(-1,1))\n"
   ]
  },
  {
   "cell_type": "code",
   "execution_count": 59,
   "metadata": {},
   "outputs": [
    {
     "data": {
      "text/plain": [
       "Airline            0\n",
       "From               0\n",
       "To                 0\n",
       "Stops              0\n",
       "Price              0\n",
       "Month              0\n",
       "Day                0\n",
       "Dep_hour           0\n",
       "Dep_minutes        0\n",
       "Arrival_hour       0\n",
       "Arrival_minutes    0\n",
       "dtype: int64"
      ]
     },
     "execution_count": 59,
     "metadata": {},
     "output_type": "execute_result"
    }
   ],
   "source": [
    "train_df.isnull().sum()"
   ]
  },
  {
   "cell_type": "code",
   "execution_count": 60,
   "metadata": {},
   "outputs": [],
   "source": [
    "train_df=train_df.drop(train_df.index[[0,1]])"
   ]
  },
  {
   "cell_type": "code",
   "execution_count": 61,
   "metadata": {},
   "outputs": [
    {
     "data": {
      "text/html": [
       "<div>\n",
       "<style scoped>\n",
       "    .dataframe tbody tr th:only-of-type {\n",
       "        vertical-align: middle;\n",
       "    }\n",
       "\n",
       "    .dataframe tbody tr th {\n",
       "        vertical-align: top;\n",
       "    }\n",
       "\n",
       "    .dataframe thead th {\n",
       "        text-align: right;\n",
       "    }\n",
       "</style>\n",
       "<table border=\"1\" class=\"dataframe\">\n",
       "  <thead>\n",
       "    <tr style=\"text-align: right;\">\n",
       "      <th></th>\n",
       "      <th>Airline</th>\n",
       "      <th>From</th>\n",
       "      <th>To</th>\n",
       "      <th>Stops</th>\n",
       "      <th>Price</th>\n",
       "      <th>Month</th>\n",
       "      <th>Day</th>\n",
       "      <th>Dep_hour</th>\n",
       "      <th>Dep_minutes</th>\n",
       "      <th>Arrival_hour</th>\n",
       "      <th>Arrival_minutes</th>\n",
       "    </tr>\n",
       "  </thead>\n",
       "  <tbody>\n",
       "    <tr>\n",
       "      <th>2</th>\n",
       "      <td>IndiGo</td>\n",
       "      <td>Raipur</td>\n",
       "      <td>Goa</td>\n",
       "      <td>1</td>\n",
       "      <td>7704</td>\n",
       "      <td>10.0</td>\n",
       "      <td>30.0</td>\n",
       "      <td>7.0</td>\n",
       "      <td>30.0</td>\n",
       "      <td>15.0</td>\n",
       "      <td>30.0</td>\n",
       "    </tr>\n",
       "    <tr>\n",
       "      <th>3</th>\n",
       "      <td>IndiGo</td>\n",
       "      <td>Raipur</td>\n",
       "      <td>Goa</td>\n",
       "      <td>1</td>\n",
       "      <td>7704</td>\n",
       "      <td>10.0</td>\n",
       "      <td>30.0</td>\n",
       "      <td>12.0</td>\n",
       "      <td>10.0</td>\n",
       "      <td>21.0</td>\n",
       "      <td>20.0</td>\n",
       "    </tr>\n",
       "    <tr>\n",
       "      <th>4</th>\n",
       "      <td>IndiGo</td>\n",
       "      <td>Raipur</td>\n",
       "      <td>Goa</td>\n",
       "      <td>1</td>\n",
       "      <td>7914</td>\n",
       "      <td>10.0</td>\n",
       "      <td>30.0</td>\n",
       "      <td>7.0</td>\n",
       "      <td>30.0</td>\n",
       "      <td>12.0</td>\n",
       "      <td>40.0</td>\n",
       "    </tr>\n",
       "    <tr>\n",
       "      <th>5</th>\n",
       "      <td>IndiGo</td>\n",
       "      <td>Raipur</td>\n",
       "      <td>Goa</td>\n",
       "      <td>1</td>\n",
       "      <td>8544</td>\n",
       "      <td>10.0</td>\n",
       "      <td>30.0</td>\n",
       "      <td>10.0</td>\n",
       "      <td>25.0</td>\n",
       "      <td>14.0</td>\n",
       "      <td>10.0</td>\n",
       "    </tr>\n",
       "    <tr>\n",
       "      <th>6</th>\n",
       "      <td>Air India</td>\n",
       "      <td>Raipur</td>\n",
       "      <td>Goa</td>\n",
       "      <td>2</td>\n",
       "      <td>8964</td>\n",
       "      <td>10.0</td>\n",
       "      <td>30.0</td>\n",
       "      <td>12.0</td>\n",
       "      <td>30.0</td>\n",
       "      <td>20.0</td>\n",
       "      <td>30.0</td>\n",
       "    </tr>\n",
       "  </tbody>\n",
       "</table>\n",
       "</div>"
      ],
      "text/plain": [
       "     Airline    From   To Stops Price  Month   Day  Dep_hour  Dep_minutes  \\\n",
       "2     IndiGo  Raipur  Goa     1  7704   10.0  30.0       7.0         30.0   \n",
       "3     IndiGo  Raipur  Goa     1  7704   10.0  30.0      12.0         10.0   \n",
       "4     IndiGo  Raipur  Goa     1  7914   10.0  30.0       7.0         30.0   \n",
       "5     IndiGo  Raipur  Goa     1  8544   10.0  30.0      10.0         25.0   \n",
       "6  Air India  Raipur  Goa     2  8964   10.0  30.0      12.0         30.0   \n",
       "\n",
       "   Arrival_hour  Arrival_minutes  \n",
       "2          15.0             30.0  \n",
       "3          21.0             20.0  \n",
       "4          12.0             40.0  \n",
       "5          14.0             10.0  \n",
       "6          20.0             30.0  "
      ]
     },
     "execution_count": 61,
     "metadata": {},
     "output_type": "execute_result"
    }
   ],
   "source": [
    "train_df.head()"
   ]
  },
  {
   "cell_type": "code",
   "execution_count": 62,
   "metadata": {},
   "outputs": [
    {
     "data": {
      "text/plain": [
       "Airline             object\n",
       "From                object\n",
       "To                  object\n",
       "Stops               object\n",
       "Price               object\n",
       "Month              float64\n",
       "Day                float64\n",
       "Dep_hour           float64\n",
       "Dep_minutes        float64\n",
       "Arrival_hour       float64\n",
       "Arrival_minutes    float64\n",
       "dtype: object"
      ]
     },
     "execution_count": 62,
     "metadata": {},
     "output_type": "execute_result"
    }
   ],
   "source": [
    "train_df.dtypes"
   ]
  },
  {
   "cell_type": "code",
   "execution_count": 63,
   "metadata": {},
   "outputs": [],
   "source": [
    "train_df['Price']=train_df['Price'].astype(float,errors='raise')\n",
    "train_df['Stops']=train_df['Stops'].astype(str,errors='raise')"
   ]
  },
  {
   "cell_type": "code",
   "execution_count": null,
   "metadata": {},
   "outputs": [],
   "source": []
  },
  {
   "cell_type": "markdown",
   "metadata": {},
   "source": [
    "# Statistical Summary"
   ]
  },
  {
   "cell_type": "code",
   "execution_count": 64,
   "metadata": {},
   "outputs": [
    {
     "data": {
      "text/html": [
       "<div>\n",
       "<style scoped>\n",
       "    .dataframe tbody tr th:only-of-type {\n",
       "        vertical-align: middle;\n",
       "    }\n",
       "\n",
       "    .dataframe tbody tr th {\n",
       "        vertical-align: top;\n",
       "    }\n",
       "\n",
       "    .dataframe thead th {\n",
       "        text-align: right;\n",
       "    }\n",
       "</style>\n",
       "<table border=\"1\" class=\"dataframe\">\n",
       "  <thead>\n",
       "    <tr style=\"text-align: right;\">\n",
       "      <th></th>\n",
       "      <th>Price</th>\n",
       "      <th>Month</th>\n",
       "      <th>Day</th>\n",
       "      <th>Dep_hour</th>\n",
       "      <th>Dep_minutes</th>\n",
       "      <th>Arrival_hour</th>\n",
       "      <th>Arrival_minutes</th>\n",
       "    </tr>\n",
       "  </thead>\n",
       "  <tbody>\n",
       "    <tr>\n",
       "      <th>count</th>\n",
       "      <td>1520.000000</td>\n",
       "      <td>1520.000000</td>\n",
       "      <td>1520.000000</td>\n",
       "      <td>1520.000000</td>\n",
       "      <td>1520.000000</td>\n",
       "      <td>1520.000000</td>\n",
       "      <td>1520.000000</td>\n",
       "    </tr>\n",
       "    <tr>\n",
       "      <th>mean</th>\n",
       "      <td>8873.290132</td>\n",
       "      <td>9.319079</td>\n",
       "      <td>18.267105</td>\n",
       "      <td>13.475658</td>\n",
       "      <td>29.375000</td>\n",
       "      <td>14.271711</td>\n",
       "      <td>25.690789</td>\n",
       "    </tr>\n",
       "    <tr>\n",
       "      <th>std</th>\n",
       "      <td>3302.593407</td>\n",
       "      <td>3.041110</td>\n",
       "      <td>6.080519</td>\n",
       "      <td>4.367205</td>\n",
       "      <td>15.587174</td>\n",
       "      <td>7.145842</td>\n",
       "      <td>17.922455</td>\n",
       "    </tr>\n",
       "    <tr>\n",
       "      <th>min</th>\n",
       "      <td>4617.000000</td>\n",
       "      <td>1.000000</td>\n",
       "      <td>11.000000</td>\n",
       "      <td>7.000000</td>\n",
       "      <td>0.000000</td>\n",
       "      <td>0.000000</td>\n",
       "      <td>0.000000</td>\n",
       "    </tr>\n",
       "    <tr>\n",
       "      <th>25%</th>\n",
       "      <td>6746.500000</td>\n",
       "      <td>9.000000</td>\n",
       "      <td>12.000000</td>\n",
       "      <td>9.000000</td>\n",
       "      <td>20.000000</td>\n",
       "      <td>7.000000</td>\n",
       "      <td>10.000000</td>\n",
       "    </tr>\n",
       "    <tr>\n",
       "      <th>50%</th>\n",
       "      <td>8491.000000</td>\n",
       "      <td>11.000000</td>\n",
       "      <td>19.000000</td>\n",
       "      <td>14.000000</td>\n",
       "      <td>35.000000</td>\n",
       "      <td>18.000000</td>\n",
       "      <td>25.000000</td>\n",
       "    </tr>\n",
       "    <tr>\n",
       "      <th>75%</th>\n",
       "      <td>10027.000000</td>\n",
       "      <td>11.000000</td>\n",
       "      <td>23.000000</td>\n",
       "      <td>18.000000</td>\n",
       "      <td>40.000000</td>\n",
       "      <td>20.000000</td>\n",
       "      <td>40.000000</td>\n",
       "    </tr>\n",
       "    <tr>\n",
       "      <th>max</th>\n",
       "      <td>29692.000000</td>\n",
       "      <td>12.000000</td>\n",
       "      <td>31.000000</td>\n",
       "      <td>20.000000</td>\n",
       "      <td>55.000000</td>\n",
       "      <td>23.000000</td>\n",
       "      <td>55.000000</td>\n",
       "    </tr>\n",
       "  </tbody>\n",
       "</table>\n",
       "</div>"
      ],
      "text/plain": [
       "              Price        Month          Day     Dep_hour  Dep_minutes  \\\n",
       "count   1520.000000  1520.000000  1520.000000  1520.000000  1520.000000   \n",
       "mean    8873.290132     9.319079    18.267105    13.475658    29.375000   \n",
       "std     3302.593407     3.041110     6.080519     4.367205    15.587174   \n",
       "min     4617.000000     1.000000    11.000000     7.000000     0.000000   \n",
       "25%     6746.500000     9.000000    12.000000     9.000000    20.000000   \n",
       "50%     8491.000000    11.000000    19.000000    14.000000    35.000000   \n",
       "75%    10027.000000    11.000000    23.000000    18.000000    40.000000   \n",
       "max    29692.000000    12.000000    31.000000    20.000000    55.000000   \n",
       "\n",
       "       Arrival_hour  Arrival_minutes  \n",
       "count   1520.000000      1520.000000  \n",
       "mean      14.271711        25.690789  \n",
       "std        7.145842        17.922455  \n",
       "min        0.000000         0.000000  \n",
       "25%        7.000000        10.000000  \n",
       "50%       18.000000        25.000000  \n",
       "75%       20.000000        40.000000  \n",
       "max       23.000000        55.000000  "
      ]
     },
     "execution_count": 64,
     "metadata": {},
     "output_type": "execute_result"
    }
   ],
   "source": [
    "train_df.describe()"
   ]
  },
  {
   "cell_type": "markdown",
   "metadata": {},
   "source": [
    "Statistical Summary provide information about whole data statistically i.e. Count, Mean, Standard Deviation, Minimum value, 25%, 50% 75% and Maximum Value and statistical report is mentioned above."
   ]
  },
  {
   "cell_type": "markdown",
   "metadata": {},
   "source": [
    "# Data Visualization"
   ]
  },
  {
   "cell_type": "markdown",
   "metadata": {},
   "source": [
    "# Correlation"
   ]
  },
  {
   "cell_type": "code",
   "execution_count": 65,
   "metadata": {},
   "outputs": [
    {
     "data": {
      "text/plain": [
       "<AxesSubplot:>"
      ]
     },
     "execution_count": 65,
     "metadata": {},
     "output_type": "execute_result"
    },
    {
     "data": {
      "image/png": "[encoded data removed]",
      "text/plain": [
       "<Figure size 432x288 with 2 Axes>"
      ]
     },
     "metadata": {
      "needs_background": "light"
     },
     "output_type": "display_data"
    },
    {
     "data": {
      "image/png": "[encoded data removed]",
      "text/plain": [
       "<Figure size 720x360 with 2 Axes>"
      ]
     },
     "metadata": {
      "needs_background": "light"
     },
     "output_type": "display_data"
    }
   ],
   "source": [
    "dfcor=train_df.corr()\n",
    "dfcor\n",
    "sns.heatmap(dfcor)\n",
    "plt.figure(figsize=(10,5))\n",
    "sns.heatmap(dfcor,cmap='Blues',annot=True)"
   ]
  },
  {
   "cell_type": "markdown",
   "metadata": {},
   "source": [
    "Month is highly correlated with Day variable.\n"
   ]
  },
  {
   "cell_type": "markdown",
   "metadata": {},
   "source": [
    "# Univariate Analysis"
   ]
  },
  {
   "cell_type": "code",
   "execution_count": 66,
   "metadata": {},
   "outputs": [
    {
     "data": {
      "text/plain": [
       "Index(['Airline', 'From', 'To', 'Stops', 'Price', 'Month', 'Day', 'Dep_hour',\n",
       "       'Dep_minutes', 'Arrival_hour', 'Arrival_minutes'],\n",
       "      dtype='object')"
      ]
     },
     "execution_count": 66,
     "metadata": {},
     "output_type": "execute_result"
    }
   ],
   "source": [
    "train_df.columns"
   ]
  },
  {
   "cell_type": "code",
   "execution_count": 67,
   "metadata": {},
   "outputs": [
    {
     "data": {
      "text/plain": [
       "Text(0.5, 1.0, 'Airline')"
      ]
     },
     "execution_count": 67,
     "metadata": {},
     "output_type": "execute_result"
    },
    {
     "data": {
      "image/png": "[encoded data removed]",
      "text/plain": [
       "<Figure size 576x360 with 1 Axes>"
      ]
     },
     "metadata": {
      "needs_background": "light"
     },
     "output_type": "display_data"
    }
   ],
   "source": [
    "fig_size = (8,5)\n",
    "fig, ax = plt.subplots(figsize = fig_size)\n",
    "sns.countplot(data=train_df, x=\"Airline\")\n",
    "plt.xticks(rotation=90)\n",
    "plt.title(\"Airline\", fontsize = 10)"
   ]
  },
  {
   "cell_type": "markdown",
   "metadata": {},
   "source": [
    "IndiGo is the highest count according to above."
   ]
  },
  {
   "cell_type": "code",
   "execution_count": 68,
   "metadata": {},
   "outputs": [
    {
     "data": {
      "image/png": "[encoded data removed]",
      "text/plain": [
       "<Figure size 1800x1440 with 1 Axes>"
      ]
     },
     "metadata": {
      "needs_background": "light"
     },
     "output_type": "display_data"
    }
   ],
   "source": [
    "plt.figure(figsize=(25,20))\n",
    "sns.barplot(x='Airline',y='Price',data=train_df,palette='magma')\n",
    "plt.title(\"Airline Vs Price\")\n",
    "plt.show()"
   ]
  },
  {
   "cell_type": "markdown",
   "metadata": {},
   "source": [
    "Vistara and IndiGo are the very expensive then others."
   ]
  },
  {
   "cell_type": "code",
   "execution_count": 69,
   "metadata": {},
   "outputs": [
    {
     "data": {
      "image/png": "[encoded data removed]",
      "text/plain": [
       "<Figure size 720x720 with 1 Axes>"
      ]
     },
     "metadata": {
      "needs_background": "light"
     },
     "output_type": "display_data"
    }
   ],
   "source": [
    "plt.figure(figsize=(10,10))\n",
    "sns.barplot(x='Stops',y='Price',data=train_df,palette='magma')\n",
    "plt.title(\"Stops Vs Price\")\n",
    "plt.show()"
   ]
  },
  {
   "cell_type": "markdown",
   "metadata": {},
   "source": [
    "According to data the Airline which have 3 stops is the expensive than others."
   ]
  },
  {
   "cell_type": "code",
   "execution_count": 70,
   "metadata": {},
   "outputs": [
    {
     "data": {
      "text/plain": [
       "Index(['Airline', 'From', 'To', 'Stops', 'Price', 'Month', 'Day', 'Dep_hour',\n",
       "       'Dep_minutes', 'Arrival_hour', 'Arrival_minutes'],\n",
       "      dtype='object')"
      ]
     },
     "execution_count": 70,
     "metadata": {},
     "output_type": "execute_result"
    }
   ],
   "source": [
    "train_df.columns "
   ]
  },
  {
   "cell_type": "code",
   "execution_count": 71,
   "metadata": {},
   "outputs": [
    {
     "data": {
      "image/png": "[encoded data removed]",
      "text/plain": [
       "<Figure size 720x720 with 1 Axes>"
      ]
     },
     "metadata": {
      "needs_background": "light"
     },
     "output_type": "display_data"
    }
   ],
   "source": [
    "plt.figure(figsize=(10,10))\n",
    "sns.barplot(x='Dep_hour',y='Price',data=train_df,palette='magma')\n",
    "plt.title(\"Dep_hour Vs Price\")\n",
    "plt.show()"
   ]
  },
  {
   "cell_type": "code",
   "execution_count": 72,
   "metadata": {},
   "outputs": [
    {
     "data": {
      "image/png": "[encoded data removed]",
      "text/plain": [
       "<Figure size 720x720 with 1 Axes>"
      ]
     },
     "metadata": {
      "needs_background": "light"
     },
     "output_type": "display_data"
    }
   ],
   "source": [
    "plt.figure(figsize=(10,10))\n",
    "sns.barplot(x='Arrival_hour',y='Price',data=train_df,palette='magma')\n",
    "plt.title(\"Arrival_hour Vs Price\")\n",
    "plt.show()"
   ]
  },
  {
   "cell_type": "markdown",
   "metadata": {},
   "source": [
    "# Feature Engg.\n",
    "creating Dummies"
   ]
  },
  {
   "cell_type": "code",
   "execution_count": 73,
   "metadata": {},
   "outputs": [
    {
     "data": {
      "text/html": [
       "<div>\n",
       "<style scoped>\n",
       "    .dataframe tbody tr th:only-of-type {\n",
       "        vertical-align: middle;\n",
       "    }\n",
       "\n",
       "    .dataframe tbody tr th {\n",
       "        vertical-align: top;\n",
       "    }\n",
       "\n",
       "    .dataframe thead th {\n",
       "        text-align: right;\n",
       "    }\n",
       "</style>\n",
       "<table border=\"1\" class=\"dataframe\">\n",
       "  <thead>\n",
       "    <tr style=\"text-align: right;\">\n",
       "      <th></th>\n",
       "      <th>Airline</th>\n",
       "      <th>From</th>\n",
       "      <th>To</th>\n",
       "      <th>Stops</th>\n",
       "      <th>Price</th>\n",
       "      <th>Month</th>\n",
       "      <th>Day</th>\n",
       "      <th>Dep_hour</th>\n",
       "      <th>Dep_minutes</th>\n",
       "      <th>Arrival_hour</th>\n",
       "      <th>Arrival_minutes</th>\n",
       "    </tr>\n",
       "  </thead>\n",
       "  <tbody>\n",
       "    <tr>\n",
       "      <th>2</th>\n",
       "      <td>IndiGo</td>\n",
       "      <td>Raipur</td>\n",
       "      <td>Goa</td>\n",
       "      <td>1</td>\n",
       "      <td>7704.0</td>\n",
       "      <td>10.0</td>\n",
       "      <td>30.0</td>\n",
       "      <td>7.0</td>\n",
       "      <td>30.0</td>\n",
       "      <td>15.0</td>\n",
       "      <td>30.0</td>\n",
       "    </tr>\n",
       "    <tr>\n",
       "      <th>3</th>\n",
       "      <td>IndiGo</td>\n",
       "      <td>Raipur</td>\n",
       "      <td>Goa</td>\n",
       "      <td>1</td>\n",
       "      <td>7704.0</td>\n",
       "      <td>10.0</td>\n",
       "      <td>30.0</td>\n",
       "      <td>12.0</td>\n",
       "      <td>10.0</td>\n",
       "      <td>21.0</td>\n",
       "      <td>20.0</td>\n",
       "    </tr>\n",
       "    <tr>\n",
       "      <th>4</th>\n",
       "      <td>IndiGo</td>\n",
       "      <td>Raipur</td>\n",
       "      <td>Goa</td>\n",
       "      <td>1</td>\n",
       "      <td>7914.0</td>\n",
       "      <td>10.0</td>\n",
       "      <td>30.0</td>\n",
       "      <td>7.0</td>\n",
       "      <td>30.0</td>\n",
       "      <td>12.0</td>\n",
       "      <td>40.0</td>\n",
       "    </tr>\n",
       "    <tr>\n",
       "      <th>5</th>\n",
       "      <td>IndiGo</td>\n",
       "      <td>Raipur</td>\n",
       "      <td>Goa</td>\n",
       "      <td>1</td>\n",
       "      <td>8544.0</td>\n",
       "      <td>10.0</td>\n",
       "      <td>30.0</td>\n",
       "      <td>10.0</td>\n",
       "      <td>25.0</td>\n",
       "      <td>14.0</td>\n",
       "      <td>10.0</td>\n",
       "    </tr>\n",
       "    <tr>\n",
       "      <th>6</th>\n",
       "      <td>Air India</td>\n",
       "      <td>Raipur</td>\n",
       "      <td>Goa</td>\n",
       "      <td>2</td>\n",
       "      <td>8964.0</td>\n",
       "      <td>10.0</td>\n",
       "      <td>30.0</td>\n",
       "      <td>12.0</td>\n",
       "      <td>30.0</td>\n",
       "      <td>20.0</td>\n",
       "      <td>30.0</td>\n",
       "    </tr>\n",
       "  </tbody>\n",
       "</table>\n",
       "</div>"
      ],
      "text/plain": [
       "     Airline    From   To Stops   Price  Month   Day  Dep_hour  Dep_minutes  \\\n",
       "2     IndiGo  Raipur  Goa     1  7704.0   10.0  30.0       7.0         30.0   \n",
       "3     IndiGo  Raipur  Goa     1  7704.0   10.0  30.0      12.0         10.0   \n",
       "4     IndiGo  Raipur  Goa     1  7914.0   10.0  30.0       7.0         30.0   \n",
       "5     IndiGo  Raipur  Goa     1  8544.0   10.0  30.0      10.0         25.0   \n",
       "6  Air India  Raipur  Goa     2  8964.0   10.0  30.0      12.0         30.0   \n",
       "\n",
       "   Arrival_hour  Arrival_minutes  \n",
       "2          15.0             30.0  \n",
       "3          21.0             20.0  \n",
       "4          12.0             40.0  \n",
       "5          14.0             10.0  \n",
       "6          20.0             30.0  "
      ]
     },
     "execution_count": 73,
     "metadata": {},
     "output_type": "execute_result"
    }
   ],
   "source": [
    "train_df.head()"
   ]
  },
  {
   "cell_type": "code",
   "execution_count": 74,
   "metadata": {},
   "outputs": [],
   "source": [
    "Airline = train_df[[\"Airline\"]]\n",
    "Airline = pd.get_dummies(Airline, drop_first = True)"
   ]
  },
  {
   "cell_type": "code",
   "execution_count": 75,
   "metadata": {},
   "outputs": [
    {
     "data": {
      "text/html": [
       "<div>\n",
       "<style scoped>\n",
       "    .dataframe tbody tr th:only-of-type {\n",
       "        vertical-align: middle;\n",
       "    }\n",
       "\n",
       "    .dataframe tbody tr th {\n",
       "        vertical-align: top;\n",
       "    }\n",
       "\n",
       "    .dataframe thead th {\n",
       "        text-align: right;\n",
       "    }\n",
       "</style>\n",
       "<table border=\"1\" class=\"dataframe\">\n",
       "  <thead>\n",
       "    <tr style=\"text-align: right;\">\n",
       "      <th></th>\n",
       "      <th>Airline</th>\n",
       "      <th>From</th>\n",
       "      <th>To</th>\n",
       "      <th>Stops</th>\n",
       "      <th>Price</th>\n",
       "      <th>Month</th>\n",
       "      <th>Day</th>\n",
       "      <th>Dep_hour</th>\n",
       "      <th>Dep_minutes</th>\n",
       "      <th>Arrival_hour</th>\n",
       "      <th>Arrival_minutes</th>\n",
       "    </tr>\n",
       "  </thead>\n",
       "  <tbody>\n",
       "    <tr>\n",
       "      <th>2</th>\n",
       "      <td>IndiGo</td>\n",
       "      <td>Raipur</td>\n",
       "      <td>Goa</td>\n",
       "      <td>1</td>\n",
       "      <td>7704.0</td>\n",
       "      <td>10.0</td>\n",
       "      <td>30.0</td>\n",
       "      <td>7.0</td>\n",
       "      <td>30.0</td>\n",
       "      <td>15.0</td>\n",
       "      <td>30.0</td>\n",
       "    </tr>\n",
       "    <tr>\n",
       "      <th>3</th>\n",
       "      <td>IndiGo</td>\n",
       "      <td>Raipur</td>\n",
       "      <td>Goa</td>\n",
       "      <td>1</td>\n",
       "      <td>7704.0</td>\n",
       "      <td>10.0</td>\n",
       "      <td>30.0</td>\n",
       "      <td>12.0</td>\n",
       "      <td>10.0</td>\n",
       "      <td>21.0</td>\n",
       "      <td>20.0</td>\n",
       "    </tr>\n",
       "    <tr>\n",
       "      <th>4</th>\n",
       "      <td>IndiGo</td>\n",
       "      <td>Raipur</td>\n",
       "      <td>Goa</td>\n",
       "      <td>1</td>\n",
       "      <td>7914.0</td>\n",
       "      <td>10.0</td>\n",
       "      <td>30.0</td>\n",
       "      <td>7.0</td>\n",
       "      <td>30.0</td>\n",
       "      <td>12.0</td>\n",
       "      <td>40.0</td>\n",
       "    </tr>\n",
       "    <tr>\n",
       "      <th>5</th>\n",
       "      <td>IndiGo</td>\n",
       "      <td>Raipur</td>\n",
       "      <td>Goa</td>\n",
       "      <td>1</td>\n",
       "      <td>8544.0</td>\n",
       "      <td>10.0</td>\n",
       "      <td>30.0</td>\n",
       "      <td>10.0</td>\n",
       "      <td>25.0</td>\n",
       "      <td>14.0</td>\n",
       "      <td>10.0</td>\n",
       "    </tr>\n",
       "    <tr>\n",
       "      <th>6</th>\n",
       "      <td>Air India</td>\n",
       "      <td>Raipur</td>\n",
       "      <td>Goa</td>\n",
       "      <td>2</td>\n",
       "      <td>8964.0</td>\n",
       "      <td>10.0</td>\n",
       "      <td>30.0</td>\n",
       "      <td>12.0</td>\n",
       "      <td>30.0</td>\n",
       "      <td>20.0</td>\n",
       "      <td>30.0</td>\n",
       "    </tr>\n",
       "  </tbody>\n",
       "</table>\n",
       "</div>"
      ],
      "text/plain": [
       "     Airline    From   To Stops   Price  Month   Day  Dep_hour  Dep_minutes  \\\n",
       "2     IndiGo  Raipur  Goa     1  7704.0   10.0  30.0       7.0         30.0   \n",
       "3     IndiGo  Raipur  Goa     1  7704.0   10.0  30.0      12.0         10.0   \n",
       "4     IndiGo  Raipur  Goa     1  7914.0   10.0  30.0       7.0         30.0   \n",
       "5     IndiGo  Raipur  Goa     1  8544.0   10.0  30.0      10.0         25.0   \n",
       "6  Air India  Raipur  Goa     2  8964.0   10.0  30.0      12.0         30.0   \n",
       "\n",
       "   Arrival_hour  Arrival_minutes  \n",
       "2          15.0             30.0  \n",
       "3          21.0             20.0  \n",
       "4          12.0             40.0  \n",
       "5          14.0             10.0  \n",
       "6          20.0             30.0  "
      ]
     },
     "execution_count": 75,
     "metadata": {},
     "output_type": "execute_result"
    }
   ],
   "source": [
    "train_df.head()"
   ]
  },
  {
   "cell_type": "code",
   "execution_count": 76,
   "metadata": {},
   "outputs": [],
   "source": [
    "Train = pd.concat([train_df, Airline], axis = 1)"
   ]
  },
  {
   "cell_type": "code",
   "execution_count": 77,
   "metadata": {
    "scrolled": true
   },
   "outputs": [
    {
     "data": {
      "text/html": [
       "<div>\n",
       "<style scoped>\n",
       "    .dataframe tbody tr th:only-of-type {\n",
       "        vertical-align: middle;\n",
       "    }\n",
       "\n",
       "    .dataframe tbody tr th {\n",
       "        vertical-align: top;\n",
       "    }\n",
       "\n",
       "    .dataframe thead th {\n",
       "        text-align: right;\n",
       "    }\n",
       "</style>\n",
       "<table border=\"1\" class=\"dataframe\">\n",
       "  <thead>\n",
       "    <tr style=\"text-align: right;\">\n",
       "      <th></th>\n",
       "      <th>Airline</th>\n",
       "      <th>From</th>\n",
       "      <th>To</th>\n",
       "      <th>Stops</th>\n",
       "      <th>Price</th>\n",
       "      <th>Month</th>\n",
       "      <th>Day</th>\n",
       "      <th>Dep_hour</th>\n",
       "      <th>Dep_minutes</th>\n",
       "      <th>Arrival_hour</th>\n",
       "      <th>Arrival_minutes</th>\n",
       "      <th>Airline_Air India, AirAsia</th>\n",
       "      <th>Airline_Air India, Go First</th>\n",
       "      <th>Airline_Air India, IndiGo</th>\n",
       "      <th>Airline_IndiGo</th>\n",
       "      <th>Airline_IndiGo, AirAsia</th>\n",
       "      <th>Airline_IndiGo, Go First</th>\n",
       "      <th>Airline_Vistara</th>\n",
       "      <th>Airline_Vistara, Go First</th>\n",
       "      <th>Airline_Vistara, IndiGo</th>\n",
       "    </tr>\n",
       "  </thead>\n",
       "  <tbody>\n",
       "    <tr>\n",
       "      <th>2</th>\n",
       "      <td>IndiGo</td>\n",
       "      <td>Raipur</td>\n",
       "      <td>Goa</td>\n",
       "      <td>1</td>\n",
       "      <td>7704.0</td>\n",
       "      <td>10.0</td>\n",
       "      <td>30.0</td>\n",
       "      <td>7.0</td>\n",
       "      <td>30.0</td>\n",
       "      <td>15.0</td>\n",
       "      <td>30.0</td>\n",
       "      <td>0</td>\n",
       "      <td>0</td>\n",
       "      <td>0</td>\n",
       "      <td>1</td>\n",
       "      <td>0</td>\n",
       "      <td>0</td>\n",
       "      <td>0</td>\n",
       "      <td>0</td>\n",
       "      <td>0</td>\n",
       "    </tr>\n",
       "    <tr>\n",
       "      <th>3</th>\n",
       "      <td>IndiGo</td>\n",
       "      <td>Raipur</td>\n",
       "      <td>Goa</td>\n",
       "      <td>1</td>\n",
       "      <td>7704.0</td>\n",
       "      <td>10.0</td>\n",
       "      <td>30.0</td>\n",
       "      <td>12.0</td>\n",
       "      <td>10.0</td>\n",
       "      <td>21.0</td>\n",
       "      <td>20.0</td>\n",
       "      <td>0</td>\n",
       "      <td>0</td>\n",
       "      <td>0</td>\n",
       "      <td>1</td>\n",
       "      <td>0</td>\n",
       "      <td>0</td>\n",
       "      <td>0</td>\n",
       "      <td>0</td>\n",
       "      <td>0</td>\n",
       "    </tr>\n",
       "    <tr>\n",
       "      <th>4</th>\n",
       "      <td>IndiGo</td>\n",
       "      <td>Raipur</td>\n",
       "      <td>Goa</td>\n",
       "      <td>1</td>\n",
       "      <td>7914.0</td>\n",
       "      <td>10.0</td>\n",
       "      <td>30.0</td>\n",
       "      <td>7.0</td>\n",
       "      <td>30.0</td>\n",
       "      <td>12.0</td>\n",
       "      <td>40.0</td>\n",
       "      <td>0</td>\n",
       "      <td>0</td>\n",
       "      <td>0</td>\n",
       "      <td>1</td>\n",
       "      <td>0</td>\n",
       "      <td>0</td>\n",
       "      <td>0</td>\n",
       "      <td>0</td>\n",
       "      <td>0</td>\n",
       "    </tr>\n",
       "    <tr>\n",
       "      <th>5</th>\n",
       "      <td>IndiGo</td>\n",
       "      <td>Raipur</td>\n",
       "      <td>Goa</td>\n",
       "      <td>1</td>\n",
       "      <td>8544.0</td>\n",
       "      <td>10.0</td>\n",
       "      <td>30.0</td>\n",
       "      <td>10.0</td>\n",
       "      <td>25.0</td>\n",
       "      <td>14.0</td>\n",
       "      <td>10.0</td>\n",
       "      <td>0</td>\n",
       "      <td>0</td>\n",
       "      <td>0</td>\n",
       "      <td>1</td>\n",
       "      <td>0</td>\n",
       "      <td>0</td>\n",
       "      <td>0</td>\n",
       "      <td>0</td>\n",
       "      <td>0</td>\n",
       "    </tr>\n",
       "    <tr>\n",
       "      <th>6</th>\n",
       "      <td>Air India</td>\n",
       "      <td>Raipur</td>\n",
       "      <td>Goa</td>\n",
       "      <td>2</td>\n",
       "      <td>8964.0</td>\n",
       "      <td>10.0</td>\n",
       "      <td>30.0</td>\n",
       "      <td>12.0</td>\n",
       "      <td>30.0</td>\n",
       "      <td>20.0</td>\n",
       "      <td>30.0</td>\n",
       "      <td>0</td>\n",
       "      <td>0</td>\n",
       "      <td>0</td>\n",
       "      <td>0</td>\n",
       "      <td>0</td>\n",
       "      <td>0</td>\n",
       "      <td>0</td>\n",
       "      <td>0</td>\n",
       "      <td>0</td>\n",
       "    </tr>\n",
       "  </tbody>\n",
       "</table>\n",
       "</div>"
      ],
      "text/plain": [
       "     Airline    From   To Stops   Price  Month   Day  Dep_hour  Dep_minutes  \\\n",
       "2     IndiGo  Raipur  Goa     1  7704.0   10.0  30.0       7.0         30.0   \n",
       "3     IndiGo  Raipur  Goa     1  7704.0   10.0  30.0      12.0         10.0   \n",
       "4     IndiGo  Raipur  Goa     1  7914.0   10.0  30.0       7.0         30.0   \n",
       "5     IndiGo  Raipur  Goa     1  8544.0   10.0  30.0      10.0         25.0   \n",
       "6  Air India  Raipur  Goa     2  8964.0   10.0  30.0      12.0         30.0   \n",
       "\n",
       "   Arrival_hour  Arrival_minutes  Airline_Air India, AirAsia  \\\n",
       "2          15.0             30.0                           0   \n",
       "3          21.0             20.0                           0   \n",
       "4          12.0             40.0                           0   \n",
       "5          14.0             10.0                           0   \n",
       "6          20.0             30.0                           0   \n",
       "\n",
       "   Airline_Air India, Go First  Airline_Air India, IndiGo  Airline_IndiGo  \\\n",
       "2                            0                          0               1   \n",
       "3                            0                          0               1   \n",
       "4                            0                          0               1   \n",
       "5                            0                          0               1   \n",
       "6                            0                          0               0   \n",
       "\n",
       "   Airline_IndiGo, AirAsia  Airline_IndiGo, Go First  Airline_Vistara  \\\n",
       "2                        0                         0                0   \n",
       "3                        0                         0                0   \n",
       "4                        0                         0                0   \n",
       "5                        0                         0                0   \n",
       "6                        0                         0                0   \n",
       "\n",
       "   Airline_Vistara, Go First  Airline_Vistara, IndiGo  \n",
       "2                          0                        0  \n",
       "3                          0                        0  \n",
       "4                          0                        0  \n",
       "5                          0                        0  \n",
       "6                          0                        0  "
      ]
     },
     "execution_count": 77,
     "metadata": {},
     "output_type": "execute_result"
    }
   ],
   "source": [
    "Train.head()"
   ]
  },
  {
   "cell_type": "code",
   "execution_count": 78,
   "metadata": {},
   "outputs": [],
   "source": [
    "Train.drop(['Airline'],axis=1,inplace=True)"
   ]
  },
  {
   "cell_type": "code",
   "execution_count": 79,
   "metadata": {},
   "outputs": [
    {
     "data": {
      "text/html": [
       "<div>\n",
       "<style scoped>\n",
       "    .dataframe tbody tr th:only-of-type {\n",
       "        vertical-align: middle;\n",
       "    }\n",
       "\n",
       "    .dataframe tbody tr th {\n",
       "        vertical-align: top;\n",
       "    }\n",
       "\n",
       "    .dataframe thead th {\n",
       "        text-align: right;\n",
       "    }\n",
       "</style>\n",
       "<table border=\"1\" class=\"dataframe\">\n",
       "  <thead>\n",
       "    <tr style=\"text-align: right;\">\n",
       "      <th></th>\n",
       "      <th>From</th>\n",
       "      <th>To</th>\n",
       "      <th>Stops</th>\n",
       "      <th>Price</th>\n",
       "      <th>Month</th>\n",
       "      <th>Day</th>\n",
       "      <th>Dep_hour</th>\n",
       "      <th>Dep_minutes</th>\n",
       "      <th>Arrival_hour</th>\n",
       "      <th>Arrival_minutes</th>\n",
       "      <th>Airline_Air India, AirAsia</th>\n",
       "      <th>Airline_Air India, Go First</th>\n",
       "      <th>Airline_Air India, IndiGo</th>\n",
       "      <th>Airline_IndiGo</th>\n",
       "      <th>Airline_IndiGo, AirAsia</th>\n",
       "      <th>Airline_IndiGo, Go First</th>\n",
       "      <th>Airline_Vistara</th>\n",
       "      <th>Airline_Vistara, Go First</th>\n",
       "      <th>Airline_Vistara, IndiGo</th>\n",
       "    </tr>\n",
       "  </thead>\n",
       "  <tbody>\n",
       "    <tr>\n",
       "      <th>2</th>\n",
       "      <td>Raipur</td>\n",
       "      <td>Goa</td>\n",
       "      <td>1</td>\n",
       "      <td>7704.0</td>\n",
       "      <td>10.0</td>\n",
       "      <td>30.0</td>\n",
       "      <td>7.0</td>\n",
       "      <td>30.0</td>\n",
       "      <td>15.0</td>\n",
       "      <td>30.0</td>\n",
       "      <td>0</td>\n",
       "      <td>0</td>\n",
       "      <td>0</td>\n",
       "      <td>1</td>\n",
       "      <td>0</td>\n",
       "      <td>0</td>\n",
       "      <td>0</td>\n",
       "      <td>0</td>\n",
       "      <td>0</td>\n",
       "    </tr>\n",
       "    <tr>\n",
       "      <th>3</th>\n",
       "      <td>Raipur</td>\n",
       "      <td>Goa</td>\n",
       "      <td>1</td>\n",
       "      <td>7704.0</td>\n",
       "      <td>10.0</td>\n",
       "      <td>30.0</td>\n",
       "      <td>12.0</td>\n",
       "      <td>10.0</td>\n",
       "      <td>21.0</td>\n",
       "      <td>20.0</td>\n",
       "      <td>0</td>\n",
       "      <td>0</td>\n",
       "      <td>0</td>\n",
       "      <td>1</td>\n",
       "      <td>0</td>\n",
       "      <td>0</td>\n",
       "      <td>0</td>\n",
       "      <td>0</td>\n",
       "      <td>0</td>\n",
       "    </tr>\n",
       "    <tr>\n",
       "      <th>4</th>\n",
       "      <td>Raipur</td>\n",
       "      <td>Goa</td>\n",
       "      <td>1</td>\n",
       "      <td>7914.0</td>\n",
       "      <td>10.0</td>\n",
       "      <td>30.0</td>\n",
       "      <td>7.0</td>\n",
       "      <td>30.0</td>\n",
       "      <td>12.0</td>\n",
       "      <td>40.0</td>\n",
       "      <td>0</td>\n",
       "      <td>0</td>\n",
       "      <td>0</td>\n",
       "      <td>1</td>\n",
       "      <td>0</td>\n",
       "      <td>0</td>\n",
       "      <td>0</td>\n",
       "      <td>0</td>\n",
       "      <td>0</td>\n",
       "    </tr>\n",
       "    <tr>\n",
       "      <th>5</th>\n",
       "      <td>Raipur</td>\n",
       "      <td>Goa</td>\n",
       "      <td>1</td>\n",
       "      <td>8544.0</td>\n",
       "      <td>10.0</td>\n",
       "      <td>30.0</td>\n",
       "      <td>10.0</td>\n",
       "      <td>25.0</td>\n",
       "      <td>14.0</td>\n",
       "      <td>10.0</td>\n",
       "      <td>0</td>\n",
       "      <td>0</td>\n",
       "      <td>0</td>\n",
       "      <td>1</td>\n",
       "      <td>0</td>\n",
       "      <td>0</td>\n",
       "      <td>0</td>\n",
       "      <td>0</td>\n",
       "      <td>0</td>\n",
       "    </tr>\n",
       "    <tr>\n",
       "      <th>6</th>\n",
       "      <td>Raipur</td>\n",
       "      <td>Goa</td>\n",
       "      <td>2</td>\n",
       "      <td>8964.0</td>\n",
       "      <td>10.0</td>\n",
       "      <td>30.0</td>\n",
       "      <td>12.0</td>\n",
       "      <td>30.0</td>\n",
       "      <td>20.0</td>\n",
       "      <td>30.0</td>\n",
       "      <td>0</td>\n",
       "      <td>0</td>\n",
       "      <td>0</td>\n",
       "      <td>0</td>\n",
       "      <td>0</td>\n",
       "      <td>0</td>\n",
       "      <td>0</td>\n",
       "      <td>0</td>\n",
       "      <td>0</td>\n",
       "    </tr>\n",
       "  </tbody>\n",
       "</table>\n",
       "</div>"
      ],
      "text/plain": [
       "     From   To Stops   Price  Month   Day  Dep_hour  Dep_minutes  \\\n",
       "2  Raipur  Goa     1  7704.0   10.0  30.0       7.0         30.0   \n",
       "3  Raipur  Goa     1  7704.0   10.0  30.0      12.0         10.0   \n",
       "4  Raipur  Goa     1  7914.0   10.0  30.0       7.0         30.0   \n",
       "5  Raipur  Goa     1  8544.0   10.0  30.0      10.0         25.0   \n",
       "6  Raipur  Goa     2  8964.0   10.0  30.0      12.0         30.0   \n",
       "\n",
       "   Arrival_hour  Arrival_minutes  Airline_Air India, AirAsia  \\\n",
       "2          15.0             30.0                           0   \n",
       "3          21.0             20.0                           0   \n",
       "4          12.0             40.0                           0   \n",
       "5          14.0             10.0                           0   \n",
       "6          20.0             30.0                           0   \n",
       "\n",
       "   Airline_Air India, Go First  Airline_Air India, IndiGo  Airline_IndiGo  \\\n",
       "2                            0                          0               1   \n",
       "3                            0                          0               1   \n",
       "4                            0                          0               1   \n",
       "5                            0                          0               1   \n",
       "6                            0                          0               0   \n",
       "\n",
       "   Airline_IndiGo, AirAsia  Airline_IndiGo, Go First  Airline_Vistara  \\\n",
       "2                        0                         0                0   \n",
       "3                        0                         0                0   \n",
       "4                        0                         0                0   \n",
       "5                        0                         0                0   \n",
       "6                        0                         0                0   \n",
       "\n",
       "   Airline_Vistara, Go First  Airline_Vistara, IndiGo  \n",
       "2                          0                        0  \n",
       "3                          0                        0  \n",
       "4                          0                        0  \n",
       "5                          0                        0  \n",
       "6                          0                        0  "
      ]
     },
     "execution_count": 79,
     "metadata": {},
     "output_type": "execute_result"
    }
   ],
   "source": [
    "Train.head()"
   ]
  },
  {
   "cell_type": "code",
   "execution_count": 80,
   "metadata": {},
   "outputs": [],
   "source": [
    "from sklearn.preprocessing import LabelEncoder\n",
    "encoded = ['From', 'To']\n",
    "\n",
    "encoders = {column: LabelEncoder() for column in encoded}\n",
    "\n",
    "for column in encoded:\n",
    "    Train[column] = encoders[column].fit_transform(Train[column])"
   ]
  },
  {
   "cell_type": "code",
   "execution_count": 91,
   "metadata": {},
   "outputs": [
    {
     "data": {
      "text/plain": [
       "array(['1', '2', '4', '3', 'N'], dtype=object)"
      ]
     },
     "execution_count": 91,
     "metadata": {},
     "output_type": "execute_result"
    }
   ],
   "source": [
    "Train['Stops'].unique()"
   ]
  },
  {
   "cell_type": "code",
   "execution_count": 92,
   "metadata": {},
   "outputs": [],
   "source": [
    "Train.replace({\"N\": 0}, inplace = True)"
   ]
  },
  {
   "cell_type": "code",
   "execution_count": 89,
   "metadata": {},
   "outputs": [
    {
     "data": {
      "text/plain": [
       "Index(['From', 'To', 'Stops', 'Price', 'Month', 'Day', 'Dep_hour',\n",
       "       'Dep_minutes', 'Arrival_hour', 'Arrival_minutes',\n",
       "       'Airline_Air India, AirAsia', 'Airline_Air India, Go First',\n",
       "       'Airline_Air India, IndiGo', 'Airline_IndiGo',\n",
       "       'Airline_IndiGo, AirAsia', 'Airline_IndiGo, Go First',\n",
       "       'Airline_Vistara', 'Airline_Vistara, Go First',\n",
       "       'Airline_Vistara, IndiGo'],\n",
       "      dtype='object')"
      ]
     },
     "execution_count": 89,
     "metadata": {},
     "output_type": "execute_result"
    }
   ],
   "source": [
    "Train.columns"
   ]
  },
  {
   "cell_type": "code",
   "execution_count": 93,
   "metadata": {},
   "outputs": [],
   "source": [
    "Train['Stops']=Train['Stops'].astype(float,errors='raise')\n",
    "Train['Airline_Air India, AirAsia']=Train['Airline_Air India, AirAsia'].astype(float,errors='raise')\n",
    "Train['Airline_Air India, Go First']=Train['Airline_Air India, Go First'].astype(float,errors='raise')\n",
    "Train['Airline_Air India, IndiGo']=Train['Airline_Air India, IndiGo'].astype(float,errors='raise')\n",
    "Train['Airline_IndiGo']=Train['Airline_IndiGo'].astype(float,errors='raise')\n",
    "Train['Airline_IndiGo, AirAsia']=Train['Airline_IndiGo, AirAsia'].astype(float,errors='raise')\n",
    "Train['Airline_IndiGo, Go First']=Train['Airline_IndiGo, Go First'].astype(float,errors='raise')\n",
    "Train['Airline_Vistara']=Train['Airline_Vistara'].astype(float,errors='raise')\n",
    "Train['Airline_Vistara, Go First']=Train['Airline_Vistara, Go First'].astype(float,errors='raise')\n",
    "Train['Airline_Vistara, IndiGo']=Train['Airline_Vistara, IndiGo'].astype(float,errors='raise')\n"
   ]
  },
  {
   "cell_type": "code",
   "execution_count": 94,
   "metadata": {},
   "outputs": [
    {
     "data": {
      "text/plain": [
       "From                             int32\n",
       "To                               int32\n",
       "Stops                          float64\n",
       "Price                          float64\n",
       "Month                          float64\n",
       "Day                            float64\n",
       "Dep_hour                       float64\n",
       "Dep_minutes                    float64\n",
       "Arrival_hour                   float64\n",
       "Arrival_minutes                float64\n",
       "Airline_Air India, AirAsia     float64\n",
       "Airline_Air India, Go First    float64\n",
       "Airline_Air India, IndiGo      float64\n",
       "Airline_IndiGo                 float64\n",
       "Airline_IndiGo, AirAsia        float64\n",
       "Airline_IndiGo, Go First       float64\n",
       "Airline_Vistara                float64\n",
       "Airline_Vistara, Go First      float64\n",
       "Airline_Vistara, IndiGo        float64\n",
       "dtype: object"
      ]
     },
     "execution_count": 94,
     "metadata": {},
     "output_type": "execute_result"
    }
   ],
   "source": [
    "Train.dtypes"
   ]
  },
  {
   "cell_type": "code",
   "execution_count": 95,
   "metadata": {},
   "outputs": [
    {
     "data": {
      "text/html": [
       "<div>\n",
       "<style scoped>\n",
       "    .dataframe tbody tr th:only-of-type {\n",
       "        vertical-align: middle;\n",
       "    }\n",
       "\n",
       "    .dataframe tbody tr th {\n",
       "        vertical-align: top;\n",
       "    }\n",
       "\n",
       "    .dataframe thead th {\n",
       "        text-align: right;\n",
       "    }\n",
       "</style>\n",
       "<table border=\"1\" class=\"dataframe\">\n",
       "  <thead>\n",
       "    <tr style=\"text-align: right;\">\n",
       "      <th></th>\n",
       "      <th>From</th>\n",
       "      <th>To</th>\n",
       "      <th>Stops</th>\n",
       "      <th>Price</th>\n",
       "      <th>Month</th>\n",
       "      <th>Day</th>\n",
       "      <th>Dep_hour</th>\n",
       "      <th>Dep_minutes</th>\n",
       "      <th>Arrival_hour</th>\n",
       "      <th>Arrival_minutes</th>\n",
       "      <th>Airline_Air India, AirAsia</th>\n",
       "      <th>Airline_Air India, Go First</th>\n",
       "      <th>Airline_Air India, IndiGo</th>\n",
       "      <th>Airline_IndiGo</th>\n",
       "      <th>Airline_IndiGo, AirAsia</th>\n",
       "      <th>Airline_IndiGo, Go First</th>\n",
       "      <th>Airline_Vistara</th>\n",
       "      <th>Airline_Vistara, Go First</th>\n",
       "      <th>Airline_Vistara, IndiGo</th>\n",
       "    </tr>\n",
       "  </thead>\n",
       "  <tbody>\n",
       "    <tr>\n",
       "      <th>2</th>\n",
       "      <td>0</td>\n",
       "      <td>1</td>\n",
       "      <td>1.0</td>\n",
       "      <td>7704.0</td>\n",
       "      <td>10.0</td>\n",
       "      <td>30.0</td>\n",
       "      <td>7.0</td>\n",
       "      <td>30.0</td>\n",
       "      <td>15.0</td>\n",
       "      <td>30.0</td>\n",
       "      <td>0.0</td>\n",
       "      <td>0.0</td>\n",
       "      <td>0.0</td>\n",
       "      <td>1.0</td>\n",
       "      <td>0.0</td>\n",
       "      <td>0.0</td>\n",
       "      <td>0.0</td>\n",
       "      <td>0.0</td>\n",
       "      <td>0.0</td>\n",
       "    </tr>\n",
       "    <tr>\n",
       "      <th>3</th>\n",
       "      <td>0</td>\n",
       "      <td>1</td>\n",
       "      <td>1.0</td>\n",
       "      <td>7704.0</td>\n",
       "      <td>10.0</td>\n",
       "      <td>30.0</td>\n",
       "      <td>12.0</td>\n",
       "      <td>10.0</td>\n",
       "      <td>21.0</td>\n",
       "      <td>20.0</td>\n",
       "      <td>0.0</td>\n",
       "      <td>0.0</td>\n",
       "      <td>0.0</td>\n",
       "      <td>1.0</td>\n",
       "      <td>0.0</td>\n",
       "      <td>0.0</td>\n",
       "      <td>0.0</td>\n",
       "      <td>0.0</td>\n",
       "      <td>0.0</td>\n",
       "    </tr>\n",
       "    <tr>\n",
       "      <th>4</th>\n",
       "      <td>0</td>\n",
       "      <td>1</td>\n",
       "      <td>1.0</td>\n",
       "      <td>7914.0</td>\n",
       "      <td>10.0</td>\n",
       "      <td>30.0</td>\n",
       "      <td>7.0</td>\n",
       "      <td>30.0</td>\n",
       "      <td>12.0</td>\n",
       "      <td>40.0</td>\n",
       "      <td>0.0</td>\n",
       "      <td>0.0</td>\n",
       "      <td>0.0</td>\n",
       "      <td>1.0</td>\n",
       "      <td>0.0</td>\n",
       "      <td>0.0</td>\n",
       "      <td>0.0</td>\n",
       "      <td>0.0</td>\n",
       "      <td>0.0</td>\n",
       "    </tr>\n",
       "    <tr>\n",
       "      <th>5</th>\n",
       "      <td>0</td>\n",
       "      <td>1</td>\n",
       "      <td>1.0</td>\n",
       "      <td>8544.0</td>\n",
       "      <td>10.0</td>\n",
       "      <td>30.0</td>\n",
       "      <td>10.0</td>\n",
       "      <td>25.0</td>\n",
       "      <td>14.0</td>\n",
       "      <td>10.0</td>\n",
       "      <td>0.0</td>\n",
       "      <td>0.0</td>\n",
       "      <td>0.0</td>\n",
       "      <td>1.0</td>\n",
       "      <td>0.0</td>\n",
       "      <td>0.0</td>\n",
       "      <td>0.0</td>\n",
       "      <td>0.0</td>\n",
       "      <td>0.0</td>\n",
       "    </tr>\n",
       "    <tr>\n",
       "      <th>6</th>\n",
       "      <td>0</td>\n",
       "      <td>1</td>\n",
       "      <td>2.0</td>\n",
       "      <td>8964.0</td>\n",
       "      <td>10.0</td>\n",
       "      <td>30.0</td>\n",
       "      <td>12.0</td>\n",
       "      <td>30.0</td>\n",
       "      <td>20.0</td>\n",
       "      <td>30.0</td>\n",
       "      <td>0.0</td>\n",
       "      <td>0.0</td>\n",
       "      <td>0.0</td>\n",
       "      <td>0.0</td>\n",
       "      <td>0.0</td>\n",
       "      <td>0.0</td>\n",
       "      <td>0.0</td>\n",
       "      <td>0.0</td>\n",
       "      <td>0.0</td>\n",
       "    </tr>\n",
       "  </tbody>\n",
       "</table>\n",
       "</div>"
      ],
      "text/plain": [
       "   From  To  Stops   Price  Month   Day  Dep_hour  Dep_minutes  Arrival_hour  \\\n",
       "2     0   1    1.0  7704.0   10.0  30.0       7.0         30.0          15.0   \n",
       "3     0   1    1.0  7704.0   10.0  30.0      12.0         10.0          21.0   \n",
       "4     0   1    1.0  7914.0   10.0  30.0       7.0         30.0          12.0   \n",
       "5     0   1    1.0  8544.0   10.0  30.0      10.0         25.0          14.0   \n",
       "6     0   1    2.0  8964.0   10.0  30.0      12.0         30.0          20.0   \n",
       "\n",
       "   Arrival_minutes  Airline_Air India, AirAsia  Airline_Air India, Go First  \\\n",
       "2             30.0                         0.0                          0.0   \n",
       "3             20.0                         0.0                          0.0   \n",
       "4             40.0                         0.0                          0.0   \n",
       "5             10.0                         0.0                          0.0   \n",
       "6             30.0                         0.0                          0.0   \n",
       "\n",
       "   Airline_Air India, IndiGo  Airline_IndiGo  Airline_IndiGo, AirAsia  \\\n",
       "2                        0.0             1.0                      0.0   \n",
       "3                        0.0             1.0                      0.0   \n",
       "4                        0.0             1.0                      0.0   \n",
       "5                        0.0             1.0                      0.0   \n",
       "6                        0.0             0.0                      0.0   \n",
       "\n",
       "   Airline_IndiGo, Go First  Airline_Vistara  Airline_Vistara, Go First  \\\n",
       "2                       0.0              0.0                        0.0   \n",
       "3                       0.0              0.0                        0.0   \n",
       "4                       0.0              0.0                        0.0   \n",
       "5                       0.0              0.0                        0.0   \n",
       "6                       0.0              0.0                        0.0   \n",
       "\n",
       "   Airline_Vistara, IndiGo  \n",
       "2                      0.0  \n",
       "3                      0.0  \n",
       "4                      0.0  \n",
       "5                      0.0  \n",
       "6                      0.0  "
      ]
     },
     "execution_count": 95,
     "metadata": {},
     "output_type": "execute_result"
    }
   ],
   "source": [
    "Train.head()"
   ]
  },
  {
   "cell_type": "markdown",
   "metadata": {},
   "source": [
    "# Spliting the Independent and Target Variables."
   ]
  },
  {
   "cell_type": "code",
   "execution_count": null,
   "metadata": {},
   "outputs": [],
   "source": []
  },
  {
   "cell_type": "code",
   "execution_count": 96,
   "metadata": {},
   "outputs": [],
   "source": [
    "x=Train.drop('Price',axis=1)\n",
    "y=Train['Price']"
   ]
  },
  {
   "cell_type": "code",
   "execution_count": 97,
   "metadata": {},
   "outputs": [
    {
     "name": "stdout",
     "output_type": "stream",
     "text": [
      "(1520, 18) (1520,)\n"
     ]
    }
   ],
   "source": [
    "print(x.shape,y.shape)"
   ]
  },
  {
   "cell_type": "markdown",
   "metadata": {},
   "source": [
    "# Data Scaling"
   ]
  },
  {
   "cell_type": "code",
   "execution_count": 98,
   "metadata": {},
   "outputs": [
    {
     "data": {
      "text/html": [
       "<div>\n",
       "<style scoped>\n",
       "    .dataframe tbody tr th:only-of-type {\n",
       "        vertical-align: middle;\n",
       "    }\n",
       "\n",
       "    .dataframe tbody tr th {\n",
       "        vertical-align: top;\n",
       "    }\n",
       "\n",
       "    .dataframe thead th {\n",
       "        text-align: right;\n",
       "    }\n",
       "</style>\n",
       "<table border=\"1\" class=\"dataframe\">\n",
       "  <thead>\n",
       "    <tr style=\"text-align: right;\">\n",
       "      <th></th>\n",
       "      <th>From</th>\n",
       "      <th>To</th>\n",
       "      <th>Stops</th>\n",
       "      <th>Month</th>\n",
       "      <th>Day</th>\n",
       "      <th>Dep_hour</th>\n",
       "      <th>Dep_minutes</th>\n",
       "      <th>Arrival_hour</th>\n",
       "      <th>Arrival_minutes</th>\n",
       "      <th>Airline_Air India, AirAsia</th>\n",
       "      <th>Airline_Air India, Go First</th>\n",
       "      <th>Airline_Air India, IndiGo</th>\n",
       "      <th>Airline_IndiGo</th>\n",
       "      <th>Airline_IndiGo, AirAsia</th>\n",
       "      <th>Airline_IndiGo, Go First</th>\n",
       "      <th>Airline_Vistara</th>\n",
       "      <th>Airline_Vistara, Go First</th>\n",
       "      <th>Airline_Vistara, IndiGo</th>\n",
       "    </tr>\n",
       "  </thead>\n",
       "  <tbody>\n",
       "    <tr>\n",
       "      <th>0</th>\n",
       "      <td>0.0</td>\n",
       "      <td>1.0</td>\n",
       "      <td>0.25</td>\n",
       "      <td>0.818182</td>\n",
       "      <td>0.95</td>\n",
       "      <td>0.000000</td>\n",
       "      <td>0.545455</td>\n",
       "      <td>0.652174</td>\n",
       "      <td>0.545455</td>\n",
       "      <td>0.0</td>\n",
       "      <td>0.0</td>\n",
       "      <td>0.0</td>\n",
       "      <td>1.0</td>\n",
       "      <td>0.0</td>\n",
       "      <td>0.0</td>\n",
       "      <td>0.0</td>\n",
       "      <td>0.0</td>\n",
       "      <td>0.0</td>\n",
       "    </tr>\n",
       "    <tr>\n",
       "      <th>1</th>\n",
       "      <td>0.0</td>\n",
       "      <td>1.0</td>\n",
       "      <td>0.25</td>\n",
       "      <td>0.818182</td>\n",
       "      <td>0.95</td>\n",
       "      <td>0.384615</td>\n",
       "      <td>0.181818</td>\n",
       "      <td>0.913043</td>\n",
       "      <td>0.363636</td>\n",
       "      <td>0.0</td>\n",
       "      <td>0.0</td>\n",
       "      <td>0.0</td>\n",
       "      <td>1.0</td>\n",
       "      <td>0.0</td>\n",
       "      <td>0.0</td>\n",
       "      <td>0.0</td>\n",
       "      <td>0.0</td>\n",
       "      <td>0.0</td>\n",
       "    </tr>\n",
       "    <tr>\n",
       "      <th>2</th>\n",
       "      <td>0.0</td>\n",
       "      <td>1.0</td>\n",
       "      <td>0.25</td>\n",
       "      <td>0.818182</td>\n",
       "      <td>0.95</td>\n",
       "      <td>0.000000</td>\n",
       "      <td>0.545455</td>\n",
       "      <td>0.521739</td>\n",
       "      <td>0.727273</td>\n",
       "      <td>0.0</td>\n",
       "      <td>0.0</td>\n",
       "      <td>0.0</td>\n",
       "      <td>1.0</td>\n",
       "      <td>0.0</td>\n",
       "      <td>0.0</td>\n",
       "      <td>0.0</td>\n",
       "      <td>0.0</td>\n",
       "      <td>0.0</td>\n",
       "    </tr>\n",
       "    <tr>\n",
       "      <th>3</th>\n",
       "      <td>0.0</td>\n",
       "      <td>1.0</td>\n",
       "      <td>0.25</td>\n",
       "      <td>0.818182</td>\n",
       "      <td>0.95</td>\n",
       "      <td>0.230769</td>\n",
       "      <td>0.454545</td>\n",
       "      <td>0.608696</td>\n",
       "      <td>0.181818</td>\n",
       "      <td>0.0</td>\n",
       "      <td>0.0</td>\n",
       "      <td>0.0</td>\n",
       "      <td>1.0</td>\n",
       "      <td>0.0</td>\n",
       "      <td>0.0</td>\n",
       "      <td>0.0</td>\n",
       "      <td>0.0</td>\n",
       "      <td>0.0</td>\n",
       "    </tr>\n",
       "    <tr>\n",
       "      <th>4</th>\n",
       "      <td>0.0</td>\n",
       "      <td>1.0</td>\n",
       "      <td>0.50</td>\n",
       "      <td>0.818182</td>\n",
       "      <td>0.95</td>\n",
       "      <td>0.384615</td>\n",
       "      <td>0.545455</td>\n",
       "      <td>0.869565</td>\n",
       "      <td>0.545455</td>\n",
       "      <td>0.0</td>\n",
       "      <td>0.0</td>\n",
       "      <td>0.0</td>\n",
       "      <td>0.0</td>\n",
       "      <td>0.0</td>\n",
       "      <td>0.0</td>\n",
       "      <td>0.0</td>\n",
       "      <td>0.0</td>\n",
       "      <td>0.0</td>\n",
       "    </tr>\n",
       "    <tr>\n",
       "      <th>...</th>\n",
       "      <td>...</td>\n",
       "      <td>...</td>\n",
       "      <td>...</td>\n",
       "      <td>...</td>\n",
       "      <td>...</td>\n",
       "      <td>...</td>\n",
       "      <td>...</td>\n",
       "      <td>...</td>\n",
       "      <td>...</td>\n",
       "      <td>...</td>\n",
       "      <td>...</td>\n",
       "      <td>...</td>\n",
       "      <td>...</td>\n",
       "      <td>...</td>\n",
       "      <td>...</td>\n",
       "      <td>...</td>\n",
       "      <td>...</td>\n",
       "      <td>...</td>\n",
       "    </tr>\n",
       "    <tr>\n",
       "      <th>1515</th>\n",
       "      <td>0.0</td>\n",
       "      <td>0.0</td>\n",
       "      <td>0.25</td>\n",
       "      <td>0.909091</td>\n",
       "      <td>0.80</td>\n",
       "      <td>0.692308</td>\n",
       "      <td>1.000000</td>\n",
       "      <td>1.000000</td>\n",
       "      <td>0.909091</td>\n",
       "      <td>0.0</td>\n",
       "      <td>0.0</td>\n",
       "      <td>0.0</td>\n",
       "      <td>1.0</td>\n",
       "      <td>0.0</td>\n",
       "      <td>0.0</td>\n",
       "      <td>0.0</td>\n",
       "      <td>0.0</td>\n",
       "      <td>0.0</td>\n",
       "    </tr>\n",
       "    <tr>\n",
       "      <th>1516</th>\n",
       "      <td>0.0</td>\n",
       "      <td>0.0</td>\n",
       "      <td>0.25</td>\n",
       "      <td>0.909091</td>\n",
       "      <td>0.80</td>\n",
       "      <td>0.461538</td>\n",
       "      <td>0.454545</td>\n",
       "      <td>0.782609</td>\n",
       "      <td>0.090909</td>\n",
       "      <td>0.0</td>\n",
       "      <td>0.0</td>\n",
       "      <td>0.0</td>\n",
       "      <td>1.0</td>\n",
       "      <td>0.0</td>\n",
       "      <td>0.0</td>\n",
       "      <td>0.0</td>\n",
       "      <td>0.0</td>\n",
       "      <td>0.0</td>\n",
       "    </tr>\n",
       "    <tr>\n",
       "      <th>1517</th>\n",
       "      <td>0.0</td>\n",
       "      <td>0.0</td>\n",
       "      <td>0.25</td>\n",
       "      <td>0.909091</td>\n",
       "      <td>0.80</td>\n",
       "      <td>0.923077</td>\n",
       "      <td>0.636364</td>\n",
       "      <td>0.304348</td>\n",
       "      <td>0.636364</td>\n",
       "      <td>0.0</td>\n",
       "      <td>0.0</td>\n",
       "      <td>0.0</td>\n",
       "      <td>1.0</td>\n",
       "      <td>0.0</td>\n",
       "      <td>0.0</td>\n",
       "      <td>0.0</td>\n",
       "      <td>0.0</td>\n",
       "      <td>0.0</td>\n",
       "    </tr>\n",
       "    <tr>\n",
       "      <th>1518</th>\n",
       "      <td>0.0</td>\n",
       "      <td>0.0</td>\n",
       "      <td>0.25</td>\n",
       "      <td>0.909091</td>\n",
       "      <td>0.80</td>\n",
       "      <td>0.153846</td>\n",
       "      <td>0.818182</td>\n",
       "      <td>0.826087</td>\n",
       "      <td>0.090909</td>\n",
       "      <td>0.0</td>\n",
       "      <td>0.0</td>\n",
       "      <td>0.0</td>\n",
       "      <td>1.0</td>\n",
       "      <td>0.0</td>\n",
       "      <td>0.0</td>\n",
       "      <td>0.0</td>\n",
       "      <td>0.0</td>\n",
       "      <td>0.0</td>\n",
       "    </tr>\n",
       "    <tr>\n",
       "      <th>1519</th>\n",
       "      <td>0.0</td>\n",
       "      <td>0.0</td>\n",
       "      <td>0.25</td>\n",
       "      <td>0.909091</td>\n",
       "      <td>0.80</td>\n",
       "      <td>0.153846</td>\n",
       "      <td>0.818182</td>\n",
       "      <td>0.652174</td>\n",
       "      <td>0.272727</td>\n",
       "      <td>0.0</td>\n",
       "      <td>0.0</td>\n",
       "      <td>0.0</td>\n",
       "      <td>1.0</td>\n",
       "      <td>0.0</td>\n",
       "      <td>0.0</td>\n",
       "      <td>0.0</td>\n",
       "      <td>0.0</td>\n",
       "      <td>0.0</td>\n",
       "    </tr>\n",
       "  </tbody>\n",
       "</table>\n",
       "<p>1520 rows × 18 columns</p>\n",
       "</div>"
      ],
      "text/plain": [
       "      From   To  Stops     Month   Day  Dep_hour  Dep_minutes  Arrival_hour  \\\n",
       "0      0.0  1.0   0.25  0.818182  0.95  0.000000     0.545455      0.652174   \n",
       "1      0.0  1.0   0.25  0.818182  0.95  0.384615     0.181818      0.913043   \n",
       "2      0.0  1.0   0.25  0.818182  0.95  0.000000     0.545455      0.521739   \n",
       "3      0.0  1.0   0.25  0.818182  0.95  0.230769     0.454545      0.608696   \n",
       "4      0.0  1.0   0.50  0.818182  0.95  0.384615     0.545455      0.869565   \n",
       "...    ...  ...    ...       ...   ...       ...          ...           ...   \n",
       "1515   0.0  0.0   0.25  0.909091  0.80  0.692308     1.000000      1.000000   \n",
       "1516   0.0  0.0   0.25  0.909091  0.80  0.461538     0.454545      0.782609   \n",
       "1517   0.0  0.0   0.25  0.909091  0.80  0.923077     0.636364      0.304348   \n",
       "1518   0.0  0.0   0.25  0.909091  0.80  0.153846     0.818182      0.826087   \n",
       "1519   0.0  0.0   0.25  0.909091  0.80  0.153846     0.818182      0.652174   \n",
       "\n",
       "      Arrival_minutes  Airline_Air India, AirAsia  \\\n",
       "0            0.545455                         0.0   \n",
       "1            0.363636                         0.0   \n",
       "2            0.727273                         0.0   \n",
       "3            0.181818                         0.0   \n",
       "4            0.545455                         0.0   \n",
       "...               ...                         ...   \n",
       "1515         0.909091                         0.0   \n",
       "1516         0.090909                         0.0   \n",
       "1517         0.636364                         0.0   \n",
       "1518         0.090909                         0.0   \n",
       "1519         0.272727                         0.0   \n",
       "\n",
       "      Airline_Air India, Go First  Airline_Air India, IndiGo  Airline_IndiGo  \\\n",
       "0                             0.0                        0.0             1.0   \n",
       "1                             0.0                        0.0             1.0   \n",
       "2                             0.0                        0.0             1.0   \n",
       "3                             0.0                        0.0             1.0   \n",
       "4                             0.0                        0.0             0.0   \n",
       "...                           ...                        ...             ...   \n",
       "1515                          0.0                        0.0             1.0   \n",
       "1516                          0.0                        0.0             1.0   \n",
       "1517                          0.0                        0.0             1.0   \n",
       "1518                          0.0                        0.0             1.0   \n",
       "1519                          0.0                        0.0             1.0   \n",
       "\n",
       "      Airline_IndiGo, AirAsia  Airline_IndiGo, Go First  Airline_Vistara  \\\n",
       "0                         0.0                       0.0              0.0   \n",
       "1                         0.0                       0.0              0.0   \n",
       "2                         0.0                       0.0              0.0   \n",
       "3                         0.0                       0.0              0.0   \n",
       "4                         0.0                       0.0              0.0   \n",
       "...                       ...                       ...              ...   \n",
       "1515                      0.0                       0.0              0.0   \n",
       "1516                      0.0                       0.0              0.0   \n",
       "1517                      0.0                       0.0              0.0   \n",
       "1518                      0.0                       0.0              0.0   \n",
       "1519                      0.0                       0.0              0.0   \n",
       "\n",
       "      Airline_Vistara, Go First  Airline_Vistara, IndiGo  \n",
       "0                           0.0                      0.0  \n",
       "1                           0.0                      0.0  \n",
       "2                           0.0                      0.0  \n",
       "3                           0.0                      0.0  \n",
       "4                           0.0                      0.0  \n",
       "...                         ...                      ...  \n",
       "1515                        0.0                      0.0  \n",
       "1516                        0.0                      0.0  \n",
       "1517                        0.0                      0.0  \n",
       "1518                        0.0                      0.0  \n",
       "1519                        0.0                      0.0  \n",
       "\n",
       "[1520 rows x 18 columns]"
      ]
     },
     "execution_count": 98,
     "metadata": {},
     "output_type": "execute_result"
    }
   ],
   "source": [
    "from sklearn.preprocessing import MinMaxScaler\n",
    "sc=MinMaxScaler()\n",
    "dx=sc.fit_transform(x)\n",
    "dx=pd.DataFrame(dx,columns=x.columns)\n",
    "dx"
   ]
  },
  {
   "cell_type": "code",
   "execution_count": 99,
   "metadata": {},
   "outputs": [],
   "source": [
    "X=dx"
   ]
  },
  {
   "cell_type": "markdown",
   "metadata": {},
   "source": [
    "# Finding best Random State for train test split."
   ]
  },
  {
   "cell_type": "code",
   "execution_count": 102,
   "metadata": {},
   "outputs": [
    {
     "name": "stdout",
     "output_type": "stream",
     "text": [
      "Best accuracy is:  0.46199960275918817  on Random State  656\n"
     ]
    }
   ],
   "source": [
    "from sklearn.linear_model import LinearRegression\n",
    "from sklearn.metrics import mean_squared_error,r2_score,mean_absolute_error\n",
    "from sklearn.model_selection import train_test_split\n",
    "maxAccu = 0\n",
    "maxRS = 0\n",
    "for i in range(1,1000):\n",
    "    X_train,X_test,y_train,y_test = train_test_split(X,y,test_size = .30, random_state = i)\n",
    "    LR = LinearRegression()\n",
    "    LR.fit(X_train, y_train)\n",
    "    predf = LR.predict(X_test)\n",
    "    acc = r2_score(y_test, predf)\n",
    "    if acc>maxAccu:\n",
    "        maxAccu = acc\n",
    "        maxRS = i\n",
    "print(\"Best accuracy is: \", maxAccu, \" on Random State \", maxRS)"
   ]
  },
  {
   "cell_type": "code",
   "execution_count": 103,
   "metadata": {},
   "outputs": [],
   "source": [
    "X_train,X_test,y_train,y_test=train_test_split(X,y,test_size=.30,random_state=656)"
   ]
  },
  {
   "cell_type": "code",
   "execution_count": 104,
   "metadata": {},
   "outputs": [
    {
     "name": "stdout",
     "output_type": "stream",
     "text": [
      "(1064, 18) (1064,) (456, 18) (456,)\n"
     ]
    }
   ],
   "source": [
    "print(X_train.shape,y_train.shape,X_test.shape,y_test.shape)"
   ]
  },
  {
   "cell_type": "markdown",
   "metadata": {},
   "source": [
    "# LinearRegression"
   ]
  },
  {
   "cell_type": "code",
   "execution_count": 105,
   "metadata": {},
   "outputs": [
    {
     "data": {
      "text/plain": [
       "LinearRegression()"
      ]
     },
     "execution_count": 105,
     "metadata": {},
     "output_type": "execute_result"
    }
   ],
   "source": [
    "LR=LinearRegression()\n",
    "LR.fit(X_train,y_train)"
   ]
  },
  {
   "cell_type": "code",
   "execution_count": 106,
   "metadata": {},
   "outputs": [
    {
     "data": {
      "text/plain": [
       "array([    0.        ,  -362.91912082, 11303.08327927,  3338.348941  ,\n",
       "       -3886.88981664,  -918.9084194 ,    12.74212475,   945.69324663,\n",
       "        -597.95932709, -2690.99562631, -1499.00747785,   946.58444942,\n",
       "        2221.50069677,   -67.76570633,  3391.15402651,  6275.60968959,\n",
       "        1614.47340761,  7099.27364605])"
      ]
     },
     "execution_count": 106,
     "metadata": {},
     "output_type": "execute_result"
    }
   ],
   "source": [
    "LR.coef_"
   ]
  },
  {
   "cell_type": "code",
   "execution_count": 107,
   "metadata": {},
   "outputs": [
    {
     "data": {
      "text/plain": [
       "0.3125230791108182"
      ]
     },
     "execution_count": 107,
     "metadata": {},
     "output_type": "execute_result"
    }
   ],
   "source": [
    "LR.score(X_train,y_train)"
   ]
  },
  {
   "cell_type": "code",
   "execution_count": 108,
   "metadata": {},
   "outputs": [
    {
     "name": "stdout",
     "output_type": "stream",
     "text": [
      "Predicted Result Price: [16171.24899356  7434.37108321  6813.71375802  8256.77237612\n",
      "  8745.3179949   6603.64403304  8600.4380282   7011.44037149\n",
      " 10423.00767061  9405.05659913 10939.41575777 19598.89956774\n",
      " 16658.52621713  9442.73338933  7857.23565554  9559.93859966\n",
      "  8995.97084945  8627.67863581  9286.50462365 10268.70288311\n",
      " 10378.26145981  7276.42548304 10218.10513765  9872.44615921\n",
      " 10180.13996334  6766.50712383  8238.98965414  6920.63689969\n",
      " 16559.93797522  8145.8541186  10875.67541784 10745.07126694\n",
      "  6828.56219338 15078.9829772   6900.00056632 20509.35836983\n",
      "  8995.97084945 11536.15963598  8979.55823994  8431.03954585\n",
      "  7020.15663964  9351.79425025  9366.01090899 10617.26418341\n",
      "  9679.40707867  9521.85921966  9597.10649084 11032.1449248\n",
      "  5477.49886554  3634.99657222 15335.02257097  9453.27504626\n",
      "  9470.71744557 10339.79478612  8791.686628    9972.98344372\n",
      "  9896.38522144  8665.355426    9182.55251353  9671.13470962\n",
      "  8840.87753308 10010.66912185 10300.40877332  8995.97084945\n",
      "  9352.09381888  9578.51993576  8080.31573849  8886.43839491\n",
      "  8376.04582156  8181.68568721  6807.11323198  7741.08551327\n",
      " 10013.44761393  7230.45782246  6251.31593007 13244.82253187\n",
      "  9965.21661575  9314.66640187  6850.99790634 11173.01142306\n",
      "  7142.60199537  8472.15664353  5088.80988388  8472.15664353\n",
      "  9406.47507921 17872.47128658  9635.07166515  8625.38403668\n",
      "  8412.55563046  7565.56598438  8971.54740104  7628.71557404\n",
      "  5477.49886554 11980.47871076  8963.10526858  9643.8587158\n",
      "  5477.49886554  8570.37466887  7933.36548631  8569.34285565\n",
      "  6128.83987524  8995.97084945  8145.8541186  13851.7950666\n",
      "  6901.85761034  7693.7959838   8995.97084945  9773.34881278\n",
      "  8569.34285565  8655.31825606  8431.03954585  7435.53472811\n",
      "  8551.30835583  5477.49886554 13271.30821416  7590.47199704\n",
      "  8413.74605011  7533.34531047 10574.16000095  5477.49886554\n",
      "  9080.68917757  9728.26139619 17920.34941104  7565.56598438\n",
      "  6531.94791802  9717.37530082 10552.64930738  6624.19754867\n",
      "  9369.33240314  8988.2080227   8630.87291699  8801.14197244\n",
      "  9048.60755151  9587.49796888  8283.44727998  8689.91700021\n",
      "  7052.09953429 10551.53544926  7087.43756024  5477.49886554\n",
      "  8963.10526858  9929.75429148  8879.06624617  7620.05007188\n",
      "  8283.44727998  9194.17216277  9546.63502046  8665.355426\n",
      "  7356.44524294 10057.76935785  8440.19856531  7069.99339119\n",
      " 13851.7950666  10804.29053351  7704.17462877  9796.897197\n",
      " 12583.28175225  8631.80109271  8376.03017804 10156.20090111\n",
      "  9105.2505643   8412.55563046  8051.52855502  8689.91700021\n",
      "  7369.00705809  7930.30666118  8963.10526858  8840.87753308\n",
      " 18782.93008867  8995.48646327  9668.11438977  8665.355426\n",
      " 11322.72425497  9467.29496354  9797.42581332  8627.67863581\n",
      "  9951.28069411 14498.49612477  7132.04846075  7340.31185992\n",
      " 12840.79602329  7565.56598438  9882.00620313 10432.05629445\n",
      "  8145.8541186  14615.50428491  7629.87921894  8891.70241286\n",
      "  7892.35935385  9034.10411244  9075.11455531  6048.43418548\n",
      "  9568.95989184  8958.03183732  9176.50340584  8138.34546017\n",
      "  7309.32588135  7945.58736901  9990.93635326  9265.98934946\n",
      "  9190.4532786   8627.67863581  6906.21783857 14978.58542244\n",
      "  8149.89814563  9295.84143992 17142.97144772  7425.70558105\n",
      " 10209.5252409  13117.21504475  8274.66022933  8145.8541186\n",
      "  8322.93410832 10279.79120523  8477.79177081  6456.14655875\n",
      " 12388.93726142  8606.7974816   8634.61361887  9446.73215634\n",
      "  9157.44975941  8703.07773443  7404.30772388  8392.44411171\n",
      "  8495.57250938  9733.54753508  8412.55563046  8802.43503177\n",
      " 19389.9026234   8359.00024405  6274.66359162  8689.91700021\n",
      "  7100.01338759  8055.51397669 11895.69279663  5900.42468643\n",
      "  7036.11333162  6572.79735183  6509.60776635  6825.81214881\n",
      "  8569.34285565  8274.66022933  8923.23208193  8236.85175367\n",
      "  8452.18855141  8031.79702956  7565.56598438  8569.34285565\n",
      "  9153.40814137 10357.19095843  7309.32588135  7424.80231329\n",
      "  8218.21113962  6711.87334774 11592.20652927  6365.22403204\n",
      "  8472.15664353  8665.355426    6469.00808245  8963.10526858\n",
      "  9078.60598188  8551.30835583 10316.58100757  9460.33384029\n",
      "  9178.13352238 10312.0949026   9606.33607303  8728.04790459\n",
      "  7728.3107622   8072.28478356  9897.61576312  8534.54310027\n",
      "  8086.70384468  8769.25705713  9240.68112314  7829.41951827\n",
      "  8017.40455571  9763.40908216  6693.06616181  8431.03954585\n",
      "  8472.15664353  8023.76400911  8731.00096925 13271.30821416\n",
      "  8654.76931424  7951.50962777  7757.16513694  7104.86307456\n",
      " 10535.21743436  8761.82508092  9252.77078967  8274.66022933\n",
      "  8763.87536195  8551.30835583  8634.61361887  8689.91700021\n",
      " 10570.77403856  7231.17008339  8235.37110258  6956.28530602\n",
      "  8463.30315981  7264.86300817  9117.57657276  7294.35787842\n",
      "  7565.56598438  6726.29240886  7347.27318868  8627.67863581\n",
      "  7347.27318868  7227.88665808 10788.20933844  9189.93359378\n",
      "  7434.37108321  9219.87039136 10374.48445417 15078.9829772\n",
      " 10425.17239007  8665.355426    8089.10278914  8412.55563046\n",
      "  8963.60154796  8431.03954585  7053.33461428  7884.20476369\n",
      "  9476.79021879  9290.718097    8791.686628    8441.83172753\n",
      " 10763.17343583  9383.96381853  7368.47615527 18503.38288354\n",
      " 13618.17398662 10711.60349959  9982.89334603  7711.2334228\n",
      "  8145.8541186  11288.30346173  7565.56598438  7894.75829831\n",
      " 10598.21422256  8274.66022933 11373.50617603  8445.11515285\n",
      "  7773.9303925  10729.56192519  9991.24168784  7962.55833639\n",
      "  7997.28225116  7309.32588135  6470.59510162  9120.77680203\n",
      "  9071.64485863  9043.45829591 10869.5251557   7704.17462877\n",
      "  6405.84459017  6445.12699957  6432.58526972  5303.56346195\n",
      "  7603.19011214  8218.59288612  7598.65221471  8963.10526858\n",
      "  9052.03819265  9301.19078327  8317.28814253  9173.90273078\n",
      "  7744.83912847  6967.46116514  6323.18436607  8312.28924735\n",
      "  8147.28480395  9001.58683829  8211.74904654  7952.94031312\n",
      "  8684.72175534  8884.26149104 11943.7227488   7161.80565597\n",
      "  5451.08368733  7352.3965316   9208.41750918 13815.8658961\n",
      "  7565.56598438  7962.62664235  7161.80565597  9016.36761747\n",
      "  9531.23321198  5866.18784721 10540.78704549  8650.05005708\n",
      "  8569.34285565  7347.27318868  6773.11667431  8272.09371144\n",
      "  9237.80278674  8274.66022933 13244.82253187 10985.23399454\n",
      "  7434.37108321  8283.44727998  8608.09054094 10403.86973173\n",
      " 10883.44224581  8219.40155927 10445.10711378  8831.18140969\n",
      "  8569.53087111  9190.31534028  7691.71313053 10633.36190853\n",
      "  7045.68210154  9613.92995325  8924.66276728  6810.88348853\n",
      " 17531.66042938  8283.44727998  8340.19860943 10244.67292687\n",
      "  7704.17462877 10364.8759322  11336.59838636  7885.97124766\n",
      "  6753.91301371  9047.94501054  7309.32588135  6780.75777503\n",
      "  7673.02194178  8822.02312664  6500.33347287  7665.12117671\n",
      "  8569.34285565 10376.7790533   9077.55788686  8458.87360105\n",
      "  9014.07301834  5740.15089358  6812.8576228   8133.52811014\n",
      "  7898.5191196   6043.89628805  6318.78637282  8751.27154629\n",
      "  9054.04440766 15508.0277153  10104.63096486  5477.49886554\n",
      "  7880.26968731  8024.82855798  7704.17462877 11393.86291769\n",
      "  8712.80796743  6506.46904545  7309.32588135  8963.10526858]\n",
      "error:\n",
      "Mean absolute error: 1824.1149790833292\n",
      "Mean squared error: 6560836.800428453\n",
      "Root Mean Squared error: 2561.413047602525\n",
      "0.46199960275918817\n"
     ]
    }
   ],
   "source": [
    "pred=LR.predict(X_test)\n",
    "print('Predicted Result Price:',pred)\n",
    "print('error:')\n",
    "print('Mean absolute error:',mean_absolute_error(y_test,pred))\n",
    "print('Mean squared error:',mean_squared_error(y_test,pred))\n",
    "print('Root Mean Squared error:',np.sqrt(mean_squared_error(y_test,pred)))\n",
    "print(r2_score(y_test,pred))"
   ]
  },
  {
   "cell_type": "markdown",
   "metadata": {},
   "source": [
    "# RandomForestRegressor"
   ]
  },
  {
   "cell_type": "code",
   "execution_count": 109,
   "metadata": {},
   "outputs": [
    {
     "name": "stdout",
     "output_type": "stream",
     "text": [
      "Predicted Result Price: [15915.37   9751.     8859.25   9132.66   7264.04   7040.72  10883.89\n",
      "  8212.65   6351.46  12360.04  14319.95  18781.56  16372.68   8541.67\n",
      "  6545.29   7247.97  10077.    13741.     7104.95   7648.    10108.95\n",
      "  6244.    16846.34   6355.81   9542.04   5325.33   8970.31   5009.74\n",
      " 16208.01   5478.     7990.02  13767.01   7110.19  17412.03   8054.68\n",
      " 17728.35  10077.     6759.85   9117.55   9174.     8215.76  11370.9\n",
      "  9977.35  13409.74   8823.02  12823.01   6276.5   10736.64   4711.\n",
      "  5942.3   12654.33  10770.51   6781.95  10089.9    5094.    10492.02\n",
      "  7712.51   8596.    11359.85   9568.9    7394.     9899.31  11551.34\n",
      " 10077.    10044.6    8183.67   8871.77   8728.69   6641.25   7423.93\n",
      "  6828.205  7962.09   5597.82   6710.72   7645.095 13692.36   7639.47\n",
      "  7792.83   6018.81  11465.18   7232.57   9174.     4711.     9174.\n",
      "  5169.76  20276.19  13571.58   9190.27   5094.     7011.     8085.13\n",
      " 10232.63   4711.    10001.38   5861.     5851.52   4711.     8082.67\n",
      "  8226.21   9436.     6034.33  10077.     5478.    15170.43   9180.98\n",
      "  7707.18  10077.    11233.89   9436.     7849.34   9174.     7317.43\n",
      " 11536.     4711.    18528.55   7939.26   9771.93   8130.57  10892.03\n",
      "  4711.     8009.1   10733.28  18949.2    7011.     5154.59   9586.07\n",
      " 10874.44   8196.37  17232.93   7024.11   8511.86   7858.69   6080.98\n",
      "  9404.28   8491.     8544.     7744.49   8936.51   9385.41   4711.\n",
      "  5861.    11197.53  12371.62   5248.77   8491.    15084.72   7956.89\n",
      "  8596.     8653.9    8668.68  15656.65   5191.24  15170.43  11963.53\n",
      "  9174.     8943.45  14673.32   8367.39   7906.8   11588.84  10099.705\n",
      "  5094.     6291.51   8544.     8474.49   8311.72   5861.     7394.\n",
      " 19070.22   7894.82   9136.49   8596.     9005.08  12434.36  10516.475\n",
      " 13741.     8972.77  19157.3    7212.21   7408.21  10892.21   7011.\n",
      "  8273.44   8493.23   5478.     9217.92   7777.15   8820.88   7652.9\n",
      " 11121.28   5760.44   6199.3    6397.47  11171.61   9128.87   6981.05\n",
      "  5094.     8306.94   8336.24   8447.72   9011.84  13741.     7890.52\n",
      " 12050.79   8913.81   8291.14  17870.26   5528.32  10066.1   12067.13\n",
      "  8544.     5478.     8549.11   9299.89   8799.88   6405.745 14393.66\n",
      "  7218.92   8281.     5981.83   7581.14  10993.67   8151.33   5251.24\n",
      "  8757.64   8948.43   5094.     8258.19  19216.38  12645.64   5724.52\n",
      "  8544.     7793.275 12661.39  12443.15   8232.58   6688.28   6874.825\n",
      "  7410.625  8965.12   9436.     8544.    11736.15   9215.38   6572.91\n",
      "  5190.33   7011.     9436.     8307.53   6518.31   5094.     6918.98\n",
      "  5286.89   7937.1   13129.74   5190.69   9174.     8596.     6204.67\n",
      "  5861.    12134.23  11536.     8881.85   8428.03   9115.99   9896.61\n",
      "  9554.7    6954.     5213.33   7838.8    9585.96  11109.415  8487.27\n",
      "  7929.91   8158.41   7721.39  10719.28   8944.41   7158.405  9174.\n",
      "  9174.     7768.55   8215.81  18528.55  10695.2    5537.85   5522.51\n",
      "  6861.785  8901.68   8628.99   7481.51   8544.     9075.34  11536.\n",
      "  8281.     8544.     9683.73   8220.74   5220.62   6757.05   8483.54\n",
      "  6805.785 12030.06  10164.19   7011.     4931.58   8491.    13741.\n",
      "  8491.     6104.57  11947.54  11701.35   9751.     7011.83  10680.38\n",
      " 17412.03  10426.94   8596.     8878.69   5094.     8145.28   9174.\n",
      "  5505.25   5251.68   9365.23   8728.29   5094.     6659.87  11407.62\n",
      " 12082.84   5461.96  19063.55  11127.11   8941.93   8861.29   6712.87\n",
      "  5478.     9490.54   7011.     7742.11  10559.45   8544.    10286.8\n",
      "  8121.35   6488.73   8536.93   9928.87   9760.19   7715.06   5094.\n",
      "  8579.48   9238.98   8470.83  10923.35  11371.94   9174.     6773.125\n",
      "  7698.45   7845.73   5156.56   7712.81   6314.55   7954.75   5861.\n",
      " 11650.54   8223.62   8297.27   8843.35   5636.427  5094.     7769.11\n",
      "  8623.25   8261.41   7316.28  10712.61   7837.35   7746.75   9553.77\n",
      " 12444.24   5094.     5184.52   7866.22   8001.91  12855.63   7011.\n",
      "  5255.48   5094.    12485.29  10028.32   5120.93  14891.91   9073.09\n",
      "  9436.     8491.     5005.91   7766.97  12486.65   8544.    13692.36\n",
      " 12016.87   9751.     8491.     8486.56   9313.91  12234.44  10769.69\n",
      " 11633.38   6859.59   9361.97  10106.49  10253.82  15987.71   9758.57\n",
      "  9866.09   8431.13   8217.01  17930.96   8491.     9164.13  13291.73\n",
      "  9174.    10442.39  12166.87   7890.07   4970.94   7570.02   5094.\n",
      "  6869.48   6000.57  12904.83   5678.07   7706.25   9436.    16402.09\n",
      "  8638.12   8197.84   8392.48   5681.03   7490.1    6923.81   9258.22\n",
      "  5494.85   7655.8    8263.32   9095.01   9457.5   10594.31   4711.\n",
      "  8000.53   8054.88   9174.     9284.86   7504.9    6874.94   5094.\n",
      "  5861.   ]\n",
      "error:\n",
      "Mean absolute error: 963.7780745614035\n",
      "Mean squared error: 2714382.525653188\n",
      "Root Mean Squared error: 1647.5383229695108\n",
      "0.7774157593785039\n"
     ]
    }
   ],
   "source": [
    "from sklearn.ensemble import RandomForestRegressor\n",
    "rf=RandomForestRegressor(n_estimators=100)\n",
    "rf.fit(X_train,y_train)\n",
    "rf.score(X_train,y_train)\n",
    "predrf=rf.predict(X_test)\n",
    "print('Predicted Result Price:',predrf)\n",
    "print('error:')\n",
    "print('Mean absolute error:',mean_absolute_error(y_test,predrf))\n",
    "print('Mean squared error:',mean_squared_error(y_test,predrf))\n",
    "print('Root Mean Squared error:',np.sqrt(mean_squared_error(y_test,predrf)))\n",
    "print(r2_score(y_test,predrf))"
   ]
  },
  {
   "cell_type": "markdown",
   "metadata": {},
   "source": [
    "# DecisionTreeRegressor"
   ]
  },
  {
   "cell_type": "code",
   "execution_count": 110,
   "metadata": {},
   "outputs": [
    {
     "name": "stdout",
     "output_type": "stream",
     "text": [
      "Predicted Result Price: [17290.  9751.  7704.  7062.  5713.  7021. 10696. 11709.  4774.  7777.\n",
      " 18834. 20503. 15482.  8596.  6244.  7021. 10077. 13741.  5503.  7695.\n",
      " 10580.  6244. 17364.  6028.  9489.  4711.  4711.  5094. 17290.  5478.\n",
      "  7695. 14597.  7021. 22815.  8964. 18821. 10077.  7490.  9226.  9174.\n",
      "  7704. 13001. 10077.  7394. 10014. 12912.  4711.  8596.  4711.  8503.\n",
      " 10469.  8859.  6963.  5478.  5094. 10077.  7651.  8596. 10308.  9660.\n",
      "  7394.  9162. 12429. 10077.  6244.  8859.  9958.  8964.  5097.  4711.\n",
      "  7394.  7704.  4774.  6147.  7394. 13498.  7695.  7704.  4711. 11746.\n",
      "  4876.  9174.  4711.  9174.  4774. 18821. 21469.  9594.  5094.  7011.\n",
      "  6244. 11027.  4711.  8206.  5861.  4711.  4711.  7704.  7704.  9436.\n",
      "  5503. 10077.  5478. 15331. 10863.  7704. 10077. 10843.  9436.  7704.\n",
      "  9174.  7021. 11536.  4711. 11917.  7336. 13741.  9646.  8964.  4711.\n",
      " 11103. 14529. 20151.  7011.  5298.  7394. 14739.  7704. 19779.  7021.\n",
      "  6601.  7704.  5478. 11789.  8491.  8544.  7879.  7704.  8544.  4711.\n",
      "  5861. 13862. 10308.  5194.  8491. 22442.  8859.  8596.  8859.  7651.\n",
      " 16201.  4711. 15331.  9489.  9174.  8964.  8676.  8250.  7704.  8544.\n",
      "  6601.  5094.  6028.  8544.  8964.  8491.  5861.  7394. 18821.  7704.\n",
      "  8676.  8596.  8638. 13059. 12166. 13741.  8596. 19846.  7021.  4664.\n",
      " 10863.  7011.  8859.  7704.  5478.  9583.  7704.  9751.  7011.  9258.\n",
      "  5415.  6343.  6028. 11058. 11103.  5713.  5094.  7777.  7704.  7704.\n",
      " 12166. 13741.  8229. 12068.  8491.  7704. 17290.  5194.  8964. 16252.\n",
      "  8544.  5478. 10465.  7704. 11169.  4711.  8676.  4711.  8281.  5507.\n",
      "  5861. 11221.  8491.  5094.  7394.  9164.  5094.  8822. 18821. 14739.\n",
      "  5503.  8544.  6654. 14739. 13312.  8250.  6147.  7704.  6969.  7704.\n",
      "  9436.  8544. 11851.  7704.  6627.  5478.  7011.  9436.  8859.  6028.\n",
      "  5094.  6147.  5094.  8229. 16252.  4874.  9174.  8596.  5503.  5861.\n",
      " 13001. 11536.  8377.  7651.  9436.  8927.  7394. 10460.  5478.  7914.\n",
      "  9164. 11851.  7011.  7704.  8596.  7704. 11027.  5094.  4711.  9174.\n",
      "  9174.  7704.  7777. 11917. 10014.  5478.  5478.  5094.  5089. 10004.\n",
      "  6601.  8544.  6244. 11536.  8281.  8544.  9740.  7704.  5094.  4711.\n",
      "  8491.  6627. 12166. 13269.  7011.  4711.  8491. 13741.  8491.  5713.\n",
      " 12219. 11993.  9751.  6244.  9489. 22815.  8733.  8596.  9958.  5094.\n",
      "  7704.  9174.  5097.  5478.  9660.  8859.  5094.  5713.  9489.  9258.\n",
      "  5478. 20151. 10863.  8733. 10014.  8596.  5478.  9689.  7011.  9751.\n",
      " 11484.  8544. 10687.  8927.  4711.  5089. 10014. 16471.  7704.  5094.\n",
      "  8128.  7704.  7704. 10014. 12166.  9174.  4711.  7879.  7704.  5298.\n",
      "  7704.  6627.  8491.  5861. 11993. 11103.  7651.  9226.  5094.  5094.\n",
      " 11797. 11789.  9121.  7394. 10696.  4711.  7021.  8964. 10863.  5094.\n",
      "  5298.  7651.  8281. 11917.  7011.  5478.  5094. 10901.  7704.  4711.\n",
      "  7394.  9425.  9436.  8491.  5094.  7704. 14529.  8544. 13498. 11158.\n",
      "  9751.  8491.  8822.  8964. 12376. 13741. 11917.  6244.  6244. 10077.\n",
      " 10224. 16382.  9961.  9436.  8822.  8250. 17290.  8491. 11851. 16382.\n",
      "  9174. 12209. 11789.  9751.  4874. 10465.  5094.  4711.  7704. 13741.\n",
      "  5478.  7704.  9436. 16734.  6244.  7704.  8281.  5503. 10308. 11746.\n",
      "  9174.  4647. 15569.  9585.  7394.  9279.  7704.  4711.  8964.  8250.\n",
      "  9174.  8911.  4711.  4711.  5094.  5861.]\n",
      "error:\n",
      "Mean absolute error: 1243.359649122807\n",
      "Mean squared error: 5196945.157894737\n",
      "Root Mean Squared error: 2279.680933353336\n",
      "0.5738411662360672\n"
     ]
    }
   ],
   "source": [
    "from sklearn.tree import DecisionTreeRegressor\n",
    "dtc=DecisionTreeRegressor()\n",
    "dtc.fit(X_train,y_train)\n",
    "dtc.score(X_train,y_train)\n",
    "pred=dtc.predict(X_test)\n",
    "print('Predicted Result Price:',pred)\n",
    "print('error:')\n",
    "print('Mean absolute error:',mean_absolute_error(y_test,pred))\n",
    "print('Mean squared error:',mean_squared_error(y_test,pred))\n",
    "print('Root Mean Squared error:',np.sqrt(mean_squared_error(y_test,pred)))\n",
    "print(r2_score(y_test,pred))"
   ]
  },
  {
   "cell_type": "markdown",
   "metadata": {},
   "source": [
    "# AdaBoostRegressor"
   ]
  },
  {
   "cell_type": "code",
   "execution_count": 111,
   "metadata": {},
   "outputs": [
    {
     "name": "stdout",
     "output_type": "stream",
     "text": [
      "Predicted Result Price: [16219.84     9751.       8434.57     8116.91     7558.12     6681.85\n",
      " 10410.25     7984.94     6336.87    12078.72    14068.14    18610.69\n",
      " 16313.76     8317.22     6000.78     7570.79    10077.      13741.\n",
      "  7049.89     7270.58    10127.86     6244.      16798.09     6502.11\n",
      " 10253.29     5677.04     9747.21     5028.91    16334.97     5478.\n",
      "  7701.97    13516.43     7070.21    17417.69     8192.69    18388.97\n",
      " 10077.       7006.14     9322.27     9174.       8145.57    11545.95\n",
      "  9777.83    13840.33     9356.79    14562.61     6206.86    10106.99\n",
      "  4711.       6213.08    12443.91    11451.85     6270.18    10276.8\n",
      "  5094.      10856.85     7798.12     8596.      11932.2      9309.99\n",
      "  7394.       9473.83    11431.6     10077.       7986.48     8005.7\n",
      "  8773.9      8765.28     6246.99     7050.13     6799.43     7778.57\n",
      "  5332.75     6564.07     7949.75    13605.18     7292.31     7832.28\n",
      "  6131.04525 11535.16     7333.2      9174.       4829.76     9174.\n",
      "  4992.81    19528.89    13138.62     9132.94     5094.       7011.\n",
      "  8044.14     9906.04     4711.       9646.43     5861.       6318.64\n",
      "  4711.       8018.11     8211.52     9436.       6394.64    10077.\n",
      "  5478.      15306.38     9174.01     7721.4     10077.      11122.15\n",
      "  9436.       7717.58     9174.       7303.62    11536.       4711.\n",
      " 18371.7      7999.95     9744.09     8181.71    11020.05     4711.\n",
      "  8169.67    10802.14    17960.98     7011.       5129.06     9356.57\n",
      " 11455.28     7948.47    16115.99     7062.19     7736.07     7853.92\n",
      "  5936.9      9126.64     8491.       8544.       7941.72     8930.11\n",
      "  8857.92     4711.       5861.      11838.1     12733.51     5307.57\n",
      "  8491.      15546.92     7941.69     8596.       8733.36     8643.47\n",
      " 15800.87     5587.29    15306.38    12175.32     9174.       8915.09\n",
      " 14655.36     8132.3      7823.55    11906.31     9939.61     5094.\n",
      "  6313.58     8544.       8592.35     8465.62     5861.       7394.\n",
      " 19026.56     7930.86     8307.47     8596.       9037.1     12545.84\n",
      " 10632.53    13741.       8863.34    19121.57     7164.01     7367.16\n",
      " 10887.8      7011.       8199.88     8459.45     5478.       9306.37\n",
      "  7781.1      8827.92     7816.595   11936.59     5936.13     6120.31\n",
      "  6536.68    11115.09     9035.4      6449.98     5094.       8393.76\n",
      "  8656.11     8645.26     9424.8     13741.       7872.58    12072.43\n",
      "  8869.46     7999.28    16852.32     5537.24    10008.79    13099.33\n",
      "  8544.       5478.       8411.32     9318.       8535.44     6849.21\n",
      " 14245.79     7132.43     8281.       5965.4      7267.52    11062.53\n",
      "  8214.62     5182.25     8730.32     8836.87     5094.       8103.3\n",
      " 19186.78    12663.69     5720.2      8544.       7417.465   12651.11\n",
      " 13093.49     8047.43     6646.32     7247.98     7461.47     9262.29\n",
      "  9436.       8544.      11880.55    10391.87     6544.61     5259.89\n",
      "  7011.       9436.       8483.25     6759.28     5094.       6785.11\n",
      "  5169.77     7970.9     14131.88     5148.69     9174.       8596.\n",
      "  6223.41     5861.      12339.37    11536.       8927.29     8436.09\n",
      "  9144.61     9339.93     8506.37     7510.04     5279.06     7827.35\n",
      "  9682.34    11478.374    8723.52     7737.09     8228.06     7718.67\n",
      " 10571.44     8737.18     7079.81     9174.       9174.       7736.53\n",
      "  8208.12    18371.7     10259.44     5538.58     5674.14     7494.82\n",
      "  8819.27     8476.3      7842.71     8544.       9041.33    11536.\n",
      "  8281.       8544.       9670.91     8007.15     5174.64     6739.38\n",
      "  8192.32     7184.8375  12181.25     9952.33     7011.       4917.01\n",
      "  8491.      13741.       8491.       6241.35    12013.63    11798.05\n",
      "  9751.       7120.19    11116.62    17417.69     9795.09     8596.\n",
      "  8828.29     5094.       7834.26     9174.       5386.05     5205.66\n",
      "  9160.91     9159.51     5094.       6837.98    11878.73    12671.31\n",
      "  5614.49    18716.99    11225.4      9107.44     9368.03     6706.72\n",
      "  5478.       9234.79     7011.       7638.79    10579.08     8544.\n",
      " 10200.57     8078.95     5773.53     8479.82     9986.89     8991.32\n",
      "  7723.75     5094.       8360.97     9031.06     8582.66    10496.97\n",
      " 11335.79     9174.       6798.37525  7666.23     7842.4      5129.06\n",
      "  7658.2425   6184.57     7949.6      5861.      11966.93     8494.41\n",
      "  8290.7      8984.85     5831.6725   5120.83     8080.54     8277.14\n",
      "  8283.33     7404.14    10509.64     7938.91     7214.51     9401.76\n",
      " 13417.22     5094.       5129.06     7771.92     7852.34    12974.24\n",
      "  7011.       5278.51     5094.      12375.63    10221.69     4947.85\n",
      " 14470.25     9085.66     9436.       8491.       5028.91     7835.43\n",
      " 12290.14     8544.      13605.18    11942.82     9751.       8491.\n",
      "  8252.46     9200.18    12023.39    10420.34    12294.74     6795.82\n",
      "  9424.16     9966.18    10254.45    16019.3      9612.51    10046.23\n",
      "  8388.47     8401.94    16736.04     8491.       8955.244   13453.43\n",
      "  9174.      10436.53    12005.02     7911.37     4942.6      7199.97\n",
      "  5094.       7248.39     6206.48    12986.56     5627.08     7741.3\n",
      "  9436.      16257.94     8463.81     8179.99     8566.81     5678.\n",
      "  7273.83     7062.86     9400.76     5481.15     8009.28     8374.61\n",
      "  8855.56     9098.82    10549.4      4711.       7920.37     8140.76\n",
      "  9174.       8924.27     7210.53     7036.51     5094.       5861.     ]\n",
      "error:\n",
      "Mean absolute error: 976.2181896929825\n",
      "Mean squared error: 2800621.7653596285\n",
      "Root Mean Squared error: 1673.505830691853\n",
      "0.7703439868849737\n"
     ]
    }
   ],
   "source": [
    "from sklearn.ensemble import AdaBoostRegressor\n",
    "ad=RandomForestRegressor(n_estimators=100)\n",
    "ad.fit(X_train,y_train)\n",
    "ad.score(X_train,y_train)\n",
    "pred=ad.predict(X_test)\n",
    "print('Predicted Result Price:',pred)\n",
    "print('error:')\n",
    "print('Mean absolute error:',mean_absolute_error(y_test,pred))\n",
    "print('Mean squared error:',mean_squared_error(y_test,pred))\n",
    "print('Root Mean Squared error:',np.sqrt(mean_squared_error(y_test,pred)))\n",
    "print(r2_score(y_test,pred))"
   ]
  },
  {
   "cell_type": "markdown",
   "metadata": {},
   "source": [
    "# KNeighborsRegressor"
   ]
  },
  {
   "cell_type": "code",
   "execution_count": 112,
   "metadata": {},
   "outputs": [
    {
     "name": "stdout",
     "output_type": "stream",
     "text": [
      "Predicted Result Price: [18105.4  9751.  11125.6 11092.8  7998.8  6372.8  9951.6  6460.   8191.8\n",
      " 15748.6 12772.2 18449.4 18449.4  8858.6  7873.6  8102.8 10077.  13741.\n",
      " 10442.6 10802.4 11746.   6244.  15610.2  7281.2  7734.2  6857.4 12395.\n",
      "  5094.  18105.4  5478.  10046.2 12772.2  7294.2 16652.   5933.8 18449.4\n",
      " 10077.   8783.6  8911.   9174.   8250.4  5861.   9703.8 14093.   8134.2\n",
      " 13751.2  6705.2  8471.   4711.   6231.2 14874.4  8776.  11092.8  8949.2\n",
      "  5094.  12861.4  7497.6  8596.   7951.6  8756.6  7394.  10479.6 11847.\n",
      " 10077.   8160.4  7767.8  8544.  11190.   9721.6  7903.4  7924.   7746.\n",
      "  5280.2  8704.8  8075.  14386.6 10120.   7916.8  6357.2 12302.   7695.\n",
      "  9174.   4711.   9174.   6139.2 17980.4 14536.   9258.   5094.   7011.\n",
      "  8166.  10006.2  4711.   9730.6  5861.   7808.6  4711.   7977.   7294.2\n",
      "  9436.   7368.8 10077.   5478.  14503.2 10479.6  7268.8 10077.  11260.\n",
      "  9436.   7704.   9174.   7294.2 11536.   4711.  16287.2  8501.6  7724.4\n",
      "  7212.  11901.8  4711.   7767.8  8932.  18105.4  7011.   6749.2 10240.4\n",
      " 13933.   7527.  14154.4  7815.   7922.4  7704.   6857.2 12923.   8491.\n",
      "  8544.   7012.6  9187.6  5432.2  4711.   5861.  12195.6  7815.   5933.8\n",
      "  8491.  11357.8  7998.8  8596.   8348.2  8921.8 14789.8  8672.8 14503.2\n",
      " 10086.2  9174.  10035.  11725.4  7922.4  7977.  12743.8  8257.   5094.\n",
      "  6677.2  8544.   8029.2  8384.2  5861.   7394.  17980.4  7935.  11725.4\n",
      "  8596.  11894.4 12434.   8563.6 13741.   8344.  18458.   7294.2  7715.4\n",
      " 11229.   7011.   7767.8  8701.2  5478.  11670.8  7430.8  8932.2  8454.4\n",
      "  7656.2  6855.4  7045.   8281.   9760.4  8482.6  6929.4  5094.   6320.8\n",
      "  8430.6  8428.2  9279.6 13741.   7914.  11956.2  6942.2  7767.8 18105.4\n",
      "  5933.8  9993.  11978.   8544.   5478.   9706.8  8418.   8491.   5628.8\n",
      " 11725.4  7704.   8281.   7216.6  5861.  10976.6  7903.4  5170.8  8544.\n",
      "  9342.   5094.   8245.8 17980.4  7672.2  7012.4  8544.   8685.6  7672.2\n",
      " 14267.2  8066.6  8232.4  6231.2  8501.6  8428.8  9436.   8544.   9784.8\n",
      "  7294.2  6286.8  5554.4  7011.   9436.   7977.   8566.   5094.   8704.8\n",
      "  5094.   7368.8 13910.   7432.6  9174.   8596.   7274.   5861.   9435.4\n",
      " 11536.   9384.   8554.2  9110.8 10681.6  9458.2  7232.2  5017.8  7851.\n",
      "  9005.4  6752.6  9361.6  7536.8  9033.2  7682.8  9647.2  8717.8  7228.8\n",
      "  9174.   9174.   7682.8  8186.6 16287.2 11001.   5478.   5478.   8176.2\n",
      "  7301.6  7456.2 11191.8  8544.   8915.8 11536.   8281.   8544.   9025.6\n",
      "  7715.4  5247.6  7527.   8343.4  6945.4 14749.2 10812.   7011.   5775.8\n",
      "  8491.  13741.   8491.   6867.2 11901.8  8938.2  9751.   7393.8  7734.2\n",
      " 16652.   8791.6  8596.   8491.   5094.   7767.8  9174.   7182.8  5017.6\n",
      "  8756.6  8134.2  5094.   7463.2 10086.2 10837.2  5478.  18105.4 11354.\n",
      "  9058.4  8134.2  7721.4  5478.   9730.6  7011.   7735.   9993.   8544.\n",
      "  9930.   6351.2  9215.6  7369.4 11148.   8090.6  7531.4  5094.   9067.2\n",
      "  7536.8  8428.2 11316.  10941.2  9174.   8536.4  7012.6  6810.6  5740.\n",
      "  7704.   8390.4  7903.4  5861.  11806.   7746.   9971.8  8911.   6405.6\n",
      "  5094.   7368.8 12923.   8347.2  7163.8 10164.8  8956.2  7815.   8544.\n",
      " 14733.8  5094.   6713.4  7746.   8260.4 11995.2  7011.   5324.6  5094.\n",
      " 13741.  10699.4  4711.  10141.8  9079.   9436.   8491.   5058.2  7294.2\n",
      " 10812.   8544.  14386.6 12292.4  9751.   8491.   8245.8  9993.  11143.6\n",
      "  7724.4 11995.2  7163.8  8915.8 10077.   7802.8 14569.6  9793.   9858.\n",
      "  7993.4  8140.8 18105.4  8491.   5478.  14569.6  9174.  12923.  13227.6\n",
      "  8184.2  7432.6 10713.   5094.   6838.8  5477.4 13741.   6231.2  7294.2\n",
      "  9436.  17355.2  8482.6 11260.6  8386.4  7368.8  6800.6  5630.8  9174.\n",
      "  6219.   9635.8  9322.2  8669.6 11092.8 12901.4  4711.   7646.2  8031.6\n",
      "  9174.   7369.4  7704.   8140.8  5094.   5861. ]\n",
      "error:\n",
      "Mean absolute error: 1305.3188596491227\n",
      "Mean squared error: 4481677.599210526\n",
      "Root Mean Squared error: 2116.997307322455\n",
      "0.6324943902699955\n"
     ]
    }
   ],
   "source": [
    "from sklearn.neighbors import KNeighborsRegressor\n",
    "knn=KNeighborsRegressor()\n",
    "knn.fit(X_train,y_train)\n",
    "knn.score(X_train,y_train)\n",
    "pred=knn.predict(X_test)\n",
    "print('Predicted Result Price:',pred)\n",
    "print('error:')\n",
    "print('Mean absolute error:',mean_absolute_error(y_test,pred))\n",
    "print('Mean squared error:',mean_squared_error(y_test,pred))\n",
    "print('Root Mean Squared error:',np.sqrt(mean_squared_error(y_test,pred)))\n",
    "print(r2_score(y_test,pred))"
   ]
  },
  {
   "cell_type": "markdown",
   "metadata": {},
   "source": [
    "# Cross Validation"
   ]
  },
  {
   "cell_type": "markdown",
   "metadata": {},
   "source": [
    "We are Cross validating the models to see thre are underfitting or overfitting present or not."
   ]
  },
  {
   "cell_type": "code",
   "execution_count": 113,
   "metadata": {},
   "outputs": [
    {
     "name": "stdout",
     "output_type": "stream",
     "text": [
      "Cross Validation Score of Linear Regression Model: -0.05013277773884939\n"
     ]
    }
   ],
   "source": [
    "from sklearn.model_selection import cross_val_score\n",
    "LR=cross_val_score(LR,X,y,cv=5)\n",
    "print(\"Cross Validation Score of Linear Regression Model:\", LR.mean())"
   ]
  },
  {
   "cell_type": "code",
   "execution_count": 114,
   "metadata": {},
   "outputs": [
    {
     "name": "stdout",
     "output_type": "stream",
     "text": [
      "Cross Validation Score of Rendom Forest Regressor Model: -0.7109042274693531\n"
     ]
    }
   ],
   "source": [
    "RFR=cross_val_score(rf,X,y,cv=5)\n",
    "print(\"Cross Validation Score of Rendom Forest Regressor Model:\", RFR.mean())"
   ]
  },
  {
   "cell_type": "code",
   "execution_count": 115,
   "metadata": {},
   "outputs": [
    {
     "name": "stdout",
     "output_type": "stream",
     "text": [
      "Cross Validation Score of Rendom Forest Regressor Model: -1.002327559690818\n"
     ]
    }
   ],
   "source": [
    "DTC=cross_val_score(dtc,X,y,cv=5)\n",
    "print(\"Cross Validation Score of Rendom Forest Regressor Model:\", DTC.mean())"
   ]
  },
  {
   "cell_type": "code",
   "execution_count": 116,
   "metadata": {},
   "outputs": [
    {
     "name": "stdout",
     "output_type": "stream",
     "text": [
      "Cross Validation Score of Rendom Forest Regressor Model: -0.7291513612372984\n"
     ]
    }
   ],
   "source": [
    "AD=cross_val_score(ad,X,y,cv=5)\n",
    "print(\"Cross Validation Score of Rendom Forest Regressor Model:\", AD.mean())"
   ]
  },
  {
   "cell_type": "code",
   "execution_count": 117,
   "metadata": {},
   "outputs": [
    {
     "name": "stdout",
     "output_type": "stream",
     "text": [
      "Cross Validation Score of Rendom Forest Regressor Model: -0.24839232305289943\n"
     ]
    }
   ],
   "source": [
    "KNN=cross_val_score(knn,X,y,cv=5)\n",
    "print(\"Cross Validation Score of Rendom Forest Regressor Model:\", KNN.mean())"
   ]
  },
  {
   "cell_type": "markdown",
   "metadata": {},
   "source": [
    "After Corss validation here we are applying Hyper Parameter Tuning."
   ]
  },
  {
   "cell_type": "markdown",
   "metadata": {},
   "source": [
    "# Hyper parameter tuning"
   ]
  },
  {
   "cell_type": "code",
   "execution_count": 118,
   "metadata": {},
   "outputs": [
    {
     "name": "stdout",
     "output_type": "stream",
     "text": [
      "r2 / variance :  0.6563726777764363\n",
      "Residual sum of squares: 2875162.39\n"
     ]
    }
   ],
   "source": [
    "from sklearn.model_selection import GridSearchCV\n",
    "from sklearn.ensemble import RandomForestRegressor\n",
    "model = RandomForestRegressor(random_state = 42)\n",
    "parameters = {'bootstrap': [True],'criterion': ['mse'],'max_depth':[None],'n_estimators':[10], 'random_state':[42]}\n",
    "\n",
    "grid = GridSearchCV(model,parameters, cv=None)\n",
    "grid.fit(X_train, y_train)\n",
    "print (\"r2 / variance : \", grid.best_score_)\n",
    "print(\"Residual sum of squares: %.2f\" % np.mean((grid.predict(X_test) - y_test) ** 2))"
   ]
  },
  {
   "cell_type": "markdown",
   "metadata": {},
   "source": [
    "# Prediction"
   ]
  },
  {
   "cell_type": "code",
   "execution_count": 119,
   "metadata": {},
   "outputs": [
    {
     "data": {
      "text/html": [
       "<div>\n",
       "<style scoped>\n",
       "    .dataframe tbody tr th:only-of-type {\n",
       "        vertical-align: middle;\n",
       "    }\n",
       "\n",
       "    .dataframe tbody tr th {\n",
       "        vertical-align: top;\n",
       "    }\n",
       "\n",
       "    .dataframe thead th {\n",
       "        text-align: right;\n",
       "    }\n",
       "</style>\n",
       "<table border=\"1\" class=\"dataframe\">\n",
       "  <thead>\n",
       "    <tr style=\"text-align: right;\">\n",
       "      <th></th>\n",
       "      <th>orginal</th>\n",
       "      <th>predicted</th>\n",
       "    </tr>\n",
       "  </thead>\n",
       "  <tbody>\n",
       "    <tr>\n",
       "      <th>0</th>\n",
       "      <td>17736.0</td>\n",
       "      <td>15915.37</td>\n",
       "    </tr>\n",
       "    <tr>\n",
       "      <th>1</th>\n",
       "      <td>9751.0</td>\n",
       "      <td>9751.00</td>\n",
       "    </tr>\n",
       "    <tr>\n",
       "      <th>2</th>\n",
       "      <td>8160.0</td>\n",
       "      <td>8859.25</td>\n",
       "    </tr>\n",
       "    <tr>\n",
       "      <th>3</th>\n",
       "      <td>6379.0</td>\n",
       "      <td>9132.66</td>\n",
       "    </tr>\n",
       "    <tr>\n",
       "      <th>4</th>\n",
       "      <td>5713.0</td>\n",
       "      <td>7264.04</td>\n",
       "    </tr>\n",
       "    <tr>\n",
       "      <th>...</th>\n",
       "      <td>...</td>\n",
       "      <td>...</td>\n",
       "    </tr>\n",
       "    <tr>\n",
       "      <th>451</th>\n",
       "      <td>8911.0</td>\n",
       "      <td>9284.86</td>\n",
       "    </tr>\n",
       "    <tr>\n",
       "      <th>452</th>\n",
       "      <td>7704.0</td>\n",
       "      <td>7504.90</td>\n",
       "    </tr>\n",
       "    <tr>\n",
       "      <th>453</th>\n",
       "      <td>7021.0</td>\n",
       "      <td>6874.94</td>\n",
       "    </tr>\n",
       "    <tr>\n",
       "      <th>454</th>\n",
       "      <td>5094.0</td>\n",
       "      <td>5094.00</td>\n",
       "    </tr>\n",
       "    <tr>\n",
       "      <th>455</th>\n",
       "      <td>5861.0</td>\n",
       "      <td>5861.00</td>\n",
       "    </tr>\n",
       "  </tbody>\n",
       "</table>\n",
       "<p>456 rows × 2 columns</p>\n",
       "</div>"
      ],
      "text/plain": [
       "     orginal  predicted\n",
       "0    17736.0   15915.37\n",
       "1     9751.0    9751.00\n",
       "2     8160.0    8859.25\n",
       "3     6379.0    9132.66\n",
       "4     5713.0    7264.04\n",
       "..       ...        ...\n",
       "451   8911.0    9284.86\n",
       "452   7704.0    7504.90\n",
       "453   7021.0    6874.94\n",
       "454   5094.0    5094.00\n",
       "455   5861.0    5861.00\n",
       "\n",
       "[456 rows x 2 columns]"
      ]
     },
     "execution_count": 119,
     "metadata": {},
     "output_type": "execute_result"
    }
   ],
   "source": [
    "import numpy as np\n",
    "a = np.array(y_test)\n",
    "predicted = np.array(predrf)\n",
    "df_con = pd.DataFrame({\"orginal\":a, \"predicted\":predicted}, index = range(len(a)))\n",
    "df_con"
   ]
  },
  {
   "cell_type": "code",
   "execution_count": 120,
   "metadata": {},
   "outputs": [
    {
     "data": {
      "image/png": "[encoded data removed]",
      "text/plain": [
       "<Figure size 432x288 with 1 Axes>"
      ]
     },
     "metadata": {
      "needs_background": "light"
     },
     "output_type": "display_data"
    }
   ],
   "source": [
    "plt.scatter(x=y_test, y=predrf, color = \"blue\")\n",
    "plt.plot(y_test,y_test, color='r')\n",
    "plt.xlabel(\"Actual\", fontsize =20)\n",
    "plt.ylabel(\"Predicted\", fontsize=20)\n",
    "plt.title(\"The predicted model plot\", fontsize=20)\n",
    "plt.show()"
   ]
  },
  {
   "cell_type": "markdown",
   "metadata": {},
   "source": [
    "# Saving Final Model"
   ]
  },
  {
   "cell_type": "code",
   "execution_count": null,
   "metadata": {},
   "outputs": [],
   "source": [
    "import joblib\n",
    "joblib.dump(rf,'Flight_Fare_Prediction_Model.obj')"
   ]
  },
  {
   "cell_type": "code",
   "execution_count": null,
   "metadata": {},
   "outputs": [],
   "source": []
  }
 ],
 "metadata": {
  "kernelspec": {
   "display_name": "Python 3",
   "language": "python",
   "name": "python3"
  },
  "language_info": {
   "codemirror_mode": {
    "name": "ipython",
    "version": 3
   },
   "file_extension": ".py",
   "mimetype": "text/x-python",
   "name": "python",
   "nbconvert_exporter": "python",
   "pygments_lexer": "ipython3",
   "version": "3.8.8"
  }
 },
 "nbformat": 4,
 "nbformat_minor": 4
}
