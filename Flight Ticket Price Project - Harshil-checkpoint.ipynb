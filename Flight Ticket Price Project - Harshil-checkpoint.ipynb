{
 "cells": [
  {
   "cell_type": "code",
   "execution_count": 1,
   "id": "603ffae8",
   "metadata": {},
   "outputs": [],
   "source": [
    "import pandas as pd\n",
    "import numpy as np\n",
    "import matplotlib.pyplot as plt\n",
    "import seaborn as sns\n",
    "import warnings\n",
    "warnings.filterwarnings('ignore')"
   ]
  },
  {
   "cell_type": "code",
   "execution_count": 2,
   "id": "261e42d1",
   "metadata": {},
   "outputs": [],
   "source": [
    "df_train=pd.read_excel(r\"C:\\Users\\Harshil Goradia\\OneDrive\\Desktop\\Data_train.xlsx\")"
   ]
  },
  {
   "cell_type": "code",
   "execution_count": 3,
   "id": "9b2221c8",
   "metadata": {},
   "outputs": [],
   "source": [
    "df_test=pd.read_excel(r\"C:\\Users\\Harshil Goradia\\OneDrive\\Desktop\\Test_set.xlsx\")"
   ]
  },
  {
   "cell_type": "code",
   "execution_count": 4,
   "id": "7dd9e22b",
   "metadata": {},
   "outputs": [
    {
     "data": {
      "text/html": [
       "<div>\n",
       "<style scoped>\n",
       "    .dataframe tbody tr th:only-of-type {\n",
       "        vertical-align: middle;\n",
       "    }\n",
       "\n",
       "    .dataframe tbody tr th {\n",
       "        vertical-align: top;\n",
       "    }\n",
       "\n",
       "    .dataframe thead th {\n",
       "        text-align: right;\n",
       "    }\n",
       "</style>\n",
       "<table border=\"1\" class=\"dataframe\">\n",
       "  <thead>\n",
       "    <tr style=\"text-align: right;\">\n",
       "      <th></th>\n",
       "      <th>Airline</th>\n",
       "      <th>Date_of_Journey</th>\n",
       "      <th>Source</th>\n",
       "      <th>Destination</th>\n",
       "      <th>Route</th>\n",
       "      <th>Dep_Time</th>\n",
       "      <th>Arrival_Time</th>\n",
       "      <th>Duration</th>\n",
       "      <th>Total_Stops</th>\n",
       "      <th>Additional_Info</th>\n",
       "      <th>Price</th>\n",
       "    </tr>\n",
       "  </thead>\n",
       "  <tbody>\n",
       "    <tr>\n",
       "      <th>0</th>\n",
       "      <td>IndiGo</td>\n",
       "      <td>24/03/2019</td>\n",
       "      <td>Banglore</td>\n",
       "      <td>New Delhi</td>\n",
       "      <td>BLR → DEL</td>\n",
       "      <td>22:20</td>\n",
       "      <td>01:10 22 Mar</td>\n",
       "      <td>2h 50m</td>\n",
       "      <td>non-stop</td>\n",
       "      <td>No info</td>\n",
       "      <td>3897</td>\n",
       "    </tr>\n",
       "    <tr>\n",
       "      <th>1</th>\n",
       "      <td>Air India</td>\n",
       "      <td>1/05/2019</td>\n",
       "      <td>Kolkata</td>\n",
       "      <td>Banglore</td>\n",
       "      <td>CCU → IXR → BBI → BLR</td>\n",
       "      <td>05:50</td>\n",
       "      <td>13:15</td>\n",
       "      <td>7h 25m</td>\n",
       "      <td>2 stops</td>\n",
       "      <td>No info</td>\n",
       "      <td>7662</td>\n",
       "    </tr>\n",
       "    <tr>\n",
       "      <th>2</th>\n",
       "      <td>Jet Airways</td>\n",
       "      <td>9/06/2019</td>\n",
       "      <td>Delhi</td>\n",
       "      <td>Cochin</td>\n",
       "      <td>DEL → LKO → BOM → COK</td>\n",
       "      <td>09:25</td>\n",
       "      <td>04:25 10 Jun</td>\n",
       "      <td>19h</td>\n",
       "      <td>2 stops</td>\n",
       "      <td>No info</td>\n",
       "      <td>13882</td>\n",
       "    </tr>\n",
       "    <tr>\n",
       "      <th>3</th>\n",
       "      <td>IndiGo</td>\n",
       "      <td>12/05/2019</td>\n",
       "      <td>Kolkata</td>\n",
       "      <td>Banglore</td>\n",
       "      <td>CCU → NAG → BLR</td>\n",
       "      <td>18:05</td>\n",
       "      <td>23:30</td>\n",
       "      <td>5h 25m</td>\n",
       "      <td>1 stop</td>\n",
       "      <td>No info</td>\n",
       "      <td>6218</td>\n",
       "    </tr>\n",
       "    <tr>\n",
       "      <th>4</th>\n",
       "      <td>IndiGo</td>\n",
       "      <td>01/03/2019</td>\n",
       "      <td>Banglore</td>\n",
       "      <td>New Delhi</td>\n",
       "      <td>BLR → NAG → DEL</td>\n",
       "      <td>16:50</td>\n",
       "      <td>21:35</td>\n",
       "      <td>4h 45m</td>\n",
       "      <td>1 stop</td>\n",
       "      <td>No info</td>\n",
       "      <td>13302</td>\n",
       "    </tr>\n",
       "  </tbody>\n",
       "</table>\n",
       "</div>"
      ],
      "text/plain": [
       "       Airline Date_of_Journey    Source Destination                  Route  \\\n",
       "0       IndiGo      24/03/2019  Banglore   New Delhi              BLR → DEL   \n",
       "1    Air India       1/05/2019   Kolkata    Banglore  CCU → IXR → BBI → BLR   \n",
       "2  Jet Airways       9/06/2019     Delhi      Cochin  DEL → LKO → BOM → COK   \n",
       "3       IndiGo      12/05/2019   Kolkata    Banglore        CCU → NAG → BLR   \n",
       "4       IndiGo      01/03/2019  Banglore   New Delhi        BLR → NAG → DEL   \n",
       "\n",
       "  Dep_Time  Arrival_Time Duration Total_Stops Additional_Info  Price  \n",
       "0    22:20  01:10 22 Mar   2h 50m    non-stop         No info   3897  \n",
       "1    05:50         13:15   7h 25m     2 stops         No info   7662  \n",
       "2    09:25  04:25 10 Jun      19h     2 stops         No info  13882  \n",
       "3    18:05         23:30   5h 25m      1 stop         No info   6218  \n",
       "4    16:50         21:35   4h 45m      1 stop         No info  13302  "
      ]
     },
     "execution_count": 4,
     "metadata": {},
     "output_type": "execute_result"
    }
   ],
   "source": [
    "df_train.head()"
   ]
  },
  {
   "cell_type": "code",
   "execution_count": 5,
   "id": "115cc515",
   "metadata": {},
   "outputs": [
    {
     "data": {
      "text/html": [
       "<div>\n",
       "<style scoped>\n",
       "    .dataframe tbody tr th:only-of-type {\n",
       "        vertical-align: middle;\n",
       "    }\n",
       "\n",
       "    .dataframe tbody tr th {\n",
       "        vertical-align: top;\n",
       "    }\n",
       "\n",
       "    .dataframe thead th {\n",
       "        text-align: right;\n",
       "    }\n",
       "</style>\n",
       "<table border=\"1\" class=\"dataframe\">\n",
       "  <thead>\n",
       "    <tr style=\"text-align: right;\">\n",
       "      <th></th>\n",
       "      <th>Airline</th>\n",
       "      <th>Date_of_Journey</th>\n",
       "      <th>Source</th>\n",
       "      <th>Destination</th>\n",
       "      <th>Route</th>\n",
       "      <th>Dep_Time</th>\n",
       "      <th>Arrival_Time</th>\n",
       "      <th>Duration</th>\n",
       "      <th>Total_Stops</th>\n",
       "      <th>Additional_Info</th>\n",
       "      <th>Price</th>\n",
       "    </tr>\n",
       "  </thead>\n",
       "  <tbody>\n",
       "    <tr>\n",
       "      <th>0</th>\n",
       "      <td>Jet Airways</td>\n",
       "      <td>6/06/2019</td>\n",
       "      <td>Delhi</td>\n",
       "      <td>Cochin</td>\n",
       "      <td>DEL → BOM → COK</td>\n",
       "      <td>17:30</td>\n",
       "      <td>04:25 07 Jun</td>\n",
       "      <td>10h 55m</td>\n",
       "      <td>1 stop</td>\n",
       "      <td>No info</td>\n",
       "      <td>15998</td>\n",
       "    </tr>\n",
       "    <tr>\n",
       "      <th>1</th>\n",
       "      <td>IndiGo</td>\n",
       "      <td>12/05/2019</td>\n",
       "      <td>Kolkata</td>\n",
       "      <td>Banglore</td>\n",
       "      <td>CCU → MAA → BLR</td>\n",
       "      <td>06:20</td>\n",
       "      <td>10:20</td>\n",
       "      <td>4h</td>\n",
       "      <td>1 stop</td>\n",
       "      <td>No info</td>\n",
       "      <td>16612</td>\n",
       "    </tr>\n",
       "    <tr>\n",
       "      <th>2</th>\n",
       "      <td>Jet Airways</td>\n",
       "      <td>21/05/2019</td>\n",
       "      <td>Delhi</td>\n",
       "      <td>Cochin</td>\n",
       "      <td>DEL → BOM → COK</td>\n",
       "      <td>19:15</td>\n",
       "      <td>19:00 22 May</td>\n",
       "      <td>23h 45m</td>\n",
       "      <td>1 stop</td>\n",
       "      <td>In-flight meal not included</td>\n",
       "      <td>25572</td>\n",
       "    </tr>\n",
       "    <tr>\n",
       "      <th>3</th>\n",
       "      <td>Multiple carriers</td>\n",
       "      <td>21/05/2019</td>\n",
       "      <td>Delhi</td>\n",
       "      <td>Cochin</td>\n",
       "      <td>DEL → BOM → COK</td>\n",
       "      <td>08:00</td>\n",
       "      <td>21:00</td>\n",
       "      <td>13h</td>\n",
       "      <td>1 stop</td>\n",
       "      <td>No info</td>\n",
       "      <td>25778</td>\n",
       "    </tr>\n",
       "    <tr>\n",
       "      <th>4</th>\n",
       "      <td>Air Asia</td>\n",
       "      <td>24/06/2019</td>\n",
       "      <td>Banglore</td>\n",
       "      <td>Delhi</td>\n",
       "      <td>BLR → DEL</td>\n",
       "      <td>23:55</td>\n",
       "      <td>02:45 25 Jun</td>\n",
       "      <td>2h 50m</td>\n",
       "      <td>non-stop</td>\n",
       "      <td>No info</td>\n",
       "      <td>16934</td>\n",
       "    </tr>\n",
       "  </tbody>\n",
       "</table>\n",
       "</div>"
      ],
      "text/plain": [
       "             Airline Date_of_Journey    Source Destination            Route  \\\n",
       "0        Jet Airways       6/06/2019     Delhi      Cochin  DEL → BOM → COK   \n",
       "1             IndiGo      12/05/2019   Kolkata    Banglore  CCU → MAA → BLR   \n",
       "2        Jet Airways      21/05/2019     Delhi      Cochin  DEL → BOM → COK   \n",
       "3  Multiple carriers      21/05/2019     Delhi      Cochin  DEL → BOM → COK   \n",
       "4           Air Asia      24/06/2019  Banglore       Delhi        BLR → DEL   \n",
       "\n",
       "  Dep_Time  Arrival_Time Duration Total_Stops              Additional_Info  \\\n",
       "0    17:30  04:25 07 Jun  10h 55m      1 stop                      No info   \n",
       "1    06:20         10:20       4h      1 stop                      No info   \n",
       "2    19:15  19:00 22 May  23h 45m      1 stop  In-flight meal not included   \n",
       "3    08:00         21:00      13h      1 stop                      No info   \n",
       "4    23:55  02:45 25 Jun   2h 50m    non-stop                      No info   \n",
       "\n",
       "   Price  \n",
       "0  15998  \n",
       "1  16612  \n",
       "2  25572  \n",
       "3  25778  \n",
       "4  16934  "
      ]
     },
     "execution_count": 5,
     "metadata": {},
     "output_type": "execute_result"
    }
   ],
   "source": [
    "df_test.head()"
   ]
  },
  {
   "cell_type": "code",
   "execution_count": 6,
   "id": "e6d2f1e2",
   "metadata": {},
   "outputs": [
    {
     "name": "stdout",
     "output_type": "stream",
     "text": [
      "<class 'pandas.core.frame.DataFrame'>\n",
      "RangeIndex: 10683 entries, 0 to 10682\n",
      "Data columns (total 11 columns):\n",
      " #   Column           Non-Null Count  Dtype \n",
      "---  ------           --------------  ----- \n",
      " 0   Airline          10683 non-null  object\n",
      " 1   Date_of_Journey  10683 non-null  object\n",
      " 2   Source           10683 non-null  object\n",
      " 3   Destination      10683 non-null  object\n",
      " 4   Route            10682 non-null  object\n",
      " 5   Dep_Time         10683 non-null  object\n",
      " 6   Arrival_Time     10683 non-null  object\n",
      " 7   Duration         10683 non-null  object\n",
      " 8   Total_Stops      10682 non-null  object\n",
      " 9   Additional_Info  10683 non-null  object\n",
      " 10  Price            10683 non-null  int64 \n",
      "dtypes: int64(1), object(10)\n",
      "memory usage: 918.2+ KB\n"
     ]
    }
   ],
   "source": [
    "df_train.info()"
   ]
  },
  {
   "cell_type": "code",
   "execution_count": 7,
   "id": "6e1929c9",
   "metadata": {},
   "outputs": [
    {
     "name": "stdout",
     "output_type": "stream",
     "text": [
      "<class 'pandas.core.frame.DataFrame'>\n",
      "RangeIndex: 2671 entries, 0 to 2670\n",
      "Data columns (total 11 columns):\n",
      " #   Column           Non-Null Count  Dtype \n",
      "---  ------           --------------  ----- \n",
      " 0   Airline          2671 non-null   object\n",
      " 1   Date_of_Journey  2671 non-null   object\n",
      " 2   Source           2671 non-null   object\n",
      " 3   Destination      2671 non-null   object\n",
      " 4   Route            2671 non-null   object\n",
      " 5   Dep_Time         2671 non-null   object\n",
      " 6   Arrival_Time     2671 non-null   object\n",
      " 7   Duration         2671 non-null   object\n",
      " 8   Total_Stops      2671 non-null   object\n",
      " 9   Additional_Info  2671 non-null   object\n",
      " 10  Price            2671 non-null   int64 \n",
      "dtypes: int64(1), object(10)\n",
      "memory usage: 229.7+ KB\n"
     ]
    }
   ],
   "source": [
    "df_test.info()"
   ]
  },
  {
   "cell_type": "code",
   "execution_count": 8,
   "id": "d96d37fc",
   "metadata": {},
   "outputs": [
    {
     "data": {
      "text/plain": [
       "Airline            0\n",
       "Date_of_Journey    0\n",
       "Source             0\n",
       "Destination        0\n",
       "Route              1\n",
       "Dep_Time           0\n",
       "Arrival_Time       0\n",
       "Duration           0\n",
       "Total_Stops        1\n",
       "Additional_Info    0\n",
       "Price              0\n",
       "dtype: int64"
      ]
     },
     "execution_count": 8,
     "metadata": {},
     "output_type": "execute_result"
    }
   ],
   "source": [
    "df_train.isnull().sum()"
   ]
  },
  {
   "cell_type": "code",
   "execution_count": 9,
   "id": "e83a4cc8",
   "metadata": {},
   "outputs": [
    {
     "data": {
      "text/plain": [
       "Airline            0\n",
       "Date_of_Journey    0\n",
       "Source             0\n",
       "Destination        0\n",
       "Route              0\n",
       "Dep_Time           0\n",
       "Arrival_Time       0\n",
       "Duration           0\n",
       "Total_Stops        0\n",
       "Additional_Info    0\n",
       "Price              0\n",
       "dtype: int64"
      ]
     },
     "execution_count": 9,
     "metadata": {},
     "output_type": "execute_result"
    }
   ],
   "source": [
    "df_test.isnull().sum()"
   ]
  },
  {
   "cell_type": "code",
   "execution_count": 10,
   "id": "f78ed873",
   "metadata": {},
   "outputs": [],
   "source": [
    "df_train.dropna(inplace=True)"
   ]
  },
  {
   "cell_type": "code",
   "execution_count": 11,
   "id": "99df0ded",
   "metadata": {},
   "outputs": [
    {
     "data": {
      "text/plain": [
       "<AxesSubplot:>"
      ]
     },
     "execution_count": 11,
     "metadata": {},
     "output_type": "execute_result"
    },
    {
     "data": {
      "image/png": "[encoded data removed]",
      "text/plain": [
       "<Figure size 432x288 with 2 Axes>"
      ]
     },
     "metadata": {
      "needs_background": "light"
     },
     "output_type": "display_data"
    }
   ],
   "source": [
    "sns.heatmap(df_train.isnull())"
   ]
  },
  {
   "cell_type": "markdown",
   "id": "7842a9ce",
   "metadata": {},
   "source": [
    "There are no null values"
   ]
  },
  {
   "cell_type": "code",
   "execution_count": 12,
   "id": "0dcd2131",
   "metadata": {},
   "outputs": [
    {
     "data": {
      "text/plain": [
       "<AxesSubplot:>"
      ]
     },
     "execution_count": 12,
     "metadata": {},
     "output_type": "execute_result"
    },
    {
     "data": {
      "image/png": "[encoded data removed]",
      "text/plain": [
       "<Figure size 432x288 with 2 Axes>"
      ]
     },
     "metadata": {
      "needs_background": "light"
     },
     "output_type": "display_data"
    }
   ],
   "source": [
    "sns.heatmap(df_test.isnull())"
   ]
  },
  {
   "cell_type": "markdown",
   "id": "707ce946",
   "metadata": {},
   "source": [
    "There are no null values "
   ]
  },
  {
   "cell_type": "code",
   "execution_count": 13,
   "id": "df020f0d",
   "metadata": {},
   "outputs": [
    {
     "data": {
      "text/plain": [
       "(array([ 0,  1,  2,  3,  4,  5,  6,  7,  8,  9, 10, 11]),\n",
       " [Text(0, 0, 'IndiGo'),\n",
       "  Text(1, 0, 'Air India'),\n",
       "  Text(2, 0, 'Jet Airways'),\n",
       "  Text(3, 0, 'SpiceJet'),\n",
       "  Text(4, 0, 'Multiple carriers'),\n",
       "  Text(5, 0, 'GoAir'),\n",
       "  Text(6, 0, 'Vistara'),\n",
       "  Text(7, 0, 'Air Asia'),\n",
       "  Text(8, 0, 'Vistara Premium economy'),\n",
       "  Text(9, 0, 'Jet Airways Business'),\n",
       "  Text(10, 0, 'Multiple carriers Premium economy'),\n",
       "  Text(11, 0, 'Trujet')])"
      ]
     },
     "execution_count": 13,
     "metadata": {},
     "output_type": "execute_result"
    },
    {
     "data": {
      "image/png": "[encoded data removed]",
      "text/plain": [
       "<Figure size 432x288 with 1 Axes>"
      ]
     },
     "metadata": {
      "needs_background": "light"
     },
     "output_type": "display_data"
    }
   ],
   "source": [
    "plot=plt.figure()\n",
    "sns.countplot('Airline',data=df_train)\n",
    "plt.xticks(rotation=90)"
   ]
  },
  {
   "cell_type": "markdown",
   "id": "dc8da1d1",
   "metadata": {},
   "source": [
    "Jet Airways has the highest count in training data"
   ]
  },
  {
   "cell_type": "code",
   "execution_count": 14,
   "id": "ee20fd78",
   "metadata": {},
   "outputs": [
    {
     "data": {
      "text/plain": [
       "(array([ 0,  1,  2,  3,  4,  5,  6,  7,  8,  9, 10]),\n",
       " [Text(0, 0, 'Jet Airways'),\n",
       "  Text(1, 0, 'IndiGo'),\n",
       "  Text(2, 0, 'Multiple carriers'),\n",
       "  Text(3, 0, 'Air Asia'),\n",
       "  Text(4, 0, 'Air India'),\n",
       "  Text(5, 0, 'Vistara'),\n",
       "  Text(6, 0, 'SpiceJet'),\n",
       "  Text(7, 0, 'Vistara Premium economy'),\n",
       "  Text(8, 0, 'GoAir'),\n",
       "  Text(9, 0, 'Multiple carriers Premium economy'),\n",
       "  Text(10, 0, 'Jet Airways Business')])"
      ]
     },
     "execution_count": 14,
     "metadata": {},
     "output_type": "execute_result"
    },
    {
     "data": {
      "image/png": "[encoded data removed]",
      "text/plain": [
       "<Figure size 432x288 with 1 Axes>"
      ]
     },
     "metadata": {
      "needs_background": "light"
     },
     "output_type": "display_data"
    }
   ],
   "source": [
    "plot=plt.figure()\n",
    "sns.countplot('Airline',data=df_test)\n",
    "plt.xticks(rotation=90)"
   ]
  },
  {
   "cell_type": "markdown",
   "id": "b98a1d74",
   "metadata": {},
   "source": [
    "In test data also Jet Airways has highest counts"
   ]
  },
  {
   "cell_type": "code",
   "execution_count": 15,
   "id": "4bc99ed3",
   "metadata": {},
   "outputs": [
    {
     "data": {
      "text/plain": [
       "(array([0, 1, 2, 3, 4]),\n",
       " [Text(0, 0, 'Banglore'),\n",
       "  Text(1, 0, 'Kolkata'),\n",
       "  Text(2, 0, 'Delhi'),\n",
       "  Text(3, 0, 'Chennai'),\n",
       "  Text(4, 0, 'Mumbai')])"
      ]
     },
     "execution_count": 15,
     "metadata": {},
     "output_type": "execute_result"
    },
    {
     "data": {
      "image/png": "[encoded data removed]",
      "text/plain": [
       "<Figure size 432x288 with 1 Axes>"
      ]
     },
     "metadata": {
      "needs_background": "light"
     },
     "output_type": "display_data"
    }
   ],
   "source": [
    "plot=plt.figure()\n",
    "sns.countplot('Source',data=df_train)\n",
    "plt.xticks(rotation=90)"
   ]
  },
  {
   "cell_type": "markdown",
   "id": "ac5882d9",
   "metadata": {},
   "source": [
    "Delhi has the highest counts in Source column in Train dataset"
   ]
  },
  {
   "cell_type": "code",
   "execution_count": 16,
   "id": "af93bbdc",
   "metadata": {},
   "outputs": [
    {
     "data": {
      "text/plain": [
       "(array([0, 1, 2, 3, 4]),\n",
       " [Text(0, 0, 'Delhi'),\n",
       "  Text(1, 0, 'Kolkata'),\n",
       "  Text(2, 0, 'Banglore'),\n",
       "  Text(3, 0, 'Mumbai'),\n",
       "  Text(4, 0, 'Chennai')])"
      ]
     },
     "execution_count": 16,
     "metadata": {},
     "output_type": "execute_result"
    },
    {
     "data": {
      "image/png": "[encoded data removed]",
      "text/plain": [
       "<Figure size 432x288 with 1 Axes>"
      ]
     },
     "metadata": {
      "needs_background": "light"
     },
     "output_type": "display_data"
    }
   ],
   "source": [
    "plot=plt.figure()\n",
    "sns.countplot('Source',data=df_test)\n",
    "plt.xticks(rotation=90)"
   ]
  },
  {
   "cell_type": "markdown",
   "id": "bf715012",
   "metadata": {},
   "source": [
    "Delhi has the highest counts in Source column in Test dataset"
   ]
  },
  {
   "cell_type": "code",
   "execution_count": 17,
   "id": "60bc6180",
   "metadata": {},
   "outputs": [
    {
     "data": {
      "text/plain": [
       "(array([0, 1, 2, 3, 4, 5]),\n",
       " [Text(0, 0, 'New Delhi'),\n",
       "  Text(1, 0, 'Banglore'),\n",
       "  Text(2, 0, 'Cochin'),\n",
       "  Text(3, 0, 'Kolkata'),\n",
       "  Text(4, 0, 'Delhi'),\n",
       "  Text(5, 0, 'Hyderabad')])"
      ]
     },
     "execution_count": 17,
     "metadata": {},
     "output_type": "execute_result"
    },
    {
     "data": {
      "image/png": "[encoded data removed]",
      "text/plain": [
       "<Figure size 432x288 with 1 Axes>"
      ]
     },
     "metadata": {
      "needs_background": "light"
     },
     "output_type": "display_data"
    }
   ],
   "source": [
    "plot=plt.figure()\n",
    "sns.countplot('Destination',data=df_train)\n",
    "plt.xticks(rotation=90)"
   ]
  },
  {
   "cell_type": "markdown",
   "id": "b0757ae1",
   "metadata": {},
   "source": [
    "Cochin has highest count in Destination column"
   ]
  },
  {
   "cell_type": "code",
   "execution_count": 18,
   "id": "8ff441c5",
   "metadata": {},
   "outputs": [
    {
     "data": {
      "text/plain": [
       "(array([0, 1, 2, 3, 4, 5]),\n",
       " [Text(0, 0, 'Cochin'),\n",
       "  Text(1, 0, 'Banglore'),\n",
       "  Text(2, 0, 'Delhi'),\n",
       "  Text(3, 0, 'New Delhi'),\n",
       "  Text(4, 0, 'Hyderabad'),\n",
       "  Text(5, 0, 'Kolkata')])"
      ]
     },
     "execution_count": 18,
     "metadata": {},
     "output_type": "execute_result"
    },
    {
     "data": {
      "image/png": "[encoded data removed]",
      "text/plain": [
       "<Figure size 432x288 with 1 Axes>"
      ]
     },
     "metadata": {
      "needs_background": "light"
     },
     "output_type": "display_data"
    }
   ],
   "source": [
    "plot=plt.figure()\n",
    "sns.countplot('Destination',data=df_test)\n",
    "plt.xticks(rotation=90)"
   ]
  },
  {
   "cell_type": "markdown",
   "id": "42a1d688",
   "metadata": {},
   "source": [
    "Cochin has highest count here"
   ]
  },
  {
   "cell_type": "code",
   "execution_count": 19,
   "id": "a4539b8a",
   "metadata": {},
   "outputs": [
    {
     "data": {
      "text/plain": [
       "(array([0, 1, 2, 3, 4]),\n",
       " [Text(0, 0, 'non-stop'),\n",
       "  Text(1, 0, '2 stops'),\n",
       "  Text(2, 0, '1 stop'),\n",
       "  Text(3, 0, '3 stops'),\n",
       "  Text(4, 0, '4 stops')])"
      ]
     },
     "execution_count": 19,
     "metadata": {},
     "output_type": "execute_result"
    },
    {
     "data": {
      "image/png": "[encoded data removed]",
      "text/plain": [
       "<Figure size 432x288 with 1 Axes>"
      ]
     },
     "metadata": {
      "needs_background": "light"
     },
     "output_type": "display_data"
    }
   ],
   "source": [
    "plot=plt.figure()\n",
    "sns.countplot('Total_Stops',data=df_train)\n",
    "plt.xticks(rotation=90)"
   ]
  },
  {
   "cell_type": "markdown",
   "id": "6c2a8d2d",
   "metadata": {},
   "source": [
    "More than 5000 flights has only 1 stop"
   ]
  },
  {
   "cell_type": "code",
   "execution_count": 20,
   "id": "9f25ae1a",
   "metadata": {},
   "outputs": [
    {
     "data": {
      "text/plain": [
       "(array([0, 1, 2, 3, 4]),\n",
       " [Text(0, 0, '1 stop'),\n",
       "  Text(1, 0, 'non-stop'),\n",
       "  Text(2, 0, '2 stops'),\n",
       "  Text(3, 0, '3 stops'),\n",
       "  Text(4, 0, '4 stops')])"
      ]
     },
     "execution_count": 20,
     "metadata": {},
     "output_type": "execute_result"
    },
    {
     "data": {
      "image/png": "[encoded data removed]",
      "text/plain": [
       "<Figure size 432x288 with 1 Axes>"
      ]
     },
     "metadata": {
      "needs_background": "light"
     },
     "output_type": "display_data"
    }
   ],
   "source": [
    "plot=plt.figure()\n",
    "sns.countplot('Total_Stops',data=df_test)\n",
    "plt.xticks(rotation=90)"
   ]
  },
  {
   "cell_type": "markdown",
   "id": "5b9ca218",
   "metadata": {},
   "source": [
    "1400 flights have only 1 stop"
   ]
  },
  {
   "cell_type": "code",
   "execution_count": 21,
   "id": "addec86d",
   "metadata": {},
   "outputs": [
    {
     "data": {
      "text/plain": [
       "(array([0, 1, 2, 3, 4, 5, 6, 7, 8, 9]),\n",
       " [Text(0, 0, 'No info'),\n",
       "  Text(1, 0, 'In-flight meal not included'),\n",
       "  Text(2, 0, 'No check-in baggage included'),\n",
       "  Text(3, 0, '1 Short layover'),\n",
       "  Text(4, 0, 'No Info'),\n",
       "  Text(5, 0, '1 Long layover'),\n",
       "  Text(6, 0, 'Change airports'),\n",
       "  Text(7, 0, 'Business class'),\n",
       "  Text(8, 0, 'Red-eye flight'),\n",
       "  Text(9, 0, '2 Long layover')])"
      ]
     },
     "execution_count": 21,
     "metadata": {},
     "output_type": "execute_result"
    },
    {
     "data": {
      "image/png": "[encoded data removed]",
      "text/plain": [
       "<Figure size 432x288 with 1 Axes>"
      ]
     },
     "metadata": {
      "needs_background": "light"
     },
     "output_type": "display_data"
    }
   ],
   "source": [
    "plot=plt.figure()\n",
    "sns.countplot('Additional_Info',data=df_train)\n",
    "plt.xticks(rotation=90)"
   ]
  },
  {
   "cell_type": "code",
   "execution_count": 22,
   "id": "9e064402",
   "metadata": {},
   "outputs": [],
   "source": [
    "df_train['Date_of_Journey']=pd.to_datetime(df_train['Date_of_Journey'])\n",
    "df_train['Dep_Time']=pd.to_datetime(df_train['Dep_Time'],format='%H:%M').dt.time"
   ]
  },
  {
   "cell_type": "code",
   "execution_count": 23,
   "id": "e68c64b7",
   "metadata": {},
   "outputs": [],
   "source": [
    "df_test['Date_of_Journey']=pd.to_datetime(df_test['Date_of_Journey'])\n",
    "df_test['Dep_Time']=pd.to_datetime(df_test['Dep_Time'],format='%H:%M').dt.time"
   ]
  },
  {
   "cell_type": "code",
   "execution_count": 24,
   "id": "f841702e",
   "metadata": {},
   "outputs": [
    {
     "data": {
      "text/plain": [
       "0       2019-03-24\n",
       "1       2019-01-05\n",
       "2       2019-09-06\n",
       "3       2019-12-05\n",
       "4       2019-01-03\n",
       "           ...    \n",
       "10678   2019-09-04\n",
       "10679   2019-04-27\n",
       "10680   2019-04-27\n",
       "10681   2019-01-03\n",
       "10682   2019-09-05\n",
       "Name: Date_of_Journey, Length: 10682, dtype: datetime64[ns]"
      ]
     },
     "execution_count": 24,
     "metadata": {},
     "output_type": "execute_result"
    }
   ],
   "source": [
    "df_train['Date_of_Journey']"
   ]
  },
  {
   "cell_type": "code",
   "execution_count": 25,
   "id": "a2c1def8",
   "metadata": {},
   "outputs": [
    {
     "data": {
      "text/plain": [
       "0      2019-06-06\n",
       "1      2019-12-05\n",
       "2      2019-05-21\n",
       "3      2019-05-21\n",
       "4      2019-06-24\n",
       "          ...    \n",
       "2666   2019-06-06\n",
       "2667   2019-03-27\n",
       "2668   2019-06-03\n",
       "2669   2019-06-03\n",
       "2670   2019-06-15\n",
       "Name: Date_of_Journey, Length: 2671, dtype: datetime64[ns]"
      ]
     },
     "execution_count": 25,
     "metadata": {},
     "output_type": "execute_result"
    }
   ],
   "source": [
    "df_test['Date_of_Journey']"
   ]
  },
  {
   "cell_type": "code",
   "execution_count": 26,
   "id": "59f46496",
   "metadata": {},
   "outputs": [
    {
     "data": {
      "text/plain": [
       "0        22:20:00\n",
       "1        05:50:00\n",
       "2        09:25:00\n",
       "3        18:05:00\n",
       "4        16:50:00\n",
       "           ...   \n",
       "10678    19:55:00\n",
       "10679    20:45:00\n",
       "10680    08:20:00\n",
       "10681    11:30:00\n",
       "10682    10:55:00\n",
       "Name: Dep_Time, Length: 10682, dtype: object"
      ]
     },
     "execution_count": 26,
     "metadata": {},
     "output_type": "execute_result"
    }
   ],
   "source": [
    "df_train['Dep_Time']"
   ]
  },
  {
   "cell_type": "code",
   "execution_count": 27,
   "id": "05eb10b3",
   "metadata": {},
   "outputs": [
    {
     "data": {
      "text/plain": [
       "0       17:30:00\n",
       "1       06:20:00\n",
       "2       19:15:00\n",
       "3       08:00:00\n",
       "4       23:55:00\n",
       "          ...   \n",
       "2666    20:30:00\n",
       "2667    14:20:00\n",
       "2668    21:50:00\n",
       "2669    04:00:00\n",
       "2670    04:55:00\n",
       "Name: Dep_Time, Length: 2671, dtype: object"
      ]
     },
     "execution_count": 27,
     "metadata": {},
     "output_type": "execute_result"
    }
   ],
   "source": [
    "df_test['Dep_Time']"
   ]
  },
  {
   "cell_type": "code",
   "execution_count": 28,
   "id": "9b168b19",
   "metadata": {},
   "outputs": [],
   "source": [
    "df_train['Additional_Info']=df_train['Additional_Info'].str.replace('No info','No Info')\n",
    "df_test['Additional_Info']=df_test['Additional_Info'].str.replace('No info','No Info')"
   ]
  },
  {
   "cell_type": "code",
   "execution_count": 29,
   "id": "89be08ac",
   "metadata": {},
   "outputs": [],
   "source": [
    "df_train['Duration']=df_train['Duration'].str.replace('h','*60').str.replace(' ','+').str.replace('m','*1').apply(eval)\n",
    "df_test['Duration']=df_test['Duration'].str.replace('h','*60').str.replace(' ','+').str.replace('m','*1').apply(eval)"
   ]
  },
  {
   "cell_type": "code",
   "execution_count": 30,
   "id": "b0370432",
   "metadata": {},
   "outputs": [],
   "source": [
    "df_train['Duration']=pd.to_numeric(df_train['Duration'])\n",
    "df_test['Duration']=pd.to_numeric(df_test['Duration'])"
   ]
  },
  {
   "cell_type": "code",
   "execution_count": 31,
   "id": "28cea99f",
   "metadata": {},
   "outputs": [],
   "source": [
    "df_train['weekday']=df_train[['Date_of_Journey']].apply(lambda x:x.dt.day_name())\n",
    "df_test['weekday']=df_test[['Date_of_Journey']].apply(lambda x:x.dt.day_name())"
   ]
  },
  {
   "cell_type": "code",
   "execution_count": 32,
   "id": "97efcc16",
   "metadata": {
    "scrolled": true
   },
   "outputs": [
    {
     "data": {
      "text/plain": [
       "<AxesSubplot:xlabel='weekday', ylabel='Price'>"
      ]
     },
     "execution_count": 32,
     "metadata": {},
     "output_type": "execute_result"
    },
    {
     "data": {
      "image/png": "[encoded data removed]",
      "text/plain": [
       "<Figure size 432x288 with 1 Axes>"
      ]
     },
     "metadata": {
      "needs_background": "light"
     },
     "output_type": "display_data"
    }
   ],
   "source": [
    "sns.barplot('weekday','Price',data=df_train)"
   ]
  },
  {
   "cell_type": "markdown",
   "id": "1769b79d",
   "metadata": {},
   "source": [
    "Prices are high on Thurdays, Mondays and Sundays"
   ]
  },
  {
   "cell_type": "code",
   "execution_count": 33,
   "id": "a857aa75",
   "metadata": {},
   "outputs": [],
   "source": [
    "df_train[\"month\"] = df_train['Date_of_Journey'].map(lambda x: x.month_name())\n",
    "df_test[\"month\"] = df_test['Date_of_Journey'].map(lambda x: x.month_name())"
   ]
  },
  {
   "cell_type": "code",
   "execution_count": 34,
   "id": "0bf22f97",
   "metadata": {},
   "outputs": [
    {
     "data": {
      "text/plain": [
       "<AxesSubplot:xlabel='month', ylabel='Price'>"
      ]
     },
     "execution_count": 34,
     "metadata": {},
     "output_type": "execute_result"
    },
    {
     "data": {
      "image/png": "[encoded data removed]",
      "text/plain": [
       "<Figure size 432x288 with 1 Axes>"
      ]
     },
     "metadata": {
      "needs_background": "light"
     },
     "output_type": "display_data"
    }
   ],
   "source": [
    "sns.barplot('month','Price',data=df_train)"
   ]
  },
  {
   "cell_type": "markdown",
   "id": "1d81f7bf",
   "metadata": {},
   "source": [
    "The price vary according to months "
   ]
  },
  {
   "cell_type": "code",
   "execution_count": 35,
   "id": "13603dd6",
   "metadata": {},
   "outputs": [
    {
     "data": {
      "text/plain": [
       "<AxesSubplot:xlabel='month', ylabel='Price'>"
      ]
     },
     "execution_count": 35,
     "metadata": {},
     "output_type": "execute_result"
    },
    {
     "data": {
      "image/png": "[encoded data removed]",
      "text/plain": [
       "<Figure size 432x288 with 1 Axes>"
      ]
     },
     "metadata": {
      "needs_background": "light"
     },
     "output_type": "display_data"
    }
   ],
   "source": [
    "sns.barplot('month','Price',data=df_test)"
   ]
  },
  {
   "cell_type": "markdown",
   "id": "90ef6f40",
   "metadata": {},
   "source": [
    "Price does not vary according to months"
   ]
  },
  {
   "cell_type": "code",
   "execution_count": 36,
   "id": "ff940689",
   "metadata": {},
   "outputs": [],
   "source": [
    "df_train['Dep_Time']=df_train['Dep_Time'].apply(lambda x:x.hour)\n",
    "df_train['Dep_Time']=pd.to_numeric(df_train['Dep_Time'])"
   ]
  },
  {
   "cell_type": "code",
   "execution_count": 37,
   "id": "25f3f427",
   "metadata": {},
   "outputs": [],
   "source": [
    "df_test['Dep_Time']=df_test['Dep_Time'].apply(lambda x:x.hour)\n",
    "df_test['Dep_Time']=pd.to_numeric(df_test['Dep_Time'])"
   ]
  },
  {
   "cell_type": "code",
   "execution_count": 38,
   "id": "76d131d7",
   "metadata": {},
   "outputs": [
    {
     "data": {
      "text/plain": [
       "<AxesSubplot:xlabel='Dep_Time', ylabel='Price'>"
      ]
     },
     "execution_count": 38,
     "metadata": {},
     "output_type": "execute_result"
    },
    {
     "data": {
      "image/png": "[encoded data removed]",
      "text/plain": [
       "<Figure size 432x288 with 1 Axes>"
      ]
     },
     "metadata": {
      "needs_background": "light"
     },
     "output_type": "display_data"
    }
   ],
   "source": [
    "sns.barplot('Dep_Time','Price',data=df_train)"
   ]
  },
  {
   "cell_type": "markdown",
   "id": "d0525873",
   "metadata": {},
   "source": [
    "Price is the highest at 2\n",
    "and lowest at 1"
   ]
  },
  {
   "cell_type": "code",
   "execution_count": 39,
   "id": "bc489f1e",
   "metadata": {},
   "outputs": [
    {
     "data": {
      "text/plain": [
       "(array([-500.,    0.,  500., 1000., 1500., 2000., 2500., 3000., 3500.]),\n",
       " [Text(0, 0, ''),\n",
       "  Text(0, 0, ''),\n",
       "  Text(0, 0, ''),\n",
       "  Text(0, 0, ''),\n",
       "  Text(0, 0, ''),\n",
       "  Text(0, 0, ''),\n",
       "  Text(0, 0, ''),\n",
       "  Text(0, 0, ''),\n",
       "  Text(0, 0, '')])"
      ]
     },
     "execution_count": 39,
     "metadata": {},
     "output_type": "execute_result"
    },
    {
     "data": {
      "image/png": "[encoded data removed]",
      "text/plain": [
       "<Figure size 432x288 with 1 Axes>"
      ]
     },
     "metadata": {
      "needs_background": "light"
     },
     "output_type": "display_data"
    }
   ],
   "source": [
    "plot=plt.figure()\n",
    "sns.distplot(df_train['Duration'],bins=40)\n",
    "plt.xticks(rotation=90)"
   ]
  },
  {
   "cell_type": "markdown",
   "id": "bedc02bf",
   "metadata": {},
   "source": [
    "It is positively skewed"
   ]
  },
  {
   "cell_type": "code",
   "execution_count": 40,
   "id": "fc34926f",
   "metadata": {},
   "outputs": [
    {
     "data": {
      "text/plain": [
       "(array([-500.,    0.,  500., 1000., 1500., 2000., 2500., 3000.]),\n",
       " [Text(0, 0, ''),\n",
       "  Text(0, 0, ''),\n",
       "  Text(0, 0, ''),\n",
       "  Text(0, 0, ''),\n",
       "  Text(0, 0, ''),\n",
       "  Text(0, 0, ''),\n",
       "  Text(0, 0, ''),\n",
       "  Text(0, 0, '')])"
      ]
     },
     "execution_count": 40,
     "metadata": {},
     "output_type": "execute_result"
    },
    {
     "data": {
      "image/png": "[encoded data removed]",
      "text/plain": [
       "<Figure size 432x288 with 1 Axes>"
      ]
     },
     "metadata": {
      "needs_background": "light"
     },
     "output_type": "display_data"
    }
   ],
   "source": [
    "plot=plt.figure()\n",
    "sns.distplot(df_test['Duration'],bins=40)\n",
    "plt.xticks(rotation=90)"
   ]
  },
  {
   "cell_type": "markdown",
   "id": "2d32cc55",
   "metadata": {},
   "source": [
    "Duration is positively skewed"
   ]
  },
  {
   "cell_type": "code",
   "execution_count": 41,
   "id": "7b19e4d2",
   "metadata": {},
   "outputs": [],
   "source": [
    "df_train.drop(['Route','Arrival_Time','Date_of_Journey'],axis=1,inplace=True)\n",
    "df_test.drop(['Route','Arrival_Time','Date_of_Journey'],axis=1,inplace=True)"
   ]
  },
  {
   "cell_type": "code",
   "execution_count": 42,
   "id": "56cf5087",
   "metadata": {},
   "outputs": [],
   "source": [
    "from sklearn.preprocessing import LabelEncoder\n",
    "var_mod = ['Airline','Source','Destination','Additional_Info','Total_Stops','weekday','month','Dep_Time']\n",
    "le = LabelEncoder()\n",
    "for i in var_mod:\n",
    "    df_train[i] = le.fit_transform(df_train[i])"
   ]
  },
  {
   "cell_type": "code",
   "execution_count": 43,
   "id": "9fa4865c",
   "metadata": {},
   "outputs": [],
   "source": [
    "from sklearn.preprocessing import LabelEncoder\n",
    "var_mod = ['Airline','Source','Destination','Additional_Info','Total_Stops','weekday','month','Dep_Time']\n",
    "le = LabelEncoder()\n",
    "for i in var_mod:\n",
    "    df_test[i] = le.fit_transform(df_test[i])"
   ]
  },
  {
   "cell_type": "code",
   "execution_count": 44,
   "id": "3aa77038",
   "metadata": {},
   "outputs": [
    {
     "data": {
      "text/html": [
       "<div>\n",
       "<style scoped>\n",
       "    .dataframe tbody tr th:only-of-type {\n",
       "        vertical-align: middle;\n",
       "    }\n",
       "\n",
       "    .dataframe tbody tr th {\n",
       "        vertical-align: top;\n",
       "    }\n",
       "\n",
       "    .dataframe thead th {\n",
       "        text-align: right;\n",
       "    }\n",
       "</style>\n",
       "<table border=\"1\" class=\"dataframe\">\n",
       "  <thead>\n",
       "    <tr style=\"text-align: right;\">\n",
       "      <th></th>\n",
       "      <th>Airline</th>\n",
       "      <th>Source</th>\n",
       "      <th>Destination</th>\n",
       "      <th>Dep_Time</th>\n",
       "      <th>Duration</th>\n",
       "      <th>Total_Stops</th>\n",
       "      <th>Additional_Info</th>\n",
       "      <th>Price</th>\n",
       "      <th>weekday</th>\n",
       "      <th>month</th>\n",
       "    </tr>\n",
       "  </thead>\n",
       "  <tbody>\n",
       "    <tr>\n",
       "      <th>Airline</th>\n",
       "      <td>1.000000</td>\n",
       "      <td>-0.013397</td>\n",
       "      <td>0.018446</td>\n",
       "      <td>-0.035269</td>\n",
       "      <td>-0.159651</td>\n",
       "      <td>0.035973</td>\n",
       "      <td>0.090588</td>\n",
       "      <td>-0.039565</td>\n",
       "      <td>-0.002699</td>\n",
       "      <td>0.000967</td>\n",
       "    </tr>\n",
       "    <tr>\n",
       "      <th>Source</th>\n",
       "      <td>-0.013397</td>\n",
       "      <td>1.000000</td>\n",
       "      <td>-0.592576</td>\n",
       "      <td>0.059047</td>\n",
       "      <td>0.161886</td>\n",
       "      <td>-0.225605</td>\n",
       "      <td>0.008036</td>\n",
       "      <td>0.015999</td>\n",
       "      <td>-0.039506</td>\n",
       "      <td>0.078706</td>\n",
       "    </tr>\n",
       "    <tr>\n",
       "      <th>Destination</th>\n",
       "      <td>0.018446</td>\n",
       "      <td>-0.592576</td>\n",
       "      <td>1.000000</td>\n",
       "      <td>-0.072997</td>\n",
       "      <td>-0.257352</td>\n",
       "      <td>0.337872</td>\n",
       "      <td>0.015903</td>\n",
       "      <td>-0.071122</td>\n",
       "      <td>0.003163</td>\n",
       "      <td>-0.047582</td>\n",
       "    </tr>\n",
       "    <tr>\n",
       "      <th>Dep_Time</th>\n",
       "      <td>-0.035269</td>\n",
       "      <td>0.059047</td>\n",
       "      <td>-0.072997</td>\n",
       "      <td>1.000000</td>\n",
       "      <td>0.002088</td>\n",
       "      <td>0.039224</td>\n",
       "      <td>-0.043020</td>\n",
       "      <td>0.006799</td>\n",
       "      <td>-0.005473</td>\n",
       "      <td>-0.007567</td>\n",
       "    </tr>\n",
       "    <tr>\n",
       "      <th>Duration</th>\n",
       "      <td>-0.159651</td>\n",
       "      <td>0.161886</td>\n",
       "      <td>-0.257352</td>\n",
       "      <td>0.002088</td>\n",
       "      <td>1.000000</td>\n",
       "      <td>-0.602282</td>\n",
       "      <td>-0.217010</td>\n",
       "      <td>0.506480</td>\n",
       "      <td>-0.020982</td>\n",
       "      <td>0.095255</td>\n",
       "    </tr>\n",
       "    <tr>\n",
       "      <th>Total_Stops</th>\n",
       "      <td>0.035973</td>\n",
       "      <td>-0.225605</td>\n",
       "      <td>0.337872</td>\n",
       "      <td>0.039224</td>\n",
       "      <td>-0.602282</td>\n",
       "      <td>1.000000</td>\n",
       "      <td>0.242029</td>\n",
       "      <td>-0.571221</td>\n",
       "      <td>0.018813</td>\n",
       "      <td>-0.126132</td>\n",
       "    </tr>\n",
       "    <tr>\n",
       "      <th>Additional_Info</th>\n",
       "      <td>0.090588</td>\n",
       "      <td>0.008036</td>\n",
       "      <td>0.015903</td>\n",
       "      <td>-0.043020</td>\n",
       "      <td>-0.217010</td>\n",
       "      <td>0.242029</td>\n",
       "      <td>1.000000</td>\n",
       "      <td>-0.191643</td>\n",
       "      <td>0.015450</td>\n",
       "      <td>-0.008735</td>\n",
       "    </tr>\n",
       "    <tr>\n",
       "      <th>Price</th>\n",
       "      <td>-0.039565</td>\n",
       "      <td>0.015999</td>\n",
       "      <td>-0.071122</td>\n",
       "      <td>0.006799</td>\n",
       "      <td>0.506480</td>\n",
       "      <td>-0.571221</td>\n",
       "      <td>-0.191643</td>\n",
       "      <td>1.000000</td>\n",
       "      <td>-0.026577</td>\n",
       "      <td>0.062521</td>\n",
       "    </tr>\n",
       "    <tr>\n",
       "      <th>weekday</th>\n",
       "      <td>-0.002699</td>\n",
       "      <td>-0.039506</td>\n",
       "      <td>0.003163</td>\n",
       "      <td>-0.005473</td>\n",
       "      <td>-0.020982</td>\n",
       "      <td>0.018813</td>\n",
       "      <td>0.015450</td>\n",
       "      <td>-0.026577</td>\n",
       "      <td>1.000000</td>\n",
       "      <td>0.104855</td>\n",
       "    </tr>\n",
       "    <tr>\n",
       "      <th>month</th>\n",
       "      <td>0.000967</td>\n",
       "      <td>0.078706</td>\n",
       "      <td>-0.047582</td>\n",
       "      <td>-0.007567</td>\n",
       "      <td>0.095255</td>\n",
       "      <td>-0.126132</td>\n",
       "      <td>-0.008735</td>\n",
       "      <td>0.062521</td>\n",
       "      <td>0.104855</td>\n",
       "      <td>1.000000</td>\n",
       "    </tr>\n",
       "  </tbody>\n",
       "</table>\n",
       "</div>"
      ],
      "text/plain": [
       "                  Airline    Source  Destination  Dep_Time  Duration  \\\n",
       "Airline          1.000000 -0.013397     0.018446 -0.035269 -0.159651   \n",
       "Source          -0.013397  1.000000    -0.592576  0.059047  0.161886   \n",
       "Destination      0.018446 -0.592576     1.000000 -0.072997 -0.257352   \n",
       "Dep_Time        -0.035269  0.059047    -0.072997  1.000000  0.002088   \n",
       "Duration        -0.159651  0.161886    -0.257352  0.002088  1.000000   \n",
       "Total_Stops      0.035973 -0.225605     0.337872  0.039224 -0.602282   \n",
       "Additional_Info  0.090588  0.008036     0.015903 -0.043020 -0.217010   \n",
       "Price           -0.039565  0.015999    -0.071122  0.006799  0.506480   \n",
       "weekday         -0.002699 -0.039506     0.003163 -0.005473 -0.020982   \n",
       "month            0.000967  0.078706    -0.047582 -0.007567  0.095255   \n",
       "\n",
       "                 Total_Stops  Additional_Info     Price   weekday     month  \n",
       "Airline             0.035973         0.090588 -0.039565 -0.002699  0.000967  \n",
       "Source             -0.225605         0.008036  0.015999 -0.039506  0.078706  \n",
       "Destination         0.337872         0.015903 -0.071122  0.003163 -0.047582  \n",
       "Dep_Time            0.039224        -0.043020  0.006799 -0.005473 -0.007567  \n",
       "Duration           -0.602282        -0.217010  0.506480 -0.020982  0.095255  \n",
       "Total_Stops         1.000000         0.242029 -0.571221  0.018813 -0.126132  \n",
       "Additional_Info     0.242029         1.000000 -0.191643  0.015450 -0.008735  \n",
       "Price              -0.571221        -0.191643  1.000000 -0.026577  0.062521  \n",
       "weekday             0.018813         0.015450 -0.026577  1.000000  0.104855  \n",
       "month              -0.126132        -0.008735  0.062521  0.104855  1.000000  "
      ]
     },
     "execution_count": 44,
     "metadata": {},
     "output_type": "execute_result"
    }
   ],
   "source": [
    "df_train.corr()"
   ]
  },
  {
   "cell_type": "code",
   "execution_count": 45,
   "id": "8eefda73",
   "metadata": {},
   "outputs": [
    {
     "data": {
      "text/html": [
       "<div>\n",
       "<style scoped>\n",
       "    .dataframe tbody tr th:only-of-type {\n",
       "        vertical-align: middle;\n",
       "    }\n",
       "\n",
       "    .dataframe tbody tr th {\n",
       "        vertical-align: top;\n",
       "    }\n",
       "\n",
       "    .dataframe thead th {\n",
       "        text-align: right;\n",
       "    }\n",
       "</style>\n",
       "<table border=\"1\" class=\"dataframe\">\n",
       "  <thead>\n",
       "    <tr style=\"text-align: right;\">\n",
       "      <th></th>\n",
       "      <th>Airline</th>\n",
       "      <th>Source</th>\n",
       "      <th>Destination</th>\n",
       "      <th>Dep_Time</th>\n",
       "      <th>Duration</th>\n",
       "      <th>Total_Stops</th>\n",
       "      <th>Additional_Info</th>\n",
       "      <th>Price</th>\n",
       "      <th>weekday</th>\n",
       "      <th>month</th>\n",
       "    </tr>\n",
       "  </thead>\n",
       "  <tbody>\n",
       "    <tr>\n",
       "      <th>Airline</th>\n",
       "      <td>1.000000</td>\n",
       "      <td>-0.031107</td>\n",
       "      <td>0.033630</td>\n",
       "      <td>0.003731</td>\n",
       "      <td>-0.182438</td>\n",
       "      <td>0.039236</td>\n",
       "      <td>0.099459</td>\n",
       "      <td>-0.006624</td>\n",
       "      <td>0.013990</td>\n",
       "      <td>-0.013164</td>\n",
       "    </tr>\n",
       "    <tr>\n",
       "      <th>Source</th>\n",
       "      <td>-0.031107</td>\n",
       "      <td>1.000000</td>\n",
       "      <td>-0.578296</td>\n",
       "      <td>0.056065</td>\n",
       "      <td>0.149235</td>\n",
       "      <td>-0.212995</td>\n",
       "      <td>0.004008</td>\n",
       "      <td>0.031836</td>\n",
       "      <td>-0.030288</td>\n",
       "      <td>0.064504</td>\n",
       "    </tr>\n",
       "    <tr>\n",
       "      <th>Destination</th>\n",
       "      <td>0.033630</td>\n",
       "      <td>-0.578296</td>\n",
       "      <td>1.000000</td>\n",
       "      <td>-0.049023</td>\n",
       "      <td>-0.245068</td>\n",
       "      <td>0.331240</td>\n",
       "      <td>0.039174</td>\n",
       "      <td>-0.011972</td>\n",
       "      <td>0.006395</td>\n",
       "      <td>-0.042295</td>\n",
       "    </tr>\n",
       "    <tr>\n",
       "      <th>Dep_Time</th>\n",
       "      <td>0.003731</td>\n",
       "      <td>0.056065</td>\n",
       "      <td>-0.049023</td>\n",
       "      <td>1.000000</td>\n",
       "      <td>-0.020550</td>\n",
       "      <td>0.072496</td>\n",
       "      <td>-0.053872</td>\n",
       "      <td>0.011956</td>\n",
       "      <td>-0.009942</td>\n",
       "      <td>-0.018183</td>\n",
       "    </tr>\n",
       "    <tr>\n",
       "      <th>Duration</th>\n",
       "      <td>-0.182438</td>\n",
       "      <td>0.149235</td>\n",
       "      <td>-0.245068</td>\n",
       "      <td>-0.020550</td>\n",
       "      <td>1.000000</td>\n",
       "      <td>-0.590331</td>\n",
       "      <td>-0.224048</td>\n",
       "      <td>0.036883</td>\n",
       "      <td>-0.000658</td>\n",
       "      <td>0.071381</td>\n",
       "    </tr>\n",
       "    <tr>\n",
       "      <th>Total_Stops</th>\n",
       "      <td>0.039236</td>\n",
       "      <td>-0.212995</td>\n",
       "      <td>0.331240</td>\n",
       "      <td>0.072496</td>\n",
       "      <td>-0.590331</td>\n",
       "      <td>1.000000</td>\n",
       "      <td>0.261537</td>\n",
       "      <td>-0.036075</td>\n",
       "      <td>0.019494</td>\n",
       "      <td>-0.100642</td>\n",
       "    </tr>\n",
       "    <tr>\n",
       "      <th>Additional_Info</th>\n",
       "      <td>0.099459</td>\n",
       "      <td>0.004008</td>\n",
       "      <td>0.039174</td>\n",
       "      <td>-0.053872</td>\n",
       "      <td>-0.224048</td>\n",
       "      <td>0.261537</td>\n",
       "      <td>1.000000</td>\n",
       "      <td>0.010388</td>\n",
       "      <td>-0.018603</td>\n",
       "      <td>-0.010688</td>\n",
       "    </tr>\n",
       "    <tr>\n",
       "      <th>Price</th>\n",
       "      <td>-0.006624</td>\n",
       "      <td>0.031836</td>\n",
       "      <td>-0.011972</td>\n",
       "      <td>0.011956</td>\n",
       "      <td>0.036883</td>\n",
       "      <td>-0.036075</td>\n",
       "      <td>0.010388</td>\n",
       "      <td>1.000000</td>\n",
       "      <td>-0.008710</td>\n",
       "      <td>0.010259</td>\n",
       "    </tr>\n",
       "    <tr>\n",
       "      <th>weekday</th>\n",
       "      <td>0.013990</td>\n",
       "      <td>-0.030288</td>\n",
       "      <td>0.006395</td>\n",
       "      <td>-0.009942</td>\n",
       "      <td>-0.000658</td>\n",
       "      <td>0.019494</td>\n",
       "      <td>-0.018603</td>\n",
       "      <td>-0.008710</td>\n",
       "      <td>1.000000</td>\n",
       "      <td>0.143302</td>\n",
       "    </tr>\n",
       "    <tr>\n",
       "      <th>month</th>\n",
       "      <td>-0.013164</td>\n",
       "      <td>0.064504</td>\n",
       "      <td>-0.042295</td>\n",
       "      <td>-0.018183</td>\n",
       "      <td>0.071381</td>\n",
       "      <td>-0.100642</td>\n",
       "      <td>-0.010688</td>\n",
       "      <td>0.010259</td>\n",
       "      <td>0.143302</td>\n",
       "      <td>1.000000</td>\n",
       "    </tr>\n",
       "  </tbody>\n",
       "</table>\n",
       "</div>"
      ],
      "text/plain": [
       "                  Airline    Source  Destination  Dep_Time  Duration  \\\n",
       "Airline          1.000000 -0.031107     0.033630  0.003731 -0.182438   \n",
       "Source          -0.031107  1.000000    -0.578296  0.056065  0.149235   \n",
       "Destination      0.033630 -0.578296     1.000000 -0.049023 -0.245068   \n",
       "Dep_Time         0.003731  0.056065    -0.049023  1.000000 -0.020550   \n",
       "Duration        -0.182438  0.149235    -0.245068 -0.020550  1.000000   \n",
       "Total_Stops      0.039236 -0.212995     0.331240  0.072496 -0.590331   \n",
       "Additional_Info  0.099459  0.004008     0.039174 -0.053872 -0.224048   \n",
       "Price           -0.006624  0.031836    -0.011972  0.011956  0.036883   \n",
       "weekday          0.013990 -0.030288     0.006395 -0.009942 -0.000658   \n",
       "month           -0.013164  0.064504    -0.042295 -0.018183  0.071381   \n",
       "\n",
       "                 Total_Stops  Additional_Info     Price   weekday     month  \n",
       "Airline             0.039236         0.099459 -0.006624  0.013990 -0.013164  \n",
       "Source             -0.212995         0.004008  0.031836 -0.030288  0.064504  \n",
       "Destination         0.331240         0.039174 -0.011972  0.006395 -0.042295  \n",
       "Dep_Time            0.072496        -0.053872  0.011956 -0.009942 -0.018183  \n",
       "Duration           -0.590331        -0.224048  0.036883 -0.000658  0.071381  \n",
       "Total_Stops         1.000000         0.261537 -0.036075  0.019494 -0.100642  \n",
       "Additional_Info     0.261537         1.000000  0.010388 -0.018603 -0.010688  \n",
       "Price              -0.036075         0.010388  1.000000 -0.008710  0.010259  \n",
       "weekday             0.019494        -0.018603 -0.008710  1.000000  0.143302  \n",
       "month              -0.100642        -0.010688  0.010259  0.143302  1.000000  "
      ]
     },
     "execution_count": 45,
     "metadata": {},
     "output_type": "execute_result"
    }
   ],
   "source": [
    "df_test.corr()"
   ]
  },
  {
   "cell_type": "code",
   "execution_count": null,
   "id": "51c2e64b",
   "metadata": {},
   "outputs": [],
   "source": []
  },
  {
   "cell_type": "code",
   "execution_count": 46,
   "id": "4919521a",
   "metadata": {},
   "outputs": [
    {
     "data": {
      "text/plain": [
       "Airline               AxesSubplot(0.125,0.657941;0.133621x0.222059)\n",
       "Source             AxesSubplot(0.285345,0.657941;0.133621x0.222059)\n",
       "Destination         AxesSubplot(0.44569,0.657941;0.133621x0.222059)\n",
       "Dep_Time           AxesSubplot(0.606034,0.657941;0.133621x0.222059)\n",
       "Duration           AxesSubplot(0.766379,0.657941;0.133621x0.222059)\n",
       "Total_Stops           AxesSubplot(0.125,0.391471;0.133621x0.222059)\n",
       "Additional_Info    AxesSubplot(0.285345,0.391471;0.133621x0.222059)\n",
       "Price               AxesSubplot(0.44569,0.391471;0.133621x0.222059)\n",
       "weekday            AxesSubplot(0.606034,0.391471;0.133621x0.222059)\n",
       "month              AxesSubplot(0.766379,0.391471;0.133621x0.222059)\n",
       "dtype: object"
      ]
     },
     "execution_count": 46,
     "metadata": {},
     "output_type": "execute_result"
    },
    {
     "data": {
      "image/png": "[encoded data removed]",
      "text/plain": [
       "<Figure size 432x288 with 15 Axes>"
      ]
     },
     "metadata": {
      "needs_background": "light"
     },
     "output_type": "display_data"
    }
   ],
   "source": [
    "df_train.plot(kind='box',subplots=True,layout=(3,5))"
   ]
  },
  {
   "cell_type": "code",
   "execution_count": 47,
   "id": "391efc08",
   "metadata": {},
   "outputs": [
    {
     "data": {
      "text/plain": [
       "array([[4.10804845e-01, 1.65835945e+00, 2.41653414e+00, ...,\n",
       "        1.12553455e+00, 1.59636144e-03, 2.51798366e-01],\n",
       "       [1.26115217e+00, 8.90014334e-01, 9.73812033e-01, ...,\n",
       "        3.09067808e-01, 4.85613150e-01, 9.80318055e-01],\n",
       "       [1.43688159e-02, 4.05564073e-02, 2.95742798e-01, ...,\n",
       "        1.03978296e+00, 1.46003217e+00, 1.48391479e+00],\n",
       "       ...,\n",
       "       [1.43688159e-02, 1.65835945e+00, 3.82326437e-01, ...,\n",
       "        4.02966905e-01, 4.85613150e-01, 2.21243448e+00],\n",
       "       [2.56541078e+00, 1.65835945e+00, 2.41653414e+00, ...,\n",
       "        7.72181379e-01, 4.88805873e-01, 9.80318055e-01],\n",
       "       [1.26115217e+00, 4.05564073e-02, 2.95742798e-01, ...,\n",
       "        5.78094330e-01, 4.88805873e-01, 1.48391479e+00]])"
      ]
     },
     "execution_count": 47,
     "metadata": {},
     "output_type": "execute_result"
    }
   ],
   "source": [
    "from scipy.stats import zscore\n",
    "z=np.abs(zscore(df_train))\n",
    "z"
   ]
  },
  {
   "cell_type": "code",
   "execution_count": 48,
   "id": "7616abd6",
   "metadata": {},
   "outputs": [],
   "source": [
    "df_train=df_train[(z<3).all(axis=1)]"
   ]
  },
  {
   "cell_type": "code",
   "execution_count": 49,
   "id": "848b6799",
   "metadata": {},
   "outputs": [
    {
     "data": {
      "text/plain": [
       "array([[0.01190758, 0.03256662, 0.29488167, ..., 0.83156077, 0.50349398,\n",
       "        0.3569684 ],\n",
       "       [0.42377921, 0.87708559, 0.97622158, ..., 0.70887027, 0.50349398,\n",
       "        1.59122421],\n",
       "       [0.01190758, 0.03256662, 0.29488167, ..., 1.08153193, 0.99163642,\n",
       "        0.8772874 ],\n",
       "       ...,\n",
       "       [0.01190758, 0.03256662, 0.29488167, ..., 0.51164051, 0.96093334,\n",
       "        0.3569684 ],\n",
       "       [1.29515278, 0.03256662, 0.29488167, ..., 0.67629357, 0.96093334,\n",
       "        0.3569684 ],\n",
       "       [0.88328115, 0.03256662, 0.29488167, ..., 1.46459007, 0.4727909 ,\n",
       "        0.3569684 ]])"
      ]
     },
     "execution_count": 49,
     "metadata": {},
     "output_type": "execute_result"
    }
   ],
   "source": [
    "from scipy.stats import zscore\n",
    "z=np.abs(zscore(df_test))\n",
    "z"
   ]
  },
  {
   "cell_type": "code",
   "execution_count": 50,
   "id": "fe7745ef",
   "metadata": {},
   "outputs": [],
   "source": [
    "df_test=df_test[(z<3).all(axis=1)]"
   ]
  },
  {
   "cell_type": "code",
   "execution_count": 51,
   "id": "0400177c",
   "metadata": {},
   "outputs": [
    {
     "name": "stdout",
     "output_type": "stream",
     "text": [
      "(10505, 10)\n",
      "(2627, 10)\n"
     ]
    }
   ],
   "source": [
    "print(df_train.shape)\n",
    "print(df_test.shape)"
   ]
  },
  {
   "cell_type": "code",
   "execution_count": 52,
   "id": "e36c8bbf",
   "metadata": {},
   "outputs": [
    {
     "data": {
      "text/plain": [
       "Airline            0.729360\n",
       "Source            -0.439575\n",
       "Destination        1.266185\n",
       "Dep_Time           0.103334\n",
       "Duration           0.778981\n",
       "Total_Stops        0.613819\n",
       "Additional_Info   -0.728963\n",
       "Price              0.413854\n",
       "weekday           -0.053200\n",
       "month             -0.359038\n",
       "dtype: float64"
      ]
     },
     "execution_count": 52,
     "metadata": {},
     "output_type": "execute_result"
    }
   ],
   "source": [
    "df_train.skew()"
   ]
  },
  {
   "cell_type": "code",
   "execution_count": 53,
   "id": "f3ad5603",
   "metadata": {},
   "outputs": [
    {
     "data": {
      "text/plain": [
       "Index(['Airline', 'Source', 'Destination', 'Dep_Time', 'Duration',\n",
       "       'Total_Stops', 'Additional_Info', 'Price', 'weekday', 'month'],\n",
       "      dtype='object')"
      ]
     },
     "execution_count": 53,
     "metadata": {},
     "output_type": "execute_result"
    }
   ],
   "source": [
    "df_train.columns"
   ]
  },
  {
   "cell_type": "code",
   "execution_count": 54,
   "id": "14e61acd",
   "metadata": {},
   "outputs": [],
   "source": [
    "from sklearn.preprocessing import PowerTransformer\n",
    "pt = PowerTransformer()\n",
    "df_train=pt.fit_transform(df_train)"
   ]
  },
  {
   "cell_type": "code",
   "execution_count": 55,
   "id": "c20e0cb3",
   "metadata": {},
   "outputs": [],
   "source": [
    "df_train=pd.DataFrame(df_train)\n",
    "df_train.columns=['Airline', 'Source', 'Destination', 'Dep_Time', 'Duration',\n",
    "       'Total_Stops', 'Additional_Info', 'Price', 'weekday', 'month']"
   ]
  },
  {
   "cell_type": "code",
   "execution_count": 56,
   "id": "2d718eb5",
   "metadata": {},
   "outputs": [
    {
     "data": {
      "text/html": [
       "<div>\n",
       "<style scoped>\n",
       "    .dataframe tbody tr th:only-of-type {\n",
       "        vertical-align: middle;\n",
       "    }\n",
       "\n",
       "    .dataframe tbody tr th {\n",
       "        vertical-align: top;\n",
       "    }\n",
       "\n",
       "    .dataframe thead th {\n",
       "        text-align: right;\n",
       "    }\n",
       "</style>\n",
       "<table border=\"1\" class=\"dataframe\">\n",
       "  <thead>\n",
       "    <tr style=\"text-align: right;\">\n",
       "      <th></th>\n",
       "      <th>Airline</th>\n",
       "      <th>Source</th>\n",
       "      <th>Destination</th>\n",
       "      <th>Dep_Time</th>\n",
       "      <th>Duration</th>\n",
       "      <th>Total_Stops</th>\n",
       "      <th>Additional_Info</th>\n",
       "      <th>Price</th>\n",
       "      <th>weekday</th>\n",
       "      <th>month</th>\n",
       "    </tr>\n",
       "  </thead>\n",
       "  <tbody>\n",
       "    <tr>\n",
       "      <th>0</th>\n",
       "      <td>-0.303486</td>\n",
       "      <td>-1.613914</td>\n",
       "      <td>1.778313</td>\n",
       "      <td>1.545879</td>\n",
       "      <td>-1.052269</td>\n",
       "      <td>1.286308</td>\n",
       "      <td>0.294085</td>\n",
       "      <td>-1.355349</td>\n",
       "      <td>0.086584</td>\n",
       "      <td>0.207629</td>\n",
       "    </tr>\n",
       "    <tr>\n",
       "      <th>1</th>\n",
       "      <td>-1.426490</td>\n",
       "      <td>0.894180</td>\n",
       "      <td>-1.363042</td>\n",
       "      <td>-1.367052</td>\n",
       "      <td>-0.043150</td>\n",
       "      <td>0.347264</td>\n",
       "      <td>0.294085</td>\n",
       "      <td>-0.154947</td>\n",
       "      <td>-0.397226</td>\n",
       "      <td>-1.010921</td>\n",
       "    </tr>\n",
       "    <tr>\n",
       "      <th>2</th>\n",
       "      <td>0.139604</td>\n",
       "      <td>-0.028901</td>\n",
       "      <td>0.022238</td>\n",
       "      <td>-0.559952</td>\n",
       "      <td>1.068649</td>\n",
       "      <td>0.347264</td>\n",
       "      <td>0.294085</td>\n",
       "      <td>1.184613</td>\n",
       "      <td>-1.545141</td>\n",
       "      <td>1.548910</td>\n",
       "    </tr>\n",
       "    <tr>\n",
       "      <th>3</th>\n",
       "      <td>-0.303486</td>\n",
       "      <td>0.894180</td>\n",
       "      <td>-1.363042</td>\n",
       "      <td>0.951379</td>\n",
       "      <td>-0.386310</td>\n",
       "      <td>-0.905116</td>\n",
       "      <td>0.294085</td>\n",
       "      <td>-0.558839</td>\n",
       "      <td>0.537486</td>\n",
       "      <td>-1.557104</td>\n",
       "    </tr>\n",
       "    <tr>\n",
       "      <th>4</th>\n",
       "      <td>-0.303486</td>\n",
       "      <td>-1.613914</td>\n",
       "      <td>1.778313</td>\n",
       "      <td>0.639568</td>\n",
       "      <td>-0.525748</td>\n",
       "      <td>-0.905116</td>\n",
       "      <td>0.294085</td>\n",
       "      <td>1.078113</td>\n",
       "      <td>0.537486</td>\n",
       "      <td>-1.010921</td>\n",
       "    </tr>\n",
       "    <tr>\n",
       "      <th>...</th>\n",
       "      <td>...</td>\n",
       "      <td>...</td>\n",
       "      <td>...</td>\n",
       "      <td>...</td>\n",
       "      <td>...</td>\n",
       "      <td>...</td>\n",
       "      <td>...</td>\n",
       "      <td>...</td>\n",
       "      <td>...</td>\n",
       "      <td>...</td>\n",
       "    </tr>\n",
       "    <tr>\n",
       "      <th>10500</th>\n",
       "      <td>-2.247416</td>\n",
       "      <td>0.894180</td>\n",
       "      <td>-1.363042</td>\n",
       "      <td>1.103403</td>\n",
       "      <td>-1.174655</td>\n",
       "      <td>1.286308</td>\n",
       "      <td>0.294085</td>\n",
       "      <td>-1.272703</td>\n",
       "      <td>1.370661</td>\n",
       "      <td>1.548910</td>\n",
       "    </tr>\n",
       "    <tr>\n",
       "      <th>10501</th>\n",
       "      <td>-1.426490</td>\n",
       "      <td>0.894180</td>\n",
       "      <td>-1.363042</td>\n",
       "      <td>1.253066</td>\n",
       "      <td>-1.142783</td>\n",
       "      <td>1.286308</td>\n",
       "      <td>0.294085</td>\n",
       "      <td>-1.258032</td>\n",
       "      <td>-0.397226</td>\n",
       "      <td>-2.040666</td>\n",
       "    </tr>\n",
       "    <tr>\n",
       "      <th>10502</th>\n",
       "      <td>0.139604</td>\n",
       "      <td>-1.613914</td>\n",
       "      <td>0.727436</td>\n",
       "      <td>-0.750365</td>\n",
       "      <td>-0.995719</td>\n",
       "      <td>1.286308</td>\n",
       "      <td>0.294085</td>\n",
       "      <td>-0.270669</td>\n",
       "      <td>-0.397226</td>\n",
       "      <td>-2.040666</td>\n",
       "    </tr>\n",
       "    <tr>\n",
       "      <th>10503</th>\n",
       "      <td>2.117008</td>\n",
       "      <td>-1.613914</td>\n",
       "      <td>1.778313</td>\n",
       "      <td>-0.196064</td>\n",
       "      <td>-1.111795</td>\n",
       "      <td>1.286308</td>\n",
       "      <td>0.294085</td>\n",
       "      <td>0.954491</td>\n",
       "      <td>0.537486</td>\n",
       "      <td>-1.010921</td>\n",
       "    </tr>\n",
       "    <tr>\n",
       "      <th>10504</th>\n",
       "      <td>-1.426490</td>\n",
       "      <td>-0.028901</td>\n",
       "      <td>0.022238</td>\n",
       "      <td>-0.375416</td>\n",
       "      <td>0.087590</td>\n",
       "      <td>0.347264</td>\n",
       "      <td>0.294085</td>\n",
       "      <td>0.778675</td>\n",
       "      <td>0.537486</td>\n",
       "      <td>1.548910</td>\n",
       "    </tr>\n",
       "  </tbody>\n",
       "</table>\n",
       "<p>10505 rows × 10 columns</p>\n",
       "</div>"
      ],
      "text/plain": [
       "        Airline    Source  Destination  Dep_Time  Duration  Total_Stops  \\\n",
       "0     -0.303486 -1.613914     1.778313  1.545879 -1.052269     1.286308   \n",
       "1     -1.426490  0.894180    -1.363042 -1.367052 -0.043150     0.347264   \n",
       "2      0.139604 -0.028901     0.022238 -0.559952  1.068649     0.347264   \n",
       "3     -0.303486  0.894180    -1.363042  0.951379 -0.386310    -0.905116   \n",
       "4     -0.303486 -1.613914     1.778313  0.639568 -0.525748    -0.905116   \n",
       "...         ...       ...          ...       ...       ...          ...   \n",
       "10500 -2.247416  0.894180    -1.363042  1.103403 -1.174655     1.286308   \n",
       "10501 -1.426490  0.894180    -1.363042  1.253066 -1.142783     1.286308   \n",
       "10502  0.139604 -1.613914     0.727436 -0.750365 -0.995719     1.286308   \n",
       "10503  2.117008 -1.613914     1.778313 -0.196064 -1.111795     1.286308   \n",
       "10504 -1.426490 -0.028901     0.022238 -0.375416  0.087590     0.347264   \n",
       "\n",
       "       Additional_Info     Price   weekday     month  \n",
       "0             0.294085 -1.355349  0.086584  0.207629  \n",
       "1             0.294085 -0.154947 -0.397226 -1.010921  \n",
       "2             0.294085  1.184613 -1.545141  1.548910  \n",
       "3             0.294085 -0.558839  0.537486 -1.557104  \n",
       "4             0.294085  1.078113  0.537486 -1.010921  \n",
       "...                ...       ...       ...       ...  \n",
       "10500         0.294085 -1.272703  1.370661  1.548910  \n",
       "10501         0.294085 -1.258032 -0.397226 -2.040666  \n",
       "10502         0.294085 -0.270669 -0.397226 -2.040666  \n",
       "10503         0.294085  0.954491  0.537486 -1.010921  \n",
       "10504         0.294085  0.778675  0.537486  1.548910  \n",
       "\n",
       "[10505 rows x 10 columns]"
      ]
     },
     "execution_count": 56,
     "metadata": {},
     "output_type": "execute_result"
    }
   ],
   "source": [
    "df_train"
   ]
  },
  {
   "cell_type": "code",
   "execution_count": 57,
   "id": "17f3f0cd",
   "metadata": {},
   "outputs": [
    {
     "data": {
      "text/plain": [
       "Airline            0.477177\n",
       "Source            -0.422614\n",
       "Destination        1.257560\n",
       "Dep_Time           0.083955\n",
       "Duration           0.814421\n",
       "Total_Stops        0.652815\n",
       "Additional_Info   -0.840126\n",
       "Price              0.302492\n",
       "weekday           -0.048381\n",
       "month             -0.291864\n",
       "dtype: float64"
      ]
     },
     "execution_count": 57,
     "metadata": {},
     "output_type": "execute_result"
    }
   ],
   "source": [
    "df_test.skew()"
   ]
  },
  {
   "cell_type": "code",
   "execution_count": 58,
   "id": "d9c3adc3",
   "metadata": {},
   "outputs": [
    {
     "data": {
      "text/plain": [
       "Index(['Airline', 'Source', 'Destination', 'Dep_Time', 'Duration',\n",
       "       'Total_Stops', 'Additional_Info', 'Price', 'weekday', 'month'],\n",
       "      dtype='object')"
      ]
     },
     "execution_count": 58,
     "metadata": {},
     "output_type": "execute_result"
    }
   ],
   "source": [
    "df_test.columns"
   ]
  },
  {
   "cell_type": "code",
   "execution_count": 59,
   "id": "b3aed0be",
   "metadata": {},
   "outputs": [],
   "source": [
    "pt = PowerTransformer()\n",
    "df_test=pt.fit_transform(df_test)"
   ]
  },
  {
   "cell_type": "code",
   "execution_count": 60,
   "id": "21368dab",
   "metadata": {},
   "outputs": [],
   "source": [
    "df_test=pd.DataFrame(df_test)\n",
    "df_test.columns=['Airline', 'Source', 'Destination', 'Dep_Time', 'Duration',\n",
    "       'Total_Stops', 'Additional_Info', 'Price', 'weekday', 'month']"
   ]
  },
  {
   "cell_type": "code",
   "execution_count": 61,
   "id": "2b840cdc",
   "metadata": {},
   "outputs": [
    {
     "data": {
      "text/html": [
       "<div>\n",
       "<style scoped>\n",
       "    .dataframe tbody tr th:only-of-type {\n",
       "        vertical-align: middle;\n",
       "    }\n",
       "\n",
       "    .dataframe tbody tr th {\n",
       "        vertical-align: top;\n",
       "    }\n",
       "\n",
       "    .dataframe thead th {\n",
       "        text-align: right;\n",
       "    }\n",
       "</style>\n",
       "<table border=\"1\" class=\"dataframe\">\n",
       "  <thead>\n",
       "    <tr style=\"text-align: right;\">\n",
       "      <th></th>\n",
       "      <th>Airline</th>\n",
       "      <th>Source</th>\n",
       "      <th>Destination</th>\n",
       "      <th>Dep_Time</th>\n",
       "      <th>Duration</th>\n",
       "      <th>Total_Stops</th>\n",
       "      <th>Additional_Info</th>\n",
       "      <th>Price</th>\n",
       "      <th>weekday</th>\n",
       "      <th>month</th>\n",
       "    </tr>\n",
       "  </thead>\n",
       "  <tbody>\n",
       "    <tr>\n",
       "      <th>0</th>\n",
       "      <td>0.109187</td>\n",
       "      <td>-0.021797</td>\n",
       "      <td>0.003973</td>\n",
       "      <td>0.784925</td>\n",
       "      <td>0.395809</td>\n",
       "      <td>-0.890847</td>\n",
       "      <td>0.258968</td>\n",
       "      <td>-0.868700</td>\n",
       "      <td>0.546681</td>\n",
       "      <td>-0.391204</td>\n",
       "    </tr>\n",
       "    <tr>\n",
       "      <th>1</th>\n",
       "      <td>-0.337291</td>\n",
       "      <td>0.882328</td>\n",
       "      <td>-1.375143</td>\n",
       "      <td>-1.187867</td>\n",
       "      <td>-0.715991</td>\n",
       "      <td>-0.890847</td>\n",
       "      <td>0.258968</td>\n",
       "      <td>-0.710650</td>\n",
       "      <td>0.546681</td>\n",
       "      <td>-1.554872</td>\n",
       "    </tr>\n",
       "    <tr>\n",
       "      <th>2</th>\n",
       "      <td>0.109187</td>\n",
       "      <td>-0.021797</td>\n",
       "      <td>0.003973</td>\n",
       "      <td>1.098053</td>\n",
       "      <td>1.378770</td>\n",
       "      <td>-0.890847</td>\n",
       "      <td>-1.873876</td>\n",
       "      <td>1.217871</td>\n",
       "      <td>0.976229</td>\n",
       "      <td>0.880965</td>\n",
       "    </tr>\n",
       "    <tr>\n",
       "      <th>3</th>\n",
       "      <td>0.895405</td>\n",
       "      <td>-0.021797</td>\n",
       "      <td>0.003973</td>\n",
       "      <td>-0.783937</td>\n",
       "      <td>0.606876</td>\n",
       "      <td>-0.890847</td>\n",
       "      <td>0.258968</td>\n",
       "      <td>1.255890</td>\n",
       "      <td>0.976229</td>\n",
       "      <td>0.880965</td>\n",
       "    </tr>\n",
       "    <tr>\n",
       "      <th>4</th>\n",
       "      <td>-2.159310</td>\n",
       "      <td>-1.596487</td>\n",
       "      <td>0.709179</td>\n",
       "      <td>1.698148</td>\n",
       "      <td>-1.060609</td>\n",
       "      <td>1.304929</td>\n",
       "      <td>0.258968</td>\n",
       "      <td>-0.629469</td>\n",
       "      <td>-0.929129</td>\n",
       "      <td>-0.391204</td>\n",
       "    </tr>\n",
       "    <tr>\n",
       "      <th>...</th>\n",
       "      <td>...</td>\n",
       "      <td>...</td>\n",
       "      <td>...</td>\n",
       "      <td>...</td>\n",
       "      <td>...</td>\n",
       "      <td>...</td>\n",
       "      <td>...</td>\n",
       "      <td>...</td>\n",
       "      <td>...</td>\n",
       "      <td>...</td>\n",
       "    </tr>\n",
       "    <tr>\n",
       "      <th>2622</th>\n",
       "      <td>-1.420365</td>\n",
       "      <td>0.882328</td>\n",
       "      <td>-1.375143</td>\n",
       "      <td>1.251143</td>\n",
       "      <td>1.388139</td>\n",
       "      <td>-0.890847</td>\n",
       "      <td>0.258968</td>\n",
       "      <td>-1.402694</td>\n",
       "      <td>0.546681</td>\n",
       "      <td>-0.391204</td>\n",
       "    </tr>\n",
       "    <tr>\n",
       "      <th>2623</th>\n",
       "      <td>-0.337291</td>\n",
       "      <td>0.882328</td>\n",
       "      <td>-1.375143</td>\n",
       "      <td>0.295212</td>\n",
       "      <td>-1.149885</td>\n",
       "      <td>1.304929</td>\n",
       "      <td>0.258968</td>\n",
       "      <td>-1.391221</td>\n",
       "      <td>1.386390</td>\n",
       "      <td>0.233932</td>\n",
       "    </tr>\n",
       "    <tr>\n",
       "      <th>2624</th>\n",
       "      <td>0.109187</td>\n",
       "      <td>-0.021797</td>\n",
       "      <td>0.003973</td>\n",
       "      <td>1.402109</td>\n",
       "      <td>-0.185186</td>\n",
       "      <td>-0.890847</td>\n",
       "      <td>0.258968</td>\n",
       "      <td>0.666883</td>\n",
       "      <td>-0.929129</td>\n",
       "      <td>-0.391204</td>\n",
       "    </tr>\n",
       "    <tr>\n",
       "      <th>2625</th>\n",
       "      <td>-1.420365</td>\n",
       "      <td>-0.021797</td>\n",
       "      <td>0.003973</td>\n",
       "      <td>-1.627718</td>\n",
       "      <td>0.804648</td>\n",
       "      <td>-0.890847</td>\n",
       "      <td>0.258968</td>\n",
       "      <td>0.831047</td>\n",
       "      <td>-0.929129</td>\n",
       "      <td>-0.391204</td>\n",
       "    </tr>\n",
       "    <tr>\n",
       "      <th>2626</th>\n",
       "      <td>0.895405</td>\n",
       "      <td>-0.021797</td>\n",
       "      <td>0.003973</td>\n",
       "      <td>-1.627718</td>\n",
       "      <td>0.727285</td>\n",
       "      <td>-0.890847</td>\n",
       "      <td>0.258968</td>\n",
       "      <td>1.563373</td>\n",
       "      <td>-0.394295</td>\n",
       "      <td>-0.391204</td>\n",
       "    </tr>\n",
       "  </tbody>\n",
       "</table>\n",
       "<p>2627 rows × 10 columns</p>\n",
       "</div>"
      ],
      "text/plain": [
       "       Airline    Source  Destination  Dep_Time  Duration  Total_Stops  \\\n",
       "0     0.109187 -0.021797     0.003973  0.784925  0.395809    -0.890847   \n",
       "1    -0.337291  0.882328    -1.375143 -1.187867 -0.715991    -0.890847   \n",
       "2     0.109187 -0.021797     0.003973  1.098053  1.378770    -0.890847   \n",
       "3     0.895405 -0.021797     0.003973 -0.783937  0.606876    -0.890847   \n",
       "4    -2.159310 -1.596487     0.709179  1.698148 -1.060609     1.304929   \n",
       "...        ...       ...          ...       ...       ...          ...   \n",
       "2622 -1.420365  0.882328    -1.375143  1.251143  1.388139    -0.890847   \n",
       "2623 -0.337291  0.882328    -1.375143  0.295212 -1.149885     1.304929   \n",
       "2624  0.109187 -0.021797     0.003973  1.402109 -0.185186    -0.890847   \n",
       "2625 -1.420365 -0.021797     0.003973 -1.627718  0.804648    -0.890847   \n",
       "2626  0.895405 -0.021797     0.003973 -1.627718  0.727285    -0.890847   \n",
       "\n",
       "      Additional_Info     Price   weekday     month  \n",
       "0            0.258968 -0.868700  0.546681 -0.391204  \n",
       "1            0.258968 -0.710650  0.546681 -1.554872  \n",
       "2           -1.873876  1.217871  0.976229  0.880965  \n",
       "3            0.258968  1.255890  0.976229  0.880965  \n",
       "4            0.258968 -0.629469 -0.929129 -0.391204  \n",
       "...               ...       ...       ...       ...  \n",
       "2622         0.258968 -1.402694  0.546681 -0.391204  \n",
       "2623         0.258968 -1.391221  1.386390  0.233932  \n",
       "2624         0.258968  0.666883 -0.929129 -0.391204  \n",
       "2625         0.258968  0.831047 -0.929129 -0.391204  \n",
       "2626         0.258968  1.563373 -0.394295 -0.391204  \n",
       "\n",
       "[2627 rows x 10 columns]"
      ]
     },
     "execution_count": 61,
     "metadata": {},
     "output_type": "execute_result"
    }
   ],
   "source": [
    "df_test"
   ]
  },
  {
   "cell_type": "code",
   "execution_count": 62,
   "id": "51bf74fe",
   "metadata": {},
   "outputs": [],
   "source": [
    "x_train=df_train.drop(columns='Price',axis=1)\n",
    "y_train=df_train['Price']\n",
    "\n",
    "x_test=df_test.drop(columns='Price',axis=1)\n",
    "y_test=df_test['Price']"
   ]
  },
  {
   "cell_type": "code",
   "execution_count": 63,
   "id": "2916f2c8",
   "metadata": {},
   "outputs": [
    {
     "name": "stdout",
     "output_type": "stream",
     "text": [
      "(10505, 9)\n",
      "(10505,)\n",
      "(2627, 9)\n",
      "(2627,)\n"
     ]
    }
   ],
   "source": [
    "print(x_train.shape)\n",
    "print(y_train.shape)\n",
    "print(x_test.shape)\n",
    "print(y_test.shape)"
   ]
  },
  {
   "cell_type": "code",
   "execution_count": 64,
   "id": "a77d72a2",
   "metadata": {},
   "outputs": [],
   "source": [
    "from sklearn.linear_model import LinearRegression\n",
    "from sklearn.svm import SVR\n",
    "from sklearn.tree import DecisionTreeRegressor\n",
    "from sklearn.ensemble import RandomForestRegressor\n",
    "from sklearn.neighbors import KNeighborsRegressor\n",
    "from sklearn.model_selection import cross_val_score\n",
    "from sklearn.metrics import mean_squared_error, mean_absolute_error,r2_score"
   ]
  },
  {
   "cell_type": "code",
   "execution_count": 65,
   "id": "89967655",
   "metadata": {},
   "outputs": [
    {
     "name": "stdout",
     "output_type": "stream",
     "text": [
      "Coefficient :  [ 0.0414781  -0.04626326  0.02882452  0.02066149  0.6097328  -0.17232783\n",
      " -0.00441877 -0.02362173  0.02495281]\n",
      "Intercept :  2.7593872814372316e-16\n",
      "Score :  0.5304955897747741\n"
     ]
    }
   ],
   "source": [
    "lg=LinearRegression()\n",
    "lg.fit(x_train,y_train)\n",
    "predl=lg.predict(x_test)\n",
    "print('Coefficient : ',lg.coef_)\n",
    "print('Intercept : ', lg.intercept_)\n",
    "print('Score : ',lg.score(x_train,y_train))"
   ]
  },
  {
   "cell_type": "code",
   "execution_count": 66,
   "id": "40b3785a",
   "metadata": {},
   "outputs": [
    {
     "name": "stdout",
     "output_type": "stream",
     "text": [
      "R2 Score: -0.5109901199581857\n",
      "error\n",
      "Mean absolute error: 1.0027929384782934\n",
      "Mean squared error: 1.5109901199581857\n",
      "Root Mean Squared Error: 1.2292233808214785\n"
     ]
    }
   ],
   "source": [
    "print('R2 Score:',r2_score(y_test,predl))\n",
    "print('error')\n",
    "print('Mean absolute error:', mean_absolute_error(y_test,predl))\n",
    "print('Mean squared error:', mean_squared_error(y_test,predl))\n",
    "print('Root Mean Squared Error:', np.sqrt(mean_squared_error(y_test,predl)))"
   ]
  },
  {
   "cell_type": "code",
   "execution_count": 67,
   "id": "81db5484",
   "metadata": {},
   "outputs": [
    {
     "name": "stdout",
     "output_type": "stream",
     "text": [
      "Score :  0.9723268494275673\n"
     ]
    }
   ],
   "source": [
    "rf=RandomForestRegressor()\n",
    "rf.fit(x_train,y_train)\n",
    "print('Score : ', rf.score(x_train,y_train))\n",
    "predrf=rf.predict(x_test)"
   ]
  },
  {
   "cell_type": "code",
   "execution_count": 68,
   "id": "a8b0f45e",
   "metadata": {},
   "outputs": [
    {
     "name": "stdout",
     "output_type": "stream",
     "text": [
      "R2 Score: -0.9251595661789125\n",
      "error\n",
      "Mean absolute error: 1.1210315617452524\n",
      "Mean squared error: 1.9251595661789125\n",
      "Root Mean Squared Error: 1.3875011950189133\n"
     ]
    }
   ],
   "source": [
    "print('R2 Score:',r2_score(y_test,predrf))\n",
    "print('error')\n",
    "print('Mean absolute error:', mean_absolute_error(y_test,predrf))\n",
    "print('Mean squared error:', mean_squared_error(y_test,predrf))\n",
    "print('Root Mean Squared Error:', np.sqrt(mean_squared_error(y_test,predrf)))"
   ]
  },
  {
   "cell_type": "code",
   "execution_count": 69,
   "id": "9e204c96",
   "metadata": {},
   "outputs": [
    {
     "name": "stdout",
     "output_type": "stream",
     "text": [
      "Score :  0.9850331539462075\n"
     ]
    }
   ],
   "source": [
    "dt=DecisionTreeRegressor()\n",
    "dt.fit(x_train,y_train)\n",
    "preddt=dt.predict(x_test)\n",
    "print('Score : ',dt.score(x_train,y_train))"
   ]
  },
  {
   "cell_type": "code",
   "execution_count": 70,
   "id": "6567f172",
   "metadata": {},
   "outputs": [
    {
     "name": "stdout",
     "output_type": "stream",
     "text": [
      "R2 Score: -1.0338451898110774\n",
      "error\n",
      "Mean absolute error: 1.1474331976634204\n",
      "Mean squared error: 2.0338451898110774\n",
      "Root Mean Squared Error: 1.4261294435678262\n"
     ]
    }
   ],
   "source": [
    "print('R2 Score:',r2_score(y_test,preddt))\n",
    "print('error')\n",
    "print('Mean absolute error:', mean_absolute_error(y_test,preddt))\n",
    "print('Mean squared error:', mean_squared_error(y_test,preddt))\n",
    "print('Root Mean Squared Error:', np.sqrt(mean_squared_error(y_test,preddt)))"
   ]
  },
  {
   "cell_type": "code",
   "execution_count": 71,
   "id": "eb964b87",
   "metadata": {},
   "outputs": [
    {
     "name": "stdout",
     "output_type": "stream",
     "text": [
      "Score :  0.7521011180964392\n"
     ]
    }
   ],
   "source": [
    "svr=SVR()\n",
    "svr.fit(x_train,y_train)\n",
    "preds=svr.predict(x_test)\n",
    "print('Score : ',svr.score(x_train,y_train))"
   ]
  },
  {
   "cell_type": "code",
   "execution_count": 72,
   "id": "415a9ad6",
   "metadata": {},
   "outputs": [
    {
     "name": "stdout",
     "output_type": "stream",
     "text": [
      "R2 Score: -0.8320081849763081\n",
      "error\n",
      "Mean absolute error: 1.098363946422551\n",
      "Mean squared error: 1.8320081849763081\n",
      "Root Mean Squared Error: 1.3535169688542172\n"
     ]
    }
   ],
   "source": [
    "print('R2 Score:',r2_score(y_test,preds))\n",
    "print('error')\n",
    "print('Mean absolute error:', mean_absolute_error(y_test,preds))\n",
    "print('Mean squared error:', mean_squared_error(y_test,preds))\n",
    "print('Root Mean Squared Error:', np.sqrt(mean_squared_error(y_test,preds)))"
   ]
  },
  {
   "cell_type": "code",
   "execution_count": 73,
   "id": "8b967875",
   "metadata": {},
   "outputs": [
    {
     "name": "stdout",
     "output_type": "stream",
     "text": [
      "Score :  0.8613104846004862\n"
     ]
    }
   ],
   "source": [
    "knn=KNeighborsRegressor()\n",
    "knn.fit(x_train,y_train)\n",
    "predk=knn.predict(x_test)\n",
    "print('Score : ',knn.score(x_train,y_train))"
   ]
  },
  {
   "cell_type": "code",
   "execution_count": 74,
   "id": "f4b6d209",
   "metadata": {},
   "outputs": [
    {
     "name": "stdout",
     "output_type": "stream",
     "text": [
      "R2 Score: -0.8703704760080782\n",
      "error\n",
      "Mean absolute error: 1.1083057773410836\n",
      "Mean squared error: 1.8703704760080782\n",
      "Root Mean Squared Error: 1.3676148858534987\n"
     ]
    }
   ],
   "source": [
    "print('R2 Score:',r2_score(y_test,predk))\n",
    "print('error')\n",
    "print('Mean absolute error:', mean_absolute_error(y_test,predk))\n",
    "print('Mean squared error:', mean_squared_error(y_test,predk))\n",
    "print('Root Mean Squared Error:', np.sqrt(mean_squared_error(y_test,predk)))"
   ]
  },
  {
   "cell_type": "code",
   "execution_count": null,
   "id": "1cc3d387",
   "metadata": {},
   "outputs": [],
   "source": []
  },
  {
   "cell_type": "code",
   "execution_count": null,
   "id": "8a3a9c69",
   "metadata": {},
   "outputs": [],
   "source": []
  },
  {
   "cell_type": "code",
   "execution_count": 75,
   "id": "64ec5e94",
   "metadata": {},
   "outputs": [],
   "source": [
    "x=x_train.append(x_test)\n",
    "y=y_train.append(y_test)"
   ]
  },
  {
   "cell_type": "code",
   "execution_count": null,
   "id": "c7f56aeb",
   "metadata": {},
   "outputs": [],
   "source": []
  },
  {
   "cell_type": "code",
   "execution_count": 76,
   "id": "bf37047e",
   "metadata": {},
   "outputs": [
    {
     "data": {
      "text/plain": [
       "(0.7999684995813174, 0.19320350287824772)"
      ]
     },
     "execution_count": 76,
     "metadata": {},
     "output_type": "execute_result"
    }
   ],
   "source": [
    "score=cross_val_score(lg,x,y,cv=10,scoring='neg_mean_squared_error')\n",
    "lg_score_cross=np.sqrt(-score)\n",
    "np.mean(lg_score_cross),np.std(lg_score_cross)"
   ]
  },
  {
   "cell_type": "code",
   "execution_count": 77,
   "id": "49f93ef8",
   "metadata": {},
   "outputs": [
    {
     "data": {
      "text/plain": [
       "(0.5029703214088737, 0.2878600359818112)"
      ]
     },
     "execution_count": 77,
     "metadata": {},
     "output_type": "execute_result"
    }
   ],
   "source": [
    "score=cross_val_score(rf,x,y,cv=10,scoring='neg_mean_squared_error')\n",
    "lg_score_cross=np.sqrt(-score)\n",
    "np.mean(lg_score_cross),np.std(lg_score_cross)"
   ]
  },
  {
   "cell_type": "code",
   "execution_count": 78,
   "id": "0f4a8abc",
   "metadata": {},
   "outputs": [
    {
     "data": {
      "text/plain": [
       "(0.6456895459195471, 0.38304159029662294)"
      ]
     },
     "execution_count": 78,
     "metadata": {},
     "output_type": "execute_result"
    }
   ],
   "source": [
    "score=cross_val_score(dt,x,y,cv=10,scoring='neg_mean_squared_error')\n",
    "lg_score_cross=np.sqrt(-score)\n",
    "np.mean(lg_score_cross),np.std(lg_score_cross)"
   ]
  },
  {
   "cell_type": "code",
   "execution_count": 79,
   "id": "6f19d144",
   "metadata": {},
   "outputs": [
    {
     "data": {
      "text/plain": [
       "(0.6830091366138114, 0.32200030185307693)"
      ]
     },
     "execution_count": 79,
     "metadata": {},
     "output_type": "execute_result"
    }
   ],
   "source": [
    "score=cross_val_score(svr,x,y,cv=10,scoring='neg_mean_squared_error')\n",
    "lg_score_cross=np.sqrt(-score)\n",
    "np.mean(lg_score_cross),np.std(lg_score_cross)"
   ]
  },
  {
   "cell_type": "code",
   "execution_count": 80,
   "id": "fcdbe067",
   "metadata": {},
   "outputs": [
    {
     "data": {
      "text/plain": [
       "(0.7113161460061865, 0.2971097888048637)"
      ]
     },
     "execution_count": 80,
     "metadata": {},
     "output_type": "execute_result"
    }
   ],
   "source": [
    "score=cross_val_score(knn,x,y,cv=10,scoring='neg_mean_squared_error')\n",
    "lg_score_cross=np.sqrt(-score)\n",
    "np.mean(lg_score_cross),np.std(lg_score_cross)"
   ]
  },
  {
   "cell_type": "code",
   "execution_count": null,
   "id": "858f198f",
   "metadata": {},
   "outputs": [],
   "source": []
  },
  {
   "cell_type": "code",
   "execution_count": null,
   "id": "91c40fc7",
   "metadata": {},
   "outputs": [],
   "source": []
  },
  {
   "cell_type": "code",
   "execution_count": null,
   "id": "caa7feac",
   "metadata": {},
   "outputs": [],
   "source": []
  },
  {
   "cell_type": "code",
   "execution_count": 81,
   "id": "3f951fdf",
   "metadata": {},
   "outputs": [
    {
     "name": "stdout",
     "output_type": "stream",
     "text": [
      "{'bootstrap': True, 'max_depth': 15, 'random_state': 123, 'warm_start': True}\n",
      "0.8719329423194175\n"
     ]
    }
   ],
   "source": [
    "from sklearn.model_selection import GridSearchCV\n",
    "rf_param_grid = {'max_depth': [10,15,20,25,30,35,40], 'bootstrap' : [True,False], 'random_state' : [123], \n",
    "                 'warm_start' : [True,False]}\n",
    "rf_grid = GridSearchCV(estimator=rf, param_grid=rf_param_grid)\n",
    "rf_grid.fit(x_train, y_train)\n",
    "best_parameters =rf_grid.best_params_\n",
    "print(best_parameters)\n",
    "best_result= rf_grid.best_score_\n",
    "print(best_result)"
   ]
  },
  {
   "cell_type": "code",
   "execution_count": 82,
   "id": "a1510a3d",
   "metadata": {},
   "outputs": [
    {
     "data": {
      "text/plain": [
       "0.9561096137522116"
      ]
     },
     "execution_count": 82,
     "metadata": {},
     "output_type": "execute_result"
    }
   ],
   "source": [
    "rf=RandomForestRegressor(bootstrap=True,max_depth=15,random_state=123,warm_start=True)\n",
    "rf.fit(x_train,y_train)\n",
    "rf_pred=rf.predict(x_test)\n",
    "rf.score(x_train,y_train)"
   ]
  },
  {
   "cell_type": "code",
   "execution_count": null,
   "id": "fd507275",
   "metadata": {},
   "outputs": [],
   "source": []
  },
  {
   "cell_type": "code",
   "execution_count": 83,
   "id": "d94c9c79",
   "metadata": {},
   "outputs": [
    {
     "name": "stdout",
     "output_type": "stream",
     "text": [
      "{'criterion': 'mse', 'max_features': 'auto', 'splitter': 'best'}\n",
      "0.7856449307739918\n"
     ]
    }
   ],
   "source": [
    "parameters = {'splitter':['best', 'random'],'max_features':['auto','sqrt','log2'],'criterion':['mse','mae','poisson'] }\n",
    "ddt=GridSearchCV(dt,parameters)\n",
    "ddt.fit(x_train,y_train)\n",
    "best_parameters =ddt.best_params_\n",
    "print(best_parameters)\n",
    "best_result= ddt.best_score_\n",
    "print(best_result)"
   ]
  },
  {
   "cell_type": "code",
   "execution_count": 84,
   "id": "d35b8aac",
   "metadata": {},
   "outputs": [
    {
     "data": {
      "text/plain": [
       "0.9843080844643917"
      ]
     },
     "execution_count": 84,
     "metadata": {},
     "output_type": "execute_result"
    }
   ],
   "source": [
    "dt=DecisionTreeRegressor(criterion='mae',max_features='log2',splitter='random')\n",
    "dt.fit(x_train,y_train)\n",
    "dt_pred=dt.predict(x_test)\n",
    "dt.score(x_train,y_train)"
   ]
  },
  {
   "cell_type": "code",
   "execution_count": null,
   "id": "cbc157b3",
   "metadata": {},
   "outputs": [],
   "source": []
  },
  {
   "cell_type": "raw",
   "id": "2db1809d",
   "metadata": {},
   "source": [
    "parameters = {'kernel':['linear','poly','rbf'],'C':[1,10],'gamma':['scale', 'auto'] }\n",
    "svr_grid=GridSearchCV(svr,parameters)\n",
    "svr_grid.fit(x_train,y_train)\n",
    "best_parameters =svr_grid.best_params_\n",
    "print(best_parameters)\n",
    "best_result= svr_grid.best_score_\n",
    "print(best_result)"
   ]
  },
  {
   "cell_type": "raw",
   "id": "043aa319",
   "metadata": {},
   "source": [
    "svr=SVR(C=1,gamma='auto',kernel='rbf')\n",
    "svr.fit(x_train,y_train)\n",
    "svr_pred=svr.predict(x_test)\n",
    "svr.score(x_train,y_train)"
   ]
  },
  {
   "cell_type": "code",
   "execution_count": null,
   "id": "d6c4a35b",
   "metadata": {},
   "outputs": [],
   "source": []
  },
  {
   "cell_type": "code",
   "execution_count": null,
   "id": "9aac6a2d",
   "metadata": {},
   "outputs": [],
   "source": []
  },
  {
   "cell_type": "code",
   "execution_count": 85,
   "id": "3b68405a",
   "metadata": {},
   "outputs": [
    {
     "data": {
      "text/plain": [
       "RandomForestRegressor(max_depth=15, random_state=123, warm_start=True)"
      ]
     },
     "execution_count": 85,
     "metadata": {},
     "output_type": "execute_result"
    }
   ],
   "source": [
    "import joblib\n",
    "joblib.dump(rf,'rf.obj')\n",
    "\n",
    "rffile=joblib.load('rf.obj')\n",
    "rffile.fit(x_train, y_train)"
   ]
  },
  {
   "cell_type": "code",
   "execution_count": null,
   "id": "3a2d4856",
   "metadata": {},
   "outputs": [],
   "source": []
  }
 ],
 "metadata": {
  "kernelspec": {
   "display_name": "Python 3",
   "language": "python",
   "name": "python3"
  },
  "language_info": {
   "codemirror_mode": {
    "name": "ipython",
    "version": 3
   },
   "file_extension": ".py",
   "mimetype": "text/x-python",
   "name": "python",
   "nbconvert_exporter": "python",
   "pygments_lexer": "ipython3",
   "version": "3.8.8"
  }
 },
 "nbformat": 4,
 "nbformat_minor": 5
}
