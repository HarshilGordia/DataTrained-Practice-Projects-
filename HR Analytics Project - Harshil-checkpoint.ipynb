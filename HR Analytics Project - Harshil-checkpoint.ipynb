{
 "cells": [
  {
   "cell_type": "code",
   "execution_count": 8,
   "id": "98e726c6",
   "metadata": {},
   "outputs": [],
   "source": [
    "import pandas as pd\n",
    "import numpy as np\n",
    "import seaborn as sns\n",
    "import matplotlib.pyplot as plt\n",
    "import warnings \n",
    "warnings.filterwarnings('ignore')"
   ]
  },
  {
   "cell_type": "code",
   "execution_count": 9,
   "id": "e053124b",
   "metadata": {},
   "outputs": [],
   "source": [
    "df=pd.read_csv('HR Analytics.csv')"
   ]
  },
  {
   "cell_type": "code",
   "execution_count": 10,
   "id": "96bc654b",
   "metadata": {},
   "outputs": [
    {
     "data": {
      "text/html": [
       "<div>\n",
       "<style scoped>\n",
       "    .dataframe tbody tr th:only-of-type {\n",
       "        vertical-align: middle;\n",
       "    }\n",
       "\n",
       "    .dataframe tbody tr th {\n",
       "        vertical-align: top;\n",
       "    }\n",
       "\n",
       "    .dataframe thead th {\n",
       "        text-align: right;\n",
       "    }\n",
       "</style>\n",
       "<table border=\"1\" class=\"dataframe\">\n",
       "  <thead>\n",
       "    <tr style=\"text-align: right;\">\n",
       "      <th></th>\n",
       "      <th>Age</th>\n",
       "      <th>Attrition</th>\n",
       "      <th>BusinessTravel</th>\n",
       "      <th>DailyRate</th>\n",
       "      <th>Department</th>\n",
       "      <th>DistanceFromHome</th>\n",
       "      <th>Education</th>\n",
       "      <th>EducationField</th>\n",
       "      <th>EmployeeCount</th>\n",
       "      <th>EmployeeNumber</th>\n",
       "      <th>...</th>\n",
       "      <th>RelationshipSatisfaction</th>\n",
       "      <th>StandardHours</th>\n",
       "      <th>StockOptionLevel</th>\n",
       "      <th>TotalWorkingYears</th>\n",
       "      <th>TrainingTimesLastYear</th>\n",
       "      <th>WorkLifeBalance</th>\n",
       "      <th>YearsAtCompany</th>\n",
       "      <th>YearsInCurrentRole</th>\n",
       "      <th>YearsSinceLastPromotion</th>\n",
       "      <th>YearsWithCurrManager</th>\n",
       "    </tr>\n",
       "  </thead>\n",
       "  <tbody>\n",
       "    <tr>\n",
       "      <th>0</th>\n",
       "      <td>41</td>\n",
       "      <td>Yes</td>\n",
       "      <td>Travel_Rarely</td>\n",
       "      <td>1102</td>\n",
       "      <td>Sales</td>\n",
       "      <td>1</td>\n",
       "      <td>2</td>\n",
       "      <td>Life Sciences</td>\n",
       "      <td>1</td>\n",
       "      <td>1</td>\n",
       "      <td>...</td>\n",
       "      <td>1</td>\n",
       "      <td>80</td>\n",
       "      <td>0</td>\n",
       "      <td>8</td>\n",
       "      <td>0</td>\n",
       "      <td>1</td>\n",
       "      <td>6</td>\n",
       "      <td>4</td>\n",
       "      <td>0</td>\n",
       "      <td>5</td>\n",
       "    </tr>\n",
       "    <tr>\n",
       "      <th>1</th>\n",
       "      <td>49</td>\n",
       "      <td>No</td>\n",
       "      <td>Travel_Frequently</td>\n",
       "      <td>279</td>\n",
       "      <td>Research &amp; Development</td>\n",
       "      <td>8</td>\n",
       "      <td>1</td>\n",
       "      <td>Life Sciences</td>\n",
       "      <td>1</td>\n",
       "      <td>2</td>\n",
       "      <td>...</td>\n",
       "      <td>4</td>\n",
       "      <td>80</td>\n",
       "      <td>1</td>\n",
       "      <td>10</td>\n",
       "      <td>3</td>\n",
       "      <td>3</td>\n",
       "      <td>10</td>\n",
       "      <td>7</td>\n",
       "      <td>1</td>\n",
       "      <td>7</td>\n",
       "    </tr>\n",
       "    <tr>\n",
       "      <th>2</th>\n",
       "      <td>37</td>\n",
       "      <td>Yes</td>\n",
       "      <td>Travel_Rarely</td>\n",
       "      <td>1373</td>\n",
       "      <td>Research &amp; Development</td>\n",
       "      <td>2</td>\n",
       "      <td>2</td>\n",
       "      <td>Other</td>\n",
       "      <td>1</td>\n",
       "      <td>4</td>\n",
       "      <td>...</td>\n",
       "      <td>2</td>\n",
       "      <td>80</td>\n",
       "      <td>0</td>\n",
       "      <td>7</td>\n",
       "      <td>3</td>\n",
       "      <td>3</td>\n",
       "      <td>0</td>\n",
       "      <td>0</td>\n",
       "      <td>0</td>\n",
       "      <td>0</td>\n",
       "    </tr>\n",
       "    <tr>\n",
       "      <th>3</th>\n",
       "      <td>33</td>\n",
       "      <td>No</td>\n",
       "      <td>Travel_Frequently</td>\n",
       "      <td>1392</td>\n",
       "      <td>Research &amp; Development</td>\n",
       "      <td>3</td>\n",
       "      <td>4</td>\n",
       "      <td>Life Sciences</td>\n",
       "      <td>1</td>\n",
       "      <td>5</td>\n",
       "      <td>...</td>\n",
       "      <td>3</td>\n",
       "      <td>80</td>\n",
       "      <td>0</td>\n",
       "      <td>8</td>\n",
       "      <td>3</td>\n",
       "      <td>3</td>\n",
       "      <td>8</td>\n",
       "      <td>7</td>\n",
       "      <td>3</td>\n",
       "      <td>0</td>\n",
       "    </tr>\n",
       "    <tr>\n",
       "      <th>4</th>\n",
       "      <td>27</td>\n",
       "      <td>No</td>\n",
       "      <td>Travel_Rarely</td>\n",
       "      <td>591</td>\n",
       "      <td>Research &amp; Development</td>\n",
       "      <td>2</td>\n",
       "      <td>1</td>\n",
       "      <td>Medical</td>\n",
       "      <td>1</td>\n",
       "      <td>7</td>\n",
       "      <td>...</td>\n",
       "      <td>4</td>\n",
       "      <td>80</td>\n",
       "      <td>1</td>\n",
       "      <td>6</td>\n",
       "      <td>3</td>\n",
       "      <td>3</td>\n",
       "      <td>2</td>\n",
       "      <td>2</td>\n",
       "      <td>2</td>\n",
       "      <td>2</td>\n",
       "    </tr>\n",
       "  </tbody>\n",
       "</table>\n",
       "<p>5 rows × 35 columns</p>\n",
       "</div>"
      ],
      "text/plain": [
       "   Age Attrition     BusinessTravel  DailyRate              Department  \\\n",
       "0   41       Yes      Travel_Rarely       1102                   Sales   \n",
       "1   49        No  Travel_Frequently        279  Research & Development   \n",
       "2   37       Yes      Travel_Rarely       1373  Research & Development   \n",
       "3   33        No  Travel_Frequently       1392  Research & Development   \n",
       "4   27        No      Travel_Rarely        591  Research & Development   \n",
       "\n",
       "   DistanceFromHome  Education EducationField  EmployeeCount  EmployeeNumber  \\\n",
       "0                 1          2  Life Sciences              1               1   \n",
       "1                 8          1  Life Sciences              1               2   \n",
       "2                 2          2          Other              1               4   \n",
       "3                 3          4  Life Sciences              1               5   \n",
       "4                 2          1        Medical              1               7   \n",
       "\n",
       "   ...  RelationshipSatisfaction StandardHours  StockOptionLevel  \\\n",
       "0  ...                         1            80                 0   \n",
       "1  ...                         4            80                 1   \n",
       "2  ...                         2            80                 0   \n",
       "3  ...                         3            80                 0   \n",
       "4  ...                         4            80                 1   \n",
       "\n",
       "   TotalWorkingYears  TrainingTimesLastYear WorkLifeBalance  YearsAtCompany  \\\n",
       "0                  8                      0               1               6   \n",
       "1                 10                      3               3              10   \n",
       "2                  7                      3               3               0   \n",
       "3                  8                      3               3               8   \n",
       "4                  6                      3               3               2   \n",
       "\n",
       "  YearsInCurrentRole  YearsSinceLastPromotion  YearsWithCurrManager  \n",
       "0                  4                        0                     5  \n",
       "1                  7                        1                     7  \n",
       "2                  0                        0                     0  \n",
       "3                  7                        3                     0  \n",
       "4                  2                        2                     2  \n",
       "\n",
       "[5 rows x 35 columns]"
      ]
     },
     "execution_count": 10,
     "metadata": {},
     "output_type": "execute_result"
    }
   ],
   "source": [
    "df.head()"
   ]
  },
  {
   "cell_type": "code",
   "execution_count": 11,
   "id": "2c1cf282",
   "metadata": {},
   "outputs": [
    {
     "data": {
      "text/html": [
       "<div>\n",
       "<style scoped>\n",
       "    .dataframe tbody tr th:only-of-type {\n",
       "        vertical-align: middle;\n",
       "    }\n",
       "\n",
       "    .dataframe tbody tr th {\n",
       "        vertical-align: top;\n",
       "    }\n",
       "\n",
       "    .dataframe thead th {\n",
       "        text-align: right;\n",
       "    }\n",
       "</style>\n",
       "<table border=\"1\" class=\"dataframe\">\n",
       "  <thead>\n",
       "    <tr style=\"text-align: right;\">\n",
       "      <th></th>\n",
       "      <th>Age</th>\n",
       "      <th>Attrition</th>\n",
       "      <th>BusinessTravel</th>\n",
       "      <th>DailyRate</th>\n",
       "      <th>Department</th>\n",
       "      <th>DistanceFromHome</th>\n",
       "      <th>Education</th>\n",
       "      <th>EducationField</th>\n",
       "      <th>EmployeeCount</th>\n",
       "      <th>EmployeeNumber</th>\n",
       "      <th>...</th>\n",
       "      <th>RelationshipSatisfaction</th>\n",
       "      <th>StandardHours</th>\n",
       "      <th>StockOptionLevel</th>\n",
       "      <th>TotalWorkingYears</th>\n",
       "      <th>TrainingTimesLastYear</th>\n",
       "      <th>WorkLifeBalance</th>\n",
       "      <th>YearsAtCompany</th>\n",
       "      <th>YearsInCurrentRole</th>\n",
       "      <th>YearsSinceLastPromotion</th>\n",
       "      <th>YearsWithCurrManager</th>\n",
       "    </tr>\n",
       "  </thead>\n",
       "  <tbody>\n",
       "    <tr>\n",
       "      <th>1465</th>\n",
       "      <td>36</td>\n",
       "      <td>No</td>\n",
       "      <td>Travel_Frequently</td>\n",
       "      <td>884</td>\n",
       "      <td>Research &amp; Development</td>\n",
       "      <td>23</td>\n",
       "      <td>2</td>\n",
       "      <td>Medical</td>\n",
       "      <td>1</td>\n",
       "      <td>2061</td>\n",
       "      <td>...</td>\n",
       "      <td>3</td>\n",
       "      <td>80</td>\n",
       "      <td>1</td>\n",
       "      <td>17</td>\n",
       "      <td>3</td>\n",
       "      <td>3</td>\n",
       "      <td>5</td>\n",
       "      <td>2</td>\n",
       "      <td>0</td>\n",
       "      <td>3</td>\n",
       "    </tr>\n",
       "    <tr>\n",
       "      <th>1466</th>\n",
       "      <td>39</td>\n",
       "      <td>No</td>\n",
       "      <td>Travel_Rarely</td>\n",
       "      <td>613</td>\n",
       "      <td>Research &amp; Development</td>\n",
       "      <td>6</td>\n",
       "      <td>1</td>\n",
       "      <td>Medical</td>\n",
       "      <td>1</td>\n",
       "      <td>2062</td>\n",
       "      <td>...</td>\n",
       "      <td>1</td>\n",
       "      <td>80</td>\n",
       "      <td>1</td>\n",
       "      <td>9</td>\n",
       "      <td>5</td>\n",
       "      <td>3</td>\n",
       "      <td>7</td>\n",
       "      <td>7</td>\n",
       "      <td>1</td>\n",
       "      <td>7</td>\n",
       "    </tr>\n",
       "    <tr>\n",
       "      <th>1467</th>\n",
       "      <td>27</td>\n",
       "      <td>No</td>\n",
       "      <td>Travel_Rarely</td>\n",
       "      <td>155</td>\n",
       "      <td>Research &amp; Development</td>\n",
       "      <td>4</td>\n",
       "      <td>3</td>\n",
       "      <td>Life Sciences</td>\n",
       "      <td>1</td>\n",
       "      <td>2064</td>\n",
       "      <td>...</td>\n",
       "      <td>2</td>\n",
       "      <td>80</td>\n",
       "      <td>1</td>\n",
       "      <td>6</td>\n",
       "      <td>0</td>\n",
       "      <td>3</td>\n",
       "      <td>6</td>\n",
       "      <td>2</td>\n",
       "      <td>0</td>\n",
       "      <td>3</td>\n",
       "    </tr>\n",
       "    <tr>\n",
       "      <th>1468</th>\n",
       "      <td>49</td>\n",
       "      <td>No</td>\n",
       "      <td>Travel_Frequently</td>\n",
       "      <td>1023</td>\n",
       "      <td>Sales</td>\n",
       "      <td>2</td>\n",
       "      <td>3</td>\n",
       "      <td>Medical</td>\n",
       "      <td>1</td>\n",
       "      <td>2065</td>\n",
       "      <td>...</td>\n",
       "      <td>4</td>\n",
       "      <td>80</td>\n",
       "      <td>0</td>\n",
       "      <td>17</td>\n",
       "      <td>3</td>\n",
       "      <td>2</td>\n",
       "      <td>9</td>\n",
       "      <td>6</td>\n",
       "      <td>0</td>\n",
       "      <td>8</td>\n",
       "    </tr>\n",
       "    <tr>\n",
       "      <th>1469</th>\n",
       "      <td>34</td>\n",
       "      <td>No</td>\n",
       "      <td>Travel_Rarely</td>\n",
       "      <td>628</td>\n",
       "      <td>Research &amp; Development</td>\n",
       "      <td>8</td>\n",
       "      <td>3</td>\n",
       "      <td>Medical</td>\n",
       "      <td>1</td>\n",
       "      <td>2068</td>\n",
       "      <td>...</td>\n",
       "      <td>1</td>\n",
       "      <td>80</td>\n",
       "      <td>0</td>\n",
       "      <td>6</td>\n",
       "      <td>3</td>\n",
       "      <td>4</td>\n",
       "      <td>4</td>\n",
       "      <td>3</td>\n",
       "      <td>1</td>\n",
       "      <td>2</td>\n",
       "    </tr>\n",
       "  </tbody>\n",
       "</table>\n",
       "<p>5 rows × 35 columns</p>\n",
       "</div>"
      ],
      "text/plain": [
       "      Age Attrition     BusinessTravel  DailyRate              Department  \\\n",
       "1465   36        No  Travel_Frequently        884  Research & Development   \n",
       "1466   39        No      Travel_Rarely        613  Research & Development   \n",
       "1467   27        No      Travel_Rarely        155  Research & Development   \n",
       "1468   49        No  Travel_Frequently       1023                   Sales   \n",
       "1469   34        No      Travel_Rarely        628  Research & Development   \n",
       "\n",
       "      DistanceFromHome  Education EducationField  EmployeeCount  \\\n",
       "1465                23          2        Medical              1   \n",
       "1466                 6          1        Medical              1   \n",
       "1467                 4          3  Life Sciences              1   \n",
       "1468                 2          3        Medical              1   \n",
       "1469                 8          3        Medical              1   \n",
       "\n",
       "      EmployeeNumber  ...  RelationshipSatisfaction StandardHours  \\\n",
       "1465            2061  ...                         3            80   \n",
       "1466            2062  ...                         1            80   \n",
       "1467            2064  ...                         2            80   \n",
       "1468            2065  ...                         4            80   \n",
       "1469            2068  ...                         1            80   \n",
       "\n",
       "      StockOptionLevel  TotalWorkingYears  TrainingTimesLastYear  \\\n",
       "1465                 1                 17                      3   \n",
       "1466                 1                  9                      5   \n",
       "1467                 1                  6                      0   \n",
       "1468                 0                 17                      3   \n",
       "1469                 0                  6                      3   \n",
       "\n",
       "     WorkLifeBalance  YearsAtCompany YearsInCurrentRole  \\\n",
       "1465               3               5                  2   \n",
       "1466               3               7                  7   \n",
       "1467               3               6                  2   \n",
       "1468               2               9                  6   \n",
       "1469               4               4                  3   \n",
       "\n",
       "      YearsSinceLastPromotion  YearsWithCurrManager  \n",
       "1465                        0                     3  \n",
       "1466                        1                     7  \n",
       "1467                        0                     3  \n",
       "1468                        0                     8  \n",
       "1469                        1                     2  \n",
       "\n",
       "[5 rows x 35 columns]"
      ]
     },
     "execution_count": 11,
     "metadata": {},
     "output_type": "execute_result"
    }
   ],
   "source": [
    "df.tail()"
   ]
  },
  {
   "cell_type": "code",
   "execution_count": 12,
   "id": "8020f702",
   "metadata": {},
   "outputs": [
    {
     "data": {
      "text/plain": [
       "(1470, 35)"
      ]
     },
     "execution_count": 12,
     "metadata": {},
     "output_type": "execute_result"
    }
   ],
   "source": [
    "df.shape"
   ]
  },
  {
   "cell_type": "code",
   "execution_count": 13,
   "id": "83f0ad7c",
   "metadata": {},
   "outputs": [
    {
     "name": "stdout",
     "output_type": "stream",
     "text": [
      "<class 'pandas.core.frame.DataFrame'>\n",
      "RangeIndex: 1470 entries, 0 to 1469\n",
      "Data columns (total 35 columns):\n",
      " #   Column                    Non-Null Count  Dtype \n",
      "---  ------                    --------------  ----- \n",
      " 0   Age                       1470 non-null   int64 \n",
      " 1   Attrition                 1470 non-null   object\n",
      " 2   BusinessTravel            1470 non-null   object\n",
      " 3   DailyRate                 1470 non-null   int64 \n",
      " 4   Department                1470 non-null   object\n",
      " 5   DistanceFromHome          1470 non-null   int64 \n",
      " 6   Education                 1470 non-null   int64 \n",
      " 7   EducationField            1470 non-null   object\n",
      " 8   EmployeeCount             1470 non-null   int64 \n",
      " 9   EmployeeNumber            1470 non-null   int64 \n",
      " 10  EnvironmentSatisfaction   1470 non-null   int64 \n",
      " 11  Gender                    1470 non-null   object\n",
      " 12  HourlyRate                1470 non-null   int64 \n",
      " 13  JobInvolvement            1470 non-null   int64 \n",
      " 14  JobLevel                  1470 non-null   int64 \n",
      " 15  JobRole                   1470 non-null   object\n",
      " 16  JobSatisfaction           1470 non-null   int64 \n",
      " 17  MaritalStatus             1470 non-null   object\n",
      " 18  MonthlyIncome             1470 non-null   int64 \n",
      " 19  MonthlyRate               1470 non-null   int64 \n",
      " 20  NumCompaniesWorked        1470 non-null   int64 \n",
      " 21  Over18                    1470 non-null   object\n",
      " 22  OverTime                  1470 non-null   object\n",
      " 23  PercentSalaryHike         1470 non-null   int64 \n",
      " 24  PerformanceRating         1470 non-null   int64 \n",
      " 25  RelationshipSatisfaction  1470 non-null   int64 \n",
      " 26  StandardHours             1470 non-null   int64 \n",
      " 27  StockOptionLevel          1470 non-null   int64 \n",
      " 28  TotalWorkingYears         1470 non-null   int64 \n",
      " 29  TrainingTimesLastYear     1470 non-null   int64 \n",
      " 30  WorkLifeBalance           1470 non-null   int64 \n",
      " 31  YearsAtCompany            1470 non-null   int64 \n",
      " 32  YearsInCurrentRole        1470 non-null   int64 \n",
      " 33  YearsSinceLastPromotion   1470 non-null   int64 \n",
      " 34  YearsWithCurrManager      1470 non-null   int64 \n",
      "dtypes: int64(26), object(9)\n",
      "memory usage: 402.1+ KB\n"
     ]
    }
   ],
   "source": [
    "df.info()"
   ]
  },
  {
   "cell_type": "code",
   "execution_count": 14,
   "id": "6a891775",
   "metadata": {},
   "outputs": [
    {
     "data": {
      "text/html": [
       "<div>\n",
       "<style scoped>\n",
       "    .dataframe tbody tr th:only-of-type {\n",
       "        vertical-align: middle;\n",
       "    }\n",
       "\n",
       "    .dataframe tbody tr th {\n",
       "        vertical-align: top;\n",
       "    }\n",
       "\n",
       "    .dataframe thead th {\n",
       "        text-align: right;\n",
       "    }\n",
       "</style>\n",
       "<table border=\"1\" class=\"dataframe\">\n",
       "  <thead>\n",
       "    <tr style=\"text-align: right;\">\n",
       "      <th></th>\n",
       "      <th>Age</th>\n",
       "      <th>Attrition</th>\n",
       "      <th>BusinessTravel</th>\n",
       "      <th>DailyRate</th>\n",
       "      <th>Department</th>\n",
       "      <th>DistanceFromHome</th>\n",
       "      <th>Education</th>\n",
       "      <th>EducationField</th>\n",
       "      <th>EmployeeCount</th>\n",
       "      <th>EmployeeNumber</th>\n",
       "      <th>...</th>\n",
       "      <th>RelationshipSatisfaction</th>\n",
       "      <th>StandardHours</th>\n",
       "      <th>StockOptionLevel</th>\n",
       "      <th>TotalWorkingYears</th>\n",
       "      <th>TrainingTimesLastYear</th>\n",
       "      <th>WorkLifeBalance</th>\n",
       "      <th>YearsAtCompany</th>\n",
       "      <th>YearsInCurrentRole</th>\n",
       "      <th>YearsSinceLastPromotion</th>\n",
       "      <th>YearsWithCurrManager</th>\n",
       "    </tr>\n",
       "  </thead>\n",
       "  <tbody>\n",
       "    <tr>\n",
       "      <th>0</th>\n",
       "      <td>False</td>\n",
       "      <td>False</td>\n",
       "      <td>False</td>\n",
       "      <td>False</td>\n",
       "      <td>False</td>\n",
       "      <td>False</td>\n",
       "      <td>False</td>\n",
       "      <td>False</td>\n",
       "      <td>False</td>\n",
       "      <td>False</td>\n",
       "      <td>...</td>\n",
       "      <td>False</td>\n",
       "      <td>False</td>\n",
       "      <td>False</td>\n",
       "      <td>False</td>\n",
       "      <td>False</td>\n",
       "      <td>False</td>\n",
       "      <td>False</td>\n",
       "      <td>False</td>\n",
       "      <td>False</td>\n",
       "      <td>False</td>\n",
       "    </tr>\n",
       "    <tr>\n",
       "      <th>1</th>\n",
       "      <td>False</td>\n",
       "      <td>False</td>\n",
       "      <td>False</td>\n",
       "      <td>False</td>\n",
       "      <td>False</td>\n",
       "      <td>False</td>\n",
       "      <td>False</td>\n",
       "      <td>False</td>\n",
       "      <td>False</td>\n",
       "      <td>False</td>\n",
       "      <td>...</td>\n",
       "      <td>False</td>\n",
       "      <td>False</td>\n",
       "      <td>False</td>\n",
       "      <td>False</td>\n",
       "      <td>False</td>\n",
       "      <td>False</td>\n",
       "      <td>False</td>\n",
       "      <td>False</td>\n",
       "      <td>False</td>\n",
       "      <td>False</td>\n",
       "    </tr>\n",
       "    <tr>\n",
       "      <th>2</th>\n",
       "      <td>False</td>\n",
       "      <td>False</td>\n",
       "      <td>False</td>\n",
       "      <td>False</td>\n",
       "      <td>False</td>\n",
       "      <td>False</td>\n",
       "      <td>False</td>\n",
       "      <td>False</td>\n",
       "      <td>False</td>\n",
       "      <td>False</td>\n",
       "      <td>...</td>\n",
       "      <td>False</td>\n",
       "      <td>False</td>\n",
       "      <td>False</td>\n",
       "      <td>False</td>\n",
       "      <td>False</td>\n",
       "      <td>False</td>\n",
       "      <td>False</td>\n",
       "      <td>False</td>\n",
       "      <td>False</td>\n",
       "      <td>False</td>\n",
       "    </tr>\n",
       "    <tr>\n",
       "      <th>3</th>\n",
       "      <td>False</td>\n",
       "      <td>False</td>\n",
       "      <td>False</td>\n",
       "      <td>False</td>\n",
       "      <td>False</td>\n",
       "      <td>False</td>\n",
       "      <td>False</td>\n",
       "      <td>False</td>\n",
       "      <td>False</td>\n",
       "      <td>False</td>\n",
       "      <td>...</td>\n",
       "      <td>False</td>\n",
       "      <td>False</td>\n",
       "      <td>False</td>\n",
       "      <td>False</td>\n",
       "      <td>False</td>\n",
       "      <td>False</td>\n",
       "      <td>False</td>\n",
       "      <td>False</td>\n",
       "      <td>False</td>\n",
       "      <td>False</td>\n",
       "    </tr>\n",
       "    <tr>\n",
       "      <th>4</th>\n",
       "      <td>False</td>\n",
       "      <td>False</td>\n",
       "      <td>False</td>\n",
       "      <td>False</td>\n",
       "      <td>False</td>\n",
       "      <td>False</td>\n",
       "      <td>False</td>\n",
       "      <td>False</td>\n",
       "      <td>False</td>\n",
       "      <td>False</td>\n",
       "      <td>...</td>\n",
       "      <td>False</td>\n",
       "      <td>False</td>\n",
       "      <td>False</td>\n",
       "      <td>False</td>\n",
       "      <td>False</td>\n",
       "      <td>False</td>\n",
       "      <td>False</td>\n",
       "      <td>False</td>\n",
       "      <td>False</td>\n",
       "      <td>False</td>\n",
       "    </tr>\n",
       "    <tr>\n",
       "      <th>...</th>\n",
       "      <td>...</td>\n",
       "      <td>...</td>\n",
       "      <td>...</td>\n",
       "      <td>...</td>\n",
       "      <td>...</td>\n",
       "      <td>...</td>\n",
       "      <td>...</td>\n",
       "      <td>...</td>\n",
       "      <td>...</td>\n",
       "      <td>...</td>\n",
       "      <td>...</td>\n",
       "      <td>...</td>\n",
       "      <td>...</td>\n",
       "      <td>...</td>\n",
       "      <td>...</td>\n",
       "      <td>...</td>\n",
       "      <td>...</td>\n",
       "      <td>...</td>\n",
       "      <td>...</td>\n",
       "      <td>...</td>\n",
       "      <td>...</td>\n",
       "    </tr>\n",
       "    <tr>\n",
       "      <th>1465</th>\n",
       "      <td>False</td>\n",
       "      <td>False</td>\n",
       "      <td>False</td>\n",
       "      <td>False</td>\n",
       "      <td>False</td>\n",
       "      <td>False</td>\n",
       "      <td>False</td>\n",
       "      <td>False</td>\n",
       "      <td>False</td>\n",
       "      <td>False</td>\n",
       "      <td>...</td>\n",
       "      <td>False</td>\n",
       "      <td>False</td>\n",
       "      <td>False</td>\n",
       "      <td>False</td>\n",
       "      <td>False</td>\n",
       "      <td>False</td>\n",
       "      <td>False</td>\n",
       "      <td>False</td>\n",
       "      <td>False</td>\n",
       "      <td>False</td>\n",
       "    </tr>\n",
       "    <tr>\n",
       "      <th>1466</th>\n",
       "      <td>False</td>\n",
       "      <td>False</td>\n",
       "      <td>False</td>\n",
       "      <td>False</td>\n",
       "      <td>False</td>\n",
       "      <td>False</td>\n",
       "      <td>False</td>\n",
       "      <td>False</td>\n",
       "      <td>False</td>\n",
       "      <td>False</td>\n",
       "      <td>...</td>\n",
       "      <td>False</td>\n",
       "      <td>False</td>\n",
       "      <td>False</td>\n",
       "      <td>False</td>\n",
       "      <td>False</td>\n",
       "      <td>False</td>\n",
       "      <td>False</td>\n",
       "      <td>False</td>\n",
       "      <td>False</td>\n",
       "      <td>False</td>\n",
       "    </tr>\n",
       "    <tr>\n",
       "      <th>1467</th>\n",
       "      <td>False</td>\n",
       "      <td>False</td>\n",
       "      <td>False</td>\n",
       "      <td>False</td>\n",
       "      <td>False</td>\n",
       "      <td>False</td>\n",
       "      <td>False</td>\n",
       "      <td>False</td>\n",
       "      <td>False</td>\n",
       "      <td>False</td>\n",
       "      <td>...</td>\n",
       "      <td>False</td>\n",
       "      <td>False</td>\n",
       "      <td>False</td>\n",
       "      <td>False</td>\n",
       "      <td>False</td>\n",
       "      <td>False</td>\n",
       "      <td>False</td>\n",
       "      <td>False</td>\n",
       "      <td>False</td>\n",
       "      <td>False</td>\n",
       "    </tr>\n",
       "    <tr>\n",
       "      <th>1468</th>\n",
       "      <td>False</td>\n",
       "      <td>False</td>\n",
       "      <td>False</td>\n",
       "      <td>False</td>\n",
       "      <td>False</td>\n",
       "      <td>False</td>\n",
       "      <td>False</td>\n",
       "      <td>False</td>\n",
       "      <td>False</td>\n",
       "      <td>False</td>\n",
       "      <td>...</td>\n",
       "      <td>False</td>\n",
       "      <td>False</td>\n",
       "      <td>False</td>\n",
       "      <td>False</td>\n",
       "      <td>False</td>\n",
       "      <td>False</td>\n",
       "      <td>False</td>\n",
       "      <td>False</td>\n",
       "      <td>False</td>\n",
       "      <td>False</td>\n",
       "    </tr>\n",
       "    <tr>\n",
       "      <th>1469</th>\n",
       "      <td>False</td>\n",
       "      <td>False</td>\n",
       "      <td>False</td>\n",
       "      <td>False</td>\n",
       "      <td>False</td>\n",
       "      <td>False</td>\n",
       "      <td>False</td>\n",
       "      <td>False</td>\n",
       "      <td>False</td>\n",
       "      <td>False</td>\n",
       "      <td>...</td>\n",
       "      <td>False</td>\n",
       "      <td>False</td>\n",
       "      <td>False</td>\n",
       "      <td>False</td>\n",
       "      <td>False</td>\n",
       "      <td>False</td>\n",
       "      <td>False</td>\n",
       "      <td>False</td>\n",
       "      <td>False</td>\n",
       "      <td>False</td>\n",
       "    </tr>\n",
       "  </tbody>\n",
       "</table>\n",
       "<p>1470 rows × 35 columns</p>\n",
       "</div>"
      ],
      "text/plain": [
       "        Age  Attrition  BusinessTravel  DailyRate  Department  \\\n",
       "0     False      False           False      False       False   \n",
       "1     False      False           False      False       False   \n",
       "2     False      False           False      False       False   \n",
       "3     False      False           False      False       False   \n",
       "4     False      False           False      False       False   \n",
       "...     ...        ...             ...        ...         ...   \n",
       "1465  False      False           False      False       False   \n",
       "1466  False      False           False      False       False   \n",
       "1467  False      False           False      False       False   \n",
       "1468  False      False           False      False       False   \n",
       "1469  False      False           False      False       False   \n",
       "\n",
       "      DistanceFromHome  Education  EducationField  EmployeeCount  \\\n",
       "0                False      False           False          False   \n",
       "1                False      False           False          False   \n",
       "2                False      False           False          False   \n",
       "3                False      False           False          False   \n",
       "4                False      False           False          False   \n",
       "...                ...        ...             ...            ...   \n",
       "1465             False      False           False          False   \n",
       "1466             False      False           False          False   \n",
       "1467             False      False           False          False   \n",
       "1468             False      False           False          False   \n",
       "1469             False      False           False          False   \n",
       "\n",
       "      EmployeeNumber  ...  RelationshipSatisfaction  StandardHours  \\\n",
       "0              False  ...                     False          False   \n",
       "1              False  ...                     False          False   \n",
       "2              False  ...                     False          False   \n",
       "3              False  ...                     False          False   \n",
       "4              False  ...                     False          False   \n",
       "...              ...  ...                       ...            ...   \n",
       "1465           False  ...                     False          False   \n",
       "1466           False  ...                     False          False   \n",
       "1467           False  ...                     False          False   \n",
       "1468           False  ...                     False          False   \n",
       "1469           False  ...                     False          False   \n",
       "\n",
       "      StockOptionLevel  TotalWorkingYears  TrainingTimesLastYear  \\\n",
       "0                False              False                  False   \n",
       "1                False              False                  False   \n",
       "2                False              False                  False   \n",
       "3                False              False                  False   \n",
       "4                False              False                  False   \n",
       "...                ...                ...                    ...   \n",
       "1465             False              False                  False   \n",
       "1466             False              False                  False   \n",
       "1467             False              False                  False   \n",
       "1468             False              False                  False   \n",
       "1469             False              False                  False   \n",
       "\n",
       "      WorkLifeBalance  YearsAtCompany  YearsInCurrentRole  \\\n",
       "0               False           False               False   \n",
       "1               False           False               False   \n",
       "2               False           False               False   \n",
       "3               False           False               False   \n",
       "4               False           False               False   \n",
       "...               ...             ...                 ...   \n",
       "1465            False           False               False   \n",
       "1466            False           False               False   \n",
       "1467            False           False               False   \n",
       "1468            False           False               False   \n",
       "1469            False           False               False   \n",
       "\n",
       "      YearsSinceLastPromotion  YearsWithCurrManager  \n",
       "0                       False                 False  \n",
       "1                       False                 False  \n",
       "2                       False                 False  \n",
       "3                       False                 False  \n",
       "4                       False                 False  \n",
       "...                       ...                   ...  \n",
       "1465                    False                 False  \n",
       "1466                    False                 False  \n",
       "1467                    False                 False  \n",
       "1468                    False                 False  \n",
       "1469                    False                 False  \n",
       "\n",
       "[1470 rows x 35 columns]"
      ]
     },
     "execution_count": 14,
     "metadata": {},
     "output_type": "execute_result"
    }
   ],
   "source": [
    "df.isnull()"
   ]
  },
  {
   "cell_type": "code",
   "execution_count": 15,
   "id": "e7f8bceb",
   "metadata": {},
   "outputs": [
    {
     "data": {
      "text/plain": [
       "Age                         0\n",
       "Attrition                   0\n",
       "BusinessTravel              0\n",
       "DailyRate                   0\n",
       "Department                  0\n",
       "DistanceFromHome            0\n",
       "Education                   0\n",
       "EducationField              0\n",
       "EmployeeCount               0\n",
       "EmployeeNumber              0\n",
       "EnvironmentSatisfaction     0\n",
       "Gender                      0\n",
       "HourlyRate                  0\n",
       "JobInvolvement              0\n",
       "JobLevel                    0\n",
       "JobRole                     0\n",
       "JobSatisfaction             0\n",
       "MaritalStatus               0\n",
       "MonthlyIncome               0\n",
       "MonthlyRate                 0\n",
       "NumCompaniesWorked          0\n",
       "Over18                      0\n",
       "OverTime                    0\n",
       "PercentSalaryHike           0\n",
       "PerformanceRating           0\n",
       "RelationshipSatisfaction    0\n",
       "StandardHours               0\n",
       "StockOptionLevel            0\n",
       "TotalWorkingYears           0\n",
       "TrainingTimesLastYear       0\n",
       "WorkLifeBalance             0\n",
       "YearsAtCompany              0\n",
       "YearsInCurrentRole          0\n",
       "YearsSinceLastPromotion     0\n",
       "YearsWithCurrManager        0\n",
       "dtype: int64"
      ]
     },
     "execution_count": 15,
     "metadata": {},
     "output_type": "execute_result"
    }
   ],
   "source": [
    "df.isnull().sum()"
   ]
  },
  {
   "cell_type": "code",
   "execution_count": 16,
   "id": "c5104ba3",
   "metadata": {},
   "outputs": [
    {
     "data": {
      "text/plain": [
       "<AxesSubplot:>"
      ]
     },
     "execution_count": 16,
     "metadata": {},
     "output_type": "execute_result"
    },
    {
     "data": {
      "image/png": "[encoded data removed]",
      "text/plain": [
       "<Figure size 432x288 with 2 Axes>"
      ]
     },
     "metadata": {
      "needs_background": "light"
     },
     "output_type": "display_data"
    }
   ],
   "source": [
    "sns.heatmap(df.isnull())"
   ]
  },
  {
   "cell_type": "markdown",
   "id": "6df11d5c",
   "metadata": {},
   "source": [
    "there are no null values present in the dataset"
   ]
  },
  {
   "cell_type": "code",
   "execution_count": 17,
   "id": "ca79f725",
   "metadata": {},
   "outputs": [
    {
     "data": {
      "text/html": [
       "<div>\n",
       "<style scoped>\n",
       "    .dataframe tbody tr th:only-of-type {\n",
       "        vertical-align: middle;\n",
       "    }\n",
       "\n",
       "    .dataframe tbody tr th {\n",
       "        vertical-align: top;\n",
       "    }\n",
       "\n",
       "    .dataframe thead th {\n",
       "        text-align: right;\n",
       "    }\n",
       "</style>\n",
       "<table border=\"1\" class=\"dataframe\">\n",
       "  <thead>\n",
       "    <tr style=\"text-align: right;\">\n",
       "      <th></th>\n",
       "      <th>Age</th>\n",
       "      <th>DailyRate</th>\n",
       "      <th>DistanceFromHome</th>\n",
       "      <th>Education</th>\n",
       "      <th>EmployeeCount</th>\n",
       "      <th>EmployeeNumber</th>\n",
       "      <th>EnvironmentSatisfaction</th>\n",
       "      <th>HourlyRate</th>\n",
       "      <th>JobInvolvement</th>\n",
       "      <th>JobLevel</th>\n",
       "      <th>...</th>\n",
       "      <th>RelationshipSatisfaction</th>\n",
       "      <th>StandardHours</th>\n",
       "      <th>StockOptionLevel</th>\n",
       "      <th>TotalWorkingYears</th>\n",
       "      <th>TrainingTimesLastYear</th>\n",
       "      <th>WorkLifeBalance</th>\n",
       "      <th>YearsAtCompany</th>\n",
       "      <th>YearsInCurrentRole</th>\n",
       "      <th>YearsSinceLastPromotion</th>\n",
       "      <th>YearsWithCurrManager</th>\n",
       "    </tr>\n",
       "  </thead>\n",
       "  <tbody>\n",
       "    <tr>\n",
       "      <th>count</th>\n",
       "      <td>1470.000000</td>\n",
       "      <td>1470.000000</td>\n",
       "      <td>1470.000000</td>\n",
       "      <td>1470.000000</td>\n",
       "      <td>1470.0</td>\n",
       "      <td>1470.000000</td>\n",
       "      <td>1470.000000</td>\n",
       "      <td>1470.000000</td>\n",
       "      <td>1470.000000</td>\n",
       "      <td>1470.000000</td>\n",
       "      <td>...</td>\n",
       "      <td>1470.000000</td>\n",
       "      <td>1470.0</td>\n",
       "      <td>1470.000000</td>\n",
       "      <td>1470.000000</td>\n",
       "      <td>1470.000000</td>\n",
       "      <td>1470.000000</td>\n",
       "      <td>1470.000000</td>\n",
       "      <td>1470.000000</td>\n",
       "      <td>1470.000000</td>\n",
       "      <td>1470.000000</td>\n",
       "    </tr>\n",
       "    <tr>\n",
       "      <th>mean</th>\n",
       "      <td>36.923810</td>\n",
       "      <td>802.485714</td>\n",
       "      <td>9.192517</td>\n",
       "      <td>2.912925</td>\n",
       "      <td>1.0</td>\n",
       "      <td>1024.865306</td>\n",
       "      <td>2.721769</td>\n",
       "      <td>65.891156</td>\n",
       "      <td>2.729932</td>\n",
       "      <td>2.063946</td>\n",
       "      <td>...</td>\n",
       "      <td>2.712245</td>\n",
       "      <td>80.0</td>\n",
       "      <td>0.793878</td>\n",
       "      <td>11.279592</td>\n",
       "      <td>2.799320</td>\n",
       "      <td>2.761224</td>\n",
       "      <td>7.008163</td>\n",
       "      <td>4.229252</td>\n",
       "      <td>2.187755</td>\n",
       "      <td>4.123129</td>\n",
       "    </tr>\n",
       "    <tr>\n",
       "      <th>std</th>\n",
       "      <td>9.135373</td>\n",
       "      <td>403.509100</td>\n",
       "      <td>8.106864</td>\n",
       "      <td>1.024165</td>\n",
       "      <td>0.0</td>\n",
       "      <td>602.024335</td>\n",
       "      <td>1.093082</td>\n",
       "      <td>20.329428</td>\n",
       "      <td>0.711561</td>\n",
       "      <td>1.106940</td>\n",
       "      <td>...</td>\n",
       "      <td>1.081209</td>\n",
       "      <td>0.0</td>\n",
       "      <td>0.852077</td>\n",
       "      <td>7.780782</td>\n",
       "      <td>1.289271</td>\n",
       "      <td>0.706476</td>\n",
       "      <td>6.126525</td>\n",
       "      <td>3.623137</td>\n",
       "      <td>3.222430</td>\n",
       "      <td>3.568136</td>\n",
       "    </tr>\n",
       "    <tr>\n",
       "      <th>min</th>\n",
       "      <td>18.000000</td>\n",
       "      <td>102.000000</td>\n",
       "      <td>1.000000</td>\n",
       "      <td>1.000000</td>\n",
       "      <td>1.0</td>\n",
       "      <td>1.000000</td>\n",
       "      <td>1.000000</td>\n",
       "      <td>30.000000</td>\n",
       "      <td>1.000000</td>\n",
       "      <td>1.000000</td>\n",
       "      <td>...</td>\n",
       "      <td>1.000000</td>\n",
       "      <td>80.0</td>\n",
       "      <td>0.000000</td>\n",
       "      <td>0.000000</td>\n",
       "      <td>0.000000</td>\n",
       "      <td>1.000000</td>\n",
       "      <td>0.000000</td>\n",
       "      <td>0.000000</td>\n",
       "      <td>0.000000</td>\n",
       "      <td>0.000000</td>\n",
       "    </tr>\n",
       "    <tr>\n",
       "      <th>25%</th>\n",
       "      <td>30.000000</td>\n",
       "      <td>465.000000</td>\n",
       "      <td>2.000000</td>\n",
       "      <td>2.000000</td>\n",
       "      <td>1.0</td>\n",
       "      <td>491.250000</td>\n",
       "      <td>2.000000</td>\n",
       "      <td>48.000000</td>\n",
       "      <td>2.000000</td>\n",
       "      <td>1.000000</td>\n",
       "      <td>...</td>\n",
       "      <td>2.000000</td>\n",
       "      <td>80.0</td>\n",
       "      <td>0.000000</td>\n",
       "      <td>6.000000</td>\n",
       "      <td>2.000000</td>\n",
       "      <td>2.000000</td>\n",
       "      <td>3.000000</td>\n",
       "      <td>2.000000</td>\n",
       "      <td>0.000000</td>\n",
       "      <td>2.000000</td>\n",
       "    </tr>\n",
       "    <tr>\n",
       "      <th>50%</th>\n",
       "      <td>36.000000</td>\n",
       "      <td>802.000000</td>\n",
       "      <td>7.000000</td>\n",
       "      <td>3.000000</td>\n",
       "      <td>1.0</td>\n",
       "      <td>1020.500000</td>\n",
       "      <td>3.000000</td>\n",
       "      <td>66.000000</td>\n",
       "      <td>3.000000</td>\n",
       "      <td>2.000000</td>\n",
       "      <td>...</td>\n",
       "      <td>3.000000</td>\n",
       "      <td>80.0</td>\n",
       "      <td>1.000000</td>\n",
       "      <td>10.000000</td>\n",
       "      <td>3.000000</td>\n",
       "      <td>3.000000</td>\n",
       "      <td>5.000000</td>\n",
       "      <td>3.000000</td>\n",
       "      <td>1.000000</td>\n",
       "      <td>3.000000</td>\n",
       "    </tr>\n",
       "    <tr>\n",
       "      <th>75%</th>\n",
       "      <td>43.000000</td>\n",
       "      <td>1157.000000</td>\n",
       "      <td>14.000000</td>\n",
       "      <td>4.000000</td>\n",
       "      <td>1.0</td>\n",
       "      <td>1555.750000</td>\n",
       "      <td>4.000000</td>\n",
       "      <td>83.750000</td>\n",
       "      <td>3.000000</td>\n",
       "      <td>3.000000</td>\n",
       "      <td>...</td>\n",
       "      <td>4.000000</td>\n",
       "      <td>80.0</td>\n",
       "      <td>1.000000</td>\n",
       "      <td>15.000000</td>\n",
       "      <td>3.000000</td>\n",
       "      <td>3.000000</td>\n",
       "      <td>9.000000</td>\n",
       "      <td>7.000000</td>\n",
       "      <td>3.000000</td>\n",
       "      <td>7.000000</td>\n",
       "    </tr>\n",
       "    <tr>\n",
       "      <th>max</th>\n",
       "      <td>60.000000</td>\n",
       "      <td>1499.000000</td>\n",
       "      <td>29.000000</td>\n",
       "      <td>5.000000</td>\n",
       "      <td>1.0</td>\n",
       "      <td>2068.000000</td>\n",
       "      <td>4.000000</td>\n",
       "      <td>100.000000</td>\n",
       "      <td>4.000000</td>\n",
       "      <td>5.000000</td>\n",
       "      <td>...</td>\n",
       "      <td>4.000000</td>\n",
       "      <td>80.0</td>\n",
       "      <td>3.000000</td>\n",
       "      <td>40.000000</td>\n",
       "      <td>6.000000</td>\n",
       "      <td>4.000000</td>\n",
       "      <td>40.000000</td>\n",
       "      <td>18.000000</td>\n",
       "      <td>15.000000</td>\n",
       "      <td>17.000000</td>\n",
       "    </tr>\n",
       "  </tbody>\n",
       "</table>\n",
       "<p>8 rows × 26 columns</p>\n",
       "</div>"
      ],
      "text/plain": [
       "               Age    DailyRate  DistanceFromHome    Education  EmployeeCount  \\\n",
       "count  1470.000000  1470.000000       1470.000000  1470.000000         1470.0   \n",
       "mean     36.923810   802.485714          9.192517     2.912925            1.0   \n",
       "std       9.135373   403.509100          8.106864     1.024165            0.0   \n",
       "min      18.000000   102.000000          1.000000     1.000000            1.0   \n",
       "25%      30.000000   465.000000          2.000000     2.000000            1.0   \n",
       "50%      36.000000   802.000000          7.000000     3.000000            1.0   \n",
       "75%      43.000000  1157.000000         14.000000     4.000000            1.0   \n",
       "max      60.000000  1499.000000         29.000000     5.000000            1.0   \n",
       "\n",
       "       EmployeeNumber  EnvironmentSatisfaction   HourlyRate  JobInvolvement  \\\n",
       "count     1470.000000              1470.000000  1470.000000     1470.000000   \n",
       "mean      1024.865306                 2.721769    65.891156        2.729932   \n",
       "std        602.024335                 1.093082    20.329428        0.711561   \n",
       "min          1.000000                 1.000000    30.000000        1.000000   \n",
       "25%        491.250000                 2.000000    48.000000        2.000000   \n",
       "50%       1020.500000                 3.000000    66.000000        3.000000   \n",
       "75%       1555.750000                 4.000000    83.750000        3.000000   \n",
       "max       2068.000000                 4.000000   100.000000        4.000000   \n",
       "\n",
       "          JobLevel  ...  RelationshipSatisfaction  StandardHours  \\\n",
       "count  1470.000000  ...               1470.000000         1470.0   \n",
       "mean      2.063946  ...                  2.712245           80.0   \n",
       "std       1.106940  ...                  1.081209            0.0   \n",
       "min       1.000000  ...                  1.000000           80.0   \n",
       "25%       1.000000  ...                  2.000000           80.0   \n",
       "50%       2.000000  ...                  3.000000           80.0   \n",
       "75%       3.000000  ...                  4.000000           80.0   \n",
       "max       5.000000  ...                  4.000000           80.0   \n",
       "\n",
       "       StockOptionLevel  TotalWorkingYears  TrainingTimesLastYear  \\\n",
       "count       1470.000000        1470.000000            1470.000000   \n",
       "mean           0.793878          11.279592               2.799320   \n",
       "std            0.852077           7.780782               1.289271   \n",
       "min            0.000000           0.000000               0.000000   \n",
       "25%            0.000000           6.000000               2.000000   \n",
       "50%            1.000000          10.000000               3.000000   \n",
       "75%            1.000000          15.000000               3.000000   \n",
       "max            3.000000          40.000000               6.000000   \n",
       "\n",
       "       WorkLifeBalance  YearsAtCompany  YearsInCurrentRole  \\\n",
       "count      1470.000000     1470.000000         1470.000000   \n",
       "mean          2.761224        7.008163            4.229252   \n",
       "std           0.706476        6.126525            3.623137   \n",
       "min           1.000000        0.000000            0.000000   \n",
       "25%           2.000000        3.000000            2.000000   \n",
       "50%           3.000000        5.000000            3.000000   \n",
       "75%           3.000000        9.000000            7.000000   \n",
       "max           4.000000       40.000000           18.000000   \n",
       "\n",
       "       YearsSinceLastPromotion  YearsWithCurrManager  \n",
       "count              1470.000000           1470.000000  \n",
       "mean                  2.187755              4.123129  \n",
       "std                   3.222430              3.568136  \n",
       "min                   0.000000              0.000000  \n",
       "25%                   0.000000              2.000000  \n",
       "50%                   1.000000              3.000000  \n",
       "75%                   3.000000              7.000000  \n",
       "max                  15.000000             17.000000  \n",
       "\n",
       "[8 rows x 26 columns]"
      ]
     },
     "execution_count": 17,
     "metadata": {},
     "output_type": "execute_result"
    }
   ],
   "source": [
    "df.describe()"
   ]
  },
  {
   "cell_type": "code",
   "execution_count": 18,
   "id": "a997e4e7",
   "metadata": {},
   "outputs": [],
   "source": [
    "df.drop([\"StandardHours\", \"EmployeeCount\",\"EmployeeNumber\"],axis=1,inplace=True)\n",
    "df[\"Attrition\"].replace({\"Yes\" : 1, \"No\" : 0},inplace=True)"
   ]
  },
  {
   "cell_type": "code",
   "execution_count": 19,
   "id": "65cde9d9",
   "metadata": {
    "scrolled": true
   },
   "outputs": [
    {
     "data": {
      "image/png": "[encoded data removed]",
      "text/plain": [
       "<Figure size 1440x1296 with 2 Axes>"
      ]
     },
     "metadata": {
      "needs_background": "light"
     },
     "output_type": "display_data"
    }
   ],
   "source": [
    "plt.figure(figsize=(20,18))\n",
    "sns.heatmap(df.corr(),annot=True)\n",
    "plt.show()"
   ]
  },
  {
   "cell_type": "markdown",
   "id": "1bb7fe98",
   "metadata": {},
   "source": [
    "The more lighter the box the they are correlated "
   ]
  },
  {
   "cell_type": "code",
   "execution_count": 20,
   "id": "4b0b3c55",
   "metadata": {},
   "outputs": [
    {
     "data": {
      "text/plain": [
       "([<matplotlib.axis.XTick at 0x26c1d3ab850>,\n",
       "  <matplotlib.axis.XTick at 0x26c1d3ab820>],\n",
       " [Text(0, 0, 'No'), Text(1, 0, 'Yes')])"
      ]
     },
     "execution_count": 20,
     "metadata": {},
     "output_type": "execute_result"
    },
    {
     "data": {
      "image/png": "[encoded data removed]",
      "text/plain": [
       "<Figure size 432x288 with 1 Axes>"
      ]
     },
     "metadata": {
      "needs_background": "light"
     },
     "output_type": "display_data"
    }
   ],
   "source": [
    "sns.countplot(x=df[\"Attrition\"])\n",
    "plt.xticks([0,1],[\"No\",\"Yes\"])"
   ]
  },
  {
   "cell_type": "markdown",
   "id": "32668493",
   "metadata": {},
   "source": [
    "there are quite more No's than Yes' in the Attrition column"
   ]
  },
  {
   "cell_type": "code",
   "execution_count": 21,
   "id": "b060bf09",
   "metadata": {},
   "outputs": [
    {
     "data": {
      "image/png": "[encoded data removed]",
      "text/plain": [
       "<Figure size 432x288 with 1 Axes>"
      ]
     },
     "metadata": {
      "needs_background": "light"
     },
     "output_type": "display_data"
    }
   ],
   "source": [
    "sns.distplot(df[\"DistanceFromHome\"],kde=False)\n",
    "median_dis = df[\"DistanceFromHome\"].median()\n",
    "plt.axvline(median_dis,c=\"r\",label=\"Median\")\n",
    "plt.title(\"Distribution of Distance\")\n",
    "plt.legend()\n",
    "plt.show()"
   ]
  },
  {
   "cell_type": "markdown",
   "id": "a0bb0eef",
   "metadata": {},
   "source": [
    "We can observe that mean for the column 'DistanceFromHome' is somewhere near 6.5 or 7"
   ]
  },
  {
   "cell_type": "code",
   "execution_count": 22,
   "id": "1f78c909",
   "metadata": {},
   "outputs": [
    {
     "data": {
      "image/png": "[encoded data removed]",
      "text/plain": [
       "<Figure size 432x288 with 1 Axes>"
      ]
     },
     "metadata": {
      "needs_background": "light"
     },
     "output_type": "display_data"
    }
   ],
   "source": [
    "sns.distplot(df[\"TotalWorkingYears\"],kde=False)\n",
    "mean_wr = df[\"TotalWorkingYears\"].mean()\n",
    "plt.axvline(mean_wr,c=\"r\",label=\"Mean\")\n",
    "plt.legend()\n",
    "plt.show()"
   ]
  },
  {
   "cell_type": "markdown",
   "id": "df368e68",
   "metadata": {},
   "source": [
    "The mean of 'TotalWorkingYears' is between 11 and 12"
   ]
  },
  {
   "cell_type": "code",
   "execution_count": 23,
   "id": "3ff5da88",
   "metadata": {},
   "outputs": [
    {
     "data": {
      "text/plain": [
       "<seaborn.axisgrid.FacetGrid at 0x26c1c84c8b0>"
      ]
     },
     "execution_count": 23,
     "metadata": {},
     "output_type": "execute_result"
    },
    {
     "data": {
      "image/png": "[encoded data removed]",
      "text/plain": [
       "<Figure size 720x360 with 2 Axes>"
      ]
     },
     "metadata": {
      "needs_background": "light"
     },
     "output_type": "display_data"
    }
   ],
   "source": [
    "sns.catplot(x=\"Attrition\",kind=\"count\",col=\"Gender\",data=df)"
   ]
  },
  {
   "cell_type": "markdown",
   "id": "cc364d51",
   "metadata": {},
   "source": [
    "There are more male towards No in comparision to female and also towards Yes male and female both are alomst similar "
   ]
  },
  {
   "cell_type": "code",
   "execution_count": 24,
   "id": "ab8b27db",
   "metadata": {},
   "outputs": [
    {
     "data": {
      "text/plain": [
       "<AxesSubplot:ylabel='JobRole'>"
      ]
     },
     "execution_count": 24,
     "metadata": {},
     "output_type": "execute_result"
    },
    {
     "data": {
      "image/png": "[encoded data removed]",
      "text/plain": [
       "<Figure size 432x288 with 1 Axes>"
      ]
     },
     "metadata": {
      "needs_background": "light"
     },
     "output_type": "display_data"
    }
   ],
   "source": [
    "df.groupby(\"JobRole\").mean()[\"Attrition\"].multiply(100).plot.barh()"
   ]
  },
  {
   "cell_type": "markdown",
   "id": "0d542bd4",
   "metadata": {},
   "source": [
    "There are most number of employees as Sales Representative followed by Lab Tech, HR, Sales Executive, Research Scientist, healthcare, maanufacturing\n",
    "Manager and last is Research director."
   ]
  },
  {
   "cell_type": "code",
   "execution_count": 25,
   "id": "1704e20b",
   "metadata": {},
   "outputs": [
    {
     "data": {
      "image/png": "[encoded data removed]",
      "text/plain": [
       "<Figure size 432x288 with 1 Axes>"
      ]
     },
     "metadata": {
      "needs_background": "light"
     },
     "output_type": "display_data"
    }
   ],
   "source": [
    "sns.countplot(x=\"JobSatisfaction\",hue=\"Attrition\",data=df)\n",
    "plt.xticks([0,1,2,3],['Low','Medium','High','Very High'])\n",
    "plt.show()"
   ]
  },
  {
   "cell_type": "markdown",
   "id": "2ae0f4ee",
   "metadata": {},
   "source": [
    "around 400 people as No are with very high job satisfaction and only 50 as yes.\n",
    "\n",
    "around 350 people as No are with high job satisfaction and only more than 50 as yes.\n",
    "\n",
    "around 250 people as No are with medium job satisfaction and only less than 50 as yes.\n",
    "\n",
    "around 400 people as No are with low job satisfaction and only 50 as yes.\n",
    "\n"
   ]
  },
  {
   "cell_type": "code",
   "execution_count": 26,
   "id": "c93ef9b3",
   "metadata": {},
   "outputs": [
    {
     "data": {
      "image/png": "[encoded data removed]",
      "text/plain": [
       "<Figure size 432x288 with 1 Axes>"
      ]
     },
     "metadata": {
      "needs_background": "light"
     },
     "output_type": "display_data"
    }
   ],
   "source": [
    "sns.countplot(x=\"Education\",hue=\"Attrition\",data=df)\n",
    "plt.xticks([0,1,2,3,4],[\"Below College\",\"College\",\"Bachelor\",\"Master\",\"Doctor\"])\n",
    "plt.show()"
   ]
  },
  {
   "cell_type": "markdown",
   "id": "4ec5774d",
   "metadata": {},
   "source": [
    "Most of the people in Bachelors are towards no\n",
    "\n",
    "Followed by people in Masters column,College, Below college and last is Doctor."
   ]
  },
  {
   "cell_type": "code",
   "execution_count": 27,
   "id": "8cba59c8",
   "metadata": {},
   "outputs": [
    {
     "data": {
      "text/html": [
       "<div>\n",
       "<style scoped>\n",
       "    .dataframe tbody tr th:only-of-type {\n",
       "        vertical-align: middle;\n",
       "    }\n",
       "\n",
       "    .dataframe tbody tr th {\n",
       "        vertical-align: top;\n",
       "    }\n",
       "\n",
       "    .dataframe thead th {\n",
       "        text-align: right;\n",
       "    }\n",
       "</style>\n",
       "<table border=\"1\" class=\"dataframe\">\n",
       "  <thead>\n",
       "    <tr style=\"text-align: right;\">\n",
       "      <th></th>\n",
       "      <th>Age</th>\n",
       "      <th>Attrition</th>\n",
       "      <th>DailyRate</th>\n",
       "      <th>DistanceFromHome</th>\n",
       "      <th>Education</th>\n",
       "      <th>EnvironmentSatisfaction</th>\n",
       "      <th>HourlyRate</th>\n",
       "      <th>JobInvolvement</th>\n",
       "      <th>JobLevel</th>\n",
       "      <th>JobSatisfaction</th>\n",
       "      <th>...</th>\n",
       "      <th>JobRole_Laboratory Technician</th>\n",
       "      <th>JobRole_Manager</th>\n",
       "      <th>JobRole_Manufacturing Director</th>\n",
       "      <th>JobRole_Research Director</th>\n",
       "      <th>JobRole_Research Scientist</th>\n",
       "      <th>JobRole_Sales Executive</th>\n",
       "      <th>JobRole_Sales Representative</th>\n",
       "      <th>MaritalStatus_Married</th>\n",
       "      <th>MaritalStatus_Single</th>\n",
       "      <th>OverTime_Yes</th>\n",
       "    </tr>\n",
       "  </thead>\n",
       "  <tbody>\n",
       "    <tr>\n",
       "      <th>0</th>\n",
       "      <td>41</td>\n",
       "      <td>1</td>\n",
       "      <td>1102</td>\n",
       "      <td>1</td>\n",
       "      <td>2</td>\n",
       "      <td>2</td>\n",
       "      <td>94</td>\n",
       "      <td>3</td>\n",
       "      <td>2</td>\n",
       "      <td>4</td>\n",
       "      <td>...</td>\n",
       "      <td>0</td>\n",
       "      <td>0</td>\n",
       "      <td>0</td>\n",
       "      <td>0</td>\n",
       "      <td>0</td>\n",
       "      <td>1</td>\n",
       "      <td>0</td>\n",
       "      <td>0</td>\n",
       "      <td>1</td>\n",
       "      <td>1</td>\n",
       "    </tr>\n",
       "    <tr>\n",
       "      <th>1</th>\n",
       "      <td>49</td>\n",
       "      <td>0</td>\n",
       "      <td>279</td>\n",
       "      <td>8</td>\n",
       "      <td>1</td>\n",
       "      <td>3</td>\n",
       "      <td>61</td>\n",
       "      <td>2</td>\n",
       "      <td>2</td>\n",
       "      <td>2</td>\n",
       "      <td>...</td>\n",
       "      <td>0</td>\n",
       "      <td>0</td>\n",
       "      <td>0</td>\n",
       "      <td>0</td>\n",
       "      <td>1</td>\n",
       "      <td>0</td>\n",
       "      <td>0</td>\n",
       "      <td>1</td>\n",
       "      <td>0</td>\n",
       "      <td>0</td>\n",
       "    </tr>\n",
       "    <tr>\n",
       "      <th>2</th>\n",
       "      <td>37</td>\n",
       "      <td>1</td>\n",
       "      <td>1373</td>\n",
       "      <td>2</td>\n",
       "      <td>2</td>\n",
       "      <td>4</td>\n",
       "      <td>92</td>\n",
       "      <td>2</td>\n",
       "      <td>1</td>\n",
       "      <td>3</td>\n",
       "      <td>...</td>\n",
       "      <td>1</td>\n",
       "      <td>0</td>\n",
       "      <td>0</td>\n",
       "      <td>0</td>\n",
       "      <td>0</td>\n",
       "      <td>0</td>\n",
       "      <td>0</td>\n",
       "      <td>0</td>\n",
       "      <td>1</td>\n",
       "      <td>1</td>\n",
       "    </tr>\n",
       "    <tr>\n",
       "      <th>3</th>\n",
       "      <td>33</td>\n",
       "      <td>0</td>\n",
       "      <td>1392</td>\n",
       "      <td>3</td>\n",
       "      <td>4</td>\n",
       "      <td>4</td>\n",
       "      <td>56</td>\n",
       "      <td>3</td>\n",
       "      <td>1</td>\n",
       "      <td>3</td>\n",
       "      <td>...</td>\n",
       "      <td>0</td>\n",
       "      <td>0</td>\n",
       "      <td>0</td>\n",
       "      <td>0</td>\n",
       "      <td>1</td>\n",
       "      <td>0</td>\n",
       "      <td>0</td>\n",
       "      <td>1</td>\n",
       "      <td>0</td>\n",
       "      <td>1</td>\n",
       "    </tr>\n",
       "    <tr>\n",
       "      <th>4</th>\n",
       "      <td>27</td>\n",
       "      <td>0</td>\n",
       "      <td>591</td>\n",
       "      <td>2</td>\n",
       "      <td>1</td>\n",
       "      <td>1</td>\n",
       "      <td>40</td>\n",
       "      <td>3</td>\n",
       "      <td>1</td>\n",
       "      <td>2</td>\n",
       "      <td>...</td>\n",
       "      <td>1</td>\n",
       "      <td>0</td>\n",
       "      <td>0</td>\n",
       "      <td>0</td>\n",
       "      <td>0</td>\n",
       "      <td>0</td>\n",
       "      <td>0</td>\n",
       "      <td>1</td>\n",
       "      <td>0</td>\n",
       "      <td>0</td>\n",
       "    </tr>\n",
       "  </tbody>\n",
       "</table>\n",
       "<p>5 rows × 45 columns</p>\n",
       "</div>"
      ],
      "text/plain": [
       "   Age  Attrition  DailyRate  DistanceFromHome  Education  \\\n",
       "0   41          1       1102                 1          2   \n",
       "1   49          0        279                 8          1   \n",
       "2   37          1       1373                 2          2   \n",
       "3   33          0       1392                 3          4   \n",
       "4   27          0        591                 2          1   \n",
       "\n",
       "   EnvironmentSatisfaction  HourlyRate  JobInvolvement  JobLevel  \\\n",
       "0                        2          94               3         2   \n",
       "1                        3          61               2         2   \n",
       "2                        4          92               2         1   \n",
       "3                        4          56               3         1   \n",
       "4                        1          40               3         1   \n",
       "\n",
       "   JobSatisfaction  ...  JobRole_Laboratory Technician  JobRole_Manager  \\\n",
       "0                4  ...                              0                0   \n",
       "1                2  ...                              0                0   \n",
       "2                3  ...                              1                0   \n",
       "3                3  ...                              0                0   \n",
       "4                2  ...                              1                0   \n",
       "\n",
       "   JobRole_Manufacturing Director  JobRole_Research Director  \\\n",
       "0                               0                          0   \n",
       "1                               0                          0   \n",
       "2                               0                          0   \n",
       "3                               0                          0   \n",
       "4                               0                          0   \n",
       "\n",
       "   JobRole_Research Scientist  JobRole_Sales Executive  \\\n",
       "0                           0                        1   \n",
       "1                           1                        0   \n",
       "2                           0                        0   \n",
       "3                           1                        0   \n",
       "4                           0                        0   \n",
       "\n",
       "   JobRole_Sales Representative  MaritalStatus_Married  MaritalStatus_Single  \\\n",
       "0                             0                      0                     1   \n",
       "1                             0                      1                     0   \n",
       "2                             0                      0                     1   \n",
       "3                             0                      1                     0   \n",
       "4                             0                      1                     0   \n",
       "\n",
       "   OverTime_Yes  \n",
       "0             1  \n",
       "1             0  \n",
       "2             1  \n",
       "3             1  \n",
       "4             0  \n",
       "\n",
       "[5 rows x 45 columns]"
      ]
     },
     "execution_count": 27,
     "metadata": {},
     "output_type": "execute_result"
    }
   ],
   "source": [
    "ohe_cols = list(df.select_dtypes(object).columns)\n",
    "\n",
    "df = pd.get_dummies(df,columns=ohe_cols,drop_first=True)\n",
    "df.head()"
   ]
  },
  {
   "cell_type": "code",
   "execution_count": null,
   "id": "0a5f53ed",
   "metadata": {},
   "outputs": [],
   "source": []
  },
  {
   "cell_type": "code",
   "execution_count": 28,
   "id": "f8e2a9e9",
   "metadata": {},
   "outputs": [
    {
     "data": {
      "text/plain": [
       "Age                                    AxesSubplot(0.125,0.787927;0.0945122x0.0920732)\n",
       "Attrition                            AxesSubplot(0.238415,0.787927;0.0945122x0.0920...\n",
       "DailyRate                            AxesSubplot(0.351829,0.787927;0.0945122x0.0920...\n",
       "DistanceFromHome                     AxesSubplot(0.465244,0.787927;0.0945122x0.0920...\n",
       "Education                            AxesSubplot(0.578659,0.787927;0.0945122x0.0920...\n",
       "EnvironmentSatisfaction              AxesSubplot(0.692073,0.787927;0.0945122x0.0920...\n",
       "HourlyRate                           AxesSubplot(0.805488,0.787927;0.0945122x0.0920...\n",
       "JobInvolvement                         AxesSubplot(0.125,0.677439;0.0945122x0.0920732)\n",
       "JobLevel                             AxesSubplot(0.238415,0.677439;0.0945122x0.0920...\n",
       "JobSatisfaction                      AxesSubplot(0.351829,0.677439;0.0945122x0.0920...\n",
       "MonthlyIncome                        AxesSubplot(0.465244,0.677439;0.0945122x0.0920...\n",
       "MonthlyRate                          AxesSubplot(0.578659,0.677439;0.0945122x0.0920...\n",
       "NumCompaniesWorked                   AxesSubplot(0.692073,0.677439;0.0945122x0.0920...\n",
       "PercentSalaryHike                    AxesSubplot(0.805488,0.677439;0.0945122x0.0920...\n",
       "PerformanceRating                      AxesSubplot(0.125,0.566951;0.0945122x0.0920732)\n",
       "RelationshipSatisfaction             AxesSubplot(0.238415,0.566951;0.0945122x0.0920...\n",
       "StockOptionLevel                     AxesSubplot(0.351829,0.566951;0.0945122x0.0920...\n",
       "TotalWorkingYears                    AxesSubplot(0.465244,0.566951;0.0945122x0.0920...\n",
       "TrainingTimesLastYear                AxesSubplot(0.578659,0.566951;0.0945122x0.0920...\n",
       "WorkLifeBalance                      AxesSubplot(0.692073,0.566951;0.0945122x0.0920...\n",
       "YearsAtCompany                       AxesSubplot(0.805488,0.566951;0.0945122x0.0920...\n",
       "YearsInCurrentRole                     AxesSubplot(0.125,0.456463;0.0945122x0.0920732)\n",
       "YearsSinceLastPromotion              AxesSubplot(0.238415,0.456463;0.0945122x0.0920...\n",
       "YearsWithCurrManager                 AxesSubplot(0.351829,0.456463;0.0945122x0.0920...\n",
       "BusinessTravel_Travel_Frequently     AxesSubplot(0.465244,0.456463;0.0945122x0.0920...\n",
       "BusinessTravel_Travel_Rarely         AxesSubplot(0.578659,0.456463;0.0945122x0.0920...\n",
       "Department_Research & Development    AxesSubplot(0.692073,0.456463;0.0945122x0.0920...\n",
       "Department_Sales                     AxesSubplot(0.805488,0.456463;0.0945122x0.0920...\n",
       "EducationField_Life Sciences           AxesSubplot(0.125,0.345976;0.0945122x0.0920732)\n",
       "EducationField_Marketing             AxesSubplot(0.238415,0.345976;0.0945122x0.0920...\n",
       "EducationField_Medical               AxesSubplot(0.351829,0.345976;0.0945122x0.0920...\n",
       "EducationField_Other                 AxesSubplot(0.465244,0.345976;0.0945122x0.0920...\n",
       "EducationField_Technical Degree      AxesSubplot(0.578659,0.345976;0.0945122x0.0920...\n",
       "Gender_Male                          AxesSubplot(0.692073,0.345976;0.0945122x0.0920...\n",
       "JobRole_Human Resources              AxesSubplot(0.805488,0.345976;0.0945122x0.0920...\n",
       "JobRole_Laboratory Technician          AxesSubplot(0.125,0.235488;0.0945122x0.0920732)\n",
       "JobRole_Manager                      AxesSubplot(0.238415,0.235488;0.0945122x0.0920...\n",
       "JobRole_Manufacturing Director       AxesSubplot(0.351829,0.235488;0.0945122x0.0920...\n",
       "JobRole_Research Director            AxesSubplot(0.465244,0.235488;0.0945122x0.0920...\n",
       "JobRole_Research Scientist           AxesSubplot(0.578659,0.235488;0.0945122x0.0920...\n",
       "JobRole_Sales Executive              AxesSubplot(0.692073,0.235488;0.0945122x0.0920...\n",
       "JobRole_Sales Representative         AxesSubplot(0.805488,0.235488;0.0945122x0.0920...\n",
       "MaritalStatus_Married                     AxesSubplot(0.125,0.125;0.0945122x0.0920732)\n",
       "MaritalStatus_Single                   AxesSubplot(0.238415,0.125;0.0945122x0.0920732)\n",
       "OverTime_Yes                           AxesSubplot(0.351829,0.125;0.0945122x0.0920732)\n",
       "dtype: object"
      ]
     },
     "execution_count": 28,
     "metadata": {},
     "output_type": "execute_result"
    },
    {
     "data": {
      "image/png": "[encoded data removed]",
      "text/plain": [
       "<Figure size 432x288 with 49 Axes>"
      ]
     },
     "metadata": {
      "needs_background": "light"
     },
     "output_type": "display_data"
    }
   ],
   "source": [
    "df.plot(kind='box',subplots=True,layout=(7,7))"
   ]
  },
  {
   "cell_type": "markdown",
   "id": "2b9ccb5f",
   "metadata": {},
   "source": [
    "There are few outliers present in some of the columns"
   ]
  },
  {
   "cell_type": "code",
   "execution_count": 29,
   "id": "ff944e69",
   "metadata": {},
   "outputs": [
    {
     "name": "stdout",
     "output_type": "stream",
     "text": [
      "(array([   2,    8,   15,   18,   20,   20,   21,   22,   25,   25,   28,\n",
      "         29,   31,   33,   33,   36,   37,   40,   45,   45,   45,   51,\n",
      "         55,   59,   60,   62,   62,   62,   63,   64,   64,   65,   66,\n",
      "         75,   77,   77,   78,   79,   84,   85,   85,   86,   86,   95,\n",
      "         95,   96,   98,   98,  100,  103,  105,  106,  110,  112,  116,\n",
      "        117,  119,  123,  123,  123,  123,  125,  126,  126,  126,  127,\n",
      "        128,  129,  134,  135,  136,  139,  142,  145,  147,  152,  153,\n",
      "        155,  155,  156,  159,  165,  170,  171,  171,  178,  182,  184,\n",
      "        186,  187,  187,  187,  188,  190,  190,  190,  192,  194,  197,\n",
      "        198,  199,  199,  200,  200,  201,  211,  213,  214,  215,  217,\n",
      "        218,  222,  222,  224,  226,  231,  231,  231,  231,  232,  233,\n",
      "        235,  237,  237,  237,  238,  243,  244,  244,  245,  247,  249,\n",
      "        250,  251,  255,  257,  262,  263,  263,  270,  270,  270,  271,\n",
      "        275,  276,  278,  279,  280,  281,  283,  290,  291,  292,  299,\n",
      "        300,  301,  303,  307,  309,  310,  313,  314,  316,  319,  325,\n",
      "        326,  326,  329,  334,  336,  337,  340,  341,  342,  344,  344,\n",
      "        346,  347,  348,  350,  350,  352,  354,  356,  357,  357,  362,\n",
      "        363,  365,  367,  370,  375,  379,  381,  381,  382,  385,  386,\n",
      "        386,  389,  390,  392,  394,  396,  400,  401,  402,  406,  408,\n",
      "        410,  411,  411,  412,  413,  414,  414,  415,  417,  420,  421,\n",
      "        422,  422,  423,  424,  425,  425,  425,  427,  428,  429,  434,\n",
      "        435,  437,  440,  441,  443,  445,  445,  448,  451,  452,  453,\n",
      "        454,  454,  455,  456,  457,  458,  459,  463,  464,  464,  466,\n",
      "        466,  468,  469,  470,  472,  473,  473,  476,  477,  477,  478,\n",
      "        480,  483,  489,  489,  492,  493,  494,  494,  495,  496,  496,\n",
      "        497,  497,  506,  506,  510,  511,  526,  528,  530,  531,  534,\n",
      "        535,  535,  537,  538,  539,  541,  542,  546,  551,  555,  560,\n",
      "        561,  561,  561,  562,  564,  564,  567,  568,  573,  575,  578,\n",
      "        580,  584,  584,  588,  590,  592,  592,  592,  593,  593,  595,\n",
      "        595,  595,  595,  597,  599,  600,  602,  604,  609,  610,  610,\n",
      "        611,  611,  613,  616,  616,  624,  627,  629,  630,  633,  634,\n",
      "        635,  635,  639,  642,  645,  647,  647,  648,  649,  653,  653,\n",
      "        653,  654,  655,  661,  662,  663,  665,  666,  673,  674,  675,\n",
      "        677,  677,  680,  681,  681,  683,  686,  688,  688,  689,  692,\n",
      "        697,  697,  699,  700,  701,  701,  702,  703,  707,  708,  710,\n",
      "        714,  715,  716,  716,  717,  721,  723,  724,  725,  726,  728,\n",
      "        728,  730,  733,  737,  738,  739,  740,  741,  743,  746,  746,\n",
      "        749,  749,  752,  753,  754,  755,  758,  758,  759,  761,  763,\n",
      "        764,  765,  766,  767,  770,  773,  774,  776,  780,  782,  782,\n",
      "        783,  785,  787,  788,  789,  791,  796,  799,  799,  801,  804,\n",
      "        809,  810,  812,  814,  815,  817,  818,  821,  822,  825,  826,\n",
      "        835,  835,  837,  838,  846,  848,  850,  851,  851,  855,  858,\n",
      "        861,  861,  861,  863,  867,  869,  875,  875,  875,  876,  877,\n",
      "        877,  878,  880,  882,  882,  884,  887,  890,  894,  894,  898,\n",
      "        899,  900,  901,  904,  905,  906,  907,  911,  913,  914,  914,\n",
      "        916,  918,  918,  919,  922,  922,  923,  926,  926,  927,  931,\n",
      "        932,  933,  936,  937,  937,  941,  942,  943,  945,  948,  949,\n",
      "        952,  954,  955,  956,  956,  962,  962,  966,  969,  970,  971,\n",
      "        971,  976,  976,  976,  977,  980,  983,  985,  994,  999, 1000,\n",
      "       1002, 1003, 1004, 1005, 1005, 1007, 1008, 1008, 1009, 1010, 1012,\n",
      "       1014, 1015, 1020, 1021, 1022, 1024, 1024, 1029, 1033, 1035, 1037,\n",
      "       1037, 1039, 1039, 1040, 1043, 1043, 1044, 1048, 1052, 1055, 1056,\n",
      "       1056, 1057, 1059, 1061, 1062, 1064, 1073, 1075, 1076, 1077, 1078,\n",
      "       1078, 1078, 1079, 1080, 1084, 1086, 1086, 1086, 1087, 1087, 1090,\n",
      "       1091, 1092, 1093, 1096, 1097, 1099, 1100, 1102, 1107, 1109, 1111,\n",
      "       1111, 1111, 1112, 1113, 1114, 1116, 1116, 1116, 1126, 1127, 1129,\n",
      "       1129, 1131, 1133, 1135, 1135, 1137, 1138, 1138, 1139, 1140, 1144,\n",
      "       1145, 1146, 1148, 1149, 1151, 1153, 1154, 1156, 1156, 1158, 1159,\n",
      "       1160, 1160, 1161, 1164, 1165, 1166, 1168, 1174, 1175, 1176, 1176,\n",
      "       1177, 1178, 1182, 1184, 1184, 1185, 1186, 1194, 1195, 1197, 1200,\n",
      "       1204, 1207, 1213, 1220, 1221, 1222, 1223, 1225, 1225, 1228, 1229,\n",
      "       1232, 1239, 1239, 1242, 1242, 1243, 1244, 1245, 1246, 1247, 1249,\n",
      "       1258, 1260, 1262, 1264, 1265, 1268, 1269, 1271, 1272, 1275, 1275,\n",
      "       1277, 1280, 1280, 1284, 1288, 1289, 1291, 1295, 1296, 1297, 1300,\n",
      "       1301, 1301, 1301, 1303, 1303, 1308, 1310, 1312, 1313, 1315, 1320,\n",
      "       1322, 1323, 1327, 1327, 1328, 1329, 1330, 1331, 1331, 1335, 1336,\n",
      "       1337, 1338, 1340, 1345, 1345, 1346, 1347, 1348, 1348, 1351, 1351,\n",
      "       1353, 1357, 1361, 1365, 1365, 1367, 1368, 1370, 1372, 1374, 1377,\n",
      "       1379, 1390, 1391, 1394, 1400, 1400, 1401, 1401, 1405, 1406, 1408,\n",
      "       1409, 1411, 1413, 1414, 1417, 1418, 1421, 1428, 1430, 1430, 1432,\n",
      "       1433, 1434, 1436, 1437, 1438, 1440, 1443, 1444, 1445, 1449, 1450,\n",
      "       1459, 1463, 1464, 1464, 1467], dtype=int64), array([31, 37, 37, 36, 31, 37, 41, 38, 31, 36, 23, 36, 31, 32, 41, 41, 41,\n",
      "       31, 22, 32, 38, 32, 38, 37, 37, 20, 22, 38, 21, 22, 32, 36, 37, 37,\n",
      "       31, 38, 38, 34, 37, 17, 37, 32, 41, 32, 38, 31, 17, 20, 34, 31, 36,\n",
      "       38, 22, 36, 36, 32, 36, 21, 22, 23, 38, 31, 17, 20, 22, 41, 32, 37,\n",
      "       34, 37, 37, 34, 32, 32, 36, 41, 23, 32, 37, 37, 41, 36, 32, 32, 41,\n",
      "       22, 41, 37, 36, 17, 23, 38, 37, 20, 21, 36, 37, 36, 37, 37, 32, 37,\n",
      "       32, 37, 37, 37, 38, 32, 36, 32, 22, 31, 38, 37, 41, 21, 23, 32, 36,\n",
      "       34, 36, 36, 20, 22, 36, 41, 32, 31, 36, 38, 37, 37, 37, 32, 37, 38,\n",
      "       32, 32, 36, 17, 20, 36, 36, 38, 36, 37, 38, 38, 21, 32, 38, 32, 41,\n",
      "       37, 36, 41, 32, 38, 32, 34, 36, 36, 32, 32, 37, 22, 36, 38, 31, 31,\n",
      "       31, 37, 38, 37, 32, 37, 37, 41, 38, 32, 34, 36, 32, 31, 32, 41, 41,\n",
      "       41, 37, 32, 41, 31, 36, 32, 41, 32, 32, 22, 23, 37, 38, 38, 37, 31,\n",
      "       36, 17, 32, 37, 36, 37, 20, 36, 37, 32, 32, 41, 41, 36, 38, 32, 32,\n",
      "       34, 31, 36, 20, 22, 36, 22, 37, 38, 37, 36, 41, 34, 31, 32, 17, 36,\n",
      "       37, 37, 31, 34, 32, 37, 38, 36, 41, 31, 31, 32, 32, 37, 21, 36, 32,\n",
      "       31, 41, 37, 20, 38, 31, 20, 36, 41, 41, 31, 31, 38, 36, 34, 32, 41,\n",
      "       41, 32, 41, 31, 36, 31, 37, 34, 37, 32, 32, 37, 38, 38, 22, 36, 37,\n",
      "       36, 41, 38, 37, 41, 34, 41, 37, 20, 23, 36, 31, 32, 41, 31, 36, 32,\n",
      "       37, 37, 41, 22, 36, 38, 38, 20, 31, 36, 31, 37, 17, 20, 22, 38, 37,\n",
      "       34, 37, 37, 37, 38, 32, 38, 31, 37, 34, 23, 36, 17, 37, 34, 37, 34,\n",
      "       31, 23, 37, 32, 41, 41, 32, 37, 41, 38, 20, 22, 36, 34, 34, 37, 41,\n",
      "       31, 41, 37, 31, 32, 41, 20, 31, 31, 32, 38, 41, 23, 31, 41, 32, 37,\n",
      "       32, 41, 36, 32, 22, 36, 31, 32, 37, 32, 36, 38, 31, 21, 38, 32, 37,\n",
      "       37, 37, 31, 37, 32, 37, 38, 37, 37, 37, 37, 31, 36, 37, 21, 38, 20,\n",
      "       36, 22, 37, 41, 36, 32, 36, 34, 31, 41, 41, 31, 38, 31, 38, 37, 36,\n",
      "       41, 32, 31, 37, 32, 32, 37, 31, 34, 32, 32, 22, 36, 31, 36, 37, 36,\n",
      "       37, 38, 32, 37, 41, 32, 37, 37, 34, 32, 34, 38, 22, 37, 31, 41, 32,\n",
      "       36, 37, 36, 20, 22, 36, 34, 36, 38, 22, 23, 31, 41, 32, 37, 34, 31,\n",
      "       32, 37, 32, 38, 37, 17, 38, 38, 36, 32, 32, 38, 38, 32, 36, 41, 36,\n",
      "       20, 22, 36, 20, 36, 37, 22, 36, 34, 22, 23, 37, 37, 32, 32, 36, 22,\n",
      "       36, 32, 32, 34, 38, 36, 37, 41, 36, 36, 17, 36, 20, 36, 37, 37, 41,\n",
      "       32, 37, 21, 22, 37, 32, 41, 32, 37, 37, 36, 31, 37, 32, 31, 31, 34,\n",
      "       31, 22, 38, 38, 38, 41, 38, 31, 32, 41, 32, 21, 38, 31, 37, 34, 32,\n",
      "       37, 32, 34, 38, 17, 38, 32, 31, 32, 38, 32, 41, 32, 41, 41, 37, 34,\n",
      "       37, 36, 36, 32, 22, 23, 38, 37, 36, 32, 20, 22, 38, 32, 41, 31, 37,\n",
      "       32, 22, 36, 32, 32, 41, 41, 34, 32, 20, 32, 37, 37, 32, 31, 17, 20,\n",
      "       36, 36, 32, 31, 36, 32, 32, 20, 36, 31, 20, 22, 31, 38, 31, 37, 37,\n",
      "       37, 31, 37, 41, 36, 22, 37, 37, 37, 31, 37, 37, 37, 34, 36, 32, 37,\n",
      "       37, 31, 38, 38, 41, 37, 17, 36, 38, 31, 36, 36, 41, 34, 41, 32, 41,\n",
      "       41, 22, 34, 22, 32, 38, 34, 37, 37, 32, 37, 22, 36, 34, 32, 34, 34,\n",
      "       32, 41, 32, 32, 32, 38, 32, 37, 34, 41, 31, 32, 36, 38, 31, 34, 38,\n",
      "       37, 34, 37, 22, 37, 34, 32, 17, 22, 36, 22, 37, 41, 38, 34, 34, 31,\n",
      "       32, 37, 34, 21, 32, 41, 34, 36, 22, 38, 31, 32, 41, 41, 32, 31, 37,\n",
      "       37, 34, 23, 36, 21, 36, 32, 38, 31, 32, 41, 32, 31, 32, 37, 36, 38,\n",
      "       34, 32, 41, 37, 31, 34, 17, 36, 38, 37, 31, 32, 34, 31, 22, 41, 37,\n",
      "       38, 41, 21, 38, 38, 31, 41, 41, 36, 41, 37, 36, 32, 37, 32, 34, 31,\n",
      "       37, 31, 41, 37], dtype=int64))\n"
     ]
    }
   ],
   "source": [
    "from scipy.stats import zscore\n",
    "zscr=np.abs(zscore(df))\n",
    "\n",
    "threshold=3\n",
    "print(np.where(zscr>3))"
   ]
  },
  {
   "cell_type": "code",
   "execution_count": 30,
   "id": "28261368",
   "metadata": {},
   "outputs": [
    {
     "data": {
      "text/plain": [
       "4.114222802461321"
      ]
     },
     "execution_count": 30,
     "metadata": {},
     "output_type": "execute_result"
    }
   ],
   "source": [
    "zscr[2][31]"
   ]
  },
  {
   "cell_type": "code",
   "execution_count": 31,
   "id": "88739e31",
   "metadata": {},
   "outputs": [],
   "source": [
    "df=df[(zscr<3).all(axis=1)]"
   ]
  },
  {
   "cell_type": "code",
   "execution_count": 32,
   "id": "f14aadb7",
   "metadata": {},
   "outputs": [
    {
     "data": {
      "text/plain": [
       "Index(['Age', 'Attrition', 'DailyRate', 'DistanceFromHome', 'Education',\n",
       "       'EnvironmentSatisfaction', 'HourlyRate', 'JobInvolvement', 'JobLevel',\n",
       "       'JobSatisfaction', 'MonthlyIncome', 'MonthlyRate', 'NumCompaniesWorked',\n",
       "       'PercentSalaryHike', 'PerformanceRating', 'RelationshipSatisfaction',\n",
       "       'StockOptionLevel', 'TotalWorkingYears', 'TrainingTimesLastYear',\n",
       "       'WorkLifeBalance', 'YearsAtCompany', 'YearsInCurrentRole',\n",
       "       'YearsSinceLastPromotion', 'YearsWithCurrManager',\n",
       "       'BusinessTravel_Travel_Frequently', 'BusinessTravel_Travel_Rarely',\n",
       "       'Department_Research & Development', 'Department_Sales',\n",
       "       'EducationField_Life Sciences', 'EducationField_Marketing',\n",
       "       'EducationField_Medical', 'EducationField_Other',\n",
       "       'EducationField_Technical Degree', 'Gender_Male',\n",
       "       'JobRole_Human Resources', 'JobRole_Laboratory Technician',\n",
       "       'JobRole_Manager', 'JobRole_Manufacturing Director',\n",
       "       'JobRole_Research Director', 'JobRole_Research Scientist',\n",
       "       'JobRole_Sales Executive', 'JobRole_Sales Representative',\n",
       "       'MaritalStatus_Married', 'MaritalStatus_Single', 'OverTime_Yes'],\n",
       "      dtype='object')"
      ]
     },
     "execution_count": 32,
     "metadata": {},
     "output_type": "execute_result"
    }
   ],
   "source": [
    "df.columns"
   ]
  },
  {
   "cell_type": "code",
   "execution_count": 33,
   "id": "7298379f",
   "metadata": {},
   "outputs": [
    {
     "data": {
      "text/plain": [
       "Age                                  0.601765\n",
       "Attrition                            1.788215\n",
       "DailyRate                           -0.036410\n",
       "DistanceFromHome                     0.889541\n",
       "Education                           -0.302216\n",
       "EnvironmentSatisfaction             -0.258543\n",
       "HourlyRate                          -0.046459\n",
       "JobInvolvement                      -0.497343\n",
       "JobLevel                             0.748360\n",
       "JobSatisfaction                     -0.396956\n",
       "MonthlyIncome                        1.057937\n",
       "MonthlyRate                          0.038204\n",
       "NumCompaniesWorked                   1.090038\n",
       "PercentSalaryHike                    0.820116\n",
       "PerformanceRating                    2.001485\n",
       "RelationshipSatisfaction            -0.292855\n",
       "StockOptionLevel                     0.920287\n",
       "TotalWorkingYears                    0.917384\n",
       "TrainingTimesLastYear                0.505918\n",
       "WorkLifeBalance                     -0.546483\n",
       "YearsAtCompany                       1.056830\n",
       "YearsInCurrentRole                   0.767340\n",
       "YearsSinceLastPromotion              1.850884\n",
       "YearsWithCurrManager                 0.709658\n",
       "BusinessTravel_Travel_Frequently     1.594087\n",
       "BusinessTravel_Travel_Rarely        -0.903458\n",
       "Department_Research & Development   -0.681731\n",
       "Department_Sales                     0.681731\n",
       "EducationField_Life Sciences         0.033719\n",
       "EducationField_Marketing             2.071282\n",
       "EducationField_Medical               0.549355\n",
       "EducationField_Other                 0.000000\n",
       "EducationField_Technical Degree      0.000000\n",
       "Gender_Male                         -0.501458\n",
       "JobRole_Human Resources              0.000000\n",
       "JobRole_Laboratory Technician        1.112921\n",
       "JobRole_Manager                      0.000000\n",
       "JobRole_Manufacturing Director       0.000000\n",
       "JobRole_Research Director            0.000000\n",
       "JobRole_Research Scientist           0.961629\n",
       "JobRole_Sales Executive              0.681731\n",
       "JobRole_Sales Representative         0.000000\n",
       "MaritalStatus_Married                0.208220\n",
       "MaritalStatus_Single                 0.721837\n",
       "OverTime_Yes                         0.935535\n",
       "dtype: float64"
      ]
     },
     "execution_count": 33,
     "metadata": {},
     "output_type": "execute_result"
    }
   ],
   "source": [
    "df.skew()"
   ]
  },
  {
   "cell_type": "code",
   "execution_count": 34,
   "id": "3bc66664",
   "metadata": {},
   "outputs": [],
   "source": [
    "from sklearn.preprocessing import PowerTransformer\n",
    "pt = PowerTransformer(method='yeo-johnson')\n",
    "df=pt.fit_transform(df)"
   ]
  },
  {
   "cell_type": "code",
   "execution_count": 35,
   "id": "e3ddb548",
   "metadata": {},
   "outputs": [],
   "source": [
    "df=pd.DataFrame(df)"
   ]
  },
  {
   "cell_type": "code",
   "execution_count": 36,
   "id": "383b12be",
   "metadata": {},
   "outputs": [],
   "source": [
    "df.columns=['Age', 'Attrition', 'DailyRate', 'DistanceFromHome', 'Education',\n",
    "       'EnvironmentSatisfaction', 'HourlyRate', 'JobInvolvement', 'JobLevel',\n",
    "       'JobSatisfaction', 'MonthlyIncome', 'MonthlyRate', 'NumCompaniesWorked',\n",
    "       'PercentSalaryHike', 'PerformanceRating', 'RelationshipSatisfaction',\n",
    "       'StockOptionLevel', 'TotalWorkingYears', 'TrainingTimesLastYear',\n",
    "       'WorkLifeBalance', 'YearsAtCompany', 'YearsInCurrentRole',\n",
    "       'YearsSinceLastPromotion', 'YearsWithCurrManager',\n",
    "       'BusinessTravel_Travel_Frequently', 'BusinessTravel_Travel_Rarely',\n",
    "       'Department_Research & Development', 'Department_Sales',\n",
    "       'EducationField_Life Sciences', 'EducationField_Marketing',\n",
    "       'EducationField_Medical', 'EducationField_Other',\n",
    "       'EducationField_Technical Degree', 'Gender_Male',\n",
    "       'JobRole_Human Resources', 'JobRole_Laboratory Technician',\n",
    "       'JobRole_Manager', 'JobRole_Manufacturing Director',\n",
    "       'JobRole_Research Director', 'JobRole_Research Scientist',\n",
    "       'JobRole_Sales Executive', 'JobRole_Sales Representative',\n",
    "       'MaritalStatus_Married', 'MaritalStatus_Single', 'OverTime_Yes']"
   ]
  },
  {
   "cell_type": "code",
   "execution_count": 37,
   "id": "fe24999d",
   "metadata": {},
   "outputs": [
    {
     "data": {
      "text/html": [
       "<div>\n",
       "<style scoped>\n",
       "    .dataframe tbody tr th:only-of-type {\n",
       "        vertical-align: middle;\n",
       "    }\n",
       "\n",
       "    .dataframe tbody tr th {\n",
       "        vertical-align: top;\n",
       "    }\n",
       "\n",
       "    .dataframe thead th {\n",
       "        text-align: right;\n",
       "    }\n",
       "</style>\n",
       "<table border=\"1\" class=\"dataframe\">\n",
       "  <thead>\n",
       "    <tr style=\"text-align: right;\">\n",
       "      <th></th>\n",
       "      <th>Age</th>\n",
       "      <th>Attrition</th>\n",
       "      <th>DailyRate</th>\n",
       "      <th>DistanceFromHome</th>\n",
       "      <th>Education</th>\n",
       "      <th>EnvironmentSatisfaction</th>\n",
       "      <th>HourlyRate</th>\n",
       "      <th>JobInvolvement</th>\n",
       "      <th>JobLevel</th>\n",
       "      <th>JobSatisfaction</th>\n",
       "      <th>...</th>\n",
       "      <th>JobRole_Laboratory Technician</th>\n",
       "      <th>JobRole_Manager</th>\n",
       "      <th>JobRole_Manufacturing Director</th>\n",
       "      <th>JobRole_Research Director</th>\n",
       "      <th>JobRole_Research Scientist</th>\n",
       "      <th>JobRole_Sales Executive</th>\n",
       "      <th>JobRole_Sales Representative</th>\n",
       "      <th>MaritalStatus_Married</th>\n",
       "      <th>MaritalStatus_Single</th>\n",
       "      <th>OverTime_Yes</th>\n",
       "    </tr>\n",
       "  </thead>\n",
       "  <tbody>\n",
       "    <tr>\n",
       "      <th>0</th>\n",
       "      <td>0.727196</td>\n",
       "      <td>2.232848</td>\n",
       "      <td>0.750689</td>\n",
       "      <td>-1.495413</td>\n",
       "      <td>-0.913523</td>\n",
       "      <td>-0.643665</td>\n",
       "      <td>1.369751</td>\n",
       "      <td>0.301001</td>\n",
       "      <td>0.588920</td>\n",
       "      <td>1.146510</td>\n",
       "      <td>...</td>\n",
       "      <td>-0.588454</td>\n",
       "      <td>0.0</td>\n",
       "      <td>0.0</td>\n",
       "      <td>0.0</td>\n",
       "      <td>-0.629264</td>\n",
       "      <td>1.396551</td>\n",
       "      <td>0.0</td>\n",
       "      <td>-0.901463</td>\n",
       "      <td>1.423185</td>\n",
       "      <td>1.570563</td>\n",
       "    </tr>\n",
       "    <tr>\n",
       "      <th>1</th>\n",
       "      <td>1.504825</td>\n",
       "      <td>-0.447858</td>\n",
       "      <td>-1.331251</td>\n",
       "      <td>0.187194</td>\n",
       "      <td>-1.768393</td>\n",
       "      <td>0.265578</td>\n",
       "      <td>-0.239642</td>\n",
       "      <td>-1.052097</td>\n",
       "      <td>0.588920</td>\n",
       "      <td>-0.759291</td>\n",
       "      <td>...</td>\n",
       "      <td>-0.588454</td>\n",
       "      <td>0.0</td>\n",
       "      <td>0.0</td>\n",
       "      <td>0.0</td>\n",
       "      <td>1.589158</td>\n",
       "      <td>-0.716050</td>\n",
       "      <td>0.0</td>\n",
       "      <td>1.109307</td>\n",
       "      <td>-0.702650</td>\n",
       "      <td>-0.636715</td>\n",
       "    </tr>\n",
       "    <tr>\n",
       "      <th>2</th>\n",
       "      <td>-0.208818</td>\n",
       "      <td>-0.447858</td>\n",
       "      <td>1.379597</td>\n",
       "      <td>-0.741968</td>\n",
       "      <td>1.107600</td>\n",
       "      <td>1.226362</td>\n",
       "      <td>-0.493866</td>\n",
       "      <td>0.301001</td>\n",
       "      <td>-1.090625</td>\n",
       "      <td>0.133329</td>\n",
       "      <td>...</td>\n",
       "      <td>-0.588454</td>\n",
       "      <td>0.0</td>\n",
       "      <td>0.0</td>\n",
       "      <td>0.0</td>\n",
       "      <td>1.589158</td>\n",
       "      <td>-0.716050</td>\n",
       "      <td>0.0</td>\n",
       "      <td>1.109307</td>\n",
       "      <td>-0.702650</td>\n",
       "      <td>1.570563</td>\n",
       "    </tr>\n",
       "    <tr>\n",
       "      <th>3</th>\n",
       "      <td>-1.062672</td>\n",
       "      <td>-0.447858</td>\n",
       "      <td>-0.465015</td>\n",
       "      <td>-1.059120</td>\n",
       "      <td>-1.768393</td>\n",
       "      <td>-1.487990</td>\n",
       "      <td>-1.332872</td>\n",
       "      <td>0.301001</td>\n",
       "      <td>-1.090625</td>\n",
       "      <td>-0.759291</td>\n",
       "      <td>...</td>\n",
       "      <td>1.699368</td>\n",
       "      <td>0.0</td>\n",
       "      <td>0.0</td>\n",
       "      <td>0.0</td>\n",
       "      <td>-0.629264</td>\n",
       "      <td>-0.716050</td>\n",
       "      <td>0.0</td>\n",
       "      <td>1.109307</td>\n",
       "      <td>-0.702650</td>\n",
       "      <td>-0.636715</td>\n",
       "    </tr>\n",
       "    <tr>\n",
       "      <th>4</th>\n",
       "      <td>-0.340488</td>\n",
       "      <td>-0.447858</td>\n",
       "      <td>0.532154</td>\n",
       "      <td>-1.059120</td>\n",
       "      <td>-0.913523</td>\n",
       "      <td>1.226362</td>\n",
       "      <td>0.651219</td>\n",
       "      <td>0.301001</td>\n",
       "      <td>-1.090625</td>\n",
       "      <td>1.146510</td>\n",
       "      <td>...</td>\n",
       "      <td>1.699368</td>\n",
       "      <td>0.0</td>\n",
       "      <td>0.0</td>\n",
       "      <td>0.0</td>\n",
       "      <td>-0.629264</td>\n",
       "      <td>-0.716050</td>\n",
       "      <td>0.0</td>\n",
       "      <td>-0.901463</td>\n",
       "      <td>1.423185</td>\n",
       "      <td>-0.636715</td>\n",
       "    </tr>\n",
       "  </tbody>\n",
       "</table>\n",
       "<p>5 rows × 45 columns</p>\n",
       "</div>"
      ],
      "text/plain": [
       "        Age  Attrition  DailyRate  DistanceFromHome  Education  \\\n",
       "0  0.727196   2.232848   0.750689         -1.495413  -0.913523   \n",
       "1  1.504825  -0.447858  -1.331251          0.187194  -1.768393   \n",
       "2 -0.208818  -0.447858   1.379597         -0.741968   1.107600   \n",
       "3 -1.062672  -0.447858  -0.465015         -1.059120  -1.768393   \n",
       "4 -0.340488  -0.447858   0.532154         -1.059120  -0.913523   \n",
       "\n",
       "   EnvironmentSatisfaction  HourlyRate  JobInvolvement  JobLevel  \\\n",
       "0                -0.643665    1.369751        0.301001  0.588920   \n",
       "1                 0.265578   -0.239642       -1.052097  0.588920   \n",
       "2                 1.226362   -0.493866        0.301001 -1.090625   \n",
       "3                -1.487990   -1.332872        0.301001 -1.090625   \n",
       "4                 1.226362    0.651219        0.301001 -1.090625   \n",
       "\n",
       "   JobSatisfaction  ...  JobRole_Laboratory Technician  JobRole_Manager  \\\n",
       "0         1.146510  ...                      -0.588454              0.0   \n",
       "1        -0.759291  ...                      -0.588454              0.0   \n",
       "2         0.133329  ...                      -0.588454              0.0   \n",
       "3        -0.759291  ...                       1.699368              0.0   \n",
       "4         1.146510  ...                       1.699368              0.0   \n",
       "\n",
       "   JobRole_Manufacturing Director  JobRole_Research Director  \\\n",
       "0                             0.0                        0.0   \n",
       "1                             0.0                        0.0   \n",
       "2                             0.0                        0.0   \n",
       "3                             0.0                        0.0   \n",
       "4                             0.0                        0.0   \n",
       "\n",
       "   JobRole_Research Scientist  JobRole_Sales Executive  \\\n",
       "0                   -0.629264                 1.396551   \n",
       "1                    1.589158                -0.716050   \n",
       "2                    1.589158                -0.716050   \n",
       "3                   -0.629264                -0.716050   \n",
       "4                   -0.629264                -0.716050   \n",
       "\n",
       "   JobRole_Sales Representative  MaritalStatus_Married  MaritalStatus_Single  \\\n",
       "0                           0.0              -0.901463              1.423185   \n",
       "1                           0.0               1.109307             -0.702650   \n",
       "2                           0.0               1.109307             -0.702650   \n",
       "3                           0.0               1.109307             -0.702650   \n",
       "4                           0.0              -0.901463              1.423185   \n",
       "\n",
       "   OverTime_Yes  \n",
       "0      1.570563  \n",
       "1     -0.636715  \n",
       "2      1.570563  \n",
       "3     -0.636715  \n",
       "4     -0.636715  \n",
       "\n",
       "[5 rows x 45 columns]"
      ]
     },
     "execution_count": 37,
     "metadata": {},
     "output_type": "execute_result"
    }
   ],
   "source": [
    "df.head()"
   ]
  },
  {
   "cell_type": "code",
   "execution_count": 38,
   "id": "8248791d",
   "metadata": {},
   "outputs": [
    {
     "data": {
      "text/plain": [
       "Age                                 -0.000215\n",
       "Attrition                            1.788215\n",
       "DailyRate                           -0.209475\n",
       "DistanceFromHome                    -0.024524\n",
       "Education                           -0.101967\n",
       "EnvironmentSatisfaction             -0.187685\n",
       "HourlyRate                          -0.106932\n",
       "JobInvolvement                      -0.026979\n",
       "JobLevel                             0.086707\n",
       "JobSatisfaction                     -0.245510\n",
       "MonthlyIncome                        0.002375\n",
       "MonthlyRate                         -0.171511\n",
       "NumCompaniesWorked                   0.026521\n",
       "PercentSalaryHike                    0.115156\n",
       "PerformanceRating                    2.001485\n",
       "RelationshipSatisfaction            -0.200181\n",
       "StockOptionLevel                     0.081887\n",
       "TotalWorkingYears                    0.004924\n",
       "TrainingTimesLastYear                0.052466\n",
       "WorkLifeBalance                     -0.017116\n",
       "YearsAtCompany                      -0.037094\n",
       "YearsInCurrentRole                  -0.066431\n",
       "YearsSinceLastPromotion              0.221250\n",
       "YearsWithCurrManager                -0.068480\n",
       "BusinessTravel_Travel_Frequently     1.594087\n",
       "BusinessTravel_Travel_Rarely        -0.903458\n",
       "Department_Research & Development   -0.681731\n",
       "Department_Sales                     0.681731\n",
       "EducationField_Life Sciences         0.033719\n",
       "EducationField_Marketing             2.071282\n",
       "EducationField_Medical               0.549355\n",
       "EducationField_Other                 0.000000\n",
       "EducationField_Technical Degree      0.000000\n",
       "Gender_Male                         -0.501458\n",
       "JobRole_Human Resources              0.000000\n",
       "JobRole_Laboratory Technician        1.112921\n",
       "JobRole_Manager                      0.000000\n",
       "JobRole_Manufacturing Director       0.000000\n",
       "JobRole_Research Director            0.000000\n",
       "JobRole_Research Scientist           0.961629\n",
       "JobRole_Sales Executive              0.681731\n",
       "JobRole_Sales Representative         0.000000\n",
       "MaritalStatus_Married                0.208220\n",
       "MaritalStatus_Single                 0.721837\n",
       "OverTime_Yes                         0.935535\n",
       "dtype: float64"
      ]
     },
     "execution_count": 38,
     "metadata": {},
     "output_type": "execute_result"
    }
   ],
   "source": [
    "df.skew()"
   ]
  },
  {
   "cell_type": "code",
   "execution_count": null,
   "id": "97576e39",
   "metadata": {},
   "outputs": [],
   "source": []
  },
  {
   "cell_type": "code",
   "execution_count": 54,
   "id": "69817e23",
   "metadata": {},
   "outputs": [],
   "source": [
    "from sklearn.model_selection import train_test_split\n",
    "from sklearn.preprocessing import MinMaxScaler\n",
    "from sklearn.model_selection import GridSearchCV, cross_val_score\n",
    "from sklearn.ensemble import RandomForestClassifier\n",
    "from sklearn.neighbors import KNeighborsClassifier\n",
    "from sklearn.linear_model import LogisticRegression\n",
    "from sklearn.tree import DecisionTreeClassifier"
   ]
  },
  {
   "cell_type": "code",
   "execution_count": 55,
   "id": "b1c1d2b7",
   "metadata": {},
   "outputs": [],
   "source": [
    "scaler = MinMaxScaler()\n",
    "\n",
    "df = scaler.fit_transform(df)\n"
   ]
  },
  {
   "cell_type": "code",
   "execution_count": 56,
   "id": "cd893660",
   "metadata": {},
   "outputs": [],
   "source": [
    "df=pd.DataFrame(df)\n",
    "df.columns=['Age', 'Attrition', 'DailyRate', 'DistanceFromHome', 'Education',\n",
    "       'EnvironmentSatisfaction', 'HourlyRate', 'JobInvolvement', 'JobLevel',\n",
    "       'JobSatisfaction', 'MonthlyIncome', 'MonthlyRate', 'NumCompaniesWorked',\n",
    "       'PercentSalaryHike', 'PerformanceRating', 'RelationshipSatisfaction',\n",
    "       'StockOptionLevel', 'TotalWorkingYears', 'TrainingTimesLastYear',\n",
    "       'WorkLifeBalance', 'YearsAtCompany', 'YearsInCurrentRole',\n",
    "       'YearsSinceLastPromotion', 'YearsWithCurrManager',\n",
    "       'BusinessTravel_Travel_Frequently', 'BusinessTravel_Travel_Rarely',\n",
    "       'Department_Research & Development', 'Department_Sales',\n",
    "       'EducationField_Life Sciences', 'EducationField_Marketing',\n",
    "       'EducationField_Medical', 'EducationField_Other',\n",
    "       'EducationField_Technical Degree', 'Gender_Male',\n",
    "       'JobRole_Human Resources', 'JobRole_Laboratory Technician',\n",
    "       'JobRole_Manager', 'JobRole_Manufacturing Director',\n",
    "       'JobRole_Research Director', 'JobRole_Research Scientist',\n",
    "       'JobRole_Sales Executive', 'JobRole_Sales Representative',\n",
    "       'MaritalStatus_Married', 'MaritalStatus_Single', 'OverTime_Yes']"
   ]
  },
  {
   "cell_type": "code",
   "execution_count": 57,
   "id": "2b7d3cc4",
   "metadata": {},
   "outputs": [],
   "source": [
    "x= df.drop(columns='Attrition')\n",
    "y = df[\"Attrition\"]"
   ]
  },
  {
   "cell_type": "code",
   "execution_count": 58,
   "id": "cc22bd2b",
   "metadata": {},
   "outputs": [
    {
     "data": {
      "text/plain": [
       "(832, 44)"
      ]
     },
     "execution_count": 58,
     "metadata": {},
     "output_type": "execute_result"
    }
   ],
   "source": [
    "x.shape"
   ]
  },
  {
   "cell_type": "code",
   "execution_count": 59,
   "id": "e23e32e1",
   "metadata": {},
   "outputs": [
    {
     "data": {
      "text/plain": [
       "(832,)"
      ]
     },
     "execution_count": 59,
     "metadata": {},
     "output_type": "execute_result"
    }
   ],
   "source": [
    "y.shape"
   ]
  },
  {
   "cell_type": "code",
   "execution_count": 60,
   "id": "ad9af950",
   "metadata": {},
   "outputs": [],
   "source": [
    "x_train,x_test,y_train,y_test= train_test_split(x,y,test_size=0.2,random_state=123)"
   ]
  },
  {
   "cell_type": "code",
   "execution_count": 61,
   "id": "0596be0c",
   "metadata": {},
   "outputs": [
    {
     "name": "stdout",
     "output_type": "stream",
     "text": [
      "(665, 44)\n",
      "(167, 44)\n",
      "(665,)\n",
      "(167,)\n"
     ]
    }
   ],
   "source": [
    "print(x_train.shape)\n",
    "print(x_test.shape)\n",
    "print(y_train.shape)\n",
    "print(y_test.shape)"
   ]
  },
  {
   "cell_type": "code",
   "execution_count": null,
   "id": "28e6ad52",
   "metadata": {},
   "outputs": [],
   "source": []
  },
  {
   "cell_type": "code",
   "execution_count": 62,
   "id": "109167d4",
   "metadata": {},
   "outputs": [],
   "source": [
    "from sklearn.metrics import accuracy_score, confusion_matrix, classification_report"
   ]
  },
  {
   "cell_type": "code",
   "execution_count": 63,
   "id": "e974a713",
   "metadata": {},
   "outputs": [
    {
     "name": "stdout",
     "output_type": "stream",
     "text": [
      "accuracy score\n",
      "0.874251497005988\n",
      "[[134   8]\n",
      " [ 13  12]]\n",
      "              precision    recall  f1-score   support\n",
      "\n",
      "         0.0       0.91      0.94      0.93       142\n",
      "         1.0       0.60      0.48      0.53        25\n",
      "\n",
      "    accuracy                           0.87       167\n",
      "   macro avg       0.76      0.71      0.73       167\n",
      "weighted avg       0.86      0.87      0.87       167\n",
      "\n"
     ]
    }
   ],
   "source": [
    "lg=LogisticRegression()\n",
    "lg.fit(x_train,y_train)\n",
    "pred=lg.predict(x_test)\n",
    "print('accuracy score')\n",
    "print(accuracy_score(y_test,pred))\n",
    "print(confusion_matrix(y_test,pred))\n",
    "print(classification_report(y_test,pred))"
   ]
  },
  {
   "cell_type": "code",
   "execution_count": null,
   "id": "dd42a723",
   "metadata": {},
   "outputs": [],
   "source": []
  },
  {
   "cell_type": "code",
   "execution_count": 96,
   "id": "8f78e2d8",
   "metadata": {},
   "outputs": [
    {
     "name": "stdout",
     "output_type": "stream",
     "text": [
      "accuracy score\n",
      "0.8562874251497006\n",
      "[[140   2]\n",
      " [ 22   3]]\n",
      "              precision    recall  f1-score   support\n",
      "\n",
      "         0.0       0.86      0.99      0.92       142\n",
      "         1.0       0.60      0.12      0.20        25\n",
      "\n",
      "    accuracy                           0.86       167\n",
      "   macro avg       0.73      0.55      0.56       167\n",
      "weighted avg       0.82      0.86      0.81       167\n",
      "\n"
     ]
    }
   ],
   "source": [
    "rf=RandomForestClassifier()\n",
    "rf.fit(x_train,y_train)\n",
    "predr=rf.predict(x_test)\n",
    "print('accuracy score')\n",
    "print(accuracy_score(y_test,predr))\n",
    "print(confusion_matrix(y_test,predr))\n",
    "print(classification_report(y_test,predr))"
   ]
  },
  {
   "cell_type": "code",
   "execution_count": null,
   "id": "dcefef3d",
   "metadata": {},
   "outputs": [],
   "source": []
  },
  {
   "cell_type": "code",
   "execution_count": 65,
   "id": "49ff1ba5",
   "metadata": {},
   "outputs": [
    {
     "name": "stdout",
     "output_type": "stream",
     "text": [
      "accuracy score\n",
      "0.7365269461077845\n",
      "[[116  26]\n",
      " [ 18   7]]\n",
      "              precision    recall  f1-score   support\n",
      "\n",
      "         0.0       0.87      0.82      0.84       142\n",
      "         1.0       0.21      0.28      0.24        25\n",
      "\n",
      "    accuracy                           0.74       167\n",
      "   macro avg       0.54      0.55      0.54       167\n",
      "weighted avg       0.77      0.74      0.75       167\n",
      "\n"
     ]
    }
   ],
   "source": [
    "dt=DecisionTreeClassifier()\n",
    "dt.fit(x_train,y_train)\n",
    "preddt=dt.predict(x_test)\n",
    "print('accuracy score')\n",
    "print(accuracy_score(y_test,preddt))\n",
    "print(confusion_matrix(y_test,preddt))\n",
    "print(classification_report(y_test,preddt))"
   ]
  },
  {
   "cell_type": "code",
   "execution_count": null,
   "id": "4370f225",
   "metadata": {},
   "outputs": [],
   "source": []
  },
  {
   "cell_type": "code",
   "execution_count": 66,
   "id": "869cadf9",
   "metadata": {},
   "outputs": [
    {
     "name": "stdout",
     "output_type": "stream",
     "text": [
      "accuracy score\n",
      "0.8323353293413174\n",
      "[[136   6]\n",
      " [ 22   3]]\n",
      "              precision    recall  f1-score   support\n",
      "\n",
      "         0.0       0.86      0.96      0.91       142\n",
      "         1.0       0.33      0.12      0.18        25\n",
      "\n",
      "    accuracy                           0.83       167\n",
      "   macro avg       0.60      0.54      0.54       167\n",
      "weighted avg       0.78      0.83      0.80       167\n",
      "\n"
     ]
    }
   ],
   "source": [
    "knn=KNeighborsClassifier()\n",
    "knn.fit(x_train,y_train)\n",
    "predk=knn.predict(x_test)\n",
    "print('accuracy score')\n",
    "print(accuracy_score(y_test,predk))\n",
    "print(confusion_matrix(y_test,predk))\n",
    "print(classification_report(y_test,predk))"
   ]
  },
  {
   "cell_type": "code",
   "execution_count": null,
   "id": "c91a65d1",
   "metadata": {},
   "outputs": [],
   "source": []
  },
  {
   "cell_type": "code",
   "execution_count": 67,
   "id": "71e3f278",
   "metadata": {},
   "outputs": [
    {
     "name": "stdout",
     "output_type": "stream",
     "text": [
      "[0.88622754 0.84431138 0.85542169 0.87349398 0.89759036]\n",
      "0.8714089892504149\n"
     ]
    }
   ],
   "source": [
    "score=cross_val_score(lg,x,y,cv=5)\n",
    "print(score)\n",
    "print(score.mean())"
   ]
  },
  {
   "cell_type": "code",
   "execution_count": 68,
   "id": "2cb523d8",
   "metadata": {},
   "outputs": [
    {
     "name": "stdout",
     "output_type": "stream",
     "text": [
      "[0.83233533 0.83233533 0.84939759 0.84939759 0.84939759]\n",
      "0.8425726859533944\n"
     ]
    }
   ],
   "source": [
    "score=cross_val_score(rf,x,y,cv=5)\n",
    "print(score)\n",
    "print(score.mean())"
   ]
  },
  {
   "cell_type": "code",
   "execution_count": 69,
   "id": "31898739",
   "metadata": {},
   "outputs": [
    {
     "name": "stdout",
     "output_type": "stream",
     "text": [
      "[0.81437126 0.77844311 0.78915663 0.72289157 0.80120482]\n",
      "0.7812134766611356\n"
     ]
    }
   ],
   "source": [
    "score=cross_val_score(dt,x,y,cv=5)\n",
    "print(score)\n",
    "print(score.mean())"
   ]
  },
  {
   "cell_type": "code",
   "execution_count": 70,
   "id": "d2d70638",
   "metadata": {},
   "outputs": [
    {
     "name": "stdout",
     "output_type": "stream",
     "text": [
      "[0.83832335 0.8502994  0.84939759 0.8373494  0.84939759]\n",
      "0.8449534665608542\n"
     ]
    }
   ],
   "source": [
    "score=cross_val_score(knn,x,y,cv=5)\n",
    "print(score)\n",
    "print(score.mean())"
   ]
  },
  {
   "cell_type": "code",
   "execution_count": null,
   "id": "68bfde16",
   "metadata": {},
   "outputs": [],
   "source": []
  },
  {
   "cell_type": "code",
   "execution_count": null,
   "id": "e3095dbd",
   "metadata": {},
   "outputs": [],
   "source": []
  },
  {
   "cell_type": "markdown",
   "id": "637a7f8b",
   "metadata": {},
   "source": [
    "# Hyperparameter Tuning"
   ]
  },
  {
   "cell_type": "code",
   "execution_count": 71,
   "id": "7436bcfb",
   "metadata": {},
   "outputs": [
    {
     "name": "stdout",
     "output_type": "stream",
     "text": [
      "{'C': 1.0, 'multi_class': 'multinomial', 'penalty': 'l2'}\n",
      "0.8796992481203008\n"
     ]
    }
   ],
   "source": [
    "grid={\"C\":np.logspace(-3,3,7), \"penalty\":[\"l1\",\"l2\"],'multi_class':['auto', 'ovr', 'multinomial']}\n",
    "lg=LogisticRegression()\n",
    "lg_cv=GridSearchCV(lg,grid,cv=5)\n",
    "lg_cv.fit(x_train,y_train)\n",
    "\n",
    "print(lg_cv.best_params_)\n",
    "print(lg_cv.best_score_)"
   ]
  },
  {
   "cell_type": "code",
   "execution_count": 72,
   "id": "abb0138e",
   "metadata": {},
   "outputs": [
    {
     "name": "stdout",
     "output_type": "stream",
     "text": [
      "{'criterion': 'gini', 'max_features': 'auto'}\n",
      "0.8481203007518797\n"
     ]
    }
   ],
   "source": [
    "param_grid = {'max_features': ['auto', 'log2'],'criterion':['gini','entropy']}\n",
    "rf = RandomForestClassifier()\n",
    "gr_search = GridSearchCV(estimator =rf,param_grid = param_grid,cv=5)\n",
    "gr_search.fit(x_train, y_train)\n",
    "\n",
    "\n",
    "print(gr_search.best_params_)\n",
    "print(gr_search.best_score_)"
   ]
  },
  {
   "cell_type": "code",
   "execution_count": null,
   "id": "6226718b",
   "metadata": {},
   "outputs": [],
   "source": []
  },
  {
   "cell_type": "code",
   "execution_count": null,
   "id": "483b3a9e",
   "metadata": {},
   "outputs": [],
   "source": []
  },
  {
   "cell_type": "markdown",
   "id": "ef559373",
   "metadata": {},
   "source": [
    "Training Best extracted parameters"
   ]
  },
  {
   "cell_type": "code",
   "execution_count": 75,
   "id": "d599e877",
   "metadata": {},
   "outputs": [
    {
     "data": {
      "text/plain": [
       "GridSearchCV(cv=5, estimator=LogisticRegression(multi_class='multinomial'),\n",
       "             param_grid={'C': array([1.e-03, 1.e-02, 1.e-01, 1.e+00, 1.e+01, 1.e+02, 1.e+03]),\n",
       "                         'multi_class': ['auto', 'ovr', 'multinomial'],\n",
       "                         'penalty': ['l1', 'l2']})"
      ]
     },
     "execution_count": 75,
     "metadata": {},
     "output_type": "execute_result"
    }
   ],
   "source": [
    "lg=LogisticRegression(C= 1.0, multi_class= 'multinomial', penalty='l2')\n",
    "lg_cv=GridSearchCV(lg,grid,cv=5)\n",
    "lg_cv.fit(x_train,y_train)"
   ]
  },
  {
   "cell_type": "code",
   "execution_count": 77,
   "id": "3aae989f",
   "metadata": {},
   "outputs": [],
   "source": [
    "pred=lg_cv.predict(x_test)"
   ]
  },
  {
   "cell_type": "code",
   "execution_count": 78,
   "id": "92be10e6",
   "metadata": {},
   "outputs": [
    {
     "name": "stdout",
     "output_type": "stream",
     "text": [
      "accuracy score\n",
      "0.8682634730538922\n",
      "[[133   9]\n",
      " [ 13  12]]\n",
      "              precision    recall  f1-score   support\n",
      "\n",
      "         0.0       0.91      0.94      0.92       142\n",
      "         1.0       0.57      0.48      0.52        25\n",
      "\n",
      "    accuracy                           0.87       167\n",
      "   macro avg       0.74      0.71      0.72       167\n",
      "weighted avg       0.86      0.87      0.86       167\n",
      "\n"
     ]
    }
   ],
   "source": [
    "print('accuracy score')\n",
    "print(accuracy_score(y_test,pred))\n",
    "print(confusion_matrix(y_test,pred))\n",
    "print(classification_report(y_test,pred))"
   ]
  },
  {
   "cell_type": "code",
   "execution_count": null,
   "id": "4f53eeb8",
   "metadata": {},
   "outputs": [],
   "source": []
  },
  {
   "cell_type": "markdown",
   "id": "e13a501c",
   "metadata": {},
   "source": [
    "# saving model"
   ]
  },
  {
   "cell_type": "code",
   "execution_count": 80,
   "id": "96ad11f3",
   "metadata": {},
   "outputs": [
    {
     "data": {
      "text/plain": [
       "LogisticRegression(multi_class='multinomial')"
      ]
     },
     "execution_count": 80,
     "metadata": {},
     "output_type": "execute_result"
    }
   ],
   "source": [
    "import joblib\n",
    "joblib.dump(lg,'lg_cv.obj')\n",
    "\n",
    "lg_cvfile=joblib.load('lg_cv.obj')\n",
    "lg_cvfile.fit(x_train, y_train)"
   ]
  },
  {
   "cell_type": "code",
   "execution_count": null,
   "id": "1fe55529",
   "metadata": {},
   "outputs": [],
   "source": []
  },
  {
   "cell_type": "code",
   "execution_count": null,
   "id": "66aa5ab0",
   "metadata": {},
   "outputs": [],
   "source": []
  },
  {
   "cell_type": "code",
   "execution_count": 81,
   "id": "ac913f1f",
   "metadata": {},
   "outputs": [],
   "source": [
    "from sklearn.metrics import roc_curve\n",
    "import matplotlib.pyplot as plt\n",
    "\n",
    "from sklearn.metrics import roc_auc_score"
   ]
  },
  {
   "cell_type": "code",
   "execution_count": 83,
   "id": "d71ce24c",
   "metadata": {},
   "outputs": [],
   "source": [
    "y_pred_prob=lg_cv.predict_proba(x_test)[:,1]"
   ]
  },
  {
   "cell_type": "code",
   "execution_count": 84,
   "id": "880f8106",
   "metadata": {},
   "outputs": [
    {
     "data": {
      "text/plain": [
       "array([7.16097285e-02, 7.76888605e-02, 2.09657086e-02, 5.47426674e-02,\n",
       "       1.33680292e-01, 2.53873893e-02, 6.20023556e-02, 5.41926922e-02,\n",
       "       2.12714502e-03, 2.69540291e-02, 6.00774720e-03, 1.17024229e-01,\n",
       "       7.48127500e-04, 5.11444318e-02, 2.98850088e-01, 1.61463329e-01,\n",
       "       8.61478494e-02, 2.09134505e-02, 2.08669748e-01, 3.31838338e-02,\n",
       "       4.07544246e-03, 8.77231472e-03, 7.68811685e-02, 2.87399734e-02,\n",
       "       1.62047697e-02, 5.10010967e-01, 6.90888908e-01, 1.41023795e-02,\n",
       "       8.34973920e-02, 7.11321388e-02, 6.97700847e-02, 7.02404392e-02,\n",
       "       1.36423774e-03, 1.31776835e-01, 2.50170636e-02, 4.49272140e-02,\n",
       "       2.57351525e-01, 4.04328880e-01, 1.04460958e-01, 2.34463165e-01,\n",
       "       3.78128967e-01, 2.02951965e-03, 6.24757498e-01, 6.79164438e-01,\n",
       "       2.90762989e-02, 3.21042630e-01, 1.09193585e-02, 1.15627348e-01,\n",
       "       7.40954427e-01, 1.86899488e-03, 9.99255635e-02, 2.30927829e-02,\n",
       "       6.84714903e-03, 4.15668292e-01, 2.55496689e-01, 2.19074345e-01,\n",
       "       2.89519481e-02, 3.08488394e-01, 2.06755161e-02, 6.01573848e-01,\n",
       "       2.70892630e-01, 1.77828236e-01, 1.53427346e-01, 3.59261965e-03,\n",
       "       8.07575615e-03, 4.22950671e-02, 6.40569510e-01, 6.25902302e-02,\n",
       "       1.79253249e-01, 2.21911317e-01, 5.36114846e-01, 6.64472527e-03,\n",
       "       4.93470168e-01, 8.71954710e-02, 1.13564312e-01, 1.76403947e-02,\n",
       "       1.43088623e-01, 3.39181983e-02, 2.41571848e-01, 4.73525943e-01,\n",
       "       1.11101863e-01, 6.55139384e-02, 9.05910449e-01, 5.02674529e-03,\n",
       "       7.58430841e-03, 7.81453838e-01, 9.29647562e-01, 4.69470665e-02,\n",
       "       3.60677606e-02, 2.95284213e-02, 1.63687328e-01, 1.73174529e-01,\n",
       "       4.63208491e-03, 1.40874484e-02, 5.00599122e-02, 9.66535189e-01,\n",
       "       6.18546590e-03, 7.76924178e-03, 1.96524868e-01, 4.81701501e-01,\n",
       "       1.09359678e-02, 7.37456812e-01, 1.37585779e-02, 3.13746219e-01,\n",
       "       4.00790932e-02, 3.88259047e-01, 2.09045517e-02, 8.64327909e-03,\n",
       "       3.37332363e-02, 1.57235513e-01, 9.40652200e-02, 5.69090117e-03,\n",
       "       7.62661927e-01, 7.70085198e-02, 6.17087494e-01, 8.58090930e-01,\n",
       "       3.28556677e-02, 1.22889230e-01, 1.22014126e-01, 4.54514514e-01,\n",
       "       1.28241794e-02, 5.70792041e-02, 5.45128514e-01, 1.09019731e-02,\n",
       "       3.84390647e-02, 1.47838771e-01, 4.92659809e-01, 8.56051635e-01,\n",
       "       1.98663068e-02, 2.32520954e-01, 1.75761584e-01, 4.71558921e-01,\n",
       "       5.68929391e-02, 6.20559875e-02, 5.03834391e-02, 7.91954396e-03,\n",
       "       1.78884553e-01, 2.77784368e-01, 4.93142518e-01, 3.69522240e-01,\n",
       "       1.03369564e-02, 8.33689988e-01, 1.18662138e-01, 8.99673598e-02,\n",
       "       1.14927811e-01, 6.54580752e-02, 5.54022847e-02, 2.83086944e-01,\n",
       "       8.14397955e-04, 1.07641974e-01, 5.30625426e-01, 3.30416100e-02,\n",
       "       2.14855660e-02, 5.28166637e-02, 1.22133464e-03, 1.52778222e-03,\n",
       "       1.67656995e-02, 1.10326684e-01, 7.88940204e-02, 2.22925014e-01,\n",
       "       1.46778525e-01, 3.85753934e-01, 6.94562096e-01, 8.70830324e-03,\n",
       "       1.35858416e-02, 3.33233873e-01, 4.59813970e-02])"
      ]
     },
     "execution_count": 84,
     "metadata": {},
     "output_type": "execute_result"
    }
   ],
   "source": [
    "y_pred_prob"
   ]
  },
  {
   "cell_type": "code",
   "execution_count": 85,
   "id": "476f27a3",
   "metadata": {},
   "outputs": [],
   "source": [
    "fpr,tpr,thresholds=roc_curve(y_test,y_pred_prob)"
   ]
  },
  {
   "cell_type": "code",
   "execution_count": 86,
   "id": "c0379435",
   "metadata": {},
   "outputs": [
    {
     "data": {
      "text/plain": [
       "array([0.        , 0.        , 0.        , 0.00704225, 0.00704225,\n",
       "       0.01408451, 0.01408451, 0.04929577, 0.04929577, 0.05633803,\n",
       "       0.05633803, 0.06338028, 0.06338028, 0.11267606, 0.11267606,\n",
       "       0.11971831, 0.11971831, 0.13380282, 0.13380282, 0.1971831 ,\n",
       "       0.1971831 , 0.21126761, 0.21126761, 0.66901408, 0.66901408,\n",
       "       0.75352113, 0.75352113, 0.91549296, 0.91549296, 1.        ])"
      ]
     },
     "execution_count": 86,
     "metadata": {},
     "output_type": "execute_result"
    }
   ],
   "source": [
    "fpr"
   ]
  },
  {
   "cell_type": "code",
   "execution_count": 87,
   "id": "6fa12ba5",
   "metadata": {},
   "outputs": [
    {
     "data": {
      "text/plain": [
       "array([0.  , 0.04, 0.16, 0.16, 0.2 , 0.2 , 0.36, 0.36, 0.4 , 0.4 , 0.44,\n",
       "       0.44, 0.6 , 0.6 , 0.64, 0.64, 0.68, 0.68, 0.72, 0.72, 0.76, 0.76,\n",
       "       0.8 , 0.8 , 0.88, 0.88, 0.96, 0.96, 1.  , 1.  ])"
      ]
     },
     "execution_count": 87,
     "metadata": {},
     "output_type": "execute_result"
    }
   ],
   "source": [
    "tpr"
   ]
  },
  {
   "cell_type": "code",
   "execution_count": 88,
   "id": "8a1390ee",
   "metadata": {},
   "outputs": [
    {
     "data": {
      "text/plain": [
       "array([1.96653519e+00, 9.66535189e-01, 8.58090930e-01, 8.56051635e-01,\n",
       "       8.33689988e-01, 7.81453838e-01, 6.94562096e-01, 6.17087494e-01,\n",
       "       6.01573848e-01, 5.45128514e-01, 5.36114846e-01, 5.30625426e-01,\n",
       "       4.92659809e-01, 3.88259047e-01, 3.85753934e-01, 3.78128967e-01,\n",
       "       3.69522240e-01, 3.21042630e-01, 3.13746219e-01, 2.34463165e-01,\n",
       "       2.32520954e-01, 2.21911317e-01, 2.19074345e-01, 3.31838338e-02,\n",
       "       3.28556677e-02, 2.09045517e-02, 1.98663068e-02, 6.00774720e-03,\n",
       "       5.69090117e-03, 7.48127500e-04])"
      ]
     },
     "execution_count": 88,
     "metadata": {},
     "output_type": "execute_result"
    }
   ],
   "source": [
    "thresholds"
   ]
  },
  {
   "cell_type": "code",
   "execution_count": 89,
   "id": "53a324ac",
   "metadata": {},
   "outputs": [
    {
     "data": {
      "image/png": "[encoded data removed]",
      "text/plain": [
       "<Figure size 432x288 with 1 Axes>"
      ]
     },
     "metadata": {
      "needs_background": "light"
     },
     "output_type": "display_data"
    }
   ],
   "source": [
    "plt.plot([0,1],[0,1],'k--')\n",
    "plt.plot(fpr,tpr,label='Logistic Regression')\n",
    "plt.xlabel('1')\n",
    "plt.ylabel('0')\n",
    "plt.title('Logistic Regression')\n",
    "plt.show()"
   ]
  },
  {
   "cell_type": "markdown",
   "id": "a2e7220f",
   "metadata": {},
   "source": [
    "Checking AUC_ROC Curve for LogisticRegression"
   ]
  },
  {
   "cell_type": "code",
   "execution_count": 92,
   "id": "8e148bb5",
   "metadata": {},
   "outputs": [],
   "source": [
    "auc_score=roc_auc_score(y_test,lg_cv.predict(x_test))"
   ]
  },
  {
   "cell_type": "code",
   "execution_count": 93,
   "id": "0ccd1ab7",
   "metadata": {},
   "outputs": [
    {
     "name": "stdout",
     "output_type": "stream",
     "text": [
      "0.7083098591549296\n"
     ]
    }
   ],
   "source": [
    "print(auc_score)"
   ]
  },
  {
   "cell_type": "code",
   "execution_count": 94,
   "id": "abd45f3e",
   "metadata": {},
   "outputs": [
    {
     "name": "stdout",
     "output_type": "stream",
     "text": [
      "0.8682634730538922\n"
     ]
    }
   ],
   "source": [
    "\n",
    "rf=RandomForestClassifier()\n",
    "rf.fit(x_train,y_train)\n",
    "p=rf.predict(x_test)\n",
    "print(accuracy_score(y_test,p))"
   ]
  },
  {
   "cell_type": "code",
   "execution_count": 97,
   "id": "b76cf0ca",
   "metadata": {},
   "outputs": [
    {
     "data": {
      "image/png": "[encoded data removed]",
      "text/plain": [
       "<Figure size 432x288 with 1 Axes>"
      ]
     },
     "metadata": {
      "needs_background": "light"
     },
     "output_type": "display_data"
    },
    {
     "data": {
      "text/plain": [
       "0.7083098591549296"
      ]
     },
     "execution_count": 97,
     "metadata": {},
     "output_type": "execute_result"
    }
   ],
   "source": [
    "y_pred_prob=rf.predict_proba(x_test)[:,1]\n",
    "fpr,tpr,thresholds=roc_curve(y_test,y_pred_prob)\n",
    "plt.plot([0,1],[0,1],'k--')\n",
    "plt.plot(fpr,tpr)\n",
    "plt.xlabel('1')\n",
    "plt.ylabel('0')\n",
    "plt.show()\n",
    "auc_score=roc_auc_score(y_test,lg_cv.predict(x_test))\n",
    "auc_score"
   ]
  },
  {
   "cell_type": "code",
   "execution_count": null,
   "id": "bbaf80f3",
   "metadata": {},
   "outputs": [],
   "source": []
  }
 ],
 "metadata": {
  "kernelspec": {
   "display_name": "Python 3",
   "language": "python",
   "name": "python3"
  },
  "language_info": {
   "codemirror_mode": {
    "name": "ipython",
    "version": 3
   },
   "file_extension": ".py",
   "mimetype": "text/x-python",
   "name": "python",
   "nbconvert_exporter": "python",
   "pygments_lexer": "ipython3",
   "version": "3.8.8"
  }
 },
 "nbformat": 4,
 "nbformat_minor": 5
}
