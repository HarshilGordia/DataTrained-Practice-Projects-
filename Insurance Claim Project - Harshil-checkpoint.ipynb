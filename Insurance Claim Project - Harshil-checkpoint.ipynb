{
 "cells": [
  {
   "cell_type": "code",
   "execution_count": 1,
   "id": "61eeed84",
   "metadata": {},
   "outputs": [],
   "source": [
    "import pandas as pd\n",
    "import numpy as np\n",
    "import matplotlib.pyplot as plt\n",
    "import seaborn as sns\n",
    "import warnings\n",
    "warnings.filterwarnings('ignore')"
   ]
  },
  {
   "cell_type": "code",
   "execution_count": 2,
   "id": "eb4c9b91",
   "metadata": {},
   "outputs": [
    {
     "data": {
      "text/html": [
       "<div>\n",
       "<style scoped>\n",
       "    .dataframe tbody tr th:only-of-type {\n",
       "        vertical-align: middle;\n",
       "    }\n",
       "\n",
       "    .dataframe tbody tr th {\n",
       "        vertical-align: top;\n",
       "    }\n",
       "\n",
       "    .dataframe thead th {\n",
       "        text-align: right;\n",
       "    }\n",
       "</style>\n",
       "<table border=\"1\" class=\"dataframe\">\n",
       "  <thead>\n",
       "    <tr style=\"text-align: right;\">\n",
       "      <th></th>\n",
       "      <th>months_as_customer</th>\n",
       "      <th>age</th>\n",
       "      <th>policy_number</th>\n",
       "      <th>policy_bind_date</th>\n",
       "      <th>policy_state</th>\n",
       "      <th>policy_csl</th>\n",
       "      <th>policy_deductable</th>\n",
       "      <th>policy_annual_premium</th>\n",
       "      <th>umbrella_limit</th>\n",
       "      <th>insured_zip</th>\n",
       "      <th>...</th>\n",
       "      <th>police_report_available</th>\n",
       "      <th>total_claim_amount</th>\n",
       "      <th>injury_claim</th>\n",
       "      <th>property_claim</th>\n",
       "      <th>vehicle_claim</th>\n",
       "      <th>auto_make</th>\n",
       "      <th>auto_model</th>\n",
       "      <th>auto_year</th>\n",
       "      <th>fraud_reported</th>\n",
       "      <th>_c39</th>\n",
       "    </tr>\n",
       "  </thead>\n",
       "  <tbody>\n",
       "    <tr>\n",
       "      <th>0</th>\n",
       "      <td>328</td>\n",
       "      <td>48</td>\n",
       "      <td>521585</td>\n",
       "      <td>17-10-2014</td>\n",
       "      <td>OH</td>\n",
       "      <td>250/500</td>\n",
       "      <td>1000</td>\n",
       "      <td>1406.91</td>\n",
       "      <td>0</td>\n",
       "      <td>466132</td>\n",
       "      <td>...</td>\n",
       "      <td>YES</td>\n",
       "      <td>71610</td>\n",
       "      <td>6510</td>\n",
       "      <td>13020</td>\n",
       "      <td>52080</td>\n",
       "      <td>Saab</td>\n",
       "      <td>92x</td>\n",
       "      <td>2004</td>\n",
       "      <td>Y</td>\n",
       "      <td>NaN</td>\n",
       "    </tr>\n",
       "    <tr>\n",
       "      <th>1</th>\n",
       "      <td>228</td>\n",
       "      <td>42</td>\n",
       "      <td>342868</td>\n",
       "      <td>27-06-2006</td>\n",
       "      <td>IN</td>\n",
       "      <td>250/500</td>\n",
       "      <td>2000</td>\n",
       "      <td>1197.22</td>\n",
       "      <td>5000000</td>\n",
       "      <td>468176</td>\n",
       "      <td>...</td>\n",
       "      <td>?</td>\n",
       "      <td>5070</td>\n",
       "      <td>780</td>\n",
       "      <td>780</td>\n",
       "      <td>3510</td>\n",
       "      <td>Mercedes</td>\n",
       "      <td>E400</td>\n",
       "      <td>2007</td>\n",
       "      <td>Y</td>\n",
       "      <td>NaN</td>\n",
       "    </tr>\n",
       "    <tr>\n",
       "      <th>2</th>\n",
       "      <td>134</td>\n",
       "      <td>29</td>\n",
       "      <td>687698</td>\n",
       "      <td>06-09-2000</td>\n",
       "      <td>OH</td>\n",
       "      <td>100/300</td>\n",
       "      <td>2000</td>\n",
       "      <td>1413.14</td>\n",
       "      <td>5000000</td>\n",
       "      <td>430632</td>\n",
       "      <td>...</td>\n",
       "      <td>NO</td>\n",
       "      <td>34650</td>\n",
       "      <td>7700</td>\n",
       "      <td>3850</td>\n",
       "      <td>23100</td>\n",
       "      <td>Dodge</td>\n",
       "      <td>RAM</td>\n",
       "      <td>2007</td>\n",
       "      <td>N</td>\n",
       "      <td>NaN</td>\n",
       "    </tr>\n",
       "    <tr>\n",
       "      <th>3</th>\n",
       "      <td>256</td>\n",
       "      <td>41</td>\n",
       "      <td>227811</td>\n",
       "      <td>25-05-1990</td>\n",
       "      <td>IL</td>\n",
       "      <td>250/500</td>\n",
       "      <td>2000</td>\n",
       "      <td>1415.74</td>\n",
       "      <td>6000000</td>\n",
       "      <td>608117</td>\n",
       "      <td>...</td>\n",
       "      <td>NO</td>\n",
       "      <td>63400</td>\n",
       "      <td>6340</td>\n",
       "      <td>6340</td>\n",
       "      <td>50720</td>\n",
       "      <td>Chevrolet</td>\n",
       "      <td>Tahoe</td>\n",
       "      <td>2014</td>\n",
       "      <td>Y</td>\n",
       "      <td>NaN</td>\n",
       "    </tr>\n",
       "    <tr>\n",
       "      <th>4</th>\n",
       "      <td>228</td>\n",
       "      <td>44</td>\n",
       "      <td>367455</td>\n",
       "      <td>06-06-2014</td>\n",
       "      <td>IL</td>\n",
       "      <td>500/1000</td>\n",
       "      <td>1000</td>\n",
       "      <td>1583.91</td>\n",
       "      <td>6000000</td>\n",
       "      <td>610706</td>\n",
       "      <td>...</td>\n",
       "      <td>NO</td>\n",
       "      <td>6500</td>\n",
       "      <td>1300</td>\n",
       "      <td>650</td>\n",
       "      <td>4550</td>\n",
       "      <td>Accura</td>\n",
       "      <td>RSX</td>\n",
       "      <td>2009</td>\n",
       "      <td>N</td>\n",
       "      <td>NaN</td>\n",
       "    </tr>\n",
       "  </tbody>\n",
       "</table>\n",
       "<p>5 rows × 40 columns</p>\n",
       "</div>"
      ],
      "text/plain": [
       "   months_as_customer  age  policy_number policy_bind_date policy_state  \\\n",
       "0                 328   48         521585       17-10-2014           OH   \n",
       "1                 228   42         342868       27-06-2006           IN   \n",
       "2                 134   29         687698       06-09-2000           OH   \n",
       "3                 256   41         227811       25-05-1990           IL   \n",
       "4                 228   44         367455       06-06-2014           IL   \n",
       "\n",
       "  policy_csl  policy_deductable  policy_annual_premium  umbrella_limit  \\\n",
       "0    250/500               1000                1406.91               0   \n",
       "1    250/500               2000                1197.22         5000000   \n",
       "2    100/300               2000                1413.14         5000000   \n",
       "3    250/500               2000                1415.74         6000000   \n",
       "4   500/1000               1000                1583.91         6000000   \n",
       "\n",
       "   insured_zip  ... police_report_available total_claim_amount injury_claim  \\\n",
       "0       466132  ...                     YES              71610         6510   \n",
       "1       468176  ...                       ?               5070          780   \n",
       "2       430632  ...                      NO              34650         7700   \n",
       "3       608117  ...                      NO              63400         6340   \n",
       "4       610706  ...                      NO               6500         1300   \n",
       "\n",
       "  property_claim vehicle_claim  auto_make  auto_model auto_year  \\\n",
       "0          13020         52080       Saab         92x      2004   \n",
       "1            780          3510   Mercedes        E400      2007   \n",
       "2           3850         23100      Dodge         RAM      2007   \n",
       "3           6340         50720  Chevrolet       Tahoe      2014   \n",
       "4            650          4550     Accura         RSX      2009   \n",
       "\n",
       "  fraud_reported _c39  \n",
       "0              Y  NaN  \n",
       "1              Y  NaN  \n",
       "2              N  NaN  \n",
       "3              Y  NaN  \n",
       "4              N  NaN  \n",
       "\n",
       "[5 rows x 40 columns]"
      ]
     },
     "execution_count": 2,
     "metadata": {},
     "output_type": "execute_result"
    }
   ],
   "source": [
    "df=pd.read_csv('insurance_claim.csv')\n",
    "df.head()"
   ]
  },
  {
   "cell_type": "code",
   "execution_count": 3,
   "id": "eb994788",
   "metadata": {},
   "outputs": [],
   "source": [
    "df.drop('_c39', inplace=True, axis = 1)"
   ]
  },
  {
   "cell_type": "code",
   "execution_count": 4,
   "id": "00d6e03f",
   "metadata": {},
   "outputs": [
    {
     "data": {
      "text/html": [
       "<div>\n",
       "<style scoped>\n",
       "    .dataframe tbody tr th:only-of-type {\n",
       "        vertical-align: middle;\n",
       "    }\n",
       "\n",
       "    .dataframe tbody tr th {\n",
       "        vertical-align: top;\n",
       "    }\n",
       "\n",
       "    .dataframe thead th {\n",
       "        text-align: right;\n",
       "    }\n",
       "</style>\n",
       "<table border=\"1\" class=\"dataframe\">\n",
       "  <thead>\n",
       "    <tr style=\"text-align: right;\">\n",
       "      <th></th>\n",
       "      <th>months_as_customer</th>\n",
       "      <th>age</th>\n",
       "      <th>policy_number</th>\n",
       "      <th>policy_bind_date</th>\n",
       "      <th>policy_state</th>\n",
       "      <th>policy_csl</th>\n",
       "      <th>policy_deductable</th>\n",
       "      <th>policy_annual_premium</th>\n",
       "      <th>umbrella_limit</th>\n",
       "      <th>insured_zip</th>\n",
       "      <th>...</th>\n",
       "      <th>witnesses</th>\n",
       "      <th>police_report_available</th>\n",
       "      <th>total_claim_amount</th>\n",
       "      <th>injury_claim</th>\n",
       "      <th>property_claim</th>\n",
       "      <th>vehicle_claim</th>\n",
       "      <th>auto_make</th>\n",
       "      <th>auto_model</th>\n",
       "      <th>auto_year</th>\n",
       "      <th>fraud_reported</th>\n",
       "    </tr>\n",
       "  </thead>\n",
       "  <tbody>\n",
       "    <tr>\n",
       "      <th>count</th>\n",
       "      <td>1000.000000</td>\n",
       "      <td>1000.000000</td>\n",
       "      <td>1000.000000</td>\n",
       "      <td>1000</td>\n",
       "      <td>1000</td>\n",
       "      <td>1000</td>\n",
       "      <td>1000.000000</td>\n",
       "      <td>1000.000000</td>\n",
       "      <td>1.000000e+03</td>\n",
       "      <td>1000.000000</td>\n",
       "      <td>...</td>\n",
       "      <td>1000.000000</td>\n",
       "      <td>1000</td>\n",
       "      <td>1000.00000</td>\n",
       "      <td>1000.000000</td>\n",
       "      <td>1000.000000</td>\n",
       "      <td>1000.000000</td>\n",
       "      <td>1000</td>\n",
       "      <td>1000</td>\n",
       "      <td>1000.000000</td>\n",
       "      <td>1000</td>\n",
       "    </tr>\n",
       "    <tr>\n",
       "      <th>unique</th>\n",
       "      <td>NaN</td>\n",
       "      <td>NaN</td>\n",
       "      <td>NaN</td>\n",
       "      <td>951</td>\n",
       "      <td>3</td>\n",
       "      <td>3</td>\n",
       "      <td>NaN</td>\n",
       "      <td>NaN</td>\n",
       "      <td>NaN</td>\n",
       "      <td>NaN</td>\n",
       "      <td>...</td>\n",
       "      <td>NaN</td>\n",
       "      <td>3</td>\n",
       "      <td>NaN</td>\n",
       "      <td>NaN</td>\n",
       "      <td>NaN</td>\n",
       "      <td>NaN</td>\n",
       "      <td>14</td>\n",
       "      <td>39</td>\n",
       "      <td>NaN</td>\n",
       "      <td>2</td>\n",
       "    </tr>\n",
       "    <tr>\n",
       "      <th>top</th>\n",
       "      <td>NaN</td>\n",
       "      <td>NaN</td>\n",
       "      <td>NaN</td>\n",
       "      <td>05-08-1992</td>\n",
       "      <td>OH</td>\n",
       "      <td>250/500</td>\n",
       "      <td>NaN</td>\n",
       "      <td>NaN</td>\n",
       "      <td>NaN</td>\n",
       "      <td>NaN</td>\n",
       "      <td>...</td>\n",
       "      <td>NaN</td>\n",
       "      <td>?</td>\n",
       "      <td>NaN</td>\n",
       "      <td>NaN</td>\n",
       "      <td>NaN</td>\n",
       "      <td>NaN</td>\n",
       "      <td>Saab</td>\n",
       "      <td>RAM</td>\n",
       "      <td>NaN</td>\n",
       "      <td>N</td>\n",
       "    </tr>\n",
       "    <tr>\n",
       "      <th>freq</th>\n",
       "      <td>NaN</td>\n",
       "      <td>NaN</td>\n",
       "      <td>NaN</td>\n",
       "      <td>3</td>\n",
       "      <td>352</td>\n",
       "      <td>351</td>\n",
       "      <td>NaN</td>\n",
       "      <td>NaN</td>\n",
       "      <td>NaN</td>\n",
       "      <td>NaN</td>\n",
       "      <td>...</td>\n",
       "      <td>NaN</td>\n",
       "      <td>343</td>\n",
       "      <td>NaN</td>\n",
       "      <td>NaN</td>\n",
       "      <td>NaN</td>\n",
       "      <td>NaN</td>\n",
       "      <td>80</td>\n",
       "      <td>43</td>\n",
       "      <td>NaN</td>\n",
       "      <td>753</td>\n",
       "    </tr>\n",
       "    <tr>\n",
       "      <th>mean</th>\n",
       "      <td>203.954000</td>\n",
       "      <td>38.948000</td>\n",
       "      <td>546238.648000</td>\n",
       "      <td>NaN</td>\n",
       "      <td>NaN</td>\n",
       "      <td>NaN</td>\n",
       "      <td>1136.000000</td>\n",
       "      <td>1256.406150</td>\n",
       "      <td>1.101000e+06</td>\n",
       "      <td>501214.488000</td>\n",
       "      <td>...</td>\n",
       "      <td>1.487000</td>\n",
       "      <td>NaN</td>\n",
       "      <td>52761.94000</td>\n",
       "      <td>7433.420000</td>\n",
       "      <td>7399.570000</td>\n",
       "      <td>37928.950000</td>\n",
       "      <td>NaN</td>\n",
       "      <td>NaN</td>\n",
       "      <td>2005.103000</td>\n",
       "      <td>NaN</td>\n",
       "    </tr>\n",
       "    <tr>\n",
       "      <th>std</th>\n",
       "      <td>115.113174</td>\n",
       "      <td>9.140287</td>\n",
       "      <td>257063.005276</td>\n",
       "      <td>NaN</td>\n",
       "      <td>NaN</td>\n",
       "      <td>NaN</td>\n",
       "      <td>611.864673</td>\n",
       "      <td>244.167395</td>\n",
       "      <td>2.297407e+06</td>\n",
       "      <td>71701.610941</td>\n",
       "      <td>...</td>\n",
       "      <td>1.111335</td>\n",
       "      <td>NaN</td>\n",
       "      <td>26401.53319</td>\n",
       "      <td>4880.951853</td>\n",
       "      <td>4824.726179</td>\n",
       "      <td>18886.252893</td>\n",
       "      <td>NaN</td>\n",
       "      <td>NaN</td>\n",
       "      <td>6.015861</td>\n",
       "      <td>NaN</td>\n",
       "    </tr>\n",
       "    <tr>\n",
       "      <th>min</th>\n",
       "      <td>0.000000</td>\n",
       "      <td>19.000000</td>\n",
       "      <td>100804.000000</td>\n",
       "      <td>NaN</td>\n",
       "      <td>NaN</td>\n",
       "      <td>NaN</td>\n",
       "      <td>500.000000</td>\n",
       "      <td>433.330000</td>\n",
       "      <td>-1.000000e+06</td>\n",
       "      <td>430104.000000</td>\n",
       "      <td>...</td>\n",
       "      <td>0.000000</td>\n",
       "      <td>NaN</td>\n",
       "      <td>100.00000</td>\n",
       "      <td>0.000000</td>\n",
       "      <td>0.000000</td>\n",
       "      <td>70.000000</td>\n",
       "      <td>NaN</td>\n",
       "      <td>NaN</td>\n",
       "      <td>1995.000000</td>\n",
       "      <td>NaN</td>\n",
       "    </tr>\n",
       "    <tr>\n",
       "      <th>25%</th>\n",
       "      <td>115.750000</td>\n",
       "      <td>32.000000</td>\n",
       "      <td>335980.250000</td>\n",
       "      <td>NaN</td>\n",
       "      <td>NaN</td>\n",
       "      <td>NaN</td>\n",
       "      <td>500.000000</td>\n",
       "      <td>1089.607500</td>\n",
       "      <td>0.000000e+00</td>\n",
       "      <td>448404.500000</td>\n",
       "      <td>...</td>\n",
       "      <td>1.000000</td>\n",
       "      <td>NaN</td>\n",
       "      <td>41812.50000</td>\n",
       "      <td>4295.000000</td>\n",
       "      <td>4445.000000</td>\n",
       "      <td>30292.500000</td>\n",
       "      <td>NaN</td>\n",
       "      <td>NaN</td>\n",
       "      <td>2000.000000</td>\n",
       "      <td>NaN</td>\n",
       "    </tr>\n",
       "    <tr>\n",
       "      <th>50%</th>\n",
       "      <td>199.500000</td>\n",
       "      <td>38.000000</td>\n",
       "      <td>533135.000000</td>\n",
       "      <td>NaN</td>\n",
       "      <td>NaN</td>\n",
       "      <td>NaN</td>\n",
       "      <td>1000.000000</td>\n",
       "      <td>1257.200000</td>\n",
       "      <td>0.000000e+00</td>\n",
       "      <td>466445.500000</td>\n",
       "      <td>...</td>\n",
       "      <td>1.000000</td>\n",
       "      <td>NaN</td>\n",
       "      <td>58055.00000</td>\n",
       "      <td>6775.000000</td>\n",
       "      <td>6750.000000</td>\n",
       "      <td>42100.000000</td>\n",
       "      <td>NaN</td>\n",
       "      <td>NaN</td>\n",
       "      <td>2005.000000</td>\n",
       "      <td>NaN</td>\n",
       "    </tr>\n",
       "    <tr>\n",
       "      <th>75%</th>\n",
       "      <td>276.250000</td>\n",
       "      <td>44.000000</td>\n",
       "      <td>759099.750000</td>\n",
       "      <td>NaN</td>\n",
       "      <td>NaN</td>\n",
       "      <td>NaN</td>\n",
       "      <td>2000.000000</td>\n",
       "      <td>1415.695000</td>\n",
       "      <td>0.000000e+00</td>\n",
       "      <td>603251.000000</td>\n",
       "      <td>...</td>\n",
       "      <td>2.000000</td>\n",
       "      <td>NaN</td>\n",
       "      <td>70592.50000</td>\n",
       "      <td>11305.000000</td>\n",
       "      <td>10885.000000</td>\n",
       "      <td>50822.500000</td>\n",
       "      <td>NaN</td>\n",
       "      <td>NaN</td>\n",
       "      <td>2010.000000</td>\n",
       "      <td>NaN</td>\n",
       "    </tr>\n",
       "    <tr>\n",
       "      <th>max</th>\n",
       "      <td>479.000000</td>\n",
       "      <td>64.000000</td>\n",
       "      <td>999435.000000</td>\n",
       "      <td>NaN</td>\n",
       "      <td>NaN</td>\n",
       "      <td>NaN</td>\n",
       "      <td>2000.000000</td>\n",
       "      <td>2047.590000</td>\n",
       "      <td>1.000000e+07</td>\n",
       "      <td>620962.000000</td>\n",
       "      <td>...</td>\n",
       "      <td>3.000000</td>\n",
       "      <td>NaN</td>\n",
       "      <td>114920.00000</td>\n",
       "      <td>21450.000000</td>\n",
       "      <td>23670.000000</td>\n",
       "      <td>79560.000000</td>\n",
       "      <td>NaN</td>\n",
       "      <td>NaN</td>\n",
       "      <td>2015.000000</td>\n",
       "      <td>NaN</td>\n",
       "    </tr>\n",
       "  </tbody>\n",
       "</table>\n",
       "<p>11 rows × 39 columns</p>\n",
       "</div>"
      ],
      "text/plain": [
       "        months_as_customer          age  policy_number policy_bind_date  \\\n",
       "count          1000.000000  1000.000000    1000.000000             1000   \n",
       "unique                 NaN          NaN            NaN              951   \n",
       "top                    NaN          NaN            NaN       05-08-1992   \n",
       "freq                   NaN          NaN            NaN                3   \n",
       "mean            203.954000    38.948000  546238.648000              NaN   \n",
       "std             115.113174     9.140287  257063.005276              NaN   \n",
       "min               0.000000    19.000000  100804.000000              NaN   \n",
       "25%             115.750000    32.000000  335980.250000              NaN   \n",
       "50%             199.500000    38.000000  533135.000000              NaN   \n",
       "75%             276.250000    44.000000  759099.750000              NaN   \n",
       "max             479.000000    64.000000  999435.000000              NaN   \n",
       "\n",
       "       policy_state policy_csl  policy_deductable  policy_annual_premium  \\\n",
       "count          1000       1000        1000.000000            1000.000000   \n",
       "unique            3          3                NaN                    NaN   \n",
       "top              OH    250/500                NaN                    NaN   \n",
       "freq            352        351                NaN                    NaN   \n",
       "mean            NaN        NaN        1136.000000            1256.406150   \n",
       "std             NaN        NaN         611.864673             244.167395   \n",
       "min             NaN        NaN         500.000000             433.330000   \n",
       "25%             NaN        NaN         500.000000            1089.607500   \n",
       "50%             NaN        NaN        1000.000000            1257.200000   \n",
       "75%             NaN        NaN        2000.000000            1415.695000   \n",
       "max             NaN        NaN        2000.000000            2047.590000   \n",
       "\n",
       "        umbrella_limit    insured_zip  ...    witnesses  \\\n",
       "count     1.000000e+03    1000.000000  ...  1000.000000   \n",
       "unique             NaN            NaN  ...          NaN   \n",
       "top                NaN            NaN  ...          NaN   \n",
       "freq               NaN            NaN  ...          NaN   \n",
       "mean      1.101000e+06  501214.488000  ...     1.487000   \n",
       "std       2.297407e+06   71701.610941  ...     1.111335   \n",
       "min      -1.000000e+06  430104.000000  ...     0.000000   \n",
       "25%       0.000000e+00  448404.500000  ...     1.000000   \n",
       "50%       0.000000e+00  466445.500000  ...     1.000000   \n",
       "75%       0.000000e+00  603251.000000  ...     2.000000   \n",
       "max       1.000000e+07  620962.000000  ...     3.000000   \n",
       "\n",
       "       police_report_available total_claim_amount  injury_claim  \\\n",
       "count                     1000         1000.00000   1000.000000   \n",
       "unique                       3                NaN           NaN   \n",
       "top                          ?                NaN           NaN   \n",
       "freq                       343                NaN           NaN   \n",
       "mean                       NaN        52761.94000   7433.420000   \n",
       "std                        NaN        26401.53319   4880.951853   \n",
       "min                        NaN          100.00000      0.000000   \n",
       "25%                        NaN        41812.50000   4295.000000   \n",
       "50%                        NaN        58055.00000   6775.000000   \n",
       "75%                        NaN        70592.50000  11305.000000   \n",
       "max                        NaN       114920.00000  21450.000000   \n",
       "\n",
       "       property_claim  vehicle_claim  auto_make auto_model    auto_year  \\\n",
       "count     1000.000000    1000.000000       1000       1000  1000.000000   \n",
       "unique            NaN            NaN         14         39          NaN   \n",
       "top               NaN            NaN       Saab        RAM          NaN   \n",
       "freq              NaN            NaN         80         43          NaN   \n",
       "mean      7399.570000   37928.950000        NaN        NaN  2005.103000   \n",
       "std       4824.726179   18886.252893        NaN        NaN     6.015861   \n",
       "min          0.000000      70.000000        NaN        NaN  1995.000000   \n",
       "25%       4445.000000   30292.500000        NaN        NaN  2000.000000   \n",
       "50%       6750.000000   42100.000000        NaN        NaN  2005.000000   \n",
       "75%      10885.000000   50822.500000        NaN        NaN  2010.000000   \n",
       "max      23670.000000   79560.000000        NaN        NaN  2015.000000   \n",
       "\n",
       "       fraud_reported  \n",
       "count            1000  \n",
       "unique              2  \n",
       "top                 N  \n",
       "freq              753  \n",
       "mean              NaN  \n",
       "std               NaN  \n",
       "min               NaN  \n",
       "25%               NaN  \n",
       "50%               NaN  \n",
       "75%               NaN  \n",
       "max               NaN  \n",
       "\n",
       "[11 rows x 39 columns]"
      ]
     },
     "execution_count": 4,
     "metadata": {},
     "output_type": "execute_result"
    }
   ],
   "source": [
    "df.describe(include='all')"
   ]
  },
  {
   "cell_type": "code",
   "execution_count": 5,
   "id": "df541b50",
   "metadata": {},
   "outputs": [
    {
     "data": {
      "text/plain": [
       "Index(['months_as_customer', 'age', 'policy_number', 'policy_bind_date',\n",
       "       'policy_state', 'policy_csl', 'policy_deductable',\n",
       "       'policy_annual_premium', 'umbrella_limit', 'insured_zip', 'insured_sex',\n",
       "       'insured_education_level', 'insured_occupation', 'insured_hobbies',\n",
       "       'insured_relationship', 'capital-gains', 'capital-loss',\n",
       "       'incident_date', 'incident_type', 'collision_type', 'incident_severity',\n",
       "       'authorities_contacted', 'incident_state', 'incident_city',\n",
       "       'incident_location', 'incident_hour_of_the_day',\n",
       "       'number_of_vehicles_involved', 'property_damage', 'bodily_injuries',\n",
       "       'witnesses', 'police_report_available', 'total_claim_amount',\n",
       "       'injury_claim', 'property_claim', 'vehicle_claim', 'auto_make',\n",
       "       'auto_model', 'auto_year', 'fraud_reported'],\n",
       "      dtype='object')"
      ]
     },
     "execution_count": 5,
     "metadata": {},
     "output_type": "execute_result"
    }
   ],
   "source": [
    "df.columns"
   ]
  },
  {
   "cell_type": "code",
   "execution_count": 6,
   "id": "ec16e550",
   "metadata": {},
   "outputs": [
    {
     "data": {
      "text/plain": [
       "(1000, 39)"
      ]
     },
     "execution_count": 6,
     "metadata": {},
     "output_type": "execute_result"
    }
   ],
   "source": [
    "df.shape"
   ]
  },
  {
   "cell_type": "code",
   "execution_count": 7,
   "id": "88c095b2",
   "metadata": {},
   "outputs": [
    {
     "data": {
      "text/plain": [
       "months_as_customer             0\n",
       "age                            0\n",
       "policy_number                  0\n",
       "policy_bind_date               0\n",
       "policy_state                   0\n",
       "policy_csl                     0\n",
       "policy_deductable              0\n",
       "policy_annual_premium          0\n",
       "umbrella_limit                 0\n",
       "insured_zip                    0\n",
       "insured_sex                    0\n",
       "insured_education_level        0\n",
       "insured_occupation             0\n",
       "insured_hobbies                0\n",
       "insured_relationship           0\n",
       "capital-gains                  0\n",
       "capital-loss                   0\n",
       "incident_date                  0\n",
       "incident_type                  0\n",
       "collision_type                 0\n",
       "incident_severity              0\n",
       "authorities_contacted          0\n",
       "incident_state                 0\n",
       "incident_city                  0\n",
       "incident_location              0\n",
       "incident_hour_of_the_day       0\n",
       "number_of_vehicles_involved    0\n",
       "property_damage                0\n",
       "bodily_injuries                0\n",
       "witnesses                      0\n",
       "police_report_available        0\n",
       "total_claim_amount             0\n",
       "injury_claim                   0\n",
       "property_claim                 0\n",
       "vehicle_claim                  0\n",
       "auto_make                      0\n",
       "auto_model                     0\n",
       "auto_year                      0\n",
       "fraud_reported                 0\n",
       "dtype: int64"
      ]
     },
     "execution_count": 7,
     "metadata": {},
     "output_type": "execute_result"
    }
   ],
   "source": [
    "df.isnull().sum()"
   ]
  },
  {
   "cell_type": "code",
   "execution_count": 8,
   "id": "21c76878",
   "metadata": {},
   "outputs": [
    {
     "data": {
      "text/plain": [
       "<AxesSubplot:>"
      ]
     },
     "execution_count": 8,
     "metadata": {},
     "output_type": "execute_result"
    },
    {
     "data": {
      "image/png": "[encoded data removed]",
      "text/plain": [
       "<Figure size 432x288 with 2 Axes>"
      ]
     },
     "metadata": {
      "needs_background": "light"
     },
     "output_type": "display_data"
    }
   ],
   "source": [
    "sns.heatmap(df.isnull())"
   ]
  },
  {
   "cell_type": "code",
   "execution_count": 9,
   "id": "73512d55",
   "metadata": {},
   "outputs": [
    {
     "name": "stdout",
     "output_type": "stream",
     "text": [
      "<class 'pandas.core.frame.DataFrame'>\n",
      "RangeIndex: 1000 entries, 0 to 999\n",
      "Data columns (total 39 columns):\n",
      " #   Column                       Non-Null Count  Dtype  \n",
      "---  ------                       --------------  -----  \n",
      " 0   months_as_customer           1000 non-null   int64  \n",
      " 1   age                          1000 non-null   int64  \n",
      " 2   policy_number                1000 non-null   int64  \n",
      " 3   policy_bind_date             1000 non-null   object \n",
      " 4   policy_state                 1000 non-null   object \n",
      " 5   policy_csl                   1000 non-null   object \n",
      " 6   policy_deductable            1000 non-null   int64  \n",
      " 7   policy_annual_premium        1000 non-null   float64\n",
      " 8   umbrella_limit               1000 non-null   int64  \n",
      " 9   insured_zip                  1000 non-null   int64  \n",
      " 10  insured_sex                  1000 non-null   object \n",
      " 11  insured_education_level      1000 non-null   object \n",
      " 12  insured_occupation           1000 non-null   object \n",
      " 13  insured_hobbies              1000 non-null   object \n",
      " 14  insured_relationship         1000 non-null   object \n",
      " 15  capital-gains                1000 non-null   int64  \n",
      " 16  capital-loss                 1000 non-null   int64  \n",
      " 17  incident_date                1000 non-null   object \n",
      " 18  incident_type                1000 non-null   object \n",
      " 19  collision_type               1000 non-null   object \n",
      " 20  incident_severity            1000 non-null   object \n",
      " 21  authorities_contacted        1000 non-null   object \n",
      " 22  incident_state               1000 non-null   object \n",
      " 23  incident_city                1000 non-null   object \n",
      " 24  incident_location            1000 non-null   object \n",
      " 25  incident_hour_of_the_day     1000 non-null   int64  \n",
      " 26  number_of_vehicles_involved  1000 non-null   int64  \n",
      " 27  property_damage              1000 non-null   object \n",
      " 28  bodily_injuries              1000 non-null   int64  \n",
      " 29  witnesses                    1000 non-null   int64  \n",
      " 30  police_report_available      1000 non-null   object \n",
      " 31  total_claim_amount           1000 non-null   int64  \n",
      " 32  injury_claim                 1000 non-null   int64  \n",
      " 33  property_claim               1000 non-null   int64  \n",
      " 34  vehicle_claim                1000 non-null   int64  \n",
      " 35  auto_make                    1000 non-null   object \n",
      " 36  auto_model                   1000 non-null   object \n",
      " 37  auto_year                    1000 non-null   int64  \n",
      " 38  fraud_reported               1000 non-null   object \n",
      "dtypes: float64(1), int64(17), object(21)\n",
      "memory usage: 304.8+ KB\n"
     ]
    }
   ],
   "source": [
    "df.info()"
   ]
  },
  {
   "cell_type": "code",
   "execution_count": 10,
   "id": "1888a97f",
   "metadata": {},
   "outputs": [],
   "source": [
    "df.drop('policy_number',axis=1,inplace=True)"
   ]
  },
  {
   "cell_type": "code",
   "execution_count": 11,
   "id": "53fd0f9f",
   "metadata": {},
   "outputs": [
    {
     "data": {
      "text/plain": [
       "months_as_customer              391\n",
       "age                              46\n",
       "policy_bind_date                951\n",
       "policy_state                      3\n",
       "policy_csl                        3\n",
       "policy_deductable                 3\n",
       "policy_annual_premium           991\n",
       "umbrella_limit                   11\n",
       "insured_zip                     995\n",
       "insured_sex                       2\n",
       "insured_education_level           7\n",
       "insured_occupation               14\n",
       "insured_hobbies                  20\n",
       "insured_relationship              6\n",
       "capital-gains                   338\n",
       "capital-loss                    354\n",
       "incident_date                    60\n",
       "incident_type                     4\n",
       "collision_type                    4\n",
       "incident_severity                 4\n",
       "authorities_contacted             5\n",
       "incident_state                    7\n",
       "incident_city                     7\n",
       "incident_location              1000\n",
       "incident_hour_of_the_day         24\n",
       "number_of_vehicles_involved       4\n",
       "property_damage                   3\n",
       "bodily_injuries                   3\n",
       "witnesses                         4\n",
       "police_report_available           3\n",
       "total_claim_amount              763\n",
       "injury_claim                    638\n",
       "property_claim                  626\n",
       "vehicle_claim                   726\n",
       "auto_make                        14\n",
       "auto_model                       39\n",
       "auto_year                        21\n",
       "fraud_reported                    2\n",
       "dtype: int64"
      ]
     },
     "execution_count": 11,
     "metadata": {},
     "output_type": "execute_result"
    }
   ],
   "source": [
    "df.nunique()"
   ]
  },
  {
   "cell_type": "code",
   "execution_count": 12,
   "id": "4cfae954",
   "metadata": {},
   "outputs": [
    {
     "data": {
      "text/html": [
       "<div>\n",
       "<style scoped>\n",
       "    .dataframe tbody tr th:only-of-type {\n",
       "        vertical-align: middle;\n",
       "    }\n",
       "\n",
       "    .dataframe tbody tr th {\n",
       "        vertical-align: top;\n",
       "    }\n",
       "\n",
       "    .dataframe thead th {\n",
       "        text-align: right;\n",
       "    }\n",
       "</style>\n",
       "<table border=\"1\" class=\"dataframe\">\n",
       "  <thead>\n",
       "    <tr style=\"text-align: right;\">\n",
       "      <th></th>\n",
       "      <th>months_as_customer</th>\n",
       "      <th>age</th>\n",
       "      <th>policy_bind_date</th>\n",
       "      <th>policy_state</th>\n",
       "      <th>policy_csl</th>\n",
       "      <th>policy_deductable</th>\n",
       "      <th>policy_annual_premium</th>\n",
       "      <th>umbrella_limit</th>\n",
       "      <th>insured_zip</th>\n",
       "      <th>insured_sex</th>\n",
       "      <th>...</th>\n",
       "      <th>witnesses</th>\n",
       "      <th>police_report_available</th>\n",
       "      <th>total_claim_amount</th>\n",
       "      <th>injury_claim</th>\n",
       "      <th>property_claim</th>\n",
       "      <th>vehicle_claim</th>\n",
       "      <th>auto_make</th>\n",
       "      <th>auto_model</th>\n",
       "      <th>auto_year</th>\n",
       "      <th>fraud_reported</th>\n",
       "    </tr>\n",
       "  </thead>\n",
       "  <tbody>\n",
       "    <tr>\n",
       "      <th>0</th>\n",
       "      <td>328</td>\n",
       "      <td>48</td>\n",
       "      <td>17-10-2014</td>\n",
       "      <td>OH</td>\n",
       "      <td>250/500</td>\n",
       "      <td>1000</td>\n",
       "      <td>1406.91</td>\n",
       "      <td>0</td>\n",
       "      <td>466132</td>\n",
       "      <td>MALE</td>\n",
       "      <td>...</td>\n",
       "      <td>2</td>\n",
       "      <td>YES</td>\n",
       "      <td>71610</td>\n",
       "      <td>6510</td>\n",
       "      <td>13020</td>\n",
       "      <td>52080</td>\n",
       "      <td>Saab</td>\n",
       "      <td>92x</td>\n",
       "      <td>2004</td>\n",
       "      <td>Y</td>\n",
       "    </tr>\n",
       "    <tr>\n",
       "      <th>1</th>\n",
       "      <td>228</td>\n",
       "      <td>42</td>\n",
       "      <td>27-06-2006</td>\n",
       "      <td>IN</td>\n",
       "      <td>250/500</td>\n",
       "      <td>2000</td>\n",
       "      <td>1197.22</td>\n",
       "      <td>5000000</td>\n",
       "      <td>468176</td>\n",
       "      <td>MALE</td>\n",
       "      <td>...</td>\n",
       "      <td>0</td>\n",
       "      <td>No Info</td>\n",
       "      <td>5070</td>\n",
       "      <td>780</td>\n",
       "      <td>780</td>\n",
       "      <td>3510</td>\n",
       "      <td>Mercedes</td>\n",
       "      <td>E400</td>\n",
       "      <td>2007</td>\n",
       "      <td>Y</td>\n",
       "    </tr>\n",
       "    <tr>\n",
       "      <th>2</th>\n",
       "      <td>134</td>\n",
       "      <td>29</td>\n",
       "      <td>06-09-2000</td>\n",
       "      <td>OH</td>\n",
       "      <td>100/300</td>\n",
       "      <td>2000</td>\n",
       "      <td>1413.14</td>\n",
       "      <td>5000000</td>\n",
       "      <td>430632</td>\n",
       "      <td>FEMALE</td>\n",
       "      <td>...</td>\n",
       "      <td>3</td>\n",
       "      <td>NO</td>\n",
       "      <td>34650</td>\n",
       "      <td>7700</td>\n",
       "      <td>3850</td>\n",
       "      <td>23100</td>\n",
       "      <td>Dodge</td>\n",
       "      <td>RAM</td>\n",
       "      <td>2007</td>\n",
       "      <td>N</td>\n",
       "    </tr>\n",
       "    <tr>\n",
       "      <th>3</th>\n",
       "      <td>256</td>\n",
       "      <td>41</td>\n",
       "      <td>25-05-1990</td>\n",
       "      <td>IL</td>\n",
       "      <td>250/500</td>\n",
       "      <td>2000</td>\n",
       "      <td>1415.74</td>\n",
       "      <td>6000000</td>\n",
       "      <td>608117</td>\n",
       "      <td>FEMALE</td>\n",
       "      <td>...</td>\n",
       "      <td>2</td>\n",
       "      <td>NO</td>\n",
       "      <td>63400</td>\n",
       "      <td>6340</td>\n",
       "      <td>6340</td>\n",
       "      <td>50720</td>\n",
       "      <td>Chevrolet</td>\n",
       "      <td>Tahoe</td>\n",
       "      <td>2014</td>\n",
       "      <td>Y</td>\n",
       "    </tr>\n",
       "    <tr>\n",
       "      <th>4</th>\n",
       "      <td>228</td>\n",
       "      <td>44</td>\n",
       "      <td>06-06-2014</td>\n",
       "      <td>IL</td>\n",
       "      <td>500/1000</td>\n",
       "      <td>1000</td>\n",
       "      <td>1583.91</td>\n",
       "      <td>6000000</td>\n",
       "      <td>610706</td>\n",
       "      <td>MALE</td>\n",
       "      <td>...</td>\n",
       "      <td>1</td>\n",
       "      <td>NO</td>\n",
       "      <td>6500</td>\n",
       "      <td>1300</td>\n",
       "      <td>650</td>\n",
       "      <td>4550</td>\n",
       "      <td>Accura</td>\n",
       "      <td>RSX</td>\n",
       "      <td>2009</td>\n",
       "      <td>N</td>\n",
       "    </tr>\n",
       "    <tr>\n",
       "      <th>...</th>\n",
       "      <td>...</td>\n",
       "      <td>...</td>\n",
       "      <td>...</td>\n",
       "      <td>...</td>\n",
       "      <td>...</td>\n",
       "      <td>...</td>\n",
       "      <td>...</td>\n",
       "      <td>...</td>\n",
       "      <td>...</td>\n",
       "      <td>...</td>\n",
       "      <td>...</td>\n",
       "      <td>...</td>\n",
       "      <td>...</td>\n",
       "      <td>...</td>\n",
       "      <td>...</td>\n",
       "      <td>...</td>\n",
       "      <td>...</td>\n",
       "      <td>...</td>\n",
       "      <td>...</td>\n",
       "      <td>...</td>\n",
       "      <td>...</td>\n",
       "    </tr>\n",
       "    <tr>\n",
       "      <th>995</th>\n",
       "      <td>3</td>\n",
       "      <td>38</td>\n",
       "      <td>16-07-1991</td>\n",
       "      <td>OH</td>\n",
       "      <td>500/1000</td>\n",
       "      <td>1000</td>\n",
       "      <td>1310.80</td>\n",
       "      <td>0</td>\n",
       "      <td>431289</td>\n",
       "      <td>FEMALE</td>\n",
       "      <td>...</td>\n",
       "      <td>1</td>\n",
       "      <td>No Info</td>\n",
       "      <td>87200</td>\n",
       "      <td>17440</td>\n",
       "      <td>8720</td>\n",
       "      <td>61040</td>\n",
       "      <td>Honda</td>\n",
       "      <td>Accord</td>\n",
       "      <td>2006</td>\n",
       "      <td>N</td>\n",
       "    </tr>\n",
       "    <tr>\n",
       "      <th>996</th>\n",
       "      <td>285</td>\n",
       "      <td>41</td>\n",
       "      <td>05-01-2014</td>\n",
       "      <td>IL</td>\n",
       "      <td>100/300</td>\n",
       "      <td>1000</td>\n",
       "      <td>1436.79</td>\n",
       "      <td>0</td>\n",
       "      <td>608177</td>\n",
       "      <td>FEMALE</td>\n",
       "      <td>...</td>\n",
       "      <td>3</td>\n",
       "      <td>No Info</td>\n",
       "      <td>108480</td>\n",
       "      <td>18080</td>\n",
       "      <td>18080</td>\n",
       "      <td>72320</td>\n",
       "      <td>Volkswagen</td>\n",
       "      <td>Passat</td>\n",
       "      <td>2015</td>\n",
       "      <td>N</td>\n",
       "    </tr>\n",
       "    <tr>\n",
       "      <th>997</th>\n",
       "      <td>130</td>\n",
       "      <td>34</td>\n",
       "      <td>17-02-2003</td>\n",
       "      <td>OH</td>\n",
       "      <td>250/500</td>\n",
       "      <td>500</td>\n",
       "      <td>1383.49</td>\n",
       "      <td>3000000</td>\n",
       "      <td>442797</td>\n",
       "      <td>FEMALE</td>\n",
       "      <td>...</td>\n",
       "      <td>3</td>\n",
       "      <td>YES</td>\n",
       "      <td>67500</td>\n",
       "      <td>7500</td>\n",
       "      <td>7500</td>\n",
       "      <td>52500</td>\n",
       "      <td>Suburu</td>\n",
       "      <td>Impreza</td>\n",
       "      <td>1996</td>\n",
       "      <td>N</td>\n",
       "    </tr>\n",
       "    <tr>\n",
       "      <th>998</th>\n",
       "      <td>458</td>\n",
       "      <td>62</td>\n",
       "      <td>18-11-2011</td>\n",
       "      <td>IL</td>\n",
       "      <td>500/1000</td>\n",
       "      <td>2000</td>\n",
       "      <td>1356.92</td>\n",
       "      <td>5000000</td>\n",
       "      <td>441714</td>\n",
       "      <td>MALE</td>\n",
       "      <td>...</td>\n",
       "      <td>1</td>\n",
       "      <td>YES</td>\n",
       "      <td>46980</td>\n",
       "      <td>5220</td>\n",
       "      <td>5220</td>\n",
       "      <td>36540</td>\n",
       "      <td>Audi</td>\n",
       "      <td>A5</td>\n",
       "      <td>1998</td>\n",
       "      <td>N</td>\n",
       "    </tr>\n",
       "    <tr>\n",
       "      <th>999</th>\n",
       "      <td>456</td>\n",
       "      <td>60</td>\n",
       "      <td>11-11-1996</td>\n",
       "      <td>OH</td>\n",
       "      <td>250/500</td>\n",
       "      <td>1000</td>\n",
       "      <td>766.19</td>\n",
       "      <td>0</td>\n",
       "      <td>612260</td>\n",
       "      <td>FEMALE</td>\n",
       "      <td>...</td>\n",
       "      <td>3</td>\n",
       "      <td>No Info</td>\n",
       "      <td>5060</td>\n",
       "      <td>460</td>\n",
       "      <td>920</td>\n",
       "      <td>3680</td>\n",
       "      <td>Mercedes</td>\n",
       "      <td>E400</td>\n",
       "      <td>2007</td>\n",
       "      <td>N</td>\n",
       "    </tr>\n",
       "  </tbody>\n",
       "</table>\n",
       "<p>1000 rows × 38 columns</p>\n",
       "</div>"
      ],
      "text/plain": [
       "     months_as_customer  age policy_bind_date policy_state policy_csl  \\\n",
       "0                   328   48       17-10-2014           OH    250/500   \n",
       "1                   228   42       27-06-2006           IN    250/500   \n",
       "2                   134   29       06-09-2000           OH    100/300   \n",
       "3                   256   41       25-05-1990           IL    250/500   \n",
       "4                   228   44       06-06-2014           IL   500/1000   \n",
       "..                  ...  ...              ...          ...        ...   \n",
       "995                   3   38       16-07-1991           OH   500/1000   \n",
       "996                 285   41       05-01-2014           IL    100/300   \n",
       "997                 130   34       17-02-2003           OH    250/500   \n",
       "998                 458   62       18-11-2011           IL   500/1000   \n",
       "999                 456   60       11-11-1996           OH    250/500   \n",
       "\n",
       "     policy_deductable  policy_annual_premium  umbrella_limit  insured_zip  \\\n",
       "0                 1000                1406.91               0       466132   \n",
       "1                 2000                1197.22         5000000       468176   \n",
       "2                 2000                1413.14         5000000       430632   \n",
       "3                 2000                1415.74         6000000       608117   \n",
       "4                 1000                1583.91         6000000       610706   \n",
       "..                 ...                    ...             ...          ...   \n",
       "995               1000                1310.80               0       431289   \n",
       "996               1000                1436.79               0       608177   \n",
       "997                500                1383.49         3000000       442797   \n",
       "998               2000                1356.92         5000000       441714   \n",
       "999               1000                 766.19               0       612260   \n",
       "\n",
       "    insured_sex  ... witnesses police_report_available total_claim_amount  \\\n",
       "0          MALE  ...         2                     YES              71610   \n",
       "1          MALE  ...         0                 No Info               5070   \n",
       "2        FEMALE  ...         3                      NO              34650   \n",
       "3        FEMALE  ...         2                      NO              63400   \n",
       "4          MALE  ...         1                      NO               6500   \n",
       "..          ...  ...       ...                     ...                ...   \n",
       "995      FEMALE  ...         1                 No Info              87200   \n",
       "996      FEMALE  ...         3                 No Info             108480   \n",
       "997      FEMALE  ...         3                     YES              67500   \n",
       "998        MALE  ...         1                     YES              46980   \n",
       "999      FEMALE  ...         3                 No Info               5060   \n",
       "\n",
       "    injury_claim  property_claim  vehicle_claim   auto_make auto_model  \\\n",
       "0           6510           13020          52080        Saab        92x   \n",
       "1            780             780           3510    Mercedes       E400   \n",
       "2           7700            3850          23100       Dodge        RAM   \n",
       "3           6340            6340          50720   Chevrolet      Tahoe   \n",
       "4           1300             650           4550      Accura        RSX   \n",
       "..           ...             ...            ...         ...        ...   \n",
       "995        17440            8720          61040       Honda     Accord   \n",
       "996        18080           18080          72320  Volkswagen     Passat   \n",
       "997         7500            7500          52500      Suburu    Impreza   \n",
       "998         5220            5220          36540        Audi         A5   \n",
       "999          460             920           3680    Mercedes       E400   \n",
       "\n",
       "    auto_year fraud_reported  \n",
       "0        2004              Y  \n",
       "1        2007              Y  \n",
       "2        2007              N  \n",
       "3        2014              Y  \n",
       "4        2009              N  \n",
       "..        ...            ...  \n",
       "995      2006              N  \n",
       "996      2015              N  \n",
       "997      1996              N  \n",
       "998      1998              N  \n",
       "999      2007              N  \n",
       "\n",
       "[1000 rows x 38 columns]"
      ]
     },
     "execution_count": 12,
     "metadata": {},
     "output_type": "execute_result"
    }
   ],
   "source": [
    "df.replace('?','No Info')"
   ]
  },
  {
   "cell_type": "code",
   "execution_count": 13,
   "id": "77fc751f",
   "metadata": {},
   "outputs": [],
   "source": [
    "df['policy_bind_date'] = pd.to_datetime(df['policy_bind_date'])"
   ]
  },
  {
   "cell_type": "code",
   "execution_count": 14,
   "id": "3e9c2b13",
   "metadata": {},
   "outputs": [
    {
     "name": "stdout",
     "output_type": "stream",
     "text": [
      "policy_state : 3\n",
      "policy_csl : 3\n",
      "insured_sex : 2\n",
      "insured_education_level : 7\n",
      "insured_occupation : 14\n",
      "insured_hobbies : 20\n",
      "insured_relationship : 6\n",
      "incident_date : 60\n",
      "incident_type : 4\n",
      "collision_type : 4\n",
      "incident_severity : 4\n",
      "authorities_contacted : 5\n",
      "incident_state : 7\n",
      "incident_city : 7\n",
      "incident_location : 1000\n",
      "property_damage : 3\n",
      "police_report_available : 3\n",
      "auto_make : 14\n",
      "auto_model : 39\n",
      "fraud_reported : 2\n"
     ]
    }
   ],
   "source": [
    "for i in df.columns:\n",
    "    if df[i].dtype == 'object':\n",
    "        print(i, \":\", df[i].nunique())"
   ]
  },
  {
   "cell_type": "code",
   "execution_count": 15,
   "id": "4eada050",
   "metadata": {},
   "outputs": [
    {
     "data": {
      "text/html": [
       "<div>\n",
       "<style scoped>\n",
       "    .dataframe tbody tr th:only-of-type {\n",
       "        vertical-align: middle;\n",
       "    }\n",
       "\n",
       "    .dataframe tbody tr th {\n",
       "        vertical-align: top;\n",
       "    }\n",
       "\n",
       "    .dataframe thead th {\n",
       "        text-align: right;\n",
       "    }\n",
       "</style>\n",
       "<table border=\"1\" class=\"dataframe\">\n",
       "  <thead>\n",
       "    <tr style=\"text-align: right;\">\n",
       "      <th></th>\n",
       "      <th>months_as_customer</th>\n",
       "      <th>age</th>\n",
       "      <th>policy_bind_date</th>\n",
       "      <th>policy_deductable</th>\n",
       "      <th>policy_annual_premium</th>\n",
       "      <th>umbrella_limit</th>\n",
       "      <th>insured_zip</th>\n",
       "      <th>insured_sex</th>\n",
       "      <th>insured_education_level</th>\n",
       "      <th>insured_occupation</th>\n",
       "      <th>...</th>\n",
       "      <th>witnesses</th>\n",
       "      <th>police_report_available</th>\n",
       "      <th>total_claim_amount</th>\n",
       "      <th>injury_claim</th>\n",
       "      <th>property_claim</th>\n",
       "      <th>vehicle_claim</th>\n",
       "      <th>auto_make</th>\n",
       "      <th>auto_model</th>\n",
       "      <th>auto_year</th>\n",
       "      <th>fraud_reported</th>\n",
       "    </tr>\n",
       "  </thead>\n",
       "  <tbody>\n",
       "    <tr>\n",
       "      <th>0</th>\n",
       "      <td>328</td>\n",
       "      <td>48</td>\n",
       "      <td>2014-10-17</td>\n",
       "      <td>1000</td>\n",
       "      <td>1406.91</td>\n",
       "      <td>0</td>\n",
       "      <td>466132</td>\n",
       "      <td>MALE</td>\n",
       "      <td>MD</td>\n",
       "      <td>craft-repair</td>\n",
       "      <td>...</td>\n",
       "      <td>2</td>\n",
       "      <td>YES</td>\n",
       "      <td>71610</td>\n",
       "      <td>6510</td>\n",
       "      <td>13020</td>\n",
       "      <td>52080</td>\n",
       "      <td>Saab</td>\n",
       "      <td>92x</td>\n",
       "      <td>2004</td>\n",
       "      <td>Y</td>\n",
       "    </tr>\n",
       "    <tr>\n",
       "      <th>1</th>\n",
       "      <td>228</td>\n",
       "      <td>42</td>\n",
       "      <td>2006-06-27</td>\n",
       "      <td>2000</td>\n",
       "      <td>1197.22</td>\n",
       "      <td>5000000</td>\n",
       "      <td>468176</td>\n",
       "      <td>MALE</td>\n",
       "      <td>MD</td>\n",
       "      <td>machine-op-inspct</td>\n",
       "      <td>...</td>\n",
       "      <td>0</td>\n",
       "      <td>?</td>\n",
       "      <td>5070</td>\n",
       "      <td>780</td>\n",
       "      <td>780</td>\n",
       "      <td>3510</td>\n",
       "      <td>Mercedes</td>\n",
       "      <td>E400</td>\n",
       "      <td>2007</td>\n",
       "      <td>Y</td>\n",
       "    </tr>\n",
       "    <tr>\n",
       "      <th>2</th>\n",
       "      <td>134</td>\n",
       "      <td>29</td>\n",
       "      <td>2000-06-09</td>\n",
       "      <td>2000</td>\n",
       "      <td>1413.14</td>\n",
       "      <td>5000000</td>\n",
       "      <td>430632</td>\n",
       "      <td>FEMALE</td>\n",
       "      <td>PhD</td>\n",
       "      <td>sales</td>\n",
       "      <td>...</td>\n",
       "      <td>3</td>\n",
       "      <td>NO</td>\n",
       "      <td>34650</td>\n",
       "      <td>7700</td>\n",
       "      <td>3850</td>\n",
       "      <td>23100</td>\n",
       "      <td>Dodge</td>\n",
       "      <td>RAM</td>\n",
       "      <td>2007</td>\n",
       "      <td>N</td>\n",
       "    </tr>\n",
       "    <tr>\n",
       "      <th>3</th>\n",
       "      <td>256</td>\n",
       "      <td>41</td>\n",
       "      <td>1990-05-25</td>\n",
       "      <td>2000</td>\n",
       "      <td>1415.74</td>\n",
       "      <td>6000000</td>\n",
       "      <td>608117</td>\n",
       "      <td>FEMALE</td>\n",
       "      <td>PhD</td>\n",
       "      <td>armed-forces</td>\n",
       "      <td>...</td>\n",
       "      <td>2</td>\n",
       "      <td>NO</td>\n",
       "      <td>63400</td>\n",
       "      <td>6340</td>\n",
       "      <td>6340</td>\n",
       "      <td>50720</td>\n",
       "      <td>Chevrolet</td>\n",
       "      <td>Tahoe</td>\n",
       "      <td>2014</td>\n",
       "      <td>Y</td>\n",
       "    </tr>\n",
       "    <tr>\n",
       "      <th>4</th>\n",
       "      <td>228</td>\n",
       "      <td>44</td>\n",
       "      <td>2014-06-06</td>\n",
       "      <td>1000</td>\n",
       "      <td>1583.91</td>\n",
       "      <td>6000000</td>\n",
       "      <td>610706</td>\n",
       "      <td>MALE</td>\n",
       "      <td>Associate</td>\n",
       "      <td>sales</td>\n",
       "      <td>...</td>\n",
       "      <td>1</td>\n",
       "      <td>NO</td>\n",
       "      <td>6500</td>\n",
       "      <td>1300</td>\n",
       "      <td>650</td>\n",
       "      <td>4550</td>\n",
       "      <td>Accura</td>\n",
       "      <td>RSX</td>\n",
       "      <td>2009</td>\n",
       "      <td>N</td>\n",
       "    </tr>\n",
       "  </tbody>\n",
       "</table>\n",
       "<p>5 rows × 32 columns</p>\n",
       "</div>"
      ],
      "text/plain": [
       "   months_as_customer  age policy_bind_date  policy_deductable  \\\n",
       "0                 328   48       2014-10-17               1000   \n",
       "1                 228   42       2006-06-27               2000   \n",
       "2                 134   29       2000-06-09               2000   \n",
       "3                 256   41       1990-05-25               2000   \n",
       "4                 228   44       2014-06-06               1000   \n",
       "\n",
       "   policy_annual_premium  umbrella_limit  insured_zip insured_sex  \\\n",
       "0                1406.91               0       466132        MALE   \n",
       "1                1197.22         5000000       468176        MALE   \n",
       "2                1413.14         5000000       430632      FEMALE   \n",
       "3                1415.74         6000000       608117      FEMALE   \n",
       "4                1583.91         6000000       610706        MALE   \n",
       "\n",
       "  insured_education_level insured_occupation  ... witnesses  \\\n",
       "0                      MD       craft-repair  ...         2   \n",
       "1                      MD  machine-op-inspct  ...         0   \n",
       "2                     PhD              sales  ...         3   \n",
       "3                     PhD       armed-forces  ...         2   \n",
       "4               Associate              sales  ...         1   \n",
       "\n",
       "  police_report_available  total_claim_amount  injury_claim property_claim  \\\n",
       "0                     YES               71610          6510          13020   \n",
       "1                       ?                5070           780            780   \n",
       "2                      NO               34650          7700           3850   \n",
       "3                      NO               63400          6340           6340   \n",
       "4                      NO                6500          1300            650   \n",
       "\n",
       "  vehicle_claim  auto_make auto_model  auto_year  fraud_reported  \n",
       "0         52080       Saab        92x       2004               Y  \n",
       "1          3510   Mercedes       E400       2007               Y  \n",
       "2         23100      Dodge        RAM       2007               N  \n",
       "3         50720  Chevrolet      Tahoe       2014               Y  \n",
       "4          4550     Accura        RSX       2009               N  \n",
       "\n",
       "[5 rows x 32 columns]"
      ]
     },
     "execution_count": 15,
     "metadata": {},
     "output_type": "execute_result"
    }
   ],
   "source": [
    "drop_columns = ['policy_state', 'policy_csl', 'incident_date', 'incident_state', 'incident_city', 'incident_location']\n",
    "df = df.drop(drop_columns, axis = 1)\n",
    "df.head()"
   ]
  },
  {
   "cell_type": "code",
   "execution_count": 16,
   "id": "b1c84a91",
   "metadata": {},
   "outputs": [
    {
     "name": "stdout",
     "output_type": "stream",
     "text": [
      "insured_sex : 2\n",
      "insured_education_level : 7\n",
      "insured_occupation : 14\n",
      "insured_hobbies : 20\n",
      "insured_relationship : 6\n",
      "incident_type : 4\n",
      "collision_type : 4\n",
      "incident_severity : 4\n",
      "authorities_contacted : 5\n",
      "property_damage : 3\n",
      "police_report_available : 3\n",
      "auto_make : 14\n",
      "auto_model : 39\n",
      "fraud_reported : 2\n"
     ]
    }
   ],
   "source": [
    "for i in df.columns:\n",
    "    if df[i].dtype == 'object':\n",
    "        print(i, \":\", df[i].nunique())"
   ]
  },
  {
   "cell_type": "code",
   "execution_count": 17,
   "id": "fe802799",
   "metadata": {},
   "outputs": [],
   "source": [
    "df['fraud_reported'] = df['fraud_reported'].str.replace('Y', '1')\n",
    "df['fraud_reported'] = df['fraud_reported'].str.replace('N', '0')\n",
    "df['fraud_reported'] = df['fraud_reported'].astype(int)"
   ]
  },
  {
   "cell_type": "code",
   "execution_count": 18,
   "id": "55844025",
   "metadata": {},
   "outputs": [
    {
     "data": {
      "text/plain": [
       "<AxesSubplot:xlabel='fraud_reported', ylabel='count'>"
      ]
     },
     "execution_count": 18,
     "metadata": {},
     "output_type": "execute_result"
    },
    {
     "data": {
      "image/png": "[encoded data removed]",
      "text/plain": [
       "<Figure size 432x288 with 1 Axes>"
      ]
     },
     "metadata": {
      "needs_background": "light"
     },
     "output_type": "display_data"
    }
   ],
   "source": [
    "sns.countplot(df['fraud_reported'])"
   ]
  },
  {
   "cell_type": "markdown",
   "id": "b1490e3e",
   "metadata": {},
   "source": [
    "We can see data is imbalanced"
   ]
  },
  {
   "cell_type": "code",
   "execution_count": 19,
   "id": "0d54b462",
   "metadata": {},
   "outputs": [
    {
     "data": {
      "text/plain": [
       "<AxesSubplot:xlabel='insured_sex', ylabel='count'>"
      ]
     },
     "execution_count": 19,
     "metadata": {},
     "output_type": "execute_result"
    },
    {
     "data": {
      "image/png": "[encoded data removed]",
      "text/plain": [
       "<Figure size 432x288 with 1 Axes>"
      ]
     },
     "metadata": {
      "needs_background": "light"
     },
     "output_type": "display_data"
    }
   ],
   "source": [
    "sns.countplot(df['insured_sex'],hue=df['fraud_reported'])"
   ]
  },
  {
   "cell_type": "markdown",
   "id": "db250ca0",
   "metadata": {},
   "source": [
    "Nearly <100 male and female have done fraud"
   ]
  },
  {
   "cell_type": "code",
   "execution_count": 20,
   "id": "421a838a",
   "metadata": {},
   "outputs": [
    {
     "data": {
      "text/plain": [
       "<AxesSubplot:xlabel='insured_education_level', ylabel='count'>"
      ]
     },
     "execution_count": 20,
     "metadata": {},
     "output_type": "execute_result"
    },
    {
     "data": {
      "image/png": "[encoded data removed]",
      "text/plain": [
       "<Figure size 432x288 with 1 Axes>"
      ]
     },
     "metadata": {
      "needs_background": "light"
     },
     "output_type": "display_data"
    }
   ],
   "source": [
    "sns.countplot(df['insured_education_level'],hue=df['fraud_reported'])"
   ]
  },
  {
   "cell_type": "markdown",
   "id": "89627cc0",
   "metadata": {},
   "source": [
    "JD and MD are the insured_education_level where highest fraud is reported"
   ]
  },
  {
   "cell_type": "code",
   "execution_count": 22,
   "id": "59332973",
   "metadata": {},
   "outputs": [
    {
     "data": {
      "text/plain": [
       "<AxesSubplot:xlabel='insured_relationship', ylabel='count'>"
      ]
     },
     "execution_count": 22,
     "metadata": {},
     "output_type": "execute_result"
    },
    {
     "data": {
      "image/png": "[encoded data removed]",
      "text/plain": [
       "<Figure size 432x288 with 1 Axes>"
      ]
     },
     "metadata": {
      "needs_background": "light"
     },
     "output_type": "display_data"
    }
   ],
   "source": [
    "sns.countplot(df['insured_relationship'],hue=df['fraud_reported'])"
   ]
  },
  {
   "cell_type": "markdown",
   "id": "7e354337",
   "metadata": {},
   "source": [
    "other relative in inured_relationship column has more fraud_reported"
   ]
  },
  {
   "cell_type": "code",
   "execution_count": 23,
   "id": "f6599996",
   "metadata": {},
   "outputs": [
    {
     "data": {
      "text/plain": [
       "<AxesSubplot:xlabel='incident_type', ylabel='count'>"
      ]
     },
     "execution_count": 23,
     "metadata": {},
     "output_type": "execute_result"
    },
    {
     "data": {
      "image/png": "[encoded data removed]",
      "text/plain": [
       "<Figure size 432x288 with 1 Axes>"
      ]
     },
     "metadata": {
      "needs_background": "light"
     },
     "output_type": "display_data"
    }
   ],
   "source": [
    "sns.countplot(df['incident_type'],hue=df['fraud_reported'])"
   ]
  },
  {
   "cell_type": "markdown",
   "id": "a1b742f9",
   "metadata": {},
   "source": [
    "Single vehicle collision has the highest fraud reported"
   ]
  },
  {
   "cell_type": "code",
   "execution_count": 24,
   "id": "d6b2aaab",
   "metadata": {},
   "outputs": [
    {
     "data": {
      "text/plain": [
       "<AxesSubplot:xlabel='collision_type', ylabel='count'>"
      ]
     },
     "execution_count": 24,
     "metadata": {},
     "output_type": "execute_result"
    },
    {
     "data": {
      "image/png": "[encoded data removed]",
      "text/plain": [
       "<Figure size 432x288 with 1 Axes>"
      ]
     },
     "metadata": {
      "needs_background": "light"
     },
     "output_type": "display_data"
    }
   ],
   "source": [
    "sns.countplot(df['collision_type'],hue=df['fraud_reported'])"
   ]
  },
  {
   "cell_type": "markdown",
   "id": "d30e256c",
   "metadata": {},
   "source": [
    "Rear collision has observed more fraud reported"
   ]
  },
  {
   "cell_type": "code",
   "execution_count": 25,
   "id": "63404c88",
   "metadata": {},
   "outputs": [
    {
     "data": {
      "text/plain": [
       "<AxesSubplot:xlabel='incident_severity', ylabel='count'>"
      ]
     },
     "execution_count": 25,
     "metadata": {},
     "output_type": "execute_result"
    },
    {
     "data": {
      "image/png": "[encoded data removed]",
      "text/plain": [
       "<Figure size 432x288 with 1 Axes>"
      ]
     },
     "metadata": {
      "needs_background": "light"
     },
     "output_type": "display_data"
    }
   ],
   "source": [
    "sns.countplot(df['incident_severity'],hue=df['fraud_reported'])"
   ]
  },
  {
   "cell_type": "markdown",
   "id": "02764201",
   "metadata": {},
   "source": [
    "When there i major damage observed in incident_severity, more frauds are reported"
   ]
  },
  {
   "cell_type": "code",
   "execution_count": 28,
   "id": "0ec61f81",
   "metadata": {},
   "outputs": [],
   "source": [
    "bin_labels = ['15-20', '21-25', '26-30', '31-35', '36-40', '41-45', '46-50', '51-55', '56-60', '61-65']\n",
    "bins = [15, 20, 25, 30, 35, 40, 45, 50, 55, 60, 65]\n",
    "\n",
    "df['age_group'] = pd.cut(df['age'], bins = bins, labels = bin_labels, include_lowest = True)"
   ]
  },
  {
   "cell_type": "code",
   "execution_count": 29,
   "id": "b77be0e7",
   "metadata": {},
   "outputs": [
    {
     "data": {
      "text/plain": [
       "<AxesSubplot:xlabel='age_group', ylabel='count'>"
      ]
     },
     "execution_count": 29,
     "metadata": {},
     "output_type": "execute_result"
    },
    {
     "data": {
      "image/png": "[encoded data removed]",
      "text/plain": [
       "<Figure size 432x288 with 1 Axes>"
      ]
     },
     "metadata": {
      "needs_background": "light"
     },
     "output_type": "display_data"
    }
   ],
   "source": [
    "sns.countplot(df['age_group'],hue=df['fraud_reported'])"
   ]
  },
  {
   "cell_type": "markdown",
   "id": "e4bda3c2",
   "metadata": {},
   "source": [
    "Most frauds reported are from age of 31-45"
   ]
  },
  {
   "cell_type": "code",
   "execution_count": 30,
   "id": "2d606334",
   "metadata": {},
   "outputs": [],
   "source": [
    "bins = [0, 50, 100, 150, 200, 250, 300, 350, 400, 450, 500]\n",
    "bin_labels = ['0-50','51-100','101-150','151-200','201-250','251-300','301-350','351-400','401-450','451-500']\n",
    "\n",
    "df['months_as_customer_groups'] = pd.cut(df['months_as_customer'], bins = 10, labels = bin_labels, include_lowest= True)"
   ]
  },
  {
   "cell_type": "code",
   "execution_count": 31,
   "id": "0a4bc728",
   "metadata": {},
   "outputs": [
    {
     "data": {
      "text/plain": [
       "<AxesSubplot:xlabel='months_as_customer_groups', ylabel='count'>"
      ]
     },
     "execution_count": 31,
     "metadata": {},
     "output_type": "execute_result"
    },
    {
     "data": {
      "image/png": "[encoded data removed]",
      "text/plain": [
       "<Figure size 432x288 with 1 Axes>"
      ]
     },
     "metadata": {
      "needs_background": "light"
     },
     "output_type": "display_data"
    }
   ],
   "source": [
    "sns.countplot(df['months_as_customer_groups'],hue=df['fraud_reported'])"
   ]
  },
  {
   "cell_type": "markdown",
   "id": "b212cb30",
   "metadata": {},
   "source": [
    "mostfrauds reported are from people who are customers for 101-300 months."
   ]
  },
  {
   "cell_type": "code",
   "execution_count": 32,
   "id": "5b56824b",
   "metadata": {},
   "outputs": [
    {
     "data": {
      "text/plain": [
       "<AxesSubplot:xlabel='number_of_vehicles_involved', ylabel='count'>"
      ]
     },
     "execution_count": 32,
     "metadata": {},
     "output_type": "execute_result"
    },
    {
     "data": {
      "image/png": "[encoded data removed]",
      "text/plain": [
       "<Figure size 432x288 with 1 Axes>"
      ]
     },
     "metadata": {
      "needs_background": "light"
     },
     "output_type": "display_data"
    }
   ],
   "source": [
    "sns.countplot(df['number_of_vehicles_involved'],hue=df['fraud_reported'])"
   ]
  },
  {
   "cell_type": "markdown",
   "id": "ce13078f",
   "metadata": {},
   "source": [
    "when 1 or 3 vehicles are involved most frauds are reported"
   ]
  },
  {
   "cell_type": "code",
   "execution_count": 36,
   "id": "332092c2",
   "metadata": {},
   "outputs": [],
   "source": [
    "bins = list(np.linspace(0,2500, 6, dtype = int))\n",
    "bin_labels = ['very low', 'low', 'medium', 'high', 'very high']\n",
    "df['policy_annual_premium_groups'] = pd.cut(df['policy_annual_premium'], bins = bins, labels=bin_labels)"
   ]
  },
  {
   "cell_type": "code",
   "execution_count": 37,
   "id": "be7014df",
   "metadata": {},
   "outputs": [],
   "source": [
    "bins = list(np.linspace(0,2000, 5, dtype = int))\n",
    "bin_labels = ['0-500', '501-1000', '1001-1500', '1501-2000']\n",
    "df['policy_deductable_group'] = pd.cut(df['policy_deductable'], bins = bins, labels = bin_labels)"
   ]
  },
  {
   "cell_type": "code",
   "execution_count": 38,
   "id": "e77397bb",
   "metadata": {},
   "outputs": [
    {
     "data": {
      "text/plain": [
       "Index(['policy_bind_date', 'umbrella_limit', 'insured_zip', 'insured_sex',\n",
       "       'insured_education_level', 'insured_occupation', 'insured_hobbies',\n",
       "       'insured_relationship', 'capital-gains', 'capital-loss',\n",
       "       'incident_type', 'collision_type', 'incident_severity',\n",
       "       'authorities_contacted', 'incident_hour_of_the_day',\n",
       "       'number_of_vehicles_involved', 'property_damage', 'bodily_injuries',\n",
       "       'witnesses', 'police_report_available', 'total_claim_amount',\n",
       "       'injury_claim', 'property_claim', 'vehicle_claim', 'auto_make',\n",
       "       'auto_model', 'auto_year', 'fraud_reported', 'age_group',\n",
       "       'months_as_customer_groups', 'policy_annual_premium_groups',\n",
       "       'policy_deductable_group'],\n",
       "      dtype='object')"
      ]
     },
     "execution_count": 38,
     "metadata": {},
     "output_type": "execute_result"
    }
   ],
   "source": [
    "df = df.drop(['age', 'months_as_customer', 'policy_deductable', 'policy_annual_premium'], axis = 1)\n",
    "df.columns"
   ]
  },
  {
   "cell_type": "code",
   "execution_count": 39,
   "id": "ee913f79",
   "metadata": {},
   "outputs": [],
   "source": [
    "required_columns = [ 'insured_sex', 'insured_education_level', 'insured_occupation',\n",
    "       'insured_hobbies', 'capital-gains', 'capital-loss', 'incident_type', 'collision_type', 'incident_severity',\n",
    "       'authorities_contacted', 'incident_hour_of_the_day', 'number_of_vehicles_involved',\n",
    "       'witnesses', 'total_claim_amount',\n",
    "       'injury_claim', 'property_claim', 'vehicle_claim',\n",
    "       'fraud_reported', 'age_group',\n",
    "       'months_as_customer_groups', 'policy_annual_premium_groups']"
   ]
  },
  {
   "cell_type": "code",
   "execution_count": 40,
   "id": "966ee693",
   "metadata": {},
   "outputs": [],
   "source": [
    "df1 = df[required_columns]\n",
    "corr_matrix = df1.corr()"
   ]
  },
  {
   "cell_type": "code",
   "execution_count": 41,
   "id": "0091d852",
   "metadata": {},
   "outputs": [
    {
     "data": {
      "text/plain": [
       "<AxesSubplot:>"
      ]
     },
     "execution_count": 41,
     "metadata": {},
     "output_type": "execute_result"
    },
    {
     "data": {
      "image/png": "[encoded data removed]",
      "text/plain": [
       "<Figure size 1152x720 with 2 Axes>"
      ]
     },
     "metadata": {
      "needs_background": "light"
     },
     "output_type": "display_data"
    }
   ],
   "source": [
    "plt.figure(figsize=(16,10))\n",
    "sns.heatmap(corr_matrix,annot=True)"
   ]
  },
  {
   "cell_type": "markdown",
   "id": "810eeb89",
   "metadata": {},
   "source": [
    "vechile_claim and total_claim_amount are higly correlated. Also injury_claim and property_claim are highly correlated with \n",
    "total_claim_amount"
   ]
  },
  {
   "cell_type": "code",
   "execution_count": 42,
   "id": "02ae79f7",
   "metadata": {},
   "outputs": [
    {
     "name": "stdout",
     "output_type": "stream",
     "text": [
      "5070\n"
     ]
    },
    {
     "data": {
      "text/plain": [
       "5070"
      ]
     },
     "execution_count": 42,
     "metadata": {},
     "output_type": "execute_result"
    }
   ],
   "source": [
    "t = df['total_claim_amount'].iloc[1]\n",
    "a = df['vehicle_claim'].iloc[1]\n",
    "b = df['property_claim'].iloc[1]\n",
    "c = df['injury_claim'].iloc[1]\n",
    "\n",
    "print(t)\n",
    "a+b+c"
   ]
  },
  {
   "cell_type": "code",
   "execution_count": 43,
   "id": "a160bfb8",
   "metadata": {},
   "outputs": [],
   "source": [
    "required_columns = ['insured_sex', 'insured_occupation','insured_hobbies', 'capital-gains', 'capital-loss',\n",
    "                    'incident_type','collision_type', 'incident_severity','authorities_contacted', \n",
    "                    'incident_hour_of_the_day', 'number_of_vehicles_involved', 'witnesses', 'total_claim_amount',\n",
    "                    'fraud_reported', 'age_group','months_as_customer_groups', 'policy_annual_premium_groups']"
   ]
  },
  {
   "cell_type": "code",
   "execution_count": 44,
   "id": "5229e16e",
   "metadata": {},
   "outputs": [
    {
     "data": {
      "text/html": [
       "<div>\n",
       "<style scoped>\n",
       "    .dataframe tbody tr th:only-of-type {\n",
       "        vertical-align: middle;\n",
       "    }\n",
       "\n",
       "    .dataframe tbody tr th {\n",
       "        vertical-align: top;\n",
       "    }\n",
       "\n",
       "    .dataframe thead th {\n",
       "        text-align: right;\n",
       "    }\n",
       "</style>\n",
       "<table border=\"1\" class=\"dataframe\">\n",
       "  <thead>\n",
       "    <tr style=\"text-align: right;\">\n",
       "      <th></th>\n",
       "      <th>insured_sex</th>\n",
       "      <th>insured_occupation</th>\n",
       "      <th>insured_hobbies</th>\n",
       "      <th>capital-gains</th>\n",
       "      <th>capital-loss</th>\n",
       "      <th>incident_type</th>\n",
       "      <th>collision_type</th>\n",
       "      <th>incident_severity</th>\n",
       "      <th>authorities_contacted</th>\n",
       "      <th>incident_hour_of_the_day</th>\n",
       "      <th>number_of_vehicles_involved</th>\n",
       "      <th>witnesses</th>\n",
       "      <th>total_claim_amount</th>\n",
       "      <th>fraud_reported</th>\n",
       "      <th>age_group</th>\n",
       "      <th>months_as_customer_groups</th>\n",
       "      <th>policy_annual_premium_groups</th>\n",
       "    </tr>\n",
       "  </thead>\n",
       "  <tbody>\n",
       "    <tr>\n",
       "      <th>0</th>\n",
       "      <td>MALE</td>\n",
       "      <td>craft-repair</td>\n",
       "      <td>sleeping</td>\n",
       "      <td>53300</td>\n",
       "      <td>0</td>\n",
       "      <td>Single Vehicle Collision</td>\n",
       "      <td>Side Collision</td>\n",
       "      <td>Major Damage</td>\n",
       "      <td>Police</td>\n",
       "      <td>5</td>\n",
       "      <td>1</td>\n",
       "      <td>2</td>\n",
       "      <td>71610</td>\n",
       "      <td>1</td>\n",
       "      <td>46-50</td>\n",
       "      <td>301-350</td>\n",
       "      <td>medium</td>\n",
       "    </tr>\n",
       "    <tr>\n",
       "      <th>1</th>\n",
       "      <td>MALE</td>\n",
       "      <td>machine-op-inspct</td>\n",
       "      <td>reading</td>\n",
       "      <td>0</td>\n",
       "      <td>0</td>\n",
       "      <td>Vehicle Theft</td>\n",
       "      <td>?</td>\n",
       "      <td>Minor Damage</td>\n",
       "      <td>Police</td>\n",
       "      <td>8</td>\n",
       "      <td>1</td>\n",
       "      <td>0</td>\n",
       "      <td>5070</td>\n",
       "      <td>1</td>\n",
       "      <td>41-45</td>\n",
       "      <td>201-250</td>\n",
       "      <td>medium</td>\n",
       "    </tr>\n",
       "    <tr>\n",
       "      <th>2</th>\n",
       "      <td>FEMALE</td>\n",
       "      <td>sales</td>\n",
       "      <td>board-games</td>\n",
       "      <td>35100</td>\n",
       "      <td>0</td>\n",
       "      <td>Multi-vehicle Collision</td>\n",
       "      <td>Rear Collision</td>\n",
       "      <td>Minor Damage</td>\n",
       "      <td>Police</td>\n",
       "      <td>7</td>\n",
       "      <td>3</td>\n",
       "      <td>3</td>\n",
       "      <td>34650</td>\n",
       "      <td>0</td>\n",
       "      <td>26-30</td>\n",
       "      <td>101-150</td>\n",
       "      <td>medium</td>\n",
       "    </tr>\n",
       "    <tr>\n",
       "      <th>3</th>\n",
       "      <td>FEMALE</td>\n",
       "      <td>armed-forces</td>\n",
       "      <td>board-games</td>\n",
       "      <td>48900</td>\n",
       "      <td>-62400</td>\n",
       "      <td>Single Vehicle Collision</td>\n",
       "      <td>Front Collision</td>\n",
       "      <td>Major Damage</td>\n",
       "      <td>Police</td>\n",
       "      <td>5</td>\n",
       "      <td>1</td>\n",
       "      <td>2</td>\n",
       "      <td>63400</td>\n",
       "      <td>1</td>\n",
       "      <td>41-45</td>\n",
       "      <td>251-300</td>\n",
       "      <td>medium</td>\n",
       "    </tr>\n",
       "    <tr>\n",
       "      <th>4</th>\n",
       "      <td>MALE</td>\n",
       "      <td>sales</td>\n",
       "      <td>board-games</td>\n",
       "      <td>66000</td>\n",
       "      <td>-46000</td>\n",
       "      <td>Vehicle Theft</td>\n",
       "      <td>?</td>\n",
       "      <td>Minor Damage</td>\n",
       "      <td>None</td>\n",
       "      <td>20</td>\n",
       "      <td>1</td>\n",
       "      <td>1</td>\n",
       "      <td>6500</td>\n",
       "      <td>0</td>\n",
       "      <td>41-45</td>\n",
       "      <td>201-250</td>\n",
       "      <td>high</td>\n",
       "    </tr>\n",
       "  </tbody>\n",
       "</table>\n",
       "</div>"
      ],
      "text/plain": [
       "  insured_sex insured_occupation insured_hobbies  capital-gains  capital-loss  \\\n",
       "0        MALE       craft-repair        sleeping          53300             0   \n",
       "1        MALE  machine-op-inspct         reading              0             0   \n",
       "2      FEMALE              sales     board-games          35100             0   \n",
       "3      FEMALE       armed-forces     board-games          48900        -62400   \n",
       "4        MALE              sales     board-games          66000        -46000   \n",
       "\n",
       "              incident_type   collision_type incident_severity  \\\n",
       "0  Single Vehicle Collision   Side Collision      Major Damage   \n",
       "1             Vehicle Theft                ?      Minor Damage   \n",
       "2   Multi-vehicle Collision   Rear Collision      Minor Damage   \n",
       "3  Single Vehicle Collision  Front Collision      Major Damage   \n",
       "4             Vehicle Theft                ?      Minor Damage   \n",
       "\n",
       "  authorities_contacted  incident_hour_of_the_day  \\\n",
       "0                Police                         5   \n",
       "1                Police                         8   \n",
       "2                Police                         7   \n",
       "3                Police                         5   \n",
       "4                  None                        20   \n",
       "\n",
       "   number_of_vehicles_involved  witnesses  total_claim_amount  fraud_reported  \\\n",
       "0                            1          2               71610               1   \n",
       "1                            1          0                5070               1   \n",
       "2                            3          3               34650               0   \n",
       "3                            1          2               63400               1   \n",
       "4                            1          1                6500               0   \n",
       "\n",
       "  age_group months_as_customer_groups policy_annual_premium_groups  \n",
       "0     46-50                   301-350                       medium  \n",
       "1     41-45                   201-250                       medium  \n",
       "2     26-30                   101-150                       medium  \n",
       "3     41-45                   251-300                       medium  \n",
       "4     41-45                   201-250                         high  "
      ]
     },
     "execution_count": 44,
     "metadata": {},
     "output_type": "execute_result"
    }
   ],
   "source": [
    "df1 = df1[required_columns]\n",
    "df1.head()"
   ]
  },
  {
   "cell_type": "code",
   "execution_count": 45,
   "id": "a6fa9d0f",
   "metadata": {
    "scrolled": true
   },
   "outputs": [
    {
     "data": {
      "text/html": [
       "<div>\n",
       "<style scoped>\n",
       "    .dataframe tbody tr th:only-of-type {\n",
       "        vertical-align: middle;\n",
       "    }\n",
       "\n",
       "    .dataframe tbody tr th {\n",
       "        vertical-align: top;\n",
       "    }\n",
       "\n",
       "    .dataframe thead th {\n",
       "        text-align: right;\n",
       "    }\n",
       "</style>\n",
       "<table border=\"1\" class=\"dataframe\">\n",
       "  <thead>\n",
       "    <tr style=\"text-align: right;\">\n",
       "      <th></th>\n",
       "      <th>insured_sex</th>\n",
       "      <th>insured_occupation</th>\n",
       "      <th>insured_hobbies</th>\n",
       "      <th>capital-gains</th>\n",
       "      <th>capital-loss</th>\n",
       "      <th>incident_type</th>\n",
       "      <th>collision_type</th>\n",
       "      <th>incident_severity</th>\n",
       "      <th>authorities_contacted</th>\n",
       "      <th>incident_hour_of_the_day</th>\n",
       "      <th>number_of_vehicles_involved</th>\n",
       "      <th>witnesses</th>\n",
       "      <th>total_claim_amount</th>\n",
       "      <th>fraud_reported</th>\n",
       "      <th>age_group</th>\n",
       "      <th>months_as_customer_groups</th>\n",
       "      <th>policy_annual_premium_groups</th>\n",
       "    </tr>\n",
       "  </thead>\n",
       "  <tbody>\n",
       "    <tr>\n",
       "      <th>0</th>\n",
       "      <td>MALE</td>\n",
       "      <td>craft-repair</td>\n",
       "      <td>sleeping</td>\n",
       "      <td>53300</td>\n",
       "      <td>0</td>\n",
       "      <td>Single Vehicle Collision</td>\n",
       "      <td>Side Collision</td>\n",
       "      <td>Major Damage</td>\n",
       "      <td>Police</td>\n",
       "      <td>5</td>\n",
       "      <td>1</td>\n",
       "      <td>2</td>\n",
       "      <td>71610</td>\n",
       "      <td>1</td>\n",
       "      <td>46-50</td>\n",
       "      <td>301-350</td>\n",
       "      <td>medium</td>\n",
       "    </tr>\n",
       "    <tr>\n",
       "      <th>1</th>\n",
       "      <td>MALE</td>\n",
       "      <td>machine-op-inspct</td>\n",
       "      <td>reading</td>\n",
       "      <td>0</td>\n",
       "      <td>0</td>\n",
       "      <td>Vehicle Theft</td>\n",
       "      <td>No Info</td>\n",
       "      <td>Minor Damage</td>\n",
       "      <td>Police</td>\n",
       "      <td>8</td>\n",
       "      <td>1</td>\n",
       "      <td>0</td>\n",
       "      <td>5070</td>\n",
       "      <td>1</td>\n",
       "      <td>41-45</td>\n",
       "      <td>201-250</td>\n",
       "      <td>medium</td>\n",
       "    </tr>\n",
       "    <tr>\n",
       "      <th>2</th>\n",
       "      <td>FEMALE</td>\n",
       "      <td>sales</td>\n",
       "      <td>board-games</td>\n",
       "      <td>35100</td>\n",
       "      <td>0</td>\n",
       "      <td>Multi-vehicle Collision</td>\n",
       "      <td>Rear Collision</td>\n",
       "      <td>Minor Damage</td>\n",
       "      <td>Police</td>\n",
       "      <td>7</td>\n",
       "      <td>3</td>\n",
       "      <td>3</td>\n",
       "      <td>34650</td>\n",
       "      <td>0</td>\n",
       "      <td>26-30</td>\n",
       "      <td>101-150</td>\n",
       "      <td>medium</td>\n",
       "    </tr>\n",
       "    <tr>\n",
       "      <th>3</th>\n",
       "      <td>FEMALE</td>\n",
       "      <td>armed-forces</td>\n",
       "      <td>board-games</td>\n",
       "      <td>48900</td>\n",
       "      <td>-62400</td>\n",
       "      <td>Single Vehicle Collision</td>\n",
       "      <td>Front Collision</td>\n",
       "      <td>Major Damage</td>\n",
       "      <td>Police</td>\n",
       "      <td>5</td>\n",
       "      <td>1</td>\n",
       "      <td>2</td>\n",
       "      <td>63400</td>\n",
       "      <td>1</td>\n",
       "      <td>41-45</td>\n",
       "      <td>251-300</td>\n",
       "      <td>medium</td>\n",
       "    </tr>\n",
       "    <tr>\n",
       "      <th>4</th>\n",
       "      <td>MALE</td>\n",
       "      <td>sales</td>\n",
       "      <td>board-games</td>\n",
       "      <td>66000</td>\n",
       "      <td>-46000</td>\n",
       "      <td>Vehicle Theft</td>\n",
       "      <td>No Info</td>\n",
       "      <td>Minor Damage</td>\n",
       "      <td>None</td>\n",
       "      <td>20</td>\n",
       "      <td>1</td>\n",
       "      <td>1</td>\n",
       "      <td>6500</td>\n",
       "      <td>0</td>\n",
       "      <td>41-45</td>\n",
       "      <td>201-250</td>\n",
       "      <td>high</td>\n",
       "    </tr>\n",
       "    <tr>\n",
       "      <th>...</th>\n",
       "      <td>...</td>\n",
       "      <td>...</td>\n",
       "      <td>...</td>\n",
       "      <td>...</td>\n",
       "      <td>...</td>\n",
       "      <td>...</td>\n",
       "      <td>...</td>\n",
       "      <td>...</td>\n",
       "      <td>...</td>\n",
       "      <td>...</td>\n",
       "      <td>...</td>\n",
       "      <td>...</td>\n",
       "      <td>...</td>\n",
       "      <td>...</td>\n",
       "      <td>...</td>\n",
       "      <td>...</td>\n",
       "      <td>...</td>\n",
       "    </tr>\n",
       "    <tr>\n",
       "      <th>995</th>\n",
       "      <td>FEMALE</td>\n",
       "      <td>craft-repair</td>\n",
       "      <td>paintball</td>\n",
       "      <td>0</td>\n",
       "      <td>0</td>\n",
       "      <td>Single Vehicle Collision</td>\n",
       "      <td>Front Collision</td>\n",
       "      <td>Minor Damage</td>\n",
       "      <td>Fire</td>\n",
       "      <td>20</td>\n",
       "      <td>1</td>\n",
       "      <td>1</td>\n",
       "      <td>87200</td>\n",
       "      <td>0</td>\n",
       "      <td>36-40</td>\n",
       "      <td>0-50</td>\n",
       "      <td>medium</td>\n",
       "    </tr>\n",
       "    <tr>\n",
       "      <th>996</th>\n",
       "      <td>FEMALE</td>\n",
       "      <td>prof-specialty</td>\n",
       "      <td>sleeping</td>\n",
       "      <td>70900</td>\n",
       "      <td>0</td>\n",
       "      <td>Single Vehicle Collision</td>\n",
       "      <td>Rear Collision</td>\n",
       "      <td>Major Damage</td>\n",
       "      <td>Fire</td>\n",
       "      <td>23</td>\n",
       "      <td>1</td>\n",
       "      <td>3</td>\n",
       "      <td>108480</td>\n",
       "      <td>0</td>\n",
       "      <td>41-45</td>\n",
       "      <td>251-300</td>\n",
       "      <td>medium</td>\n",
       "    </tr>\n",
       "    <tr>\n",
       "      <th>997</th>\n",
       "      <td>FEMALE</td>\n",
       "      <td>armed-forces</td>\n",
       "      <td>bungie-jumping</td>\n",
       "      <td>35100</td>\n",
       "      <td>0</td>\n",
       "      <td>Multi-vehicle Collision</td>\n",
       "      <td>Side Collision</td>\n",
       "      <td>Minor Damage</td>\n",
       "      <td>Police</td>\n",
       "      <td>4</td>\n",
       "      <td>3</td>\n",
       "      <td>3</td>\n",
       "      <td>67500</td>\n",
       "      <td>0</td>\n",
       "      <td>31-35</td>\n",
       "      <td>101-150</td>\n",
       "      <td>medium</td>\n",
       "    </tr>\n",
       "    <tr>\n",
       "      <th>998</th>\n",
       "      <td>MALE</td>\n",
       "      <td>handlers-cleaners</td>\n",
       "      <td>base-jumping</td>\n",
       "      <td>0</td>\n",
       "      <td>0</td>\n",
       "      <td>Single Vehicle Collision</td>\n",
       "      <td>Rear Collision</td>\n",
       "      <td>Major Damage</td>\n",
       "      <td>Other</td>\n",
       "      <td>2</td>\n",
       "      <td>1</td>\n",
       "      <td>1</td>\n",
       "      <td>46980</td>\n",
       "      <td>0</td>\n",
       "      <td>61-65</td>\n",
       "      <td>451-500</td>\n",
       "      <td>medium</td>\n",
       "    </tr>\n",
       "    <tr>\n",
       "      <th>999</th>\n",
       "      <td>FEMALE</td>\n",
       "      <td>sales</td>\n",
       "      <td>kayaking</td>\n",
       "      <td>0</td>\n",
       "      <td>0</td>\n",
       "      <td>Parked Car</td>\n",
       "      <td>No Info</td>\n",
       "      <td>Minor Damage</td>\n",
       "      <td>Police</td>\n",
       "      <td>6</td>\n",
       "      <td>1</td>\n",
       "      <td>3</td>\n",
       "      <td>5060</td>\n",
       "      <td>0</td>\n",
       "      <td>56-60</td>\n",
       "      <td>451-500</td>\n",
       "      <td>low</td>\n",
       "    </tr>\n",
       "  </tbody>\n",
       "</table>\n",
       "<p>1000 rows × 17 columns</p>\n",
       "</div>"
      ],
      "text/plain": [
       "    insured_sex insured_occupation insured_hobbies  capital-gains  \\\n",
       "0          MALE       craft-repair        sleeping          53300   \n",
       "1          MALE  machine-op-inspct         reading              0   \n",
       "2        FEMALE              sales     board-games          35100   \n",
       "3        FEMALE       armed-forces     board-games          48900   \n",
       "4          MALE              sales     board-games          66000   \n",
       "..          ...                ...             ...            ...   \n",
       "995      FEMALE       craft-repair       paintball              0   \n",
       "996      FEMALE     prof-specialty        sleeping          70900   \n",
       "997      FEMALE       armed-forces  bungie-jumping          35100   \n",
       "998        MALE  handlers-cleaners    base-jumping              0   \n",
       "999      FEMALE              sales        kayaking              0   \n",
       "\n",
       "     capital-loss             incident_type   collision_type  \\\n",
       "0               0  Single Vehicle Collision   Side Collision   \n",
       "1               0             Vehicle Theft          No Info   \n",
       "2               0   Multi-vehicle Collision   Rear Collision   \n",
       "3          -62400  Single Vehicle Collision  Front Collision   \n",
       "4          -46000             Vehicle Theft          No Info   \n",
       "..            ...                       ...              ...   \n",
       "995             0  Single Vehicle Collision  Front Collision   \n",
       "996             0  Single Vehicle Collision   Rear Collision   \n",
       "997             0   Multi-vehicle Collision   Side Collision   \n",
       "998             0  Single Vehicle Collision   Rear Collision   \n",
       "999             0                Parked Car          No Info   \n",
       "\n",
       "    incident_severity authorities_contacted  incident_hour_of_the_day  \\\n",
       "0        Major Damage                Police                         5   \n",
       "1        Minor Damage                Police                         8   \n",
       "2        Minor Damage                Police                         7   \n",
       "3        Major Damage                Police                         5   \n",
       "4        Minor Damage                  None                        20   \n",
       "..                ...                   ...                       ...   \n",
       "995      Minor Damage                  Fire                        20   \n",
       "996      Major Damage                  Fire                        23   \n",
       "997      Minor Damage                Police                         4   \n",
       "998      Major Damage                 Other                         2   \n",
       "999      Minor Damage                Police                         6   \n",
       "\n",
       "     number_of_vehicles_involved  witnesses  total_claim_amount  \\\n",
       "0                              1          2               71610   \n",
       "1                              1          0                5070   \n",
       "2                              3          3               34650   \n",
       "3                              1          2               63400   \n",
       "4                              1          1                6500   \n",
       "..                           ...        ...                 ...   \n",
       "995                            1          1               87200   \n",
       "996                            1          3              108480   \n",
       "997                            3          3               67500   \n",
       "998                            1          1               46980   \n",
       "999                            1          3                5060   \n",
       "\n",
       "     fraud_reported age_group months_as_customer_groups  \\\n",
       "0                 1     46-50                   301-350   \n",
       "1                 1     41-45                   201-250   \n",
       "2                 0     26-30                   101-150   \n",
       "3                 1     41-45                   251-300   \n",
       "4                 0     41-45                   201-250   \n",
       "..              ...       ...                       ...   \n",
       "995               0     36-40                      0-50   \n",
       "996               0     41-45                   251-300   \n",
       "997               0     31-35                   101-150   \n",
       "998               0     61-65                   451-500   \n",
       "999               0     56-60                   451-500   \n",
       "\n",
       "    policy_annual_premium_groups  \n",
       "0                         medium  \n",
       "1                         medium  \n",
       "2                         medium  \n",
       "3                         medium  \n",
       "4                           high  \n",
       "..                           ...  \n",
       "995                       medium  \n",
       "996                       medium  \n",
       "997                       medium  \n",
       "998                       medium  \n",
       "999                          low  \n",
       "\n",
       "[1000 rows x 17 columns]"
      ]
     },
     "execution_count": 45,
     "metadata": {},
     "output_type": "execute_result"
    }
   ],
   "source": [
    "df1.replace('?','No Info')"
   ]
  },
  {
   "cell_type": "code",
   "execution_count": 46,
   "id": "7d1b3d64",
   "metadata": {},
   "outputs": [
    {
     "name": "stdout",
     "output_type": "stream",
     "text": [
      "(1000, 7)\n"
     ]
    }
   ],
   "source": [
    "categorical_data = df1.select_dtypes(exclude=\"number\")\n",
    "categorical_cols = categorical_data.columns\n",
    "\n",
    "ddf1 = df1.drop(categorical_cols, axis=1)\n",
    "print(ddf1.shape)"
   ]
  },
  {
   "cell_type": "code",
   "execution_count": 47,
   "id": "de24f19e",
   "metadata": {},
   "outputs": [
    {
     "data": {
      "text/plain": [
       "capital-gains                  int64\n",
       "capital-loss                   int64\n",
       "incident_hour_of_the_day       int64\n",
       "number_of_vehicles_involved    int64\n",
       "witnesses                      int64\n",
       "total_claim_amount             int64\n",
       "fraud_reported                 int32\n",
       "dtype: object"
      ]
     },
     "execution_count": 47,
     "metadata": {},
     "output_type": "execute_result"
    }
   ],
   "source": [
    "ddf1.dtypes"
   ]
  },
  {
   "cell_type": "code",
   "execution_count": 48,
   "id": "880ce4a0",
   "metadata": {},
   "outputs": [
    {
     "data": {
      "text/plain": [
       "capital-gains                     AxesSubplot(0.125,0.657941;0.0945122x0.222059)\n",
       "capital-loss                   AxesSubplot(0.238415,0.657941;0.0945122x0.222059)\n",
       "incident_hour_of_the_day       AxesSubplot(0.351829,0.657941;0.0945122x0.222059)\n",
       "number_of_vehicles_involved    AxesSubplot(0.465244,0.657941;0.0945122x0.222059)\n",
       "witnesses                      AxesSubplot(0.578659,0.657941;0.0945122x0.222059)\n",
       "total_claim_amount             AxesSubplot(0.692073,0.657941;0.0945122x0.222059)\n",
       "fraud_reported                 AxesSubplot(0.805488,0.657941;0.0945122x0.222059)\n",
       "dtype: object"
      ]
     },
     "execution_count": 48,
     "metadata": {},
     "output_type": "execute_result"
    },
    {
     "data": {
      "image/png": "[encoded data removed]",
      "text/plain": [
       "<Figure size 432x288 with 21 Axes>"
      ]
     },
     "metadata": {
      "needs_background": "light"
     },
     "output_type": "display_data"
    }
   ],
   "source": [
    "ddf1.plot(kind='box',subplots=True,layout=(3,7))"
   ]
  },
  {
   "cell_type": "code",
   "execution_count": 49,
   "id": "015ca533",
   "metadata": {},
   "outputs": [
    {
     "name": "stdout",
     "output_type": "stream",
     "text": [
      "(array([807], dtype=int64), array([1], dtype=int64))\n"
     ]
    }
   ],
   "source": [
    "from scipy.stats import zscore\n",
    "zscr=np.abs(zscore(ddf1))\n",
    "\n",
    "threshold=3\n",
    "print(np.where(zscr>3))"
   ]
  },
  {
   "cell_type": "code",
   "execution_count": 50,
   "id": "478639f3",
   "metadata": {},
   "outputs": [],
   "source": [
    "df_new=ddf1[(zscr<3).all(axis=1)]"
   ]
  },
  {
   "cell_type": "code",
   "execution_count": 51,
   "id": "1e865b5a",
   "metadata": {},
   "outputs": [],
   "source": [
    "X=df_new.drop(columns='fraud_reported')\n",
    "Y=df_new['fraud_reported']"
   ]
  },
  {
   "cell_type": "code",
   "execution_count": 52,
   "id": "4dbbe511",
   "metadata": {},
   "outputs": [
    {
     "data": {
      "text/plain": [
       "capital-gains                  0.479455\n",
       "capital-loss                  -0.378260\n",
       "incident_hour_of_the_day      -0.036691\n",
       "number_of_vehicles_involved    0.505339\n",
       "witnesses                      0.021243\n",
       "total_claim_amount            -0.592964\n",
       "dtype: float64"
      ]
     },
     "execution_count": 52,
     "metadata": {},
     "output_type": "execute_result"
    }
   ],
   "source": [
    "X.skew()"
   ]
  },
  {
   "cell_type": "code",
   "execution_count": 53,
   "id": "caded4e8",
   "metadata": {},
   "outputs": [],
   "source": [
    "from sklearn.preprocessing import power_transform\n",
    "X_new = power_transform(X)\n",
    "\n",
    "X_new =pd.DataFrame(X_new,columns=X.columns)"
   ]
  },
  {
   "cell_type": "code",
   "execution_count": 54,
   "id": "8b41caf7",
   "metadata": {},
   "outputs": [],
   "source": [
    "one_hot_data = pd.get_dummies(categorical_data)\n",
    "X = X.join(one_hot_data)"
   ]
  },
  {
   "cell_type": "code",
   "execution_count": 55,
   "id": "df45604b",
   "metadata": {},
   "outputs": [],
   "source": [
    "from imblearn.over_sampling import SMOTE\n",
    "SM=SMOTE()\n",
    "x_over,y_over=SM.fit_resample(X,Y)"
   ]
  },
  {
   "cell_type": "code",
   "execution_count": 56,
   "id": "b21c44a3",
   "metadata": {},
   "outputs": [
    {
     "data": {
      "text/plain": [
       "<AxesSubplot:xlabel='fraud_reported', ylabel='count'>"
      ]
     },
     "execution_count": 56,
     "metadata": {},
     "output_type": "execute_result"
    },
    {
     "data": {
      "image/png": "[encoded data removed]",
      "text/plain": [
       "<Figure size 432x288 with 1 Axes>"
      ]
     },
     "metadata": {
      "needs_background": "light"
     },
     "output_type": "display_data"
    }
   ],
   "source": [
    "sns.countplot(y_over)"
   ]
  },
  {
   "cell_type": "markdown",
   "id": "1ad9a613",
   "metadata": {},
   "source": [
    "Handled data imbalanced using SMOTE"
   ]
  },
  {
   "cell_type": "code",
   "execution_count": 57,
   "id": "95f75e3c",
   "metadata": {},
   "outputs": [],
   "source": [
    "from sklearn.model_selection import train_test_split\n",
    "from sklearn.linear_model import LogisticRegression\n",
    "from sklearn.naive_bayes import GaussianNB\n",
    "from sklearn.svm import SVC\n",
    "from sklearn.ensemble import RandomForestClassifier\n",
    "from sklearn.ensemble import AdaBoostClassifier\n",
    "from sklearn.tree import DecisionTreeClassifier\n",
    "from sklearn.metrics import accuracy_score, confusion_matrix, classification_report\n",
    "from sklearn.model_selection import cross_val_score"
   ]
  },
  {
   "cell_type": "code",
   "execution_count": 58,
   "id": "76cc9ef5",
   "metadata": {},
   "outputs": [],
   "source": [
    "x_train,x_test,y_train,y_test=train_test_split(x_over,y_over,test_size=.3,random_state=123)"
   ]
  },
  {
   "cell_type": "code",
   "execution_count": 59,
   "id": "a0401857",
   "metadata": {},
   "outputs": [
    {
     "name": "stdout",
     "output_type": "stream",
     "text": [
      "(1052, 84)\n",
      "(452, 84)\n",
      "(1052,)\n",
      "(452,)\n"
     ]
    }
   ],
   "source": [
    "print(x_train.shape)\n",
    "print(x_test.shape)\n",
    "print(y_train.shape)\n",
    "print(y_test.shape)"
   ]
  },
  {
   "cell_type": "code",
   "execution_count": 60,
   "id": "495146a0",
   "metadata": {},
   "outputs": [
    {
     "name": "stdout",
     "output_type": "stream",
     "text": [
      "accuracy score\n",
      "0.584070796460177\n",
      "[[128  96]\n",
      " [ 92 136]]\n",
      "              precision    recall  f1-score   support\n",
      "\n",
      "           0       0.58      0.57      0.58       224\n",
      "           1       0.59      0.60      0.59       228\n",
      "\n",
      "    accuracy                           0.58       452\n",
      "   macro avg       0.58      0.58      0.58       452\n",
      "weighted avg       0.58      0.58      0.58       452\n",
      "\n"
     ]
    }
   ],
   "source": [
    "lg=LogisticRegression()\n",
    "lg.fit(x_train,y_train)\n",
    "pred=lg.predict(x_test)\n",
    "print('accuracy score')\n",
    "print(accuracy_score(y_test,pred))\n",
    "print(confusion_matrix(y_test,pred))\n",
    "print(classification_report(y_test,pred))"
   ]
  },
  {
   "cell_type": "code",
   "execution_count": 61,
   "id": "5e1df1de",
   "metadata": {},
   "outputs": [
    {
     "name": "stdout",
     "output_type": "stream",
     "text": [
      "accuracy score\n",
      "0.5951327433628318\n",
      "[[ 55 169]\n",
      " [ 14 214]]\n",
      "              precision    recall  f1-score   support\n",
      "\n",
      "           0       0.80      0.25      0.38       224\n",
      "           1       0.56      0.94      0.70       228\n",
      "\n",
      "    accuracy                           0.60       452\n",
      "   macro avg       0.68      0.59      0.54       452\n",
      "weighted avg       0.68      0.60      0.54       452\n",
      "\n"
     ]
    }
   ],
   "source": [
    "gnb=GaussianNB()\n",
    "gnb.fit(x_train,y_train)\n",
    "predg=gnb.predict(x_test)\n",
    "print('accuracy score')\n",
    "print(accuracy_score(y_test,predg))\n",
    "print(confusion_matrix(y_test,predg))\n",
    "print(classification_report(y_test,predg))"
   ]
  },
  {
   "cell_type": "code",
   "execution_count": 62,
   "id": "022ce15c",
   "metadata": {},
   "outputs": [
    {
     "name": "stdout",
     "output_type": "stream",
     "text": [
      "accuracy score\n",
      "0.5862831858407079\n",
      "[[ 69 155]\n",
      " [ 32 196]]\n",
      "              precision    recall  f1-score   support\n",
      "\n",
      "           0       0.68      0.31      0.42       224\n",
      "           1       0.56      0.86      0.68       228\n",
      "\n",
      "    accuracy                           0.59       452\n",
      "   macro avg       0.62      0.58      0.55       452\n",
      "weighted avg       0.62      0.59      0.55       452\n",
      "\n"
     ]
    }
   ],
   "source": [
    "sv = SVC()\n",
    "sv.fit(x_train, y_train.ravel())\n",
    "preds=sv.predict(x_test)\n",
    "print('accuracy score')\n",
    "print(accuracy_score(y_test,preds))\n",
    "print(confusion_matrix(y_test,preds))\n",
    "print(classification_report(y_test,preds))"
   ]
  },
  {
   "cell_type": "code",
   "execution_count": 63,
   "id": "fb03a488",
   "metadata": {},
   "outputs": [
    {
     "name": "stdout",
     "output_type": "stream",
     "text": [
      "accuracy score\n",
      "0.8694690265486725\n",
      "[[199  25]\n",
      " [ 34 194]]\n",
      "              precision    recall  f1-score   support\n",
      "\n",
      "           0       0.85      0.89      0.87       224\n",
      "           1       0.89      0.85      0.87       228\n",
      "\n",
      "    accuracy                           0.87       452\n",
      "   macro avg       0.87      0.87      0.87       452\n",
      "weighted avg       0.87      0.87      0.87       452\n",
      "\n"
     ]
    }
   ],
   "source": [
    "rf=RandomForestClassifier()\n",
    "rf.fit(x_train,y_train)\n",
    "predr=rf.predict(x_test)\n",
    "print('accuracy score')\n",
    "print(accuracy_score(y_test,predr))\n",
    "print(confusion_matrix(y_test,predr))\n",
    "print(classification_report(y_test,predr))"
   ]
  },
  {
   "cell_type": "code",
   "execution_count": 64,
   "id": "06c32544",
   "metadata": {},
   "outputs": [
    {
     "name": "stdout",
     "output_type": "stream",
     "text": [
      "accuracy score\n",
      "0.8805309734513275\n",
      "[[201  23]\n",
      " [ 31 197]]\n",
      "              precision    recall  f1-score   support\n",
      "\n",
      "           0       0.87      0.90      0.88       224\n",
      "           1       0.90      0.86      0.88       228\n",
      "\n",
      "    accuracy                           0.88       452\n",
      "   macro avg       0.88      0.88      0.88       452\n",
      "weighted avg       0.88      0.88      0.88       452\n",
      "\n"
     ]
    }
   ],
   "source": [
    "ad=AdaBoostClassifier()\n",
    "ad.fit(x_train,y_train)\n",
    "preda=ad.predict(x_test)\n",
    "print('accuracy score')\n",
    "print(accuracy_score(y_test,preda))\n",
    "print(confusion_matrix(y_test,preda))\n",
    "print(classification_report(y_test,preda))"
   ]
  },
  {
   "cell_type": "code",
   "execution_count": 65,
   "id": "2055ee27",
   "metadata": {},
   "outputs": [
    {
     "name": "stdout",
     "output_type": "stream",
     "text": [
      "accuracy score\n",
      "0.8185840707964602\n",
      "[[180  44]\n",
      " [ 38 190]]\n",
      "              precision    recall  f1-score   support\n",
      "\n",
      "           0       0.83      0.80      0.81       224\n",
      "           1       0.81      0.83      0.82       228\n",
      "\n",
      "    accuracy                           0.82       452\n",
      "   macro avg       0.82      0.82      0.82       452\n",
      "weighted avg       0.82      0.82      0.82       452\n",
      "\n"
     ]
    }
   ],
   "source": [
    "dt=DecisionTreeClassifier()\n",
    "dt.fit(x_train,y_train)\n",
    "preddt=dt.predict(x_test)\n",
    "print('accuracy score')\n",
    "print(accuracy_score(y_test,preddt))\n",
    "print(confusion_matrix(y_test,preddt))\n",
    "print(classification_report(y_test,preddt))"
   ]
  },
  {
   "cell_type": "code",
   "execution_count": null,
   "id": "078b3648",
   "metadata": {},
   "outputs": [],
   "source": []
  },
  {
   "cell_type": "code",
   "execution_count": null,
   "id": "be6c88b7",
   "metadata": {},
   "outputs": [],
   "source": []
  },
  {
   "cell_type": "code",
   "execution_count": null,
   "id": "055d2bd4",
   "metadata": {},
   "outputs": [],
   "source": []
  },
  {
   "cell_type": "code",
   "execution_count": 66,
   "id": "a42d4536",
   "metadata": {},
   "outputs": [
    {
     "name": "stdout",
     "output_type": "stream",
     "text": [
      "[0.6013289  0.56478405 0.59800664 0.87707641 0.54333333]\n",
      "0.636905869324474\n"
     ]
    }
   ],
   "source": [
    "score=cross_val_score(lg,x_over,y_over,cv=5)\n",
    "print(score)\n",
    "print(score.mean())"
   ]
  },
  {
   "cell_type": "code",
   "execution_count": 67,
   "id": "7f6bca7f",
   "metadata": {},
   "outputs": [
    {
     "name": "stdout",
     "output_type": "stream",
     "text": [
      "[0.60797342 0.55149502 0.55813953 0.59136213 0.60333333]\n",
      "0.5824606866002215\n"
     ]
    }
   ],
   "source": [
    "score=cross_val_score(sv,x_over,y_over,cv=5)\n",
    "print(score)\n",
    "print(score.mean())"
   ]
  },
  {
   "cell_type": "code",
   "execution_count": 68,
   "id": "277f5a87",
   "metadata": {},
   "outputs": [
    {
     "name": "stdout",
     "output_type": "stream",
     "text": [
      "[0.6013289  0.57142857 0.57142857 0.58471761 0.59666667]\n",
      "0.5851140642303433\n"
     ]
    }
   ],
   "source": [
    "score=cross_val_score(gnb,x_over,y_over,cv=5)\n",
    "print(score)\n",
    "print(score.mean())"
   ]
  },
  {
   "cell_type": "code",
   "execution_count": 69,
   "id": "2186cc7d",
   "metadata": {},
   "outputs": [
    {
     "name": "stdout",
     "output_type": "stream",
     "text": [
      "[0.67109635 0.79069767 0.90697674 0.94019934 0.93      ]\n",
      "0.8477940199335547\n"
     ]
    }
   ],
   "source": [
    "score=cross_val_score(rf,x_over,y_over,cv=5)\n",
    "print(score)\n",
    "print(score.mean())"
   ]
  },
  {
   "cell_type": "code",
   "execution_count": 70,
   "id": "3936a349",
   "metadata": {},
   "outputs": [
    {
     "name": "stdout",
     "output_type": "stream",
     "text": [
      "[0.68438538 0.80066445 0.94352159 0.94352159 0.94333333]\n",
      "0.8630852713178296\n"
     ]
    }
   ],
   "source": [
    "score=cross_val_score(ad,x_over,y_over,cv=5)\n",
    "print(score)\n",
    "print(score.mean())"
   ]
  },
  {
   "cell_type": "code",
   "execution_count": 71,
   "id": "0b18d74d",
   "metadata": {},
   "outputs": [
    {
     "name": "stdout",
     "output_type": "stream",
     "text": [
      "[0.66777409 0.77740864 0.910299   0.89700997 0.89666667]\n",
      "0.8298316722037653\n"
     ]
    }
   ],
   "source": [
    "score=cross_val_score(dt,x_over,y_over,cv=5)\n",
    "print(score)\n",
    "print(score.mean())"
   ]
  },
  {
   "cell_type": "code",
   "execution_count": null,
   "id": "a8fc2045",
   "metadata": {},
   "outputs": [],
   "source": []
  },
  {
   "cell_type": "code",
   "execution_count": null,
   "id": "493df5b4",
   "metadata": {},
   "outputs": [],
   "source": []
  },
  {
   "cell_type": "code",
   "execution_count": null,
   "id": "45eae592",
   "metadata": {},
   "outputs": [],
   "source": []
  },
  {
   "cell_type": "code",
   "execution_count": 72,
   "id": "08323a9b",
   "metadata": {},
   "outputs": [],
   "source": [
    "from sklearn.model_selection import GridSearchCV"
   ]
  },
  {
   "cell_type": "code",
   "execution_count": 73,
   "id": "80020720",
   "metadata": {},
   "outputs": [
    {
     "name": "stdout",
     "output_type": "stream",
     "text": [
      "{'C': 0.1, 'multi_class': 'multinomial', 'penalty': 'l2'}\n",
      "0.6140735725569848\n"
     ]
    }
   ],
   "source": [
    "grid={\"C\":np.logspace(-3,3,7), \"penalty\":[\"l1\",\"l2\"],'multi_class':['auto', 'ovr', 'multinomial']}\n",
    "lg=LogisticRegression()\n",
    "lg_cv=GridSearchCV(lg,grid,cv=5)\n",
    "lg_cv.fit(x_train,y_train)\n",
    "\n",
    "print(lg_cv.best_params_)\n",
    "print(lg_cv.best_score_)"
   ]
  },
  {
   "cell_type": "code",
   "execution_count": 77,
   "id": "0a6cd834",
   "metadata": {},
   "outputs": [
    {
     "name": "stdout",
     "output_type": "stream",
     "text": [
      "{'criterion': 'gini', 'max_features': 'log2', 'n_estimators': 100}\n",
      "0.8659986459038592\n"
     ]
    }
   ],
   "source": [
    "param_grid = {'max_features': ['auto', 'srqt', 'log2'],'criterion':['gini','entropy'],'n_estimators':[1,10,100]}\n",
    "rf = RandomForestClassifier()\n",
    "gr_search = GridSearchCV(estimator =rf,param_grid = param_grid,cv=5)\n",
    "gr_search.fit(x_train, y_train)\n",
    "\n",
    "\n",
    "print(gr_search.best_params_)\n",
    "print(gr_search.best_score_)"
   ]
  },
  {
   "cell_type": "code",
   "execution_count": 75,
   "id": "66580e27",
   "metadata": {},
   "outputs": [
    {
     "name": "stdout",
     "output_type": "stream",
     "text": [
      "{'criterion': 'gini', 'max_features': 'auto', 'splitter': 'random'}\n",
      "0.8118257729632138\n"
     ]
    }
   ],
   "source": [
    "from sklearn.model_selection import GridSearchCV\n",
    "grid_param = {'criterion':['gini','entropy'],'splitter':['best', 'random'],'max_features' : ['auto', 'sqrt', 'log2']}\n",
    "gd_sr_dt= GridSearchCV(estimator=dt,param_grid=grid_param,scoring='accuracy')\n",
    "gd_sr_dt.fit(x_train,y_train)\n",
    "best_parameters =gd_sr_dt.best_params_\n",
    "print(best_parameters)\n",
    "best_result= gd_sr_dt.best_score_\n",
    "print(best_result)"
   ]
  },
  {
   "cell_type": "code",
   "execution_count": 76,
   "id": "3cf1dd12",
   "metadata": {},
   "outputs": [
    {
     "name": "stdout",
     "output_type": "stream",
     "text": [
      "{'algorithm': 'SAMME.R', 'learning_rate': 1, 'n_estimators': 100}\n",
      "0.8612186865267434\n"
     ]
    }
   ],
   "source": [
    "grid_param = {'algorithm':['SAMME', 'SAMME.R'],'n_estimators':[1,10,100],'learning_rate':[1,10,20]}\n",
    "gd_sr_ad= GridSearchCV(estimator=ad,param_grid=grid_param,scoring='accuracy')\n",
    "gd_sr_ad.fit(x_train,y_train)\n",
    "best_parameters =gd_sr_ad.best_params_\n",
    "print(best_parameters)\n",
    "best_result= gd_sr_ad.best_score_\n",
    "print(best_result)"
   ]
  },
  {
   "cell_type": "raw",
   "id": "61083018",
   "metadata": {},
   "source": [
    "parameters = {'kernel':['linear','poly','rbf'],'C':[1,10],'gamma':['scale','auto']}\n",
    "sv=SVC()\n",
    "clf=GridSearchCV(sv,parameters)\n",
    "clf.fit(x_train,y_train)\n",
    "best_parameters =clf.best_params_\n",
    "print(best_parameters)\n",
    "best_result= clf.best_score_\n",
    "print(best_result)"
   ]
  },
  {
   "cell_type": "code",
   "execution_count": null,
   "id": "9723275e",
   "metadata": {},
   "outputs": [],
   "source": []
  },
  {
   "cell_type": "code",
   "execution_count": null,
   "id": "2c09b17e",
   "metadata": {},
   "outputs": [],
   "source": []
  },
  {
   "cell_type": "code",
   "execution_count": null,
   "id": "336fe240",
   "metadata": {},
   "outputs": [],
   "source": []
  },
  {
   "cell_type": "code",
   "execution_count": 83,
   "id": "8b029c3c",
   "metadata": {},
   "outputs": [],
   "source": [
    "rf = RandomForestClassifier(criterion = 'gini', max_features = 'log2', n_estimators = 100)\n",
    "rf.fit(x_train, y_train)\n",
    "predm=rf.predict(x_test)"
   ]
  },
  {
   "cell_type": "code",
   "execution_count": 84,
   "id": "b5930bdb",
   "metadata": {},
   "outputs": [
    {
     "name": "stdout",
     "output_type": "stream",
     "text": [
      "accuracy score\n",
      "0.8827433628318584\n",
      "[[203  21]\n",
      " [ 32 196]]\n",
      "              precision    recall  f1-score   support\n",
      "\n",
      "           0       0.86      0.91      0.88       224\n",
      "           1       0.90      0.86      0.88       228\n",
      "\n",
      "    accuracy                           0.88       452\n",
      "   macro avg       0.88      0.88      0.88       452\n",
      "weighted avg       0.88      0.88      0.88       452\n",
      "\n"
     ]
    }
   ],
   "source": [
    "print('accuracy score')\n",
    "print(accuracy_score(y_test,predm))\n",
    "print(confusion_matrix(y_test,predm))\n",
    "print(classification_report(y_test,predm))"
   ]
  },
  {
   "cell_type": "code",
   "execution_count": 82,
   "id": "fe1bb84f",
   "metadata": {},
   "outputs": [],
   "source": [
    "import joblib"
   ]
  },
  {
   "cell_type": "code",
   "execution_count": 86,
   "id": "6b54e779",
   "metadata": {},
   "outputs": [
    {
     "data": {
      "text/plain": [
       "RandomForestClassifier(max_features='log2')"
      ]
     },
     "execution_count": 86,
     "metadata": {},
     "output_type": "execute_result"
    }
   ],
   "source": [
    "joblib.dump(rf,'rf_file.obj')\n",
    "\n",
    "rf_file=joblib.load('rf_file.obj')\n",
    "rf_file.fit(x_train, y_train)"
   ]
  },
  {
   "cell_type": "code",
   "execution_count": null,
   "id": "8125ce17",
   "metadata": {},
   "outputs": [],
   "source": []
  },
  {
   "cell_type": "code",
   "execution_count": null,
   "id": "89225a25",
   "metadata": {},
   "outputs": [],
   "source": []
  },
  {
   "cell_type": "code",
   "execution_count": null,
   "id": "6cd4bb84",
   "metadata": {},
   "outputs": [],
   "source": []
  },
  {
   "cell_type": "code",
   "execution_count": 87,
   "id": "2355db11",
   "metadata": {},
   "outputs": [],
   "source": [
    "from sklearn.metrics import roc_curve\n",
    "import matplotlib.pyplot as plt\n",
    "from sklearn.metrics import roc_auc_score"
   ]
  },
  {
   "cell_type": "code",
   "execution_count": 88,
   "id": "9733c3d6",
   "metadata": {},
   "outputs": [],
   "source": [
    "y_pred_prob=lg_cv.predict_proba(x_test)[:,1]"
   ]
  },
  {
   "cell_type": "code",
   "execution_count": 89,
   "id": "5fb6bd95",
   "metadata": {},
   "outputs": [
    {
     "data": {
      "text/plain": [
       "array([0.28001875, 0.3543346 , 0.61453122, 0.42360991, 0.65077236,\n",
       "       0.62994193, 0.56293141, 0.43387624, 0.50215471, 0.60155253,\n",
       "       0.66755356, 0.48790726, 0.40992263, 0.29904015, 0.47413167,\n",
       "       0.32189008, 0.61521781, 0.29703759, 0.63117686, 0.39652285,\n",
       "       0.32392933, 0.42592162, 0.4106196 , 0.35509817, 0.47500115,\n",
       "       0.63386317, 0.40794636, 0.44118888, 0.45206914, 0.56922483,\n",
       "       0.49022471, 0.60636688, 0.4709706 , 0.44758131, 0.65169642,\n",
       "       0.39975857, 0.40022506, 0.45057627, 0.52559548, 0.52246731,\n",
       "       0.55476729, 0.60986008, 0.58931315, 0.21199039, 0.59766165,\n",
       "       0.52130696, 0.6317223 , 0.58516566, 0.27313271, 0.55415408,\n",
       "       0.39951672, 0.48476691, 0.6731296 , 0.37364301, 0.50000879,\n",
       "       0.68229317, 0.47010798, 0.62149749, 0.37712976, 0.58043336,\n",
       "       0.49243528, 0.48431764, 0.55636706, 0.53187728, 0.23466044,\n",
       "       0.39286701, 0.65182989, 0.53029907, 0.56660029, 0.4619655 ,\n",
       "       0.51286104, 0.44758183, 0.47992882, 0.44815002, 0.38937322,\n",
       "       0.55424197, 0.52682731, 0.61117777, 0.40824135, 0.45026312,\n",
       "       0.67751087, 0.72028256, 0.46704481, 0.54234626, 0.43870811,\n",
       "       0.61512467, 0.47436432, 0.32921053, 0.54457824, 0.543653  ,\n",
       "       0.40009788, 0.36231621, 0.61152306, 0.46036501, 0.49483938,\n",
       "       0.54693433, 0.59519687, 0.58247102, 0.39535679, 0.41368238,\n",
       "       0.45286544, 0.4188912 , 0.39918915, 0.41222344, 0.66784126,\n",
       "       0.52062745, 0.45271269, 0.71124226, 0.6120023 , 0.37558336,\n",
       "       0.64099898, 0.40782356, 0.52970242, 0.60600747, 0.74226731,\n",
       "       0.3314309 , 0.38076507, 0.74784004, 0.62304152, 0.57433254,\n",
       "       0.4725595 , 0.51185567, 0.69396421, 0.66137454, 0.55132788,\n",
       "       0.43489941, 0.41167033, 0.34351657, 0.49928874, 0.54498611,\n",
       "       0.63772265, 0.4843437 , 0.6130926 , 0.39397891, 0.28839621,\n",
       "       0.51541769, 0.37580501, 0.66399596, 0.41586738, 0.58160579,\n",
       "       0.68055193, 0.27512234, 0.55859435, 0.46503025, 0.21140674,\n",
       "       0.55870894, 0.45459074, 0.46197824, 0.48762515, 0.63069395,\n",
       "       0.37971704, 0.75736345, 0.63419807, 0.60123129, 0.48070901,\n",
       "       0.38600853, 0.39878685, 0.42129012, 0.68992548, 0.35341688,\n",
       "       0.31303396, 0.33783243, 0.52948967, 0.63774992, 0.71352128,\n",
       "       0.52885366, 0.47722672, 0.46612657, 0.60290102, 0.51261592,\n",
       "       0.57478886, 0.60018325, 0.4091212 , 0.54777507, 0.5644699 ,\n",
       "       0.36022728, 0.69992597, 0.60156548, 0.45647742, 0.46542632,\n",
       "       0.72971537, 0.6468434 , 0.45935783, 0.63451579, 0.58525553,\n",
       "       0.47655704, 0.3535682 , 0.65401287, 0.36643519, 0.29195598,\n",
       "       0.33709875, 0.55801218, 0.5319881 , 0.56182528, 0.42526489,\n",
       "       0.53894669, 0.48598827, 0.54470334, 0.2820045 , 0.46847471,\n",
       "       0.73091456, 0.49056451, 0.67868862, 0.58934864, 0.34834126,\n",
       "       0.55404207, 0.59102342, 0.38178485, 0.44838439, 0.63882532,\n",
       "       0.36304269, 0.72101325, 0.40059191, 0.62085528, 0.41717871,\n",
       "       0.37630044, 0.46514789, 0.39166262, 0.35064505, 0.69580246,\n",
       "       0.44977411, 0.45709506, 0.27222965, 0.66179418, 0.33274338,\n",
       "       0.60582319, 0.5132296 , 0.61726142, 0.52569328, 0.61859521,\n",
       "       0.62482316, 0.69652689, 0.43141638, 0.47409714, 0.42651849,\n",
       "       0.73704038, 0.67866531, 0.70032376, 0.65218677, 0.57669257,\n",
       "       0.70385711, 0.51592075, 0.37985874, 0.65909554, 0.46517627,\n",
       "       0.42147492, 0.69270909, 0.39246608, 0.47176659, 0.37673894,\n",
       "       0.46403307, 0.47060987, 0.64618688, 0.33831639, 0.63056072,\n",
       "       0.68311456, 0.55140319, 0.74964322, 0.73501217, 0.52205495,\n",
       "       0.2614628 , 0.53970923, 0.36890058, 0.63663034, 0.62344415,\n",
       "       0.65504803, 0.43627311, 0.3019731 , 0.30546099, 0.5085921 ,\n",
       "       0.57174344, 0.64315963, 0.43216308, 0.77408193, 0.34473231,\n",
       "       0.6584504 , 0.40793084, 0.63239207, 0.65683257, 0.60158549,\n",
       "       0.65104238, 0.62243727, 0.4715321 , 0.40921643, 0.50479394,\n",
       "       0.40493245, 0.74341369, 0.60834479, 0.52315037, 0.601227  ,\n",
       "       0.50426931, 0.33408259, 0.40428567, 0.59098231, 0.48440469,\n",
       "       0.58541886, 0.59937774, 0.38238431, 0.49930538, 0.57214122,\n",
       "       0.43645676, 0.73809191, 0.3804152 , 0.33576109, 0.44571008,\n",
       "       0.56638883, 0.58647513, 0.72778257, 0.63918513, 0.50700392,\n",
       "       0.43015197, 0.66716704, 0.6305818 , 0.59090639, 0.25931585,\n",
       "       0.34073224, 0.52192188, 0.31611465, 0.56871729, 0.40680941,\n",
       "       0.4612142 , 0.42702138, 0.45227766, 0.4929035 , 0.57678443,\n",
       "       0.36085026, 0.53349324, 0.5400041 , 0.64311293, 0.37613217,\n",
       "       0.54334676, 0.56027981, 0.419728  , 0.78339935, 0.32710456,\n",
       "       0.43620326, 0.46234668, 0.52252239, 0.45221455, 0.51156466,\n",
       "       0.44589004, 0.46437033, 0.37753048, 0.44447628, 0.50137078,\n",
       "       0.67310012, 0.41170724, 0.64174779, 0.54561022, 0.6377145 ,\n",
       "       0.51652149, 0.5677365 , 0.42407242, 0.64816511, 0.38737779,\n",
       "       0.58633954, 0.40254156, 0.42687286, 0.48316946, 0.42821582,\n",
       "       0.45339691, 0.44484083, 0.62200269, 0.55579317, 0.51559739,\n",
       "       0.49103473, 0.67516399, 0.47702293, 0.50277341, 0.42921072,\n",
       "       0.45345169, 0.32290821, 0.36580521, 0.42943064, 0.60188523,\n",
       "       0.46893035, 0.43665387, 0.63498328, 0.6858923 , 0.54482191,\n",
       "       0.54892465, 0.6360018 , 0.31121008, 0.41953984, 0.45410807,\n",
       "       0.71168184, 0.68783837, 0.51623015, 0.53057411, 0.49692373,\n",
       "       0.4202812 , 0.27146331, 0.68433208, 0.29222357, 0.53268535,\n",
       "       0.3529407 , 0.60680738, 0.61690249, 0.62905431, 0.55668593,\n",
       "       0.72656896, 0.62197528, 0.52289071, 0.4979128 , 0.40377886,\n",
       "       0.51117089, 0.44772732, 0.4459659 , 0.47998762, 0.42857858,\n",
       "       0.67349108, 0.61795743, 0.42036668, 0.51913098, 0.35964405,\n",
       "       0.51423989, 0.43196409, 0.28598815, 0.45692321, 0.2899221 ,\n",
       "       0.32159508, 0.44395359, 0.68814051, 0.54507843, 0.41298856,\n",
       "       0.27102001, 0.6856569 , 0.63046518, 0.42137335, 0.63003057,\n",
       "       0.57351834, 0.41189552, 0.66135256, 0.39067128, 0.66466996,\n",
       "       0.71143245, 0.39841523, 0.52063658, 0.53133526, 0.55912918,\n",
       "       0.54157325, 0.57420909, 0.75190235, 0.31781599, 0.62529014,\n",
       "       0.56119319, 0.49710843, 0.44123494, 0.5126836 , 0.34886016,\n",
       "       0.52145492, 0.6166149 ])"
      ]
     },
     "execution_count": 89,
     "metadata": {},
     "output_type": "execute_result"
    }
   ],
   "source": [
    "y_pred_prob"
   ]
  },
  {
   "cell_type": "code",
   "execution_count": 90,
   "id": "272c9a24",
   "metadata": {},
   "outputs": [],
   "source": [
    "fpr,tpr,thresholds=roc_curve(y_test,y_pred_prob)"
   ]
  },
  {
   "cell_type": "code",
   "execution_count": 91,
   "id": "f17f8a09",
   "metadata": {},
   "outputs": [
    {
     "data": {
      "text/plain": [
       "array([0.        , 0.00446429, 0.00446429, 0.00892857, 0.00892857,\n",
       "       0.01339286, 0.01339286, 0.01785714, 0.01785714, 0.02232143,\n",
       "       0.02232143, 0.03125   , 0.03125   , 0.04464286, 0.04464286,\n",
       "       0.04910714, 0.04910714, 0.05357143, 0.05357143, 0.05803571,\n",
       "       0.05803571, 0.0625    , 0.0625    , 0.06696429, 0.06696429,\n",
       "       0.07142857, 0.07142857, 0.07589286, 0.07589286, 0.08482143,\n",
       "       0.08482143, 0.09821429, 0.09821429, 0.11160714, 0.11160714,\n",
       "       0.11607143, 0.11607143, 0.12053571, 0.12053571, 0.125     ,\n",
       "       0.125     , 0.12946429, 0.12946429, 0.13392857, 0.13392857,\n",
       "       0.14285714, 0.14285714, 0.16964286, 0.16964286, 0.17410714,\n",
       "       0.17410714, 0.18303571, 0.18303571, 0.1875    , 0.1875    ,\n",
       "       0.19196429, 0.19196429, 0.19642857, 0.19642857, 0.20089286,\n",
       "       0.20089286, 0.20982143, 0.20982143, 0.21428571, 0.21428571,\n",
       "       0.21875   , 0.21875   , 0.23660714, 0.23660714, 0.24107143,\n",
       "       0.24107143, 0.24553571, 0.24553571, 0.26785714, 0.26785714,\n",
       "       0.27232143, 0.27232143, 0.27678571, 0.27678571, 0.29464286,\n",
       "       0.29464286, 0.29910714, 0.29910714, 0.30357143, 0.30357143,\n",
       "       0.3125    , 0.3125    , 0.31696429, 0.31696429, 0.32142857,\n",
       "       0.32142857, 0.32589286, 0.32589286, 0.33482143, 0.33482143,\n",
       "       0.34821429, 0.34821429, 0.35714286, 0.35714286, 0.37946429,\n",
       "       0.37946429, 0.38392857, 0.38392857, 0.38839286, 0.38839286,\n",
       "       0.39285714, 0.39285714, 0.39732143, 0.39732143, 0.40178571,\n",
       "       0.40178571, 0.40625   , 0.40625   , 0.41071429, 0.41071429,\n",
       "       0.45089286, 0.45089286, 0.45535714, 0.45535714, 0.46875   ,\n",
       "       0.46875   , 0.47321429, 0.47321429, 0.47767857, 0.47767857,\n",
       "       0.49107143, 0.49107143, 0.49553571, 0.49553571, 0.5       ,\n",
       "       0.5       , 0.51339286, 0.51339286, 0.52678571, 0.52678571,\n",
       "       0.54017857, 0.54017857, 0.54910714, 0.54910714, 0.55357143,\n",
       "       0.55357143, 0.55803571, 0.55803571, 0.5625    , 0.5625    ,\n",
       "       0.57589286, 0.57589286, 0.58035714, 0.58035714, 0.58482143,\n",
       "       0.58482143, 0.59821429, 0.59821429, 0.60267857, 0.60267857,\n",
       "       0.60714286, 0.60714286, 0.61160714, 0.61160714, 0.62053571,\n",
       "       0.62053571, 0.625     , 0.625     , 0.62946429, 0.62946429,\n",
       "       0.63392857, 0.63392857, 0.63839286, 0.63839286, 0.64285714,\n",
       "       0.64285714, 0.65625   , 0.65625   , 0.67410714, 0.67410714,\n",
       "       0.70089286, 0.70089286, 0.70535714, 0.70535714, 0.71428571,\n",
       "       0.71428571, 0.71875   , 0.71875   , 0.72321429, 0.72321429,\n",
       "       0.72767857, 0.72767857, 0.73214286, 0.73214286, 0.74107143,\n",
       "       0.74107143, 0.75446429, 0.75446429, 0.76339286, 0.76339286,\n",
       "       0.76785714, 0.76785714, 0.79017857, 0.79017857, 0.79910714,\n",
       "       0.79910714, 0.80803571, 0.80803571, 0.81696429, 0.81696429,\n",
       "       0.84375   , 0.84375   , 0.84821429, 0.84821429, 0.86160714,\n",
       "       0.86160714, 0.88392857, 0.88392857, 0.90625   , 0.90625   ,\n",
       "       0.92410714, 0.92410714, 0.95535714, 0.95535714, 0.95982143,\n",
       "       0.95982143, 0.96875   , 0.96875   , 0.97321429, 0.97321429,\n",
       "       1.        ])"
      ]
     },
     "execution_count": 91,
     "metadata": {},
     "output_type": "execute_result"
    }
   ],
   "source": [
    "fpr"
   ]
  },
  {
   "cell_type": "code",
   "execution_count": 92,
   "id": "7a233a43",
   "metadata": {},
   "outputs": [
    {
     "data": {
      "text/plain": [
       "array([0.        , 0.        , 0.00438596, 0.00438596, 0.00877193,\n",
       "       0.00877193, 0.03070175, 0.03070175, 0.03508772, 0.03508772,\n",
       "       0.05701754, 0.05701754, 0.06140351, 0.06140351, 0.07017544,\n",
       "       0.07017544, 0.08333333, 0.08333333, 0.09210526, 0.09210526,\n",
       "       0.09649123, 0.09649123, 0.10526316, 0.10526316, 0.15350877,\n",
       "       0.15350877, 0.1622807 , 0.1622807 , 0.17105263, 0.17105263,\n",
       "       0.1754386 , 0.1754386 , 0.17982456, 0.17982456, 0.18421053,\n",
       "       0.18421053, 0.18859649, 0.18859649, 0.19736842, 0.19736842,\n",
       "       0.21491228, 0.21491228, 0.21929825, 0.21929825, 0.23245614,\n",
       "       0.23245614, 0.24122807, 0.24122807, 0.25438596, 0.25438596,\n",
       "       0.26754386, 0.26754386, 0.28070175, 0.28070175, 0.28508772,\n",
       "       0.28508772, 0.28947368, 0.28947368, 0.29385965, 0.29385965,\n",
       "       0.30701754, 0.30701754, 0.31578947, 0.31578947, 0.3245614 ,\n",
       "       0.3245614 , 0.32894737, 0.32894737, 0.33333333, 0.33333333,\n",
       "       0.3377193 , 0.3377193 , 0.35087719, 0.35087719, 0.35526316,\n",
       "       0.35526316, 0.35964912, 0.35964912, 0.36403509, 0.36403509,\n",
       "       0.37280702, 0.37280702, 0.39035088, 0.39035088, 0.40350877,\n",
       "       0.40350877, 0.4122807 , 0.4122807 , 0.41666667, 0.41666667,\n",
       "       0.42982456, 0.42982456, 0.44298246, 0.44298246, 0.45614035,\n",
       "       0.45614035, 0.46929825, 0.46929825, 0.48684211, 0.48684211,\n",
       "       0.51315789, 0.51315789, 0.53070175, 0.53070175, 0.53508772,\n",
       "       0.53508772, 0.55701754, 0.55701754, 0.56140351, 0.56140351,\n",
       "       0.57017544, 0.57017544, 0.58333333, 0.58333333, 0.59649123,\n",
       "       0.59649123, 0.60087719, 0.60087719, 0.60526316, 0.60526316,\n",
       "       0.60964912, 0.60964912, 0.61403509, 0.61403509, 0.61842105,\n",
       "       0.61842105, 0.63596491, 0.63596491, 0.64912281, 0.64912281,\n",
       "       0.65789474, 0.65789474, 0.6622807 , 0.6622807 , 0.66666667,\n",
       "       0.66666667, 0.67105263, 0.67105263, 0.6754386 , 0.6754386 ,\n",
       "       0.67982456, 0.67982456, 0.68859649, 0.68859649, 0.69298246,\n",
       "       0.69298246, 0.69736842, 0.69736842, 0.70175439, 0.70175439,\n",
       "       0.71052632, 0.71052632, 0.71491228, 0.71491228, 0.72368421,\n",
       "       0.72368421, 0.73684211, 0.73684211, 0.74122807, 0.74122807,\n",
       "       0.75      , 0.75      , 0.75438596, 0.75438596, 0.77192982,\n",
       "       0.77192982, 0.77631579, 0.77631579, 0.78070175, 0.78070175,\n",
       "       0.78508772, 0.78508772, 0.80263158, 0.80263158, 0.80701754,\n",
       "       0.80701754, 0.81578947, 0.81578947, 0.8377193 , 0.8377193 ,\n",
       "       0.84210526, 0.84210526, 0.85087719, 0.85087719, 0.85526316,\n",
       "       0.85526316, 0.85964912, 0.85964912, 0.86403509, 0.86403509,\n",
       "       0.87280702, 0.87280702, 0.87719298, 0.87719298, 0.89035088,\n",
       "       0.89035088, 0.89473684, 0.89473684, 0.89912281, 0.89912281,\n",
       "       0.91666667, 0.91666667, 0.92982456, 0.92982456, 0.93421053,\n",
       "       0.93421053, 0.94736842, 0.94736842, 0.95614035, 0.95614035,\n",
       "       0.96052632, 0.96052632, 0.96491228, 0.96491228, 0.97368421,\n",
       "       0.97368421, 0.97807018, 0.97807018, 0.98684211, 0.98684211,\n",
       "       0.99122807, 0.99122807, 0.99561404, 0.99561404, 1.        ,\n",
       "       1.        ])"
      ]
     },
     "execution_count": 92,
     "metadata": {},
     "output_type": "execute_result"
    }
   ],
   "source": [
    "tpr"
   ]
  },
  {
   "cell_type": "code",
   "execution_count": 93,
   "id": "9c94bd9b",
   "metadata": {},
   "outputs": [
    {
     "data": {
      "text/plain": [
       "array([1.78339935, 0.78339935, 0.77408193, 0.75736345, 0.75190235,\n",
       "       0.74964322, 0.73704038, 0.73501217, 0.73091456, 0.72971537,\n",
       "       0.71352128, 0.71143245, 0.71124226, 0.69992597, 0.69580246,\n",
       "       0.69396421, 0.68814051, 0.68783837, 0.6856569 , 0.68433208,\n",
       "       0.68311456, 0.68229317, 0.67868862, 0.67866531, 0.66179418,\n",
       "       0.66137454, 0.65909554, 0.6584504 , 0.65504803, 0.65218677,\n",
       "       0.65182989, 0.65077236, 0.64816511, 0.64315963, 0.64311293,\n",
       "       0.64174779, 0.64099898, 0.63918513, 0.63774992, 0.63772265,\n",
       "       0.63498328, 0.63451579, 0.63419807, 0.63386317, 0.63117686,\n",
       "       0.6305818 , 0.63046518, 0.62344415, 0.62200269, 0.62197528,\n",
       "       0.61859521, 0.61726142, 0.61521781, 0.61512467, 0.61453122,\n",
       "       0.6130926 , 0.6120023 , 0.61152306, 0.61117777, 0.60986008,\n",
       "       0.60636688, 0.60582319, 0.60188523, 0.60158549, 0.60155253,\n",
       "       0.60123129, 0.601227  , 0.59519687, 0.59102342, 0.59098231,\n",
       "       0.59090639, 0.58934864, 0.58633954, 0.58160579, 0.58043336,\n",
       "       0.57678443, 0.57669257, 0.57478886, 0.57433254, 0.57174344,\n",
       "       0.56871729, 0.5677365 , 0.56293141, 0.56182528, 0.55912918,\n",
       "       0.55859435, 0.55668593, 0.55636706, 0.55579317, 0.55476729,\n",
       "       0.55404207, 0.55140319, 0.54777507, 0.54561022, 0.54482191,\n",
       "       0.543653  , 0.54157325, 0.53970923, 0.5319881 , 0.52970242,\n",
       "       0.52315037, 0.52289071, 0.52192188, 0.52145492, 0.52130696,\n",
       "       0.52063658, 0.51592075, 0.51559739, 0.51541769, 0.51423989,\n",
       "       0.51286104, 0.5126836 , 0.51156466, 0.51117089, 0.50479394,\n",
       "       0.49710843, 0.49692373, 0.49483938, 0.4929035 , 0.49056451,\n",
       "       0.49022471, 0.48790726, 0.48762515, 0.48598827, 0.48476691,\n",
       "       0.48431764, 0.47992882, 0.47722672, 0.47500115, 0.47436432,\n",
       "       0.47409714, 0.4715321 , 0.4709706 , 0.46893035, 0.46847471,\n",
       "       0.46542632, 0.46517627, 0.46503025, 0.46437033, 0.46403307,\n",
       "       0.46234668, 0.46197824, 0.4612142 , 0.46036501, 0.45935783,\n",
       "       0.45647742, 0.45459074, 0.45410807, 0.45345169, 0.45339691,\n",
       "       0.45271269, 0.45206914, 0.45057627, 0.45026312, 0.44838439,\n",
       "       0.44815002, 0.44758131, 0.4459659 , 0.44589004, 0.44484083,\n",
       "       0.44395359, 0.44123494, 0.44118888, 0.43870811, 0.43620326,\n",
       "       0.43489941, 0.43387624, 0.43216308, 0.43196409, 0.43141638,\n",
       "       0.43015197, 0.42857858, 0.42651849, 0.42360991, 0.42147492,\n",
       "       0.41953984, 0.41717871, 0.41586738, 0.41170724, 0.4106196 ,\n",
       "       0.40992263, 0.40921643, 0.40824135, 0.40794636, 0.40793084,\n",
       "       0.40782356, 0.40680941, 0.40493245, 0.40428567, 0.40254156,\n",
       "       0.40022506, 0.39951672, 0.39918915, 0.39841523, 0.39397891,\n",
       "       0.39286701, 0.39246608, 0.38600853, 0.38238431, 0.38076507,\n",
       "       0.37753048, 0.37673894, 0.37580501, 0.37364301, 0.36890058,\n",
       "       0.36022728, 0.3543346 , 0.3535682 , 0.3529407 , 0.34834126,\n",
       "       0.34473231, 0.33709875, 0.33576109, 0.32710456, 0.32290821,\n",
       "       0.31611465, 0.31303396, 0.29195598, 0.28839621, 0.28598815,\n",
       "       0.2820045 , 0.27512234, 0.27313271, 0.27222965, 0.27146331,\n",
       "       0.21140674])"
      ]
     },
     "execution_count": 93,
     "metadata": {},
     "output_type": "execute_result"
    }
   ],
   "source": [
    "thresholds"
   ]
  },
  {
   "cell_type": "code",
   "execution_count": 102,
   "id": "ae89820b",
   "metadata": {},
   "outputs": [
    {
     "data": {
      "image/png": "[encoded data removed]",
      "text/plain": [
       "<Figure size 432x288 with 1 Axes>"
      ]
     },
     "metadata": {
      "needs_background": "light"
     },
     "output_type": "display_data"
    }
   ],
   "source": [
    "plt.plot([0,1],[0,1],'k--')\n",
    "plt.plot(fpr,tpr)\n",
    "plt.xlabel('1')\n",
    "plt.ylabel('0')\n",
    "plt.title('RandomForest')\n",
    "plt.show()"
   ]
  },
  {
   "cell_type": "markdown",
   "id": "dbe7e058",
   "metadata": {},
   "source": [
    "AUR-ROC Curve for RandomForestClassifier"
   ]
  },
  {
   "cell_type": "code",
   "execution_count": 99,
   "id": "4db8578d",
   "metadata": {},
   "outputs": [],
   "source": [
    "auc_score=roc_auc_score(y_test,p)"
   ]
  },
  {
   "cell_type": "code",
   "execution_count": 100,
   "id": "48454b32",
   "metadata": {},
   "outputs": [
    {
     "name": "stdout",
     "output_type": "stream",
     "text": [
      "0.867559523809524\n"
     ]
    }
   ],
   "source": [
    "print(auc_score)"
   ]
  },
  {
   "cell_type": "code",
   "execution_count": null,
   "id": "bd7a96f8",
   "metadata": {},
   "outputs": [],
   "source": []
  }
 ],
 "metadata": {
  "kernelspec": {
   "display_name": "Python 3",
   "language": "python",
   "name": "python3"
  },
  "language_info": {
   "codemirror_mode": {
    "name": "ipython",
    "version": 3
   },
   "file_extension": ".py",
   "mimetype": "text/x-python",
   "name": "python",
   "nbconvert_exporter": "python",
   "pygments_lexer": "ipython3",
   "version": "3.8.8"
  }
 },
 "nbformat": 4,
 "nbformat_minor": 5
}
