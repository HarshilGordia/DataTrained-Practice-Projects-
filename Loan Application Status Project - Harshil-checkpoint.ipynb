{
 "cells": [
  {
   "cell_type": "code",
   "execution_count": 2,
   "id": "80e0f6c2",
   "metadata": {},
   "outputs": [],
   "source": [
    "import numpy as np\n",
    "import pandas as pd\n",
    "import seaborn as sns\n",
    "import matplotlib.pyplot as plt\n",
    "import warnings \n",
    "warnings.filterwarnings('ignore')"
   ]
  },
  {
   "cell_type": "code",
   "execution_count": 3,
   "id": "25ce54fb",
   "metadata": {},
   "outputs": [
    {
     "data": {
      "text/html": [
       "<div>\n",
       "<style scoped>\n",
       "    .dataframe tbody tr th:only-of-type {\n",
       "        vertical-align: middle;\n",
       "    }\n",
       "\n",
       "    .dataframe tbody tr th {\n",
       "        vertical-align: top;\n",
       "    }\n",
       "\n",
       "    .dataframe thead th {\n",
       "        text-align: right;\n",
       "    }\n",
       "</style>\n",
       "<table border=\"1\" class=\"dataframe\">\n",
       "  <thead>\n",
       "    <tr style=\"text-align: right;\">\n",
       "      <th></th>\n",
       "      <th>Loan_ID</th>\n",
       "      <th>Gender</th>\n",
       "      <th>Married</th>\n",
       "      <th>Dependents</th>\n",
       "      <th>Education</th>\n",
       "      <th>Self_Employed</th>\n",
       "      <th>ApplicantIncome</th>\n",
       "      <th>CoapplicantIncome</th>\n",
       "      <th>LoanAmount</th>\n",
       "      <th>Loan_Amount_Term</th>\n",
       "      <th>Credit_History</th>\n",
       "      <th>Property_Area</th>\n",
       "      <th>Loan_Status</th>\n",
       "    </tr>\n",
       "  </thead>\n",
       "  <tbody>\n",
       "    <tr>\n",
       "      <th>0</th>\n",
       "      <td>LP001002</td>\n",
       "      <td>Male</td>\n",
       "      <td>No</td>\n",
       "      <td>0</td>\n",
       "      <td>Graduate</td>\n",
       "      <td>No</td>\n",
       "      <td>5849</td>\n",
       "      <td>0.0</td>\n",
       "      <td>NaN</td>\n",
       "      <td>360.0</td>\n",
       "      <td>1.0</td>\n",
       "      <td>Urban</td>\n",
       "      <td>Y</td>\n",
       "    </tr>\n",
       "    <tr>\n",
       "      <th>1</th>\n",
       "      <td>LP001003</td>\n",
       "      <td>Male</td>\n",
       "      <td>Yes</td>\n",
       "      <td>1</td>\n",
       "      <td>Graduate</td>\n",
       "      <td>No</td>\n",
       "      <td>4583</td>\n",
       "      <td>1508.0</td>\n",
       "      <td>128.0</td>\n",
       "      <td>360.0</td>\n",
       "      <td>1.0</td>\n",
       "      <td>Rural</td>\n",
       "      <td>N</td>\n",
       "    </tr>\n",
       "    <tr>\n",
       "      <th>2</th>\n",
       "      <td>LP001005</td>\n",
       "      <td>Male</td>\n",
       "      <td>Yes</td>\n",
       "      <td>0</td>\n",
       "      <td>Graduate</td>\n",
       "      <td>Yes</td>\n",
       "      <td>3000</td>\n",
       "      <td>0.0</td>\n",
       "      <td>66.0</td>\n",
       "      <td>360.0</td>\n",
       "      <td>1.0</td>\n",
       "      <td>Urban</td>\n",
       "      <td>Y</td>\n",
       "    </tr>\n",
       "    <tr>\n",
       "      <th>3</th>\n",
       "      <td>LP001006</td>\n",
       "      <td>Male</td>\n",
       "      <td>Yes</td>\n",
       "      <td>0</td>\n",
       "      <td>Not Graduate</td>\n",
       "      <td>No</td>\n",
       "      <td>2583</td>\n",
       "      <td>2358.0</td>\n",
       "      <td>120.0</td>\n",
       "      <td>360.0</td>\n",
       "      <td>1.0</td>\n",
       "      <td>Urban</td>\n",
       "      <td>Y</td>\n",
       "    </tr>\n",
       "    <tr>\n",
       "      <th>4</th>\n",
       "      <td>LP001008</td>\n",
       "      <td>Male</td>\n",
       "      <td>No</td>\n",
       "      <td>0</td>\n",
       "      <td>Graduate</td>\n",
       "      <td>No</td>\n",
       "      <td>6000</td>\n",
       "      <td>0.0</td>\n",
       "      <td>141.0</td>\n",
       "      <td>360.0</td>\n",
       "      <td>1.0</td>\n",
       "      <td>Urban</td>\n",
       "      <td>Y</td>\n",
       "    </tr>\n",
       "  </tbody>\n",
       "</table>\n",
       "</div>"
      ],
      "text/plain": [
       "    Loan_ID Gender Married Dependents     Education Self_Employed  \\\n",
       "0  LP001002   Male      No          0      Graduate            No   \n",
       "1  LP001003   Male     Yes          1      Graduate            No   \n",
       "2  LP001005   Male     Yes          0      Graduate           Yes   \n",
       "3  LP001006   Male     Yes          0  Not Graduate            No   \n",
       "4  LP001008   Male      No          0      Graduate            No   \n",
       "\n",
       "   ApplicantIncome  CoapplicantIncome  LoanAmount  Loan_Amount_Term  \\\n",
       "0             5849                0.0         NaN             360.0   \n",
       "1             4583             1508.0       128.0             360.0   \n",
       "2             3000                0.0        66.0             360.0   \n",
       "3             2583             2358.0       120.0             360.0   \n",
       "4             6000                0.0       141.0             360.0   \n",
       "\n",
       "   Credit_History Property_Area Loan_Status  \n",
       "0             1.0         Urban           Y  \n",
       "1             1.0         Rural           N  \n",
       "2             1.0         Urban           Y  \n",
       "3             1.0         Urban           Y  \n",
       "4             1.0         Urban           Y  "
      ]
     },
     "execution_count": 3,
     "metadata": {},
     "output_type": "execute_result"
    }
   ],
   "source": [
    "df=pd.read_csv('loan_status.csv')\n",
    "df.head()"
   ]
  },
  {
   "cell_type": "code",
   "execution_count": 4,
   "id": "95c61d1f",
   "metadata": {},
   "outputs": [
    {
     "name": "stdout",
     "output_type": "stream",
     "text": [
      "<class 'pandas.core.frame.DataFrame'>\n",
      "RangeIndex: 614 entries, 0 to 613\n",
      "Data columns (total 13 columns):\n",
      " #   Column             Non-Null Count  Dtype  \n",
      "---  ------             --------------  -----  \n",
      " 0   Loan_ID            614 non-null    object \n",
      " 1   Gender             601 non-null    object \n",
      " 2   Married            611 non-null    object \n",
      " 3   Dependents         599 non-null    object \n",
      " 4   Education          614 non-null    object \n",
      " 5   Self_Employed      582 non-null    object \n",
      " 6   ApplicantIncome    614 non-null    int64  \n",
      " 7   CoapplicantIncome  614 non-null    float64\n",
      " 8   LoanAmount         592 non-null    float64\n",
      " 9   Loan_Amount_Term   600 non-null    float64\n",
      " 10  Credit_History     564 non-null    float64\n",
      " 11  Property_Area      614 non-null    object \n",
      " 12  Loan_Status        614 non-null    object \n",
      "dtypes: float64(4), int64(1), object(8)\n",
      "memory usage: 62.5+ KB\n"
     ]
    }
   ],
   "source": [
    "df.info()"
   ]
  },
  {
   "cell_type": "code",
   "execution_count": 5,
   "id": "52dfad70",
   "metadata": {},
   "outputs": [
    {
     "data": {
      "text/plain": [
       "Loan_ID               0\n",
       "Gender               13\n",
       "Married               3\n",
       "Dependents           15\n",
       "Education             0\n",
       "Self_Employed        32\n",
       "ApplicantIncome       0\n",
       "CoapplicantIncome     0\n",
       "LoanAmount           22\n",
       "Loan_Amount_Term     14\n",
       "Credit_History       50\n",
       "Property_Area         0\n",
       "Loan_Status           0\n",
       "dtype: int64"
      ]
     },
     "execution_count": 5,
     "metadata": {},
     "output_type": "execute_result"
    }
   ],
   "source": [
    "df.isna().sum()"
   ]
  },
  {
   "cell_type": "code",
   "execution_count": 6,
   "id": "9636ec1e",
   "metadata": {},
   "outputs": [],
   "source": [
    "df ['LoanAmount'] = df ['LoanAmount'].fillna(df['LoanAmount'].mean())\n",
    "df ['Loan_Amount_Term'] = df ['Loan_Amount_Term'].fillna(df['Loan_Amount_Term'].mean())\n",
    "df ['Credit_History'] = df ['Credit_History'].fillna(df['Credit_History'].mean())"
   ]
  },
  {
   "cell_type": "code",
   "execution_count": 7,
   "id": "7f0a407d",
   "metadata": {},
   "outputs": [],
   "source": [
    "df ['Gender'] = df ['Gender'].fillna(df['Gender'].mode()[0])\n",
    "df ['Married'] = df ['Married'].fillna(df['Married'].mode()[0])\n",
    "df ['Dependents'] = df ['Dependents'].fillna(df['Dependents'].mode()[0])\n",
    "df ['Self_Employed'] = df ['Self_Employed'].fillna(df['Self_Employed'].mode()[0])"
   ]
  },
  {
   "cell_type": "code",
   "execution_count": 8,
   "id": "b27ef19e",
   "metadata": {},
   "outputs": [
    {
     "data": {
      "text/plain": [
       "Loan_ID              0\n",
       "Gender               0\n",
       "Married              0\n",
       "Dependents           0\n",
       "Education            0\n",
       "Self_Employed        0\n",
       "ApplicantIncome      0\n",
       "CoapplicantIncome    0\n",
       "LoanAmount           0\n",
       "Loan_Amount_Term     0\n",
       "Credit_History       0\n",
       "Property_Area        0\n",
       "Loan_Status          0\n",
       "dtype: int64"
      ]
     },
     "execution_count": 8,
     "metadata": {},
     "output_type": "execute_result"
    }
   ],
   "source": [
    "df.isna().sum()"
   ]
  },
  {
   "cell_type": "code",
   "execution_count": 9,
   "id": "07cb9186",
   "metadata": {},
   "outputs": [
    {
     "data": {
      "text/plain": [
       "<AxesSubplot:>"
      ]
     },
     "execution_count": 9,
     "metadata": {},
     "output_type": "execute_result"
    },
    {
     "data": {
      "image/png": "[encoded data removed]",
      "text/plain": [
       "<Figure size 432x288 with 2 Axes>"
      ]
     },
     "metadata": {
      "needs_background": "light"
     },
     "output_type": "display_data"
    }
   ],
   "source": [
    "sns.heatmap(df.isna())"
   ]
  },
  {
   "cell_type": "markdown",
   "id": "47816ced",
   "metadata": {},
   "source": [
    "There are no null values now."
   ]
  },
  {
   "cell_type": "code",
   "execution_count": 10,
   "id": "717f81fb",
   "metadata": {},
   "outputs": [],
   "source": [
    "df.drop(['Loan_ID'],axis=1,inplace=True)"
   ]
  },
  {
   "cell_type": "code",
   "execution_count": 11,
   "id": "0560aadf",
   "metadata": {},
   "outputs": [
    {
     "data": {
      "text/plain": [
       "['Gender',\n",
       " 'Married',\n",
       " 'Dependents',\n",
       " 'Education',\n",
       " 'Self_Employed',\n",
       " 'Property_Area',\n",
       " 'Loan_Status']"
      ]
     },
     "execution_count": 11,
     "metadata": {},
     "output_type": "execute_result"
    }
   ],
   "source": [
    "cat = [col for col in df.columns if df[col].dtype=='O' ]\n",
    "cat"
   ]
  },
  {
   "cell_type": "code",
   "execution_count": 12,
   "id": "70b2aed1",
   "metadata": {},
   "outputs": [
    {
     "data": {
      "text/html": [
       "<div>\n",
       "<style scoped>\n",
       "    .dataframe tbody tr th:only-of-type {\n",
       "        vertical-align: middle;\n",
       "    }\n",
       "\n",
       "    .dataframe tbody tr th {\n",
       "        vertical-align: top;\n",
       "    }\n",
       "\n",
       "    .dataframe thead th {\n",
       "        text-align: right;\n",
       "    }\n",
       "</style>\n",
       "<table border=\"1\" class=\"dataframe\">\n",
       "  <thead>\n",
       "    <tr style=\"text-align: right;\">\n",
       "      <th></th>\n",
       "      <th>Gender</th>\n",
       "      <th>Married</th>\n",
       "      <th>Dependents</th>\n",
       "      <th>Education</th>\n",
       "      <th>Self_Employed</th>\n",
       "      <th>ApplicantIncome</th>\n",
       "      <th>CoapplicantIncome</th>\n",
       "      <th>LoanAmount</th>\n",
       "      <th>Loan_Amount_Term</th>\n",
       "      <th>Credit_History</th>\n",
       "      <th>Property_Area</th>\n",
       "      <th>Loan_Status</th>\n",
       "    </tr>\n",
       "  </thead>\n",
       "  <tbody>\n",
       "    <tr>\n",
       "      <th>0</th>\n",
       "      <td>Male</td>\n",
       "      <td>No</td>\n",
       "      <td>0</td>\n",
       "      <td>Graduate</td>\n",
       "      <td>No</td>\n",
       "      <td>5849</td>\n",
       "      <td>0.0</td>\n",
       "      <td>146.412162</td>\n",
       "      <td>360.0</td>\n",
       "      <td>1.0</td>\n",
       "      <td>Urban</td>\n",
       "      <td>Y</td>\n",
       "    </tr>\n",
       "    <tr>\n",
       "      <th>1</th>\n",
       "      <td>Male</td>\n",
       "      <td>Yes</td>\n",
       "      <td>1</td>\n",
       "      <td>Graduate</td>\n",
       "      <td>No</td>\n",
       "      <td>4583</td>\n",
       "      <td>1508.0</td>\n",
       "      <td>128.000000</td>\n",
       "      <td>360.0</td>\n",
       "      <td>1.0</td>\n",
       "      <td>Rural</td>\n",
       "      <td>N</td>\n",
       "    </tr>\n",
       "    <tr>\n",
       "      <th>2</th>\n",
       "      <td>Male</td>\n",
       "      <td>Yes</td>\n",
       "      <td>0</td>\n",
       "      <td>Graduate</td>\n",
       "      <td>Yes</td>\n",
       "      <td>3000</td>\n",
       "      <td>0.0</td>\n",
       "      <td>66.000000</td>\n",
       "      <td>360.0</td>\n",
       "      <td>1.0</td>\n",
       "      <td>Urban</td>\n",
       "      <td>Y</td>\n",
       "    </tr>\n",
       "    <tr>\n",
       "      <th>3</th>\n",
       "      <td>Male</td>\n",
       "      <td>Yes</td>\n",
       "      <td>0</td>\n",
       "      <td>Not Graduate</td>\n",
       "      <td>No</td>\n",
       "      <td>2583</td>\n",
       "      <td>2358.0</td>\n",
       "      <td>120.000000</td>\n",
       "      <td>360.0</td>\n",
       "      <td>1.0</td>\n",
       "      <td>Urban</td>\n",
       "      <td>Y</td>\n",
       "    </tr>\n",
       "    <tr>\n",
       "      <th>4</th>\n",
       "      <td>Male</td>\n",
       "      <td>No</td>\n",
       "      <td>0</td>\n",
       "      <td>Graduate</td>\n",
       "      <td>No</td>\n",
       "      <td>6000</td>\n",
       "      <td>0.0</td>\n",
       "      <td>141.000000</td>\n",
       "      <td>360.0</td>\n",
       "      <td>1.0</td>\n",
       "      <td>Urban</td>\n",
       "      <td>Y</td>\n",
       "    </tr>\n",
       "    <tr>\n",
       "      <th>...</th>\n",
       "      <td>...</td>\n",
       "      <td>...</td>\n",
       "      <td>...</td>\n",
       "      <td>...</td>\n",
       "      <td>...</td>\n",
       "      <td>...</td>\n",
       "      <td>...</td>\n",
       "      <td>...</td>\n",
       "      <td>...</td>\n",
       "      <td>...</td>\n",
       "      <td>...</td>\n",
       "      <td>...</td>\n",
       "    </tr>\n",
       "    <tr>\n",
       "      <th>609</th>\n",
       "      <td>Female</td>\n",
       "      <td>No</td>\n",
       "      <td>0</td>\n",
       "      <td>Graduate</td>\n",
       "      <td>No</td>\n",
       "      <td>2900</td>\n",
       "      <td>0.0</td>\n",
       "      <td>71.000000</td>\n",
       "      <td>360.0</td>\n",
       "      <td>1.0</td>\n",
       "      <td>Rural</td>\n",
       "      <td>Y</td>\n",
       "    </tr>\n",
       "    <tr>\n",
       "      <th>610</th>\n",
       "      <td>Male</td>\n",
       "      <td>Yes</td>\n",
       "      <td>3+</td>\n",
       "      <td>Graduate</td>\n",
       "      <td>No</td>\n",
       "      <td>4106</td>\n",
       "      <td>0.0</td>\n",
       "      <td>40.000000</td>\n",
       "      <td>180.0</td>\n",
       "      <td>1.0</td>\n",
       "      <td>Rural</td>\n",
       "      <td>Y</td>\n",
       "    </tr>\n",
       "    <tr>\n",
       "      <th>611</th>\n",
       "      <td>Male</td>\n",
       "      <td>Yes</td>\n",
       "      <td>1</td>\n",
       "      <td>Graduate</td>\n",
       "      <td>No</td>\n",
       "      <td>8072</td>\n",
       "      <td>240.0</td>\n",
       "      <td>253.000000</td>\n",
       "      <td>360.0</td>\n",
       "      <td>1.0</td>\n",
       "      <td>Urban</td>\n",
       "      <td>Y</td>\n",
       "    </tr>\n",
       "    <tr>\n",
       "      <th>612</th>\n",
       "      <td>Male</td>\n",
       "      <td>Yes</td>\n",
       "      <td>2</td>\n",
       "      <td>Graduate</td>\n",
       "      <td>No</td>\n",
       "      <td>7583</td>\n",
       "      <td>0.0</td>\n",
       "      <td>187.000000</td>\n",
       "      <td>360.0</td>\n",
       "      <td>1.0</td>\n",
       "      <td>Urban</td>\n",
       "      <td>Y</td>\n",
       "    </tr>\n",
       "    <tr>\n",
       "      <th>613</th>\n",
       "      <td>Female</td>\n",
       "      <td>No</td>\n",
       "      <td>0</td>\n",
       "      <td>Graduate</td>\n",
       "      <td>Yes</td>\n",
       "      <td>4583</td>\n",
       "      <td>0.0</td>\n",
       "      <td>133.000000</td>\n",
       "      <td>360.0</td>\n",
       "      <td>0.0</td>\n",
       "      <td>Semiurban</td>\n",
       "      <td>N</td>\n",
       "    </tr>\n",
       "  </tbody>\n",
       "</table>\n",
       "<p>614 rows × 12 columns</p>\n",
       "</div>"
      ],
      "text/plain": [
       "     Gender Married Dependents     Education Self_Employed  ApplicantIncome  \\\n",
       "0      Male      No          0      Graduate            No             5849   \n",
       "1      Male     Yes          1      Graduate            No             4583   \n",
       "2      Male     Yes          0      Graduate           Yes             3000   \n",
       "3      Male     Yes          0  Not Graduate            No             2583   \n",
       "4      Male      No          0      Graduate            No             6000   \n",
       "..      ...     ...        ...           ...           ...              ...   \n",
       "609  Female      No          0      Graduate            No             2900   \n",
       "610    Male     Yes         3+      Graduate            No             4106   \n",
       "611    Male     Yes          1      Graduate            No             8072   \n",
       "612    Male     Yes          2      Graduate            No             7583   \n",
       "613  Female      No          0      Graduate           Yes             4583   \n",
       "\n",
       "     CoapplicantIncome  LoanAmount  Loan_Amount_Term  Credit_History  \\\n",
       "0                  0.0  146.412162             360.0             1.0   \n",
       "1               1508.0  128.000000             360.0             1.0   \n",
       "2                  0.0   66.000000             360.0             1.0   \n",
       "3               2358.0  120.000000             360.0             1.0   \n",
       "4                  0.0  141.000000             360.0             1.0   \n",
       "..                 ...         ...               ...             ...   \n",
       "609                0.0   71.000000             360.0             1.0   \n",
       "610                0.0   40.000000             180.0             1.0   \n",
       "611              240.0  253.000000             360.0             1.0   \n",
       "612                0.0  187.000000             360.0             1.0   \n",
       "613                0.0  133.000000             360.0             0.0   \n",
       "\n",
       "    Property_Area Loan_Status  \n",
       "0           Urban           Y  \n",
       "1           Rural           N  \n",
       "2           Urban           Y  \n",
       "3           Urban           Y  \n",
       "4           Urban           Y  \n",
       "..            ...         ...  \n",
       "609         Rural           Y  \n",
       "610         Rural           Y  \n",
       "611         Urban           Y  \n",
       "612         Urban           Y  \n",
       "613     Semiurban           N  \n",
       "\n",
       "[614 rows x 12 columns]"
      ]
     },
     "execution_count": 12,
     "metadata": {},
     "output_type": "execute_result"
    }
   ],
   "source": [
    "df"
   ]
  },
  {
   "cell_type": "code",
   "execution_count": 13,
   "id": "2204fd12",
   "metadata": {
    "scrolled": true
   },
   "outputs": [
    {
     "data": {
      "image/png": "[encoded data removed]",
      "text/plain": [
       "<Figure size 432x288 with 1 Axes>"
      ]
     },
     "metadata": {
      "needs_background": "light"
     },
     "output_type": "display_data"
    },
    {
     "data": {
      "image/png": "[encoded data removed]",
      "text/plain": [
       "<Figure size 432x288 with 1 Axes>"
      ]
     },
     "metadata": {
      "needs_background": "light"
     },
     "output_type": "display_data"
    },
    {
     "data": {
      "image/png": "[encoded data removed]",
      "text/plain": [
       "<Figure size 432x288 with 1 Axes>"
      ]
     },
     "metadata": {
      "needs_background": "light"
     },
     "output_type": "display_data"
    },
    {
     "data": {
      "image/png": "[encoded data removed]",
      "text/plain": [
       "<Figure size 432x288 with 1 Axes>"
      ]
     },
     "metadata": {
      "needs_background": "light"
     },
     "output_type": "display_data"
    },
    {
     "data": {
      "image/png": "[encoded data removed]",
      "text/plain": [
       "<Figure size 432x288 with 1 Axes>"
      ]
     },
     "metadata": {
      "needs_background": "light"
     },
     "output_type": "display_data"
    },
    {
     "data": {
      "image/png": "[encoded data removed]",
      "text/plain": [
       "<Figure size 432x288 with 1 Axes>"
      ]
     },
     "metadata": {
      "needs_background": "light"
     },
     "output_type": "display_data"
    },
    {
     "data": {
      "image/png": "[encoded data removed]",
      "text/plain": [
       "<Figure size 432x288 with 1 Axes>"
      ]
     },
     "metadata": {
      "needs_background": "light"
     },
     "output_type": "display_data"
    }
   ],
   "source": [
    "for i in cat:    \n",
    "    plt.title(i)\n",
    "    sns.countplot(x=df[i])\n",
    "    plt.xticks(rotation=90)\n",
    "    plt.show()"
   ]
  },
  {
   "cell_type": "markdown",
   "id": "74efd2e2",
   "metadata": {},
   "source": [
    "There are around 500 male and <100 female applicants.\n",
    "Out the totl applicants nearly 400 are married and 200 are unmarried.\n",
    "Most of the applicants have 0 dependents. There are 100 applicants who have 1 or 2 dependents each.\n",
    "Applicants who have applied are mostly graduated.\n",
    "Apllicants who have apllied are mostly not self employed.\n",
    "People living in Semiurban area have apllied more than any other region. 200 people are from urban area and nearly 175 are fromrural area.\n",
    "Around 400 applications are selected and 200 are rejected."
   ]
  },
  {
   "cell_type": "code",
   "execution_count": 14,
   "id": "79c7431d",
   "metadata": {},
   "outputs": [
    {
     "data": {
      "text/plain": [
       "<AxesSubplot:xlabel='Married', ylabel='count'>"
      ]
     },
     "execution_count": 14,
     "metadata": {},
     "output_type": "execute_result"
    },
    {
     "data": {
      "image/png": "[encoded data removed]",
      "text/plain": [
       "<Figure size 432x288 with 1 Axes>"
      ]
     },
     "metadata": {
      "needs_background": "light"
     },
     "output_type": "display_data"
    }
   ],
   "source": [
    "sns.countplot('Married', hue='Loan_Status', data=df)"
   ]
  },
  {
   "cell_type": "markdown",
   "id": "ce00c54c",
   "metadata": {},
   "source": [
    "nearly 300 married applicants have success to >150 who aren't married"
   ]
  },
  {
   "cell_type": "code",
   "execution_count": 15,
   "id": "a87b96c5",
   "metadata": {},
   "outputs": [
    {
     "data": {
      "text/plain": [
       "<AxesSubplot:xlabel='Education', ylabel='count'>"
      ]
     },
     "execution_count": 15,
     "metadata": {},
     "output_type": "execute_result"
    },
    {
     "data": {
      "image/png": "[encoded data removed]",
      "text/plain": [
       "<Figure size 432x288 with 1 Axes>"
      ]
     },
     "metadata": {
      "needs_background": "light"
     },
     "output_type": "display_data"
    }
   ],
   "source": [
    "sns.countplot('Education', hue='Loan_Status', data=df)"
   ]
  },
  {
   "cell_type": "markdown",
   "id": "5c6e6e43",
   "metadata": {},
   "source": [
    "People who are graduated have higher ratio for loan success as compared to ones who are not graduated."
   ]
  },
  {
   "cell_type": "code",
   "execution_count": 16,
   "id": "6e42f00e",
   "metadata": {},
   "outputs": [
    {
     "data": {
      "text/plain": [
       "<AxesSubplot:xlabel='Property_Area', ylabel='count'>"
      ]
     },
     "execution_count": 16,
     "metadata": {},
     "output_type": "execute_result"
    },
    {
     "data": {
      "image/png": "[encoded data removed]",
      "text/plain": [
       "<Figure size 432x288 with 1 Axes>"
      ]
     },
     "metadata": {
      "needs_background": "light"
     },
     "output_type": "display_data"
    }
   ],
   "source": [
    "sns.countplot('Property_Area', hue='Loan_Status', data=df)"
   ]
  },
  {
   "cell_type": "markdown",
   "id": "7f2749be",
   "metadata": {},
   "source": [
    "People living in Semiurban area has highest success for loan application followed by urban and rural areas.\n",
    "People in Urban and Rural areas have similar rejected loan application."
   ]
  },
  {
   "cell_type": "code",
   "execution_count": 17,
   "id": "56289e8f",
   "metadata": {},
   "outputs": [
    {
     "data": {
      "text/plain": [
       "Index(['ApplicantIncome', 'CoapplicantIncome', 'LoanAmount',\n",
       "       'Loan_Amount_Term', 'Credit_History'],\n",
       "      dtype='object')"
      ]
     },
     "execution_count": 17,
     "metadata": {},
     "output_type": "execute_result"
    }
   ],
   "source": [
    "df_float = df.select_dtypes(include = [np.number])\n",
    "df_float.columns"
   ]
  },
  {
   "cell_type": "code",
   "execution_count": 18,
   "id": "542a621e",
   "metadata": {},
   "outputs": [
    {
     "data": {
      "text/plain": [
       "ApplicantIncome         AxesSubplot(0.125,0.657941;0.133621x0.222059)\n",
       "CoapplicantIncome    AxesSubplot(0.285345,0.657941;0.133621x0.222059)\n",
       "LoanAmount            AxesSubplot(0.44569,0.657941;0.133621x0.222059)\n",
       "Loan_Amount_Term     AxesSubplot(0.606034,0.657941;0.133621x0.222059)\n",
       "Credit_History       AxesSubplot(0.766379,0.657941;0.133621x0.222059)\n",
       "dtype: object"
      ]
     },
     "execution_count": 18,
     "metadata": {},
     "output_type": "execute_result"
    },
    {
     "data": {
      "image/png": "[encoded data removed]",
      "text/plain": [
       "<Figure size 432x288 with 15 Axes>"
      ]
     },
     "metadata": {
      "needs_background": "light"
     },
     "output_type": "display_data"
    }
   ],
   "source": [
    "df_float.plot(kind='box',subplots=True,layout=(3,5))"
   ]
  },
  {
   "cell_type": "code",
   "execution_count": 19,
   "id": "6d332bf7",
   "metadata": {},
   "outputs": [],
   "source": [
    "from scipy.stats import zscore\n",
    "z_score = np.abs(zscore(df_float))\n",
    "df = df[(z_score < 3).all(axis = 1)]"
   ]
  },
  {
   "cell_type": "code",
   "execution_count": 20,
   "id": "1298ad27",
   "metadata": {},
   "outputs": [
    {
     "data": {
      "text/html": [
       "<div>\n",
       "<style scoped>\n",
       "    .dataframe tbody tr th:only-of-type {\n",
       "        vertical-align: middle;\n",
       "    }\n",
       "\n",
       "    .dataframe tbody tr th {\n",
       "        vertical-align: top;\n",
       "    }\n",
       "\n",
       "    .dataframe thead th {\n",
       "        text-align: right;\n",
       "    }\n",
       "</style>\n",
       "<table border=\"1\" class=\"dataframe\">\n",
       "  <thead>\n",
       "    <tr style=\"text-align: right;\">\n",
       "      <th></th>\n",
       "      <th>Gender</th>\n",
       "      <th>Married</th>\n",
       "      <th>Dependents</th>\n",
       "      <th>Education</th>\n",
       "      <th>Self_Employed</th>\n",
       "      <th>ApplicantIncome</th>\n",
       "      <th>CoapplicantIncome</th>\n",
       "      <th>LoanAmount</th>\n",
       "      <th>Loan_Amount_Term</th>\n",
       "      <th>Credit_History</th>\n",
       "      <th>Property_Area</th>\n",
       "      <th>Loan_Status</th>\n",
       "    </tr>\n",
       "  </thead>\n",
       "  <tbody>\n",
       "    <tr>\n",
       "      <th>0</th>\n",
       "      <td>Male</td>\n",
       "      <td>No</td>\n",
       "      <td>0</td>\n",
       "      <td>Graduate</td>\n",
       "      <td>No</td>\n",
       "      <td>5849</td>\n",
       "      <td>0.0</td>\n",
       "      <td>146.412162</td>\n",
       "      <td>360.0</td>\n",
       "      <td>1.0</td>\n",
       "      <td>Urban</td>\n",
       "      <td>Y</td>\n",
       "    </tr>\n",
       "    <tr>\n",
       "      <th>1</th>\n",
       "      <td>Male</td>\n",
       "      <td>Yes</td>\n",
       "      <td>1</td>\n",
       "      <td>Graduate</td>\n",
       "      <td>No</td>\n",
       "      <td>4583</td>\n",
       "      <td>1508.0</td>\n",
       "      <td>128.000000</td>\n",
       "      <td>360.0</td>\n",
       "      <td>1.0</td>\n",
       "      <td>Rural</td>\n",
       "      <td>N</td>\n",
       "    </tr>\n",
       "    <tr>\n",
       "      <th>2</th>\n",
       "      <td>Male</td>\n",
       "      <td>Yes</td>\n",
       "      <td>0</td>\n",
       "      <td>Graduate</td>\n",
       "      <td>Yes</td>\n",
       "      <td>3000</td>\n",
       "      <td>0.0</td>\n",
       "      <td>66.000000</td>\n",
       "      <td>360.0</td>\n",
       "      <td>1.0</td>\n",
       "      <td>Urban</td>\n",
       "      <td>Y</td>\n",
       "    </tr>\n",
       "    <tr>\n",
       "      <th>3</th>\n",
       "      <td>Male</td>\n",
       "      <td>Yes</td>\n",
       "      <td>0</td>\n",
       "      <td>Not Graduate</td>\n",
       "      <td>No</td>\n",
       "      <td>2583</td>\n",
       "      <td>2358.0</td>\n",
       "      <td>120.000000</td>\n",
       "      <td>360.0</td>\n",
       "      <td>1.0</td>\n",
       "      <td>Urban</td>\n",
       "      <td>Y</td>\n",
       "    </tr>\n",
       "    <tr>\n",
       "      <th>4</th>\n",
       "      <td>Male</td>\n",
       "      <td>No</td>\n",
       "      <td>0</td>\n",
       "      <td>Graduate</td>\n",
       "      <td>No</td>\n",
       "      <td>6000</td>\n",
       "      <td>0.0</td>\n",
       "      <td>141.000000</td>\n",
       "      <td>360.0</td>\n",
       "      <td>1.0</td>\n",
       "      <td>Urban</td>\n",
       "      <td>Y</td>\n",
       "    </tr>\n",
       "    <tr>\n",
       "      <th>...</th>\n",
       "      <td>...</td>\n",
       "      <td>...</td>\n",
       "      <td>...</td>\n",
       "      <td>...</td>\n",
       "      <td>...</td>\n",
       "      <td>...</td>\n",
       "      <td>...</td>\n",
       "      <td>...</td>\n",
       "      <td>...</td>\n",
       "      <td>...</td>\n",
       "      <td>...</td>\n",
       "      <td>...</td>\n",
       "    </tr>\n",
       "    <tr>\n",
       "      <th>609</th>\n",
       "      <td>Female</td>\n",
       "      <td>No</td>\n",
       "      <td>0</td>\n",
       "      <td>Graduate</td>\n",
       "      <td>No</td>\n",
       "      <td>2900</td>\n",
       "      <td>0.0</td>\n",
       "      <td>71.000000</td>\n",
       "      <td>360.0</td>\n",
       "      <td>1.0</td>\n",
       "      <td>Rural</td>\n",
       "      <td>Y</td>\n",
       "    </tr>\n",
       "    <tr>\n",
       "      <th>610</th>\n",
       "      <td>Male</td>\n",
       "      <td>Yes</td>\n",
       "      <td>3+</td>\n",
       "      <td>Graduate</td>\n",
       "      <td>No</td>\n",
       "      <td>4106</td>\n",
       "      <td>0.0</td>\n",
       "      <td>40.000000</td>\n",
       "      <td>180.0</td>\n",
       "      <td>1.0</td>\n",
       "      <td>Rural</td>\n",
       "      <td>Y</td>\n",
       "    </tr>\n",
       "    <tr>\n",
       "      <th>611</th>\n",
       "      <td>Male</td>\n",
       "      <td>Yes</td>\n",
       "      <td>1</td>\n",
       "      <td>Graduate</td>\n",
       "      <td>No</td>\n",
       "      <td>8072</td>\n",
       "      <td>240.0</td>\n",
       "      <td>253.000000</td>\n",
       "      <td>360.0</td>\n",
       "      <td>1.0</td>\n",
       "      <td>Urban</td>\n",
       "      <td>Y</td>\n",
       "    </tr>\n",
       "    <tr>\n",
       "      <th>612</th>\n",
       "      <td>Male</td>\n",
       "      <td>Yes</td>\n",
       "      <td>2</td>\n",
       "      <td>Graduate</td>\n",
       "      <td>No</td>\n",
       "      <td>7583</td>\n",
       "      <td>0.0</td>\n",
       "      <td>187.000000</td>\n",
       "      <td>360.0</td>\n",
       "      <td>1.0</td>\n",
       "      <td>Urban</td>\n",
       "      <td>Y</td>\n",
       "    </tr>\n",
       "    <tr>\n",
       "      <th>613</th>\n",
       "      <td>Female</td>\n",
       "      <td>No</td>\n",
       "      <td>0</td>\n",
       "      <td>Graduate</td>\n",
       "      <td>Yes</td>\n",
       "      <td>4583</td>\n",
       "      <td>0.0</td>\n",
       "      <td>133.000000</td>\n",
       "      <td>360.0</td>\n",
       "      <td>0.0</td>\n",
       "      <td>Semiurban</td>\n",
       "      <td>N</td>\n",
       "    </tr>\n",
       "  </tbody>\n",
       "</table>\n",
       "<p>577 rows × 12 columns</p>\n",
       "</div>"
      ],
      "text/plain": [
       "     Gender Married Dependents     Education Self_Employed  ApplicantIncome  \\\n",
       "0      Male      No          0      Graduate            No             5849   \n",
       "1      Male     Yes          1      Graduate            No             4583   \n",
       "2      Male     Yes          0      Graduate           Yes             3000   \n",
       "3      Male     Yes          0  Not Graduate            No             2583   \n",
       "4      Male      No          0      Graduate            No             6000   \n",
       "..      ...     ...        ...           ...           ...              ...   \n",
       "609  Female      No          0      Graduate            No             2900   \n",
       "610    Male     Yes         3+      Graduate            No             4106   \n",
       "611    Male     Yes          1      Graduate            No             8072   \n",
       "612    Male     Yes          2      Graduate            No             7583   \n",
       "613  Female      No          0      Graduate           Yes             4583   \n",
       "\n",
       "     CoapplicantIncome  LoanAmount  Loan_Amount_Term  Credit_History  \\\n",
       "0                  0.0  146.412162             360.0             1.0   \n",
       "1               1508.0  128.000000             360.0             1.0   \n",
       "2                  0.0   66.000000             360.0             1.0   \n",
       "3               2358.0  120.000000             360.0             1.0   \n",
       "4                  0.0  141.000000             360.0             1.0   \n",
       "..                 ...         ...               ...             ...   \n",
       "609                0.0   71.000000             360.0             1.0   \n",
       "610                0.0   40.000000             180.0             1.0   \n",
       "611              240.0  253.000000             360.0             1.0   \n",
       "612                0.0  187.000000             360.0             1.0   \n",
       "613                0.0  133.000000             360.0             0.0   \n",
       "\n",
       "    Property_Area Loan_Status  \n",
       "0           Urban           Y  \n",
       "1           Rural           N  \n",
       "2           Urban           Y  \n",
       "3           Urban           Y  \n",
       "4           Urban           Y  \n",
       "..            ...         ...  \n",
       "609         Rural           Y  \n",
       "610         Rural           Y  \n",
       "611         Urban           Y  \n",
       "612         Urban           Y  \n",
       "613     Semiurban           N  \n",
       "\n",
       "[577 rows x 12 columns]"
      ]
     },
     "execution_count": 20,
     "metadata": {},
     "output_type": "execute_result"
    }
   ],
   "source": [
    "df"
   ]
  },
  {
   "cell_type": "code",
   "execution_count": null,
   "id": "0df2a372",
   "metadata": {},
   "outputs": [],
   "source": []
  },
  {
   "cell_type": "code",
   "execution_count": 21,
   "id": "68466a1c",
   "metadata": {},
   "outputs": [],
   "source": [
    "df['LoanAmount'] = np.log(df['LoanAmount'])\n",
    "df['Loan_Amount_Term'] = np.log(df['Loan_Amount_Term'])"
   ]
  },
  {
   "cell_type": "code",
   "execution_count": 22,
   "id": "88988587",
   "metadata": {},
   "outputs": [
    {
     "data": {
      "text/plain": [
       "<AxesSubplot:xlabel='LoanAmount', ylabel='Density'>"
      ]
     },
     "execution_count": 22,
     "metadata": {},
     "output_type": "execute_result"
    },
    {
     "data": {
      "image/png": "[encoded data removed]",
      "text/plain": [
       "<Figure size 432x288 with 1 Axes>"
      ]
     },
     "metadata": {
      "needs_background": "light"
     },
     "output_type": "display_data"
    }
   ],
   "source": [
    "sns.distplot(df['LoanAmount'])"
   ]
  },
  {
   "cell_type": "code",
   "execution_count": 23,
   "id": "e0aa1caf",
   "metadata": {},
   "outputs": [
    {
     "data": {
      "text/plain": [
       "<AxesSubplot:xlabel='Loan_Amount_Term', ylabel='Density'>"
      ]
     },
     "execution_count": 23,
     "metadata": {},
     "output_type": "execute_result"
    },
    {
     "data": {
      "image/png": "[encoded data removed]",
      "text/plain": [
       "<Figure size 432x288 with 1 Axes>"
      ]
     },
     "metadata": {
      "needs_background": "light"
     },
     "output_type": "display_data"
    }
   ],
   "source": [
    "sns.distplot(df['Loan_Amount_Term'])"
   ]
  },
  {
   "cell_type": "code",
   "execution_count": 24,
   "id": "c4ec08ae",
   "metadata": {},
   "outputs": [],
   "source": [
    "df['Total_Income'] = df['ApplicantIncome'] + df['CoapplicantIncome']"
   ]
  },
  {
   "cell_type": "code",
   "execution_count": 25,
   "id": "162d96a2",
   "metadata": {},
   "outputs": [
    {
     "data": {
      "text/plain": [
       "<AxesSubplot:xlabel='ApplicantIncomeLog', ylabel='Density'>"
      ]
     },
     "execution_count": 25,
     "metadata": {},
     "output_type": "execute_result"
    },
    {
     "data": {
      "image/png": "[encoded data removed]",
      "text/plain": [
       "<Figure size 432x288 with 1 Axes>"
      ]
     },
     "metadata": {
      "needs_background": "light"
     },
     "output_type": "display_data"
    }
   ],
   "source": [
    "df['ApplicantIncomeLog'] = np.log(df['ApplicantIncome'])\n",
    "sns.distplot(df['ApplicantIncomeLog'])"
   ]
  },
  {
   "cell_type": "markdown",
   "id": "4cb75074",
   "metadata": {},
   "source": [
    "np.log is applied trying to convert to normally distributed"
   ]
  },
  {
   "cell_type": "code",
   "execution_count": 26,
   "id": "8fa9473e",
   "metadata": {},
   "outputs": [
    {
     "data": {
      "text/plain": [
       "<AxesSubplot:xlabel='CoapplicantIncomeLog', ylabel='Density'>"
      ]
     },
     "execution_count": 26,
     "metadata": {},
     "output_type": "execute_result"
    },
    {
     "data": {
      "image/png": "[encoded data removed]",
      "text/plain": [
       "<Figure size 432x288 with 1 Axes>"
      ]
     },
     "metadata": {
      "needs_background": "light"
     },
     "output_type": "display_data"
    }
   ],
   "source": [
    "df['CoapplicantIncomeLog'] = np.log(df['CoapplicantIncome']+1)\n",
    "sns.distplot(df['CoapplicantIncomeLog'])"
   ]
  },
  {
   "cell_type": "markdown",
   "id": "59c4ff7e",
   "metadata": {},
   "source": [
    "np.log is applied trying to convert to normally distributed"
   ]
  },
  {
   "cell_type": "code",
   "execution_count": 27,
   "id": "e0925536",
   "metadata": {},
   "outputs": [
    {
     "data": {
      "text/plain": [
       "<AxesSubplot:xlabel='LoanAmountLog', ylabel='Density'>"
      ]
     },
     "execution_count": 27,
     "metadata": {},
     "output_type": "execute_result"
    },
    {
     "data": {
      "image/png": "[encoded data removed]",
      "text/plain": [
       "<Figure size 432x288 with 1 Axes>"
      ]
     },
     "metadata": {
      "needs_background": "light"
     },
     "output_type": "display_data"
    }
   ],
   "source": [
    "df['LoanAmountLog'] = np.log(df['LoanAmount'])\n",
    "sns.distplot(df['LoanAmountLog'])"
   ]
  },
  {
   "cell_type": "markdown",
   "id": "e3366f84",
   "metadata": {},
   "source": [
    "np.log is applied trying to convert to normally distributed"
   ]
  },
  {
   "cell_type": "code",
   "execution_count": 28,
   "id": "f16c389a",
   "metadata": {},
   "outputs": [
    {
     "data": {
      "text/plain": [
       "<AxesSubplot:xlabel='Loan_Amount_TermLog', ylabel='Density'>"
      ]
     },
     "execution_count": 28,
     "metadata": {},
     "output_type": "execute_result"
    },
    {
     "data": {
      "image/png": "[encoded data removed]",
      "text/plain": [
       "<Figure size 432x288 with 1 Axes>"
      ]
     },
     "metadata": {
      "needs_background": "light"
     },
     "output_type": "display_data"
    }
   ],
   "source": [
    "df['Loan_Amount_TermLog'] = np.log(df['Loan_Amount_Term'])\n",
    "sns.distplot(df['Loan_Amount_TermLog'])"
   ]
  },
  {
   "cell_type": "markdown",
   "id": "74e9b1a4",
   "metadata": {},
   "source": [
    "np.log is applied trying to convert to normally distributed"
   ]
  },
  {
   "cell_type": "code",
   "execution_count": 29,
   "id": "b6874787",
   "metadata": {},
   "outputs": [
    {
     "data": {
      "text/plain": [
       "<AxesSubplot:xlabel='Total_IncomeLog', ylabel='Density'>"
      ]
     },
     "execution_count": 29,
     "metadata": {},
     "output_type": "execute_result"
    },
    {
     "data": {
      "image/png": "[encoded data removed]",
      "text/plain": [
       "<Figure size 432x288 with 1 Axes>"
      ]
     },
     "metadata": {
      "needs_background": "light"
     },
     "output_type": "display_data"
    }
   ],
   "source": [
    "df['Total_IncomeLog'] = np.log(df['Total_Income'])\n",
    "sns.distplot(df['Total_IncomeLog'])"
   ]
  },
  {
   "cell_type": "markdown",
   "id": "314e2a9a",
   "metadata": {},
   "source": [
    "Total_Income is normally distributed after applying np.log"
   ]
  },
  {
   "cell_type": "code",
   "execution_count": 30,
   "id": "b4f5bfd6",
   "metadata": {},
   "outputs": [],
   "source": [
    "cols = ['ApplicantIncome', 'CoapplicantIncome', 'LoanAmount' ,'Loan_Amount_Term','Total_Income',\n",
    "        'CoapplicantIncomeLog']\n",
    "df = df.drop(columns = cols , axis = 1)"
   ]
  },
  {
   "cell_type": "code",
   "execution_count": 31,
   "id": "afb4358a",
   "metadata": {},
   "outputs": [
    {
     "data": {
      "text/html": [
       "<div>\n",
       "<style scoped>\n",
       "    .dataframe tbody tr th:only-of-type {\n",
       "        vertical-align: middle;\n",
       "    }\n",
       "\n",
       "    .dataframe tbody tr th {\n",
       "        vertical-align: top;\n",
       "    }\n",
       "\n",
       "    .dataframe thead th {\n",
       "        text-align: right;\n",
       "    }\n",
       "</style>\n",
       "<table border=\"1\" class=\"dataframe\">\n",
       "  <thead>\n",
       "    <tr style=\"text-align: right;\">\n",
       "      <th></th>\n",
       "      <th>Gender</th>\n",
       "      <th>Married</th>\n",
       "      <th>Dependents</th>\n",
       "      <th>Education</th>\n",
       "      <th>Self_Employed</th>\n",
       "      <th>Credit_History</th>\n",
       "      <th>Property_Area</th>\n",
       "      <th>Loan_Status</th>\n",
       "      <th>ApplicantIncomeLog</th>\n",
       "      <th>LoanAmountLog</th>\n",
       "      <th>Loan_Amount_TermLog</th>\n",
       "      <th>Total_IncomeLog</th>\n",
       "    </tr>\n",
       "  </thead>\n",
       "  <tbody>\n",
       "    <tr>\n",
       "      <th>0</th>\n",
       "      <td>Male</td>\n",
       "      <td>No</td>\n",
       "      <td>0</td>\n",
       "      <td>Graduate</td>\n",
       "      <td>No</td>\n",
       "      <td>1.0</td>\n",
       "      <td>Urban</td>\n",
       "      <td>Y</td>\n",
       "      <td>8.674026</td>\n",
       "      <td>1.606719</td>\n",
       "      <td>1.772594</td>\n",
       "      <td>8.674026</td>\n",
       "    </tr>\n",
       "    <tr>\n",
       "      <th>1</th>\n",
       "      <td>Male</td>\n",
       "      <td>Yes</td>\n",
       "      <td>1</td>\n",
       "      <td>Graduate</td>\n",
       "      <td>No</td>\n",
       "      <td>1.0</td>\n",
       "      <td>Rural</td>\n",
       "      <td>N</td>\n",
       "      <td>8.430109</td>\n",
       "      <td>1.579397</td>\n",
       "      <td>1.772594</td>\n",
       "      <td>8.714568</td>\n",
       "    </tr>\n",
       "    <tr>\n",
       "      <th>2</th>\n",
       "      <td>Male</td>\n",
       "      <td>Yes</td>\n",
       "      <td>0</td>\n",
       "      <td>Graduate</td>\n",
       "      <td>Yes</td>\n",
       "      <td>1.0</td>\n",
       "      <td>Urban</td>\n",
       "      <td>Y</td>\n",
       "      <td>8.006368</td>\n",
       "      <td>1.432618</td>\n",
       "      <td>1.772594</td>\n",
       "      <td>8.006368</td>\n",
       "    </tr>\n",
       "    <tr>\n",
       "      <th>3</th>\n",
       "      <td>Male</td>\n",
       "      <td>Yes</td>\n",
       "      <td>0</td>\n",
       "      <td>Not Graduate</td>\n",
       "      <td>No</td>\n",
       "      <td>1.0</td>\n",
       "      <td>Urban</td>\n",
       "      <td>Y</td>\n",
       "      <td>7.856707</td>\n",
       "      <td>1.566007</td>\n",
       "      <td>1.772594</td>\n",
       "      <td>8.505323</td>\n",
       "    </tr>\n",
       "    <tr>\n",
       "      <th>4</th>\n",
       "      <td>Male</td>\n",
       "      <td>No</td>\n",
       "      <td>0</td>\n",
       "      <td>Graduate</td>\n",
       "      <td>No</td>\n",
       "      <td>1.0</td>\n",
       "      <td>Urban</td>\n",
       "      <td>Y</td>\n",
       "      <td>8.699515</td>\n",
       "      <td>1.599137</td>\n",
       "      <td>1.772594</td>\n",
       "      <td>8.699515</td>\n",
       "    </tr>\n",
       "    <tr>\n",
       "      <th>...</th>\n",
       "      <td>...</td>\n",
       "      <td>...</td>\n",
       "      <td>...</td>\n",
       "      <td>...</td>\n",
       "      <td>...</td>\n",
       "      <td>...</td>\n",
       "      <td>...</td>\n",
       "      <td>...</td>\n",
       "      <td>...</td>\n",
       "      <td>...</td>\n",
       "      <td>...</td>\n",
       "      <td>...</td>\n",
       "    </tr>\n",
       "    <tr>\n",
       "      <th>609</th>\n",
       "      <td>Female</td>\n",
       "      <td>No</td>\n",
       "      <td>0</td>\n",
       "      <td>Graduate</td>\n",
       "      <td>No</td>\n",
       "      <td>1.0</td>\n",
       "      <td>Rural</td>\n",
       "      <td>Y</td>\n",
       "      <td>7.972466</td>\n",
       "      <td>1.449898</td>\n",
       "      <td>1.772594</td>\n",
       "      <td>7.972466</td>\n",
       "    </tr>\n",
       "    <tr>\n",
       "      <th>610</th>\n",
       "      <td>Male</td>\n",
       "      <td>Yes</td>\n",
       "      <td>3+</td>\n",
       "      <td>Graduate</td>\n",
       "      <td>No</td>\n",
       "      <td>1.0</td>\n",
       "      <td>Rural</td>\n",
       "      <td>Y</td>\n",
       "      <td>8.320205</td>\n",
       "      <td>1.305323</td>\n",
       "      <td>1.647303</td>\n",
       "      <td>8.320205</td>\n",
       "    </tr>\n",
       "    <tr>\n",
       "      <th>611</th>\n",
       "      <td>Male</td>\n",
       "      <td>Yes</td>\n",
       "      <td>1</td>\n",
       "      <td>Graduate</td>\n",
       "      <td>No</td>\n",
       "      <td>1.0</td>\n",
       "      <td>Urban</td>\n",
       "      <td>Y</td>\n",
       "      <td>8.996157</td>\n",
       "      <td>1.710801</td>\n",
       "      <td>1.772594</td>\n",
       "      <td>9.025456</td>\n",
       "    </tr>\n",
       "    <tr>\n",
       "      <th>612</th>\n",
       "      <td>Male</td>\n",
       "      <td>Yes</td>\n",
       "      <td>2</td>\n",
       "      <td>Graduate</td>\n",
       "      <td>No</td>\n",
       "      <td>1.0</td>\n",
       "      <td>Urban</td>\n",
       "      <td>Y</td>\n",
       "      <td>8.933664</td>\n",
       "      <td>1.654623</td>\n",
       "      <td>1.772594</td>\n",
       "      <td>8.933664</td>\n",
       "    </tr>\n",
       "    <tr>\n",
       "      <th>613</th>\n",
       "      <td>Female</td>\n",
       "      <td>No</td>\n",
       "      <td>0</td>\n",
       "      <td>Graduate</td>\n",
       "      <td>Yes</td>\n",
       "      <td>0.0</td>\n",
       "      <td>Semiurban</td>\n",
       "      <td>N</td>\n",
       "      <td>8.430109</td>\n",
       "      <td>1.587264</td>\n",
       "      <td>1.772594</td>\n",
       "      <td>8.430109</td>\n",
       "    </tr>\n",
       "  </tbody>\n",
       "</table>\n",
       "<p>577 rows × 12 columns</p>\n",
       "</div>"
      ],
      "text/plain": [
       "     Gender Married Dependents     Education Self_Employed  Credit_History  \\\n",
       "0      Male      No          0      Graduate            No             1.0   \n",
       "1      Male     Yes          1      Graduate            No             1.0   \n",
       "2      Male     Yes          0      Graduate           Yes             1.0   \n",
       "3      Male     Yes          0  Not Graduate            No             1.0   \n",
       "4      Male      No          0      Graduate            No             1.0   \n",
       "..      ...     ...        ...           ...           ...             ...   \n",
       "609  Female      No          0      Graduate            No             1.0   \n",
       "610    Male     Yes         3+      Graduate            No             1.0   \n",
       "611    Male     Yes          1      Graduate            No             1.0   \n",
       "612    Male     Yes          2      Graduate            No             1.0   \n",
       "613  Female      No          0      Graduate           Yes             0.0   \n",
       "\n",
       "    Property_Area Loan_Status  ApplicantIncomeLog  LoanAmountLog  \\\n",
       "0           Urban           Y            8.674026       1.606719   \n",
       "1           Rural           N            8.430109       1.579397   \n",
       "2           Urban           Y            8.006368       1.432618   \n",
       "3           Urban           Y            7.856707       1.566007   \n",
       "4           Urban           Y            8.699515       1.599137   \n",
       "..            ...         ...                 ...            ...   \n",
       "609         Rural           Y            7.972466       1.449898   \n",
       "610         Rural           Y            8.320205       1.305323   \n",
       "611         Urban           Y            8.996157       1.710801   \n",
       "612         Urban           Y            8.933664       1.654623   \n",
       "613     Semiurban           N            8.430109       1.587264   \n",
       "\n",
       "     Loan_Amount_TermLog  Total_IncomeLog  \n",
       "0               1.772594         8.674026  \n",
       "1               1.772594         8.714568  \n",
       "2               1.772594         8.006368  \n",
       "3               1.772594         8.505323  \n",
       "4               1.772594         8.699515  \n",
       "..                   ...              ...  \n",
       "609             1.772594         7.972466  \n",
       "610             1.647303         8.320205  \n",
       "611             1.772594         9.025456  \n",
       "612             1.772594         8.933664  \n",
       "613             1.772594         8.430109  \n",
       "\n",
       "[577 rows x 12 columns]"
      ]
     },
     "execution_count": 31,
     "metadata": {},
     "output_type": "execute_result"
    }
   ],
   "source": [
    "df"
   ]
  },
  {
   "cell_type": "code",
   "execution_count": 32,
   "id": "6c90ad25",
   "metadata": {},
   "outputs": [
    {
     "data": {
      "text/plain": [
       "<AxesSubplot:>"
      ]
     },
     "execution_count": 32,
     "metadata": {},
     "output_type": "execute_result"
    },
    {
     "data": {
      "image/png": "[encoded data removed]",
      "text/plain": [
       "<Figure size 1080x720 with 2 Axes>"
      ]
     },
     "metadata": {
      "needs_background": "light"
     },
     "output_type": "display_data"
    }
   ],
   "source": [
    "dfcorr = df.corr()\n",
    "plt.figure(figsize=(15,10))\n",
    "sns.heatmap(dfcorr,annot=True)"
   ]
  },
  {
   "cell_type": "markdown",
   "id": "eb91cd1a",
   "metadata": {},
   "source": [
    "Lighter the shade, higher the correlation.\n",
    "\n",
    "Highest correlation is between total income and applicantincome."
   ]
  },
  {
   "cell_type": "code",
   "execution_count": 33,
   "id": "7f05fb22",
   "metadata": {},
   "outputs": [],
   "source": [
    "from sklearn.preprocessing import LabelEncoder\n",
    "cols = ['Gender','Married','Education','Self_Employed','Property_Area','Loan_Status','Dependents']\n",
    "le = LabelEncoder()\n",
    "for col in cols :\n",
    "    df[col] = le.fit_transform(df[col])"
   ]
  },
  {
   "cell_type": "code",
   "execution_count": 34,
   "id": "62775271",
   "metadata": {},
   "outputs": [
    {
     "data": {
      "text/html": [
       "<div>\n",
       "<style scoped>\n",
       "    .dataframe tbody tr th:only-of-type {\n",
       "        vertical-align: middle;\n",
       "    }\n",
       "\n",
       "    .dataframe tbody tr th {\n",
       "        vertical-align: top;\n",
       "    }\n",
       "\n",
       "    .dataframe thead th {\n",
       "        text-align: right;\n",
       "    }\n",
       "</style>\n",
       "<table border=\"1\" class=\"dataframe\">\n",
       "  <thead>\n",
       "    <tr style=\"text-align: right;\">\n",
       "      <th></th>\n",
       "      <th>Gender</th>\n",
       "      <th>Married</th>\n",
       "      <th>Dependents</th>\n",
       "      <th>Education</th>\n",
       "      <th>Self_Employed</th>\n",
       "      <th>Credit_History</th>\n",
       "      <th>Property_Area</th>\n",
       "      <th>Loan_Status</th>\n",
       "      <th>ApplicantIncomeLog</th>\n",
       "      <th>LoanAmountLog</th>\n",
       "      <th>Loan_Amount_TermLog</th>\n",
       "      <th>Total_IncomeLog</th>\n",
       "    </tr>\n",
       "  </thead>\n",
       "  <tbody>\n",
       "    <tr>\n",
       "      <th>0</th>\n",
       "      <td>1</td>\n",
       "      <td>0</td>\n",
       "      <td>0</td>\n",
       "      <td>0</td>\n",
       "      <td>0</td>\n",
       "      <td>1.0</td>\n",
       "      <td>2</td>\n",
       "      <td>1</td>\n",
       "      <td>8.674026</td>\n",
       "      <td>1.606719</td>\n",
       "      <td>1.772594</td>\n",
       "      <td>8.674026</td>\n",
       "    </tr>\n",
       "    <tr>\n",
       "      <th>1</th>\n",
       "      <td>1</td>\n",
       "      <td>1</td>\n",
       "      <td>1</td>\n",
       "      <td>0</td>\n",
       "      <td>0</td>\n",
       "      <td>1.0</td>\n",
       "      <td>0</td>\n",
       "      <td>0</td>\n",
       "      <td>8.430109</td>\n",
       "      <td>1.579397</td>\n",
       "      <td>1.772594</td>\n",
       "      <td>8.714568</td>\n",
       "    </tr>\n",
       "    <tr>\n",
       "      <th>2</th>\n",
       "      <td>1</td>\n",
       "      <td>1</td>\n",
       "      <td>0</td>\n",
       "      <td>0</td>\n",
       "      <td>1</td>\n",
       "      <td>1.0</td>\n",
       "      <td>2</td>\n",
       "      <td>1</td>\n",
       "      <td>8.006368</td>\n",
       "      <td>1.432618</td>\n",
       "      <td>1.772594</td>\n",
       "      <td>8.006368</td>\n",
       "    </tr>\n",
       "    <tr>\n",
       "      <th>3</th>\n",
       "      <td>1</td>\n",
       "      <td>1</td>\n",
       "      <td>0</td>\n",
       "      <td>1</td>\n",
       "      <td>0</td>\n",
       "      <td>1.0</td>\n",
       "      <td>2</td>\n",
       "      <td>1</td>\n",
       "      <td>7.856707</td>\n",
       "      <td>1.566007</td>\n",
       "      <td>1.772594</td>\n",
       "      <td>8.505323</td>\n",
       "    </tr>\n",
       "    <tr>\n",
       "      <th>4</th>\n",
       "      <td>1</td>\n",
       "      <td>0</td>\n",
       "      <td>0</td>\n",
       "      <td>0</td>\n",
       "      <td>0</td>\n",
       "      <td>1.0</td>\n",
       "      <td>2</td>\n",
       "      <td>1</td>\n",
       "      <td>8.699515</td>\n",
       "      <td>1.599137</td>\n",
       "      <td>1.772594</td>\n",
       "      <td>8.699515</td>\n",
       "    </tr>\n",
       "    <tr>\n",
       "      <th>...</th>\n",
       "      <td>...</td>\n",
       "      <td>...</td>\n",
       "      <td>...</td>\n",
       "      <td>...</td>\n",
       "      <td>...</td>\n",
       "      <td>...</td>\n",
       "      <td>...</td>\n",
       "      <td>...</td>\n",
       "      <td>...</td>\n",
       "      <td>...</td>\n",
       "      <td>...</td>\n",
       "      <td>...</td>\n",
       "    </tr>\n",
       "    <tr>\n",
       "      <th>609</th>\n",
       "      <td>0</td>\n",
       "      <td>0</td>\n",
       "      <td>0</td>\n",
       "      <td>0</td>\n",
       "      <td>0</td>\n",
       "      <td>1.0</td>\n",
       "      <td>0</td>\n",
       "      <td>1</td>\n",
       "      <td>7.972466</td>\n",
       "      <td>1.449898</td>\n",
       "      <td>1.772594</td>\n",
       "      <td>7.972466</td>\n",
       "    </tr>\n",
       "    <tr>\n",
       "      <th>610</th>\n",
       "      <td>1</td>\n",
       "      <td>1</td>\n",
       "      <td>3</td>\n",
       "      <td>0</td>\n",
       "      <td>0</td>\n",
       "      <td>1.0</td>\n",
       "      <td>0</td>\n",
       "      <td>1</td>\n",
       "      <td>8.320205</td>\n",
       "      <td>1.305323</td>\n",
       "      <td>1.647303</td>\n",
       "      <td>8.320205</td>\n",
       "    </tr>\n",
       "    <tr>\n",
       "      <th>611</th>\n",
       "      <td>1</td>\n",
       "      <td>1</td>\n",
       "      <td>1</td>\n",
       "      <td>0</td>\n",
       "      <td>0</td>\n",
       "      <td>1.0</td>\n",
       "      <td>2</td>\n",
       "      <td>1</td>\n",
       "      <td>8.996157</td>\n",
       "      <td>1.710801</td>\n",
       "      <td>1.772594</td>\n",
       "      <td>9.025456</td>\n",
       "    </tr>\n",
       "    <tr>\n",
       "      <th>612</th>\n",
       "      <td>1</td>\n",
       "      <td>1</td>\n",
       "      <td>2</td>\n",
       "      <td>0</td>\n",
       "      <td>0</td>\n",
       "      <td>1.0</td>\n",
       "      <td>2</td>\n",
       "      <td>1</td>\n",
       "      <td>8.933664</td>\n",
       "      <td>1.654623</td>\n",
       "      <td>1.772594</td>\n",
       "      <td>8.933664</td>\n",
       "    </tr>\n",
       "    <tr>\n",
       "      <th>613</th>\n",
       "      <td>0</td>\n",
       "      <td>0</td>\n",
       "      <td>0</td>\n",
       "      <td>0</td>\n",
       "      <td>1</td>\n",
       "      <td>0.0</td>\n",
       "      <td>1</td>\n",
       "      <td>0</td>\n",
       "      <td>8.430109</td>\n",
       "      <td>1.587264</td>\n",
       "      <td>1.772594</td>\n",
       "      <td>8.430109</td>\n",
       "    </tr>\n",
       "  </tbody>\n",
       "</table>\n",
       "<p>577 rows × 12 columns</p>\n",
       "</div>"
      ],
      "text/plain": [
       "     Gender  Married  Dependents  Education  Self_Employed  Credit_History  \\\n",
       "0         1        0           0          0              0             1.0   \n",
       "1         1        1           1          0              0             1.0   \n",
       "2         1        1           0          0              1             1.0   \n",
       "3         1        1           0          1              0             1.0   \n",
       "4         1        0           0          0              0             1.0   \n",
       "..      ...      ...         ...        ...            ...             ...   \n",
       "609       0        0           0          0              0             1.0   \n",
       "610       1        1           3          0              0             1.0   \n",
       "611       1        1           1          0              0             1.0   \n",
       "612       1        1           2          0              0             1.0   \n",
       "613       0        0           0          0              1             0.0   \n",
       "\n",
       "     Property_Area  Loan_Status  ApplicantIncomeLog  LoanAmountLog  \\\n",
       "0                2            1            8.674026       1.606719   \n",
       "1                0            0            8.430109       1.579397   \n",
       "2                2            1            8.006368       1.432618   \n",
       "3                2            1            7.856707       1.566007   \n",
       "4                2            1            8.699515       1.599137   \n",
       "..             ...          ...                 ...            ...   \n",
       "609              0            1            7.972466       1.449898   \n",
       "610              0            1            8.320205       1.305323   \n",
       "611              2            1            8.996157       1.710801   \n",
       "612              2            1            8.933664       1.654623   \n",
       "613              1            0            8.430109       1.587264   \n",
       "\n",
       "     Loan_Amount_TermLog  Total_IncomeLog  \n",
       "0               1.772594         8.674026  \n",
       "1               1.772594         8.714568  \n",
       "2               1.772594         8.006368  \n",
       "3               1.772594         8.505323  \n",
       "4               1.772594         8.699515  \n",
       "..                   ...              ...  \n",
       "609             1.772594         7.972466  \n",
       "610             1.647303         8.320205  \n",
       "611             1.772594         9.025456  \n",
       "612             1.772594         8.933664  \n",
       "613             1.772594         8.430109  \n",
       "\n",
       "[577 rows x 12 columns]"
      ]
     },
     "execution_count": 34,
     "metadata": {},
     "output_type": "execute_result"
    }
   ],
   "source": [
    "df"
   ]
  },
  {
   "cell_type": "code",
   "execution_count": null,
   "id": "b91489d5",
   "metadata": {},
   "outputs": [],
   "source": []
  },
  {
   "cell_type": "code",
   "execution_count": 35,
   "id": "1d640be6",
   "metadata": {},
   "outputs": [],
   "source": [
    "X = df.drop(columns = ['Loan_Status'],axis =1)\n",
    "y = df['Loan_Status']"
   ]
  },
  {
   "cell_type": "code",
   "execution_count": 36,
   "id": "21f29f03",
   "metadata": {},
   "outputs": [],
   "source": [
    "from sklearn.model_selection import train_test_split"
   ]
  },
  {
   "cell_type": "code",
   "execution_count": 37,
   "id": "cc0e4f05",
   "metadata": {},
   "outputs": [],
   "source": [
    "x_train,x_test,y_train,y_test = train_test_split(X,y,test_size=0.25,random_state=42)"
   ]
  },
  {
   "cell_type": "code",
   "execution_count": 38,
   "id": "cb9d3059",
   "metadata": {},
   "outputs": [],
   "source": [
    "from sklearn.tree import DecisionTreeClassifier\n",
    "from sklearn.ensemble import RandomForestClassifier,AdaBoostClassifier\n",
    "from sklearn.linear_model import LogisticRegression\n",
    "from sklearn.svm import SVC\n",
    "from sklearn.metrics import roc_auc_score,accuracy_score,confusion_matrix,classification_report\n",
    "from sklearn.model_selection import cross_val_score"
   ]
  },
  {
   "cell_type": "code",
   "execution_count": 39,
   "id": "cadb5fb4",
   "metadata": {},
   "outputs": [
    {
     "name": "stdout",
     "output_type": "stream",
     "text": [
      "accuracy score\n",
      "0.8413793103448276\n",
      "[[ 20  22]\n",
      " [  1 102]]\n",
      "              precision    recall  f1-score   support\n",
      "\n",
      "           0       0.95      0.48      0.63        42\n",
      "           1       0.82      0.99      0.90       103\n",
      "\n",
      "    accuracy                           0.84       145\n",
      "   macro avg       0.89      0.73      0.77       145\n",
      "weighted avg       0.86      0.84      0.82       145\n",
      "\n"
     ]
    }
   ],
   "source": [
    "lg=LogisticRegression()\n",
    "lg.fit(x_train,y_train)\n",
    "pred=lg.predict(x_test)\n",
    "print('accuracy score')\n",
    "print(accuracy_score(y_test,pred))\n",
    "print(confusion_matrix(y_test,pred))\n",
    "print(classification_report(y_test,pred))"
   ]
  },
  {
   "cell_type": "code",
   "execution_count": 40,
   "id": "0dd70a0f",
   "metadata": {},
   "outputs": [
    {
     "name": "stdout",
     "output_type": "stream",
     "text": [
      "accuracy score\n",
      "0.8275862068965517\n",
      "[[23 19]\n",
      " [ 6 97]]\n",
      "              precision    recall  f1-score   support\n",
      "\n",
      "           0       0.79      0.55      0.65        42\n",
      "           1       0.84      0.94      0.89       103\n",
      "\n",
      "    accuracy                           0.83       145\n",
      "   macro avg       0.81      0.74      0.77       145\n",
      "weighted avg       0.82      0.83      0.82       145\n",
      "\n"
     ]
    }
   ],
   "source": [
    "ad=AdaBoostClassifier()\n",
    "ad.fit(x_train,y_train)\n",
    "preda=ad.predict(x_test)\n",
    "print('accuracy score')\n",
    "print(accuracy_score(y_test,preda))\n",
    "print(confusion_matrix(y_test,preda))\n",
    "print(classification_report(y_test,preda))"
   ]
  },
  {
   "cell_type": "code",
   "execution_count": 41,
   "id": "956f819e",
   "metadata": {},
   "outputs": [
    {
     "name": "stdout",
     "output_type": "stream",
     "text": [
      "accuracy score\n",
      "0.7586206896551724\n",
      "[[22 20]\n",
      " [15 88]]\n",
      "              precision    recall  f1-score   support\n",
      "\n",
      "           0       0.59      0.52      0.56        42\n",
      "           1       0.81      0.85      0.83       103\n",
      "\n",
      "    accuracy                           0.76       145\n",
      "   macro avg       0.70      0.69      0.70       145\n",
      "weighted avg       0.75      0.76      0.75       145\n",
      "\n"
     ]
    }
   ],
   "source": [
    "dt=DecisionTreeClassifier()\n",
    "dt.fit(x_train,y_train)\n",
    "predd=dt.predict(x_test)\n",
    "print('accuracy score')\n",
    "print(accuracy_score(y_test,predd))\n",
    "print(confusion_matrix(y_test,predd))\n",
    "print(classification_report(y_test,predd))"
   ]
  },
  {
   "cell_type": "code",
   "execution_count": 42,
   "id": "f125621e",
   "metadata": {},
   "outputs": [
    {
     "name": "stdout",
     "output_type": "stream",
     "text": [
      "accuracy score\n",
      "0.7172413793103448\n",
      "[[  1  41]\n",
      " [  0 103]]\n",
      "              precision    recall  f1-score   support\n",
      "\n",
      "           0       1.00      0.02      0.05        42\n",
      "           1       0.72      1.00      0.83       103\n",
      "\n",
      "    accuracy                           0.72       145\n",
      "   macro avg       0.86      0.51      0.44       145\n",
      "weighted avg       0.80      0.72      0.61       145\n",
      "\n"
     ]
    }
   ],
   "source": [
    "sv=SVC()\n",
    "sv.fit(x_train,y_train)\n",
    "preds=sv.predict(x_test)\n",
    "print('accuracy score')\n",
    "print(accuracy_score(y_test,preds))\n",
    "print(confusion_matrix(y_test,preds))\n",
    "print(classification_report(y_test,preds))"
   ]
  },
  {
   "cell_type": "code",
   "execution_count": 43,
   "id": "f0212886",
   "metadata": {},
   "outputs": [
    {
     "name": "stdout",
     "output_type": "stream",
     "text": [
      "accuracy score\n",
      "0.8482758620689655\n",
      "[[ 22  20]\n",
      " [  2 101]]\n",
      "              precision    recall  f1-score   support\n",
      "\n",
      "           0       0.92      0.52      0.67        42\n",
      "           1       0.83      0.98      0.90       103\n",
      "\n",
      "    accuracy                           0.85       145\n",
      "   macro avg       0.88      0.75      0.78       145\n",
      "weighted avg       0.86      0.85      0.83       145\n",
      "\n"
     ]
    }
   ],
   "source": [
    "rf=RandomForestClassifier()\n",
    "rf.fit(x_train,y_train)\n",
    "predr=rf.predict(x_test)\n",
    "print('accuracy score')\n",
    "print(accuracy_score(y_test,predr))\n",
    "print(confusion_matrix(y_test,predr))\n",
    "print(classification_report(y_test,predr))"
   ]
  },
  {
   "cell_type": "code",
   "execution_count": null,
   "id": "abd1ff89",
   "metadata": {},
   "outputs": [],
   "source": []
  },
  {
   "cell_type": "code",
   "execution_count": 44,
   "id": "d1855021",
   "metadata": {},
   "outputs": [
    {
     "name": "stdout",
     "output_type": "stream",
     "text": [
      "[0.81034483 0.79310345 0.79130435 0.86086957 0.83478261]\n",
      "0.8180809595202397\n"
     ]
    }
   ],
   "source": [
    "score=cross_val_score(lg,X,y,cv=5)\n",
    "print(score)\n",
    "print(score.mean())"
   ]
  },
  {
   "cell_type": "code",
   "execution_count": 45,
   "id": "264b434f",
   "metadata": {},
   "outputs": [
    {
     "name": "stdout",
     "output_type": "stream",
     "text": [
      "[0.76724138 0.77586207 0.7826087  0.82608696 0.83478261]\n",
      "0.7973163418290855\n"
     ]
    }
   ],
   "source": [
    "score=cross_val_score(ad,X,y,cv=5)\n",
    "print(score)\n",
    "print(score.mean())"
   ]
  },
  {
   "cell_type": "code",
   "execution_count": 46,
   "id": "1ed76232",
   "metadata": {},
   "outputs": [
    {
     "name": "stdout",
     "output_type": "stream",
     "text": [
      "[0.67241379 0.72413793 0.72173913 0.77391304 0.7826087 ]\n",
      "0.7349625187406297\n"
     ]
    }
   ],
   "source": [
    "score=cross_val_score(dt,X,y,cv=5)\n",
    "print(score)\n",
    "print(score.mean())"
   ]
  },
  {
   "cell_type": "code",
   "execution_count": 47,
   "id": "61a83458",
   "metadata": {},
   "outputs": [
    {
     "name": "stdout",
     "output_type": "stream",
     "text": [
      "[0.81034483 0.79310345 0.79130435 0.68695652 0.82608696]\n",
      "0.7815592203898051\n"
     ]
    }
   ],
   "source": [
    "score=cross_val_score(sv,X,y,cv=5)\n",
    "print(score)\n",
    "print(score.mean())"
   ]
  },
  {
   "cell_type": "code",
   "execution_count": 48,
   "id": "230e428e",
   "metadata": {},
   "outputs": [
    {
     "name": "stdout",
     "output_type": "stream",
     "text": [
      "[0.76724138 0.77586207 0.79130435 0.8173913  0.8173913 ]\n",
      "0.7938380809595202\n"
     ]
    }
   ],
   "source": [
    "score=cross_val_score(rf,X,y,cv=5)\n",
    "print(score)\n",
    "print(score.mean())"
   ]
  },
  {
   "cell_type": "code",
   "execution_count": null,
   "id": "cf7ce092",
   "metadata": {},
   "outputs": [],
   "source": []
  },
  {
   "cell_type": "code",
   "execution_count": null,
   "id": "3ce1a968",
   "metadata": {},
   "outputs": [],
   "source": []
  },
  {
   "cell_type": "code",
   "execution_count": 49,
   "id": "d97025ee",
   "metadata": {},
   "outputs": [
    {
     "name": "stdout",
     "output_type": "stream",
     "text": [
      "{'criterion': 'entropy', 'max_features': 'log2', 'splitter': 'random'}\n",
      "0.7383854584335738\n"
     ]
    }
   ],
   "source": [
    "from sklearn.model_selection import GridSearchCV\n",
    "grid_param = {'criterion':['gini','entropy'],'splitter':['best', 'random'],'max_features' : ['auto', 'sqrt', 'log2']}\n",
    "gd_sr_dt= GridSearchCV(estimator=dt,param_grid=grid_param,scoring='accuracy')\n",
    "gd_sr_dt.fit(x_train,y_train)\n",
    "best_parameters =gd_sr_dt.best_params_\n",
    "print(best_parameters)\n",
    "best_result= gd_sr_dt.best_score_\n",
    "print(best_result)"
   ]
  },
  {
   "cell_type": "code",
   "execution_count": 50,
   "id": "eb40ef02",
   "metadata": {},
   "outputs": [
    {
     "name": "stdout",
     "output_type": "stream",
     "text": [
      "0.7103448275862069\n",
      "[[20 22]\n",
      " [20 83]]\n",
      "              precision    recall  f1-score   support\n",
      "\n",
      "           0       0.50      0.48      0.49        42\n",
      "           1       0.79      0.81      0.80       103\n",
      "\n",
      "    accuracy                           0.71       145\n",
      "   macro avg       0.65      0.64      0.64       145\n",
      "weighted avg       0.71      0.71      0.71       145\n",
      "\n"
     ]
    }
   ],
   "source": [
    "dt=DecisionTreeClassifier(criterion= 'entropy', max_features= 'auto', splitter= 'random')\n",
    "dt.fit(x_train,y_train)\n",
    "predd=dt.predict(x_test)\n",
    "print(accuracy_score(y_test,predd))\n",
    "print(confusion_matrix(y_test,predd))\n",
    "print(classification_report(y_test,predd))"
   ]
  },
  {
   "cell_type": "code",
   "execution_count": null,
   "id": "44aa50d8",
   "metadata": {},
   "outputs": [],
   "source": []
  },
  {
   "cell_type": "code",
   "execution_count": 51,
   "id": "0113dba4",
   "metadata": {},
   "outputs": [
    {
     "name": "stdout",
     "output_type": "stream",
     "text": [
      "{'algorithm': 'SAMME', 'learning_rate': 1, 'n_estimators': 1}\n",
      "0.8101844426623896\n"
     ]
    }
   ],
   "source": [
    "grid_param = {'algorithm':['SAMME', 'SAMME.R'],'n_estimators':[1,10,100],'learning_rate':[1,10,20]}\n",
    "gd_sr_ad= GridSearchCV(estimator=ad,param_grid=grid_param,scoring='accuracy')\n",
    "gd_sr_ad.fit(x_train,y_train)\n",
    "best_parameters =gd_sr_ad.best_params_\n",
    "print(best_parameters)\n",
    "best_result= gd_sr_ad.best_score_\n",
    "print(best_result)"
   ]
  },
  {
   "cell_type": "code",
   "execution_count": 52,
   "id": "feebf659",
   "metadata": {},
   "outputs": [
    {
     "name": "stdout",
     "output_type": "stream",
     "text": [
      "0.8413793103448276\n",
      "[[ 20  22]\n",
      " [  1 102]]\n",
      "              precision    recall  f1-score   support\n",
      "\n",
      "           0       0.95      0.48      0.63        42\n",
      "           1       0.82      0.99      0.90       103\n",
      "\n",
      "    accuracy                           0.84       145\n",
      "   macro avg       0.89      0.73      0.77       145\n",
      "weighted avg       0.86      0.84      0.82       145\n",
      "\n"
     ]
    }
   ],
   "source": [
    "ad=AdaBoostClassifier(algorithm='SAMME',learning_rate=1,n_estimators=1)\n",
    "ad.fit(x_train,y_train)\n",
    "predad=ad.predict(x_test)\n",
    "print(accuracy_score(y_test,predad))\n",
    "print(confusion_matrix(y_test,predad))\n",
    "print(classification_report(y_test,predad))"
   ]
  },
  {
   "cell_type": "code",
   "execution_count": null,
   "id": "c07ea6e7",
   "metadata": {},
   "outputs": [],
   "source": []
  },
  {
   "cell_type": "code",
   "execution_count": 53,
   "id": "688e255c",
   "metadata": {},
   "outputs": [
    {
     "name": "stdout",
     "output_type": "stream",
     "text": [
      "{'C': 1.0, 'multi_class': 'auto', 'penalty': 'l2'}\n",
      "0.8125100240577385\n"
     ]
    }
   ],
   "source": [
    "grid={\"C\":np.logspace(-3,3,7), \"penalty\":[\"l1\",\"l2\",\"elasticnet\"],'multi_class':['auto', 'ovr', 'multinomial']}\n",
    "lg=LogisticRegression()\n",
    "lg_cv=GridSearchCV(lg,grid)\n",
    "lg_cv.fit(x_train,y_train)\n",
    "print(lg_cv.best_params_)\n",
    "print(lg_cv.best_score_)"
   ]
  },
  {
   "cell_type": "code",
   "execution_count": 54,
   "id": "0bdb41c3",
   "metadata": {},
   "outputs": [
    {
     "name": "stdout",
     "output_type": "stream",
     "text": [
      "0.8413793103448276\n",
      "[[ 20  22]\n",
      " [  1 102]]\n",
      "              precision    recall  f1-score   support\n",
      "\n",
      "           0       0.95      0.48      0.63        42\n",
      "           1       0.82      0.99      0.90       103\n",
      "\n",
      "    accuracy                           0.84       145\n",
      "   macro avg       0.89      0.73      0.77       145\n",
      "weighted avg       0.86      0.84      0.82       145\n",
      "\n"
     ]
    }
   ],
   "source": [
    "lg=LogisticRegression(C=1,multi_class='auto',penalty='l2')\n",
    "lg.fit(x_train,y_train)\n",
    "predlg=lg.predict(x_test)\n",
    "print(accuracy_score(y_test,predlg))\n",
    "print(confusion_matrix(y_test,predlg))\n",
    "print(classification_report(y_test,predlg))"
   ]
  },
  {
   "cell_type": "markdown",
   "id": "17d16c99",
   "metadata": {},
   "source": [
    "parameters = {'kernel':['linear','poly','rbf'],'C':[1,10],'gamma':['scale','auto']}\n",
    "\n",
    "sv=SVC()\n",
    "\n",
    "clf=GridSearchCV(sv,parameters)\n",
    "\n",
    "clf.fit(x_train,y_train)\n",
    "\n",
    "best_parameters =clf.best_params_\n",
    "\n",
    "print(best_parameters)\n",
    "\n",
    "best_result= clf.best_score_\n",
    "\n",
    "print(best_result)\n",
    "\n",
    "\n",
    "sv=SVC(BEST EXTRACTED PARAMETERS)\n",
    "\n",
    "sv.fit(x_train,y_train)\n",
    "\n",
    "predsv=sv.predict(x_test)\n",
    "\n",
    "print(accuracy_score(y_test,predsv))\n",
    "\n",
    "print(confusion_matrix(y_test,predsv))\n",
    "\n",
    "print(classification_report(y_test,predsv))\n",
    "\n",
    "\n",
    "\n",
    "\n",
    "\n",
    "------------------------------------------------------------------------------------------------------------\n",
    "\n",
    "\n",
    "\n",
    "\n",
    "\n",
    "parameters = {'criterion':['gini','entropy'],'max_features' : ['auto', 'sqrt', 'log2'],'min_samples_leaf':[2,12,22]}\n",
    "\n",
    "rf=RandomForestClassifier()\n",
    "\n",
    "rf=GridSearchCV(rf,parameters)\n",
    "\n",
    "rf.fit(x_train,y_train)\n",
    "\n",
    "best_parameters =clf.best_params_\n",
    "\n",
    "print(best_parameters)\n",
    "\n",
    "best_result= clf.best_score_\n",
    "\n",
    "print(best_result)\n",
    "\n",
    "\n",
    "rf=RandomForestClassifier(BEST EXTRACTED PARAMETERS)\n",
    "\n",
    "rf.fit(x_train,y_train)\n",
    "\n",
    "predrf=rf.predict(x_test)\n",
    "\n",
    "print(accuracy_score(y_test,predrf))\n",
    "\n",
    "print(confusion_matrix(y_test,predrf))\n",
    "\n",
    "print(classification_report(y_test,predrf))\n"
   ]
  },
  {
   "cell_type": "raw",
   "id": "3bef171c",
   "metadata": {},
   "source": [
    "Due to some unknown issue I'm unable to run Hyperparameter using SVC and RandomForestClassifier. So I have written the code but haven't run. Please consider my request and give marks considering the issue.\n",
    "\n",
    "I have tried running codes on Google Colab and Kaggle as well but didn't work. I'm facing this problem in every project where I use SVC and RFC for Hyperparameter tuning."
   ]
  },
  {
   "cell_type": "code",
   "execution_count": null,
   "id": "f8505974",
   "metadata": {},
   "outputs": [],
   "source": []
  },
  {
   "cell_type": "code",
   "execution_count": null,
   "id": "f44e2060",
   "metadata": {},
   "outputs": [],
   "source": []
  },
  {
   "cell_type": "code",
   "execution_count": null,
   "id": "68580608",
   "metadata": {},
   "outputs": [],
   "source": []
  },
  {
   "cell_type": "code",
   "execution_count": 55,
   "id": "46e3b752",
   "metadata": {},
   "outputs": [
    {
     "data": {
      "text/plain": [
       "AdaBoostClassifier(algorithm='SAMME', learning_rate=1, n_estimators=1)"
      ]
     },
     "execution_count": 55,
     "metadata": {},
     "output_type": "execute_result"
    }
   ],
   "source": [
    "import joblib\n",
    "joblib.dump(ad,'ad.obj')\n",
    "\n",
    "adfile=joblib.load('ad.obj')\n",
    "adfile.fit(x_train, y_train)"
   ]
  },
  {
   "cell_type": "code",
   "execution_count": null,
   "id": "a602eeba",
   "metadata": {},
   "outputs": [],
   "source": []
  },
  {
   "cell_type": "code",
   "execution_count": null,
   "id": "a0a0a3fc",
   "metadata": {},
   "outputs": [],
   "source": []
  },
  {
   "cell_type": "markdown",
   "id": "83d70ab4",
   "metadata": {},
   "source": [
    "# AUC-ROC Curve"
   ]
  },
  {
   "cell_type": "code",
   "execution_count": 56,
   "id": "9f476d0d",
   "metadata": {},
   "outputs": [],
   "source": [
    "from sklearn.metrics import roc_curve\n",
    "import matplotlib.pyplot as plt\n",
    "\n",
    "from sklearn.metrics import roc_auc_score"
   ]
  },
  {
   "cell_type": "code",
   "execution_count": 57,
   "id": "525821b3",
   "metadata": {},
   "outputs": [],
   "source": [
    "y_pred_prob=lg.predict_proba(x_test)[:,1]"
   ]
  },
  {
   "cell_type": "code",
   "execution_count": 58,
   "id": "ada26e3a",
   "metadata": {},
   "outputs": [
    {
     "data": {
      "text/plain": [
       "array([0.19237878, 0.16733742, 0.72469032, 0.84739517, 0.8563519 ,\n",
       "       0.83211584, 0.76304886, 0.76086333, 0.69863502, 0.83614857,\n",
       "       0.70588328, 0.70949361, 0.84652443, 0.85002818, 0.1521665 ,\n",
       "       0.806065  , 0.78639507, 0.76385628, 0.7501214 , 0.82060082,\n",
       "       0.73265792, 0.82474542, 0.10355035, 0.80160885, 0.83099707,\n",
       "       0.73861511, 0.77988716, 0.81935543, 0.78376424, 0.84372479,\n",
       "       0.82373443, 0.86790427, 0.80051355, 0.85247811, 0.83443108,\n",
       "       0.85339435, 0.82004311, 0.85952229, 0.89285894, 0.80601613,\n",
       "       0.65157039, 0.83842642, 0.83252268, 0.73383   , 0.79504616,\n",
       "       0.86460164, 0.17033382, 0.79029374, 0.82063652, 0.76329615,\n",
       "       0.7577725 , 0.75428525, 0.85797681, 0.62855813, 0.79485497,\n",
       "       0.63392914, 0.8738664 , 0.16061374, 0.69061735, 0.71218607,\n",
       "       0.69449754, 0.85009996, 0.79266279, 0.73965144, 0.83503715,\n",
       "       0.80296095, 0.70639786, 0.74046422, 0.70035718, 0.11831749,\n",
       "       0.72615797, 0.83353195, 0.7190056 , 0.8874354 , 0.1940254 ,\n",
       "       0.69378732, 0.77295769, 0.86653295, 0.67888617, 0.85525169,\n",
       "       0.75890048, 0.8789238 , 0.76002775, 0.14293856, 0.15742269,\n",
       "       0.83116825, 0.10077466, 0.80516363, 0.85280639, 0.85455628,\n",
       "       0.80839966, 0.75059949, 0.83445936, 0.78559795, 0.81413472,\n",
       "       0.8723396 , 0.73209003, 0.73540815, 0.76353217, 0.81129651,\n",
       "       0.83667726, 0.76534236, 0.82002772, 0.83724704, 0.78373201,\n",
       "       0.74190473, 0.68641951, 0.81082605, 0.81512328, 0.08475477,\n",
       "       0.7436835 , 0.78759176, 0.18316534, 0.81340196, 0.80161684,\n",
       "       0.84712516, 0.73908963, 0.80810713, 0.83558159, 0.1261725 ,\n",
       "       0.08502804, 0.14354074, 0.75545001, 0.63110118, 0.79963734,\n",
       "       0.76363082, 0.85536469, 0.78461019, 0.80383031, 0.12937952,\n",
       "       0.85395825, 0.85098246, 0.76185609, 0.75111487, 0.79938789,\n",
       "       0.10318702, 0.13846896, 0.75641644, 0.67323259, 0.13764772,\n",
       "       0.82152534, 0.83799529, 0.79461019, 0.1312664 , 0.84379006])"
      ]
     },
     "execution_count": 58,
     "metadata": {},
     "output_type": "execute_result"
    }
   ],
   "source": [
    "y_pred_prob"
   ]
  },
  {
   "cell_type": "code",
   "execution_count": 59,
   "id": "01e8d43d",
   "metadata": {},
   "outputs": [],
   "source": [
    "fpr,tpr,thresholds=roc_curve(y_test,y_pred_prob)"
   ]
  },
  {
   "cell_type": "code",
   "execution_count": 60,
   "id": "8bd311eb",
   "metadata": {},
   "outputs": [
    {
     "data": {
      "text/plain": [
       "array([0.        , 0.02380952, 0.02380952, 0.04761905, 0.04761905,\n",
       "       0.07142857, 0.07142857, 0.0952381 , 0.0952381 , 0.11904762,\n",
       "       0.11904762, 0.16666667, 0.16666667, 0.19047619, 0.19047619,\n",
       "       0.21428571, 0.21428571, 0.26190476, 0.26190476, 0.28571429,\n",
       "       0.28571429, 0.30952381, 0.30952381, 0.33333333, 0.33333333,\n",
       "       0.4047619 , 0.4047619 , 0.42857143, 0.42857143, 0.47619048,\n",
       "       0.47619048, 0.52380952, 0.52380952, 0.54761905, 0.54761905,\n",
       "       1.        ])"
      ]
     },
     "execution_count": 60,
     "metadata": {},
     "output_type": "execute_result"
    }
   ],
   "source": [
    "fpr"
   ]
  },
  {
   "cell_type": "code",
   "execution_count": 61,
   "id": "b94e6104",
   "metadata": {},
   "outputs": [
    {
     "data": {
      "text/plain": [
       "array([0.        , 0.        , 0.00970874, 0.00970874, 0.02912621,\n",
       "       0.02912621, 0.08737864, 0.08737864, 0.26213592, 0.26213592,\n",
       "       0.31067961, 0.31067961, 0.41747573, 0.41747573, 0.45631068,\n",
       "       0.45631068, 0.48543689, 0.48543689, 0.49514563, 0.49514563,\n",
       "       0.66990291, 0.66990291, 0.69902913, 0.69902913, 0.72815534,\n",
       "       0.72815534, 0.74757282, 0.74757282, 0.87378641, 0.87378641,\n",
       "       0.97087379, 0.97087379, 0.99029126, 0.99029126, 1.        ,\n",
       "       1.        ])"
      ]
     },
     "execution_count": 61,
     "metadata": {},
     "output_type": "execute_result"
    }
   ],
   "source": [
    "tpr"
   ]
  },
  {
   "cell_type": "code",
   "execution_count": 62,
   "id": "ed868c16",
   "metadata": {},
   "outputs": [
    {
     "data": {
      "text/plain": [
       "array([1.89285894, 0.89285894, 0.8874354 , 0.8789238 , 0.8723396 ,\n",
       "       0.86790427, 0.85536469, 0.85525169, 0.83614857, 0.83558159,\n",
       "       0.83252268, 0.83116825, 0.81413472, 0.81340196, 0.80810713,\n",
       "       0.806065  , 0.80383031, 0.80161684, 0.80160885, 0.80051355,\n",
       "       0.76363082, 0.76353217, 0.76185609, 0.76086333, 0.7577725 ,\n",
       "       0.75428525, 0.75059949, 0.7501214 , 0.7190056 , 0.70949361,\n",
       "       0.67323259, 0.63392914, 0.62855813, 0.1940254 , 0.19237878,\n",
       "       0.08475477])"
      ]
     },
     "execution_count": 62,
     "metadata": {},
     "output_type": "execute_result"
    }
   ],
   "source": [
    "thresholds"
   ]
  },
  {
   "cell_type": "code",
   "execution_count": 63,
   "id": "d9e4326e",
   "metadata": {},
   "outputs": [
    {
     "data": {
      "image/png": "[encoded data removed]",
      "text/plain": [
       "<Figure size 432x288 with 1 Axes>"
      ]
     },
     "metadata": {
      "needs_background": "light"
     },
     "output_type": "display_data"
    }
   ],
   "source": [
    "plt.plot([0,1],[0,1],'k--')\n",
    "plt.plot(fpr,tpr,label='Logistic Regression')\n",
    "plt.xlabel('No')\n",
    "plt.ylabel('Yes')\n",
    "plt.title('Logistic Regression')\n",
    "plt.show()"
   ]
  },
  {
   "cell_type": "code",
   "execution_count": 64,
   "id": "da6251c1",
   "metadata": {},
   "outputs": [],
   "source": [
    "auc_score=roc_auc_score(y_test,lg.predict(x_test))"
   ]
  },
  {
   "cell_type": "code",
   "execution_count": 65,
   "id": "edfd0ca1",
   "metadata": {},
   "outputs": [
    {
     "name": "stdout",
     "output_type": "stream",
     "text": [
      "0.7332408691631993\n"
     ]
    }
   ],
   "source": [
    "print(auc_score)"
   ]
  },
  {
   "cell_type": "code",
   "execution_count": 66,
   "id": "ef9aaa21",
   "metadata": {},
   "outputs": [
    {
     "data": {
      "image/png": "[encoded data removed]",
      "text/plain": [
       "<Figure size 432x288 with 1 Axes>"
      ]
     },
     "metadata": {
      "needs_background": "light"
     },
     "output_type": "display_data"
    },
    {
     "data": {
      "text/plain": [
       "0.7332408691631993"
      ]
     },
     "execution_count": 66,
     "metadata": {},
     "output_type": "execute_result"
    }
   ],
   "source": [
    "y_pred_prob=dt.predict_proba(x_test)[:,1]\n",
    "fpr,tpr,thresholds=roc_curve(y_test,y_pred_prob)\n",
    "plt.plot([0,1],[0,1],'k--')\n",
    "plt.plot(fpr,tpr,label='Logistic Regression')\n",
    "plt.title('Logistic Regression')\n",
    "plt.show()\n",
    "auc_score=roc_auc_score(y_test,lg.predict(x_test))\n",
    "auc_score"
   ]
  },
  {
   "cell_type": "code",
   "execution_count": null,
   "id": "d8d4f25a",
   "metadata": {},
   "outputs": [],
   "source": []
  }
 ],
 "metadata": {
  "kernelspec": {
   "display_name": "Python 3",
   "language": "python",
   "name": "python3"
  },
  "language_info": {
   "codemirror_mode": {
    "name": "ipython",
    "version": 3
   },
   "file_extension": ".py",
   "mimetype": "text/x-python",
   "name": "python",
   "nbconvert_exporter": "python",
   "pygments_lexer": "ipython3",
   "version": "3.8.8"
  }
 },
 "nbformat": 4,
 "nbformat_minor": 5
}
