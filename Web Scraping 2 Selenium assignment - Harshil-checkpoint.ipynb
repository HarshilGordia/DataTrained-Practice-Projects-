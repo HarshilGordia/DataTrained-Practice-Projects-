{
 "cells": [
  {
   "cell_type": "code",
   "execution_count": 28,
   "metadata": {},
   "outputs": [
    {
     "name": "stdout",
     "output_type": "stream",
     "text": [
      "Requirement already satisfied: selenium in c:\\users\\harshil goradia\\anaconda3\\lib\\site-packages (3.141.0)\n",
      "Requirement already satisfied: urllib3 in c:\\users\\harshil goradia\\anaconda3\\lib\\site-packages (from selenium) (1.26.4)\n"
     ]
    }
   ],
   "source": [
    "!pip install selenium"
   ]
  },
  {
   "cell_type": "code",
   "execution_count": 166,
   "metadata": {},
   "outputs": [],
   "source": [
    "import selenium \n",
    "import pandas as pd\n",
    "from selenium import webdriver\n",
    "import time"
   ]
  },
  {
   "cell_type": "code",
   "execution_count": 171,
   "metadata": {},
   "outputs": [],
   "source": [
    "driver= webdriver.Chrome(r\"C:\\Users\\Harshil Goradia\\Downloads\\chromedriver_win32\\chromedriver\")"
   ]
  },
  {
   "cell_type": "code",
   "execution_count": 79,
   "metadata": {},
   "outputs": [],
   "source": [
    "url='https://www.naukri.com/'\n",
    "driver.get(url)\n",
    "time.sleep(5)"
   ]
  },
  {
   "cell_type": "code",
   "execution_count": 80,
   "metadata": {},
   "outputs": [],
   "source": [
    "search_job=driver.find_element_by_id('qsb-keyword-sugg')"
   ]
  },
  {
   "cell_type": "code",
   "execution_count": 81,
   "metadata": {},
   "outputs": [
    {
     "data": {
      "text/plain": [
       "<selenium.webdriver.remote.webelement.WebElement (session=\"38313861dee66c5b27e4867c322bded3\", element=\"919d4207-2cd6-4faa-a937-9753763ee627\")>"
      ]
     },
     "execution_count": 81,
     "metadata": {},
     "output_type": "execute_result"
    }
   ],
   "source": [
    "search_job"
   ]
  },
  {
   "cell_type": "code",
   "execution_count": 82,
   "metadata": {},
   "outputs": [],
   "source": [
    "search_job.send_keys('Data Analyst')"
   ]
  },
  {
   "cell_type": "code",
   "execution_count": 83,
   "metadata": {},
   "outputs": [
    {
     "data": {
      "text/plain": [
       "<selenium.webdriver.remote.webelement.WebElement (session=\"38313861dee66c5b27e4867c322bded3\", element=\"f5b9d1cc-b818-4deb-b9c3-bf3efebb0ae6\")>"
      ]
     },
     "execution_count": 83,
     "metadata": {},
     "output_type": "execute_result"
    }
   ],
   "source": [
    "search_loc=driver.find_element_by_id('qsb-location-sugg')\n",
    "search_loc"
   ]
  },
  {
   "cell_type": "code",
   "execution_count": 84,
   "metadata": {},
   "outputs": [],
   "source": [
    "search_loc.send_keys('Bangalore')"
   ]
  },
  {
   "cell_type": "code",
   "execution_count": 85,
   "metadata": {},
   "outputs": [
    {
     "data": {
      "text/plain": [
       "<selenium.webdriver.remote.webelement.WebElement (session=\"38313861dee66c5b27e4867c322bded3\", element=\"947cf9f5-af4c-4880-b454-8fa7aa8e6df1\")>"
      ]
     },
     "execution_count": 85,
     "metadata": {},
     "output_type": "execute_result"
    }
   ],
   "source": [
    "search_btn=driver.find_element_by_xpath(\"//button[@class='btn']\")\n",
    "search_btn"
   ]
  },
  {
   "cell_type": "code",
   "execution_count": 86,
   "metadata": {},
   "outputs": [],
   "source": [
    "search_btn=driver.find_element_by_xpath(\"//button[@class='btn']\")\n",
    "search_btn.click()"
   ]
  },
  {
   "cell_type": "code",
   "execution_count": 87,
   "metadata": {},
   "outputs": [
    {
     "data": {
      "text/plain": [
       "[<selenium.webdriver.remote.webelement.WebElement (session=\"38313861dee66c5b27e4867c322bded3\", element=\"6ceccaeb-9658-4287-87c3-dd6b9a7f9685\")>,\n",
       " <selenium.webdriver.remote.webelement.WebElement (session=\"38313861dee66c5b27e4867c322bded3\", element=\"01eeb6a9-c33b-4013-b316-2d43e6f4f871\")>,\n",
       " <selenium.webdriver.remote.webelement.WebElement (session=\"38313861dee66c5b27e4867c322bded3\", element=\"c34081a2-b3b2-4b6e-b6cf-a596702e101f\")>,\n",
       " <selenium.webdriver.remote.webelement.WebElement (session=\"38313861dee66c5b27e4867c322bded3\", element=\"aecb3f5b-941e-45f1-82d6-c8f2d7c67f81\")>,\n",
       " <selenium.webdriver.remote.webelement.WebElement (session=\"38313861dee66c5b27e4867c322bded3\", element=\"a8d3b921-d6a3-4bd9-8b8e-65e62a4df890\")>,\n",
       " <selenium.webdriver.remote.webelement.WebElement (session=\"38313861dee66c5b27e4867c322bded3\", element=\"05d6f482-6832-4d5a-b145-8e721dfb32a4\")>,\n",
       " <selenium.webdriver.remote.webelement.WebElement (session=\"38313861dee66c5b27e4867c322bded3\", element=\"53a84883-0c65-46b1-b368-f7fbfbfe35eb\")>,\n",
       " <selenium.webdriver.remote.webelement.WebElement (session=\"38313861dee66c5b27e4867c322bded3\", element=\"2815efa6-d8af-47c8-b07e-c32dc23c299c\")>,\n",
       " <selenium.webdriver.remote.webelement.WebElement (session=\"38313861dee66c5b27e4867c322bded3\", element=\"d1ce3148-8e82-4cfc-81fa-0661083426d8\")>,\n",
       " <selenium.webdriver.remote.webelement.WebElement (session=\"38313861dee66c5b27e4867c322bded3\", element=\"cb88ff5a-371f-4df1-b34a-7a724ba5cf32\")>,\n",
       " <selenium.webdriver.remote.webelement.WebElement (session=\"38313861dee66c5b27e4867c322bded3\", element=\"e6f02d11-70fb-43c6-8b3c-d43b4a5878fc\")>,\n",
       " <selenium.webdriver.remote.webelement.WebElement (session=\"38313861dee66c5b27e4867c322bded3\", element=\"403bcc28-079f-4665-b6ba-da684bacd8bf\")>,\n",
       " <selenium.webdriver.remote.webelement.WebElement (session=\"38313861dee66c5b27e4867c322bded3\", element=\"1502defd-3bd1-4189-9003-eef9bdb62209\")>,\n",
       " <selenium.webdriver.remote.webelement.WebElement (session=\"38313861dee66c5b27e4867c322bded3\", element=\"8c9b9c70-4771-4f5b-8f62-4e70bbe649aa\")>,\n",
       " <selenium.webdriver.remote.webelement.WebElement (session=\"38313861dee66c5b27e4867c322bded3\", element=\"3e42f730-dda8-4e84-8343-84218d0f08c6\")>,\n",
       " <selenium.webdriver.remote.webelement.WebElement (session=\"38313861dee66c5b27e4867c322bded3\", element=\"95b5aabf-ff71-4748-9459-db4ad6e34fc3\")>,\n",
       " <selenium.webdriver.remote.webelement.WebElement (session=\"38313861dee66c5b27e4867c322bded3\", element=\"09360fa6-44a6-42b6-9313-a908e6d6fe81\")>,\n",
       " <selenium.webdriver.remote.webelement.WebElement (session=\"38313861dee66c5b27e4867c322bded3\", element=\"09c31bd6-fafa-4a8c-8992-1ec1b8a75eed\")>,\n",
       " <selenium.webdriver.remote.webelement.WebElement (session=\"38313861dee66c5b27e4867c322bded3\", element=\"0b6d3434-bf8f-4df4-9478-b994012c4f34\")>,\n",
       " <selenium.webdriver.remote.webelement.WebElement (session=\"38313861dee66c5b27e4867c322bded3\", element=\"c423e1b8-9a7a-4e64-8014-0abc896fd41f\")>]"
      ]
     },
     "execution_count": 87,
     "metadata": {},
     "output_type": "execute_result"
    }
   ],
   "source": [
    "title_tags=driver.find_elements_by_xpath(\"//a[@class='title fw500 ellipsis']\")\n",
    "title_tags"
   ]
  },
  {
   "cell_type": "code",
   "execution_count": 88,
   "metadata": {},
   "outputs": [
    {
     "data": {
      "text/plain": [
       "['Data Scientist / Data Analyst -Business Analyst',\n",
       " 'Senior Data Analyst - Data Lineage',\n",
       " 'Data analysts',\n",
       " 'Data Analyst - Informatica MDM',\n",
       " 'Excel VBA Jobs Bangalore | VBA data analyst Jobs',\n",
       " 'Data analysts',\n",
       " 'Business Data Analyst',\n",
       " 'Data Analyst',\n",
       " 'Data Analyst',\n",
       " 'Data Analyst - Category Demand Management (Revenue & Growth)',\n",
       " 'data analyst',\n",
       " 'RC HIA - Data Analyst - A2',\n",
       " 'Data Analyst (Contractual)',\n",
       " 'Procurement Data Analyst',\n",
       " 'Data Analyst',\n",
       " 'Hiring Consultant Data Analyst Contractual',\n",
       " 'Data Analyst/ Data Consultant (Various Levels – Senior/ Mid/ Junior)',\n",
       " 'Senior Data Analyst',\n",
       " 'Senior Data Analyst',\n",
       " 'Senior Data Analyst']"
      ]
     },
     "execution_count": 88,
     "metadata": {},
     "output_type": "execute_result"
    }
   ],
   "source": [
    "job_titles=[]\n",
    "for i in title_tags:\n",
    "    if i.text is None:\n",
    "        job_titles.append(\"Not\")\n",
    "    else:\n",
    "        job_titles.append(i.text)\n",
    "        \n",
    "        \n",
    "job_titles        "
   ]
  },
  {
   "cell_type": "code",
   "execution_count": 89,
   "metadata": {},
   "outputs": [
    {
     "data": {
      "text/plain": [
       "[<selenium.webdriver.remote.webelement.WebElement (session=\"38313861dee66c5b27e4867c322bded3\", element=\"d2b15c74-d033-46e4-9603-7cc325c4ce31\")>,\n",
       " <selenium.webdriver.remote.webelement.WebElement (session=\"38313861dee66c5b27e4867c322bded3\", element=\"2feeed4e-5622-4140-9b1a-ef1c389d8f22\")>,\n",
       " <selenium.webdriver.remote.webelement.WebElement (session=\"38313861dee66c5b27e4867c322bded3\", element=\"579ecce7-2256-402d-9ec1-4d67ec364e77\")>,\n",
       " <selenium.webdriver.remote.webelement.WebElement (session=\"38313861dee66c5b27e4867c322bded3\", element=\"8d8252ae-f8c9-4076-b2ef-6a5430dc9897\")>,\n",
       " <selenium.webdriver.remote.webelement.WebElement (session=\"38313861dee66c5b27e4867c322bded3\", element=\"36a2ee7e-ac27-4839-8cc7-cfd071422b14\")>,\n",
       " <selenium.webdriver.remote.webelement.WebElement (session=\"38313861dee66c5b27e4867c322bded3\", element=\"a42ca0ce-718c-4684-bf1d-0f2490411d66\")>,\n",
       " <selenium.webdriver.remote.webelement.WebElement (session=\"38313861dee66c5b27e4867c322bded3\", element=\"2b1d7a2b-da62-4f4b-99fd-2a01a2060b10\")>,\n",
       " <selenium.webdriver.remote.webelement.WebElement (session=\"38313861dee66c5b27e4867c322bded3\", element=\"1be400ba-27dd-4b44-9186-2619bec2af91\")>,\n",
       " <selenium.webdriver.remote.webelement.WebElement (session=\"38313861dee66c5b27e4867c322bded3\", element=\"4339d1db-aaed-4b0b-8a1b-b1646fc838bd\")>,\n",
       " <selenium.webdriver.remote.webelement.WebElement (session=\"38313861dee66c5b27e4867c322bded3\", element=\"e933efb3-e800-4264-82d8-8df1d241a2e9\")>,\n",
       " <selenium.webdriver.remote.webelement.WebElement (session=\"38313861dee66c5b27e4867c322bded3\", element=\"7e5c7e04-398a-44d2-a46e-6b41578d3d52\")>,\n",
       " <selenium.webdriver.remote.webelement.WebElement (session=\"38313861dee66c5b27e4867c322bded3\", element=\"0dc94f69-964c-4577-8538-c2be599e311b\")>,\n",
       " <selenium.webdriver.remote.webelement.WebElement (session=\"38313861dee66c5b27e4867c322bded3\", element=\"a18f8c69-fd44-46da-b34c-35c2c736a499\")>,\n",
       " <selenium.webdriver.remote.webelement.WebElement (session=\"38313861dee66c5b27e4867c322bded3\", element=\"d61abdf5-42c1-48c6-806a-1148d58ccffa\")>,\n",
       " <selenium.webdriver.remote.webelement.WebElement (session=\"38313861dee66c5b27e4867c322bded3\", element=\"8ccaef4a-7fc3-4a68-ac9b-7d8081411151\")>,\n",
       " <selenium.webdriver.remote.webelement.WebElement (session=\"38313861dee66c5b27e4867c322bded3\", element=\"f11963dd-88e0-4606-84a2-a92401ad478d\")>,\n",
       " <selenium.webdriver.remote.webelement.WebElement (session=\"38313861dee66c5b27e4867c322bded3\", element=\"4fce44ef-8f95-4fb6-8969-289cc84603bc\")>,\n",
       " <selenium.webdriver.remote.webelement.WebElement (session=\"38313861dee66c5b27e4867c322bded3\", element=\"1c6a391e-86d3-4074-a341-12e67463eefa\")>,\n",
       " <selenium.webdriver.remote.webelement.WebElement (session=\"38313861dee66c5b27e4867c322bded3\", element=\"ca14ce49-c60d-4eec-8f83-d48bc826d622\")>,\n",
       " <selenium.webdriver.remote.webelement.WebElement (session=\"38313861dee66c5b27e4867c322bded3\", element=\"87fe0b85-482c-4f8a-aead-53a99579732a\")>]"
      ]
     },
     "execution_count": 89,
     "metadata": {},
     "output_type": "execute_result"
    }
   ],
   "source": [
    "company_tags=driver.find_elements_by_xpath(\"//a[@class='subTitle ellipsis fleft']\")\n",
    "company_tags"
   ]
  },
  {
   "cell_type": "code",
   "execution_count": 90,
   "metadata": {},
   "outputs": [
    {
     "data": {
      "text/plain": [
       "['Inflexion Analytix Private Limited',\n",
       " 'Opex Global Services',\n",
       " 'IBM India Pvt. Limited',\n",
       " 'Shell India Markets Private Limited',\n",
       " 'Mind Circus Innovation',\n",
       " 'IBM India Pvt. Limited',\n",
       " 'dotSolved India Pvt., Ltd.',\n",
       " 'Myntra Designs Pvt. Ltd.',\n",
       " 'Myntra Designs Pvt. Ltd.',\n",
       " 'Myntra Designs Pvt. Ltd.',\n",
       " 'Disha Consultants',\n",
       " 'Pricewaterhouse Coopers Private Limited',\n",
       " 'Flipkart Internet Private Limited',\n",
       " 'Schneider Electric',\n",
       " 'IBM India Pvt. Limited',\n",
       " 'Flipkart Internet Private Limited',\n",
       " 'DVSUM INDIA PRIVATE LIMITED',\n",
       " 'Cimpress India Private Limited',\n",
       " 'Eze Castle Integration Services (Formerly Alphaserve Technologies)',\n",
       " 'SENSEN VIDEO BUSINESS INTELLIGENCE PVT LTD']"
      ]
     },
     "execution_count": 90,
     "metadata": {},
     "output_type": "execute_result"
    }
   ],
   "source": [
    "company=[]\n",
    "for i in company_tags:\n",
    "    company.append(i.text)\n",
    "    \n",
    "company    "
   ]
  },
  {
   "cell_type": "code",
   "execution_count": 91,
   "metadata": {},
   "outputs": [
    {
     "data": {
      "text/plain": [
       "[<selenium.webdriver.remote.webelement.WebElement (session=\"38313861dee66c5b27e4867c322bded3\", element=\"ccb96de0-bbf7-4ea0-9dea-e2e58d86c690\")>,\n",
       " <selenium.webdriver.remote.webelement.WebElement (session=\"38313861dee66c5b27e4867c322bded3\", element=\"7cf80a34-c954-4860-a659-7d1d12045de6\")>,\n",
       " <selenium.webdriver.remote.webelement.WebElement (session=\"38313861dee66c5b27e4867c322bded3\", element=\"f0949f19-27a0-4aa5-af80-31e2a3d6a03b\")>,\n",
       " <selenium.webdriver.remote.webelement.WebElement (session=\"38313861dee66c5b27e4867c322bded3\", element=\"d7de9692-0e3a-4473-85d6-8ab85e8cf82f\")>,\n",
       " <selenium.webdriver.remote.webelement.WebElement (session=\"38313861dee66c5b27e4867c322bded3\", element=\"6b5fa056-b804-4677-80b6-ea7b8eb7b97f\")>,\n",
       " <selenium.webdriver.remote.webelement.WebElement (session=\"38313861dee66c5b27e4867c322bded3\", element=\"d654063d-2622-4184-a8b6-1076d04db82d\")>,\n",
       " <selenium.webdriver.remote.webelement.WebElement (session=\"38313861dee66c5b27e4867c322bded3\", element=\"7de8e345-956b-4574-9e9b-f2197cabdc57\")>,\n",
       " <selenium.webdriver.remote.webelement.WebElement (session=\"38313861dee66c5b27e4867c322bded3\", element=\"0cf38bef-0481-470e-b455-c5cf188ca407\")>,\n",
       " <selenium.webdriver.remote.webelement.WebElement (session=\"38313861dee66c5b27e4867c322bded3\", element=\"4b0456dc-5ec5-4663-a312-c3452192f422\")>,\n",
       " <selenium.webdriver.remote.webelement.WebElement (session=\"38313861dee66c5b27e4867c322bded3\", element=\"ce254142-3507-400c-afbe-a08cb6bd3671\")>,\n",
       " <selenium.webdriver.remote.webelement.WebElement (session=\"38313861dee66c5b27e4867c322bded3\", element=\"8bb6b14f-49bd-4792-bd19-4fcb3cba3427\")>,\n",
       " <selenium.webdriver.remote.webelement.WebElement (session=\"38313861dee66c5b27e4867c322bded3\", element=\"54d7b64d-8f05-4789-9ae7-0a5f3096184a\")>,\n",
       " <selenium.webdriver.remote.webelement.WebElement (session=\"38313861dee66c5b27e4867c322bded3\", element=\"6652eb14-add1-4338-84ca-c8762c7b3157\")>,\n",
       " <selenium.webdriver.remote.webelement.WebElement (session=\"38313861dee66c5b27e4867c322bded3\", element=\"1a6bebe4-5ecf-4153-afa0-75b14b34ac59\")>,\n",
       " <selenium.webdriver.remote.webelement.WebElement (session=\"38313861dee66c5b27e4867c322bded3\", element=\"8525dd5d-3e09-4001-9dbf-34383dfb05be\")>,\n",
       " <selenium.webdriver.remote.webelement.WebElement (session=\"38313861dee66c5b27e4867c322bded3\", element=\"3ebf1aab-6c73-473f-9b5f-c8bac19fbadc\")>,\n",
       " <selenium.webdriver.remote.webelement.WebElement (session=\"38313861dee66c5b27e4867c322bded3\", element=\"8b78787e-ef28-4ca3-9c1e-2bf2372c32c5\")>,\n",
       " <selenium.webdriver.remote.webelement.WebElement (session=\"38313861dee66c5b27e4867c322bded3\", element=\"a1d33940-82d4-40d4-9f11-c3e2d0aa80be\")>,\n",
       " <selenium.webdriver.remote.webelement.WebElement (session=\"38313861dee66c5b27e4867c322bded3\", element=\"f887f7c1-245b-4fd3-8210-68cb5bcda4d7\")>,\n",
       " <selenium.webdriver.remote.webelement.WebElement (session=\"38313861dee66c5b27e4867c322bded3\", element=\"50fc2c52-e104-42bf-af83-126783790d6f\")>]"
      ]
     },
     "execution_count": 91,
     "metadata": {},
     "output_type": "execute_result"
    }
   ],
   "source": [
    "exp_tags=driver.find_elements_by_xpath(\"//li[@class='fleft grey-text br2 placeHolderLi experience']//span\")\n",
    "exp_tags"
   ]
  },
  {
   "cell_type": "code",
   "execution_count": 92,
   "metadata": {},
   "outputs": [
    {
     "data": {
      "text/plain": [
       "['0-3 Yrs',\n",
       " '5-10 Yrs',\n",
       " '5-6 Yrs',\n",
       " '6-9 Yrs',\n",
       " '0-1 Yrs',\n",
       " '3-5 Yrs',\n",
       " '9-13 Yrs',\n",
       " '3-5 Yrs',\n",
       " '3-8 Yrs',\n",
       " '1-4 Yrs',\n",
       " '2-4 Yrs',\n",
       " '4-6 Yrs',\n",
       " '1-4 Yrs',\n",
       " '1-3 Yrs',\n",
       " '5-10 Yrs',\n",
       " '2-6 Yrs',\n",
       " '5-10 Yrs',\n",
       " '3-8 Yrs',\n",
       " '6-11 Yrs',\n",
       " '2-6 Yrs']"
      ]
     },
     "execution_count": 92,
     "metadata": {},
     "output_type": "execute_result"
    }
   ],
   "source": [
    "experience=[]\n",
    "for i in exp_tags:\n",
    "    experience.append(i.text)\n",
    "    \n",
    "experience    "
   ]
  },
  {
   "cell_type": "code",
   "execution_count": 93,
   "metadata": {},
   "outputs": [
    {
     "data": {
      "text/plain": [
       "[<selenium.webdriver.remote.webelement.WebElement (session=\"38313861dee66c5b27e4867c322bded3\", element=\"b3591a05-f5c2-420e-9722-a3a566c27396\")>,\n",
       " <selenium.webdriver.remote.webelement.WebElement (session=\"38313861dee66c5b27e4867c322bded3\", element=\"5b055b03-4394-4d29-9a4e-2a3b32ad061a\")>,\n",
       " <selenium.webdriver.remote.webelement.WebElement (session=\"38313861dee66c5b27e4867c322bded3\", element=\"53f977aa-9825-4714-bb65-8c4ec31216df\")>,\n",
       " <selenium.webdriver.remote.webelement.WebElement (session=\"38313861dee66c5b27e4867c322bded3\", element=\"8b5b5cfa-1d5c-4afd-8f50-b78c3c04e9fe\")>,\n",
       " <selenium.webdriver.remote.webelement.WebElement (session=\"38313861dee66c5b27e4867c322bded3\", element=\"89446e2a-1b92-489d-9818-556189f19332\")>,\n",
       " <selenium.webdriver.remote.webelement.WebElement (session=\"38313861dee66c5b27e4867c322bded3\", element=\"81413adf-033d-4df0-99a7-7aab66571ed7\")>,\n",
       " <selenium.webdriver.remote.webelement.WebElement (session=\"38313861dee66c5b27e4867c322bded3\", element=\"58153e5b-155e-4348-a3b8-a461a243e81c\")>,\n",
       " <selenium.webdriver.remote.webelement.WebElement (session=\"38313861dee66c5b27e4867c322bded3\", element=\"436b6e9e-b57b-4988-88aa-a5570efb545f\")>,\n",
       " <selenium.webdriver.remote.webelement.WebElement (session=\"38313861dee66c5b27e4867c322bded3\", element=\"d67a4352-80e5-4288-bb4a-c7296e502313\")>,\n",
       " <selenium.webdriver.remote.webelement.WebElement (session=\"38313861dee66c5b27e4867c322bded3\", element=\"05813841-0005-4c21-ab08-59783156a076\")>,\n",
       " <selenium.webdriver.remote.webelement.WebElement (session=\"38313861dee66c5b27e4867c322bded3\", element=\"bd1f73c5-8675-40d8-84d6-f1edb38ad20c\")>,\n",
       " <selenium.webdriver.remote.webelement.WebElement (session=\"38313861dee66c5b27e4867c322bded3\", element=\"555cb4ee-4325-4cba-853c-adf5d7e622aa\")>,\n",
       " <selenium.webdriver.remote.webelement.WebElement (session=\"38313861dee66c5b27e4867c322bded3\", element=\"804b7d94-ad64-4e20-b54f-49c2c9f05358\")>,\n",
       " <selenium.webdriver.remote.webelement.WebElement (session=\"38313861dee66c5b27e4867c322bded3\", element=\"7913edd3-641e-47f3-bff9-f2ae30152dad\")>,\n",
       " <selenium.webdriver.remote.webelement.WebElement (session=\"38313861dee66c5b27e4867c322bded3\", element=\"0ba415fa-bf89-4639-9ebd-d35bc75b2a3a\")>,\n",
       " <selenium.webdriver.remote.webelement.WebElement (session=\"38313861dee66c5b27e4867c322bded3\", element=\"513fdff2-150d-4f95-8ae8-7d723fac15e9\")>,\n",
       " <selenium.webdriver.remote.webelement.WebElement (session=\"38313861dee66c5b27e4867c322bded3\", element=\"2c6b597e-fe55-4aca-8178-34307a3d0c7c\")>,\n",
       " <selenium.webdriver.remote.webelement.WebElement (session=\"38313861dee66c5b27e4867c322bded3\", element=\"825b0d86-0b57-490c-9df8-4ae2774c2434\")>,\n",
       " <selenium.webdriver.remote.webelement.WebElement (session=\"38313861dee66c5b27e4867c322bded3\", element=\"3f5006a4-200d-4632-8148-132c0362ae22\")>,\n",
       " <selenium.webdriver.remote.webelement.WebElement (session=\"38313861dee66c5b27e4867c322bded3\", element=\"447df203-6a65-44a7-897d-eda9131291fd\")>]"
      ]
     },
     "execution_count": 93,
     "metadata": {},
     "output_type": "execute_result"
    }
   ],
   "source": [
    "loc_tags=driver.find_elements_by_xpath(\"//li[@class='fleft grey-text br2 placeHolderLi location']//span\")\n",
    "loc_tags"
   ]
  },
  {
   "cell_type": "code",
   "execution_count": 94,
   "metadata": {},
   "outputs": [
    {
     "data": {
      "text/plain": [
       "['Mumbai, Hyderabad/Secunderabad, Pune, Gurgaon/Gurugram, Chennai, Bangalore/Bengaluru',\n",
       " 'Bangalore/Bengaluru',\n",
       " 'Bengaluru/Bangalore',\n",
       " 'Bangalore/Bengaluru',\n",
       " 'Mysore/Mysuru, Coimbatore, Bangalore/Bengaluru',\n",
       " 'Bangalore/Bengaluru',\n",
       " 'Chennai, Bangalore/Bengaluru, Mumbai (All Areas)',\n",
       " 'Bangalore/Bengaluru',\n",
       " 'Bangalore/Bengaluru',\n",
       " 'Bangalore/Bengaluru',\n",
       " 'Pune, Chennai, Jaipur, Bangalore/Bengaluru',\n",
       " 'Bangalore/Bengaluru',\n",
       " 'Bangalore/Bengaluru(Bellandur)',\n",
       " 'Bangalore/Bengaluru',\n",
       " 'Bangalore/Bengaluru',\n",
       " 'Bangalore/Bengaluru',\n",
       " 'Bangalore/Bengaluru',\n",
       " 'Bangalore/Bengaluru',\n",
       " 'Hyderabad/Secunderabad, Bangalore/Bengaluru',\n",
       " 'Hyderabad/Secunderabad, Bangalore/Bengaluru']"
      ]
     },
     "execution_count": 94,
     "metadata": {},
     "output_type": "execute_result"
    }
   ],
   "source": [
    "location=[]\n",
    "for i in loc_tags:\n",
    "    location.append(i.text)\n",
    "    \n",
    "location    "
   ]
  },
  {
   "cell_type": "code",
   "execution_count": 95,
   "metadata": {},
   "outputs": [
    {
     "name": "stdout",
     "output_type": "stream",
     "text": [
      "20 20 20 20\n"
     ]
    }
   ],
   "source": [
    "print(len(job_titles),len(company),len(experience),len(location))"
   ]
  },
  {
   "cell_type": "code",
   "execution_count": 96,
   "metadata": {},
   "outputs": [],
   "source": [
    "jobs=pd.DataFrame({})\n",
    "jobs['Title']=job_titles[:10]\n",
    "jobs['Location']=location[:10]\n",
    "jobs['Company']=company[:10]\n",
    "jobs['Experience']=experience[:10]"
   ]
  },
  {
   "cell_type": "code",
   "execution_count": 97,
   "metadata": {},
   "outputs": [
    {
     "data": {
      "text/html": [
       "<div>\n",
       "<style scoped>\n",
       "    .dataframe tbody tr th:only-of-type {\n",
       "        vertical-align: middle;\n",
       "    }\n",
       "\n",
       "    .dataframe tbody tr th {\n",
       "        vertical-align: top;\n",
       "    }\n",
       "\n",
       "    .dataframe thead th {\n",
       "        text-align: right;\n",
       "    }\n",
       "</style>\n",
       "<table border=\"1\" class=\"dataframe\">\n",
       "  <thead>\n",
       "    <tr style=\"text-align: right;\">\n",
       "      <th></th>\n",
       "      <th>Title</th>\n",
       "      <th>Location</th>\n",
       "      <th>Company</th>\n",
       "      <th>Experience</th>\n",
       "    </tr>\n",
       "  </thead>\n",
       "  <tbody>\n",
       "    <tr>\n",
       "      <th>0</th>\n",
       "      <td>Data Scientist / Data Analyst -Business Analyst</td>\n",
       "      <td>Mumbai, Hyderabad/Secunderabad, Pune, Gurgaon/...</td>\n",
       "      <td>Inflexion Analytix Private Limited</td>\n",
       "      <td>0-3 Yrs</td>\n",
       "    </tr>\n",
       "    <tr>\n",
       "      <th>1</th>\n",
       "      <td>Senior Data Analyst - Data Lineage</td>\n",
       "      <td>Bangalore/Bengaluru</td>\n",
       "      <td>Opex Global Services</td>\n",
       "      <td>5-10 Yrs</td>\n",
       "    </tr>\n",
       "    <tr>\n",
       "      <th>2</th>\n",
       "      <td>Data analysts</td>\n",
       "      <td>Bengaluru/Bangalore</td>\n",
       "      <td>IBM India Pvt. Limited</td>\n",
       "      <td>5-6 Yrs</td>\n",
       "    </tr>\n",
       "    <tr>\n",
       "      <th>3</th>\n",
       "      <td>Data Analyst - Informatica MDM</td>\n",
       "      <td>Bangalore/Bengaluru</td>\n",
       "      <td>Shell India Markets Private Limited</td>\n",
       "      <td>6-9 Yrs</td>\n",
       "    </tr>\n",
       "    <tr>\n",
       "      <th>4</th>\n",
       "      <td>Excel VBA Jobs Bangalore | VBA data analyst Jobs</td>\n",
       "      <td>Mysore/Mysuru, Coimbatore, Bangalore/Bengaluru</td>\n",
       "      <td>Mind Circus Innovation</td>\n",
       "      <td>0-1 Yrs</td>\n",
       "    </tr>\n",
       "    <tr>\n",
       "      <th>5</th>\n",
       "      <td>Data analysts</td>\n",
       "      <td>Bangalore/Bengaluru</td>\n",
       "      <td>IBM India Pvt. Limited</td>\n",
       "      <td>3-5 Yrs</td>\n",
       "    </tr>\n",
       "    <tr>\n",
       "      <th>6</th>\n",
       "      <td>Business Data Analyst</td>\n",
       "      <td>Chennai, Bangalore/Bengaluru, Mumbai (All Areas)</td>\n",
       "      <td>dotSolved India Pvt., Ltd.</td>\n",
       "      <td>9-13 Yrs</td>\n",
       "    </tr>\n",
       "    <tr>\n",
       "      <th>7</th>\n",
       "      <td>Data Analyst</td>\n",
       "      <td>Bangalore/Bengaluru</td>\n",
       "      <td>Myntra Designs Pvt. Ltd.</td>\n",
       "      <td>3-5 Yrs</td>\n",
       "    </tr>\n",
       "    <tr>\n",
       "      <th>8</th>\n",
       "      <td>Data Analyst</td>\n",
       "      <td>Bangalore/Bengaluru</td>\n",
       "      <td>Myntra Designs Pvt. Ltd.</td>\n",
       "      <td>3-8 Yrs</td>\n",
       "    </tr>\n",
       "    <tr>\n",
       "      <th>9</th>\n",
       "      <td>Data Analyst - Category Demand Management (Rev...</td>\n",
       "      <td>Bangalore/Bengaluru</td>\n",
       "      <td>Myntra Designs Pvt. Ltd.</td>\n",
       "      <td>1-4 Yrs</td>\n",
       "    </tr>\n",
       "  </tbody>\n",
       "</table>\n",
       "</div>"
      ],
      "text/plain": [
       "                                               Title  \\\n",
       "0    Data Scientist / Data Analyst -Business Analyst   \n",
       "1                 Senior Data Analyst - Data Lineage   \n",
       "2                                      Data analysts   \n",
       "3                     Data Analyst - Informatica MDM   \n",
       "4   Excel VBA Jobs Bangalore | VBA data analyst Jobs   \n",
       "5                                      Data analysts   \n",
       "6                              Business Data Analyst   \n",
       "7                                       Data Analyst   \n",
       "8                                       Data Analyst   \n",
       "9  Data Analyst - Category Demand Management (Rev...   \n",
       "\n",
       "                                            Location  \\\n",
       "0  Mumbai, Hyderabad/Secunderabad, Pune, Gurgaon/...   \n",
       "1                                Bangalore/Bengaluru   \n",
       "2                                Bengaluru/Bangalore   \n",
       "3                                Bangalore/Bengaluru   \n",
       "4     Mysore/Mysuru, Coimbatore, Bangalore/Bengaluru   \n",
       "5                                Bangalore/Bengaluru   \n",
       "6   Chennai, Bangalore/Bengaluru, Mumbai (All Areas)   \n",
       "7                                Bangalore/Bengaluru   \n",
       "8                                Bangalore/Bengaluru   \n",
       "9                                Bangalore/Bengaluru   \n",
       "\n",
       "                               Company Experience  \n",
       "0   Inflexion Analytix Private Limited    0-3 Yrs  \n",
       "1                 Opex Global Services   5-10 Yrs  \n",
       "2               IBM India Pvt. Limited    5-6 Yrs  \n",
       "3  Shell India Markets Private Limited    6-9 Yrs  \n",
       "4               Mind Circus Innovation    0-1 Yrs  \n",
       "5               IBM India Pvt. Limited    3-5 Yrs  \n",
       "6           dotSolved India Pvt., Ltd.   9-13 Yrs  \n",
       "7             Myntra Designs Pvt. Ltd.    3-5 Yrs  \n",
       "8             Myntra Designs Pvt. Ltd.    3-8 Yrs  \n",
       "9             Myntra Designs Pvt. Ltd.    1-4 Yrs  "
      ]
     },
     "execution_count": 97,
     "metadata": {},
     "output_type": "execute_result"
    }
   ],
   "source": [
    "jobs"
   ]
  },
  {
   "cell_type": "code",
   "execution_count": null,
   "metadata": {},
   "outputs": [],
   "source": []
  },
  {
   "cell_type": "code",
   "execution_count": null,
   "metadata": {},
   "outputs": [],
   "source": []
  },
  {
   "cell_type": "code",
   "execution_count": null,
   "metadata": {},
   "outputs": [],
   "source": []
  },
  {
   "cell_type": "code",
   "execution_count": null,
   "metadata": {},
   "outputs": [],
   "source": []
  },
  {
   "cell_type": "markdown",
   "metadata": {},
   "source": [
    "# 2.Data Scientist Jobs in Banglore"
   ]
  },
  {
   "cell_type": "code",
   "execution_count": 98,
   "metadata": {},
   "outputs": [],
   "source": [
    "from selenium.common.exceptions import NoSuchElementException"
   ]
  },
  {
   "cell_type": "code",
   "execution_count": 99,
   "metadata": {},
   "outputs": [],
   "source": [
    "url='https://www.naukri.com/'\n",
    "driver.get(url)\n",
    "time.sleep(5)"
   ]
  },
  {
   "cell_type": "code",
   "execution_count": 100,
   "metadata": {},
   "outputs": [],
   "source": [
    "search_job=driver.find_element_by_id('qsb-keyword-sugg')"
   ]
  },
  {
   "cell_type": "code",
   "execution_count": 101,
   "metadata": {},
   "outputs": [
    {
     "data": {
      "text/plain": [
       "<selenium.webdriver.remote.webelement.WebElement (session=\"38313861dee66c5b27e4867c322bded3\", element=\"c246c276-62d1-41b5-a98b-151b59fdf0a9\")>"
      ]
     },
     "execution_count": 101,
     "metadata": {},
     "output_type": "execute_result"
    }
   ],
   "source": [
    "search_job"
   ]
  },
  {
   "cell_type": "code",
   "execution_count": 102,
   "metadata": {},
   "outputs": [],
   "source": [
    "search_job.send_keys('Data Scientist')"
   ]
  },
  {
   "cell_type": "code",
   "execution_count": 103,
   "metadata": {},
   "outputs": [],
   "source": [
    "search_loc=driver.find_element_by_id('qsb-location-sugg')\n",
    "search_loc.send_keys('Bangalore')"
   ]
  },
  {
   "cell_type": "code",
   "execution_count": 104,
   "metadata": {},
   "outputs": [
    {
     "data": {
      "text/plain": [
       "<selenium.webdriver.remote.webelement.WebElement (session=\"38313861dee66c5b27e4867c322bded3\", element=\"97a2c7e1-6cbe-4c19-af99-aa7abf2d66ad\")>"
      ]
     },
     "execution_count": 104,
     "metadata": {},
     "output_type": "execute_result"
    }
   ],
   "source": [
    "search_btn=driver.find_element_by_xpath(\"//button[@class='btn']\")\n",
    "search_btn"
   ]
  },
  {
   "cell_type": "code",
   "execution_count": 105,
   "metadata": {},
   "outputs": [],
   "source": [
    "search_btn=driver.find_element_by_xpath(\"//button[@class='btn']\")\n",
    "search_btn.click()"
   ]
  },
  {
   "cell_type": "code",
   "execution_count": 106,
   "metadata": {},
   "outputs": [],
   "source": [
    "urls=[]\n",
    "for i in driver.find_elements_by_xpath(\"//a[@class='title fw500 ellipsis']\"):\n",
    "    urls.append(i.get_attribute(\"href\"))"
   ]
  },
  {
   "cell_type": "code",
   "execution_count": 107,
   "metadata": {},
   "outputs": [
    {
     "data": {
      "text/plain": [
       "20"
      ]
     },
     "execution_count": 107,
     "metadata": {},
     "output_type": "execute_result"
    }
   ],
   "source": [
    "len(urls)"
   ]
  },
  {
   "cell_type": "code",
   "execution_count": 108,
   "metadata": {},
   "outputs": [],
   "source": [
    "job_t=[]\n",
    "job_d=[]\n",
    "job_c=[]\n",
    "job_l=[]"
   ]
  },
  {
   "cell_type": "code",
   "execution_count": 109,
   "metadata": {},
   "outputs": [],
   "source": [
    "for i in urls[:10]:\n",
    "    driver.get(i)\n",
    "    time.sleep(3)\n",
    "    \n",
    "    try:\n",
    "        job=driver.find_element_by_xpath(\"//h1[@class='jd-header-title']\")\n",
    "        job_t.append(job.text)\n",
    "    except NoSuchElementException:\n",
    "        job_t.append('-')\n",
    "        \n",
    "        \n",
    "        \n",
    "    try:\n",
    "        job_desc=driver.find_element_by_xpath(\"//section[@class='job-desc']\")\n",
    "        job_d.append(job_desc.text.replace(\"\\n\",\"  \"))\n",
    "    except NoSuchElementException:\n",
    "        job_d.append('-')    \n",
    "        \n",
    "        \n",
    "    try:\n",
    "        job_com=driver.find_element_by_xpath(\"//a[@class='pad-rt-8']\")\n",
    "        job_c.append(job_com.text)\n",
    "    except NoSuchElementException:\n",
    "        job_c.append('-')\n",
    "        \n",
    "        \n",
    "    try:\n",
    "        job_loc=driver.find_element_by_xpath(\"//div[@class='loc']\")\n",
    "        job_l.append(job_loc.text)\n",
    "    except NoSuchElementException:\n",
    "        job_l.append('-')   "
   ]
  },
  {
   "cell_type": "code",
   "execution_count": 110,
   "metadata": {},
   "outputs": [
    {
     "name": "stdout",
     "output_type": "stream",
     "text": [
      "10\n",
      "10\n",
      "10\n",
      "10\n"
     ]
    }
   ],
   "source": [
    "print(len(job_t))\n",
    "print(len(job_d))\n",
    "print(len(job_c))\n",
    "print(len(job_l))"
   ]
  },
  {
   "cell_type": "code",
   "execution_count": 111,
   "metadata": {},
   "outputs": [],
   "source": [
    "jobs=pd.DataFrame({})\n",
    "jobs['Title']=job_t\n",
    "jobs['Location']=job_l\n",
    "jobs['Company']=job_c\n",
    "jobs['Description']=job_d"
   ]
  },
  {
   "cell_type": "code",
   "execution_count": 112,
   "metadata": {},
   "outputs": [
    {
     "data": {
      "text/html": [
       "<div>\n",
       "<style scoped>\n",
       "    .dataframe tbody tr th:only-of-type {\n",
       "        vertical-align: middle;\n",
       "    }\n",
       "\n",
       "    .dataframe tbody tr th {\n",
       "        vertical-align: top;\n",
       "    }\n",
       "\n",
       "    .dataframe thead th {\n",
       "        text-align: right;\n",
       "    }\n",
       "</style>\n",
       "<table border=\"1\" class=\"dataframe\">\n",
       "  <thead>\n",
       "    <tr style=\"text-align: right;\">\n",
       "      <th></th>\n",
       "      <th>Title</th>\n",
       "      <th>Location</th>\n",
       "      <th>Company</th>\n",
       "      <th>Description</th>\n",
       "    </tr>\n",
       "  </thead>\n",
       "  <tbody>\n",
       "    <tr>\n",
       "      <th>0</th>\n",
       "      <td>Data Scientist / Data Analyst -Business Analyst</td>\n",
       "      <td>Mumbai, Hyderabad/Secunderabad, Pune, Gurgaon/...</td>\n",
       "      <td>Inflexion Analytix Private Limited</td>\n",
       "      <td>Job description  Job Role : Data Scientist/Dat...</td>\n",
       "    </tr>\n",
       "    <tr>\n",
       "      <th>1</th>\n",
       "      <td>-</td>\n",
       "      <td>-</td>\n",
       "      <td>-</td>\n",
       "      <td>-</td>\n",
       "    </tr>\n",
       "    <tr>\n",
       "      <th>2</th>\n",
       "      <td>Senior Data Scientist</td>\n",
       "      <td>Mumbai, Gurgaon/Gurugram, Bangalore/Bengaluru</td>\n",
       "      <td>Fractal Analytics</td>\n",
       "      <td>Job description  Serve as primary technical le...</td>\n",
       "    </tr>\n",
       "    <tr>\n",
       "      <th>3</th>\n",
       "      <td>VP - Sr. Data Scientist For Morgan Stanley, Ba...</td>\n",
       "      <td>Bangalore/Bengaluru</td>\n",
       "      <td>Morgan Stanley Advantage Services</td>\n",
       "      <td>Job description  About Us  Morgan Stanley is a...</td>\n",
       "    </tr>\n",
       "    <tr>\n",
       "      <th>4</th>\n",
       "      <td>Lead Data Scientist</td>\n",
       "      <td>Bangalore/Bengaluru</td>\n",
       "      <td>FICO</td>\n",
       "      <td>Job description  Job Summary  The candidate sh...</td>\n",
       "    </tr>\n",
       "    <tr>\n",
       "      <th>5</th>\n",
       "      <td>Lead Data Scientist</td>\n",
       "      <td>Gurgaon/Gurugram, Bangalore/Bengaluru, Mumbai ...</td>\n",
       "      <td>Fractal Analytics</td>\n",
       "      <td>Job description  Position Description:  The Ar...</td>\n",
       "    </tr>\n",
       "    <tr>\n",
       "      <th>6</th>\n",
       "      <td>data scientist</td>\n",
       "      <td>Bangalore/Bengaluru</td>\n",
       "      <td>Global Talent Pool</td>\n",
       "      <td>Job description  Essential Duties Responsibili...</td>\n",
       "    </tr>\n",
       "    <tr>\n",
       "      <th>7</th>\n",
       "      <td>Data analytics / Data scientist intern (work f...</td>\n",
       "      <td>Kolkata, Bangalore/Bengaluru, Delhi / NCR</td>\n",
       "      <td>TalkValley LLC</td>\n",
       "      <td>Job description  We are a group of tenured pro...</td>\n",
       "    </tr>\n",
       "    <tr>\n",
       "      <th>8</th>\n",
       "      <td>-</td>\n",
       "      <td>-</td>\n",
       "      <td>-</td>\n",
       "      <td>-</td>\n",
       "    </tr>\n",
       "    <tr>\n",
       "      <th>9</th>\n",
       "      <td>-</td>\n",
       "      <td>-</td>\n",
       "      <td>-</td>\n",
       "      <td>-</td>\n",
       "    </tr>\n",
       "  </tbody>\n",
       "</table>\n",
       "</div>"
      ],
      "text/plain": [
       "                                               Title  \\\n",
       "0    Data Scientist / Data Analyst -Business Analyst   \n",
       "1                                                  -   \n",
       "2                              Senior Data Scientist   \n",
       "3  VP - Sr. Data Scientist For Morgan Stanley, Ba...   \n",
       "4                                Lead Data Scientist   \n",
       "5                                Lead Data Scientist   \n",
       "6                                     data scientist   \n",
       "7  Data analytics / Data scientist intern (work f...   \n",
       "8                                                  -   \n",
       "9                                                  -   \n",
       "\n",
       "                                            Location  \\\n",
       "0  Mumbai, Hyderabad/Secunderabad, Pune, Gurgaon/...   \n",
       "1                                                  -   \n",
       "2      Mumbai, Gurgaon/Gurugram, Bangalore/Bengaluru   \n",
       "3                                Bangalore/Bengaluru   \n",
       "4                                Bangalore/Bengaluru   \n",
       "5  Gurgaon/Gurugram, Bangalore/Bengaluru, Mumbai ...   \n",
       "6                                Bangalore/Bengaluru   \n",
       "7          Kolkata, Bangalore/Bengaluru, Delhi / NCR   \n",
       "8                                                  -   \n",
       "9                                                  -   \n",
       "\n",
       "                              Company  \\\n",
       "0  Inflexion Analytix Private Limited   \n",
       "1                                   -   \n",
       "2                   Fractal Analytics   \n",
       "3   Morgan Stanley Advantage Services   \n",
       "4                                FICO   \n",
       "5                   Fractal Analytics   \n",
       "6                  Global Talent Pool   \n",
       "7                      TalkValley LLC   \n",
       "8                                   -   \n",
       "9                                   -   \n",
       "\n",
       "                                         Description  \n",
       "0  Job description  Job Role : Data Scientist/Dat...  \n",
       "1                                                  -  \n",
       "2  Job description  Serve as primary technical le...  \n",
       "3  Job description  About Us  Morgan Stanley is a...  \n",
       "4  Job description  Job Summary  The candidate sh...  \n",
       "5  Job description  Position Description:  The Ar...  \n",
       "6  Job description  Essential Duties Responsibili...  \n",
       "7  Job description  We are a group of tenured pro...  \n",
       "8                                                  -  \n",
       "9                                                  -  "
      ]
     },
     "execution_count": 112,
     "metadata": {},
     "output_type": "execute_result"
    }
   ],
   "source": [
    "jobs"
   ]
  },
  {
   "cell_type": "code",
   "execution_count": null,
   "metadata": {},
   "outputs": [],
   "source": []
  },
  {
   "cell_type": "code",
   "execution_count": null,
   "metadata": {},
   "outputs": [],
   "source": []
  },
  {
   "cell_type": "code",
   "execution_count": null,
   "metadata": {},
   "outputs": [],
   "source": []
  },
  {
   "cell_type": "code",
   "execution_count": null,
   "metadata": {},
   "outputs": [],
   "source": []
  },
  {
   "cell_type": "markdown",
   "metadata": {},
   "source": [
    "# 3. Data Scientist Job in Delhi/NCR and Salary \"3-6 Lakhs\""
   ]
  },
  {
   "cell_type": "code",
   "execution_count": 113,
   "metadata": {},
   "outputs": [],
   "source": [
    "url='https://www.naukri.com/'\n",
    "driver.get(url)\n",
    "time.sleep(5)"
   ]
  },
  {
   "cell_type": "code",
   "execution_count": 114,
   "metadata": {},
   "outputs": [],
   "source": [
    "search_job=driver.find_element_by_id('qsb-keyword-sugg')"
   ]
  },
  {
   "cell_type": "code",
   "execution_count": 115,
   "metadata": {},
   "outputs": [],
   "source": [
    "search_job.send_keys('Data Scientist')"
   ]
  },
  {
   "cell_type": "code",
   "execution_count": 116,
   "metadata": {},
   "outputs": [
    {
     "data": {
      "text/plain": [
       "<selenium.webdriver.remote.webelement.WebElement (session=\"38313861dee66c5b27e4867c322bded3\", element=\"618ecd2b-1522-40ed-b5d8-e869aa625f78\")>"
      ]
     },
     "execution_count": 116,
     "metadata": {},
     "output_type": "execute_result"
    }
   ],
   "source": [
    "search_btn=driver.find_element_by_xpath(\"//button[@class='btn']\")\n",
    "search_btn"
   ]
  },
  {
   "cell_type": "code",
   "execution_count": 117,
   "metadata": {},
   "outputs": [],
   "source": [
    "search_btn=driver.find_element_by_xpath(\"//button[@class='btn']\")\n",
    "search_btn.click()"
   ]
  },
  {
   "cell_type": "code",
   "execution_count": 118,
   "metadata": {},
   "outputs": [],
   "source": [
    "filter_button=driver.find_elements_by_xpath(\"//p[@class='grey-text lH20 fleft ml-8 txtLbl']//span\")\n",
    "for i in filter_button:\n",
    "    if i.text=='Delhi / NCR':\n",
    "        i.click()\n",
    "        break"
   ]
  },
  {
   "cell_type": "code",
   "execution_count": 119,
   "metadata": {},
   "outputs": [],
   "source": [
    "filter_button=driver.find_elements_by_xpath(\"//p[@class='grey-text lH20 fleft ml-8 txtLbl']//span\")\n",
    "for i in filter_button:\n",
    "    if i.text=='3-6 Lakhs':\n",
    "        i.click()\n",
    "        break"
   ]
  },
  {
   "cell_type": "code",
   "execution_count": 120,
   "metadata": {},
   "outputs": [],
   "source": [
    "urls=[]\n",
    "for i in driver.find_elements_by_xpath(\"//a[@class='title fw500 ellipsis']\"):\n",
    "    urls.append(i.get_attribute(\"href\"))"
   ]
  },
  {
   "cell_type": "code",
   "execution_count": 121,
   "metadata": {},
   "outputs": [
    {
     "data": {
      "text/plain": [
       "20"
      ]
     },
     "execution_count": 121,
     "metadata": {},
     "output_type": "execute_result"
    }
   ],
   "source": [
    "len(urls)"
   ]
  },
  {
   "cell_type": "code",
   "execution_count": 122,
   "metadata": {},
   "outputs": [],
   "source": [
    "job_t=[]\n",
    "job_e=[]\n",
    "job_c=[]\n",
    "job_l=[]"
   ]
  },
  {
   "cell_type": "code",
   "execution_count": 123,
   "metadata": {},
   "outputs": [],
   "source": [
    "for i in urls[:10]:\n",
    "    driver.get(i)\n",
    "    time.sleep(3)\n",
    "    \n",
    "    try:\n",
    "        job=driver.find_element_by_xpath(\"//h1[@class='jd-header-title']\")\n",
    "        job_t.append(job.text)\n",
    "    except NoSuchElementException:\n",
    "        job_t.append('-')\n",
    "        \n",
    "        \n",
    "        \n",
    "    try:\n",
    "        job_exp=driver.find_element_by_xpath(\"//div[@class='exp']//span\")\n",
    "        job_e.append(job_exp.text)\n",
    "    except NoSuchElementException:\n",
    "        job_e.append('-')    \n",
    "        \n",
    "        \n",
    "    try:\n",
    "        job_com=driver.find_element_by_xpath(\"//a[@class='pad-rt-8']\")\n",
    "        job_c.append(job_com.text)\n",
    "    except NoSuchElementException:\n",
    "        job_c.append('-')\n",
    "        \n",
    "        \n",
    "    try:\n",
    "        job_loc=driver.find_element_by_xpath(\"//div[@class='loc']\")\n",
    "        job_l.append(job_loc.text)\n",
    "    except NoSuchElementException:\n",
    "        job_l.append('-')   "
   ]
  },
  {
   "cell_type": "code",
   "execution_count": 124,
   "metadata": {},
   "outputs": [
    {
     "name": "stdout",
     "output_type": "stream",
     "text": [
      "10\n",
      "10\n",
      "10\n",
      "10\n"
     ]
    }
   ],
   "source": [
    "print(len(job_t))\n",
    "print(len(job_e))\n",
    "print(len(job_c))\n",
    "print(len(job_l))"
   ]
  },
  {
   "cell_type": "code",
   "execution_count": 125,
   "metadata": {},
   "outputs": [],
   "source": [
    "jobs=pd.DataFrame({})\n",
    "jobs['Title']=job_t\n",
    "jobs['Location']=job_l\n",
    "jobs['Company']=job_c\n",
    "jobs['Description']=job_d"
   ]
  },
  {
   "cell_type": "code",
   "execution_count": 126,
   "metadata": {},
   "outputs": [
    {
     "data": {
      "text/html": [
       "<div>\n",
       "<style scoped>\n",
       "    .dataframe tbody tr th:only-of-type {\n",
       "        vertical-align: middle;\n",
       "    }\n",
       "\n",
       "    .dataframe tbody tr th {\n",
       "        vertical-align: top;\n",
       "    }\n",
       "\n",
       "    .dataframe thead th {\n",
       "        text-align: right;\n",
       "    }\n",
       "</style>\n",
       "<table border=\"1\" class=\"dataframe\">\n",
       "  <thead>\n",
       "    <tr style=\"text-align: right;\">\n",
       "      <th></th>\n",
       "      <th>Title</th>\n",
       "      <th>Location</th>\n",
       "      <th>Company</th>\n",
       "      <th>Description</th>\n",
       "    </tr>\n",
       "  </thead>\n",
       "  <tbody>\n",
       "    <tr>\n",
       "      <th>0</th>\n",
       "      <td>Data Scientist / Data Analyst -Business Analyst</td>\n",
       "      <td>Mumbai, Hyderabad/Secunderabad, Pune, Gurgaon/...</td>\n",
       "      <td>Inflexion Analytix Private Limited</td>\n",
       "      <td>Job description  Job Role : Data Scientist/Dat...</td>\n",
       "    </tr>\n",
       "    <tr>\n",
       "      <th>1</th>\n",
       "      <td>Data analytics / Data scientist intern (work f...</td>\n",
       "      <td>Kolkata, Bangalore/Bengaluru, Delhi / NCR</td>\n",
       "      <td>TalkValley LLC</td>\n",
       "      <td>-</td>\n",
       "    </tr>\n",
       "    <tr>\n",
       "      <th>2</th>\n",
       "      <td>Data Scientist</td>\n",
       "      <td>Mumbai, Gurgaon/Gurugram, Bangalore/Bengaluru</td>\n",
       "      <td>Fractal Analytics</td>\n",
       "      <td>Job description  Serve as primary technical le...</td>\n",
       "    </tr>\n",
       "    <tr>\n",
       "      <th>3</th>\n",
       "      <td>Chaayos is Looking For Data Scientist</td>\n",
       "      <td>New Delhi</td>\n",
       "      <td>Chaayos (Sunshine Teahouse Pvt. Ltd.)</td>\n",
       "      <td>Job description  About Us  Morgan Stanley is a...</td>\n",
       "    </tr>\n",
       "    <tr>\n",
       "      <th>4</th>\n",
       "      <td>-</td>\n",
       "      <td>-</td>\n",
       "      <td>-</td>\n",
       "      <td>Job description  Job Summary  The candidate sh...</td>\n",
       "    </tr>\n",
       "    <tr>\n",
       "      <th>5</th>\n",
       "      <td>We are hiring- Data Scientist +Python- Noida</td>\n",
       "      <td>Noida, Gurgaon/Gurugram, Delhi / NCR</td>\n",
       "      <td>RANDSTAD INDIA PVT LTD</td>\n",
       "      <td>Job description  Position Description:  The Ar...</td>\n",
       "    </tr>\n",
       "    <tr>\n",
       "      <th>6</th>\n",
       "      <td>Data Scientist</td>\n",
       "      <td>Gurgaon/Gurugram, Delhi / NCR</td>\n",
       "      <td>Milliman India Pvt Ltd</td>\n",
       "      <td>Job description  Essential Duties Responsibili...</td>\n",
       "    </tr>\n",
       "    <tr>\n",
       "      <th>7</th>\n",
       "      <td>Data Scientist</td>\n",
       "      <td>Noida</td>\n",
       "      <td>NEC CORPORATION INDIA PRIVATE LIMITED</td>\n",
       "      <td>Job description  We are a group of tenured pro...</td>\n",
       "    </tr>\n",
       "    <tr>\n",
       "      <th>8</th>\n",
       "      <td>Data Analyst/Scientist Big Data, Statistical T...</td>\n",
       "      <td>Gurgaon/Gurugram</td>\n",
       "      <td>The Search House (A Div of JSD Search House Pv...</td>\n",
       "      <td>-</td>\n",
       "    </tr>\n",
       "    <tr>\n",
       "      <th>9</th>\n",
       "      <td>Business Analyst- Data Scientist</td>\n",
       "      <td>Noida, Gurgaon/Gurugram</td>\n",
       "      <td>Wipro</td>\n",
       "      <td>-</td>\n",
       "    </tr>\n",
       "  </tbody>\n",
       "</table>\n",
       "</div>"
      ],
      "text/plain": [
       "                                               Title  \\\n",
       "0    Data Scientist / Data Analyst -Business Analyst   \n",
       "1  Data analytics / Data scientist intern (work f...   \n",
       "2                                     Data Scientist   \n",
       "3              Chaayos is Looking For Data Scientist   \n",
       "4                                                  -   \n",
       "5       We are hiring- Data Scientist +Python- Noida   \n",
       "6                                     Data Scientist   \n",
       "7                                     Data Scientist   \n",
       "8  Data Analyst/Scientist Big Data, Statistical T...   \n",
       "9                   Business Analyst- Data Scientist   \n",
       "\n",
       "                                            Location  \\\n",
       "0  Mumbai, Hyderabad/Secunderabad, Pune, Gurgaon/...   \n",
       "1          Kolkata, Bangalore/Bengaluru, Delhi / NCR   \n",
       "2      Mumbai, Gurgaon/Gurugram, Bangalore/Bengaluru   \n",
       "3                                          New Delhi   \n",
       "4                                                  -   \n",
       "5               Noida, Gurgaon/Gurugram, Delhi / NCR   \n",
       "6                      Gurgaon/Gurugram, Delhi / NCR   \n",
       "7                                              Noida   \n",
       "8                                   Gurgaon/Gurugram   \n",
       "9                            Noida, Gurgaon/Gurugram   \n",
       "\n",
       "                                             Company  \\\n",
       "0                 Inflexion Analytix Private Limited   \n",
       "1                                     TalkValley LLC   \n",
       "2                                  Fractal Analytics   \n",
       "3              Chaayos (Sunshine Teahouse Pvt. Ltd.)   \n",
       "4                                                  -   \n",
       "5                             RANDSTAD INDIA PVT LTD   \n",
       "6                             Milliman India Pvt Ltd   \n",
       "7              NEC CORPORATION INDIA PRIVATE LIMITED   \n",
       "8  The Search House (A Div of JSD Search House Pv...   \n",
       "9                                              Wipro   \n",
       "\n",
       "                                         Description  \n",
       "0  Job description  Job Role : Data Scientist/Dat...  \n",
       "1                                                  -  \n",
       "2  Job description  Serve as primary technical le...  \n",
       "3  Job description  About Us  Morgan Stanley is a...  \n",
       "4  Job description  Job Summary  The candidate sh...  \n",
       "5  Job description  Position Description:  The Ar...  \n",
       "6  Job description  Essential Duties Responsibili...  \n",
       "7  Job description  We are a group of tenured pro...  \n",
       "8                                                  -  \n",
       "9                                                  -  "
      ]
     },
     "execution_count": 126,
     "metadata": {},
     "output_type": "execute_result"
    }
   ],
   "source": [
    "jobs"
   ]
  },
  {
   "cell_type": "code",
   "execution_count": null,
   "metadata": {},
   "outputs": [],
   "source": []
  },
  {
   "cell_type": "code",
   "execution_count": null,
   "metadata": {},
   "outputs": [],
   "source": []
  },
  {
   "cell_type": "code",
   "execution_count": null,
   "metadata": {},
   "outputs": [],
   "source": []
  },
  {
   "cell_type": "code",
   "execution_count": null,
   "metadata": {},
   "outputs": [],
   "source": []
  },
  {
   "cell_type": "markdown",
   "metadata": {},
   "source": [
    "# 4. Glassdoor Jobs in Noida"
   ]
  },
  {
   "cell_type": "code",
   "execution_count": 194,
   "metadata": {},
   "outputs": [],
   "source": [
    "driver= webdriver.Chrome(r\"C:\\Users\\Harshil Goradia\\Downloads\\chromedriver_win32\\chromedriver\")"
   ]
  },
  {
   "cell_type": "code",
   "execution_count": 195,
   "metadata": {},
   "outputs": [],
   "source": [
    "url='https://www.glassdoor.co.in/index.htm'\n",
    "driver.get(url)\n",
    "time.sleep(5)"
   ]
  },
  {
   "cell_type": "code",
   "execution_count": 196,
   "metadata": {},
   "outputs": [
    {
     "data": {
      "text/plain": [
       "<selenium.webdriver.remote.webelement.WebElement (session=\"77967e746356a6f463de57f4eedbb649\", element=\"cd59300b-2d49-4ab4-959f-fb5f55c86be6\")>"
      ]
     },
     "execution_count": 196,
     "metadata": {},
     "output_type": "execute_result"
    }
   ],
   "source": [
    "search_job=driver.find_element_by_id('sc.keyword')\n",
    "search_job"
   ]
  },
  {
   "cell_type": "code",
   "execution_count": 197,
   "metadata": {},
   "outputs": [],
   "source": [
    "search_job.send_keys('Data Scientist')"
   ]
  },
  {
   "cell_type": "code",
   "execution_count": 198,
   "metadata": {},
   "outputs": [
    {
     "data": {
      "text/plain": [
       "<selenium.webdriver.remote.webelement.WebElement (session=\"77967e746356a6f463de57f4eedbb649\", element=\"a68a2ceb-7f06-476e-989a-b320dd881e6f\")>"
      ]
     },
     "execution_count": 198,
     "metadata": {},
     "output_type": "execute_result"
    }
   ],
   "source": [
    "search_loc=driver.find_element_by_id('sc.location')\n",
    "search_loc"
   ]
  },
  {
   "cell_type": "code",
   "execution_count": 199,
   "metadata": {},
   "outputs": [],
   "source": [
    "search_loc.send_keys('Noida')"
   ]
  },
  {
   "cell_type": "code",
   "execution_count": 200,
   "metadata": {},
   "outputs": [
    {
     "data": {
      "text/plain": [
       "<selenium.webdriver.remote.webelement.WebElement (session=\"77967e746356a6f463de57f4eedbb649\", element=\"713817e1-50ad-4fa3-86b7-3df87b232547\")>"
      ]
     },
     "execution_count": 200,
     "metadata": {},
     "output_type": "execute_result"
    }
   ],
   "source": [
    "search_btn=driver.find_element_by_xpath(\"//button[@class='gd-ui-button ml-std col-auto SearchStyles__newSearchButton css-iixdfr']//span\")\n",
    "search_btn"
   ]
  },
  {
   "cell_type": "code",
   "execution_count": 201,
   "metadata": {},
   "outputs": [],
   "source": [
    "search_btn=driver.find_element_by_xpath(\"//button[@class='gd-ui-button ml-std col-auto SearchStyles__newSearchButton css-iixdfr']\")\n",
    "search_btn.click()"
   ]
  },
  {
   "cell_type": "code",
   "execution_count": 202,
   "metadata": {},
   "outputs": [
    {
     "data": {
      "text/plain": [
       "[<selenium.webdriver.remote.webelement.WebElement (session=\"77967e746356a6f463de57f4eedbb649\", element=\"d3ef2964-efd2-405c-b06c-61c2eebd7b97\")>,\n",
       " <selenium.webdriver.remote.webelement.WebElement (session=\"77967e746356a6f463de57f4eedbb649\", element=\"cbc4b06b-1602-4995-9f84-84a48a9dce8f\")>,\n",
       " <selenium.webdriver.remote.webelement.WebElement (session=\"77967e746356a6f463de57f4eedbb649\", element=\"151aa03f-c70d-4fb8-91f3-46174bdbb79c\")>,\n",
       " <selenium.webdriver.remote.webelement.WebElement (session=\"77967e746356a6f463de57f4eedbb649\", element=\"18d1f652-5742-4c8a-834e-8624f2d7eb5c\")>,\n",
       " <selenium.webdriver.remote.webelement.WebElement (session=\"77967e746356a6f463de57f4eedbb649\", element=\"a973a4aa-34db-449f-9a77-a01b91089708\")>,\n",
       " <selenium.webdriver.remote.webelement.WebElement (session=\"77967e746356a6f463de57f4eedbb649\", element=\"36fe9392-442c-42a1-9965-0158bd54b4e3\")>,\n",
       " <selenium.webdriver.remote.webelement.WebElement (session=\"77967e746356a6f463de57f4eedbb649\", element=\"2e0567b9-3b42-4470-b99e-8ce18943f978\")>,\n",
       " <selenium.webdriver.remote.webelement.WebElement (session=\"77967e746356a6f463de57f4eedbb649\", element=\"5a265bac-629c-42a6-930e-a478adac50ba\")>,\n",
       " <selenium.webdriver.remote.webelement.WebElement (session=\"77967e746356a6f463de57f4eedbb649\", element=\"31f1b8f3-9258-4f47-8332-c7a4af246950\")>,\n",
       " <selenium.webdriver.remote.webelement.WebElement (session=\"77967e746356a6f463de57f4eedbb649\", element=\"ac95f271-db19-4146-8a1e-894fb372bab0\")>,\n",
       " <selenium.webdriver.remote.webelement.WebElement (session=\"77967e746356a6f463de57f4eedbb649\", element=\"8c0abe8e-1e55-433b-ac95-50b051f46ba6\")>,\n",
       " <selenium.webdriver.remote.webelement.WebElement (session=\"77967e746356a6f463de57f4eedbb649\", element=\"5857215c-a8d8-4e46-8146-11d0d51c5142\")>,\n",
       " <selenium.webdriver.remote.webelement.WebElement (session=\"77967e746356a6f463de57f4eedbb649\", element=\"28532109-a080-4bd9-875f-74a25bb5cd28\")>,\n",
       " <selenium.webdriver.remote.webelement.WebElement (session=\"77967e746356a6f463de57f4eedbb649\", element=\"95a5aff5-c024-4d3d-9380-4c763a4da689\")>,\n",
       " <selenium.webdriver.remote.webelement.WebElement (session=\"77967e746356a6f463de57f4eedbb649\", element=\"35b2a541-d5ad-4fc1-8aae-8680ab0c85c5\")>,\n",
       " <selenium.webdriver.remote.webelement.WebElement (session=\"77967e746356a6f463de57f4eedbb649\", element=\"cb46d17f-fb0d-4431-aaba-74671ccd1da8\")>,\n",
       " <selenium.webdriver.remote.webelement.WebElement (session=\"77967e746356a6f463de57f4eedbb649\", element=\"e26d57ea-d350-4e8d-af0f-b34ebe87c5cb\")>,\n",
       " <selenium.webdriver.remote.webelement.WebElement (session=\"77967e746356a6f463de57f4eedbb649\", element=\"6270f6e2-a804-4364-bc13-934ac59e9dea\")>,\n",
       " <selenium.webdriver.remote.webelement.WebElement (session=\"77967e746356a6f463de57f4eedbb649\", element=\"ac6f7a0c-049c-43eb-b24a-fa61519fec18\")>,\n",
       " <selenium.webdriver.remote.webelement.WebElement (session=\"77967e746356a6f463de57f4eedbb649\", element=\"afdee085-3b04-413e-87da-1324552409ca\")>,\n",
       " <selenium.webdriver.remote.webelement.WebElement (session=\"77967e746356a6f463de57f4eedbb649\", element=\"90ce2280-f758-4c3d-bbdb-de491a3ad7d9\")>,\n",
       " <selenium.webdriver.remote.webelement.WebElement (session=\"77967e746356a6f463de57f4eedbb649\", element=\"1fa1f7d5-3773-4a48-859d-edd66382964e\")>,\n",
       " <selenium.webdriver.remote.webelement.WebElement (session=\"77967e746356a6f463de57f4eedbb649\", element=\"12e8e38f-3ea0-44b6-9f4a-fd39537e7bc7\")>,\n",
       " <selenium.webdriver.remote.webelement.WebElement (session=\"77967e746356a6f463de57f4eedbb649\", element=\"f361116f-368a-4134-9e1c-ab8c664c8a0f\")>,\n",
       " <selenium.webdriver.remote.webelement.WebElement (session=\"77967e746356a6f463de57f4eedbb649\", element=\"753b6f81-5753-47e5-83a3-a401f9a9c9bc\")>,\n",
       " <selenium.webdriver.remote.webelement.WebElement (session=\"77967e746356a6f463de57f4eedbb649\", element=\"bae66463-4299-4f13-9bdb-cf676cdca95f\")>,\n",
       " <selenium.webdriver.remote.webelement.WebElement (session=\"77967e746356a6f463de57f4eedbb649\", element=\"1e92db3f-7bf7-4452-a230-3bd9d22168f8\")>,\n",
       " <selenium.webdriver.remote.webelement.WebElement (session=\"77967e746356a6f463de57f4eedbb649\", element=\"77a0ff08-a6d1-4cee-836e-05a05a837a7f\")>,\n",
       " <selenium.webdriver.remote.webelement.WebElement (session=\"77967e746356a6f463de57f4eedbb649\", element=\"5961cc39-92e3-4e89-beb8-2b1d23dd63a8\")>,\n",
       " <selenium.webdriver.remote.webelement.WebElement (session=\"77967e746356a6f463de57f4eedbb649\", element=\"fe17e959-3781-44c2-8df1-6546756d1787\")>]"
      ]
     },
     "execution_count": 202,
     "metadata": {},
     "output_type": "execute_result"
    }
   ],
   "source": [
    "title_tags=driver.find_elements_by_xpath(\"//a[@class=' css-l2wjgv e1n63ojh0 jobLink']//span\")\n",
    "title_tags"
   ]
  },
  {
   "cell_type": "code",
   "execution_count": 203,
   "metadata": {},
   "outputs": [
    {
     "data": {
      "text/plain": [
       "['Data Patterns',\n",
       " 'UnitedHealth Group',\n",
       " 'Ginger Webs Pvt. Ltd.',\n",
       " 'Crowe',\n",
       " 'Ericsson',\n",
       " '',\n",
       " 'Jubna',\n",
       " 'Adobe',\n",
       " 'CRMNEXT',\n",
       " 'Techlive',\n",
       " 'Biz2Credit Inc',\n",
       " 'Amploy',\n",
       " 'Mogli Labs India Private Limited',\n",
       " 'MobiKwik',\n",
       " 'dunnhumby',\n",
       " 'CRMNEXT',\n",
       " 'MasterCard',\n",
       " 'ANI Calls India Private Limited',\n",
       " 'WishFin',\n",
       " 'SearchUrCollege',\n",
       " 'Knoldus Inc',\n",
       " 'Innovacer',\n",
       " 'Lantern Digital Services',\n",
       " 'Pinnacle Digital Analytics pvt ltd',\n",
       " 'xtLytics',\n",
       " 'Terra Economics & Analytics Lab (TEAL)',\n",
       " 'Python Training Institute by TGC India, South Extension, New Delhi',\n",
       " 'xtLytics',\n",
       " 'Dürr Somac GmbH',\n",
       " 'Genpact']"
      ]
     },
     "execution_count": 203,
     "metadata": {},
     "output_type": "execute_result"
    }
   ],
   "source": [
    "job_titles=[]\n",
    "for i in title_tags:\n",
    "    if i.text is None:\n",
    "        job_titles.append(\"Not\")\n",
    "    else:\n",
    "        job_titles.append(i.text)\n",
    "        \n",
    "        \n",
    "job_titles"
   ]
  },
  {
   "cell_type": "code",
   "execution_count": 204,
   "metadata": {},
   "outputs": [
    {
     "data": {
      "text/plain": [
       "[<selenium.webdriver.remote.webelement.WebElement (session=\"77967e746356a6f463de57f4eedbb649\", element=\"f5051edb-d417-4dd9-97e6-c7bae27f2391\")>,\n",
       " <selenium.webdriver.remote.webelement.WebElement (session=\"77967e746356a6f463de57f4eedbb649\", element=\"a0dd1bda-e33a-4e93-9acf-349ac813c831\")>,\n",
       " <selenium.webdriver.remote.webelement.WebElement (session=\"77967e746356a6f463de57f4eedbb649\", element=\"f1de2779-d236-4f76-a19f-9b1e39437fd1\")>,\n",
       " <selenium.webdriver.remote.webelement.WebElement (session=\"77967e746356a6f463de57f4eedbb649\", element=\"c6d52799-6e4a-4e8b-a019-d627f45682c0\")>,\n",
       " <selenium.webdriver.remote.webelement.WebElement (session=\"77967e746356a6f463de57f4eedbb649\", element=\"e31f941f-8e93-4e62-bf5b-81dd5c687d90\")>,\n",
       " <selenium.webdriver.remote.webelement.WebElement (session=\"77967e746356a6f463de57f4eedbb649\", element=\"47efcc8b-1a10-48aa-8bd2-fa0a2955bf72\")>,\n",
       " <selenium.webdriver.remote.webelement.WebElement (session=\"77967e746356a6f463de57f4eedbb649\", element=\"4249e3b4-668b-4779-ba12-c2b09eeb33b8\")>,\n",
       " <selenium.webdriver.remote.webelement.WebElement (session=\"77967e746356a6f463de57f4eedbb649\", element=\"354bf642-34e5-4740-8fd0-8bdd27b9b4e0\")>,\n",
       " <selenium.webdriver.remote.webelement.WebElement (session=\"77967e746356a6f463de57f4eedbb649\", element=\"a3a248ae-51f6-43f2-9fc8-02c474e9daaa\")>,\n",
       " <selenium.webdriver.remote.webelement.WebElement (session=\"77967e746356a6f463de57f4eedbb649\", element=\"ba44a7cb-6594-453f-90d3-b730122f78f1\")>,\n",
       " <selenium.webdriver.remote.webelement.WebElement (session=\"77967e746356a6f463de57f4eedbb649\", element=\"9f42c170-bf16-4cc7-8496-41e50b5c6434\")>,\n",
       " <selenium.webdriver.remote.webelement.WebElement (session=\"77967e746356a6f463de57f4eedbb649\", element=\"bff80b08-d929-40de-b129-f79c8b0e1f29\")>,\n",
       " <selenium.webdriver.remote.webelement.WebElement (session=\"77967e746356a6f463de57f4eedbb649\", element=\"c565b51f-c8ba-4cc7-9e68-5cc669f94ccc\")>,\n",
       " <selenium.webdriver.remote.webelement.WebElement (session=\"77967e746356a6f463de57f4eedbb649\", element=\"556371ce-bf6d-461f-9285-d97c51a338d6\")>,\n",
       " <selenium.webdriver.remote.webelement.WebElement (session=\"77967e746356a6f463de57f4eedbb649\", element=\"795dfe25-e26b-4aa6-87d9-f980a237a495\")>,\n",
       " <selenium.webdriver.remote.webelement.WebElement (session=\"77967e746356a6f463de57f4eedbb649\", element=\"f4d254d4-034e-4a95-84b4-697bcb6e608f\")>,\n",
       " <selenium.webdriver.remote.webelement.WebElement (session=\"77967e746356a6f463de57f4eedbb649\", element=\"73f19ec0-877c-4e70-81bf-0c8cb688617b\")>,\n",
       " <selenium.webdriver.remote.webelement.WebElement (session=\"77967e746356a6f463de57f4eedbb649\", element=\"008da100-4a42-48c6-bbd3-f72301cbd8d1\")>,\n",
       " <selenium.webdriver.remote.webelement.WebElement (session=\"77967e746356a6f463de57f4eedbb649\", element=\"22e49923-5295-456c-8249-450180e08e4f\")>,\n",
       " <selenium.webdriver.remote.webelement.WebElement (session=\"77967e746356a6f463de57f4eedbb649\", element=\"96cf65d4-02ca-4916-bcd4-c3f4ef76e4a1\")>,\n",
       " <selenium.webdriver.remote.webelement.WebElement (session=\"77967e746356a6f463de57f4eedbb649\", element=\"b14699d2-3450-465e-85a9-7f973571c4f3\")>,\n",
       " <selenium.webdriver.remote.webelement.WebElement (session=\"77967e746356a6f463de57f4eedbb649\", element=\"9eb0647e-28da-4e11-b03d-7dd9b1606401\")>]"
      ]
     },
     "execution_count": 204,
     "metadata": {},
     "output_type": "execute_result"
    }
   ],
   "source": [
    "rating_tag=driver.find_elements_by_xpath(\"//span[@class='css-19pjha7 e1cjmv6j1']\")\n",
    "rating_tag"
   ]
  },
  {
   "cell_type": "code",
   "execution_count": 205,
   "metadata": {},
   "outputs": [
    {
     "data": {
      "text/plain": [
       "['3.0',\n",
       " '3.7',\n",
       " '3.8',\n",
       " '4.1',\n",
       " '3.1',\n",
       " '4.4',\n",
       " '3.7',\n",
       " '5.0',\n",
       " '3.7',\n",
       " '4.0',\n",
       " '3.9',\n",
       " '4.1',\n",
       " '3.7',\n",
       " '4.3',\n",
       " '3.8',\n",
       " '4.1',\n",
       " '3.8',\n",
       " '3.5',\n",
       " '3.0',\n",
       " '4.9',\n",
       " '3.0',\n",
       " '3.8']"
      ]
     },
     "execution_count": 205,
     "metadata": {},
     "output_type": "execute_result"
    }
   ],
   "source": [
    "ratings=[]\n",
    "for i in rating_tag:\n",
    "    if i.text is None:\n",
    "        ratings.append(\"Not\")\n",
    "    else:\n",
    "        ratings.append(i.text)\n",
    "        \n",
    "ratings        "
   ]
  },
  {
   "cell_type": "code",
   "execution_count": 206,
   "metadata": {},
   "outputs": [
    {
     "data": {
      "text/plain": [
       "[<selenium.webdriver.remote.webelement.WebElement (session=\"77967e746356a6f463de57f4eedbb649\", element=\"dab9d282-c173-46ec-a0f3-70fec68f60ff\")>,\n",
       " <selenium.webdriver.remote.webelement.WebElement (session=\"77967e746356a6f463de57f4eedbb649\", element=\"47ccb194-e04d-4641-a91a-470b8e07904a\")>,\n",
       " <selenium.webdriver.remote.webelement.WebElement (session=\"77967e746356a6f463de57f4eedbb649\", element=\"f430ebc7-adb2-49e4-8299-af9015fb22e4\")>,\n",
       " <selenium.webdriver.remote.webelement.WebElement (session=\"77967e746356a6f463de57f4eedbb649\", element=\"75791fe3-5ec8-4058-b792-3eb5baa60e6f\")>,\n",
       " <selenium.webdriver.remote.webelement.WebElement (session=\"77967e746356a6f463de57f4eedbb649\", element=\"84b40514-a57e-457c-ac1e-76382619c932\")>,\n",
       " <selenium.webdriver.remote.webelement.WebElement (session=\"77967e746356a6f463de57f4eedbb649\", element=\"4df27a18-2ea7-4583-bf00-625a64a57235\")>,\n",
       " <selenium.webdriver.remote.webelement.WebElement (session=\"77967e746356a6f463de57f4eedbb649\", element=\"925aeec1-d8e9-4cf0-a2a8-ad37df3303fd\")>,\n",
       " <selenium.webdriver.remote.webelement.WebElement (session=\"77967e746356a6f463de57f4eedbb649\", element=\"efdc2166-bdd5-49a4-bffd-c9bc9b4db253\")>,\n",
       " <selenium.webdriver.remote.webelement.WebElement (session=\"77967e746356a6f463de57f4eedbb649\", element=\"9b30a25d-f1a8-4cba-8176-0362ed2807e7\")>,\n",
       " <selenium.webdriver.remote.webelement.WebElement (session=\"77967e746356a6f463de57f4eedbb649\", element=\"89289d21-59f6-489f-ba8c-a6cf5032d7ae\")>,\n",
       " <selenium.webdriver.remote.webelement.WebElement (session=\"77967e746356a6f463de57f4eedbb649\", element=\"38e67d82-dc74-4e92-9822-8fd706ecb3a5\")>,\n",
       " <selenium.webdriver.remote.webelement.WebElement (session=\"77967e746356a6f463de57f4eedbb649\", element=\"9d1d949f-e184-4b8a-ae9e-f46bf800fb8f\")>,\n",
       " <selenium.webdriver.remote.webelement.WebElement (session=\"77967e746356a6f463de57f4eedbb649\", element=\"9e5a9840-9175-4d0b-b5a5-ed70c09674ff\")>,\n",
       " <selenium.webdriver.remote.webelement.WebElement (session=\"77967e746356a6f463de57f4eedbb649\", element=\"466b7617-6a51-4506-bb67-5b8834aca64a\")>,\n",
       " <selenium.webdriver.remote.webelement.WebElement (session=\"77967e746356a6f463de57f4eedbb649\", element=\"d2ef591e-8ad8-4e22-befe-e485dd0ca525\")>,\n",
       " <selenium.webdriver.remote.webelement.WebElement (session=\"77967e746356a6f463de57f4eedbb649\", element=\"1905fded-4253-447c-a70d-c4f5811971a9\")>,\n",
       " <selenium.webdriver.remote.webelement.WebElement (session=\"77967e746356a6f463de57f4eedbb649\", element=\"4ec2debe-1a4e-465a-8dcf-ec12193b3590\")>,\n",
       " <selenium.webdriver.remote.webelement.WebElement (session=\"77967e746356a6f463de57f4eedbb649\", element=\"028c61c9-7477-4616-a654-8c8fb8216d68\")>,\n",
       " <selenium.webdriver.remote.webelement.WebElement (session=\"77967e746356a6f463de57f4eedbb649\", element=\"7dbeb370-0dec-4c60-b9ff-31e2e649434b\")>,\n",
       " <selenium.webdriver.remote.webelement.WebElement (session=\"77967e746356a6f463de57f4eedbb649\", element=\"0b8218ca-70aa-4071-a49b-df2b028a2886\")>,\n",
       " <selenium.webdriver.remote.webelement.WebElement (session=\"77967e746356a6f463de57f4eedbb649\", element=\"19c69963-5897-421a-b126-53585299d83f\")>,\n",
       " <selenium.webdriver.remote.webelement.WebElement (session=\"77967e746356a6f463de57f4eedbb649\", element=\"623809ba-1b93-40fd-b55a-10a45b999de9\")>,\n",
       " <selenium.webdriver.remote.webelement.WebElement (session=\"77967e746356a6f463de57f4eedbb649\", element=\"77827736-63fd-43ca-81f9-057d4ab6d40c\")>,\n",
       " <selenium.webdriver.remote.webelement.WebElement (session=\"77967e746356a6f463de57f4eedbb649\", element=\"e13f70df-a340-45e4-a65c-a187f8206a8a\")>,\n",
       " <selenium.webdriver.remote.webelement.WebElement (session=\"77967e746356a6f463de57f4eedbb649\", element=\"2da148f1-61d5-40a0-b20d-2d2eee8c7f57\")>,\n",
       " <selenium.webdriver.remote.webelement.WebElement (session=\"77967e746356a6f463de57f4eedbb649\", element=\"aa73eb23-d219-4f70-ae8a-4e3c67a706b1\")>,\n",
       " <selenium.webdriver.remote.webelement.WebElement (session=\"77967e746356a6f463de57f4eedbb649\", element=\"934806d6-5288-4d49-80df-1ca96b1d26b5\")>,\n",
       " <selenium.webdriver.remote.webelement.WebElement (session=\"77967e746356a6f463de57f4eedbb649\", element=\"97773e5e-2a0c-480e-a56f-376582577cae\")>,\n",
       " <selenium.webdriver.remote.webelement.WebElement (session=\"77967e746356a6f463de57f4eedbb649\", element=\"078931c0-740b-4e55-ae34-9129a3a4b4da\")>,\n",
       " <selenium.webdriver.remote.webelement.WebElement (session=\"77967e746356a6f463de57f4eedbb649\", element=\"92412755-0ead-41af-ac29-8cbea2027451\")>]"
      ]
     },
     "execution_count": 206,
     "metadata": {},
     "output_type": "execute_result"
    }
   ],
   "source": [
    "job_age_tag=driver.find_elements_by_xpath(\"//div[@class='d-flex align-items-end pl-std css-mi55ob']\")\n",
    "job_age_tag"
   ]
  },
  {
   "cell_type": "code",
   "execution_count": 207,
   "metadata": {},
   "outputs": [
    {
     "data": {
      "text/plain": [
       "['1d',\n",
       " '1d',\n",
       " '5d',\n",
       " '13d',\n",
       " '12d',\n",
       " '1d',\n",
       " '13d',\n",
       " '3d',\n",
       " '30d+',\n",
       " '30d+',\n",
       " '30d+',\n",
       " '12d',\n",
       " '11d',\n",
       " '24h',\n",
       " '24h',\n",
       " '30d+',\n",
       " '24h',\n",
       " '30d+',\n",
       " '30d+',\n",
       " '30d+',\n",
       " '30d+',\n",
       " '30d+',\n",
       " '30d+',\n",
       " '14d',\n",
       " '30d+',\n",
       " '10d',\n",
       " '1d',\n",
       " '30d+',\n",
       " '30d+',\n",
       " '30d+']"
      ]
     },
     "execution_count": 207,
     "metadata": {},
     "output_type": "execute_result"
    }
   ],
   "source": [
    "job_age=[]\n",
    "for i in job_age_tag:\n",
    "    if i.text is None:\n",
    "        job_age.append(\"Not\")\n",
    "    else:\n",
    "        job_age.append(i.text)\n",
    "        \n",
    "job_age        "
   ]
  },
  {
   "cell_type": "code",
   "execution_count": 208,
   "metadata": {},
   "outputs": [],
   "source": [
    "glass_job=pd.DataFrame({})\n",
    "glass_job['Company']=job_titles[:10]\n",
    "glass_job['Ratings']=ratings[:10]\n",
    "glass_job['Job Age']=job_age[:10]"
   ]
  },
  {
   "cell_type": "code",
   "execution_count": 209,
   "metadata": {},
   "outputs": [
    {
     "data": {
      "text/html": [
       "<div>\n",
       "<style scoped>\n",
       "    .dataframe tbody tr th:only-of-type {\n",
       "        vertical-align: middle;\n",
       "    }\n",
       "\n",
       "    .dataframe tbody tr th {\n",
       "        vertical-align: top;\n",
       "    }\n",
       "\n",
       "    .dataframe thead th {\n",
       "        text-align: right;\n",
       "    }\n",
       "</style>\n",
       "<table border=\"1\" class=\"dataframe\">\n",
       "  <thead>\n",
       "    <tr style=\"text-align: right;\">\n",
       "      <th></th>\n",
       "      <th>Company</th>\n",
       "      <th>Ratings</th>\n",
       "      <th>Job Age</th>\n",
       "    </tr>\n",
       "  </thead>\n",
       "  <tbody>\n",
       "    <tr>\n",
       "      <th>0</th>\n",
       "      <td>Data Patterns</td>\n",
       "      <td>3.0</td>\n",
       "      <td>1d</td>\n",
       "    </tr>\n",
       "    <tr>\n",
       "      <th>1</th>\n",
       "      <td>UnitedHealth Group</td>\n",
       "      <td>3.7</td>\n",
       "      <td>1d</td>\n",
       "    </tr>\n",
       "    <tr>\n",
       "      <th>2</th>\n",
       "      <td>Ginger Webs Pvt. Ltd.</td>\n",
       "      <td>3.8</td>\n",
       "      <td>5d</td>\n",
       "    </tr>\n",
       "    <tr>\n",
       "      <th>3</th>\n",
       "      <td>Crowe</td>\n",
       "      <td>4.1</td>\n",
       "      <td>13d</td>\n",
       "    </tr>\n",
       "    <tr>\n",
       "      <th>4</th>\n",
       "      <td>Ericsson</td>\n",
       "      <td>3.1</td>\n",
       "      <td>12d</td>\n",
       "    </tr>\n",
       "    <tr>\n",
       "      <th>5</th>\n",
       "      <td></td>\n",
       "      <td>4.4</td>\n",
       "      <td>1d</td>\n",
       "    </tr>\n",
       "    <tr>\n",
       "      <th>6</th>\n",
       "      <td>Jubna</td>\n",
       "      <td>3.7</td>\n",
       "      <td>13d</td>\n",
       "    </tr>\n",
       "    <tr>\n",
       "      <th>7</th>\n",
       "      <td>Adobe</td>\n",
       "      <td>5.0</td>\n",
       "      <td>3d</td>\n",
       "    </tr>\n",
       "    <tr>\n",
       "      <th>8</th>\n",
       "      <td>CRMNEXT</td>\n",
       "      <td>3.7</td>\n",
       "      <td>30d+</td>\n",
       "    </tr>\n",
       "    <tr>\n",
       "      <th>9</th>\n",
       "      <td>Techlive</td>\n",
       "      <td>4.0</td>\n",
       "      <td>30d+</td>\n",
       "    </tr>\n",
       "  </tbody>\n",
       "</table>\n",
       "</div>"
      ],
      "text/plain": [
       "                 Company Ratings Job Age\n",
       "0          Data Patterns     3.0      1d\n",
       "1     UnitedHealth Group     3.7      1d\n",
       "2  Ginger Webs Pvt. Ltd.     3.8      5d\n",
       "3                  Crowe     4.1     13d\n",
       "4               Ericsson     3.1     12d\n",
       "5                            4.4      1d\n",
       "6                  Jubna     3.7     13d\n",
       "7                  Adobe     5.0      3d\n",
       "8                CRMNEXT     3.7    30d+\n",
       "9               Techlive     4.0    30d+"
      ]
     },
     "execution_count": 209,
     "metadata": {},
     "output_type": "execute_result"
    }
   ],
   "source": [
    "glass_job"
   ]
  },
  {
   "cell_type": "code",
   "execution_count": null,
   "metadata": {},
   "outputs": [],
   "source": []
  },
  {
   "cell_type": "code",
   "execution_count": null,
   "metadata": {},
   "outputs": [],
   "source": []
  },
  {
   "cell_type": "code",
   "execution_count": null,
   "metadata": {},
   "outputs": [],
   "source": []
  },
  {
   "cell_type": "code",
   "execution_count": null,
   "metadata": {},
   "outputs": [],
   "source": []
  },
  {
   "cell_type": "markdown",
   "metadata": {},
   "source": [
    "# 5. Salary data for Data Scientist job in Noida"
   ]
  },
  {
   "cell_type": "code",
   "execution_count": 220,
   "metadata": {},
   "outputs": [],
   "source": [
    "driver= webdriver.Chrome(r\"C:\\Users\\Harshil Goradia\\Downloads\\chromedriver_win32\\chromedriver\")"
   ]
  },
  {
   "cell_type": "code",
   "execution_count": 221,
   "metadata": {},
   "outputs": [],
   "source": [
    "url='https://www.glassdoor.co.in/Salaries/index.htm'\n",
    "driver.get(url)\n",
    "time.sleep(5)"
   ]
  },
  {
   "cell_type": "code",
   "execution_count": 222,
   "metadata": {},
   "outputs": [
    {
     "data": {
      "text/plain": [
       "<selenium.webdriver.remote.webelement.WebElement (session=\"3cbb0aa1d126ffa15f05d0e6a4cc21db\", element=\"861f4f84-66cc-4b3b-a483-c5105c4ddcf5\")>"
      ]
     },
     "execution_count": 222,
     "metadata": {},
     "output_type": "execute_result"
    }
   ],
   "source": [
    "search_job=driver.find_element_by_id('KeywordSearch')\n",
    "search_job"
   ]
  },
  {
   "cell_type": "code",
   "execution_count": 223,
   "metadata": {},
   "outputs": [],
   "source": [
    "search_job.send_keys('Data Scientist')"
   ]
  },
  {
   "cell_type": "code",
   "execution_count": 224,
   "metadata": {},
   "outputs": [
    {
     "data": {
      "text/plain": [
       "<selenium.webdriver.remote.webelement.WebElement (session=\"3cbb0aa1d126ffa15f05d0e6a4cc21db\", element=\"6df6e3cf-d758-4b0b-9566-71ac9a554d65\")>"
      ]
     },
     "execution_count": 224,
     "metadata": {},
     "output_type": "execute_result"
    }
   ],
   "source": [
    "search_loc=driver.find_element_by_id('LocationSearch')\n",
    "search_loc"
   ]
  },
  {
   "cell_type": "code",
   "execution_count": 225,
   "metadata": {},
   "outputs": [],
   "source": [
    "search_loc.send_keys('Noida')"
   ]
  },
  {
   "cell_type": "code",
   "execution_count": 226,
   "metadata": {},
   "outputs": [
    {
     "data": {
      "text/plain": [
       "<selenium.webdriver.remote.webelement.WebElement (session=\"3cbb0aa1d126ffa15f05d0e6a4cc21db\", element=\"64a336c3-9605-4940-aa34-29d5b7b492d2\")>"
      ]
     },
     "execution_count": 226,
     "metadata": {},
     "output_type": "execute_result"
    }
   ],
   "source": [
    "search_btn=driver.find_element_by_xpath(\"//button[@class='gd-btn-mkt']\")\n",
    "search_btn"
   ]
  },
  {
   "cell_type": "code",
   "execution_count": 227,
   "metadata": {},
   "outputs": [],
   "source": [
    "search_btn=driver.find_element_by_xpath(\"//button[@class='gd-btn-mkt']\")\n",
    "search_btn.click()"
   ]
  },
  {
   "cell_type": "code",
   "execution_count": 228,
   "metadata": {},
   "outputs": [],
   "source": [
    "import requests"
   ]
  },
  {
   "cell_type": "code",
   "execution_count": 229,
   "metadata": {},
   "outputs": [
    {
     "data": {
      "text/plain": [
       "<Response [403]>"
      ]
     },
     "execution_count": 229,
     "metadata": {},
     "output_type": "execute_result"
    }
   ],
   "source": [
    "requests.get(url)"
   ]
  },
  {
   "cell_type": "code",
   "execution_count": null,
   "metadata": {},
   "outputs": [],
   "source": []
  },
  {
   "cell_type": "code",
   "execution_count": null,
   "metadata": {},
   "outputs": [],
   "source": []
  },
  {
   "cell_type": "code",
   "execution_count": null,
   "metadata": {},
   "outputs": [],
   "source": []
  },
  {
   "cell_type": "code",
   "execution_count": null,
   "metadata": {},
   "outputs": [],
   "source": []
  },
  {
   "cell_type": "markdown",
   "metadata": {},
   "source": [
    "# 6. 100 sunglasses from Flipkart.com"
   ]
  },
  {
   "cell_type": "code",
   "execution_count": 230,
   "metadata": {},
   "outputs": [],
   "source": [
    "driver= webdriver.Chrome(r\"C:\\Users\\Harshil Goradia\\Downloads\\chromedriver_win32\\chromedriver\")"
   ]
  },
  {
   "cell_type": "code",
   "execution_count": 231,
   "metadata": {},
   "outputs": [],
   "source": [
    "url='https://www.flipkart.com/'\n",
    "driver.get(url)\n",
    "time.sleep(5)"
   ]
  },
  {
   "cell_type": "code",
   "execution_count": 232,
   "metadata": {},
   "outputs": [
    {
     "data": {
      "text/plain": [
       "<selenium.webdriver.remote.webelement.WebElement (session=\"1bd24c573cef77978c1a37689b703bb3\", element=\"c96f57b0-0fa7-48a5-b3cd-265da23e333b\")>"
      ]
     },
     "execution_count": 232,
     "metadata": {},
     "output_type": "execute_result"
    }
   ],
   "source": [
    "search_sunglass=driver.find_element_by_xpath(\"//input[@class='_3704LK']\")\n",
    "search_sunglass"
   ]
  },
  {
   "cell_type": "code",
   "execution_count": 233,
   "metadata": {},
   "outputs": [],
   "source": [
    "search_sunglass.send_keys('sunglasses')"
   ]
  },
  {
   "cell_type": "code",
   "execution_count": 234,
   "metadata": {},
   "outputs": [
    {
     "data": {
      "text/plain": [
       "<selenium.webdriver.remote.webelement.WebElement (session=\"1bd24c573cef77978c1a37689b703bb3\", element=\"d1f9f577-adad-4df2-bb56-fdd87316ebdb\")>"
      ]
     },
     "execution_count": 234,
     "metadata": {},
     "output_type": "execute_result"
    }
   ],
   "source": [
    "search_btn=driver.find_element_by_xpath(\"//button[@class='L0Z3Pu']\")\n",
    "search_btn"
   ]
  },
  {
   "cell_type": "code",
   "execution_count": 235,
   "metadata": {},
   "outputs": [],
   "source": [
    "search_btn=driver.find_element_by_xpath(\"//button[@class='L0Z3Pu']\")\n",
    "search_btn.click()"
   ]
  },
  {
   "cell_type": "code",
   "execution_count": null,
   "metadata": {},
   "outputs": [],
   "source": []
  },
  {
   "cell_type": "code",
   "execution_count": 240,
   "metadata": {},
   "outputs": [
    {
     "data": {
      "text/plain": [
       "['https://www.flipkart.com/search?q=sunglasses&otracker=search&otracker1=search&marketplace=FLIPKART&as-show=on&as=off&page=1',\n",
       " 'https://www.flipkart.com/search?q=sunglasses&otracker=search&otracker1=search&marketplace=FLIPKART&as-show=on&as=off&page=2',\n",
       " 'https://www.flipkart.com/search?q=sunglasses&otracker=search&otracker1=search&marketplace=FLIPKART&as-show=on&as=off&page=3',\n",
       " 'https://www.flipkart.com/search?q=sunglasses&otracker=search&otracker1=search&marketplace=FLIPKART&as-show=on&as=off&page=4',\n",
       " 'https://www.flipkart.com/search?q=sunglasses&otracker=search&otracker1=search&marketplace=FLIPKART&as-show=on&as=off&page=5',\n",
       " 'https://www.flipkart.com/search?q=sunglasses&otracker=search&otracker1=search&marketplace=FLIPKART&as-show=on&as=off&page=6',\n",
       " 'https://www.flipkart.com/search?q=sunglasses&otracker=search&otracker1=search&marketplace=FLIPKART&as-show=on&as=off&page=7',\n",
       " 'https://www.flipkart.com/search?q=sunglasses&otracker=search&otracker1=search&marketplace=FLIPKART&as-show=on&as=off&page=8',\n",
       " 'https://www.flipkart.com/search?q=sunglasses&otracker=search&otracker1=search&marketplace=FLIPKART&as-show=on&as=off&page=9',\n",
       " 'https://www.flipkart.com/search?q=sunglasses&otracker=search&otracker1=search&marketplace=FLIPKART&as-show=on&as=off&page=10',\n",
       " 'https://www.flipkart.com/search?q=sunglasses&otracker=search&otracker1=search&marketplace=FLIPKART&as-show=on&as=off&page=2']"
      ]
     },
     "execution_count": 240,
     "metadata": {},
     "output_type": "execute_result"
    }
   ],
   "source": [
    "page_urls=[]\n",
    "url1= driver.find_elements_by_xpath(\"//div[@class='_2MImiq']//a\")\n",
    "for i in url1:\n",
    "    page_urls.append(i.get_attribute('href'))\n",
    "    \n",
    "page_urls    "
   ]
  },
  {
   "cell_type": "code",
   "execution_count": 241,
   "metadata": {},
   "outputs": [],
   "source": [
    "company=[]\n",
    "for i in page_urls:\n",
    "    driver.get(i)\n",
    "    sunglass_com=driver.find_elements_by_xpath(\"//div[@class='_2WkVRV']\")\n",
    "    for i in sunglass_com:\n",
    "        company.append(i.text)"
   ]
  },
  {
   "cell_type": "code",
   "execution_count": 243,
   "metadata": {},
   "outputs": [],
   "source": [
    "prod_desc=[]\n",
    "for i in page_urls:\n",
    "    driver.get(i)\n",
    "    description=driver.find_elements_by_xpath(\"//a[@class='IRpwTa']\")\n",
    "    for i in description:\n",
    "        prod_desc.append(i.text)"
   ]
  },
  {
   "cell_type": "code",
   "execution_count": 245,
   "metadata": {},
   "outputs": [],
   "source": [
    "price=[]\n",
    "for i in page_urls:\n",
    "    driver.get(i)\n",
    "    sunglass_price=driver.find_elements_by_xpath(\"//div[@class='_30jeq3']\")\n",
    "    for i in sunglass_price:\n",
    "        price.append(i.text)"
   ]
  },
  {
   "cell_type": "code",
   "execution_count": 246,
   "metadata": {},
   "outputs": [],
   "source": [
    "discount=[]\n",
    "for i in page_urls:\n",
    "    driver.get(i)\n",
    "    sunglass_dis=driver.find_elements_by_xpath(\"//div[@class='_3Ay6Sb']//span\")\n",
    "    for i in sunglass_dis:\n",
    "        discount.append(i.text)"
   ]
  },
  {
   "cell_type": "code",
   "execution_count": 247,
   "metadata": {},
   "outputs": [],
   "source": [
    "sunglasses=pd.DataFrame({})\n",
    "sunglasses['Brand']=company[:100]\n",
    "sunglasses['Price']=price[:100]\n",
    "sunglasses['Discount']=discount[:100]\n",
    "sunglasses['Description']=prod_desc[:100]"
   ]
  },
  {
   "cell_type": "code",
   "execution_count": 248,
   "metadata": {},
   "outputs": [
    {
     "data": {
      "text/html": [
       "<div>\n",
       "<style scoped>\n",
       "    .dataframe tbody tr th:only-of-type {\n",
       "        vertical-align: middle;\n",
       "    }\n",
       "\n",
       "    .dataframe tbody tr th {\n",
       "        vertical-align: top;\n",
       "    }\n",
       "\n",
       "    .dataframe thead th {\n",
       "        text-align: right;\n",
       "    }\n",
       "</style>\n",
       "<table border=\"1\" class=\"dataframe\">\n",
       "  <thead>\n",
       "    <tr style=\"text-align: right;\">\n",
       "      <th></th>\n",
       "      <th>Brand</th>\n",
       "      <th>Price</th>\n",
       "      <th>Discount</th>\n",
       "      <th>Description</th>\n",
       "    </tr>\n",
       "  </thead>\n",
       "  <tbody>\n",
       "    <tr>\n",
       "      <th>0</th>\n",
       "      <td>Fastrack</td>\n",
       "      <td>₹485</td>\n",
       "      <td>68% off</td>\n",
       "      <td>UV Protection Rectangular Sunglasses (Free Size)</td>\n",
       "    </tr>\n",
       "    <tr>\n",
       "      <th>1</th>\n",
       "      <td>Fastrack</td>\n",
       "      <td>₹314</td>\n",
       "      <td>67% off</td>\n",
       "      <td>Gradient, UV Protection Wayfarer Sunglasses (F...</td>\n",
       "    </tr>\n",
       "    <tr>\n",
       "      <th>2</th>\n",
       "      <td>PIRASO</td>\n",
       "      <td>₹399</td>\n",
       "      <td>80% off</td>\n",
       "      <td>UV Protection Aviator Sunglasses (54)</td>\n",
       "    </tr>\n",
       "    <tr>\n",
       "      <th>3</th>\n",
       "      <td>Fastrack</td>\n",
       "      <td>₹541</td>\n",
       "      <td>32% off</td>\n",
       "      <td>UV Protection Wayfarer Sunglasses (Free Size)</td>\n",
       "    </tr>\n",
       "    <tr>\n",
       "      <th>4</th>\n",
       "      <td>DEIXELS</td>\n",
       "      <td>₹509</td>\n",
       "      <td>36% off</td>\n",
       "      <td>UV Protection Aviator, Wayfarer Sunglasses (Fr...</td>\n",
       "    </tr>\n",
       "    <tr>\n",
       "      <th>...</th>\n",
       "      <td>...</td>\n",
       "      <td>...</td>\n",
       "      <td>...</td>\n",
       "      <td>...</td>\n",
       "    </tr>\n",
       "    <tr>\n",
       "      <th>95</th>\n",
       "      <td>hipe</td>\n",
       "      <td>₹261</td>\n",
       "      <td>71% off</td>\n",
       "      <td>UV Protection Retro Square Sunglasses (58)</td>\n",
       "    </tr>\n",
       "    <tr>\n",
       "      <th>96</th>\n",
       "      <td>kingsunglasses</td>\n",
       "      <td>₹399</td>\n",
       "      <td>73% off</td>\n",
       "      <td>Mirrored Aviator Sunglasses (55)</td>\n",
       "    </tr>\n",
       "    <tr>\n",
       "      <th>97</th>\n",
       "      <td>ROYAL SON</td>\n",
       "      <td>₹299</td>\n",
       "      <td>88% off</td>\n",
       "      <td>UV Protection Oval Sunglasses (56)</td>\n",
       "    </tr>\n",
       "    <tr>\n",
       "      <th>98</th>\n",
       "      <td>United Colors of Benetton.</td>\n",
       "      <td>₹668</td>\n",
       "      <td>53% off</td>\n",
       "      <td>Mirrored Retro Square Sunglasses (57)</td>\n",
       "    </tr>\n",
       "    <tr>\n",
       "      <th>99</th>\n",
       "      <td>NuVew</td>\n",
       "      <td>₹426</td>\n",
       "      <td>72% off</td>\n",
       "      <td>Polarized Aviator Sunglasses (60)</td>\n",
       "    </tr>\n",
       "  </tbody>\n",
       "</table>\n",
       "<p>100 rows × 4 columns</p>\n",
       "</div>"
      ],
      "text/plain": [
       "                         Brand Price Discount  \\\n",
       "0                     Fastrack  ₹485  68% off   \n",
       "1                     Fastrack  ₹314  67% off   \n",
       "2                       PIRASO  ₹399  80% off   \n",
       "3                     Fastrack  ₹541  32% off   \n",
       "4                      DEIXELS  ₹509  36% off   \n",
       "..                         ...   ...      ...   \n",
       "95                        hipe  ₹261  71% off   \n",
       "96              kingsunglasses  ₹399  73% off   \n",
       "97                   ROYAL SON  ₹299  88% off   \n",
       "98  United Colors of Benetton.  ₹668  53% off   \n",
       "99                       NuVew  ₹426  72% off   \n",
       "\n",
       "                                          Description  \n",
       "0    UV Protection Rectangular Sunglasses (Free Size)  \n",
       "1   Gradient, UV Protection Wayfarer Sunglasses (F...  \n",
       "2               UV Protection Aviator Sunglasses (54)  \n",
       "3       UV Protection Wayfarer Sunglasses (Free Size)  \n",
       "4   UV Protection Aviator, Wayfarer Sunglasses (Fr...  \n",
       "..                                                ...  \n",
       "95         UV Protection Retro Square Sunglasses (58)  \n",
       "96                   Mirrored Aviator Sunglasses (55)  \n",
       "97                 UV Protection Oval Sunglasses (56)  \n",
       "98              Mirrored Retro Square Sunglasses (57)  \n",
       "99                  Polarized Aviator Sunglasses (60)  \n",
       "\n",
       "[100 rows x 4 columns]"
      ]
     },
     "execution_count": 248,
     "metadata": {},
     "output_type": "execute_result"
    }
   ],
   "source": [
    "sunglasses"
   ]
  },
  {
   "cell_type": "code",
   "execution_count": null,
   "metadata": {},
   "outputs": [],
   "source": []
  },
  {
   "cell_type": "code",
   "execution_count": null,
   "metadata": {},
   "outputs": [],
   "source": []
  },
  {
   "cell_type": "code",
   "execution_count": null,
   "metadata": {},
   "outputs": [],
   "source": []
  },
  {
   "cell_type": "code",
   "execution_count": null,
   "metadata": {},
   "outputs": [],
   "source": []
  },
  {
   "cell_type": "markdown",
   "metadata": {},
   "source": [
    "# 7. Iphone review scarping"
   ]
  },
  {
   "cell_type": "code",
   "execution_count": 249,
   "metadata": {},
   "outputs": [],
   "source": [
    "url='https://www.flipkart.com/apple-iphone-11-black-64-gb-includes\u0002earpods-power\u0002adapter/p/itm0f37c2240b217?pid=MOBFKCTSVZAXUHGR&lid=LSTMOBFKCTSVZAXUHGREPBFGI&marketplace.'\n",
    "driver.get(url)\n",
    "time.sleep(5)"
   ]
  },
  {
   "cell_type": "code",
   "execution_count": 259,
   "metadata": {},
   "outputs": [
    {
     "data": {
      "text/plain": [
       "['https://www.flipkart.com/apple-iphone-11-black-64-gb-includes-earpods-power-adapter/product-reviews/itm0f37c2240b217?pid=MOBFKCTSVZAXUHGR&lid=LSTMOBFKCTSVZAXUHGREPBFGI&marketplace=FLIPKART&page=1',\n",
       " 'https://www.flipkart.com/apple-iphone-11-black-64-gb-includes-earpods-power-adapter/product-reviews/itm0f37c2240b217?pid=MOBFKCTSVZAXUHGR&lid=LSTMOBFKCTSVZAXUHGREPBFGI&marketplace=FLIPKART&page=2',\n",
       " 'https://www.flipkart.com/apple-iphone-11-black-64-gb-includes-earpods-power-adapter/product-reviews/itm0f37c2240b217?pid=MOBFKCTSVZAXUHGR&lid=LSTMOBFKCTSVZAXUHGREPBFGI&marketplace=FLIPKART&page=3',\n",
       " 'https://www.flipkart.com/apple-iphone-11-black-64-gb-includes-earpods-power-adapter/product-reviews/itm0f37c2240b217?pid=MOBFKCTSVZAXUHGR&lid=LSTMOBFKCTSVZAXUHGREPBFGI&marketplace=FLIPKART&page=4',\n",
       " 'https://www.flipkart.com/apple-iphone-11-black-64-gb-includes-earpods-power-adapter/product-reviews/itm0f37c2240b217?pid=MOBFKCTSVZAXUHGR&lid=LSTMOBFKCTSVZAXUHGREPBFGI&marketplace=FLIPKART&page=5',\n",
       " 'https://www.flipkart.com/apple-iphone-11-black-64-gb-includes-earpods-power-adapter/product-reviews/itm0f37c2240b217?pid=MOBFKCTSVZAXUHGR&lid=LSTMOBFKCTSVZAXUHGREPBFGI&marketplace=FLIPKART&page=6',\n",
       " 'https://www.flipkart.com/apple-iphone-11-black-64-gb-includes-earpods-power-adapter/product-reviews/itm0f37c2240b217?pid=MOBFKCTSVZAXUHGR&lid=LSTMOBFKCTSVZAXUHGREPBFGI&marketplace=FLIPKART&page=7',\n",
       " 'https://www.flipkart.com/apple-iphone-11-black-64-gb-includes-earpods-power-adapter/product-reviews/itm0f37c2240b217?pid=MOBFKCTSVZAXUHGR&lid=LSTMOBFKCTSVZAXUHGREPBFGI&marketplace=FLIPKART&page=8',\n",
       " 'https://www.flipkart.com/apple-iphone-11-black-64-gb-includes-earpods-power-adapter/product-reviews/itm0f37c2240b217?pid=MOBFKCTSVZAXUHGR&lid=LSTMOBFKCTSVZAXUHGREPBFGI&marketplace=FLIPKART&page=9',\n",
       " 'https://www.flipkart.com/apple-iphone-11-black-64-gb-includes-earpods-power-adapter/product-reviews/itm0f37c2240b217?pid=MOBFKCTSVZAXUHGR&lid=LSTMOBFKCTSVZAXUHGREPBFGI&marketplace=FLIPKART&page=10',\n",
       " 'https://www.flipkart.com/apple-iphone-11-black-64-gb-includes-earpods-power-adapter/product-reviews/itm0f37c2240b217?pid=MOBFKCTSVZAXUHGR&lid=LSTMOBFKCTSVZAXUHGREPBFGI&marketplace=FLIPKART&page=2']"
      ]
     },
     "execution_count": 259,
     "metadata": {},
     "output_type": "execute_result"
    }
   ],
   "source": [
    "page_urls=[]\n",
    "url1= driver.find_elements_by_xpath(\"//div[@class='_2MImiq _1Qnn1K']//a\")\n",
    "for i in url1:\n",
    "    page_urls.append(i.get_attribute('href'))\n",
    "    \n",
    "page_urls   "
   ]
  },
  {
   "cell_type": "code",
   "execution_count": 261,
   "metadata": {},
   "outputs": [],
   "source": [
    "ratings=[]\n",
    "for i in page_urls:\n",
    "    driver.get(i)\n",
    "    rating=driver.find_elements_by_xpath(\"//div[@class='_3LWZlK _1BLPMq']\")\n",
    "    for i in rating:\n",
    "        ratings.append(i.text)"
   ]
  },
  {
   "cell_type": "code",
   "execution_count": 263,
   "metadata": {},
   "outputs": [],
   "source": [
    "review_summary=[]\n",
    "for i in page_urls:\n",
    "    driver.get(i)\n",
    "    review=driver.find_elements_by_xpath(\"//p[@class='_2-N8zT']\")\n",
    "    for i in review:\n",
    "        review_summary.append(i.text)"
   ]
  },
  {
   "cell_type": "code",
   "execution_count": 265,
   "metadata": {},
   "outputs": [],
   "source": [
    "full_review=[]\n",
    "for i in page_urls:\n",
    "    driver.get(i)\n",
    "    review_f=driver.find_elements_by_xpath(\"//div[@class='t-ZTKy']\")\n",
    "    for i in review_f:\n",
    "        full_review.append(i.text)"
   ]
  },
  {
   "cell_type": "code",
   "execution_count": 266,
   "metadata": {},
   "outputs": [],
   "source": [
    "iphone=pd.DataFrame({})\n",
    "iphone['Ratings']=ratings[:100]\n",
    "iphone['Review Summary']=review_summary[:100]\n",
    "iphone['Full Review']=full_review[:100]"
   ]
  },
  {
   "cell_type": "code",
   "execution_count": 267,
   "metadata": {},
   "outputs": [
    {
     "data": {
      "text/html": [
       "<div>\n",
       "<style scoped>\n",
       "    .dataframe tbody tr th:only-of-type {\n",
       "        vertical-align: middle;\n",
       "    }\n",
       "\n",
       "    .dataframe tbody tr th {\n",
       "        vertical-align: top;\n",
       "    }\n",
       "\n",
       "    .dataframe thead th {\n",
       "        text-align: right;\n",
       "    }\n",
       "</style>\n",
       "<table border=\"1\" class=\"dataframe\">\n",
       "  <thead>\n",
       "    <tr style=\"text-align: right;\">\n",
       "      <th></th>\n",
       "      <th>Ratings</th>\n",
       "      <th>Review Summary</th>\n",
       "      <th>Full Review</th>\n",
       "    </tr>\n",
       "  </thead>\n",
       "  <tbody>\n",
       "    <tr>\n",
       "      <th>0</th>\n",
       "      <td>5</td>\n",
       "      <td>Brilliant</td>\n",
       "      <td>The Best Phone for the Money\\n\\nThe iPhone 11 ...</td>\n",
       "    </tr>\n",
       "    <tr>\n",
       "      <th>1</th>\n",
       "      <td>5</td>\n",
       "      <td>Perfect product!</td>\n",
       "      <td>Amazing phone with great cameras and better ba...</td>\n",
       "    </tr>\n",
       "    <tr>\n",
       "      <th>2</th>\n",
       "      <td>5</td>\n",
       "      <td>Great product</td>\n",
       "      <td>Amazing Powerful and Durable Gadget.\\n\\nI’m am...</td>\n",
       "    </tr>\n",
       "    <tr>\n",
       "      <th>3</th>\n",
       "      <td>5</td>\n",
       "      <td>Worth every penny</td>\n",
       "      <td>Previously I was using one plus 3t it was a gr...</td>\n",
       "    </tr>\n",
       "    <tr>\n",
       "      <th>4</th>\n",
       "      <td>5</td>\n",
       "      <td>Fabulous!</td>\n",
       "      <td>This is my first iOS phone. I am very happy wi...</td>\n",
       "    </tr>\n",
       "    <tr>\n",
       "      <th>...</th>\n",
       "      <td>...</td>\n",
       "      <td>...</td>\n",
       "      <td>...</td>\n",
       "    </tr>\n",
       "    <tr>\n",
       "      <th>95</th>\n",
       "      <td>3</td>\n",
       "      <td>Mind-blowing purchase</td>\n",
       "      <td>i was confused between 11 and 11 pro. i was go...</td>\n",
       "    </tr>\n",
       "    <tr>\n",
       "      <th>96</th>\n",
       "      <td>5</td>\n",
       "      <td>Fabulous!</td>\n",
       "      <td>Product is nice at the deviled time the delive...</td>\n",
       "    </tr>\n",
       "    <tr>\n",
       "      <th>97</th>\n",
       "      <td>5</td>\n",
       "      <td>Does the job</td>\n",
       "      <td>phone is good but in display is 720p lcd in th...</td>\n",
       "    </tr>\n",
       "    <tr>\n",
       "      <th>98</th>\n",
       "      <td>5</td>\n",
       "      <td>Fabulous!</td>\n",
       "      <td>Everything is perfect pictures come out so cle...</td>\n",
       "    </tr>\n",
       "    <tr>\n",
       "      <th>99</th>\n",
       "      <td>5</td>\n",
       "      <td>Awesome</td>\n",
       "      <td>I dreamt about this day from a long time.... G...</td>\n",
       "    </tr>\n",
       "  </tbody>\n",
       "</table>\n",
       "<p>100 rows × 3 columns</p>\n",
       "</div>"
      ],
      "text/plain": [
       "   Ratings         Review Summary  \\\n",
       "0        5              Brilliant   \n",
       "1        5       Perfect product!   \n",
       "2        5          Great product   \n",
       "3        5      Worth every penny   \n",
       "4        5              Fabulous!   \n",
       "..     ...                    ...   \n",
       "95       3  Mind-blowing purchase   \n",
       "96       5              Fabulous!   \n",
       "97       5           Does the job   \n",
       "98       5              Fabulous!   \n",
       "99       5                Awesome   \n",
       "\n",
       "                                          Full Review  \n",
       "0   The Best Phone for the Money\\n\\nThe iPhone 11 ...  \n",
       "1   Amazing phone with great cameras and better ba...  \n",
       "2   Amazing Powerful and Durable Gadget.\\n\\nI’m am...  \n",
       "3   Previously I was using one plus 3t it was a gr...  \n",
       "4   This is my first iOS phone. I am very happy wi...  \n",
       "..                                                ...  \n",
       "95  i was confused between 11 and 11 pro. i was go...  \n",
       "96  Product is nice at the deviled time the delive...  \n",
       "97  phone is good but in display is 720p lcd in th...  \n",
       "98  Everything is perfect pictures come out so cle...  \n",
       "99  I dreamt about this day from a long time.... G...  \n",
       "\n",
       "[100 rows x 3 columns]"
      ]
     },
     "execution_count": 267,
     "metadata": {},
     "output_type": "execute_result"
    }
   ],
   "source": [
    "iphone"
   ]
  },
  {
   "cell_type": "code",
   "execution_count": null,
   "metadata": {},
   "outputs": [],
   "source": []
  },
  {
   "cell_type": "code",
   "execution_count": null,
   "metadata": {},
   "outputs": [],
   "source": []
  },
  {
   "cell_type": "code",
   "execution_count": null,
   "metadata": {},
   "outputs": [],
   "source": []
  },
  {
   "cell_type": "code",
   "execution_count": null,
   "metadata": {},
   "outputs": [],
   "source": []
  },
  {
   "cell_type": "markdown",
   "metadata": {},
   "source": [
    "# 8. Sneakers from Flipkart"
   ]
  },
  {
   "cell_type": "code",
   "execution_count": 268,
   "metadata": {},
   "outputs": [],
   "source": [
    "driver= webdriver.Chrome(r\"C:\\Users\\Harshil Goradia\\Downloads\\chromedriver_win32\\chromedriver\")"
   ]
  },
  {
   "cell_type": "code",
   "execution_count": 269,
   "metadata": {},
   "outputs": [],
   "source": [
    "url='https://www.flipkart.com/'\n",
    "driver.get(url)\n",
    "time.sleep(5)"
   ]
  },
  {
   "cell_type": "code",
   "execution_count": 270,
   "metadata": {},
   "outputs": [
    {
     "data": {
      "text/plain": [
       "<selenium.webdriver.remote.webelement.WebElement (session=\"62dce01bf45619ae6c37895eb4edf9ea\", element=\"4df9599d-4b13-4dd2-95a9-f4e68e965eda\")>"
      ]
     },
     "execution_count": 270,
     "metadata": {},
     "output_type": "execute_result"
    }
   ],
   "source": [
    "search_sneakers=driver.find_element_by_xpath(\"//input[@class='_3704LK']\")\n",
    "search_sneakers"
   ]
  },
  {
   "cell_type": "code",
   "execution_count": 271,
   "metadata": {},
   "outputs": [],
   "source": [
    "search_sneakers.send_keys('sneakers')"
   ]
  },
  {
   "cell_type": "code",
   "execution_count": 272,
   "metadata": {},
   "outputs": [
    {
     "data": {
      "text/plain": [
       "<selenium.webdriver.remote.webelement.WebElement (session=\"62dce01bf45619ae6c37895eb4edf9ea\", element=\"e445e651-1f4f-4266-9674-a665226c641f\")>"
      ]
     },
     "execution_count": 272,
     "metadata": {},
     "output_type": "execute_result"
    }
   ],
   "source": [
    "search_btn=driver.find_element_by_xpath(\"//button[@class='L0Z3Pu']\")\n",
    "search_btn"
   ]
  },
  {
   "cell_type": "code",
   "execution_count": 273,
   "metadata": {},
   "outputs": [],
   "source": [
    "search_btn=driver.find_element_by_xpath(\"//button[@class='L0Z3Pu']\")\n",
    "search_btn.click()"
   ]
  },
  {
   "cell_type": "code",
   "execution_count": 274,
   "metadata": {},
   "outputs": [
    {
     "data": {
      "text/plain": [
       "['https://www.flipkart.com/search?q=sneakers&otracker=search&otracker1=search&marketplace=FLIPKART&as-show=on&as=off&page=1',\n",
       " 'https://www.flipkart.com/search?q=sneakers&otracker=search&otracker1=search&marketplace=FLIPKART&as-show=on&as=off&page=2',\n",
       " 'https://www.flipkart.com/search?q=sneakers&otracker=search&otracker1=search&marketplace=FLIPKART&as-show=on&as=off&page=3',\n",
       " 'https://www.flipkart.com/search?q=sneakers&otracker=search&otracker1=search&marketplace=FLIPKART&as-show=on&as=off&page=4',\n",
       " 'https://www.flipkart.com/search?q=sneakers&otracker=search&otracker1=search&marketplace=FLIPKART&as-show=on&as=off&page=5',\n",
       " 'https://www.flipkart.com/search?q=sneakers&otracker=search&otracker1=search&marketplace=FLIPKART&as-show=on&as=off&page=6',\n",
       " 'https://www.flipkart.com/search?q=sneakers&otracker=search&otracker1=search&marketplace=FLIPKART&as-show=on&as=off&page=7',\n",
       " 'https://www.flipkart.com/search?q=sneakers&otracker=search&otracker1=search&marketplace=FLIPKART&as-show=on&as=off&page=8',\n",
       " 'https://www.flipkart.com/search?q=sneakers&otracker=search&otracker1=search&marketplace=FLIPKART&as-show=on&as=off&page=9',\n",
       " 'https://www.flipkart.com/search?q=sneakers&otracker=search&otracker1=search&marketplace=FLIPKART&as-show=on&as=off&page=10',\n",
       " 'https://www.flipkart.com/search?q=sneakers&otracker=search&otracker1=search&marketplace=FLIPKART&as-show=on&as=off&page=2']"
      ]
     },
     "execution_count": 274,
     "metadata": {},
     "output_type": "execute_result"
    }
   ],
   "source": [
    "page_urls=[]\n",
    "url1= driver.find_elements_by_xpath(\"//div[@class='_2MImiq']//a\")\n",
    "for i in url1:\n",
    "    page_urls.append(i.get_attribute('href'))\n",
    "    \n",
    "page_urls  "
   ]
  },
  {
   "cell_type": "code",
   "execution_count": 275,
   "metadata": {},
   "outputs": [],
   "source": [
    "company=[]\n",
    "for i in page_urls:\n",
    "    driver.get(i)\n",
    "    sneaker_com=driver.find_elements_by_xpath(\"//div[@class='_2WkVRV']\")\n",
    "    for i in sneaker_com:\n",
    "        company.append(i.text)"
   ]
  },
  {
   "cell_type": "code",
   "execution_count": 282,
   "metadata": {},
   "outputs": [],
   "source": [
    "prod_desc=[]\n",
    "for i in page_urls:\n",
    "    driver.get(i)\n",
    "    description=driver.find_elements_by_xpath(\"//a[@class='IRpwTa']\")\n",
    "    for i in description:\n",
    "        prod_desc.append(i.text)"
   ]
  },
  {
   "cell_type": "code",
   "execution_count": 279,
   "metadata": {},
   "outputs": [],
   "source": [
    "price=[]\n",
    "for i in page_urls:\n",
    "    driver.get(i)\n",
    "    sneaker_price=driver.find_elements_by_xpath(\"//div[@class='_30jeq3']\")\n",
    "    for i in sneaker_price:\n",
    "        price.append(i.text)"
   ]
  },
  {
   "cell_type": "code",
   "execution_count": 280,
   "metadata": {},
   "outputs": [],
   "source": [
    "discount=[]\n",
    "for i in page_urls:\n",
    "    driver.get(i)\n",
    "    sneaker_dis=driver.find_elements_by_xpath(\"//div[@class='_3Ay6Sb']//span\")\n",
    "    for i in sneaker_dis:\n",
    "        discount.append(i.text)"
   ]
  },
  {
   "cell_type": "code",
   "execution_count": 283,
   "metadata": {},
   "outputs": [],
   "source": [
    "sneaker=pd.DataFrame({})\n",
    "sneaker['Brand']=company[:100]\n",
    "sneaker['Price']=price[:100]\n",
    "sneaker['Discount']=discount[:100]\n",
    "sneaker['Description']=prod_desc[:100]"
   ]
  },
  {
   "cell_type": "code",
   "execution_count": 284,
   "metadata": {},
   "outputs": [
    {
     "data": {
      "text/html": [
       "<div>\n",
       "<style scoped>\n",
       "    .dataframe tbody tr th:only-of-type {\n",
       "        vertical-align: middle;\n",
       "    }\n",
       "\n",
       "    .dataframe tbody tr th {\n",
       "        vertical-align: top;\n",
       "    }\n",
       "\n",
       "    .dataframe thead th {\n",
       "        text-align: right;\n",
       "    }\n",
       "</style>\n",
       "<table border=\"1\" class=\"dataframe\">\n",
       "  <thead>\n",
       "    <tr style=\"text-align: right;\">\n",
       "      <th></th>\n",
       "      <th>Brand</th>\n",
       "      <th>Price</th>\n",
       "      <th>Discount</th>\n",
       "      <th>Description</th>\n",
       "    </tr>\n",
       "  </thead>\n",
       "  <tbody>\n",
       "    <tr>\n",
       "      <th>0</th>\n",
       "      <td>India hub</td>\n",
       "      <td>₹389</td>\n",
       "      <td>87% off</td>\n",
       "      <td>Sneakers For Men</td>\n",
       "    </tr>\n",
       "    <tr>\n",
       "      <th>1</th>\n",
       "      <td>CALCADOS</td>\n",
       "      <td>₹748</td>\n",
       "      <td>62% off</td>\n",
       "      <td>White Sneaker For Men's/Boy's Sneakers For Men</td>\n",
       "    </tr>\n",
       "    <tr>\n",
       "      <th>2</th>\n",
       "      <td>Robbie jones</td>\n",
       "      <td>₹474</td>\n",
       "      <td>52% off</td>\n",
       "      <td>Combo pack of 2 casual sneaker shoes for men S...</td>\n",
       "    </tr>\n",
       "    <tr>\n",
       "      <th>3</th>\n",
       "      <td>Shoes Bank</td>\n",
       "      <td>₹349</td>\n",
       "      <td>65% off</td>\n",
       "      <td>Sneakers For Men</td>\n",
       "    </tr>\n",
       "    <tr>\n",
       "      <th>4</th>\n",
       "      <td>ORICUM</td>\n",
       "      <td>₹377</td>\n",
       "      <td>62% off</td>\n",
       "      <td>casual for men (blue 06) Sneakers For Men</td>\n",
       "    </tr>\n",
       "    <tr>\n",
       "      <th>...</th>\n",
       "      <td>...</td>\n",
       "      <td>...</td>\n",
       "      <td>...</td>\n",
       "      <td>...</td>\n",
       "    </tr>\n",
       "    <tr>\n",
       "      <th>95</th>\n",
       "      <td>Axter</td>\n",
       "      <td>₹399</td>\n",
       "      <td>₹158 off</td>\n",
       "      <td>casual for men (black 08) Sneakers For Men</td>\n",
       "    </tr>\n",
       "    <tr>\n",
       "      <th>96</th>\n",
       "      <td>NIKE</td>\n",
       "      <td>₹891</td>\n",
       "      <td>53% off</td>\n",
       "      <td>Cape IDP Sneakers For Men</td>\n",
       "    </tr>\n",
       "    <tr>\n",
       "      <th>97</th>\n",
       "      <td>Magnolia</td>\n",
       "      <td>₹1,616</td>\n",
       "      <td>₹219 off</td>\n",
       "      <td>Poise Perf V1 IDP Sneakers For Men</td>\n",
       "    </tr>\n",
       "    <tr>\n",
       "      <th>98</th>\n",
       "      <td>SPARX</td>\n",
       "      <td>₹730</td>\n",
       "      <td>47% off</td>\n",
       "      <td>Men 5014 Latest Collection Stylish Casual Spor...</td>\n",
       "    </tr>\n",
       "    <tr>\n",
       "      <th>99</th>\n",
       "      <td>Englewood</td>\n",
       "      <td>₹525</td>\n",
       "      <td>73% off</td>\n",
       "      <td>SM-162 Sneakers For Men</td>\n",
       "    </tr>\n",
       "  </tbody>\n",
       "</table>\n",
       "<p>100 rows × 4 columns</p>\n",
       "</div>"
      ],
      "text/plain": [
       "           Brand   Price  Discount  \\\n",
       "0      India hub    ₹389   87% off   \n",
       "1       CALCADOS    ₹748   62% off   \n",
       "2   Robbie jones    ₹474   52% off   \n",
       "3     Shoes Bank    ₹349   65% off   \n",
       "4         ORICUM    ₹377   62% off   \n",
       "..           ...     ...       ...   \n",
       "95         Axter    ₹399  ₹158 off   \n",
       "96          NIKE    ₹891   53% off   \n",
       "97      Magnolia  ₹1,616  ₹219 off   \n",
       "98         SPARX    ₹730   47% off   \n",
       "99     Englewood    ₹525   73% off   \n",
       "\n",
       "                                          Description  \n",
       "0                                    Sneakers For Men  \n",
       "1      White Sneaker For Men's/Boy's Sneakers For Men  \n",
       "2   Combo pack of 2 casual sneaker shoes for men S...  \n",
       "3                                    Sneakers For Men  \n",
       "4           casual for men (blue 06) Sneakers For Men  \n",
       "..                                                ...  \n",
       "95         casual for men (black 08) Sneakers For Men  \n",
       "96                          Cape IDP Sneakers For Men  \n",
       "97                 Poise Perf V1 IDP Sneakers For Men  \n",
       "98  Men 5014 Latest Collection Stylish Casual Spor...  \n",
       "99                            SM-162 Sneakers For Men  \n",
       "\n",
       "[100 rows x 4 columns]"
      ]
     },
     "execution_count": 284,
     "metadata": {},
     "output_type": "execute_result"
    }
   ],
   "source": [
    "sneaker"
   ]
  },
  {
   "cell_type": "code",
   "execution_count": null,
   "metadata": {},
   "outputs": [],
   "source": []
  },
  {
   "cell_type": "code",
   "execution_count": null,
   "metadata": {},
   "outputs": [],
   "source": []
  },
  {
   "cell_type": "code",
   "execution_count": null,
   "metadata": {},
   "outputs": [],
   "source": []
  },
  {
   "cell_type": "code",
   "execution_count": null,
   "metadata": {},
   "outputs": [],
   "source": []
  },
  {
   "cell_type": "markdown",
   "metadata": {},
   "source": [
    "# 9. 100 shoes from Myntra"
   ]
  },
  {
   "cell_type": "code",
   "execution_count": 438,
   "metadata": {},
   "outputs": [],
   "source": [
    "driver= webdriver.Chrome(r\"C:\\Users\\Harshil Goradia\\Downloads\\chromedriver_win32\\chromedriver\")"
   ]
  },
  {
   "cell_type": "code",
   "execution_count": 439,
   "metadata": {},
   "outputs": [],
   "source": [
    "url='https://www.myntra.com/shoes'\n",
    "driver.get(url)\n",
    "time.sleep(3)"
   ]
  },
  {
   "cell_type": "code",
   "execution_count": 440,
   "metadata": {},
   "outputs": [
    {
     "data": {
      "text/plain": [
       "<selenium.webdriver.remote.webelement.WebElement (session=\"c4cad093bb24788acecebfde0231c73f\", element=\"a7590c6a-9872-48d0-b8cf-00f460500b01\")>"
      ]
     },
     "execution_count": 440,
     "metadata": {},
     "output_type": "execute_result"
    }
   ],
   "source": [
    "filter_button=driver.find_element_by_xpath(\"//*[text()='Black']\")\n",
    "filter_button"
   ]
  },
  {
   "cell_type": "code",
   "execution_count": 441,
   "metadata": {},
   "outputs": [],
   "source": [
    "filter_button=driver.find_element_by_xpath(\"//*[text()='Black']\")\n",
    "filter_button.click()"
   ]
  },
  {
   "cell_type": "code",
   "execution_count": 442,
   "metadata": {},
   "outputs": [
    {
     "data": {
      "text/plain": [
       "<selenium.webdriver.remote.webelement.WebElement (session=\"c4cad093bb24788acecebfde0231c73f\", element=\"1820222c-3127-465a-ba17-94ad464a64c2\")>"
      ]
     },
     "execution_count": 442,
     "metadata": {},
     "output_type": "execute_result"
    }
   ],
   "source": [
    "filter_button=driver.find_element_by_xpath(\"//*[text()='Rs. 6687 to Rs. 13125']\")\n",
    "filter_button"
   ]
  },
  {
   "cell_type": "code",
   "execution_count": 443,
   "metadata": {},
   "outputs": [],
   "source": [
    "filter_button=driver.find_element_by_xpath(\"//*[text()='Rs. 6687 to Rs. 13125']\")\n",
    "filter_button.click()"
   ]
  },
  {
   "cell_type": "code",
   "execution_count": 444,
   "metadata": {},
   "outputs": [
    {
     "data": {
      "text/plain": [
       "['https://www.myntra.com/shoes?f=Color%3ABlack_36454f&plaEnabled=false&rf=Price%3A6687.0_13125.0_6687.0%20TO%2013125.0&p=2',\n",
       " 'https://www.myntra.com/shoes?f=Color%3ABlack_36454f&plaEnabled=false&rf=Price%3A6687.0_13125.0_6687.0%20TO%2013125.0&p=3',\n",
       " 'https://www.myntra.com/shoes?f=Color%3ABlack_36454f&plaEnabled=false&rf=Price%3A6687.0_13125.0_6687.0%20TO%2013125.0&p=4',\n",
       " 'https://www.myntra.com/shoes?f=Color%3ABlack_36454f&plaEnabled=false&rf=Price%3A6687.0_13125.0_6687.0%20TO%2013125.0&p=5',\n",
       " 'https://www.myntra.com/shoes?f=Color%3ABlack_36454f&plaEnabled=false&rf=Price%3A6687.0_13125.0_6687.0%20TO%2013125.0&p=6',\n",
       " 'https://www.myntra.com/shoes?f=Color%3ABlack_36454f&plaEnabled=false&rf=Price%3A6687.0_13125.0_6687.0%20TO%2013125.0&p=7',\n",
       " 'https://www.myntra.com/shoes?f=Color%3ABlack_36454f&plaEnabled=false&rf=Price%3A6687.0_13125.0_6687.0%20TO%2013125.0&p=8',\n",
       " 'https://www.myntra.com/shoes?f=Color%3ABlack_36454f&plaEnabled=false&rf=Price%3A6687.0_13125.0_6687.0%20TO%2013125.0&p=9',\n",
       " 'https://www.myntra.com/shoes?f=Color%3ABlack_36454f&plaEnabled=false&rf=Price%3A6687.0_13125.0_6687.0%20TO%2013125.0&p=10']"
      ]
     },
     "execution_count": 444,
     "metadata": {},
     "output_type": "execute_result"
    }
   ],
   "source": [
    "page_urls=[]\n",
    "url1= driver.find_elements_by_xpath(\"//li[@class='pagination-number']/a\")\n",
    "for i in url1:\n",
    "    page_urls.append(i.get_attribute('href'))\n",
    "    \n",
    "page_urls"
   ]
  },
  {
   "cell_type": "code",
   "execution_count": 445,
   "metadata": {},
   "outputs": [],
   "source": [
    "brand=[]\n",
    "for i in page_urls:\n",
    "    driver.get(i)\n",
    "    shoe_brand=driver.find_elements_by_xpath(\"//h3[@class='product-brand']\")\n",
    "    for i in shoe_brand:\n",
    "        brand.append(i.text)"
   ]
  },
  {
   "cell_type": "code",
   "execution_count": 446,
   "metadata": {},
   "outputs": [],
   "source": [
    "description=[]\n",
    "for i in page_urls:\n",
    "    driver.get(i)\n",
    "    shoe_desc=driver.find_elements_by_xpath(\"//h4[@class='product-product']\")\n",
    "    for i in shoe_desc:\n",
    "        description.append(i.text)"
   ]
  },
  {
   "cell_type": "code",
   "execution_count": 447,
   "metadata": {},
   "outputs": [],
   "source": [
    "price=[]\n",
    "for i in page_urls:\n",
    "    driver.get(i)\n",
    "    shoe_price=driver.find_elements_by_xpath(\"//div[@class='product-price']/span\")\n",
    "    for i in shoe_price:\n",
    "        price.append(i.text)"
   ]
  },
  {
   "cell_type": "code",
   "execution_count": 448,
   "metadata": {},
   "outputs": [],
   "source": [
    "myn_shoes=pd.DataFrame({})\n",
    "myn_shoes['Brand']=brand[:100]\n",
    "myn_shoes['Description']=description[:100]\n",
    "myn_shoes['Price']=price[:100]"
   ]
  },
  {
   "cell_type": "code",
   "execution_count": 449,
   "metadata": {},
   "outputs": [
    {
     "data": {
      "text/html": [
       "<div>\n",
       "<style scoped>\n",
       "    .dataframe tbody tr th:only-of-type {\n",
       "        vertical-align: middle;\n",
       "    }\n",
       "\n",
       "    .dataframe tbody tr th {\n",
       "        vertical-align: top;\n",
       "    }\n",
       "\n",
       "    .dataframe thead th {\n",
       "        text-align: right;\n",
       "    }\n",
       "</style>\n",
       "<table border=\"1\" class=\"dataframe\">\n",
       "  <thead>\n",
       "    <tr style=\"text-align: right;\">\n",
       "      <th></th>\n",
       "      <th>Brand</th>\n",
       "      <th>Description</th>\n",
       "      <th>Price</th>\n",
       "    </tr>\n",
       "  </thead>\n",
       "  <tbody>\n",
       "    <tr>\n",
       "      <th>0</th>\n",
       "      <td>KIPRUN By Decathlon</td>\n",
       "      <td>Men Liberate Nitro Running</td>\n",
       "      <td>Rs. 6990</td>\n",
       "    </tr>\n",
       "    <tr>\n",
       "      <th>1</th>\n",
       "      <td>Puma</td>\n",
       "      <td>Men Leather Formal Brogues</td>\n",
       "      <td>Rs. 7999</td>\n",
       "    </tr>\n",
       "    <tr>\n",
       "      <th>2</th>\n",
       "      <td>Hush Puppies</td>\n",
       "      <td>Women Edge Lux 4 Running</td>\n",
       "      <td>Rs. 12999</td>\n",
       "    </tr>\n",
       "    <tr>\n",
       "      <th>3</th>\n",
       "      <td>ADIDAS</td>\n",
       "      <td>Men Wingtip Oxford Sneakers</td>\n",
       "      <td>Rs. 11999</td>\n",
       "    </tr>\n",
       "    <tr>\n",
       "      <th>4</th>\n",
       "      <td>Cole Haan</td>\n",
       "      <td>Men GENERATION ZEROGRAND STITCHLITE</td>\n",
       "      <td>Rs. 6999Rs. 9999</td>\n",
       "    </tr>\n",
       "    <tr>\n",
       "      <th>...</th>\n",
       "      <td>...</td>\n",
       "      <td>...</td>\n",
       "      <td>...</td>\n",
       "    </tr>\n",
       "    <tr>\n",
       "      <th>95</th>\n",
       "      <td>Birkenstock</td>\n",
       "      <td>Unisex KING Pro Football Shoes</td>\n",
       "      <td>Rs. 6990</td>\n",
       "    </tr>\n",
       "    <tr>\n",
       "      <th>96</th>\n",
       "      <td>hummel</td>\n",
       "      <td>Men Solid Monk Shoes</td>\n",
       "      <td>Rs. 6990</td>\n",
       "    </tr>\n",
       "    <tr>\n",
       "      <th>97</th>\n",
       "      <td>Heel &amp; Buckle London</td>\n",
       "      <td>Men Solid Leather Formal Derbys</td>\n",
       "      <td>Rs. 8792Rs. 10990</td>\n",
       "    </tr>\n",
       "    <tr>\n",
       "      <th>98</th>\n",
       "      <td>ALDO</td>\n",
       "      <td>Women Leather Block Heels</td>\n",
       "      <td>(20% OFF)</td>\n",
       "    </tr>\n",
       "    <tr>\n",
       "      <th>99</th>\n",
       "      <td>Birkenstock</td>\n",
       "      <td>Women Leather Pumps</td>\n",
       "      <td>Rs. 6749Rs. 8999</td>\n",
       "    </tr>\n",
       "  </tbody>\n",
       "</table>\n",
       "<p>100 rows × 3 columns</p>\n",
       "</div>"
      ],
      "text/plain": [
       "                   Brand                          Description  \\\n",
       "0    KIPRUN By Decathlon           Men Liberate Nitro Running   \n",
       "1                   Puma           Men Leather Formal Brogues   \n",
       "2           Hush Puppies             Women Edge Lux 4 Running   \n",
       "3                 ADIDAS          Men Wingtip Oxford Sneakers   \n",
       "4              Cole Haan  Men GENERATION ZEROGRAND STITCHLITE   \n",
       "..                   ...                                  ...   \n",
       "95           Birkenstock       Unisex KING Pro Football Shoes   \n",
       "96                hummel                 Men Solid Monk Shoes   \n",
       "97  Heel & Buckle London      Men Solid Leather Formal Derbys   \n",
       "98                  ALDO            Women Leather Block Heels   \n",
       "99           Birkenstock                  Women Leather Pumps   \n",
       "\n",
       "                Price  \n",
       "0            Rs. 6990  \n",
       "1            Rs. 7999  \n",
       "2           Rs. 12999  \n",
       "3           Rs. 11999  \n",
       "4    Rs. 6999Rs. 9999  \n",
       "..                ...  \n",
       "95           Rs. 6990  \n",
       "96           Rs. 6990  \n",
       "97  Rs. 8792Rs. 10990  \n",
       "98          (20% OFF)  \n",
       "99   Rs. 6749Rs. 8999  \n",
       "\n",
       "[100 rows x 3 columns]"
      ]
     },
     "execution_count": 449,
     "metadata": {},
     "output_type": "execute_result"
    }
   ],
   "source": [
    "myn_shoes"
   ]
  },
  {
   "cell_type": "markdown",
   "metadata": {},
   "source": [
    "I have used different price filter as which one you asked wasn't available after I select 'Black' filter"
   ]
  },
  {
   "cell_type": "code",
   "execution_count": null,
   "metadata": {},
   "outputs": [],
   "source": []
  },
  {
   "cell_type": "code",
   "execution_count": null,
   "metadata": {},
   "outputs": [],
   "source": []
  },
  {
   "cell_type": "markdown",
   "metadata": {},
   "source": [
    "# 10. Laptop data scraping from Amazon"
   ]
  },
  {
   "cell_type": "code",
   "execution_count": 328,
   "metadata": {},
   "outputs": [],
   "source": [
    "driver= webdriver.Chrome(r\"C:\\Users\\Harshil Goradia\\Downloads\\chromedriver_win32\\chromedriver\")"
   ]
  },
  {
   "cell_type": "code",
   "execution_count": 329,
   "metadata": {},
   "outputs": [],
   "source": [
    "url='https://www.amazon.in/'\n",
    "driver.get(url)\n",
    "time.sleep(3)"
   ]
  },
  {
   "cell_type": "code",
   "execution_count": 330,
   "metadata": {},
   "outputs": [
    {
     "data": {
      "text/plain": [
       "<selenium.webdriver.remote.webelement.WebElement (session=\"22a56ba0b7a1214dc21ba9f501d9073a\", element=\"2cfe4d05-14a6-4a2b-9eda-ee640a58cf18\")>"
      ]
     },
     "execution_count": 330,
     "metadata": {},
     "output_type": "execute_result"
    }
   ],
   "source": [
    "search_laptop=driver.find_element_by_xpath(\"//input[@class='nav-input nav-progressive-attribute']\")\n",
    "search_laptop"
   ]
  },
  {
   "cell_type": "code",
   "execution_count": 331,
   "metadata": {},
   "outputs": [],
   "source": [
    "search_laptop.send_keys('Laptop')"
   ]
  },
  {
   "cell_type": "code",
   "execution_count": 337,
   "metadata": {},
   "outputs": [
    {
     "data": {
      "text/plain": [
       "<selenium.webdriver.remote.webelement.WebElement (session=\"22a56ba0b7a1214dc21ba9f501d9073a\", element=\"3183b3d4-693e-4da5-80e1-7eb12ce83427\")>"
      ]
     },
     "execution_count": 337,
     "metadata": {},
     "output_type": "execute_result"
    }
   ],
   "source": [
    "search_btn=driver.find_element_by_xpath(\"//span[@class='nav-search-submit-text nav-sprite nav-progressive-attribute']\")\n",
    "search_btn"
   ]
  },
  {
   "cell_type": "code",
   "execution_count": 338,
   "metadata": {},
   "outputs": [],
   "source": [
    "search_btn=driver.find_element_by_xpath(\"//span[@class='nav-search-submit-text nav-sprite nav-progressive-attribute']\")\n",
    "search_btn.click()"
   ]
  },
  {
   "cell_type": "code",
   "execution_count": 344,
   "metadata": {},
   "outputs": [],
   "source": [
    "filter_btn=driver.find_elements_by_xpath(\"//a[@class='a-link-normal s-navigation-item']/span\")\n",
    "for i in filter_btn:\n",
    "    if i.text=='Intel Core i7': \n",
    "        i.click()\n",
    "        break"
   ]
  },
  {
   "cell_type": "code",
   "execution_count": 345,
   "metadata": {},
   "outputs": [],
   "source": [
    "filter_btn=driver.find_elements_by_xpath(\"//a[@class='a-link-normal s-navigation-item']/span\")\n",
    "for i in filter_btn:\n",
    "    if i.text=='Intel Core i9': \n",
    "        i.click()\n",
    "        break"
   ]
  },
  {
   "cell_type": "code",
   "execution_count": 346,
   "metadata": {},
   "outputs": [
    {
     "data": {
      "text/plain": [
       "[<selenium.webdriver.remote.webelement.WebElement (session=\"22a56ba0b7a1214dc21ba9f501d9073a\", element=\"4ad5cf69-c702-4323-ac5e-546f9159cc82\")>,\n",
       " <selenium.webdriver.remote.webelement.WebElement (session=\"22a56ba0b7a1214dc21ba9f501d9073a\", element=\"ea864822-87fd-48a8-a3c9-96fa7e5d5ffa\")>,\n",
       " <selenium.webdriver.remote.webelement.WebElement (session=\"22a56ba0b7a1214dc21ba9f501d9073a\", element=\"2c5315f8-39dd-4303-ae56-c0e817c830c4\")>,\n",
       " <selenium.webdriver.remote.webelement.WebElement (session=\"22a56ba0b7a1214dc21ba9f501d9073a\", element=\"da181a31-faa8-46da-8924-80ac362c9304\")>,\n",
       " <selenium.webdriver.remote.webelement.WebElement (session=\"22a56ba0b7a1214dc21ba9f501d9073a\", element=\"40cb6988-ef36-46ec-9eb8-cc5de84e8296\")>,\n",
       " <selenium.webdriver.remote.webelement.WebElement (session=\"22a56ba0b7a1214dc21ba9f501d9073a\", element=\"4513de31-59f1-4168-847e-d6af6c2a3193\")>,\n",
       " <selenium.webdriver.remote.webelement.WebElement (session=\"22a56ba0b7a1214dc21ba9f501d9073a\", element=\"0d654d23-d9fc-4c62-ae98-baa02bbaed80\")>,\n",
       " <selenium.webdriver.remote.webelement.WebElement (session=\"22a56ba0b7a1214dc21ba9f501d9073a\", element=\"a7b70183-55e0-4c5b-947f-fc1a15083328\")>,\n",
       " <selenium.webdriver.remote.webelement.WebElement (session=\"22a56ba0b7a1214dc21ba9f501d9073a\", element=\"231a92ee-e8c3-42b7-9058-89581eb23645\")>,\n",
       " <selenium.webdriver.remote.webelement.WebElement (session=\"22a56ba0b7a1214dc21ba9f501d9073a\", element=\"222afce4-7e44-41fb-b6d1-cda5a3cf10b7\")>,\n",
       " <selenium.webdriver.remote.webelement.WebElement (session=\"22a56ba0b7a1214dc21ba9f501d9073a\", element=\"8bc449d4-7630-472c-bdda-b4eb87ba30f7\")>,\n",
       " <selenium.webdriver.remote.webelement.WebElement (session=\"22a56ba0b7a1214dc21ba9f501d9073a\", element=\"38b875c5-1a2f-49e3-ae51-168a1d53acf6\")>,\n",
       " <selenium.webdriver.remote.webelement.WebElement (session=\"22a56ba0b7a1214dc21ba9f501d9073a\", element=\"9cfd6f10-48b8-428f-bdfc-2f6eb6469be0\")>,\n",
       " <selenium.webdriver.remote.webelement.WebElement (session=\"22a56ba0b7a1214dc21ba9f501d9073a\", element=\"97f19a30-bcd8-45bd-98a4-099c8881549b\")>,\n",
       " <selenium.webdriver.remote.webelement.WebElement (session=\"22a56ba0b7a1214dc21ba9f501d9073a\", element=\"6f9953d7-7e89-42c8-81c0-42b9b11055cf\")>,\n",
       " <selenium.webdriver.remote.webelement.WebElement (session=\"22a56ba0b7a1214dc21ba9f501d9073a\", element=\"523db475-a4cf-48d6-9cb5-11714851fe83\")>,\n",
       " <selenium.webdriver.remote.webelement.WebElement (session=\"22a56ba0b7a1214dc21ba9f501d9073a\", element=\"9a7446df-8b1f-4959-96b0-4bf81dd823d7\")>,\n",
       " <selenium.webdriver.remote.webelement.WebElement (session=\"22a56ba0b7a1214dc21ba9f501d9073a\", element=\"0ea8a4b7-b4da-433f-b7f4-4e38e69e32e0\")>,\n",
       " <selenium.webdriver.remote.webelement.WebElement (session=\"22a56ba0b7a1214dc21ba9f501d9073a\", element=\"3e830c3b-464c-40bf-8627-d7454e062e3a\")>,\n",
       " <selenium.webdriver.remote.webelement.WebElement (session=\"22a56ba0b7a1214dc21ba9f501d9073a\", element=\"c4259c1a-ac1f-4d23-a6b3-8fa65d550cde\")>,\n",
       " <selenium.webdriver.remote.webelement.WebElement (session=\"22a56ba0b7a1214dc21ba9f501d9073a\", element=\"55ff2753-5be9-4ed4-979a-496e8d219117\")>,\n",
       " <selenium.webdriver.remote.webelement.WebElement (session=\"22a56ba0b7a1214dc21ba9f501d9073a\", element=\"00a464b2-1514-4cf7-9f86-76a45f671145\")>,\n",
       " <selenium.webdriver.remote.webelement.WebElement (session=\"22a56ba0b7a1214dc21ba9f501d9073a\", element=\"4148ed04-5428-4867-bf9f-e596435008f6\")>,\n",
       " <selenium.webdriver.remote.webelement.WebElement (session=\"22a56ba0b7a1214dc21ba9f501d9073a\", element=\"de4023a4-e157-4a74-92ea-1da5a3e5a86f\")>]"
      ]
     },
     "execution_count": 346,
     "metadata": {},
     "output_type": "execute_result"
    }
   ],
   "source": [
    "title_tags=driver.find_elements_by_xpath(\"//a[@class='a-link-normal a-text-normal']\")\n",
    "title_tags"
   ]
  },
  {
   "cell_type": "code",
   "execution_count": 347,
   "metadata": {},
   "outputs": [
    {
     "data": {
      "text/plain": [
       "['Mi Notebook Horizon Edition 14 Intel Core i5-10210U 10th Gen 14-inch (35.56 cms) Thin and Light Laptop(8GB/512GB SSD/Windows 10/Nvidia MX350 2GB Graphics/Grey/1.35Kg), XMA1904-AR+Webcam',\n",
       " 'HP Pavilion (2021) Thin & Light 11th Gen Core i7 Laptop, 16 GB RAM, 1TB SSD, Iris Xe Graphics, 14\" (35.56cms) FHD Screen, Windows 10, MS Office, Backlit Keyboard (14-dv0058TU)',\n",
       " 'HP 14 Thin & Light 14\" (35.56cms) FHD Laptop (11th Gen Intel i7-1165G7/8GB/512GB SSD/Windows 10/MS Office 2019/Alexa Built-in/Pale Gold/1.47 kg), 14s-dr2007TU',\n",
       " 'HP Pavilion Gaming 10th Gen Intel Core i7 Processor 15.6-inch FHD Gaming Laptop (16GB/512GB SSD + 32GB Intel Optane/Windows 10/NVIDIA 1650Ti 4GB/Shadow Black), 15-dk1509TX',\n",
       " 'Life Digital Laptop 15.6-inch (39.62 cms) (Intel Core i7, 4GB RAM, 256GB SSD, Windows 10), ZED AIR CX7',\n",
       " 'ASUS ROG Zephyrus Duo 15, 15.6\" 4K UHD, Intel Core i7-10875H 10th Gen, RTX 2080 Super Max-Q 8GB Graphics, Gaming Laptop (32GB/2TB RAID 0 SSD/Windows 10/MS Office/Gray/2.48 Kg) GX550LXS-HC145TS',\n",
       " 'Lenovo Yoga 7 11th Gen Intel Core i7 14\" (35.56cms) Full HD IPS 2-in-1 Touchscreen Laptop (16GB/512GB SSD/Windows 10/MS Office 2019/Fingerprint Reader/Slate Grey/Aluminium Surface/1.43Kg), 82BH004HIN',\n",
       " 'HP Pavilion x360 (2021) 14\" (35.56cms) FHD Touchscreen Laptop, 11th Gen Core i7, 8 GB RAM, 512GB SSD, 2-in-1 Convertible, Windows 10, MS Office, Finger Print Reader (14-dw1040TU)',\n",
       " 'Lenovo IdeaPad Gaming 3 10th Gen Intel Core i7 15.6-inch FHD IPS Gaming Laptop (8GB/1TB HDD + 256 GB SSD/Windows 10/NVIDIA GTX 1650 4GB GDDR6/with M100 RGB Gaming Mouse/Onyx Black/2.2Kg), 81Y400VAIN',\n",
       " '(Renewed) Lenovo T430 14-inch Laptop (Core i7/ 8GB RAM(Upgradable to 16)/512GB SSD/Windows 10 Pro/MS Office 2019, Intel Integrated Graphics, PAN INDIA WARRANTY) Black',\n",
       " 'Lenovo Legion 5Pi 10th Gen Intel Core i7 15.6\" FHD Gaming Laptop (16GB/1TB SSD/Windows 10/MS Office 2019/144 Hz/NVIDIA RTX 2060 6GB GDDR6/with M300 RGB Gaming Mouse/Iron Grey/2.3Kg), 82AW005SIN',\n",
       " 'MSI GF63 Thin Core i7 9th Gen - (8 GB/512 GB SSD/Windows 10 Home/4 GB Graphics/NVIDIA Geforce GTX 1650 Ti with Max-Q) GF63 Thin 9SCSR-1039IN Gaming Laptop (15.6 inch, Black, 1.86 kg)',\n",
       " 'ASUS ZenBook 14 (2020) Intel Core i7-1165G7 11th Gen 14\" (35.56cms) FHD T&L Laptop (16GB RAM/512GB NVMe SSD/Windows 10/MS Office 2019/Intel Iris Xáµ‰ Graphics/Pine Grey/1.17 kg), UX425EA-BM701TS',\n",
       " 'Dell XPS 9570 15.6\" (39.62cms) UHD Laptop (8th Gen i9-8950HK/32GB/1TB SSD/Win 10 + MS Office/Integrated Graphics), Silver',\n",
       " 'Dell Alienware m15(R3) 15.6-inch FHD Gaming Laptop (10th Gen Core i7-10750H/16GB/512GB SSD/Windows 10 Home & MS Office/6GB NVIDIA GTX 1660 Ti Graphics), Lunar Light',\n",
       " 'Lenovo Ideapad 5 Intel i7 11th Gen 15.6\" Thin and Light (16GB/512SSD/Win10 +Office Home/Intel Iris Xe Graphics/Graphite Grey/1.66kg), 82FG0117IN',\n",
       " '(Renewed) ASUS ROG Strix Scar II GL504GM-ES155T 15.6-inch FHD Gaming Laptop (8th Gen Intel Core i7-8750H/16GB/1TB SSHD + 256GB SSD/Windows 10/GTX 1060 6GB Graphics/2.40 Kg), Scar Gunmatel',\n",
       " 'ASUS VivoBook S S14 Intel Core i7-1165G7 11th Gen 14-inch FHD Thin and Light Laptop (8GB RAM/512GB SSD + 32GB Optane Memory/Windows 10/Office 2019/Iris X Graphics ;Dreamy White;1.4 Kg), S433EA-AM702TS',\n",
       " '(Renewed) Lenovo T430 14-inch Laptop (Core i7/ 8GB RAM (Upgradable to 16)/500GB HDD/Windows 10 Pro/MS Office 2019, Intel Integrated Graphics, PAN INDIA WARRANTY) Black',\n",
       " 'Lenovo Yoga S740 Intel Core i7 10th Gen 14 inch UHD Ultra Thin and Light Laptop (16GB/1TB SSD/Windows/Office/NVIDIA MX250 2GB/Iron Grey/1.4Kg), 81RS00B0IN',\n",
       " 'Dell G3 3500 Gaming Laptop 15.6\" (39.62cms) FHD 120 Hz (10th Gen Core i7-10750H/8GB/512GB SSD/Windows 10 Home Plus & MS Office/NVIDIA1650 Ti Graphics/Eclipse Black) D560260WIN9BE',\n",
       " 'ASUS ROG Zephyrus M15 (2020), 15.6\" 4K UHD, Intel Core i7-10750H 10th Gen, RTX 2060 GDDR6 6GB Graphics, Gaming Laptop (16GB RAM/1TB NVMe SSD/Windows 10/Prism Black/1.9 Kg), GU502LV-HC140T',\n",
       " 'Lenovo ThinkPad E15 (2021) Intel Core i7 11th Gen 15.6\" FHD Thin and Light Laptop (16GB RAM/512GB SSD/Windows 10/MS Office/Fingerprint Reader/Black/Aluminium Surface/ 1.7 kg), 20TDS0G100',\n",
       " 'ASUS ROG Zephyrus M15 (2020), 15.6\" FHD 240Hz/3ms, Intel Core i7-10750H 10th Gen, GTX 1660Ti 6GB Graphics, Gaming Laptop (16GB/1TB SSD/Office 2019/Windows 10/Gray/1.9 Kg), GU502LU-AZ108TS']"
      ]
     },
     "execution_count": 347,
     "metadata": {},
     "output_type": "execute_result"
    }
   ],
   "source": [
    "laptop_titles=[]\n",
    "for i in title_tags:\n",
    "    if i.text is None:\n",
    "        laptop_titles.append(\"Not\")\n",
    "    else:\n",
    "        laptop_titles.append(i.text)\n",
    "        \n",
    "        \n",
    "laptop_titles        "
   ]
  },
  {
   "cell_type": "code",
   "execution_count": 350,
   "metadata": {},
   "outputs": [
    {
     "data": {
      "text/plain": [
       "[<selenium.webdriver.remote.webelement.WebElement (session=\"22a56ba0b7a1214dc21ba9f501d9073a\", element=\"7220f1b4-54bb-4da0-b4c8-1a3c2bee31f3\")>,\n",
       " <selenium.webdriver.remote.webelement.WebElement (session=\"22a56ba0b7a1214dc21ba9f501d9073a\", element=\"c8686e70-7931-4731-b7b2-1acba82e834f\")>,\n",
       " <selenium.webdriver.remote.webelement.WebElement (session=\"22a56ba0b7a1214dc21ba9f501d9073a\", element=\"b45af3ef-dfc7-488a-a22c-a3059e562d23\")>,\n",
       " <selenium.webdriver.remote.webelement.WebElement (session=\"22a56ba0b7a1214dc21ba9f501d9073a\", element=\"6d367a1d-9e38-4af0-bafe-32eac303157d\")>,\n",
       " <selenium.webdriver.remote.webelement.WebElement (session=\"22a56ba0b7a1214dc21ba9f501d9073a\", element=\"fac207fd-7dee-464e-bcfc-87d4e37ede2b\")>,\n",
       " <selenium.webdriver.remote.webelement.WebElement (session=\"22a56ba0b7a1214dc21ba9f501d9073a\", element=\"eb3b2981-cf04-4f24-8c0e-1c472b840798\")>,\n",
       " <selenium.webdriver.remote.webelement.WebElement (session=\"22a56ba0b7a1214dc21ba9f501d9073a\", element=\"d7185e3a-d3d1-4f6a-a018-60d3dab9b8e4\")>,\n",
       " <selenium.webdriver.remote.webelement.WebElement (session=\"22a56ba0b7a1214dc21ba9f501d9073a\", element=\"e65a0682-f8c4-4843-b2d6-ac86fdf8c299\")>,\n",
       " <selenium.webdriver.remote.webelement.WebElement (session=\"22a56ba0b7a1214dc21ba9f501d9073a\", element=\"81b27692-1fbd-4191-af76-1ae8270ba63d\")>,\n",
       " <selenium.webdriver.remote.webelement.WebElement (session=\"22a56ba0b7a1214dc21ba9f501d9073a\", element=\"b800d85b-6e40-4fa3-99fc-0716fffa223f\")>,\n",
       " <selenium.webdriver.remote.webelement.WebElement (session=\"22a56ba0b7a1214dc21ba9f501d9073a\", element=\"1443ccbc-3eb9-4d1f-89d2-3205b77defd8\")>,\n",
       " <selenium.webdriver.remote.webelement.WebElement (session=\"22a56ba0b7a1214dc21ba9f501d9073a\", element=\"4bbd6783-5632-4825-ad2f-ea70b6c25a51\")>,\n",
       " <selenium.webdriver.remote.webelement.WebElement (session=\"22a56ba0b7a1214dc21ba9f501d9073a\", element=\"87aae5a6-7107-4c25-898d-a0825e376989\")>,\n",
       " <selenium.webdriver.remote.webelement.WebElement (session=\"22a56ba0b7a1214dc21ba9f501d9073a\", element=\"28fb63b6-fb0f-4c69-a30b-60d1a6082aff\")>,\n",
       " <selenium.webdriver.remote.webelement.WebElement (session=\"22a56ba0b7a1214dc21ba9f501d9073a\", element=\"c62eafb1-c4e0-42e0-8593-1b6a38eb0c15\")>,\n",
       " <selenium.webdriver.remote.webelement.WebElement (session=\"22a56ba0b7a1214dc21ba9f501d9073a\", element=\"64e9aa8f-61ab-4b61-a672-38cfba23b1cf\")>,\n",
       " <selenium.webdriver.remote.webelement.WebElement (session=\"22a56ba0b7a1214dc21ba9f501d9073a\", element=\"fa896983-6c5a-4c50-b084-540485715336\")>,\n",
       " <selenium.webdriver.remote.webelement.WebElement (session=\"22a56ba0b7a1214dc21ba9f501d9073a\", element=\"9dbbe84d-943b-4cbe-8e63-46817601fb69\")>,\n",
       " <selenium.webdriver.remote.webelement.WebElement (session=\"22a56ba0b7a1214dc21ba9f501d9073a\", element=\"b54bd837-fc51-4a73-babb-d4926456ca9b\")>,\n",
       " <selenium.webdriver.remote.webelement.WebElement (session=\"22a56ba0b7a1214dc21ba9f501d9073a\", element=\"bed1b706-d59e-4694-9f10-3def3e4b6beb\")>,\n",
       " <selenium.webdriver.remote.webelement.WebElement (session=\"22a56ba0b7a1214dc21ba9f501d9073a\", element=\"7eeb9043-c14f-4444-b4f5-e06b8e2683c8\")>,\n",
       " <selenium.webdriver.remote.webelement.WebElement (session=\"22a56ba0b7a1214dc21ba9f501d9073a\", element=\"df2413de-6a6c-4dec-97b7-fbb42cb3081b\")>,\n",
       " <selenium.webdriver.remote.webelement.WebElement (session=\"22a56ba0b7a1214dc21ba9f501d9073a\", element=\"a274a470-ed77-4a2b-bd43-3d12ca4cd434\")>]"
      ]
     },
     "execution_count": 350,
     "metadata": {},
     "output_type": "execute_result"
    }
   ],
   "source": [
    "laptop_price=driver.find_elements_by_xpath(\"//span[@class='a-price']\")\n",
    "laptop_price"
   ]
  },
  {
   "cell_type": "code",
   "execution_count": 351,
   "metadata": {},
   "outputs": [
    {
     "data": {
      "text/plain": [
       "['₹54,999',\n",
       " '₹84,990',\n",
       " '₹89,000',\n",
       " '₹86,990',\n",
       " '₹26,990',\n",
       " '₹2,69,990',\n",
       " '₹97,990',\n",
       " '₹78,990',\n",
       " '₹77,990',\n",
       " '₹51,999',\n",
       " '₹70,990',\n",
       " '₹99,990',\n",
       " '₹2,49,990',\n",
       " '₹1,74,990',\n",
       " '₹84,999',\n",
       " '₹1,46,192',\n",
       " '₹77,990',\n",
       " '₹50,499',\n",
       " '₹1,09,990',\n",
       " '₹86,290',\n",
       " '₹1,39,990',\n",
       " '₹90,990',\n",
       " '₹1,02,100']"
      ]
     },
     "execution_count": 351,
     "metadata": {},
     "output_type": "execute_result"
    }
   ],
   "source": [
    "prices=[]\n",
    "for i in laptop_price:\n",
    "    if i.text is None:\n",
    "        prices.append(\"Not\")\n",
    "    else:\n",
    "        prices.append(i.text)\n",
    "        \n",
    "        \n",
    "prices"
   ]
  },
  {
   "cell_type": "code",
   "execution_count": 384,
   "metadata": {},
   "outputs": [],
   "source": [
    "urls=[]\n",
    "for i in driver.find_elements_by_xpath(\"//a[@class='a-size-base a-link-normal a-text-normal']\"):\n",
    "    urls.append(i.get_attribute(\"href\"))"
   ]
  },
  {
   "cell_type": "code",
   "execution_count": 385,
   "metadata": {},
   "outputs": [
    {
     "data": {
      "text/plain": [
       "['4.4 out of 5',\n",
       " '4.6 out of 5',\n",
       " '4.7 out of 5',\n",
       " '4.2 out of 5',\n",
       " '3.1 out of 5',\n",
       " '3.8 out of 5',\n",
       " '4.2 out of 5',\n",
       " '3.8 out of 5',\n",
       " '4.3 out of 5',\n",
       " '-']"
      ]
     },
     "execution_count": 385,
     "metadata": {},
     "output_type": "execute_result"
    }
   ],
   "source": [
    "rating=[]\n",
    "for i in urls[:10]:\n",
    "    driver.get(i)\n",
    "    time.sleep(3)\n",
    "    \n",
    "    try:\n",
    "        laptop_ratings=driver.find_element_by_xpath(\"//span[@class='a-size-medium a-color-base']\")\n",
    "        rating.append(laptop_ratings.text)\n",
    "    except NoSuchElementException:\n",
    "        rating.append('-')\n",
    "        \n",
    "        \n",
    "rating        "
   ]
  },
  {
   "cell_type": "code",
   "execution_count": 386,
   "metadata": {},
   "outputs": [],
   "source": [
    "laptop=pd.DataFrame({})\n",
    "laptop['Title']=laptop_titles[:10]\n",
    "laptop['Price']=prices[:10]\n",
    "laptop['Rating']=rating[:10]"
   ]
  },
  {
   "cell_type": "code",
   "execution_count": 387,
   "metadata": {},
   "outputs": [
    {
     "data": {
      "text/html": [
       "<div>\n",
       "<style scoped>\n",
       "    .dataframe tbody tr th:only-of-type {\n",
       "        vertical-align: middle;\n",
       "    }\n",
       "\n",
       "    .dataframe tbody tr th {\n",
       "        vertical-align: top;\n",
       "    }\n",
       "\n",
       "    .dataframe thead th {\n",
       "        text-align: right;\n",
       "    }\n",
       "</style>\n",
       "<table border=\"1\" class=\"dataframe\">\n",
       "  <thead>\n",
       "    <tr style=\"text-align: right;\">\n",
       "      <th></th>\n",
       "      <th>Title</th>\n",
       "      <th>Price</th>\n",
       "      <th>Rating</th>\n",
       "    </tr>\n",
       "  </thead>\n",
       "  <tbody>\n",
       "    <tr>\n",
       "      <th>0</th>\n",
       "      <td>Mi Notebook Horizon Edition 14 Intel Core i5-1...</td>\n",
       "      <td>₹54,999</td>\n",
       "      <td>4.4 out of 5</td>\n",
       "    </tr>\n",
       "    <tr>\n",
       "      <th>1</th>\n",
       "      <td>HP Pavilion (2021) Thin &amp; Light 11th Gen Core ...</td>\n",
       "      <td>₹84,990</td>\n",
       "      <td>4.6 out of 5</td>\n",
       "    </tr>\n",
       "    <tr>\n",
       "      <th>2</th>\n",
       "      <td>HP 14 Thin &amp; Light 14\" (35.56cms) FHD Laptop (...</td>\n",
       "      <td>₹89,000</td>\n",
       "      <td>4.7 out of 5</td>\n",
       "    </tr>\n",
       "    <tr>\n",
       "      <th>3</th>\n",
       "      <td>HP Pavilion Gaming 10th Gen Intel Core i7 Proc...</td>\n",
       "      <td>₹86,990</td>\n",
       "      <td>4.2 out of 5</td>\n",
       "    </tr>\n",
       "    <tr>\n",
       "      <th>4</th>\n",
       "      <td>Life Digital Laptop 15.6-inch (39.62 cms) (Int...</td>\n",
       "      <td>₹26,990</td>\n",
       "      <td>3.1 out of 5</td>\n",
       "    </tr>\n",
       "    <tr>\n",
       "      <th>5</th>\n",
       "      <td>ASUS ROG Zephyrus Duo 15, 15.6\" 4K UHD, Intel ...</td>\n",
       "      <td>₹2,69,990</td>\n",
       "      <td>3.8 out of 5</td>\n",
       "    </tr>\n",
       "    <tr>\n",
       "      <th>6</th>\n",
       "      <td>Lenovo Yoga 7 11th Gen Intel Core i7 14\" (35.5...</td>\n",
       "      <td>₹97,990</td>\n",
       "      <td>4.2 out of 5</td>\n",
       "    </tr>\n",
       "    <tr>\n",
       "      <th>7</th>\n",
       "      <td>HP Pavilion x360 (2021) 14\" (35.56cms) FHD Tou...</td>\n",
       "      <td>₹78,990</td>\n",
       "      <td>3.8 out of 5</td>\n",
       "    </tr>\n",
       "    <tr>\n",
       "      <th>8</th>\n",
       "      <td>Lenovo IdeaPad Gaming 3 10th Gen Intel Core i7...</td>\n",
       "      <td>₹77,990</td>\n",
       "      <td>4.3 out of 5</td>\n",
       "    </tr>\n",
       "    <tr>\n",
       "      <th>9</th>\n",
       "      <td>(Renewed) Lenovo T430 14-inch Laptop (Core i7/...</td>\n",
       "      <td>₹51,999</td>\n",
       "      <td>-</td>\n",
       "    </tr>\n",
       "  </tbody>\n",
       "</table>\n",
       "</div>"
      ],
      "text/plain": [
       "                                               Title      Price        Rating\n",
       "0  Mi Notebook Horizon Edition 14 Intel Core i5-1...    ₹54,999  4.4 out of 5\n",
       "1  HP Pavilion (2021) Thin & Light 11th Gen Core ...    ₹84,990  4.6 out of 5\n",
       "2  HP 14 Thin & Light 14\" (35.56cms) FHD Laptop (...    ₹89,000  4.7 out of 5\n",
       "3  HP Pavilion Gaming 10th Gen Intel Core i7 Proc...    ₹86,990  4.2 out of 5\n",
       "4  Life Digital Laptop 15.6-inch (39.62 cms) (Int...    ₹26,990  3.1 out of 5\n",
       "5  ASUS ROG Zephyrus Duo 15, 15.6\" 4K UHD, Intel ...  ₹2,69,990  3.8 out of 5\n",
       "6  Lenovo Yoga 7 11th Gen Intel Core i7 14\" (35.5...    ₹97,990  4.2 out of 5\n",
       "7  HP Pavilion x360 (2021) 14\" (35.56cms) FHD Tou...    ₹78,990  3.8 out of 5\n",
       "8  Lenovo IdeaPad Gaming 3 10th Gen Intel Core i7...    ₹77,990  4.3 out of 5\n",
       "9  (Renewed) Lenovo T430 14-inch Laptop (Core i7/...    ₹51,999             -"
      ]
     },
     "execution_count": 387,
     "metadata": {},
     "output_type": "execute_result"
    }
   ],
   "source": [
    "laptop"
   ]
  },
  {
   "cell_type": "code",
   "execution_count": null,
   "metadata": {},
   "outputs": [],
   "source": []
  },
  {
   "cell_type": "code",
   "execution_count": null,
   "metadata": {},
   "outputs": [],
   "source": []
  },
  {
   "cell_type": "code",
   "execution_count": null,
   "metadata": {},
   "outputs": [],
   "source": []
  },
  {
   "cell_type": "code",
   "execution_count": null,
   "metadata": {},
   "outputs": [],
   "source": []
  },
  {
   "cell_type": "code",
   "execution_count": null,
   "metadata": {},
   "outputs": [],
   "source": []
  },
  {
   "cell_type": "code",
   "execution_count": null,
   "metadata": {},
   "outputs": [],
   "source": []
  }
 ],
 "metadata": {
  "kernelspec": {
   "display_name": "Python 3",
   "language": "python",
   "name": "python3"
  },
  "language_info": {
   "codemirror_mode": {
    "name": "ipython",
    "version": 3
   },
   "file_extension": ".py",
   "mimetype": "text/x-python",
   "name": "python",
   "nbconvert_exporter": "python",
   "pygments_lexer": "ipython3",
   "version": "3.8.8"
  }
 },
 "nbformat": 4,
 "nbformat_minor": 4
}
